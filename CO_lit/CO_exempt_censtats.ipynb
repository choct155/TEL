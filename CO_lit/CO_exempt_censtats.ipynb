{
 "metadata": {
  "name": ""
 },
 "nbformat": 3,
 "nbformat_minor": 0,
 "worksheets": [
  {
   "cells": [
    {
     "cell_type": "heading",
     "level": 1,
     "metadata": {},
     "source": [
      "Predicting Ballot Initiatives with [CenStats](http://censtats.census.gov/usa/usa.shtml) Data"
     ]
    },
    {
     "cell_type": "markdown",
     "metadata": {},
     "source": [
      "Utilizing the following scripts, we captured a long vector of CenStats variables for each county:\n",
      "\n",
      "+ CenStatsAcquire.py\n",
      "+ CenStatsStandardize.py\n",
      "+ CenStatSub.py\n",
      "+ CenStatParse.py\n",
      "+ CenStatProcess.py\n",
      "\n",
      "Now we will take these variables and dump them in a [regularized regression](http://www.datarobot.com/blog/regularized-linear-regression-with-scikit-learn/) estimator to determine the most viable predictors of ballot initiative outcomes in Colorado.  The purpose of this Notebook is essentially the same as *CO_Ballot_ModSelect.ipynb*, except that we are now using a much larger collection of variables.  Furthermore, the variables come from the CenStats data as opposed to the comparatively narrow information collected by the Colorado Division of Local Affairs.  \n",
      "\n",
      "Note, however, that the CenStats data are not observed every year.  Consequently, in processing this data, we had to provide a rationale for imputing data where possible.  In general, the philosophy has been to assume no additional information or functional form than that provided with observable informaton.  We interpreted this to mean that we have no basis for assuming anything other the uniform change between observed variables (linear interpolation) and uniform average change over all observed data points for time periods outside of the interpolation support for a given variable."
     ]
    },
    {
     "cell_type": "code",
     "collapsed": false,
     "input": [
      "import numpy as np\n",
      "import pandas as pd\n",
      "from pandas import Series, DataFrame\n",
      "from sklearn import linear_model, datasets\n",
      "from sklearn.cross_validation import train_test_split, cross_val_score\n",
      "import statsmodels.formula.api as smf\n",
      "import statsmodels.api as sm\n",
      "import seaborn as sb\n",
      "import inspect\n",
      "from scipy.stats import scoreatpercentile\n",
      "from sklearn import metrics"
     ],
     "language": "python",
     "metadata": {},
     "outputs": [
      {
       "output_type": "stream",
       "stream": "stderr",
       "text": [
        "/home/choct155/analysis/Anaconda/lib/python2.7/site-packages/pytz/__init__.py:29: UserWarning: Module argparse was already imported from /home/choct155/analysis/Anaconda/lib/python2.7/argparse.pyc, but /home/choct155/analysis/Anaconda/lib/python2.7/site-packages is being added to sys.path\n",
        "  from pkg_resources import resource_stream\n"
       ]
      }
     ],
     "prompt_number": 1
    },
    {
     "cell_type": "heading",
     "level": 2,
     "metadata": {},
     "source": [
      "Data Input"
     ]
    },
    {
     "cell_type": "markdown",
     "metadata": {},
     "source": [
      "We will capture the vote result data first.  We need only those variables relevant for this task, identification (`year and cty`) and vote tally variables (`results`).  We will also pull county names (`cty`) to construct a dictionary that allows us to easily identify the counties in question.  "
     ]
    },
    {
     "cell_type": "code",
     "collapsed": false,
     "input": [
      "#Establish data locations\n",
      "vt_dir='/home/choct155/dissertation/TEL/CO_lit/'\n",
      "cs_dir='/home/choct155/dissertation/MiscData/Census/CenStats/'\n",
      "\n",
      "#Read in vote data\n",
      "votes_tmp=pd.read_csv(vt_dir+'clean_votes_cov.csv',usecols=['cty','stcou','year','results'])\n",
      "\n",
      "#Generate a county name map\n",
      "cty_map=dict(zip(votes_tmp['stcou'],votes_tmp['cty']))\n",
      "\n",
      "print 'Number of counties:',len(cty_map.keys())\n",
      "\n",
      "#Drop the county name variable\n",
      "votes_tmp.pop('cty')\n",
      "\n",
      "#Convert to float\n",
      "votes=votes_tmp.astype(float)\n",
      "\n",
      "#Set index\n",
      "votes.set_index(['stcou','year'],inplace=True)\n",
      "\n",
      "#Sort index\n",
      "votes.sortlevel(0,inplace=True)\n",
      "\n",
      "votes.head()"
     ],
     "language": "python",
     "metadata": {},
     "outputs": [
      {
       "output_type": "stream",
       "stream": "stdout",
       "text": [
        "Number of counties: 64\n"
       ]
      },
      {
       "html": [
        "<div style=\"max-height:1000px;max-width:1500px;overflow:auto;\">\n",
        "<table border=\"1\" class=\"dataframe\">\n",
        "  <thead>\n",
        "    <tr style=\"text-align: right;\">\n",
        "      <th></th>\n",
        "      <th></th>\n",
        "      <th>results</th>\n",
        "    </tr>\n",
        "    <tr>\n",
        "      <th>stcou</th>\n",
        "      <th>year</th>\n",
        "      <th></th>\n",
        "    </tr>\n",
        "  </thead>\n",
        "  <tbody>\n",
        "    <tr>\n",
        "      <th rowspan=\"5\" valign=\"top\">8001</th>\n",
        "      <th>1993</th>\n",
        "      <td> 60</td>\n",
        "    </tr>\n",
        "    <tr>\n",
        "      <th>1997</th>\n",
        "      <td> 39</td>\n",
        "    </tr>\n",
        "    <tr>\n",
        "      <th>1997</th>\n",
        "      <td> 27</td>\n",
        "    </tr>\n",
        "    <tr>\n",
        "      <th>1997</th>\n",
        "      <td> 29</td>\n",
        "    </tr>\n",
        "    <tr>\n",
        "      <th>1997</th>\n",
        "      <td> 64</td>\n",
        "    </tr>\n",
        "  </tbody>\n",
        "</table>\n",
        "<p>5 rows \u00d7 1 columns</p>\n",
        "</div>"
       ],
       "metadata": {},
       "output_type": "pyout",
       "prompt_number": 2,
       "text": [
        "            results\n",
        "stcou year         \n",
        "8001  1993       60\n",
        "      1997       39\n",
        "      1997       27\n",
        "      1997       29\n",
        "      1997       64\n",
        "\n",
        "[5 rows x 1 columns]"
       ]
      }
     ],
     "prompt_number": 2
    },
    {
     "cell_type": "code",
     "collapsed": false,
     "input": [
      "print 'Number of Votes:',len(votes)\n",
      "print 'Number of Votes Passed:',len(votes[votes['results']>=50]),len(votes[votes['results']>=50])/float(len(votes))\n",
      "print 'Number of Counties:',len(set(votes.index.get_level_values(level='stcou')))\n",
      "\n",
      "#Generate plot object\n",
      "fig,ax=plt.subplots(figsize=(12,5))\n",
      "\n",
      "#Plot distribution\n",
      "ax.hist(votes['results'],bins=40,color='r',alpha=.7)\n",
      "\n",
      "#Fix background\n",
      "ax.patch.set_facecolor('w')\n",
      "\n",
      "#Set labels\n",
      "ax.set_title('Distribution of Results (% of Yes Votes)')\n",
      "ax.set_ylabel('Count')\n",
      "\n",
      "#Add zero line\n",
      "ax.axvline(50,0,60,lw=2,c='k',linestyle='--')\n",
      "\n",
      "plt.savefig('results_dist.png',dpi=500)"
     ],
     "language": "python",
     "metadata": {},
     "outputs": [
      {
       "output_type": "stream",
       "stream": "stdout",
       "text": [
        "Number of Votes: 527\n",
        "Number of Votes Passed: 305 0.578747628083\n",
        "Number of Counties: 64\n"
       ]
      },
      {
       "output_type": "stream",
       "stream": "stderr",
       "text": [
        "/home/choct155/analysis/Anaconda/lib/python2.7/site-packages/matplotlib/font_manager.py:1236: UserWarning: findfont: Font family ['Arial'] not found. Falling back to Bitstream Vera Sans\n",
        "  (prop.get_family(), self.defaultFamily[fontext]))\n"
       ]
      },
      {
       "metadata": {},
       "output_type": "display_data",
       "png": "[encoded data removed]",
       "text": [
        "<matplotlib.figure.Figure at 0x7fead8192490>"
       ]
      }
     ],
     "prompt_number": 3
    },
    {
     "cell_type": "code",
     "collapsed": false,
     "input": [
      "vote_cnt_tmp=votes.groupby(level='stcou').count()['results'].order(ascending=False)\n",
      "vote_cnt=vote_cnt_tmp.rename(index=cty_map)"
     ],
     "language": "python",
     "metadata": {},
     "outputs": [
      {
       "output_type": "stream",
       "stream": "stderr",
       "text": [
        "/home/choct155/analysis/Anaconda/lib/python2.7/site-packages/pandas/core/generic.py:604: DeprecationWarning: numpy boolean negative (the unary `-` operator) is deprecated, use the bitwise_xor (the `^` operator) or the logical_xor function instead.\n",
        "  arr = operator.neg(_values_from_object(self))\n",
        "/home/choct155/analysis/Anaconda/lib/python2.7/site-packages/pandas/core/generic.py:604: DeprecationWarning: numpy boolean negative (the unary `-` operator) is deprecated, use the bitwise_xor (the `^` operator) or the logical_xor function instead.\n",
        "  arr = operator.neg(_values_from_object(self))\n",
        "/home/choct155/analysis/Anaconda/lib/python2.7/site-packages/pandas/core/generic.py:604: DeprecationWarning: numpy boolean negative (the unary `-` operator) is deprecated, use the bitwise_xor (the `^` operator) or the logical_xor function instead.\n",
        "  arr = operator.neg(_values_from_object(self))\n",
        "/home/choct155/analysis/Anaconda/lib/python2.7/site-packages/pandas/core/generic.py:604: DeprecationWarning: numpy boolean negative (the unary `-` operator) is deprecated, use the bitwise_xor (the `^` operator) or the logical_xor function instead.\n",
        "  arr = operator.neg(_values_from_object(self))\n",
        "/home/choct155/analysis/Anaconda/lib/python2.7/site-packages/pandas/core/generic.py:604: DeprecationWarning: numpy boolean negative (the unary `-` operator) is deprecated, use the bitwise_xor (the `^` operator) or the logical_xor function instead.\n",
        "  arr = operator.neg(_values_from_object(self))\n",
        "/home/choct155/analysis/Anaconda/lib/python2.7/site-packages/pandas/core/generic.py:604: DeprecationWarning: numpy boolean negative (the unary `-` operator) is deprecated, use the bitwise_xor (the `^` operator) or the logical_xor function instead.\n",
        "  arr = operator.neg(_values_from_object(self))\n",
        "/home/choct155/analysis/Anaconda/lib/python2.7/site-packages/pandas/core/generic.py:604: DeprecationWarning: numpy boolean negative (the unary `-` operator) is deprecated, use the bitwise_xor (the `^` operator) or the logical_xor function instead.\n",
        "  arr = operator.neg(_values_from_object(self))\n",
        "/home/choct155/analysis/Anaconda/lib/python2.7/site-packages/pandas/core/generic.py:604: DeprecationWarning: numpy boolean negative (the unary `-` operator) is deprecated, use the bitwise_xor (the `^` operator) or the logical_xor function instead.\n",
        "  arr = operator.neg(_values_from_object(self))\n",
        "/home/choct155/analysis/Anaconda/lib/python2.7/site-packages/pandas/core/generic.py:604: DeprecationWarning: numpy boolean negative (the unary `-` operator) is deprecated, use the bitwise_xor (the `^` operator) or the logical_xor function instead.\n",
        "  arr = operator.neg(_values_from_object(self))\n",
        "/home/choct155/analysis/Anaconda/lib/python2.7/site-packages/pandas/core/generic.py:604: DeprecationWarning: numpy boolean negative (the unary `-` operator) is deprecated, use the bitwise_xor (the `^` operator) or the logical_xor function instead.\n",
        "  arr = operator.neg(_values_from_object(self))\n",
        "/home/choct155/analysis/Anaconda/lib/python2.7/site-packages/pandas/core/generic.py:604: DeprecationWarning: numpy boolean negative (the unary `-` operator) is deprecated, use the bitwise_xor (the `^` operator) or the logical_xor function instead.\n",
        "  arr = operator.neg(_values_from_object(self))\n",
        "/home/choct155/analysis/Anaconda/lib/python2.7/site-packages/pandas/core/generic.py:604: DeprecationWarning: numpy boolean negative (the unary `-` operator) is deprecated, use the bitwise_xor (the `^` operator) or the logical_xor function instead.\n",
        "  arr = operator.neg(_values_from_object(self))\n",
        "/home/choct155/analysis/Anaconda/lib/python2.7/site-packages/pandas/core/generic.py:604: DeprecationWarning: numpy boolean negative (the unary `-` operator) is deprecated, use the bitwise_xor (the `^` operator) or the logical_xor function instead.\n",
        "  arr = operator.neg(_values_from_object(self))\n",
        "/home/choct155/analysis/Anaconda/lib/python2.7/site-packages/pandas/core/generic.py:604: DeprecationWarning: numpy boolean negative (the unary `-` operator) is deprecated, use the bitwise_xor (the `^` operator) or the logical_xor function instead.\n",
        "  arr = operator.neg(_values_from_object(self))\n",
        "/home/choct155/analysis/Anaconda/lib/python2.7/site-packages/pandas/core/generic.py:604: DeprecationWarning: numpy boolean negative (the unary `-` operator) is deprecated, use the bitwise_xor (the `^` operator) or the logical_xor function instead.\n",
        "  arr = operator.neg(_values_from_object(self))\n",
        "/home/choct155/analysis/Anaconda/lib/python2.7/site-packages/pandas/core/generic.py:604: DeprecationWarning: numpy boolean negative (the unary `-` operator) is deprecated, use the bitwise_xor (the `^` operator) or the logical_xor function instead.\n",
        "  arr = operator.neg(_values_from_object(self))\n",
        "/home/choct155/analysis/Anaconda/lib/python2.7/site-packages/pandas/core/generic.py:604: DeprecationWarning: numpy boolean negative (the unary `-` operator) is deprecated, use the bitwise_xor (the `^` operator) or the logical_xor function instead.\n",
        "  arr = operator.neg(_values_from_object(self))\n",
        "/home/choct155/analysis/Anaconda/lib/python2.7/site-packages/pandas/core/generic.py:604: DeprecationWarning: numpy boolean negative (the unary `-` operator) is deprecated, use the bitwise_xor (the `^` operator) or the logical_xor function instead.\n",
        "  arr = operator.neg(_values_from_object(self))\n",
        "/home/choct155/analysis/Anaconda/lib/python2.7/site-packages/pandas/core/generic.py:604: DeprecationWarning: numpy boolean negative (the unary `-` operator) is deprecated, use the bitwise_xor (the `^` operator) or the logical_xor function instead.\n",
        "  arr = operator.neg(_values_from_object(self))\n",
        "/home/choct155/analysis/Anaconda/lib/python2.7/site-packages/pandas/core/generic.py:604: DeprecationWarning: numpy boolean negative (the unary `-` operator) is deprecated, use the bitwise_xor (the `^` operator) or the logical_xor function instead.\n",
        "  arr = operator.neg(_values_from_object(self))\n",
        "/home/choct155/analysis/Anaconda/lib/python2.7/site-packages/pandas/core/generic.py:604: DeprecationWarning: numpy boolean negative (the unary `-` operator) is deprecated, use the bitwise_xor (the `^` operator) or the logical_xor function instead.\n",
        "  arr = operator.neg(_values_from_object(self))\n",
        "/home/choct155/analysis/Anaconda/lib/python2.7/site-packages/pandas/core/generic.py:604: DeprecationWarning: numpy boolean negative (the unary `-` operator) is deprecated, use the bitwise_xor (the `^` operator) or the logical_xor function instead.\n",
        "  arr = operator.neg(_values_from_object(self))\n",
        "/home/choct155/analysis/Anaconda/lib/python2.7/site-packages/pandas/core/generic.py:604: DeprecationWarning: numpy boolean negative (the unary `-` operator) is deprecated, use the bitwise_xor (the `^` operator) or the logical_xor function instead.\n",
        "  arr = operator.neg(_values_from_object(self))\n",
        "/home/choct155/analysis/Anaconda/lib/python2.7/site-packages/pandas/core/generic.py:604: DeprecationWarning: numpy boolean negative (the unary `-` operator) is deprecated, use the bitwise_xor (the `^` operator) or the logical_xor function instead.\n",
        "  arr = operator.neg(_values_from_object(self))\n",
        "/home/choct155/analysis/Anaconda/lib/python2.7/site-packages/pandas/core/generic.py:604: DeprecationWarning: numpy boolean negative (the unary `-` operator) is deprecated, use the bitwise_xor (the `^` operator) or the logical_xor function instead.\n",
        "  arr = operator.neg(_values_from_object(self))\n",
        "/home/choct155/analysis/Anaconda/lib/python2.7/site-packages/pandas/core/generic.py:604: DeprecationWarning: numpy boolean negative (the unary `-` operator) is deprecated, use the bitwise_xor (the `^` operator) or the logical_xor function instead.\n",
        "  arr = operator.neg(_values_from_object(self))\n",
        "/home/choct155/analysis/Anaconda/lib/python2.7/site-packages/pandas/core/generic.py:604: DeprecationWarning: numpy boolean negative (the unary `-` operator) is deprecated, use the bitwise_xor (the `^` operator) or the logical_xor function instead.\n",
        "  arr = operator.neg(_values_from_object(self))\n",
        "/home/choct155/analysis/Anaconda/lib/python2.7/site-packages/pandas/core/generic.py:604: DeprecationWarning: numpy boolean negative (the unary `-` operator) is deprecated, use the bitwise_xor (the `^` operator) or the logical_xor function instead.\n",
        "  arr = operator.neg(_values_from_object(self))\n",
        "/home/choct155/analysis/Anaconda/lib/python2.7/site-packages/pandas/core/generic.py:604: DeprecationWarning: numpy boolean negative (the unary `-` operator) is deprecated, use the bitwise_xor (the `^` operator) or the logical_xor function instead.\n",
        "  arr = operator.neg(_values_from_object(self))\n",
        "/home/choct155/analysis/Anaconda/lib/python2.7/site-packages/pandas/core/generic.py:604: DeprecationWarning: numpy boolean negative (the unary `-` operator) is deprecated, use the bitwise_xor (the `^` operator) or the logical_xor function instead.\n",
        "  arr = operator.neg(_values_from_object(self))\n",
        "/home/choct155/analysis/Anaconda/lib/python2.7/site-packages/pandas/core/generic.py:604: DeprecationWarning: numpy boolean negative (the unary `-` operator) is deprecated, use the bitwise_xor (the `^` operator) or the logical_xor function instead.\n",
        "  arr = operator.neg(_values_from_object(self))\n",
        "/home/choct155/analysis/Anaconda/lib/python2.7/site-packages/pandas/core/generic.py:604: DeprecationWarning: numpy boolean negative (the unary `-` operator) is deprecated, use the bitwise_xor (the `^` operator) or the logical_xor function instead.\n",
        "  arr = operator.neg(_values_from_object(self))\n",
        "/home/choct155/analysis/Anaconda/lib/python2.7/site-packages/pandas/core/generic.py:604: DeprecationWarning: numpy boolean negative (the unary `-` operator) is deprecated, use the bitwise_xor (the `^` operator) or the logical_xor function instead.\n",
        "  arr = operator.neg(_values_from_object(self))\n",
        "/home/choct155/analysis/Anaconda/lib/python2.7/site-packages/pandas/core/generic.py:604: DeprecationWarning: numpy boolean negative (the unary `-` operator) is deprecated, use the bitwise_xor (the `^` operator) or the logical_xor function instead.\n",
        "  arr = operator.neg(_values_from_object(self))\n",
        "/home/choct155/analysis/Anaconda/lib/python2.7/site-packages/pandas/core/generic.py:604: DeprecationWarning: numpy boolean negative (the unary `-` operator) is deprecated, use the bitwise_xor (the `^` operator) or the logical_xor function instead.\n",
        "  arr = operator.neg(_values_from_object(self))\n",
        "/home/choct155/analysis/Anaconda/lib/python2.7/site-packages/pandas/core/generic.py:604: DeprecationWarning: numpy boolean negative (the unary `-` operator) is deprecated, use the bitwise_xor (the `^` operator) or the logical_xor function instead.\n",
        "  arr = operator.neg(_values_from_object(self))\n",
        "/home/choct155/analysis/Anaconda/lib/python2.7/site-packages/pandas/core/generic.py:604: DeprecationWarning: numpy boolean negative (the unary `-` operator) is deprecated, use the bitwise_xor (the `^` operator) or the logical_xor function instead.\n",
        "  arr = operator.neg(_values_from_object(self))\n",
        "/home/choct155/analysis/Anaconda/lib/python2.7/site-packages/pandas/core/generic.py:604: DeprecationWarning: numpy boolean negative (the unary `-` operator) is deprecated, use the bitwise_xor (the `^` operator) or the logical_xor function instead.\n",
        "  arr = operator.neg(_values_from_object(self))\n",
        "/home/choct155/analysis/Anaconda/lib/python2.7/site-packages/pandas/core/generic.py:604: DeprecationWarning: numpy boolean negative (the unary `-` operator) is deprecated, use the bitwise_xor (the `^` operator) or the logical_xor function instead.\n",
        "  arr = operator.neg(_values_from_object(self))\n",
        "/home/choct155/analysis/Anaconda/lib/python2.7/site-packages/pandas/core/generic.py:604: DeprecationWarning: numpy boolean negative (the unary `-` operator) is deprecated, use the bitwise_xor (the `^` operator) or the logical_xor function instead.\n",
        "  arr = operator.neg(_values_from_object(self))\n",
        "/home/choct155/analysis/Anaconda/lib/python2.7/site-packages/pandas/core/generic.py:604: DeprecationWarning: numpy boolean negative (the unary `-` operator) is deprecated, use the bitwise_xor (the `^` operator) or the logical_xor function instead.\n",
        "  arr = operator.neg(_values_from_object(self))\n",
        "/home/choct155/analysis/Anaconda/lib/python2.7/site-packages/pandas/core/generic.py:604: DeprecationWarning: numpy boolean negative (the unary `-` operator) is deprecated, use the bitwise_xor (the `^` operator) or the logical_xor function instead.\n",
        "  arr = operator.neg(_values_from_object(self))\n",
        "/home/choct155/analysis/Anaconda/lib/python2.7/site-packages/pandas/core/generic.py:604: DeprecationWarning: numpy boolean negative (the unary `-` operator) is deprecated, use the bitwise_xor (the `^` operator) or the logical_xor function instead.\n",
        "  arr = operator.neg(_values_from_object(self))\n",
        "/home/choct155/analysis/Anaconda/lib/python2.7/site-packages/pandas/core/generic.py:604: DeprecationWarning: numpy boolean negative (the unary `-` operator) is deprecated, use the bitwise_xor (the `^` operator) or the logical_xor function instead.\n",
        "  arr = operator.neg(_values_from_object(self))\n",
        "/home/choct155/analysis/Anaconda/lib/python2.7/site-packages/pandas/core/generic.py:604: DeprecationWarning: numpy boolean negative (the unary `-` operator) is deprecated, use the bitwise_xor (the `^` operator) or the logical_xor function instead.\n",
        "  arr = operator.neg(_values_from_object(self))\n",
        "/home/choct155/analysis/Anaconda/lib/python2.7/site-packages/pandas/core/generic.py:604: DeprecationWarning: numpy boolean negative (the unary `-` operator) is deprecated, use the bitwise_xor (the `^` operator) or the logical_xor function instead.\n",
        "  arr = operator.neg(_values_from_object(self))\n",
        "/home/choct155/analysis/Anaconda/lib/python2.7/site-packages/pandas/core/generic.py:604: DeprecationWarning: numpy boolean negative (the unary `-` operator) is deprecated, use the bitwise_xor (the `^` operator) or the logical_xor function instead.\n",
        "  arr = operator.neg(_values_from_object(self))\n",
        "/home/choct155/analysis/Anaconda/lib/python2.7/site-packages/pandas/core/generic.py:604: DeprecationWarning: numpy boolean negative (the unary `-` operator) is deprecated, use the bitwise_xor (the `^` operator) or the logical_xor function instead.\n",
        "  arr = operator.neg(_values_from_object(self))\n",
        "/home/choct155/analysis/Anaconda/lib/python2.7/site-packages/pandas/core/generic.py:604: DeprecationWarning: numpy boolean negative (the unary `-` operator) is deprecated, use the bitwise_xor (the `^` operator) or the logical_xor function instead.\n",
        "  arr = operator.neg(_values_from_object(self))\n",
        "/home/choct155/analysis/Anaconda/lib/python2.7/site-packages/pandas/core/generic.py:604: DeprecationWarning: numpy boolean negative (the unary `-` operator) is deprecated, use the bitwise_xor (the `^` operator) or the logical_xor function instead.\n",
        "  arr = operator.neg(_values_from_object(self))\n",
        "/home/choct155/analysis/Anaconda/lib/python2.7/site-packages/pandas/core/generic.py:604: DeprecationWarning: numpy boolean negative (the unary `-` operator) is deprecated, use the bitwise_xor (the `^` operator) or the logical_xor function instead.\n",
        "  arr = operator.neg(_values_from_object(self))\n",
        "/home/choct155/analysis/Anaconda/lib/python2.7/site-packages/pandas/core/generic.py:604: DeprecationWarning: numpy boolean negative (the unary `-` operator) is deprecated, use the bitwise_xor (the `^` operator) or the logical_xor function instead.\n",
        "  arr = operator.neg(_values_from_object(self))\n",
        "/home/choct155/analysis/Anaconda/lib/python2.7/site-packages/pandas/core/generic.py:604: DeprecationWarning: numpy boolean negative (the unary `-` operator) is deprecated, use the bitwise_xor (the `^` operator) or the logical_xor function instead.\n",
        "  arr = operator.neg(_values_from_object(self))\n",
        "/home/choct155/analysis/Anaconda/lib/python2.7/site-packages/pandas/core/generic.py:604: DeprecationWarning: numpy boolean negative (the unary `-` operator) is deprecated, use the bitwise_xor (the `^` operator) or the logical_xor function instead.\n",
        "  arr = operator.neg(_values_from_object(self))\n",
        "/home/choct155/analysis/Anaconda/lib/python2.7/site-packages/pandas/core/generic.py:604: DeprecationWarning: numpy boolean negative (the unary `-` operator) is deprecated, use the bitwise_xor (the `^` operator) or the logical_xor function instead.\n",
        "  arr = operator.neg(_values_from_object(self))\n",
        "/home/choct155/analysis/Anaconda/lib/python2.7/site-packages/pandas/core/generic.py:604: DeprecationWarning: numpy boolean negative (the unary `-` operator) is deprecated, use the bitwise_xor (the `^` operator) or the logical_xor function instead.\n",
        "  arr = operator.neg(_values_from_object(self))\n",
        "/home/choct155/analysis/Anaconda/lib/python2.7/site-packages/pandas/core/generic.py:604: DeprecationWarning: numpy boolean negative (the unary `-` operator) is deprecated, use the bitwise_xor (the `^` operator) or the logical_xor function instead.\n",
        "  arr = operator.neg(_values_from_object(self))\n",
        "/home/choct155/analysis/Anaconda/lib/python2.7/site-packages/pandas/core/generic.py:604: DeprecationWarning: numpy boolean negative (the unary `-` operator) is deprecated, use the bitwise_xor (the `^` operator) or the logical_xor function instead.\n",
        "  arr = operator.neg(_values_from_object(self))\n",
        "/home/choct155/analysis/Anaconda/lib/python2.7/site-packages/pandas/core/generic.py:604: DeprecationWarning: numpy boolean negative (the unary `-` operator) is deprecated, use the bitwise_xor (the `^` operator) or the logical_xor function instead.\n",
        "  arr = operator.neg(_values_from_object(self))\n",
        "/home/choct155/analysis/Anaconda/lib/python2.7/site-packages/pandas/core/generic.py:604: DeprecationWarning: numpy boolean negative (the unary `-` operator) is deprecated, use the bitwise_xor (the `^` operator) or the logical_xor function instead.\n",
        "  arr = operator.neg(_values_from_object(self))\n",
        "/home/choct155/analysis/Anaconda/lib/python2.7/site-packages/pandas/core/generic.py:604: DeprecationWarning: numpy boolean negative (the unary `-` operator) is deprecated, use the bitwise_xor (the `^` operator) or the logical_xor function instead.\n",
        "  arr = operator.neg(_values_from_object(self))\n",
        "/home/choct155/analysis/Anaconda/lib/python2.7/site-packages/pandas/core/generic.py:604: DeprecationWarning: numpy boolean negative (the unary `-` operator) is deprecated, use the bitwise_xor (the `^` operator) or the logical_xor function instead.\n",
        "  arr = operator.neg(_values_from_object(self))\n",
        "/home/choct155/analysis/Anaconda/lib/python2.7/site-packages/pandas/core/generic.py:604: DeprecationWarning: numpy boolean negative (the unary `-` operator) is deprecated, use the bitwise_xor (the `^` operator) or the logical_xor function instead.\n",
        "  arr = operator.neg(_values_from_object(self))\n",
        "/home/choct155/analysis/Anaconda/lib/python2.7/site-packages/pandas/core/generic.py:604: DeprecationWarning: numpy boolean negative (the unary `-` operator) is deprecated, use the bitwise_xor (the `^` operator) or the logical_xor function instead.\n",
        "  arr = operator.neg(_values_from_object(self))\n",
        "/home/choct155/analysis/Anaconda/lib/python2.7/site-packages/pandas/core/series.py:1807: DeprecationWarning: numpy boolean negative (the unary `-` operator) is deprecated, use the bitwise_xor (the `^` operator) or the logical_xor function instead.\n",
        "  good = -bad\n"
       ]
      }
     ],
     "prompt_number": 4
    },
    {
     "cell_type": "code",
     "collapsed": false,
     "input": [
      "#Generate plot object\n",
      "fig,ax=plt.subplots(1,2,figsize=(14,4),sharex=True)\n",
      "\n",
      "#Plot top five\n",
      "vote_cnt.head(5).plot(kind='barh',ax=ax[0],title='Highest Vote Counts',color='g',alpha=.7)\n",
      "vote_cnt.tail(5).plot(kind='barh',ax=ax[1],title='Lowest Vote Counts',color='g',alpha=.7)\n",
      "\n",
      "#Fix background\n",
      "ax[0].patch.set_facecolor('w')\n",
      "ax[1].patch.set_facecolor('w')\n",
      "\n",
      "# ax[0].annotate(str(vote_cnt.iloc[0]),xy=(1,vote_cnt.iloc[0]))\n",
      "\n",
      "#Fix labels\n",
      "ax[0].set_ylabel('County')\n",
      "ax[1].set_ylabel('')\n",
      "\n",
      "plt.subplots_adjust(wspace=.3)\n",
      "\n",
      "plt.savefig('vote_counts.png',dpi=500)\n",
      "\n",
      "print 'Average Number of Votes:',vote_cnt.mean()"
     ],
     "language": "python",
     "metadata": {},
     "outputs": [
      {
       "output_type": "stream",
       "stream": "stdout",
       "text": [
        "Average Number of Votes: 8.234375\n"
       ]
      },
      {
       "metadata": {},
       "output_type": "display_data",
       "png": "[encoded data removed]",
       "text": [
        "<matplotlib.figure.Figure at 0x7feab4cadfd0>"
       ]
      }
     ],
     "prompt_number": 5
    },
    {
     "cell_type": "markdown",
     "metadata": {},
     "source": [
      "The CenStats data is much larger..."
     ]
    },
    {
     "cell_type": "code",
     "collapsed": false,
     "input": [
      "#Read in header information\n",
      "censtat_names=pd.read_csv(cs_dir+'censtats_co_processed.csv',header=None).iloc[1].values\n",
      "\n",
      "#Fix index variable names\n",
      "censtat_names[0]='year'\n",
      "censtat_names[1]='stcou'\n",
      "\n",
      "#Read in actual data\n",
      "censtat_tmp=pd.read_csv(cs_dir+'censtats_co_processed.csv',header=None,names=list(censtat_names)).iloc[3:].astype(float)\n",
      "\n",
      "#Set index and convert to float\n",
      "censtat=censtat_tmp.set_index(['stcou','year'])\n",
      "\n",
      "#Sort index\n",
      "censtat.sortlevel(0,inplace=True)"
     ],
     "language": "python",
     "metadata": {},
     "outputs": [
      {
       "output_type": "stream",
       "stream": "stderr",
       "text": [
        "/home/choct155/analysis/Anaconda/lib/python2.7/site-packages/pandas/io/parsers.py:1070: DtypeWarning: Columns (0,1,2,3,4,5,6,7,8,9,10,11,12,13,14,15,16,17,18,19,20,21,22,23,24,25,26,27,28,29,30,31,32,33,34,35,36,37,38,39,40,41,42,43,44,45,46,47,48,49,50,51,52,53,54,55,56,57,58,59,60,61,62,63,64,65,66,67,68,69,70,71,72,73,74,75,76,77,78,79,80,81,82,83,84,85,86,87,88,89,90,91,92,93,94,95,96,97,98,99,100,101,102,103,104,105,106,107,108,109,110,111,112,113,114,115,116,117,118,119,120,121,122,123,124,125,126,127,128,129,130,131,132,133,134,135,136,137,138,139,140,141,142,143,144,145,146,147,148,149,150,151,152,153,154,155,156,157,158,159,160,161,162,163,164,165,166,167,168,169,170,171,172,173,174,175,176,177,178,179,180,181,182,183,184,185,186,187,188,189,190,191,192,193,194,195,196,197,198,199,200,201,202,203,204,205,206,207,208,209,210,211,212,213,214,215,216,217,218,219,220,221,222,223,224,225,226,227,228,229,230,231,232,233,234,235,236,237,238,239,240,241,242,243,244,245,246,247,248,249,250,251,252,253,254,255,256,257,258,259,260,261,262,263,264,265,266,267,268,269,270,271,272,273,274,275,276,277,278,279,280,281,282,283,284,285,286,287,288,289,290,291,292,293,294,295,296,297,298,299,300,301,302,303,304,305,306,307,308,309,310,311,312,313,314,315,316,317,318,319,320,321,322,323,324,325,326,327,328,329,330,331,332,333,334,335,336,337,338,339,340,341,342,343,344,345,346,347,348,349,350,351,352,353,354,355,356,357,358,359,360,361,362,363,364,365,366,367,368,369,370,371,372,373,374,375,376,377,378,379,380,381,382,383,384,385,386,387,388,389,390,391,392,393,394,395,396,397,398,399,400,401,402,403,404,405,406,407,408,409,410,411,412,413,414,415,416,417,418,419,420,421,422,423,424,425,426,427,428,429,430,431,432,433,434,435,436,437,438,439,440,441,442,443,444,445,446,447,448,449,450,451,452,453,454,455,456,457,458,459,460,461,462,463,464,465,466,467,468,469,470,471,472,473,474,475,476,477,478,479,480,481,482,483,484,485,486,487,488,489,490,491,492,493,494,495,496,497,498,499,500,501,502,503,504,505,506,507,508,509,510,511,512,513,514,515,516,517,518,519,520,521,522) have mixed types. Specify dtype option on import or set low_memory=False.\n",
        "  data = self._reader.read(nrows)\n"
       ]
      }
     ],
     "prompt_number": 6
    },
    {
     "cell_type": "code",
     "collapsed": false,
     "input": [
      "censtat.head()"
     ],
     "language": "python",
     "metadata": {},
     "outputs": [
      {
       "html": [
        "<div style=\"max-height:1000px;max-width:1500px;overflow:auto;\">\n",
        "<table border=\"1\" class=\"dataframe\">\n",
        "  <thead>\n",
        "    <tr style=\"text-align: right;\">\n",
        "      <th></th>\n",
        "      <th></th>\n",
        "      <th>AFN110</th>\n",
        "      <th>AFN120</th>\n",
        "      <th>AFN130</th>\n",
        "      <th>AFN140</th>\n",
        "      <th>AFN310</th>\n",
        "      <th>AGE030</th>\n",
        "      <th>AGE040</th>\n",
        "      <th>AGE120</th>\n",
        "      <th>AGE130</th>\n",
        "      <th>AGE135</th>\n",
        "      <th>AGE150</th>\n",
        "      <th>AGE160</th>\n",
        "      <th>AGE220</th>\n",
        "      <th>AGE230</th>\n",
        "      <th>AGE250</th>\n",
        "      <th>AGE260</th>\n",
        "      <th>AGE280</th>\n",
        "      <th>AGE285</th>\n",
        "      <th>AGE290</th>\n",
        "      <th>AGE295</th>\n",
        "      <th></th>\n",
        "    </tr>\n",
        "    <tr>\n",
        "      <th>stcou</th>\n",
        "      <th>year</th>\n",
        "      <th></th>\n",
        "      <th></th>\n",
        "      <th></th>\n",
        "      <th></th>\n",
        "      <th></th>\n",
        "      <th></th>\n",
        "      <th></th>\n",
        "      <th></th>\n",
        "      <th></th>\n",
        "      <th></th>\n",
        "      <th></th>\n",
        "      <th></th>\n",
        "      <th></th>\n",
        "      <th></th>\n",
        "      <th></th>\n",
        "      <th></th>\n",
        "      <th></th>\n",
        "      <th></th>\n",
        "      <th></th>\n",
        "      <th></th>\n",
        "    </tr>\n",
        "  </thead>\n",
        "  <tbody>\n",
        "    <tr>\n",
        "      <th rowspan=\"5\" valign=\"top\">8001</th>\n",
        "      <th>1993</th>\n",
        "      <td> 468.087383</td>\n",
        "      <td> 206713.179983</td>\n",
        "      <td> 55609.797252</td>\n",
        "      <td> 7981.429055</td>\n",
        "      <td> 439.886505</td>\n",
        "      <td> 347957</td>\n",
        "      <td> 284315</td>\n",
        "      <td> 29016</td>\n",
        "      <td> 20943.77399</td>\n",
        "      <td> 7.624419</td>\n",
        "      <td> 28311</td>\n",
        "      <td> 24033.661065</td>\n",
        "      <td> 26329</td>\n",
        "      <td> 22828.110656</td>\n",
        "      <td> 25298</td>\n",
        "      <td> 22816.945133</td>\n",
        "      <td> 98861</td>\n",
        "      <td> 28.4</td>\n",
        "      <td> 81518.970297</td>\n",
        "      <td> 28.4</td>\n",
        "    </tr>\n",
        "    <tr>\n",
        "      <th>1994</th>\n",
        "      <td> 479.065537</td>\n",
        "      <td> 227229.634987</td>\n",
        "      <td> 61528.597939</td>\n",
        "      <td> 8233.571791</td>\n",
        "      <td> 449.914879</td>\n",
        "      <td> 347957</td>\n",
        "      <td> 293839</td>\n",
        "      <td> 29016</td>\n",
        "      <td> 22128.66342</td>\n",
        "      <td> 7.720930</td>\n",
        "      <td> 28311</td>\n",
        "      <td> 24661.423770</td>\n",
        "      <td> 26329</td>\n",
        "      <td> 23374.237705</td>\n",
        "      <td> 25298</td>\n",
        "      <td> 23198.952971</td>\n",
        "      <td> 98861</td>\n",
        "      <td> 28.4</td>\n",
        "      <td> 84108.831683</td>\n",
        "      <td> 28.4</td>\n",
        "    </tr>\n",
        "    <tr>\n",
        "      <th>1995</th>\n",
        "      <td> 490.043692</td>\n",
        "      <td> 247746.089991</td>\n",
        "      <td> 67447.398626</td>\n",
        "      <td> 8485.714527</td>\n",
        "      <td> 459.943253</td>\n",
        "      <td> 347957</td>\n",
        "      <td> 303363</td>\n",
        "      <td> 29016</td>\n",
        "      <td> 23313.55285</td>\n",
        "      <td> 7.817442</td>\n",
        "      <td> 28311</td>\n",
        "      <td> 25289.186475</td>\n",
        "      <td> 26329</td>\n",
        "      <td> 23920.364754</td>\n",
        "      <td> 25298</td>\n",
        "      <td> 23580.960809</td>\n",
        "      <td> 98861</td>\n",
        "      <td> 28.4</td>\n",
        "      <td> 86698.693069</td>\n",
        "      <td> 28.4</td>\n",
        "    </tr>\n",
        "    <tr>\n",
        "      <th>1996</th>\n",
        "      <td> 501.021846</td>\n",
        "      <td> 268262.544996</td>\n",
        "      <td> 73366.199313</td>\n",
        "      <td> 8737.857264</td>\n",
        "      <td> 469.971626</td>\n",
        "      <td> 347957</td>\n",
        "      <td> 312887</td>\n",
        "      <td> 29016</td>\n",
        "      <td> 24498.44228</td>\n",
        "      <td> 7.913953</td>\n",
        "      <td> 28311</td>\n",
        "      <td> 25916.949180</td>\n",
        "      <td> 26329</td>\n",
        "      <td> 24466.491803</td>\n",
        "      <td> 25298</td>\n",
        "      <td> 23962.968647</td>\n",
        "      <td> 98861</td>\n",
        "      <td> 28.4</td>\n",
        "      <td> 89288.554455</td>\n",
        "      <td> 28.4</td>\n",
        "    </tr>\n",
        "    <tr>\n",
        "      <th>1997</th>\n",
        "      <td> 512.000000</td>\n",
        "      <td> 288779.000000</td>\n",
        "      <td> 79285.000000</td>\n",
        "      <td> 8990.000000</td>\n",
        "      <td> 480.000000</td>\n",
        "      <td> 347957</td>\n",
        "      <td> 322411</td>\n",
        "      <td> 29016</td>\n",
        "      <td> 25683.33171</td>\n",
        "      <td> 8.010465</td>\n",
        "      <td> 28311</td>\n",
        "      <td> 26544.711885</td>\n",
        "      <td> 26329</td>\n",
        "      <td> 25012.618852</td>\n",
        "      <td> 25298</td>\n",
        "      <td> 24344.976485</td>\n",
        "      <td> 98861</td>\n",
        "      <td> 28.4</td>\n",
        "      <td> 91878.415842</td>\n",
        "      <td> 28.4</td>\n",
        "    </tr>\n",
        "  </tbody>\n",
        "</table>\n",
        "<p>5 rows \u00d7 521 columns</p>\n",
        "</div>"
       ],
       "metadata": {},
       "output_type": "pyout",
       "prompt_number": 7,
       "text": [
        "                AFN110         AFN120        AFN130       AFN140      AFN310  \\\n",
        "stcou year                                                                     \n",
        "8001  1993  468.087383  206713.179983  55609.797252  7981.429055  439.886505   \n",
        "      1994  479.065537  227229.634987  61528.597939  8233.571791  449.914879   \n",
        "      1995  490.043692  247746.089991  67447.398626  8485.714527  459.943253   \n",
        "      1996  501.021846  268262.544996  73366.199313  8737.857264  469.971626   \n",
        "      1997  512.000000  288779.000000  79285.000000  8990.000000  480.000000   \n",
        "\n",
        "            AGE030  AGE040  AGE120       AGE130    AGE135  AGE150  \\\n",
        "stcou year                                                          \n",
        "8001  1993  347957  284315   29016  20943.77399  7.624419   28311   \n",
        "      1994  347957  293839   29016  22128.66342  7.720930   28311   \n",
        "      1995  347957  303363   29016  23313.55285  7.817442   28311   \n",
        "      1996  347957  312887   29016  24498.44228  7.913953   28311   \n",
        "      1997  347957  322411   29016  25683.33171  8.010465   28311   \n",
        "\n",
        "                  AGE160  AGE220        AGE230  AGE250        AGE260  AGE280  \\\n",
        "stcou year                                                                     \n",
        "8001  1993  24033.661065   26329  22828.110656   25298  22816.945133   98861   \n",
        "      1994  24661.423770   26329  23374.237705   25298  23198.952971   98861   \n",
        "      1995  25289.186475   26329  23920.364754   25298  23580.960809   98861   \n",
        "      1996  25916.949180   26329  24466.491803   25298  23962.968647   98861   \n",
        "      1997  26544.711885   26329  25012.618852   25298  24344.976485   98861   \n",
        "\n",
        "            AGE285        AGE290  AGE295      \n",
        "stcou year                                    \n",
        "8001  1993    28.4  81518.970297    28.4 ...  \n",
        "      1994    28.4  84108.831683    28.4 ...  \n",
        "      1995    28.4  86698.693069    28.4 ...  \n",
        "      1996    28.4  89288.554455    28.4 ...  \n",
        "      1997    28.4  91878.415842    28.4 ...  \n",
        "\n",
        "[5 rows x 521 columns]"
       ]
      }
     ],
     "prompt_number": 7
    },
    {
     "cell_type": "heading",
     "level": 2,
     "metadata": {},
     "source": [
      "Data Integration"
     ]
    },
    {
     "cell_type": "markdown",
     "metadata": {},
     "source": [
      "Now we need to map the relevant CenStats variables back to the county vote results.  Note that there are sometimes multiple votes in a given county-year.  Consequently, we must join to the results, so that we may duplicate the CenStats data for all available votes."
     ]
    },
    {
     "cell_type": "code",
     "collapsed": false,
     "input": [
      "#Join CenStats to vote data\n",
      "vtcs=DataFrame(votes).join(censtat,how='left')\n",
      "\n",
      "vtcs.head()"
     ],
     "language": "python",
     "metadata": {},
     "outputs": [
      {
       "html": [
        "<div style=\"max-height:1000px;max-width:1500px;overflow:auto;\">\n",
        "<table border=\"1\" class=\"dataframe\">\n",
        "  <thead>\n",
        "    <tr style=\"text-align: right;\">\n",
        "      <th></th>\n",
        "      <th></th>\n",
        "      <th>results</th>\n",
        "      <th>AFN110</th>\n",
        "      <th>AFN120</th>\n",
        "      <th>AFN130</th>\n",
        "      <th>AFN140</th>\n",
        "      <th>AFN310</th>\n",
        "      <th>AGE030</th>\n",
        "      <th>AGE040</th>\n",
        "      <th>AGE120</th>\n",
        "      <th>AGE130</th>\n",
        "      <th>AGE135</th>\n",
        "      <th>AGE150</th>\n",
        "      <th>AGE160</th>\n",
        "      <th>AGE220</th>\n",
        "      <th>AGE230</th>\n",
        "      <th>AGE250</th>\n",
        "      <th>AGE260</th>\n",
        "      <th>AGE280</th>\n",
        "      <th>AGE285</th>\n",
        "      <th>AGE290</th>\n",
        "      <th></th>\n",
        "    </tr>\n",
        "    <tr>\n",
        "      <th>stcou</th>\n",
        "      <th>year</th>\n",
        "      <th></th>\n",
        "      <th></th>\n",
        "      <th></th>\n",
        "      <th></th>\n",
        "      <th></th>\n",
        "      <th></th>\n",
        "      <th></th>\n",
        "      <th></th>\n",
        "      <th></th>\n",
        "      <th></th>\n",
        "      <th></th>\n",
        "      <th></th>\n",
        "      <th></th>\n",
        "      <th></th>\n",
        "      <th></th>\n",
        "      <th></th>\n",
        "      <th></th>\n",
        "      <th></th>\n",
        "      <th></th>\n",
        "      <th></th>\n",
        "    </tr>\n",
        "  </thead>\n",
        "  <tbody>\n",
        "    <tr>\n",
        "      <th rowspan=\"5\" valign=\"top\">8001</th>\n",
        "      <th>1993</th>\n",
        "      <td> 60</td>\n",
        "      <td> 468.087383</td>\n",
        "      <td> 206713.179983</td>\n",
        "      <td> 55609.797252</td>\n",
        "      <td> 7981.429055</td>\n",
        "      <td> 439.886505</td>\n",
        "      <td> 347957</td>\n",
        "      <td> 284315</td>\n",
        "      <td> 29016</td>\n",
        "      <td> 20943.77399</td>\n",
        "      <td> 7.624419</td>\n",
        "      <td> 28311</td>\n",
        "      <td> 24033.661065</td>\n",
        "      <td> 26329</td>\n",
        "      <td> 22828.110656</td>\n",
        "      <td> 25298</td>\n",
        "      <td> 22816.945133</td>\n",
        "      <td> 98861</td>\n",
        "      <td> 28.4</td>\n",
        "      <td> 81518.970297</td>\n",
        "    </tr>\n",
        "    <tr>\n",
        "      <th>1997</th>\n",
        "      <td> 39</td>\n",
        "      <td> 512.000000</td>\n",
        "      <td> 288779.000000</td>\n",
        "      <td> 79285.000000</td>\n",
        "      <td> 8990.000000</td>\n",
        "      <td> 480.000000</td>\n",
        "      <td> 347957</td>\n",
        "      <td> 322411</td>\n",
        "      <td> 29016</td>\n",
        "      <td> 25683.33171</td>\n",
        "      <td> 8.010465</td>\n",
        "      <td> 28311</td>\n",
        "      <td> 26544.711885</td>\n",
        "      <td> 26329</td>\n",
        "      <td> 25012.618852</td>\n",
        "      <td> 25298</td>\n",
        "      <td> 24344.976485</td>\n",
        "      <td> 98861</td>\n",
        "      <td> 28.4</td>\n",
        "      <td> 91878.415842</td>\n",
        "    </tr>\n",
        "    <tr>\n",
        "      <th>1997</th>\n",
        "      <td> 27</td>\n",
        "      <td> 512.000000</td>\n",
        "      <td> 288779.000000</td>\n",
        "      <td> 79285.000000</td>\n",
        "      <td> 8990.000000</td>\n",
        "      <td> 480.000000</td>\n",
        "      <td> 347957</td>\n",
        "      <td> 322411</td>\n",
        "      <td> 29016</td>\n",
        "      <td> 25683.33171</td>\n",
        "      <td> 8.010465</td>\n",
        "      <td> 28311</td>\n",
        "      <td> 26544.711885</td>\n",
        "      <td> 26329</td>\n",
        "      <td> 25012.618852</td>\n",
        "      <td> 25298</td>\n",
        "      <td> 24344.976485</td>\n",
        "      <td> 98861</td>\n",
        "      <td> 28.4</td>\n",
        "      <td> 91878.415842</td>\n",
        "    </tr>\n",
        "    <tr>\n",
        "      <th>1997</th>\n",
        "      <td> 29</td>\n",
        "      <td> 512.000000</td>\n",
        "      <td> 288779.000000</td>\n",
        "      <td> 79285.000000</td>\n",
        "      <td> 8990.000000</td>\n",
        "      <td> 480.000000</td>\n",
        "      <td> 347957</td>\n",
        "      <td> 322411</td>\n",
        "      <td> 29016</td>\n",
        "      <td> 25683.33171</td>\n",
        "      <td> 8.010465</td>\n",
        "      <td> 28311</td>\n",
        "      <td> 26544.711885</td>\n",
        "      <td> 26329</td>\n",
        "      <td> 25012.618852</td>\n",
        "      <td> 25298</td>\n",
        "      <td> 24344.976485</td>\n",
        "      <td> 98861</td>\n",
        "      <td> 28.4</td>\n",
        "      <td> 91878.415842</td>\n",
        "    </tr>\n",
        "    <tr>\n",
        "      <th>1997</th>\n",
        "      <td> 64</td>\n",
        "      <td> 512.000000</td>\n",
        "      <td> 288779.000000</td>\n",
        "      <td> 79285.000000</td>\n",
        "      <td> 8990.000000</td>\n",
        "      <td> 480.000000</td>\n",
        "      <td> 347957</td>\n",
        "      <td> 322411</td>\n",
        "      <td> 29016</td>\n",
        "      <td> 25683.33171</td>\n",
        "      <td> 8.010465</td>\n",
        "      <td> 28311</td>\n",
        "      <td> 26544.711885</td>\n",
        "      <td> 26329</td>\n",
        "      <td> 25012.618852</td>\n",
        "      <td> 25298</td>\n",
        "      <td> 24344.976485</td>\n",
        "      <td> 98861</td>\n",
        "      <td> 28.4</td>\n",
        "      <td> 91878.415842</td>\n",
        "    </tr>\n",
        "  </tbody>\n",
        "</table>\n",
        "<p>5 rows \u00d7 522 columns</p>\n",
        "</div>"
       ],
       "metadata": {},
       "output_type": "pyout",
       "prompt_number": 8,
       "text": [
        "            results      AFN110         AFN120        AFN130       AFN140  \\\n",
        "stcou year                                                                  \n",
        "8001  1993       60  468.087383  206713.179983  55609.797252  7981.429055   \n",
        "      1997       39  512.000000  288779.000000  79285.000000  8990.000000   \n",
        "      1997       27  512.000000  288779.000000  79285.000000  8990.000000   \n",
        "      1997       29  512.000000  288779.000000  79285.000000  8990.000000   \n",
        "      1997       64  512.000000  288779.000000  79285.000000  8990.000000   \n",
        "\n",
        "                AFN310  AGE030  AGE040  AGE120       AGE130    AGE135  AGE150  \\\n",
        "stcou year                                                                      \n",
        "8001  1993  439.886505  347957  284315   29016  20943.77399  7.624419   28311   \n",
        "      1997  480.000000  347957  322411   29016  25683.33171  8.010465   28311   \n",
        "      1997  480.000000  347957  322411   29016  25683.33171  8.010465   28311   \n",
        "      1997  480.000000  347957  322411   29016  25683.33171  8.010465   28311   \n",
        "      1997  480.000000  347957  322411   29016  25683.33171  8.010465   28311   \n",
        "\n",
        "                  AGE160  AGE220        AGE230  AGE250        AGE260  AGE280  \\\n",
        "stcou year                                                                     \n",
        "8001  1993  24033.661065   26329  22828.110656   25298  22816.945133   98861   \n",
        "      1997  26544.711885   26329  25012.618852   25298  24344.976485   98861   \n",
        "      1997  26544.711885   26329  25012.618852   25298  24344.976485   98861   \n",
        "      1997  26544.711885   26329  25012.618852   25298  24344.976485   98861   \n",
        "      1997  26544.711885   26329  25012.618852   25298  24344.976485   98861   \n",
        "\n",
        "            AGE285        AGE290      \n",
        "stcou year                            \n",
        "8001  1993    28.4  81518.970297 ...  \n",
        "      1997    28.4  91878.415842 ...  \n",
        "      1997    28.4  91878.415842 ...  \n",
        "      1997    28.4  91878.415842 ...  \n",
        "      1997    28.4  91878.415842 ...  \n",
        "\n",
        "[5 rows x 522 columns]"
       ]
      }
     ],
     "prompt_number": 8
    },
    {
     "cell_type": "heading",
     "level": 2,
     "metadata": {},
     "source": [
      "LASSO Regression"
     ]
    },
    {
     "cell_type": "markdown",
     "metadata": {},
     "source": [
      "Before preceding with actual estimation, we need to prep the data, inclusive of splitting into test and train subsets."
     ]
    },
    {
     "cell_type": "code",
     "collapsed": false,
     "input": [
      "#Identify response vector\n",
      "y=vtcs['results'].values\n",
      "\n",
      "#Identify design matrix\n",
      "X=vtcs[[var for var in vtcs.columns if var!='results']].values\n",
      "\n",
      "#Split into test and train subs\n",
      "X_train, X_test, y_train, y_test=train_test_split(X,y,test_size=0.8)"
     ],
     "language": "python",
     "metadata": {},
     "outputs": [],
     "prompt_number": 9
    },
    {
     "cell_type": "markdown",
     "metadata": {},
     "source": [
      "Now we are prepared to fit and run the model.  First, we will see what optimization by cross validation yields.  The `LassoCV()` method evaluates the model at a range of values for the penalty parameter, $\\alpha$ (a.k.a. $\\lambda$ in some circles).  In effect, we are looking for the best subset, those variables that remain non-zero at the optimal value of $\\alpha$.  Note that we do have the option of setting $\\alpha$ explicitly with the base `Lasso()` method."
     ]
    },
    {
     "cell_type": "code",
     "collapsed": false,
     "input": [
      "#Initialize estimator\n",
      "lasso_base=linear_model.LassoCV(normalize=True)\n",
      "\n",
      "#Fit data\n",
      "lbase_fit=lasso_base.fit(X_train,y_train)"
     ],
     "language": "python",
     "metadata": {},
     "outputs": [
      {
       "output_type": "stream",
       "stream": "stderr",
       "text": [
        "/home/choct155/analysis/Anaconda/lib/python2.7/site-packages/sklearn/linear_model/coordinate_descent.py:418: UserWarning: Objective did not converge. You might want to increase the number of iterations\n",
        "  ' to increase the number of iterations')\n"
       ]
      }
     ],
     "prompt_number": 10
    },
    {
     "cell_type": "markdown",
     "metadata": {},
     "source": [
      "To identify the subset that has been selected, we can tie the coefficient estimates to their respective column names and subset to those coefficients that are still greater than zero."
     ]
    },
    {
     "cell_type": "code",
     "collapsed": false,
     "input": [
      "#Associate coefficient estimates with variable names\n",
      "lasso_vars=Series(lasso_base.coef_,index=list(censtat_names)[2:])\n",
      "\n",
      "#Identify non-zero subset\n",
      "lassoCV_vars=lasso_vars[lasso_vars>0]\n",
      "\n",
      "lassoCV_vars"
     ],
     "language": "python",
     "metadata": {},
     "outputs": [
      {
       "metadata": {},
       "output_type": "pyout",
       "prompt_number": 11,
       "text": [
        "BPS130    0.000012\n",
        "EDU685    0.108818\n",
        "HEA735    0.122843\n",
        "INC610    0.000075\n",
        "LOG015    0.000211\n",
        "SEX320    0.018639\n",
        "dtype: float64"
       ]
      }
     ],
     "prompt_number": 11
    },
    {
     "cell_type": "markdown",
     "metadata": {},
     "source": [
      "Only four predictors?  What was the $\\alpha$?"
     ]
    },
    {
     "cell_type": "code",
     "collapsed": false,
     "input": [
      "print lasso_base.alpha_"
     ],
     "language": "python",
     "metadata": {},
     "outputs": [
      {
       "output_type": "stream",
       "stream": "stdout",
       "text": [
        "0.153532653654\n"
       ]
      }
     ],
     "prompt_number": 12
    },
    {
     "cell_type": "markdown",
     "metadata": {},
     "source": [
      "We have a .csv version of the mapping between variable names and descriptions."
     ]
    },
    {
     "cell_type": "code",
     "collapsed": false,
     "input": [
      "#Read in the mapping\n",
      "var_map_df=pd.read_csv(cs_dir+'Mastdata.csv')\n",
      "\n",
      "#Create mapping dict from the relevant columns\n",
      "var_map=dict(zip(var_map_df['Item_Id'].apply(lambda x: x[:6]),var_map_df['Item_Description']))\n",
      "\n",
      "#What does it all mean?\n",
      "for var in lassoCV_vars.index:\n",
      "    print var,'|',var_map[var]"
     ],
     "language": "python",
     "metadata": {},
     "outputs": [
      {
       "output_type": "stream",
       "stream": "stdout",
       "text": [
        "BPS130 | Valuation of new private housing units authorized by building permits 2010 (20,000-place universe)\n",
        "EDU685 | Educational attainment - persons 25 years and over - percent bachelor's degree or higher 2005-2009\n",
        "HEA735 | All persons 18 to 64 years without health insurance, percent 2007\n",
        "INC610 | Median family income in the past 12 months (in 2009 inflation-adjusted dollars) in 2005-2009\n",
        "LOG015 | Local government finances - general revenue per capita FY 2002\n",
        "SEX320 | Resident population: males per 100 females (April 1 - estimate base) 2000\n"
       ]
      }
     ],
     "prompt_number": 13
    },
    {
     "cell_type": "markdown",
     "metadata": {},
     "source": [
      "Three out of four variables are income related.  Isn't that interesting?  It just might be if these variables predict well."
     ]
    },
    {
     "cell_type": "code",
     "collapsed": false,
     "input": [
      "#Instantiate OLS model\n",
      "ols_mod=smf.ols('results ~ INC884 + IPE010 + LFE150 + PEN020',data=vtcs)\n",
      "\n",
      "#Fit model\n",
      "ols_fit=ols_mod.fit()\n",
      "\n",
      "ols_fit.summary()"
     ],
     "language": "python",
     "metadata": {},
     "outputs": [
      {
       "html": [
        "<table class=\"simpletable\">\n",
        "<caption>OLS Regression Results</caption>\n",
        "<tr>\n",
        "  <th>Dep. Variable:</th>         <td>results</td>     <th>  R-squared:         </th> <td>   0.037</td>\n",
        "</tr>\n",
        "<tr>\n",
        "  <th>Model:</th>                   <td>OLS</td>       <th>  Adj. R-squared:    </th> <td>   0.030</td>\n",
        "</tr>\n",
        "<tr>\n",
        "  <th>Method:</th>             <td>Least Squares</td>  <th>  F-statistic:       </th> <td>   5.030</td>\n",
        "</tr>\n",
        "<tr>\n",
        "  <th>Date:</th>             <td>Wed, 12 Nov 2014</td> <th>  Prob (F-statistic):</th> <td>0.000552</td>\n",
        "</tr>\n",
        "<tr>\n",
        "  <th>Time:</th>                 <td>13:10:36</td>     <th>  Log-Likelihood:    </th> <td> -2157.9</td>\n",
        "</tr>\n",
        "<tr>\n",
        "  <th>No. Observations:</th>      <td>   527</td>      <th>  AIC:               </th> <td>   4326.</td>\n",
        "</tr>\n",
        "<tr>\n",
        "  <th>Df Residuals:</th>          <td>   522</td>      <th>  BIC:               </th> <td>   4347.</td>\n",
        "</tr>\n",
        "<tr>\n",
        "  <th>Df Model:</th>              <td>     4</td>      <th>                     </th>     <td> </td>   \n",
        "</tr>\n",
        "</table>\n",
        "<table class=\"simpletable\">\n",
        "<tr>\n",
        "      <td></td>         <th>coef</th>     <th>std err</th>      <th>t</th>      <th>P>|t|</th> <th>[95.0% Conf. Int.]</th> \n",
        "</tr>\n",
        "<tr>\n",
        "  <th>Intercept</th> <td>   40.6268</td> <td>    2.961</td> <td>   13.722</td> <td> 0.000</td> <td>   34.810    46.443</td>\n",
        "</tr>\n",
        "<tr>\n",
        "  <th>INC884</th>    <td>    0.0004</td> <td>    0.000</td> <td>    2.548</td> <td> 0.011</td> <td> 9.15e-05     0.001</td>\n",
        "</tr>\n",
        "<tr>\n",
        "  <th>IPE010</th>    <td>   -0.0001</td> <td> 8.81e-05</td> <td>   -1.261</td> <td> 0.208</td> <td>   -0.000  6.19e-05</td>\n",
        "</tr>\n",
        "<tr>\n",
        "  <th>LFE150</th>    <td> 1.624e-05</td> <td> 2.33e-05</td> <td>    0.698</td> <td> 0.485</td> <td>-2.94e-05  6.19e-05</td>\n",
        "</tr>\n",
        "<tr>\n",
        "  <th>PEN020</th>    <td>    0.0002</td> <td> 7.48e-05</td> <td>    2.086</td> <td> 0.037</td> <td> 9.06e-06     0.000</td>\n",
        "</tr>\n",
        "</table>\n",
        "<table class=\"simpletable\">\n",
        "<tr>\n",
        "  <th>Omnibus:</th>       <td> 1.019</td> <th>  Durbin-Watson:     </th> <td>   1.600</td>\n",
        "</tr>\n",
        "<tr>\n",
        "  <th>Prob(Omnibus):</th> <td> 0.601</td> <th>  Jarque-Bera (JB):  </th> <td>   1.107</td>\n",
        "</tr>\n",
        "<tr>\n",
        "  <th>Skew:</th>          <td>-0.097</td> <th>  Prob(JB):          </th> <td>   0.575</td>\n",
        "</tr>\n",
        "<tr>\n",
        "  <th>Kurtosis:</th>      <td> 2.888</td> <th>  Cond. No.          </th> <td>2.95e+05</td>\n",
        "</tr>\n",
        "</table>"
       ],
       "metadata": {},
       "output_type": "pyout",
       "prompt_number": 14,
       "text": [
        "<class 'statsmodels.iolib.summary.Summary'>\n",
        "\"\"\"\n",
        "                            OLS Regression Results                            \n",
        "==============================================================================\n",
        "Dep. Variable:                results   R-squared:                       0.037\n",
        "Model:                            OLS   Adj. R-squared:                  0.030\n",
        "Method:                 Least Squares   F-statistic:                     5.030\n",
        "Date:                Wed, 12 Nov 2014   Prob (F-statistic):           0.000552\n",
        "Time:                        13:10:36   Log-Likelihood:                -2157.9\n",
        "No. Observations:                 527   AIC:                             4326.\n",
        "Df Residuals:                     522   BIC:                             4347.\n",
        "Df Model:                           4                                         \n",
        "==============================================================================\n",
        "                 coef    std err          t      P>|t|      [95.0% Conf. Int.]\n",
        "------------------------------------------------------------------------------\n",
        "Intercept     40.6268      2.961     13.722      0.000        34.810    46.443\n",
        "INC884         0.0004      0.000      2.548      0.011      9.15e-05     0.001\n",
        "IPE010        -0.0001   8.81e-05     -1.261      0.208        -0.000  6.19e-05\n",
        "LFE150      1.624e-05   2.33e-05      0.698      0.485     -2.94e-05  6.19e-05\n",
        "PEN020         0.0002   7.48e-05      2.086      0.037      9.06e-06     0.000\n",
        "==============================================================================\n",
        "Omnibus:                        1.019   Durbin-Watson:                   1.600\n",
        "Prob(Omnibus):                  0.601   Jarque-Bera (JB):                1.107\n",
        "Skew:                          -0.097   Prob(JB):                        0.575\n",
        "Kurtosis:                       2.888   Cond. No.                     2.95e+05\n",
        "==============================================================================\n",
        "\n",
        "Warnings:\n",
        "[1] The condition number is large, 2.95e+05. This might indicate that there are\n",
        "strong multicollinearity or other numerical problems.\n",
        "\"\"\""
       ]
      }
     ],
     "prompt_number": 14
    },
    {
     "cell_type": "markdown",
     "metadata": {},
     "source": [
      "Abysmal.  Let's move on to a slightly different technique.  "
     ]
    },
    {
     "cell_type": "heading",
     "level": 2,
     "metadata": {},
     "source": [
      "Elastic Net"
     ]
    },
    {
     "cell_type": "markdown",
     "metadata": {},
     "source": [
      "I find myself wondering if we would do a bit better if we had retained more of the variables.  Might as well take a look.  Whereas ridge regression does not force most coefficients to zero and lasso does do so, the `ElasticNetCV()` method finds itself in the middle.  Effectively, it applies a convex combination of the penalty parameters, and thus generally yields a larger subset (so I am told).  Let's find out..."
     ]
    },
    {
     "cell_type": "code",
     "collapsed": false,
     "input": [
      "#Initialize estimator\n",
      "enet_base=linear_model.ElasticNetCV(normalize=True,cv=10)\n",
      "\n",
      "#Fit data\n",
      "enbase_fit=enet_base.fit(X,y)"
     ],
     "language": "python",
     "metadata": {},
     "outputs": [],
     "prompt_number": 15
    },
    {
     "cell_type": "markdown",
     "metadata": {},
     "source": [
      "Again we can inspect the remaining variables."
     ]
    },
    {
     "cell_type": "code",
     "collapsed": false,
     "input": [
      "#Associate coefficient estimates with variable names\n",
      "enet_vars=Series(enbase_fit.coef_,index=list(censtat_names)[2:])\n",
      "\n",
      "#Identify non-zero subset\n",
      "EN_CV_vars=enet_vars[enet_vars>0]\n",
      "\n",
      "EN_CV_vars.order(ascending=False)"
     ],
     "language": "python",
     "metadata": {},
     "outputs": [
      {
       "output_type": "stream",
       "stream": "stderr",
       "text": [
        "/home/choct155/analysis/Anaconda/lib/python2.7/site-packages/pandas/core/series.py:1807: DeprecationWarning: numpy boolean negative (the unary `-` operator) is deprecated, use the bitwise_xor (the `^` operator) or the logical_xor function instead.\n",
        "  good = -bad\n"
       ]
      },
      {
       "metadata": {},
       "output_type": "pyout",
       "prompt_number": 16,
       "text": [
        "HSG180    0.174437\n",
        "AGE135    0.058340\n",
        "HSG184    0.035864\n",
        "HEA735    0.013776\n",
        "RHI125    0.013100\n",
        "RHI815    0.012321\n",
        "SEX320    0.011500\n",
        "RHI825    0.011037\n",
        "SEX350    0.009339\n",
        "EDU685    0.009091\n",
        "BNK010    0.002199\n",
        "BNK110    0.001950\n",
        "WAT140    0.000356\n",
        "BPS230    0.000090\n",
        "INC820    0.000090\n",
        "...\n",
        "BZN840    2.540821e-07\n",
        "LFE810    2.390770e-07\n",
        "AFN130    1.148314e-07\n",
        "ANC880    1.132026e-07\n",
        "LOG310    1.096625e-07\n",
        "LOG010    7.814674e-08\n",
        "LOG520    6.660820e-08\n",
        "LOG510    5.022314e-08\n",
        "GAN310    4.565233e-08\n",
        "FED130    4.329884e-08\n",
        "BNK050    3.466523e-08\n",
        "LOG720    2.779355e-08\n",
        "BZA210    1.552113e-08\n",
        "LFE053    1.550096e-08\n",
        "AFN120    4.309270e-09\n",
        "Length: 108, dtype: float64"
       ]
      }
     ],
     "prompt_number": 16
    },
    {
     "cell_type": "markdown",
     "metadata": {},
     "source": [
      "This has certainly yielded more variables: 101.  We can't possibly need all these, so let us evaluate the impact of the top 20.  First, what are they?"
     ]
    },
    {
     "cell_type": "code",
     "collapsed": false,
     "input": [
      "#Subset to top 20\n",
      "EN_top20=EN_CV_vars.order(ascending=False)[:20]\n",
      "\n",
      "#To what do these variables refer?\n",
      "for var in EN_top20.index:\n",
      "    print var,'|',var_map[var]"
     ],
     "language": "python",
     "metadata": {},
     "outputs": [
      {
       "output_type": "stream",
       "stream": "stdout",
       "text": [
        "HSG180 | Housing units - median rooms, 2005-2009\n",
        "AGE135 | Resident population under 5 years, percent (July 1 - estimate) 2009\n",
        "HSG184 | Housing tenure - average household size of owner-occupied unit, 2005-2009\n",
        "HEA735 | All persons 18 to 64 years without health insurance, percent 2007\n",
        "RHI125 | Resident population: White alone, percent (July 1 - estimate) 2009\n",
        "RHI815 | Resident population: Not Hispanic, White alone, percent (April 1 - estimates base) 2000\n",
        "SEX320 | Resident population: males per 100 females (April 1 - estimate base) 2000\n",
        "RHI825 | Resident population: Not Hispanic, White alone, percent (July 1 - estimate) 2009\n",
        "SEX350 | Resident population: males per 100 females (July 1 - estimate) 2009\n",
        "EDU685 | Educational attainment - persons 25 years and over - percent bachelor's degree or higher 2005-2009\n",
        "BNK010 | Commercial banks and savings institutions (FDIC-insured) - number of offices (June 30) 2010\n",
        "BNK110 | Commercial banks (FDIC-insured) - number of offices (June 30) 2010\n",
        "WAT140 | Water use: total withdrawals by source, ground water 2005\n",
        "BPS230 | New private housing units authorized by building permits - single family houses 2010 (20,000-place universe)\n",
        "INC820 | Families with income in the past 12 months (in 2009 inflation-adjusted dollars) of $125,000 to $149,999 in 2005-2009\n",
        "HSG735 | Median contract rent of specified renter-occupied housing units paying cash rent 2005-2009\n",
        "BPS030 | New private housing units authorized by building permits - total 2010 (20,000-place universe)\n",
        "INC320 | Households with income in the past 12 months (in 2009 inflation-adjusted dollars) of $125,000 to $149,999 in 2005-2009\n",
        "INC445 | Mean household Supplemental Security Income in the past 12 months (in 2009 inflation-adjusted dollars) in 2005-2009\n",
        "SPR430 | Supplemental security income - payments for month (Dec.) 2010\n"
       ]
      },
      {
       "output_type": "stream",
       "stream": "stderr",
       "text": [
        "/home/choct155/analysis/Anaconda/lib/python2.7/site-packages/pandas/core/series.py:1807: DeprecationWarning: numpy boolean negative (the unary `-` operator) is deprecated, use the bitwise_xor (the `^` operator) or the logical_xor function instead.\n",
        "  good = -bad\n"
       ]
      }
     ],
     "prompt_number": 17
    },
    {
     "cell_type": "markdown",
     "metadata": {},
     "source": [
      "This set looks a bit diverse, and indeed captures many concepts that would appear relevant.  How does our OLS perform?"
     ]
    },
    {
     "cell_type": "code",
     "collapsed": false,
     "input": [
      "#Construct formula\n",
      "en_fmla='results ~ '+reduce(lambda x,y: x+' + '+y,[str(var) for var in EN_top20.index])\n",
      "\n",
      "print 'Formula from top 20 Elastic Net variables:',en_fmla\n",
      "\n",
      "#Instantiate OLS model\n",
      "ols_en=smf.ols('results ~ INC884 + IPE010 + LFE150 + PEN020',data=vtcs)\n",
      "\n",
      "#Fit model\n",
      "ols_en_fit=ols_en.fit()\n",
      "\n",
      "ols_en_fit.summary()"
     ],
     "language": "python",
     "metadata": {},
     "outputs": [
      {
       "output_type": "stream",
       "stream": "stdout",
       "text": [
        "Formula from top 20 Elastic Net variables: results ~ HSG180 + AGE135 + HSG184 + HEA735 + RHI125 + RHI815 + SEX320 + RHI825 + SEX350 + EDU685 + BNK010 + BNK110 + WAT140 + BPS230 + INC820 + HSG735 + BPS030 + INC320 + INC445 + SPR430\n"
       ]
      },
      {
       "html": [
        "<table class=\"simpletable\">\n",
        "<caption>OLS Regression Results</caption>\n",
        "<tr>\n",
        "  <th>Dep. Variable:</th>         <td>results</td>     <th>  R-squared:         </th> <td>   0.037</td>\n",
        "</tr>\n",
        "<tr>\n",
        "  <th>Model:</th>                   <td>OLS</td>       <th>  Adj. R-squared:    </th> <td>   0.030</td>\n",
        "</tr>\n",
        "<tr>\n",
        "  <th>Method:</th>             <td>Least Squares</td>  <th>  F-statistic:       </th> <td>   5.030</td>\n",
        "</tr>\n",
        "<tr>\n",
        "  <th>Date:</th>             <td>Wed, 12 Nov 2014</td> <th>  Prob (F-statistic):</th> <td>0.000552</td>\n",
        "</tr>\n",
        "<tr>\n",
        "  <th>Time:</th>                 <td>13:15:05</td>     <th>  Log-Likelihood:    </th> <td> -2157.9</td>\n",
        "</tr>\n",
        "<tr>\n",
        "  <th>No. Observations:</th>      <td>   527</td>      <th>  AIC:               </th> <td>   4326.</td>\n",
        "</tr>\n",
        "<tr>\n",
        "  <th>Df Residuals:</th>          <td>   522</td>      <th>  BIC:               </th> <td>   4347.</td>\n",
        "</tr>\n",
        "<tr>\n",
        "  <th>Df Model:</th>              <td>     4</td>      <th>                     </th>     <td> </td>   \n",
        "</tr>\n",
        "</table>\n",
        "<table class=\"simpletable\">\n",
        "<tr>\n",
        "      <td></td>         <th>coef</th>     <th>std err</th>      <th>t</th>      <th>P>|t|</th> <th>[95.0% Conf. Int.]</th> \n",
        "</tr>\n",
        "<tr>\n",
        "  <th>Intercept</th> <td>   40.6268</td> <td>    2.961</td> <td>   13.722</td> <td> 0.000</td> <td>   34.810    46.443</td>\n",
        "</tr>\n",
        "<tr>\n",
        "  <th>INC884</th>    <td>    0.0004</td> <td>    0.000</td> <td>    2.548</td> <td> 0.011</td> <td> 9.15e-05     0.001</td>\n",
        "</tr>\n",
        "<tr>\n",
        "  <th>IPE010</th>    <td>   -0.0001</td> <td> 8.81e-05</td> <td>   -1.261</td> <td> 0.208</td> <td>   -0.000  6.19e-05</td>\n",
        "</tr>\n",
        "<tr>\n",
        "  <th>LFE150</th>    <td> 1.624e-05</td> <td> 2.33e-05</td> <td>    0.698</td> <td> 0.485</td> <td>-2.94e-05  6.19e-05</td>\n",
        "</tr>\n",
        "<tr>\n",
        "  <th>PEN020</th>    <td>    0.0002</td> <td> 7.48e-05</td> <td>    2.086</td> <td> 0.037</td> <td> 9.06e-06     0.000</td>\n",
        "</tr>\n",
        "</table>\n",
        "<table class=\"simpletable\">\n",
        "<tr>\n",
        "  <th>Omnibus:</th>       <td> 1.019</td> <th>  Durbin-Watson:     </th> <td>   1.600</td>\n",
        "</tr>\n",
        "<tr>\n",
        "  <th>Prob(Omnibus):</th> <td> 0.601</td> <th>  Jarque-Bera (JB):  </th> <td>   1.107</td>\n",
        "</tr>\n",
        "<tr>\n",
        "  <th>Skew:</th>          <td>-0.097</td> <th>  Prob(JB):          </th> <td>   0.575</td>\n",
        "</tr>\n",
        "<tr>\n",
        "  <th>Kurtosis:</th>      <td> 2.888</td> <th>  Cond. No.          </th> <td>2.95e+05</td>\n",
        "</tr>\n",
        "</table>"
       ],
       "metadata": {},
       "output_type": "pyout",
       "prompt_number": 18,
       "text": [
        "<class 'statsmodels.iolib.summary.Summary'>\n",
        "\"\"\"\n",
        "                            OLS Regression Results                            \n",
        "==============================================================================\n",
        "Dep. Variable:                results   R-squared:                       0.037\n",
        "Model:                            OLS   Adj. R-squared:                  0.030\n",
        "Method:                 Least Squares   F-statistic:                     5.030\n",
        "Date:                Wed, 12 Nov 2014   Prob (F-statistic):           0.000552\n",
        "Time:                        13:15:05   Log-Likelihood:                -2157.9\n",
        "No. Observations:                 527   AIC:                             4326.\n",
        "Df Residuals:                     522   BIC:                             4347.\n",
        "Df Model:                           4                                         \n",
        "==============================================================================\n",
        "                 coef    std err          t      P>|t|      [95.0% Conf. Int.]\n",
        "------------------------------------------------------------------------------\n",
        "Intercept     40.6268      2.961     13.722      0.000        34.810    46.443\n",
        "INC884         0.0004      0.000      2.548      0.011      9.15e-05     0.001\n",
        "IPE010        -0.0001   8.81e-05     -1.261      0.208        -0.000  6.19e-05\n",
        "LFE150      1.624e-05   2.33e-05      0.698      0.485     -2.94e-05  6.19e-05\n",
        "PEN020         0.0002   7.48e-05      2.086      0.037      9.06e-06     0.000\n",
        "==============================================================================\n",
        "Omnibus:                        1.019   Durbin-Watson:                   1.600\n",
        "Prob(Omnibus):                  0.601   Jarque-Bera (JB):                1.107\n",
        "Skew:                          -0.097   Prob(JB):                        0.575\n",
        "Kurtosis:                       2.888   Cond. No.                     2.95e+05\n",
        "==============================================================================\n",
        "\n",
        "Warnings:\n",
        "[1] The condition number is large, 2.95e+05. This might indicate that there are\n",
        "strong multicollinearity or other numerical problems.\n",
        "\"\"\""
       ]
      }
     ],
     "prompt_number": 18
    },
    {
     "cell_type": "markdown",
     "metadata": {},
     "source": [
      "It looks no better than the straight Lasso.  What about the score directly from the model?\n",
      "\n",
      "knear, SVM, PCA?"
     ]
    },
    {
     "cell_type": "code",
     "collapsed": false,
     "input": [
      "enet_base.score(X,y)"
     ],
     "language": "python",
     "metadata": {},
     "outputs": [
      {
       "metadata": {},
       "output_type": "pyout",
       "prompt_number": 19,
       "text": [
        "0.11977277606067382"
       ]
      }
     ],
     "prompt_number": 19
    },
    {
     "cell_type": "heading",
     "level": 2,
     "metadata": {},
     "source": [
      "Principal Components Analysis"
     ]
    },
    {
     "cell_type": "markdown",
     "metadata": {},
     "source": [
      "We are just not getting the predictive power we need out of these sparse estimators, and it's difficult to get visual insight in such high dimensions.  We can address at least the latter with PCA."
     ]
    },
    {
     "cell_type": "code",
     "collapsed": false,
     "input": [
      "from sklearn import decomposition\n",
      "from sklearn.pipeline import Pipeline\n",
      "from sklearn.grid_search import GridSearchCV"
     ],
     "language": "python",
     "metadata": {},
     "outputs": [],
     "prompt_number": 20
    },
    {
     "cell_type": "markdown",
     "metadata": {},
     "source": [
      "Let's distill the data down to a visually plausible number of dimensions."
     ]
    },
    {
     "cell_type": "code",
     "collapsed": false,
     "input": [
      "#Instantiate PCA object\n",
      "pca=decomposition.PCA()\n",
      "\n",
      "#Fit data to PCA object\n",
      "pca.fit(X)"
     ],
     "language": "python",
     "metadata": {},
     "outputs": [
      {
       "metadata": {},
       "output_type": "pyout",
       "prompt_number": 21,
       "text": [
        "PCA(copy=True, n_components=None, whiten=False)"
       ]
      }
     ],
     "prompt_number": 21
    },
    {
     "cell_type": "markdown",
     "metadata": {},
     "source": [
      "Ok, how quickly does explained variation diminish with the number of dimensions?"
     ]
    },
    {
     "cell_type": "code",
     "collapsed": false,
     "input": [
      "#Generate plot object\n",
      "fig,ax=plt.subplots(1,2,figsize=(16,5))\n",
      "\n",
      "#Plot explained variance\n",
      "ax[0].plot(pca.explained_variance_)\n",
      "ax[1].plot(pca.explained_variance_ratio_)\n",
      "\n",
      "#Set range\n",
      "ax[0].set_xlim([0,20])\n",
      "ax[0].set_xticks(range(21))\n",
      "ax[1].set_xlim([0,20])\n",
      "ax[1].set_xticks(range(21))\n",
      "\n",
      "#Fix titles\n",
      "ax[0].set_title('Explained Variation vs. Number of Dimensions')\n",
      "ax[1].set_title('Explained Variance Ratio vs. Number of Dimensions')\n",
      "\n",
      "print 'Proportion of variation explained by first two components:',pca.explained_variance_ratio_[:2].sum()"
     ],
     "language": "python",
     "metadata": {},
     "outputs": [
      {
       "output_type": "stream",
       "stream": "stdout",
       "text": [
        "Proportion of variation explained by first two components: 0.966988469393\n"
       ]
      },
      {
       "metadata": {},
       "output_type": "display_data",
       "png": "[encoded data removed]",
       "text": [
        "<matplotlib.figure.Figure at 0x7feab4c53b50>"
       ]
      }
     ],
     "prompt_number": 22
    },
    {
     "cell_type": "markdown",
     "metadata": {},
     "source": [
      "Well isn't that something?  The plot suggests we can probably get away with focusing on the first two dimensions.\n",
      "\n",
      "Let's take a look at what we have.  The first step is converting our high-dimensional data into two principal component dimensions.  These dimensions represent our new basis that we will use to view the data.  *These new dimensions are arranged in order.  That is, the first dimension explains the most variation, the second explains the second most variation, and so on and so forth.*  Once this has been done, we can align our response with these dimensions to see if we notice any patterns."
     ]
    },
    {
     "cell_type": "code",
     "collapsed": false,
     "input": [
      "print 'Shape of original design matrix:',X.shape\n",
      "print 'Shape of principal components:',pca.components_.shape\n",
      "\n",
      "#Generate rotated design matrix\n",
      "pca_X=np.dot(X,pca.components_.T)\n",
      "\n",
      "print 'Shape of rotated design matrix:',pca_X.shape\n",
      "print 'Shape of response:',y.shape"
     ],
     "language": "python",
     "metadata": {},
     "outputs": [
      {
       "output_type": "stream",
       "stream": "stdout",
       "text": [
        "Shape of original design matrix: (527, 521)\n",
        "Shape of principal components: (521, 521)\n",
        "Shape of rotated design matrix: (527, 521)\n",
        "Shape of response: (527,)\n"
       ]
      }
     ],
     "prompt_number": 23
    },
    {
     "cell_type": "markdown",
     "metadata": {},
     "source": [
      "To notice patterns, we need a method of assigning color to the data.  It's likely to be interesting to identify both continuous patterns, associated with the continuous value of `results`, and discrete patterns, associated with passage (`results>50`)."
     ]
    },
    {
     "cell_type": "code",
     "collapsed": false,
     "input": [
      "# from matplotlib import rcParams\n",
      "# for key in [k for k in rcParams.keys() if 'ax' in k]:\n",
      "#     print key, rcParams[key]"
     ],
     "language": "python",
     "metadata": {},
     "outputs": [],
     "prompt_number": 97
    },
    {
     "cell_type": "code",
     "collapsed": false,
     "input": [
      "rcParams['axes.linewidth']=1\n",
      "rcParams['axes.edgecolor']='k'\n",
      "\n",
      "#Instantiate object containing normalized values for results\n",
      "res_norm=plt.Normalize(vmin=y.min(),vmax=y.max())\n",
      "\n",
      "#Instantiate color map\n",
      "col_map = plt.get_cmap(\"RdBu\")\n",
      "\n",
      "#Define colors for passage\n",
      "pass_colors=np.where(y>50.,'#272375','#B03541')\n",
      "\n",
      "#Generate plot object\n",
      "fig,ax=plt.subplots(1,2,figsize=(18,8),frameon=True)\n",
      "\n",
      "#Plot results\n",
      "ax[0].scatter(pca_X[:,1],pca_X[:,2],lw=0,alpha=.5,s=70,color=col_map(res_norm(y)))\n",
      "ax[1].scatter(pca_X[:,1],pca_X[:,2],lw=0,alpha=.5,s=70,color=pass_colors)\n",
      "\n",
      "#Set titles\n",
      "ax[0].set_title('Results in PCA Basis',fontsize=16)\n",
      "ax[1].set_title('Passage in PCA Basis',fontsize=16)\n",
      "ax[0].set_xticklabels([])\n",
      "ax[0].set_yticklabels([])\n",
      "ax[1].set_xticklabels([])\n",
      "ax[1].set_yticklabels([])\n",
      "\n",
      "#Fix background\n",
      "ax[0].patch.set_facecolor('w')\n",
      "ax[1].patch.set_facecolor('w')\n",
      "\n",
      "#Set labels\n",
      "ax[0].set_xlabel('First Principal Component')\n",
      "ax[0].set_ylabel('Second Principal Component')\n",
      "ax[1].set_xlabel('First Principal Component')\n",
      "ax[1].set_ylabel('Second Principal Component')\n",
      "\n",
      "ax[1].legend(loc='best')\n",
      "\n",
      "plt.savefig('votes_pca_view.png',dpi=500)"
     ],
     "language": "python",
     "metadata": {},
     "outputs": [
      {
       "metadata": {},
       "output_type": "display_data",
       "png": "[encoded data removed]",
       "text": [
        "<matplotlib.figure.Figure at 0x7feab1894550>"
       ]
      }
     ],
     "prompt_number": 98
    },
    {
     "cell_type": "markdown",
     "metadata": {},
     "source": [
      "I am not holding my breath, but let's see what we can predict with our components."
     ]
    },
    {
     "cell_type": "code",
     "collapsed": false,
     "input": [
      "#Instantiate OLS object\n",
      "ols=sm.OLS(y,pca_X[:,1:30])\n",
      "\n",
      "#Fit model\n",
      "ols_res=ols.fit()\n",
      "\n",
      "ols_res.summary()"
     ],
     "language": "python",
     "metadata": {},
     "outputs": [
      {
       "html": [
        "<table class=\"simpletable\">\n",
        "<caption>OLS Regression Results</caption>\n",
        "<tr>\n",
        "  <th>Dep. Variable:</th>            <td>y</td>        <th>  R-squared:         </th> <td>   0.921</td> \n",
        "</tr>\n",
        "<tr>\n",
        "  <th>Model:</th>                   <td>OLS</td>       <th>  Adj. R-squared:    </th> <td>   0.917</td> \n",
        "</tr>\n",
        "<tr>\n",
        "  <th>Method:</th>             <td>Least Squares</td>  <th>  F-statistic:       </th> <td>   201.6</td> \n",
        "</tr>\n",
        "<tr>\n",
        "  <th>Date:</th>             <td>Wed, 12 Nov 2014</td> <th>  Prob (F-statistic):</th> <td>3.18e-254</td>\n",
        "</tr>\n",
        "<tr>\n",
        "  <th>Time:</th>                 <td>13:15:13</td>     <th>  Log-Likelihood:    </th> <td> -2175.3</td> \n",
        "</tr>\n",
        "<tr>\n",
        "  <th>No. Observations:</th>      <td>   527</td>      <th>  AIC:               </th> <td>   4409.</td> \n",
        "</tr>\n",
        "<tr>\n",
        "  <th>Df Residuals:</th>          <td>   498</td>      <th>  BIC:               </th> <td>   4532.</td> \n",
        "</tr>\n",
        "<tr>\n",
        "  <th>Df Model:</th>              <td>    29</td>      <th>                     </th>     <td> </td>    \n",
        "</tr>\n",
        "</table>\n",
        "<table class=\"simpletable\">\n",
        "<tr>\n",
        "   <td></td>      <th>coef</th>     <th>std err</th>      <th>t</th>      <th>P>|t|</th> <th>[95.0% Conf. Int.]</th> \n",
        "</tr>\n",
        "<tr>\n",
        "  <th>x1</th>  <td> 3.554e-07</td> <td> 1.94e-07</td> <td>    1.832</td> <td> 0.068</td> <td>-2.58e-08  7.37e-07</td>\n",
        "</tr>\n",
        "<tr>\n",
        "  <th>x2</th>  <td> 3.085e-06</td> <td> 9.61e-07</td> <td>    3.209</td> <td> 0.001</td> <td>  1.2e-06  4.97e-06</td>\n",
        "</tr>\n",
        "<tr>\n",
        "  <th>x3</th>  <td>-5.182e-07</td> <td> 1.18e-06</td> <td>   -0.439</td> <td> 0.661</td> <td>-2.84e-06   1.8e-06</td>\n",
        "</tr>\n",
        "<tr>\n",
        "  <th>x4</th>  <td> 1.333e-06</td> <td> 1.58e-06</td> <td>    0.844</td> <td> 0.399</td> <td>-1.77e-06  4.44e-06</td>\n",
        "</tr>\n",
        "<tr>\n",
        "  <th>x5</th>  <td>  4.56e-06</td> <td> 2.14e-06</td> <td>    2.130</td> <td> 0.034</td> <td> 3.55e-07  8.77e-06</td>\n",
        "</tr>\n",
        "<tr>\n",
        "  <th>x6</th>  <td>-4.455e-06</td> <td> 3.42e-06</td> <td>   -1.302</td> <td> 0.194</td> <td>-1.12e-05  2.27e-06</td>\n",
        "</tr>\n",
        "<tr>\n",
        "  <th>x7</th>  <td>-1.835e-05</td> <td> 3.89e-06</td> <td>   -4.712</td> <td> 0.000</td> <td> -2.6e-05 -1.07e-05</td>\n",
        "</tr>\n",
        "<tr>\n",
        "  <th>x8</th>  <td>-2.167e-06</td> <td> 4.51e-06</td> <td>   -0.480</td> <td> 0.631</td> <td> -1.1e-05   6.7e-06</td>\n",
        "</tr>\n",
        "<tr>\n",
        "  <th>x9</th>  <td> 1.419e-05</td> <td> 5.47e-06</td> <td>    2.594</td> <td> 0.010</td> <td> 3.44e-06  2.49e-05</td>\n",
        "</tr>\n",
        "<tr>\n",
        "  <th>x10</th> <td> 1.646e-06</td> <td> 6.79e-06</td> <td>    0.242</td> <td> 0.809</td> <td>-1.17e-05   1.5e-05</td>\n",
        "</tr>\n",
        "<tr>\n",
        "  <th>x11</th> <td> 2.201e-05</td> <td> 7.47e-06</td> <td>    2.947</td> <td> 0.003</td> <td> 7.34e-06  3.67e-05</td>\n",
        "</tr>\n",
        "<tr>\n",
        "  <th>x12</th> <td>-2.083e-06</td> <td> 9.15e-06</td> <td>   -0.228</td> <td> 0.820</td> <td>-2.01e-05  1.59e-05</td>\n",
        "</tr>\n",
        "<tr>\n",
        "  <th>x13</th> <td>  1.93e-06</td> <td>  1.2e-05</td> <td>    0.161</td> <td> 0.872</td> <td>-2.17e-05  2.55e-05</td>\n",
        "</tr>\n",
        "<tr>\n",
        "  <th>x14</th> <td>-3.167e-05</td> <td> 1.45e-05</td> <td>   -2.191</td> <td> 0.029</td> <td>-6.01e-05 -3.27e-06</td>\n",
        "</tr>\n",
        "<tr>\n",
        "  <th>x15</th> <td> 4.928e-06</td> <td> 1.46e-05</td> <td>    0.338</td> <td> 0.736</td> <td>-2.37e-05  3.36e-05</td>\n",
        "</tr>\n",
        "<tr>\n",
        "  <th>x16</th> <td> 1.469e-05</td> <td> 1.68e-05</td> <td>    0.875</td> <td> 0.382</td> <td>-1.83e-05  4.77e-05</td>\n",
        "</tr>\n",
        "<tr>\n",
        "  <th>x17</th> <td> 1.485e-05</td> <td> 1.95e-05</td> <td>    0.762</td> <td> 0.446</td> <td>-2.34e-05  5.32e-05</td>\n",
        "</tr>\n",
        "<tr>\n",
        "  <th>x18</th> <td> -5.01e-06</td> <td> 2.08e-05</td> <td>   -0.240</td> <td> 0.810</td> <td> -4.6e-05  3.59e-05</td>\n",
        "</tr>\n",
        "<tr>\n",
        "  <th>x19</th> <td>-1.949e-05</td> <td> 2.99e-05</td> <td>   -0.652</td> <td> 0.514</td> <td>-7.82e-05  3.92e-05</td>\n",
        "</tr>\n",
        "<tr>\n",
        "  <th>x20</th> <td> 2.031e-05</td> <td> 3.07e-05</td> <td>    0.661</td> <td> 0.509</td> <td>   -4e-05  8.07e-05</td>\n",
        "</tr>\n",
        "<tr>\n",
        "  <th>x21</th> <td>   -0.0002</td> <td> 3.14e-05</td> <td>   -7.838</td> <td> 0.000</td> <td>   -0.000    -0.000</td>\n",
        "</tr>\n",
        "<tr>\n",
        "  <th>x22</th> <td> 5.343e-06</td> <td> 4.51e-05</td> <td>    0.118</td> <td> 0.906</td> <td>-8.33e-05   9.4e-05</td>\n",
        "</tr>\n",
        "<tr>\n",
        "  <th>x23</th> <td>    0.0002</td> <td>  4.5e-05</td> <td>    4.534</td> <td> 0.000</td> <td>    0.000     0.000</td>\n",
        "</tr>\n",
        "<tr>\n",
        "  <th>x24</th> <td>   -0.0003</td> <td> 4.64e-05</td> <td>   -6.736</td> <td> 0.000</td> <td>   -0.000    -0.000</td>\n",
        "</tr>\n",
        "<tr>\n",
        "  <th>x25</th> <td>    0.0001</td> <td> 6.27e-05</td> <td>    2.034</td> <td> 0.043</td> <td> 4.33e-06     0.000</td>\n",
        "</tr>\n",
        "<tr>\n",
        "  <th>x26</th> <td>    0.0001</td> <td> 6.91e-05</td> <td>    2.049</td> <td> 0.041</td> <td> 5.85e-06     0.000</td>\n",
        "</tr>\n",
        "<tr>\n",
        "  <th>x27</th> <td> 1.422e-05</td> <td> 7.12e-05</td> <td>    0.200</td> <td> 0.842</td> <td>   -0.000     0.000</td>\n",
        "</tr>\n",
        "<tr>\n",
        "  <th>x28</th> <td> 1.369e-05</td> <td> 7.48e-05</td> <td>    0.183</td> <td> 0.855</td> <td>   -0.000     0.000</td>\n",
        "</tr>\n",
        "<tr>\n",
        "  <th>x29</th> <td>   -0.0002</td> <td> 8.05e-05</td> <td>   -2.115</td> <td> 0.035</td> <td>   -0.000 -1.21e-05</td>\n",
        "</tr>\n",
        "</table>\n",
        "<table class=\"simpletable\">\n",
        "<tr>\n",
        "  <th>Omnibus:</th>       <td> 0.621</td> <th>  Durbin-Watson:     </th> <td>   1.537</td>\n",
        "</tr>\n",
        "<tr>\n",
        "  <th>Prob(Omnibus):</th> <td> 0.733</td> <th>  Jarque-Bera (JB):  </th> <td>   0.620</td>\n",
        "</tr>\n",
        "<tr>\n",
        "  <th>Skew:</th>          <td>-0.083</td> <th>  Prob(JB):          </th> <td>   0.734</td>\n",
        "</tr>\n",
        "<tr>\n",
        "  <th>Kurtosis:</th>      <td> 2.974</td> <th>  Cond. No.          </th> <td>    416.</td>\n",
        "</tr>\n",
        "</table>"
       ],
       "metadata": {},
       "output_type": "pyout",
       "prompt_number": 26,
       "text": [
        "<class 'statsmodels.iolib.summary.Summary'>\n",
        "\"\"\"\n",
        "                            OLS Regression Results                            \n",
        "==============================================================================\n",
        "Dep. Variable:                      y   R-squared:                       0.921\n",
        "Model:                            OLS   Adj. R-squared:                  0.917\n",
        "Method:                 Least Squares   F-statistic:                     201.6\n",
        "Date:                Wed, 12 Nov 2014   Prob (F-statistic):          3.18e-254\n",
        "Time:                        13:15:13   Log-Likelihood:                -2175.3\n",
        "No. Observations:                 527   AIC:                             4409.\n",
        "Df Residuals:                     498   BIC:                             4532.\n",
        "Df Model:                          29                                         \n",
        "==============================================================================\n",
        "                 coef    std err          t      P>|t|      [95.0% Conf. Int.]\n",
        "------------------------------------------------------------------------------\n",
        "x1          3.554e-07   1.94e-07      1.832      0.068     -2.58e-08  7.37e-07\n",
        "x2          3.085e-06   9.61e-07      3.209      0.001       1.2e-06  4.97e-06\n",
        "x3         -5.182e-07   1.18e-06     -0.439      0.661     -2.84e-06   1.8e-06\n",
        "x4          1.333e-06   1.58e-06      0.844      0.399     -1.77e-06  4.44e-06\n",
        "x5           4.56e-06   2.14e-06      2.130      0.034      3.55e-07  8.77e-06\n",
        "x6         -4.455e-06   3.42e-06     -1.302      0.194     -1.12e-05  2.27e-06\n",
        "x7         -1.835e-05   3.89e-06     -4.712      0.000      -2.6e-05 -1.07e-05\n",
        "x8         -2.167e-06   4.51e-06     -0.480      0.631      -1.1e-05   6.7e-06\n",
        "x9          1.419e-05   5.47e-06      2.594      0.010      3.44e-06  2.49e-05\n",
        "x10         1.646e-06   6.79e-06      0.242      0.809     -1.17e-05   1.5e-05\n",
        "x11         2.201e-05   7.47e-06      2.947      0.003      7.34e-06  3.67e-05\n",
        "x12        -2.083e-06   9.15e-06     -0.228      0.820     -2.01e-05  1.59e-05\n",
        "x13          1.93e-06    1.2e-05      0.161      0.872     -2.17e-05  2.55e-05\n",
        "x14        -3.167e-05   1.45e-05     -2.191      0.029     -6.01e-05 -3.27e-06\n",
        "x15         4.928e-06   1.46e-05      0.338      0.736     -2.37e-05  3.36e-05\n",
        "x16         1.469e-05   1.68e-05      0.875      0.382     -1.83e-05  4.77e-05\n",
        "x17         1.485e-05   1.95e-05      0.762      0.446     -2.34e-05  5.32e-05\n",
        "x18         -5.01e-06   2.08e-05     -0.240      0.810      -4.6e-05  3.59e-05\n",
        "x19        -1.949e-05   2.99e-05     -0.652      0.514     -7.82e-05  3.92e-05\n",
        "x20         2.031e-05   3.07e-05      0.661      0.509        -4e-05  8.07e-05\n",
        "x21           -0.0002   3.14e-05     -7.838      0.000        -0.000    -0.000\n",
        "x22         5.343e-06   4.51e-05      0.118      0.906     -8.33e-05   9.4e-05\n",
        "x23            0.0002    4.5e-05      4.534      0.000         0.000     0.000\n",
        "x24           -0.0003   4.64e-05     -6.736      0.000        -0.000    -0.000\n",
        "x25            0.0001   6.27e-05      2.034      0.043      4.33e-06     0.000\n",
        "x26            0.0001   6.91e-05      2.049      0.041      5.85e-06     0.000\n",
        "x27         1.422e-05   7.12e-05      0.200      0.842        -0.000     0.000\n",
        "x28         1.369e-05   7.48e-05      0.183      0.855        -0.000     0.000\n",
        "x29           -0.0002   8.05e-05     -2.115      0.035        -0.000 -1.21e-05\n",
        "==============================================================================\n",
        "Omnibus:                        0.621   Durbin-Watson:                   1.537\n",
        "Prob(Omnibus):                  0.733   Jarque-Bera (JB):                0.620\n",
        "Skew:                          -0.083   Prob(JB):                        0.734\n",
        "Kurtosis:                       2.974   Cond. No.                         416.\n",
        "==============================================================================\n",
        "\"\"\""
       ]
      }
     ],
     "prompt_number": 26
    },
    {
     "cell_type": "heading",
     "level": 2,
     "metadata": {},
     "source": [
      "Classification"
     ]
    },
    {
     "cell_type": "markdown",
     "metadata": {},
     "source": [
      "The regression approach is interesting, but may not be necessary for our purposes.  All we need to do is predict whether or not a vote either passes or does not.  To that end, we will focus on classification schemes.  In particular, we will explore the predictive capability of the following approaches:\n",
      "\n",
      "+ Logistic Regression\n",
      "+ Support Vector Machines\n",
      "+ Random Forests\n",
      "+ K-Nearest Neighbor\n",
      "\n",
      "For the time being, we will fit the entire data set.  If one technique demonstrates promise, we will explore optimization via cross-validation.  Note that the data will be fit both for the original and rotated bases captured with PCA above."
     ]
    },
    {
     "cell_type": "heading",
     "level": 3,
     "metadata": {},
     "source": [
      "Logistic Regression"
     ]
    },
    {
     "cell_type": "heading",
     "level": 4,
     "metadata": {},
     "source": [
      "Original Data"
     ]
    },
    {
     "cell_type": "code",
     "collapsed": false,
     "input": [
      "#Define a binary passage variable\n",
      "y_pass=np.where(y>50.,1,0)\n",
      "\n",
      "#Initiate Logit object\n",
      "logit=linear_model.LogisticRegression()\n",
      "\n",
      "#Fit data\n",
      "logit.fit(X,y_pass)\n",
      "\n",
      "logit"
     ],
     "language": "python",
     "metadata": {},
     "outputs": [
      {
       "metadata": {},
       "output_type": "pyout",
       "prompt_number": 27,
       "text": [
        "LogisticRegression(C=1.0, class_weight=None, dual=False, fit_intercept=True,\n",
        "          intercept_scaling=1, penalty='l2', random_state=None, tol=0.0001)"
       ]
      }
     ],
     "prompt_number": 27
    },
    {
     "cell_type": "code",
     "collapsed": false,
     "input": [
      "logit.score(X,y_pass)"
     ],
     "language": "python",
     "metadata": {},
     "outputs": [
      {
       "metadata": {},
       "output_type": "pyout",
       "prompt_number": 28,
       "text": [
        "0.82732447817836807"
       ]
      }
     ],
     "prompt_number": 28
    },
    {
     "cell_type": "heading",
     "level": 4,
     "metadata": {},
     "source": [
      "PCA Basis"
     ]
    },
    {
     "cell_type": "code",
     "collapsed": false,
     "input": [
      "#Initiate Logit object\n",
      "logit_pca=linear_model.LogisticRegression()\n",
      "\n",
      "#Fit data\n",
      "logit_pca.fit(pca_X,y_pass)\n",
      "\n",
      "logit_pca"
     ],
     "language": "python",
     "metadata": {},
     "outputs": [
      {
       "metadata": {},
       "output_type": "pyout",
       "prompt_number": 29,
       "text": [
        "LogisticRegression(C=1.0, class_weight=None, dual=False, fit_intercept=True,\n",
        "          intercept_scaling=1, penalty='l2', random_state=None, tol=0.0001)"
       ]
      }
     ],
     "prompt_number": 29
    },
    {
     "cell_type": "code",
     "collapsed": false,
     "input": [
      "logit_pca.score(pca_X,y_pass)"
     ],
     "language": "python",
     "metadata": {},
     "outputs": [
      {
       "metadata": {},
       "output_type": "pyout",
       "prompt_number": 30,
       "text": [
        "0.82352941176470584"
       ]
      }
     ],
     "prompt_number": 30
    },
    {
     "cell_type": "heading",
     "level": 3,
     "metadata": {},
     "source": [
      "Support Vector Machines"
     ]
    },
    {
     "cell_type": "heading",
     "level": 4,
     "metadata": {},
     "source": [
      "Original Data"
     ]
    },
    {
     "cell_type": "code",
     "collapsed": false,
     "input": [
      "from sklearn.svm import SVC"
     ],
     "language": "python",
     "metadata": {},
     "outputs": [],
     "prompt_number": 31
    },
    {
     "cell_type": "code",
     "collapsed": false,
     "input": [
      "#Instantiate SVM object\n",
      "svm=SVC()\n",
      "\n",
      "#Fit data\n",
      "svm.fit(X,y_pass)\n",
      "\n",
      "svm"
     ],
     "language": "python",
     "metadata": {},
     "outputs": [
      {
       "metadata": {},
       "output_type": "pyout",
       "prompt_number": 32,
       "text": [
        "SVC(C=1.0, cache_size=200, class_weight=None, coef0=0.0, degree=3, gamma=0.0,\n",
        "  kernel='rbf', max_iter=-1, probability=False, random_state=None,\n",
        "  shrinking=True, tol=0.001, verbose=False)"
       ]
      }
     ],
     "prompt_number": 32
    },
    {
     "cell_type": "code",
     "collapsed": false,
     "input": [
      "svm.score(X,y_pass)"
     ],
     "language": "python",
     "metadata": {},
     "outputs": [
      {
       "metadata": {},
       "output_type": "pyout",
       "prompt_number": 33,
       "text": [
        "0.92409867172675519"
       ]
      }
     ],
     "prompt_number": 33
    },
    {
     "cell_type": "heading",
     "level": 4,
     "metadata": {},
     "source": [
      "PCA Basis"
     ]
    },
    {
     "cell_type": "code",
     "collapsed": false,
     "input": [
      "#Instantiate SVM object\n",
      "svm_pca=SVC()\n",
      "\n",
      "#Fit data\n",
      "svm_pca.fit(pca_X,y_pass)\n",
      "\n",
      "svm_pca"
     ],
     "language": "python",
     "metadata": {},
     "outputs": [
      {
       "metadata": {},
       "output_type": "pyout",
       "prompt_number": 34,
       "text": [
        "SVC(C=1.0, cache_size=200, class_weight=None, coef0=0.0, degree=3, gamma=0.0,\n",
        "  kernel='rbf', max_iter=-1, probability=False, random_state=None,\n",
        "  shrinking=True, tol=0.001, verbose=False)"
       ]
      }
     ],
     "prompt_number": 34
    },
    {
     "cell_type": "code",
     "collapsed": false,
     "input": [
      "svm_pca.score(pca_X,y_pass)"
     ],
     "language": "python",
     "metadata": {},
     "outputs": [
      {
       "metadata": {},
       "output_type": "pyout",
       "prompt_number": 35,
       "text": [
        "0.92409867172675519"
       ]
      }
     ],
     "prompt_number": 35
    },
    {
     "cell_type": "heading",
     "level": 3,
     "metadata": {},
     "source": [
      "Random Forests"
     ]
    },
    {
     "cell_type": "heading",
     "level": 4,
     "metadata": {},
     "source": [
      "Original Data"
     ]
    },
    {
     "cell_type": "code",
     "collapsed": false,
     "input": [
      "from sklearn.ensemble import RandomForestClassifier"
     ],
     "language": "python",
     "metadata": {},
     "outputs": [],
     "prompt_number": 36
    },
    {
     "cell_type": "code",
     "collapsed": false,
     "input": [
      "#Instantiate forest\n",
      "ranf=RandomForestClassifier()\n",
      "\n",
      "#Fit data\n",
      "ranf.fit(X,y_pass)\n",
      "\n",
      "ranf"
     ],
     "language": "python",
     "metadata": {},
     "outputs": [
      {
       "metadata": {},
       "output_type": "pyout",
       "prompt_number": 37,
       "text": [
        "RandomForestClassifier(bootstrap=True, compute_importances=None,\n",
        "            criterion='gini', max_depth=None, max_features='auto',\n",
        "            min_density=None, min_samples_leaf=1, min_samples_split=2,\n",
        "            n_estimators=10, n_jobs=1, oob_score=False, random_state=None,\n",
        "            verbose=0)"
       ]
      }
     ],
     "prompt_number": 37
    },
    {
     "cell_type": "code",
     "collapsed": false,
     "input": [
      "ranf.score(X,y_pass)"
     ],
     "language": "python",
     "metadata": {},
     "outputs": [
      {
       "metadata": {},
       "output_type": "pyout",
       "prompt_number": 38,
       "text": [
        "0.91081593927893734"
       ]
      }
     ],
     "prompt_number": 38
    },
    {
     "cell_type": "heading",
     "level": 4,
     "metadata": {},
     "source": [
      "PCA Basis"
     ]
    },
    {
     "cell_type": "code",
     "collapsed": false,
     "input": [
      "#Instantiate forest\n",
      "ranf_pca=RandomForestClassifier()\n",
      "\n",
      "#Fit data\n",
      "ranf_pca.fit(pca_X,y_pass)\n",
      "\n",
      "ranf_pca"
     ],
     "language": "python",
     "metadata": {},
     "outputs": [
      {
       "metadata": {},
       "output_type": "pyout",
       "prompt_number": 39,
       "text": [
        "RandomForestClassifier(bootstrap=True, compute_importances=None,\n",
        "            criterion='gini', max_depth=None, max_features='auto',\n",
        "            min_density=None, min_samples_leaf=1, min_samples_split=2,\n",
        "            n_estimators=10, n_jobs=1, oob_score=False, random_state=None,\n",
        "            verbose=0)"
       ]
      }
     ],
     "prompt_number": 39
    },
    {
     "cell_type": "code",
     "collapsed": false,
     "input": [
      "ranf_pca.score(pca_X,y_pass)"
     ],
     "language": "python",
     "metadata": {},
     "outputs": [
      {
       "metadata": {},
       "output_type": "pyout",
       "prompt_number": 40,
       "text": [
        "0.92030360531309297"
       ]
      }
     ],
     "prompt_number": 40
    },
    {
     "cell_type": "heading",
     "level": 3,
     "metadata": {},
     "source": [
      "K-Nearest Neighbor"
     ]
    },
    {
     "cell_type": "heading",
     "level": 4,
     "metadata": {},
     "source": [
      "Original Data"
     ]
    },
    {
     "cell_type": "code",
     "collapsed": false,
     "input": [
      "from sklearn.neighbors import KNeighborsClassifier"
     ],
     "language": "python",
     "metadata": {},
     "outputs": [],
     "prompt_number": 41
    },
    {
     "cell_type": "code",
     "collapsed": false,
     "input": [
      "#Instantiate classifier\n",
      "knn=KNeighborsClassifier()\n",
      "\n",
      "#Fit data\n",
      "knn.fit(X,y_pass)\n",
      "\n",
      "knn"
     ],
     "language": "python",
     "metadata": {},
     "outputs": [
      {
       "metadata": {},
       "output_type": "pyout",
       "prompt_number": 42,
       "text": [
        "KNeighborsClassifier(algorithm='auto', leaf_size=30, metric='minkowski',\n",
        "           n_neighbors=5, p=2, weights='uniform')"
       ]
      }
     ],
     "prompt_number": 42
    },
    {
     "cell_type": "code",
     "collapsed": false,
     "input": [
      "knn.score(X,y_pass)"
     ],
     "language": "python",
     "metadata": {},
     "outputs": [
      {
       "metadata": {},
       "output_type": "pyout",
       "prompt_number": 43,
       "text": [
        "0.74193548387096775"
       ]
      }
     ],
     "prompt_number": 43
    },
    {
     "cell_type": "heading",
     "level": 4,
     "metadata": {},
     "source": [
      "PCA Basis"
     ]
    },
    {
     "cell_type": "code",
     "collapsed": false,
     "input": [
      "#Instantiate classifier\n",
      "knn_pca=KNeighborsClassifier()\n",
      "\n",
      "#Fit data\n",
      "knn_pca.fit(pca_X,y_pass)\n",
      "\n",
      "knn_pca"
     ],
     "language": "python",
     "metadata": {},
     "outputs": [
      {
       "metadata": {},
       "output_type": "pyout",
       "prompt_number": 44,
       "text": [
        "KNeighborsClassifier(algorithm='auto', leaf_size=30, metric='minkowski',\n",
        "           n_neighbors=5, p=2, weights='uniform')"
       ]
      }
     ],
     "prompt_number": 44
    },
    {
     "cell_type": "code",
     "collapsed": false,
     "input": [
      "knn_pca.score(pca_X,y_pass)"
     ],
     "language": "python",
     "metadata": {},
     "outputs": [
      {
       "metadata": {},
       "output_type": "pyout",
       "prompt_number": 45,
       "text": [
        "0.74383301707779881"
       ]
      }
     ],
     "prompt_number": 45
    },
    {
     "cell_type": "markdown",
     "metadata": {},
     "source": [
      "I am actually just a little intrigued to see how much movement we get by varying the number of neighbors.  This scheme can go very non-linear at a much quicker rate than the others."
     ]
    },
    {
     "cell_type": "code",
     "collapsed": false,
     "input": [
      "#Create container for scores\n",
      "knn_scores=[]\n",
      "\n",
      "#For 100 incremental neighborhoods...\n",
      "for i in range(1,101):\n",
      "    #...instantiate knn classifier...\n",
      "    nn=KNeighborsClassifier(n_neighbors=i)\n",
      "    #...fit the data...\n",
      "    nn.fit(X,y_pass)\n",
      "    #...capture the score\n",
      "    knn_scores.append(nn.score(X,y_pass))"
     ],
     "language": "python",
     "metadata": {},
     "outputs": [],
     "prompt_number": 46
    },
    {
     "cell_type": "code",
     "collapsed": false,
     "input": [
      "#Generate plot object\n",
      "fig,ax=plt.subplots(figsize=(14,8))\n",
      "\n",
      "#Plot scores vs neighborhood size\n",
      "ax.scatter(range(1,101),knn_scores,s=100,c='r',alpha=.6,lw=0)\n",
      "ax.set_xlabel('Number of Neighbors')\n",
      "ax.set_ylabel('Mean Predictive Accuracy')\n",
      "ax.set_title('Accuracy vs. Neighborhood Size')\n",
      "ax.set_xlim([0,100]);"
     ],
     "language": "python",
     "metadata": {},
     "outputs": [
      {
       "metadata": {},
       "output_type": "display_data",
       "png": "[encoded data removed]",
       "text": [
        "<matplotlib.figure.Figure at 0x7feab440aed0>"
       ]
      }
     ],
     "prompt_number": 47
    },
    {
     "cell_type": "markdown",
     "metadata": {},
     "source": [
      "Looks like a pretty rapid decline in accuracy.  Even at it's peak, it does no better than the support vector machine approach for these data."
     ]
    },
    {
     "cell_type": "heading",
     "level": 2,
     "metadata": {},
     "source": [
      "Diving Deeper into Support Vector Machines"
     ]
    },
    {
     "cell_type": "markdown",
     "metadata": {},
     "source": [
      "In a very quick and dirty test, SVM outperformed the other classification approaches we undertook.  From here, let us get a better sense of its accuracy by normalizing the data, and optimizing prediction via cross-validation."
     ]
    },
    {
     "cell_type": "code",
     "collapsed": false,
     "input": [
      "from sklearn import cross_validation"
     ],
     "language": "python",
     "metadata": {},
     "outputs": [],
     "prompt_number": 48
    },
    {
     "cell_type": "code",
     "collapsed": false,
     "input": [
      "#Standardize design matrix\n",
      "std_X=(X-X.mean())/X.std()\n",
      "\n",
      "#Instantiate SVM\n",
      "std_svm=SVC()\n",
      "\n",
      "#Perform k-fold cross-validation on fitted model\n",
      "svm_scores=cross_validation.cross_val_score(std_svm,std_X,y_pass,cv=5)\n",
      "\n",
      "svm_scores"
     ],
     "language": "python",
     "metadata": {},
     "outputs": [
      {
       "metadata": {},
       "output_type": "pyout",
       "prompt_number": 49,
       "text": [
        "array([ 0.60377358,  0.60377358,  0.58095238,  0.57142857,  0.55238095])"
       ]
      }
     ],
     "prompt_number": 49
    },
    {
     "cell_type": "markdown",
     "metadata": {},
     "source": [
      "The SVM classifier uses what's known as a Radial Basis Functon (`rbf`) as the default kernel specification.  We do, however, have options on this front.  The classifier also supports `linear`, `polynomial`, and `sigmoid` kernels.  Each of these options carries with it tuning parameters.  Before monkeying around with these parameters, however, let's see if one of the default settings of these kernel definitions outperforms the others."
     ]
    },
    {
     "cell_type": "code",
     "collapsed": false,
     "input": [
      "#Define function to yield cv scores by kernel\n",
      "def kernel_select(kern):\n",
      "    svm=SVC(kernel=kern)\n",
      "    return cross_validation.cross_val_score(std_svm,std_X,y_pass,cv=5)\n",
      "\n",
      "#Create container to capture scores by kernel\n",
      "kernel_scores=[]\n",
      "\n",
      "#For each kernel option...\n",
      "for kernel in ['rbf','linear','sigmoid','polynomial']:\n",
      "    #...capture scores associated with said kernel\n",
      "    kernel_scores.append(kernel_select(kernel))"
     ],
     "language": "python",
     "metadata": {},
     "outputs": [],
     "prompt_number": 50
    },
    {
     "cell_type": "code",
     "collapsed": false,
     "input": [
      "kernel_scores"
     ],
     "language": "python",
     "metadata": {},
     "outputs": [
      {
       "metadata": {},
       "output_type": "pyout",
       "prompt_number": 51,
       "text": [
        "[array([ 0.60377358,  0.60377358,  0.58095238,  0.57142857,  0.55238095]),\n",
        " array([ 0.60377358,  0.60377358,  0.58095238,  0.57142857,  0.55238095]),\n",
        " array([ 0.60377358,  0.60377358,  0.58095238,  0.57142857,  0.55238095]),\n",
        " array([ 0.60377358,  0.60377358,  0.58095238,  0.57142857,  0.55238095])]"
       ]
      }
     ],
     "prompt_number": 51
    },
    {
     "cell_type": "markdown",
     "metadata": {},
     "source": [
      "Hmmm.  Apparently they are set to provide similar results by default.  Let's get to monkeying with the parameters for the `rbf` kernel: `c & gamma`.  In fact, it turns out we can actually search over the parameter spaces of multiple kernel definitions with the use of `GridSearchCV`.  All we need to do is layout the parameter sets we want to cover.\n",
      "\n",
      "+ The `c` parameter is actually in play for all kernels.  It captures the bias-variance tradeoff.  High values of `c` trade parsimony for accurate prediction, while low values yield smoother decision boundaries.\n",
      "+ `gamma` \"defines how much influence a single training example has\".  Larger values reduce the scope of influence of single observation in its local neighborhood.\n",
      "+ `degree` defines the order of the polynomial kernel.  This kernel also carries a bias parameter `coef0`.\n",
      "\n",
      "Note that `gamma` is also in play for `sigmoid & polynomial` kernels.  The bias parameter `coef0` also has a home in the `sigmoid` kernel."
     ]
    },
    {
     "cell_type": "code",
     "collapsed": false,
     "input": [
      "from sklearn.metrics import classification_report"
     ],
     "language": "python",
     "metadata": {},
     "outputs": [],
     "prompt_number": 52
    },
    {
     "cell_type": "code",
     "collapsed": false,
     "input": [
      "#Define parameter space\n",
      "param_grid=[\n",
      "            {'C':[1,10,100,1000],'kernel':['linear']},\n",
      "            {'C':[1,10,100,1000],'gamma':[0.001,0.0001],'kernel':['rbf']},\n",
      "            {'C':[1,10,100,1000],'gamma':[0.001,0.0001],'degree':[2,3],'kernel':['poly']},\n",
      "            {'C':[1,10,100,1000],'gamma':[0.001,0.0001],'kernel':['sigmoid']},\n",
      "            ]\n",
      "\n",
      "#Split data into training and test sets\n",
      "X_train2,X_test2,y_train2,y_test2=train_test_split(std_X,y_pass)\n",
      "\n",
      "#Instantiate gridsearch\n",
      "clf = GridSearchCV(SVC(C=1), param_grid, cv=5)\n",
      "clf.fit(X_train2, y_train2)\n",
      "\n",
      "print \"Best parameters set found on development set:\"\n",
      "print clf.best_estimator_\n",
      "\n",
      "print \"\\nGrid scores on development set:\"\n",
      "\n",
      "for params, mean_score, scores in clf.grid_scores_:\n",
      "    print\"%0.3f (+/-%0.03f) for %r\" % (mean_score, scores.std() / 2, params)\n",
      "\n",
      "print \"\\nDetailed classification report:\"\n",
      "\n",
      "#Evaluate on the test set\n",
      "y_true, y_pred = y_test2, clf.predict(X_test2)\n",
      "\n",
      "#Display performance\n",
      "print classification_report(y_true, y_pred)"
     ],
     "language": "python",
     "metadata": {},
     "outputs": [
      {
       "output_type": "stream",
       "stream": "stdout",
       "text": [
        "Best parameters set found on development set:\n",
        "SVC(C=10, cache_size=200, class_weight=None, coef0=0.0, degree=2, gamma=0.001,\n",
        "  kernel=poly, max_iter=-1, probability=False, random_state=None,\n",
        "  shrinking=True, tol=0.001, verbose=False)\n",
        "\n",
        "Grid scores on development set:\n",
        "0.577 (+/-0.015) for {'kernel': 'linear', 'C': 1}\n",
        "0.590 (+/-0.018) for {'kernel': 'linear', 'C': 10}\n",
        "0.585 (+/-0.017) for {'kernel': 'linear', 'C': 100}\n",
        "0.544 (+/-0.013) for {'kernel': 'linear', 'C': 1000}\n",
        "0.590 (+/-0.006) for {'kernel': 'rbf', 'C': 1, 'gamma': 0.001}\n",
        "0.562 (+/-0.003) for {'kernel': 'rbf', 'C': 1, 'gamma': 0.0001}\n",
        "0.587 (+/-0.009) for {'kernel': 'rbf', 'C': 10, 'gamma': 0.001}\n",
        "0.587 (+/-0.006) for {'kernel': 'rbf', 'C': 10, 'gamma': 0.0001}\n",
        "0.567 (+/-0.018) for {'kernel': 'rbf', 'C': 100, 'gamma': 0.001}\n",
        "0.590 (+/-0.008) for {'kernel': 'rbf', 'C': 100, 'gamma': 0.0001}\n",
        "0.575 (+/-0.022) for {'kernel': 'rbf', 'C': 1000, 'gamma': 0.001}\n",
        "0.590 (+/-0.015) for {'kernel': 'rbf', 'C': 1000, 'gamma': 0.0001}\n",
        "0.590 (+/-0.008) for {'kernel': 'poly', 'C': 1, 'gamma': 0.001, 'degree': 2}\n",
        "0.562 (+/-0.003) for {'kernel': 'poly', 'C': 1, 'gamma': 0.0001, 'degree': 2}\n",
        "0.595 (+/-0.011) for {'kernel': 'poly', 'C': 1, 'gamma': 0.001, 'degree': 3}\n",
        "0.562 (+/-0.003) for {'kernel': 'poly', 'C': 1, 'gamma': 0.0001, 'degree': 3}\n",
        "0.600 (+/-0.008) for {'kernel': 'poly', 'C': 10, 'gamma': 0.001, 'degree': 2}\n",
        "0.562 (+/-0.003) for {'kernel': 'poly', 'C': 10, 'gamma': 0.0001, 'degree': 2}\n",
        "0.587 (+/-0.011) for {'kernel': 'poly', 'C': 10, 'gamma': 0.001, 'degree': 3}\n",
        "0.559 (+/-0.003) for {'kernel': 'poly', 'C': 10, 'gamma': 0.0001, 'degree': 3}\n",
        "0.595 (+/-0.009) for {'kernel': 'poly', 'C': 100, 'gamma': 0.001, 'degree': 2}\n",
        "0.590 (+/-0.008) for {'kernel': 'poly', 'C': 100, 'gamma': 0.0001, 'degree': 2}\n",
        "0.585 (+/-0.012) for {'kernel': 'poly', 'C': 100, 'gamma': 0.001, 'degree': 3}\n",
        "0.565 (+/-0.010) for {'kernel': 'poly', 'C': 100, 'gamma': 0.0001, 'degree': 3}\n",
        "0.582 (+/-0.011) for {'kernel': 'poly', 'C': 1000, 'gamma': 0.001, 'degree': 2}\n",
        "0.600 (+/-0.008) for {'kernel': 'poly', 'C': 1000, 'gamma': 0.0001, 'degree': 2}\n",
        "0.582 (+/-0.014) for {'kernel': 'poly', 'C': 1000, 'gamma': 0.001, 'degree': 3}\n",
        "0.595 (+/-0.011) for {'kernel': 'poly', 'C': 1000, 'gamma': 0.0001, 'degree': 3}\n",
        "0.562 (+/-0.006) for {'kernel': 'sigmoid', 'C': 1, 'gamma': 0.001}\n",
        "0.562 (+/-0.003) for {'kernel': 'sigmoid', 'C': 1, 'gamma': 0.0001}\n",
        "0.506 (+/-0.018) for {'kernel': 'sigmoid', 'C': 10, 'gamma': 0.001}\n",
        "0.590 (+/-0.005) for {'kernel': 'sigmoid', 'C': 10, 'gamma': 0.0001}\n",
        "0.496 (+/-0.013) for {'kernel': 'sigmoid', 'C': 100, 'gamma': 0.001}\n",
        "0.590 (+/-0.006) for {'kernel': 'sigmoid', 'C': 100, 'gamma': 0.0001}\n",
        "0.499 (+/-0.014) for {'kernel': 'sigmoid', 'C': 1000, 'gamma': 0.001}\n",
        "0.575 (+/-0.017) for {'kernel': 'sigmoid', 'C': 1000, 'gamma': 0.0001}\n",
        "\n",
        "Detailed classification report:\n",
        "             precision    recall  f1-score   support\n",
        "\n",
        "          0       0.50      0.07      0.12        58\n",
        "          1       0.56      0.95      0.71        74\n",
        "\n",
        "avg / total       0.54      0.56      0.45       132\n",
        "\n"
       ]
      }
     ],
     "prompt_number": 53
    },
    {
     "cell_type": "markdown",
     "metadata": {},
     "source": [
      "Well isn't that something?  This is an awesome way to explore the prediction surface.  What I would like to do now is get better resolution of these surfaces through longer parameter dimensions with smaller increments."
     ]
    },
    {
     "cell_type": "heading",
     "level": 3,
     "metadata": {},
     "source": [
      "Linear Kernel"
     ]
    },
    {
     "cell_type": "markdown",
     "metadata": {},
     "source": [
      "Let's develop a function that takes a parameter grid as an argument, and returns mean scores which may be coupled with parameter values to visualize the prediction surface.  The 1-D linear case is a natural place to start."
     ]
    },
    {
     "cell_type": "code",
     "collapsed": false,
     "input": [
      "def pred_surf(pgrid):\n",
      "    #Instantiate gridsearch\n",
      "    svm = GridSearchCV(SVC(C=1), pgrid, cv=5)\n",
      "    #Fit on training set\n",
      "    svm.fit(X_train2, y_train2)\n",
      "    #Print best estimator/param combo\n",
      "    print svm.best_estimator_\n",
      "    #Return mean scores for each parameter configuration\n",
      "    return [res[1] for res in svm.grid_scores_]"
     ],
     "language": "python",
     "metadata": {},
     "outputs": [],
     "prompt_number": 54
    },
    {
     "cell_type": "markdown",
     "metadata": {},
     "source": [
      "Now we can define the parameter space, which is just the values of `C` at this point.  With this in hand, let's search for the best value for a `linear` kernel."
     ]
    },
    {
     "cell_type": "code",
     "collapsed": false,
     "input": [
      "# #Define parameter space\n",
      "# linear_params=[{'C':np.linspace(1,100,50),'kernel':['linear']}]\n",
      "\n",
      "# #Search for optimal value of C\n",
      "# lin_scores=pred_surf(linear_params)"
     ],
     "language": "python",
     "metadata": {},
     "outputs": [],
     "prompt_number": 55
    },
    {
     "cell_type": "markdown",
     "metadata": {},
     "source": [
      "SVC(C=5.04081632653, cache_size=200, class_weight=None, coef0=0.0, degree=3,\n",
      "  gamma=0.0, kernel=linear, max_iter=-1, probability=False,\n",
      "  random_state=None, shrinking=True, tol=0.001, verbose=False)\n"
     ]
    },
    {
     "cell_type": "markdown",
     "metadata": {},
     "source": [
      "Now we can plot the prediction surface."
     ]
    },
    {
     "cell_type": "code",
     "collapsed": false,
     "input": [
      "# #Generate plot object\n",
      "# fig,ax=plt.subplots(figsize=(15,5))\n",
      "\n",
      "# #Plot data\n",
      "# ax.scatter(linear_params[0]['C'],lin_scores,s=100,c='r',alpha=.6,lw=0)"
     ],
     "language": "python",
     "metadata": {},
     "outputs": [],
     "prompt_number": 57
    },
    {
     "cell_type": "markdown",
     "metadata": {},
     "source": [
      "What is our average score with our best model?"
     ]
    },
    {
     "cell_type": "code",
     "collapsed": false,
     "input": [
      "#Instantiate SVM object\n",
      "svm_lin=SVC(C=5,kernel='linear')\n",
      "\n",
      "print cross_validation.cross_val_score(svm_lin,std_X,y_pass,cv=5)\n",
      "print cross_validation.cross_val_score(svm_lin,std_X,y_pass,cv=5).mean()"
     ],
     "language": "python",
     "metadata": {},
     "outputs": [
      {
       "output_type": "stream",
       "stream": "stdout",
       "text": [
        "[ 0.62264151  0.56603774  0.56190476  0.61904762  0.56190476]\n",
        "0.586307277628"
       ]
      },
      {
       "output_type": "stream",
       "stream": "stdout",
       "text": [
        "\n"
       ]
      }
     ],
     "prompt_number": 58
    },
    {
     "cell_type": "heading",
     "level": 3,
     "metadata": {},
     "source": [
      "Radial Basis Function"
     ]
    },
    {
     "cell_type": "markdown",
     "metadata": {},
     "source": [
      "The `rbf` kernel takes two arguments, and thus will require a more complicated visualization set up.  Let's go ahead and run the grid search."
     ]
    },
    {
     "cell_type": "code",
     "collapsed": false,
     "input": [
      "# #Define parameter space\n",
      "# rbf_params=[{'C':np.linspace(1,100,50),'gamma':np.linspace(.0001,.01,50),'kernel':['rbf']}]\n",
      "\n",
      "# #Search for optimal value of C\n",
      "# rbf_scores=pred_surf(rbf_params)"
     ],
     "language": "python",
     "metadata": {},
     "outputs": [],
     "prompt_number": 59
    },
    {
     "cell_type": "markdown",
     "metadata": {},
     "source": [
      "SVC(C=37.3673469388, cache_size=200, class_weight=None, coef0=0.0, degree=3,\n",
      "  gamma=0.00212040816327, kernel=rbf, max_iter=-1, probability=False,\n",
      "  random_state=None, shrinking=True, tol=0.001, verbose=False)\n"
     ]
    },
    {
     "cell_type": "markdown",
     "metadata": {},
     "source": [
      "Visualizing scores as a function of the parameters will require a 3-D plot.  "
     ]
    },
    {
     "cell_type": "code",
     "collapsed": false,
     "input": [
      "from mpl_toolkits.mplot3d import Axes3D"
     ],
     "language": "python",
     "metadata": {},
     "outputs": [],
     "prompt_number": 60
    },
    {
     "cell_type": "code",
     "collapsed": false,
     "input": [
      "# #Generate plot object\n",
      "# fig=plt.figure(figsize=(8,8))\n",
      "# ax=fig.gca(projection='3d')\n",
      "\n",
      "# #Create parameter basis\n",
      "# X,Y = np.meshgrid("
     ],
     "language": "python",
     "metadata": {},
     "outputs": [],
     "prompt_number": 61
    },
    {
     "cell_type": "markdown",
     "metadata": {},
     "source": [
      "How does our chosen configuration perform?"
     ]
    },
    {
     "cell_type": "code",
     "collapsed": false,
     "input": [
      "#Instantiate SVM object\n",
      "svm_rbf=SVC(C=37,gamma=0.002,kernel='rbf')\n",
      "\n",
      "print cross_validation.cross_val_score(svm_rbf,std_X,y_pass,cv=5)\n",
      "print cross_validation.cross_val_score(svm_rbf,std_X,y_pass,cv=5).mean()"
     ],
     "language": "python",
     "metadata": {},
     "outputs": [
      {
       "output_type": "stream",
       "stream": "stdout",
       "text": [
        "[ 0.59433962  0.59433962  0.58095238  0.58095238  0.55238095]\n",
        "0.580592991914"
       ]
      },
      {
       "output_type": "stream",
       "stream": "stdout",
       "text": [
        "\n"
       ]
      }
     ],
     "prompt_number": 62
    },
    {
     "cell_type": "heading",
     "level": 3,
     "metadata": {},
     "source": [
      "Polynomial"
     ]
    },
    {
     "cell_type": "code",
     "collapsed": false,
     "input": [
      "# #Define parameter space\n",
      "# poly_params=[{'C':np.linspace(1,100,20),'gamma':np.linspace(.0001,.001,20),\\\n",
      "#               'degree':np.linspace(1,5,20),'kernel':['poly']}]\n",
      "\n",
      "# #Search for optimal value of C\n",
      "# poly_scores=pred_surf(poly_params)"
     ],
     "language": "python",
     "metadata": {},
     "outputs": [],
     "prompt_number": 63
    },
    {
     "cell_type": "markdown",
     "metadata": {},
     "source": [
      "SVC(C=47.8947368421, cache_size=200, class_weight=None, coef0=0.0, degree=1.0,\n",
      "  gamma=0.000952631578947, kernel=poly, max_iter=-1, probability=False,\n",
      "  random_state=None, shrinking=True, tol=0.001, verbose=False)\n"
     ]
    },
    {
     "cell_type": "code",
     "collapsed": false,
     "input": [
      "#Instantiate SVM object\n",
      "svm_poly=SVC(C=48,gamma=0.001,degree=1,kernel='poly')\n",
      "\n",
      "print cross_validation.cross_val_score(svm_poly,std_X,y_pass,cv=5)\n",
      "print cross_validation.cross_val_score(svm_poly,std_X,y_pass,cv=5).mean()"
     ],
     "language": "python",
     "metadata": {},
     "outputs": [
      {
       "output_type": "stream",
       "stream": "stdout",
       "text": [
        "[ 0.60377358  0.61320755  0.58095238  0.58095238  0.56190476]\n",
        "0.588158131177"
       ]
      },
      {
       "output_type": "stream",
       "stream": "stdout",
       "text": [
        "\n"
       ]
      }
     ],
     "prompt_number": 64
    },
    {
     "cell_type": "heading",
     "level": 3,
     "metadata": {},
     "source": [
      "Sigmoid"
     ]
    },
    {
     "cell_type": "code",
     "collapsed": false,
     "input": [
      "# #Define parameter space\n",
      "# sig_params=[{'C':np.linspace(1,100,50),'gamma':np.linspace(.0001,.01,50),'kernel':['sigmoid']}]\n",
      "\n",
      "# #Search for optimal value of C\n",
      "# sig_scores=pred_surf(sig_params)"
     ],
     "language": "python",
     "metadata": {},
     "outputs": [],
     "prompt_number": 65
    },
    {
     "cell_type": "markdown",
     "metadata": {},
     "source": [
      "SVC(C=31.306122449, cache_size=200, class_weight=None, coef0=0.0, degree=3,\n",
      "  gamma=0.0001, kernel=sigmoid, max_iter=-1, probability=False,\n",
      "  random_state=None, shrinking=True, tol=0.001, verbose=False)\n"
     ]
    },
    {
     "cell_type": "code",
     "collapsed": false,
     "input": [
      "#Instantiate SVM object\n",
      "svm_sig=SVC(C=31,gamma=0.0001,degree=1,kernel='sigmoid')\n",
      "\n",
      "print cross_validation.cross_val_score(svm_sig,std_X,y_pass,cv=5)\n",
      "print cross_validation.cross_val_score(svm_sig,std_X,y_pass,cv=5).mean()"
     ],
     "language": "python",
     "metadata": {},
     "outputs": [
      {
       "output_type": "stream",
       "stream": "stdout",
       "text": [
        "[ 0.60377358  0.60377358  0.59047619  0.59047619  0.55238095]\n",
        "0.588176100629"
       ]
      },
      {
       "output_type": "stream",
       "stream": "stdout",
       "text": [
        "\n"
       ]
      }
     ],
     "prompt_number": 66
    },
    {
     "cell_type": "heading",
     "level": 2,
     "metadata": {},
     "source": [
      "Prediction Probabilities"
     ]
    },
    {
     "cell_type": "markdown",
     "metadata": {},
     "source": [
      "The kernels are all of similar quality (which isn't excellent), but the sigmoid kernel seems to perform slightly better than all others.  With this in mind, let's explore the properties of the classifier.  We know that it predicts correct values 59% of the time with new data, on average."
     ]
    },
    {
     "cell_type": "code",
     "collapsed": false,
     "input": [
      "#Instantiate SVM object\n",
      "svm_sig=SVC(C=31,gamma=0.0001,degree=1,kernel='sigmoid')\n",
      "\n",
      "svm_sig.fit(std_X,y_pass)\n",
      "\n",
      "svm_sig.score(std_X,y_pass)"
     ],
     "language": "python",
     "metadata": {},
     "outputs": [
      {
       "metadata": {},
       "output_type": "pyout",
       "prompt_number": 67,
       "text": [
        "0.58254269449715368"
       ]
      }
     ],
     "prompt_number": 67
    },
    {
     "cell_type": "markdown",
     "metadata": {},
     "source": [
      "How do the support vectors relate to the original data?"
     ]
    },
    {
     "cell_type": "code",
     "collapsed": false,
     "input": [
      "print std_X.shape\n",
      "print y_pass.shape\n",
      "svm_sig.support_vectors_.shape"
     ],
     "language": "python",
     "metadata": {},
     "outputs": [
      {
       "output_type": "stream",
       "stream": "stdout",
       "text": [
        "(527, 521)\n",
        "(527,)\n"
       ]
      },
      {
       "metadata": {},
       "output_type": "pyout",
       "prompt_number": 68,
       "text": [
        "(452, 521)"
       ]
      }
     ],
     "prompt_number": 68
    },
    {
     "cell_type": "markdown",
     "metadata": {},
     "source": [
      "That the columns (aka - dimensions) should line up is an intuitive property.  The literature indicates that class probabilities are not actually produced by the SVM.  Probabilities are recoverable by wrapping the output of the SVM and performing a logit transform on it (the technique is known as [Platt Scaling](http://en.wikipedia.org/wiki/Platt_scaling)).  The consequence of this post hoc routine is that sometimes the highest probability class does not correspond with the label provided by the SVM.  We should explore the extent of this phenomenon.\n",
      "\n",
      "Let's capture the labels and post hoc probabilities.  To capture the latter, we must refit an SVM with probability estimates turned on."
     ]
    },
    {
     "cell_type": "code",
     "collapsed": false,
     "input": [
      "#Instantiate SVM object\n",
      "svm_sig=SVC(C=31,gamma=0.0001,degree=1,kernel='sigmoid',probability=True)\n",
      "\n",
      "#Fit data\n",
      "svm_sig.fit(std_X,y_pass)\n",
      "\n",
      "#Show prediction score\n",
      "print svm_sig.score(std_X,y_pass)\n",
      "\n",
      "svm_sig"
     ],
     "language": "python",
     "metadata": {},
     "outputs": [
      {
       "output_type": "stream",
       "stream": "stdout",
       "text": [
        "0.582542694497\n"
       ]
      },
      {
       "metadata": {},
       "output_type": "pyout",
       "prompt_number": 69,
       "text": [
        "SVC(C=31, cache_size=200, class_weight=None, coef0=0.0, degree=1,\n",
        "  gamma=0.0001, kernel='sigmoid', max_iter=-1, probability=True,\n",
        "  random_state=None, shrinking=True, tol=0.001, verbose=False)"
       ]
      }
     ],
     "prompt_number": 69
    },
    {
     "cell_type": "markdown",
     "metadata": {},
     "source": [
      "The predicted labels will fall out with the `predict()` method.  The labels implied by the probabilities, however, take a couple more steps.  The `predict_proba()` method will return the array of sub-arrays containing the probability of each class for a given observation.  We want to return a single array of implied labels for comparison, so we need to condition assignment of class labels (provided in the `classes_` method) based upon the largest probability."
     ]
    },
    {
     "cell_type": "code",
     "collapsed": false,
     "input": [
      "#Capture probabilities\n",
      "probs=svm_sig.predict_proba(std_X)\n",
      "\n",
      "#Generate list of labels implied by post hoc probability scores\n",
      "plabs=np.where(probs[:,0]>probs[:,1],svm_sig.classes_[0],svm_sig.classes_[1])\n",
      "\n",
      "#Find correspondence \n",
      "print 'Correspondence between SVM and implied probabilities:',np.where(svm_sig.predict(std_X)==plabs,1,0).mean()"
     ],
     "language": "python",
     "metadata": {},
     "outputs": [
      {
       "output_type": "stream",
       "stream": "stdout",
       "text": [
        "Correspondence between SVM and implied probabilities: "
       ]
      },
      {
       "output_type": "stream",
       "stream": "stdout",
       "text": [
        "0.925996204934\n"
       ]
      }
     ],
     "prompt_number": 70
    },
    {
     "cell_type": "markdown",
     "metadata": {},
     "source": [
      "So the methods accord 92% of the time.  What if we wanted to avoid Platt Scaling?  Can we use the decision function?  Let's look at the distribution of distances to the separating hyperplane."
     ]
    },
    {
     "cell_type": "code",
     "collapsed": false,
     "input": [
      "rcParams['axes.linewidth']=0\n",
      "\n",
      "#Generate plot object\n",
      "fig,ax=plt.subplots(figsize=(18,5))\n",
      "\n",
      "#Plot distances from hyperplane\n",
      "ax.scatter(range(svm_sig.decision_function(std_X).shape[0]),svm_sig.decision_function(std_X),\n",
      "           s=50,c='r',alpha=.6,lw=0)\n",
      "\n",
      "#Fix background\n",
      "ax.patch.set_facecolor('w')\n",
      "\n",
      "#Set labels\n",
      "ax.set_title('Observation Distances to Separating Hyperplane')\n",
      "ax.set_xlabel('Observation')\n",
      "ax.set_ylabel('Distance')\n",
      "\n",
      "#Add zero line\n",
      "ax.axhline(0,0,svm_sig.decision_function(std_X).shape[0],lw=2,c='k')\n",
      "\n",
      "#Set range\n",
      "ax.set_xlim([0,svm_sig.decision_function(std_X).shape[0]])\n",
      "\n",
      "#Annotage\n",
      "mean_dist=svm_sig.decision_function(std_X).mean()\n",
      "median_dist=np.median(svm_sig.decision_function(std_X))\n",
      "ax.annotate('Mean Distance:'+str(mean_dist),xy=(450,5))\n",
      "ax.annotate('Median Distance:'+str(median_dist),xy=(450,4.5))\n",
      "\n",
      "plt.savefig('exmpt_dist_hyperplane.png',dpi=500)"
     ],
     "language": "python",
     "metadata": {},
     "outputs": [
      {
       "metadata": {},
       "output_type": "display_data",
       "png": "[encoded data removed]",
       "text": [
        "<matplotlib.figure.Figure at 0x7feab2d7f210>"
       ]
      }
     ],
     "prompt_number": 101
    },
    {
     "cell_type": "markdown",
     "metadata": {},
     "source": [
      "Interesting.  Perhaps the correspondence difficulty increases with proximity to the separating hyperplane.  In any event, the SVM still outperforms the linear-separating methods like logit and probit, and the correspondence is reasonably tight.  The probabilities capture the uncertainty in the labels, and would serve the purposes a probit estimate would usually serve.  Consequently, we will proceed.\n",
      "\n",
      "What does our distribution of predicted probabilities look like?  We will focus on probability of success."
     ]
    },
    {
     "cell_type": "code",
     "collapsed": false,
     "input": [
      "#Generate plot object\n",
      "fig,ax=plt.subplots(figsize=(15,5))\n",
      "\n",
      "#Plot distribution\n",
      "ax.hist(probs[:,1],bins=50,color='r',alpha=.7)\n",
      "\n",
      "#Fix background\n",
      "ax.patch.set_facecolor('w')\n",
      "\n",
      "#Set labels\n",
      "ax.set_title('Distribution of Exemption Probabilities')\n",
      "ax.set_ylabel('Count')\n",
      "\n",
      "plt.savefig('vote_probs.png',dpi=500)\n",
      "\n",
      "probs"
     ],
     "language": "python",
     "metadata": {},
     "outputs": [
      {
       "metadata": {},
       "output_type": "pyout",
       "prompt_number": 72,
       "text": [
        "array([[ 0.61071428,  0.38928572],\n",
        "       [ 0.6228104 ,  0.3771896 ],\n",
        "       [ 0.6228104 ,  0.3771896 ],\n",
        "       ..., \n",
        "       [ 0.41604803,  0.58395197],\n",
        "       [ 0.41521082,  0.58478918],\n",
        "       [ 0.41551616,  0.58448384]])"
       ]
      },
      {
       "metadata": {},
       "output_type": "display_data",
       "png": "[encoded data removed]",
       "text": [
        "<matplotlib.figure.Figure at 0x7feab4c887d0>"
       ]
      }
     ],
     "prompt_number": 72
    },
    {
     "cell_type": "markdown",
     "metadata": {},
     "source": [
      "My first thought was, hmmm, that doesn't much look like the distribution of results."
     ]
    },
    {
     "cell_type": "code",
     "collapsed": false,
     "input": [
      "#Generate plot object\n",
      "fig,ax=plt.subplots(figsize=(15,5))\n",
      "\n",
      "#Plot distribution\n",
      "ax.hist(y,bins=50)\n",
      "\n",
      "#Fix background\n",
      "ax.patch.set_facecolor('w')\n",
      "\n",
      "#Set labels\n",
      "ax.set_title('Distribution of Results')\n",
      "ax.set_ylabel('Count')"
     ],
     "language": "python",
     "metadata": {},
     "outputs": [
      {
       "metadata": {},
       "output_type": "pyout",
       "prompt_number": 73,
       "text": [
        "<matplotlib.text.Text at 0x7feab48f50d0>"
       ]
      },
      {
       "metadata": {},
       "output_type": "display_data",
       "png": "[encoded data removed]",
       "text": [
        "<matplotlib.figure.Figure at 0x7feab44fb7d0>"
       ]
      }
     ],
     "prompt_number": 73
    },
    {
     "cell_type": "markdown",
     "metadata": {},
     "source": [
      "However, further consideration suggests that the shape of the distribution need not correspond at all.  Comparing the distribution of probabilities associated with a binary outcome to the underlying continuous data amounts to comparing two different concepts.  \n",
      "\n",
      "What is probably more reasonable to expect, however, is correspondence in expected values for passage.  Consider the actual passage data, which consists of 0s and 1s.  Each observation is either \"all in\" or \"all out\" with respect to passage.  All observations have the same weight, and to determine the average passage rate, we can compute the simple average.\n",
      "\n",
      "$$\\text{average passage rate} = \\frac{1}{n}\\sum_1^n x_i$$\n",
      "\n",
      "where $x_i \\in {0,1}$\n",
      "\n",
      "With the probability of passage, on the other hand, we are totaling the expected contribution of each observation to the overall number of successful votes.  Each observation is weighted by the probability of passage, so sum value less than 1 is included for each new observation.\n",
      "\n",
      "$$E(x)=\\frac{1}{n}\\sum_1^n p_i*x_i$$\n",
      "\n",
      "where $x_i \\in {1} \\text{  and  } p_i \\in [0,1]$\n",
      "\n",
      "The insight is that the average passage rate is the expected value of each vote.  Now, the estimation process will introduce some error, but we should see some level of correspondence in the measured versions of these concepts."
     ]
    },
    {
     "cell_type": "code",
     "collapsed": false,
     "input": [
      "print 'Expected Vote Value:',probs[:,1].mean()\n",
      "print 'Average Passage Rate:',y_pass.mean()"
     ],
     "language": "python",
     "metadata": {},
     "outputs": [
      {
       "output_type": "stream",
       "stream": "stdout",
       "text": [
        "Expected Vote Value: 0.563808779654\n",
        "Average Passage Rate: 0.561669829222\n"
       ]
      }
     ],
     "prompt_number": 74
    },
    {
     "cell_type": "markdown",
     "metadata": {},
     "source": [
      "Lo and behold, they are quite close.  All that being said, there is a concern with lack of variation in these probabilities.  We may find that they will be of less help than anticipated in conditioning the design equation."
     ]
    },
    {
     "cell_type": "heading",
     "level": 2,
     "metadata": {},
     "source": [
      "Estimating the Impact of Ballot Design"
     ]
    },
    {
     "cell_type": "markdown",
     "metadata": {},
     "source": [
      "Let's pull in the ballot component data."
     ]
    },
    {
     "cell_type": "code",
     "collapsed": false,
     "input": [
      "#Read in data\n",
      "ballot=pd.read_csv(vt_dir+'clean_votes_cov_slim.csv')\n",
      "\n",
      "#Identify response variables\n",
      "resp=['pass','results']\n",
      "\n",
      "#Identify id columns\n",
      "idx=['year','cty','stcou']\n",
      "\n",
      "#Identify ballot columns\n",
      "bal=['s_time','sales_change','prop_change','prop_levy_change','debt_change','rev_time','ss_open','ss_no waiver',\\\n",
      "     'ss_sales','ss_property','ss_nontax','ss_value','ss_transfer','ss_nonproperty','ss_tourism','ss_unknown','ss_library',\\\n",
      "     'ss_gaming','ss_development','infrastructure','open','public safety','economic development','unspecified',\\\n",
      "     'environment','hss','education','tourism','no waiver','administrative','limited','agriculture','unknown','choice']\n",
      "\n",
      "#Identify demographic variables\n",
      "dem=['births','deaths','edu_yrs','h_units','hh_size','med_age','migration','nat_pop_inc','perc_dem','permits','pop',\\\n",
      "     'pov_pop','vac_rate']\n",
      "\n",
      "#Identify TEL variables\n",
      "tel=['intensity_flow','intensity_stock','prop_ratio']\n",
      "\n",
      "#Identify assessment variables\n",
      "asmt=['nonres_rate','r_non_resid','r_nonres_val','r_res_val','r_resid','r_total','res_rate']\n",
      "\n",
      "#Identify fiscal variables\n",
      "fisc=['SALES_TAX_RATE','r_ALL_OTHER_INTGOVT','r_ASSETS','r_EXP_CAPITAL_OUTLAY','r_EXP_DEBT_SERVICE_GEN','r_EXP_FIRE',\\\n",
      "      'r_EXP_GEN_GOVT','r_EXP_HEALTH','r_EXP_INTEREST_GEN','r_EXP_JUDICIAL','r_EXP_MISC','r_EXP_OTHER_PUBLIC_SAFETY',\n",
      "      'r_EXP_OTHER_PUBLIC_WORKS','r_EXP_POLICE','r_EXP_PRINCIPAL_GEN','r_EXP_RECREATION','r_EXP_SOCIAL_SERVICE',\\\n",
      "      'r_EXP_STREET','r_EXP_TOTAL','r_EXP_TOTAL_OPERATING','r_EXP_TOTAL_PUBLIC_SAFETY','r_EXP_TOTAL_PUBLIC_WORKS',\\\n",
      "      'r_EXP_TRANSFER_OUT','r_EXP_TRASH','r_GO_DEBT_GEN','r_LIABILITIES','r_OTHER_DEBT_GEN','r_RETAIL_SALES',\\\n",
      "      'r_REVENUE_DEBT_GEN','r_REV_CHARGES','r_REV_CIGARETTE_TAX','r_REV_CTF','r_REV_FINES','r_REV_FRANCHISE_TAX',\\\n",
      "      'r_REV_HUT','r_REV_INTEREST','r_REV_INTGOVT','r_REV_LICENSES','r_REV_LODGING_TAX','r_REV_MISC','r_REV_MOTOR_VEH_FEE',\\\n",
      "      'r_REV_OCCUPATION_TAX','r_REV_OTHER_TAX','r_REV_PROPERTY_TAX','r_REV_REAL_ESTATE_TRANSFER_TAX','r_REV_SALES_USE_TAX',\\\n",
      "      'r_REV_SOCIAL_SERVICE','r_REV_SO_TAX','r_REV_TOTAL','r_REV_TOTAL_TAX','r_REV_TRANSFER_IN','r_REV_UNCLASS_TAX',\\\n",
      "      'r_ST_SALES_TAX_PAID','r_TOTAL_DEBT']\n",
      "\n",
      "#Identify industrial variables\n",
      "ind=['fed_wage','loc_wage','r_wage_cnstr','r_wage_ed_hlth','r_wage_fin','r_wage_info','r_wage_lsr_hosp','r_wage_mfg',\\\n",
      "     'r_wage_nat_res','r_wage_other','r_wage_prof','r_wage_pub_ad','r_wage_total','r_wage_trd','r_wage_unclass','st_wage']\n",
      "\n",
      "#Identify macroeconomic variables\n",
      "cycle=['gsp','unemp_rate']\n",
      "\n",
      "#Identify spatial weight variables\n",
      "wts=['w_db_b_g','w_db_b_i','w_db_c_g','w_db_c_i','w_kern_g','w_kern_i','w_queen_g','w_queen_i','w_rook_g','w_rook_i']\n",
      "\n",
      "#Set index\n",
      "ballot.set_index(['stcou','year'],inplace=True)\n",
      "\n",
      "#Sort index\n",
      "ballot.sortlevel(0,inplace=True)\n",
      "\n",
      "set(ballot.columns)-set(idx+bal+dem+tel+asmt+fisc+ind+cycle+wts+resp)"
     ],
     "language": "python",
     "metadata": {},
     "outputs": [
      {
       "metadata": {},
       "output_type": "pyout",
       "prompt_number": 75,
       "text": [
        "set()"
       ]
      }
     ],
     "prompt_number": 75
    },
    {
     "cell_type": "markdown",
     "metadata": {},
     "source": [
      "We need to incorporate our probability measure.  To do so, we must make sure that the records are in the same order, for the most part.  The order within clusters of multiple votes within a single county and year does not matter, since the variables used to generate the probability measure are constant within county-year.\n",
      "\n",
      "Note that we are performing this join in an unconventional manner.  We actually pull out the index into a variable as a list of tuples, and then use a mapping dict to associate the probability measures.  This is because the standard join approaches were either yielding to many index instances or throwing exceptions.  I think this is because the MultiIndex is not composed of only unique elements."
     ]
    },
    {
     "cell_type": "code",
     "collapsed": false,
     "input": [
      "#Capture probability measure in a mapping dict\n",
      "prob_map=dict(zip(vtcs.index,probs[:,1]))\n",
      "\n",
      "#Pull index into variable as list of tuples\n",
      "ballot['idx']=zip(ballot.index.get_level_values(level='stcou'),\n",
      "                  ballot.index.get_level_values(level='year'))\n",
      "\n",
      "#Map in new variable\n",
      "ballot['prob_exmpt']=ballot['idx'].map(prob_map)\n",
      "\n",
      "#Drop temp idx variable\n",
      "ballot.pop('idx')\n",
      "\n",
      "ballot[['results','pass','prob_exmpt']].head(10)"
     ],
     "language": "python",
     "metadata": {},
     "outputs": [
      {
       "html": [
        "<div style=\"max-height:1000px;max-width:1500px;overflow:auto;\">\n",
        "<table border=\"1\" class=\"dataframe\">\n",
        "  <thead>\n",
        "    <tr style=\"text-align: right;\">\n",
        "      <th></th>\n",
        "      <th></th>\n",
        "      <th>results</th>\n",
        "      <th>pass</th>\n",
        "      <th>prob_exmpt</th>\n",
        "    </tr>\n",
        "    <tr>\n",
        "      <th>stcou</th>\n",
        "      <th>year</th>\n",
        "      <th></th>\n",
        "      <th></th>\n",
        "      <th></th>\n",
        "    </tr>\n",
        "  </thead>\n",
        "  <tbody>\n",
        "    <tr>\n",
        "      <th rowspan=\"10\" valign=\"top\">8001</th>\n",
        "      <th>1993</th>\n",
        "      <td> 60</td>\n",
        "      <td> 1</td>\n",
        "      <td> 0.389286</td>\n",
        "    </tr>\n",
        "    <tr>\n",
        "      <th>1997</th>\n",
        "      <td> 39</td>\n",
        "      <td> 0</td>\n",
        "      <td> 0.377190</td>\n",
        "    </tr>\n",
        "    <tr>\n",
        "      <th>1997</th>\n",
        "      <td> 27</td>\n",
        "      <td> 0</td>\n",
        "      <td> 0.377190</td>\n",
        "    </tr>\n",
        "    <tr>\n",
        "      <th>1997</th>\n",
        "      <td> 29</td>\n",
        "      <td> 0</td>\n",
        "      <td> 0.377190</td>\n",
        "    </tr>\n",
        "    <tr>\n",
        "      <th>1997</th>\n",
        "      <td> 64</td>\n",
        "      <td> 1</td>\n",
        "      <td> 0.377190</td>\n",
        "    </tr>\n",
        "    <tr>\n",
        "      <th>1999</th>\n",
        "      <td> 60</td>\n",
        "      <td> 1</td>\n",
        "      <td> 0.405178</td>\n",
        "    </tr>\n",
        "    <tr>\n",
        "      <th>2000</th>\n",
        "      <td> 62</td>\n",
        "      <td> 1</td>\n",
        "      <td> 0.422915</td>\n",
        "    </tr>\n",
        "    <tr>\n",
        "      <th>2001</th>\n",
        "      <td> 70</td>\n",
        "      <td> 1</td>\n",
        "      <td> 0.425901</td>\n",
        "    </tr>\n",
        "    <tr>\n",
        "      <th>2002</th>\n",
        "      <td> 50</td>\n",
        "      <td> 1</td>\n",
        "      <td> 0.291688</td>\n",
        "    </tr>\n",
        "    <tr>\n",
        "      <th>2002</th>\n",
        "      <td> 48</td>\n",
        "      <td> 0</td>\n",
        "      <td> 0.291688</td>\n",
        "    </tr>\n",
        "  </tbody>\n",
        "</table>\n",
        "<p>10 rows \u00d7 3 columns</p>\n",
        "</div>"
       ],
       "metadata": {},
       "output_type": "pyout",
       "prompt_number": 76,
       "text": [
        "            results  pass  prob_exmpt\n",
        "stcou year                           \n",
        "8001  1993       60     1    0.389286\n",
        "      1997       39     0    0.377190\n",
        "      1997       27     0    0.377190\n",
        "      1997       29     0    0.377190\n",
        "      1997       64     1    0.377190\n",
        "      1999       60     1    0.405178\n",
        "      2000       62     1    0.422915\n",
        "      2001       70     1    0.425901\n",
        "      2002       50     1    0.291688\n",
        "      2002       48     0    0.291688\n",
        "\n",
        "[10 rows x 3 columns]"
       ]
      }
     ],
     "prompt_number": 76
    },
    {
     "cell_type": "markdown",
     "metadata": {},
     "source": [
      "Now we can subset to just ballot and result variables to evaluate ballot design.  Just to get a baseline, let's start with OLS."
     ]
    },
    {
     "cell_type": "code",
     "collapsed": false,
     "input": [
      "#Subset to ballot vars and variables of interest\n",
      "ballot_sub=ballot[['pass','results','prob_exmpt']+bal+tel[1:]]\n",
      "blt_sub=ballot_sub[-pd.isnull(ballot_sub).any(axis=1)]\n",
      "\n",
      "#Instantiate OLS object\n",
      "ols=sm.OLS(blt_sub['results'],blt_sub[[var for var in blt_sub.columns if var not in ['results','pass']]])\n",
      "\n",
      "#Fit model\n",
      "ols_res=ols.fit()\n",
      "\n",
      "ols_res.summary()"
     ],
     "language": "python",
     "metadata": {},
     "outputs": [
      {
       "output_type": "stream",
       "stream": "stderr",
       "text": [
        "/home/choct155/analysis/Anaconda/lib/python2.7/site-packages/pandas/core/series.py:1001: DeprecationWarning: numpy boolean negative (the unary `-` operator) is deprecated, use the bitwise_xor (the `^` operator) or the logical_xor function instead.\n",
        "  arr = operator.neg(self.values)\n"
       ]
      },
      {
       "html": [
        "<table class=\"simpletable\">\n",
        "<caption>OLS Regression Results</caption>\n",
        "<tr>\n",
        "  <th>Dep. Variable:</th>         <td>results</td>     <th>  R-squared:         </th> <td>   0.182</td>\n",
        "</tr>\n",
        "<tr>\n",
        "  <th>Model:</th>                   <td>OLS</td>       <th>  Adj. R-squared:    </th> <td>   0.127</td>\n",
        "</tr>\n",
        "<tr>\n",
        "  <th>Method:</th>             <td>Least Squares</td>  <th>  F-statistic:       </th> <td>   3.315</td>\n",
        "</tr>\n",
        "<tr>\n",
        "  <th>Date:</th>             <td>Wed, 12 Nov 2014</td> <th>  Prob (F-statistic):</th> <td>6.08e-09</td>\n",
        "</tr>\n",
        "<tr>\n",
        "  <th>Time:</th>                 <td>14:12:20</td>     <th>  Log-Likelihood:    </th> <td> -2111.2</td>\n",
        "</tr>\n",
        "<tr>\n",
        "  <th>No. Observations:</th>      <td>   526</td>      <th>  AIC:               </th> <td>   4290.</td>\n",
        "</tr>\n",
        "<tr>\n",
        "  <th>Df Residuals:</th>          <td>   492</td>      <th>  BIC:               </th> <td>   4435.</td>\n",
        "</tr>\n",
        "<tr>\n",
        "  <th>Df Model:</th>              <td>    33</td>      <th>                     </th>     <td> </td>   \n",
        "</tr>\n",
        "</table>\n",
        "<table class=\"simpletable\">\n",
        "<tr>\n",
        "            <td></td>              <th>coef</th>     <th>std err</th>      <th>t</th>      <th>P>|t|</th> <th>[95.0% Conf. Int.]</th> \n",
        "</tr>\n",
        "<tr>\n",
        "  <th>prob_exmpt</th>           <td>   47.6011</td> <td>    7.393</td> <td>    6.438</td> <td> 0.000</td> <td>   33.075    62.128</td>\n",
        "</tr>\n",
        "<tr>\n",
        "  <th>s_time</th>               <td>    0.0219</td> <td>    0.033</td> <td>    0.667</td> <td> 0.505</td> <td>   -0.043     0.087</td>\n",
        "</tr>\n",
        "<tr>\n",
        "  <th>sales_change</th>         <td>   -3.2488</td> <td>    1.083</td> <td>   -3.001</td> <td> 0.003</td> <td>   -5.376    -1.122</td>\n",
        "</tr>\n",
        "<tr>\n",
        "  <th>prop_change</th>          <td>   -1.4222</td> <td>    0.492</td> <td>   -2.888</td> <td> 0.004</td> <td>   -2.390    -0.455</td>\n",
        "</tr>\n",
        "<tr>\n",
        "  <th>prop_levy_change</th>     <td>-3.663e-06</td> <td> 1.89e-06</td> <td>   -1.933</td> <td> 0.054</td> <td>-7.39e-06  5.94e-08</td>\n",
        "</tr>\n",
        "<tr>\n",
        "  <th>debt_change</th>          <td> 2.396e-08</td> <td> 7.23e-08</td> <td>    0.332</td> <td> 0.740</td> <td>-1.18e-07  1.66e-07</td>\n",
        "</tr>\n",
        "<tr>\n",
        "  <th>rev_time</th>             <td>    0.0399</td> <td>    0.018</td> <td>    2.210</td> <td> 0.028</td> <td>    0.004     0.075</td>\n",
        "</tr>\n",
        "<tr>\n",
        "  <th>ss_open</th>              <td>   24.5001</td> <td>    5.877</td> <td>    4.169</td> <td> 0.000</td> <td>   12.954    36.046</td>\n",
        "</tr>\n",
        "<tr>\n",
        "  <th>ss_no waiver</th>         <td>   11.0419</td> <td>    2.387</td> <td>    4.626</td> <td> 0.000</td> <td>    6.352    15.732</td>\n",
        "</tr>\n",
        "<tr>\n",
        "  <th>ss_sales</th>             <td>   26.2234</td> <td>    7.008</td> <td>    3.742</td> <td> 0.000</td> <td>   12.454    39.993</td>\n",
        "</tr>\n",
        "<tr>\n",
        "  <th>ss_property</th>          <td>   21.0238</td> <td>    6.691</td> <td>    3.142</td> <td> 0.002</td> <td>    7.878    34.170</td>\n",
        "</tr>\n",
        "<tr>\n",
        "  <th>ss_nontax</th>            <td>   22.4862</td> <td>    7.208</td> <td>    3.120</td> <td> 0.002</td> <td>    8.324    36.648</td>\n",
        "</tr>\n",
        "<tr>\n",
        "  <th>ss_value</th>             <td>   25.2085</td> <td>    6.226</td> <td>    4.049</td> <td> 0.000</td> <td>   12.976    37.441</td>\n",
        "</tr>\n",
        "<tr>\n",
        "  <th>ss_transfer</th>          <td>   27.5193</td> <td>    6.607</td> <td>    4.165</td> <td> 0.000</td> <td>   14.538    40.500</td>\n",
        "</tr>\n",
        "<tr>\n",
        "  <th>ss_nonproperty</th>       <td>    0.4635</td> <td>    7.511</td> <td>    0.062</td> <td> 0.951</td> <td>  -14.294    15.221</td>\n",
        "</tr>\n",
        "<tr>\n",
        "  <th>ss_tourism</th>           <td>   28.7361</td> <td>    9.241</td> <td>    3.110</td> <td> 0.002</td> <td>   10.580    46.893</td>\n",
        "</tr>\n",
        "<tr>\n",
        "  <th>ss_unknown</th>           <td>   15.1705</td> <td>   15.138</td> <td>    1.002</td> <td> 0.317</td> <td>  -14.572    44.913</td>\n",
        "</tr>\n",
        "<tr>\n",
        "  <th>ss_library</th>           <td>   26.7914</td> <td>   15.167</td> <td>    1.766</td> <td> 0.078</td> <td>   -3.008    56.591</td>\n",
        "</tr>\n",
        "<tr>\n",
        "  <th>ss_gaming</th>            <td>   34.9317</td> <td>   10.804</td> <td>    3.233</td> <td> 0.001</td> <td>   13.705    56.159</td>\n",
        "</tr>\n",
        "<tr>\n",
        "  <th>ss_development</th>       <td>-2.526e-10</td> <td> 1.45e-10</td> <td>   -1.736</td> <td> 0.083</td> <td>-5.39e-10  3.32e-11</td>\n",
        "</tr>\n",
        "<tr>\n",
        "  <th>infrastructure</th>       <td>   -2.3699</td> <td>    1.875</td> <td>   -1.264</td> <td> 0.207</td> <td>   -6.053     1.314</td>\n",
        "</tr>\n",
        "<tr>\n",
        "  <th>open</th>                 <td>   -4.2910</td> <td>    3.163</td> <td>   -1.357</td> <td> 0.176</td> <td>  -10.506     1.924</td>\n",
        "</tr>\n",
        "<tr>\n",
        "  <th>public safety</th>        <td>   -3.7430</td> <td>    2.099</td> <td>   -1.783</td> <td> 0.075</td> <td>   -7.867     0.381</td>\n",
        "</tr>\n",
        "<tr>\n",
        "  <th>economic development</th> <td>   -4.8964</td> <td>    7.229</td> <td>   -0.677</td> <td> 0.499</td> <td>  -19.099     9.307</td>\n",
        "</tr>\n",
        "<tr>\n",
        "  <th>unspecified</th>          <td>   -1.0387</td> <td>    3.020</td> <td>   -0.344</td> <td> 0.731</td> <td>   -6.972     4.895</td>\n",
        "</tr>\n",
        "<tr>\n",
        "  <th>environment</th>          <td>    1.9770</td> <td>    2.344</td> <td>    0.844</td> <td> 0.399</td> <td>   -2.628     6.582</td>\n",
        "</tr>\n",
        "<tr>\n",
        "  <th>hss</th>                  <td>   -3.7770</td> <td>    2.279</td> <td>   -1.657</td> <td> 0.098</td> <td>   -8.255     0.701</td>\n",
        "</tr>\n",
        "<tr>\n",
        "  <th>education</th>            <td>   -2.7423</td> <td>    3.037</td> <td>   -0.903</td> <td> 0.367</td> <td>   -8.708     3.224</td>\n",
        "</tr>\n",
        "<tr>\n",
        "  <th>tourism</th>              <td>    3.5572</td> <td>    4.650</td> <td>    0.765</td> <td> 0.445</td> <td>   -5.580    12.694</td>\n",
        "</tr>\n",
        "<tr>\n",
        "  <th>no waiver</th>            <td>   11.0419</td> <td>    2.387</td> <td>    4.626</td> <td> 0.000</td> <td>    6.352    15.732</td>\n",
        "</tr>\n",
        "<tr>\n",
        "  <th>administrative</th>       <td>  -22.6737</td> <td>    4.734</td> <td>   -4.789</td> <td> 0.000</td> <td>  -31.976   -13.372</td>\n",
        "</tr>\n",
        "<tr>\n",
        "  <th>limited</th>              <td>   -3.1888</td> <td>    7.131</td> <td>   -0.447</td> <td> 0.655</td> <td>  -17.199    10.822</td>\n",
        "</tr>\n",
        "<tr>\n",
        "  <th>agriculture</th>          <td>   -7.6715</td> <td>    8.078</td> <td>   -0.950</td> <td> 0.343</td> <td>  -23.543     8.200</td>\n",
        "</tr>\n",
        "<tr>\n",
        "  <th>unknown</th>              <td>  -27.1859</td> <td>   14.542</td> <td>   -1.870</td> <td> 0.062</td> <td>  -55.757     1.385</td>\n",
        "</tr>\n",
        "<tr>\n",
        "  <th>choice</th>               <td>   -3.1888</td> <td>    7.131</td> <td>   -0.447</td> <td> 0.655</td> <td>  -17.199    10.822</td>\n",
        "</tr>\n",
        "<tr>\n",
        "  <th>intensity_stock</th>      <td>   -4.3049</td> <td>    2.046</td> <td>   -2.104</td> <td> 0.036</td> <td>   -8.324    -0.286</td>\n",
        "</tr>\n",
        "<tr>\n",
        "  <th>prop_ratio</th>           <td>    4.3369</td> <td>    1.505</td> <td>    2.882</td> <td> 0.004</td> <td>    1.381     7.293</td>\n",
        "</tr>\n",
        "</table>\n",
        "<table class=\"simpletable\">\n",
        "<tr>\n",
        "  <th>Omnibus:</th>       <td> 1.934</td> <th>  Durbin-Watson:     </th> <td>   1.636</td>\n",
        "</tr>\n",
        "<tr>\n",
        "  <th>Prob(Omnibus):</th> <td> 0.380</td> <th>  Jarque-Bera (JB):  </th> <td>   1.903</td>\n",
        "</tr>\n",
        "<tr>\n",
        "  <th>Skew:</th>          <td> 0.147</td> <th>  Prob(JB):          </th> <td>   0.386</td>\n",
        "</tr>\n",
        "<tr>\n",
        "  <th>Kurtosis:</th>      <td> 2.982</td> <th>  Cond. No.          </th> <td>     nan</td>\n",
        "</tr>\n",
        "</table>"
       ],
       "metadata": {},
       "output_type": "pyout",
       "prompt_number": 77,
       "text": [
        "<class 'statsmodels.iolib.summary.Summary'>\n",
        "\"\"\"\n",
        "                            OLS Regression Results                            \n",
        "==============================================================================\n",
        "Dep. Variable:                results   R-squared:                       0.182\n",
        "Model:                            OLS   Adj. R-squared:                  0.127\n",
        "Method:                 Least Squares   F-statistic:                     3.315\n",
        "Date:                Wed, 12 Nov 2014   Prob (F-statistic):           6.08e-09\n",
        "Time:                        14:12:20   Log-Likelihood:                -2111.2\n",
        "No. Observations:                 526   AIC:                             4290.\n",
        "Df Residuals:                     492   BIC:                             4435.\n",
        "Df Model:                          33                                         \n",
        "========================================================================================\n",
        "                           coef    std err          t      P>|t|      [95.0% Conf. Int.]\n",
        "----------------------------------------------------------------------------------------\n",
        "prob_exmpt              47.6011      7.393      6.438      0.000        33.075    62.128\n",
        "s_time                   0.0219      0.033      0.667      0.505        -0.043     0.087\n",
        "sales_change            -3.2488      1.083     -3.001      0.003        -5.376    -1.122\n",
        "prop_change             -1.4222      0.492     -2.888      0.004        -2.390    -0.455\n",
        "prop_levy_change     -3.663e-06   1.89e-06     -1.933      0.054     -7.39e-06  5.94e-08\n",
        "debt_change           2.396e-08   7.23e-08      0.332      0.740     -1.18e-07  1.66e-07\n",
        "rev_time                 0.0399      0.018      2.210      0.028         0.004     0.075\n",
        "ss_open                 24.5001      5.877      4.169      0.000        12.954    36.046\n",
        "ss_no waiver            11.0419      2.387      4.626      0.000         6.352    15.732\n",
        "ss_sales                26.2234      7.008      3.742      0.000        12.454    39.993\n",
        "ss_property             21.0238      6.691      3.142      0.002         7.878    34.170\n",
        "ss_nontax               22.4862      7.208      3.120      0.002         8.324    36.648\n",
        "ss_value                25.2085      6.226      4.049      0.000        12.976    37.441\n",
        "ss_transfer             27.5193      6.607      4.165      0.000        14.538    40.500\n",
        "ss_nonproperty           0.4635      7.511      0.062      0.951       -14.294    15.221\n",
        "ss_tourism              28.7361      9.241      3.110      0.002        10.580    46.893\n",
        "ss_unknown              15.1705     15.138      1.002      0.317       -14.572    44.913\n",
        "ss_library              26.7914     15.167      1.766      0.078        -3.008    56.591\n",
        "ss_gaming               34.9317     10.804      3.233      0.001        13.705    56.159\n",
        "ss_development       -2.526e-10   1.45e-10     -1.736      0.083     -5.39e-10  3.32e-11\n",
        "infrastructure          -2.3699      1.875     -1.264      0.207        -6.053     1.314\n",
        "open                    -4.2910      3.163     -1.357      0.176       -10.506     1.924\n",
        "public safety           -3.7430      2.099     -1.783      0.075        -7.867     0.381\n",
        "economic development    -4.8964      7.229     -0.677      0.499       -19.099     9.307\n",
        "unspecified             -1.0387      3.020     -0.344      0.731        -6.972     4.895\n",
        "environment              1.9770      2.344      0.844      0.399        -2.628     6.582\n",
        "hss                     -3.7770      2.279     -1.657      0.098        -8.255     0.701\n",
        "education               -2.7423      3.037     -0.903      0.367        -8.708     3.224\n",
        "tourism                  3.5572      4.650      0.765      0.445        -5.580    12.694\n",
        "no waiver               11.0419      2.387      4.626      0.000         6.352    15.732\n",
        "administrative         -22.6737      4.734     -4.789      0.000       -31.976   -13.372\n",
        "limited                 -3.1888      7.131     -0.447      0.655       -17.199    10.822\n",
        "agriculture             -7.6715      8.078     -0.950      0.343       -23.543     8.200\n",
        "unknown                -27.1859     14.542     -1.870      0.062       -55.757     1.385\n",
        "choice                  -3.1888      7.131     -0.447      0.655       -17.199    10.822\n",
        "intensity_stock         -4.3049      2.046     -2.104      0.036        -8.324    -0.286\n",
        "prop_ratio               4.3369      1.505      2.882      0.004         1.381     7.293\n",
        "==============================================================================\n",
        "Omnibus:                        1.934   Durbin-Watson:                   1.636\n",
        "Prob(Omnibus):                  0.380   Jarque-Bera (JB):                1.903\n",
        "Skew:                           0.147   Prob(JB):                        0.386\n",
        "Kurtosis:                       2.982   Cond. No.                          nan\n",
        "==============================================================================\n",
        "\n",
        "Warnings:\n",
        "[1] The smallest eigenvalue is -1.08e-15. This might indicate that there are\n",
        "strong multicollinearity problems or that the design matrix is singular.\n",
        "\"\"\""
       ]
      }
     ],
     "prompt_number": 77
    },
    {
     "cell_type": "markdown",
     "metadata": {},
     "source": [
      "Quickly save results to disk."
     ]
    },
    {
     "cell_type": "code",
     "collapsed": false,
     "input": [
      "f = open('exmpt_ols_res.csv', 'w')\n",
      "f.write(ols_res.summary().tables[1].as_csv())\n",
      "f.close"
     ],
     "language": "python",
     "metadata": {},
     "outputs": [
      {
       "metadata": {},
       "output_type": "pyout",
       "prompt_number": 78,
       "text": [
        "<function close>"
       ]
      }
     ],
     "prompt_number": 78
    },
    {
     "cell_type": "markdown",
     "metadata": {},
     "source": [
      "So ... this model is remarkably well-behaved.  DW is remarkably close to 2 given the number of observations.  (For context, the lower limit at 200 observations is 1.623 with $\\alpha = .05$.  Our sample has 526 observations.)  We also fail to reject the null on both tests of normality."
     ]
    },
    {
     "cell_type": "code",
     "collapsed": false,
     "input": [
      "#Generate plot object\n",
      "fig,ax=plt.subplots(figsize=(18,5))\n",
      "\n",
      "#Plot distances from hyperplane\n",
      "ax.scatter(range(len(ols_res.resid)),ols_res.resid,\n",
      "           s=50,c='r',alpha=.6,lw=0)\n",
      "\n",
      "#Fix background\n",
      "ax.patch.set_facecolor('w')\n",
      "\n",
      "#Set labels\n",
      "ax.set_title('Model Residuals')\n",
      "ax.set_xlabel('Observation')\n",
      "ax.set_ylabel('Residual')\n",
      "\n",
      "#Add zero line\n",
      "ax.axhline(0,0,len(ols_res.resid),lw=2,c='k')\n",
      "\n",
      "#Set range\n",
      "ax.set_xlim([0,len(ols_res.resid)])\n",
      "\n",
      "plt.savefig('ols_resid_by_obs.png',dpi=500)"
     ],
     "language": "python",
     "metadata": {},
     "outputs": [
      {
       "metadata": {},
       "output_type": "display_data",
       "png": "[encoded data removed]",
       "text": [
        "<matplotlib.figure.Figure at 0x7feab48ca910>"
       ]
      }
     ],
     "prompt_number": 102
    },
    {
     "cell_type": "code",
     "collapsed": false,
     "input": [
      "#Generate plot object\n",
      "fig,ax=plt.subplots(figsize=(18,5))\n",
      "\n",
      "#Plot distribution\n",
      "ax.hist(ols_res.resid,bins=30,histtype='stepfilled',alpha=.6,color='r')\n",
      "\n",
      "#Fix background\n",
      "ax.patch.set_facecolor('w')\n",
      "\n",
      "#Set labels\n",
      "ax.set_title('Distribution of Residuals')\n",
      "ax.set_ylabel('Count')\n",
      "\n",
      "#Add zero line\n",
      "ax.axvline(0,0,60,lw=2,c='k',linestyle='--')\n",
      "\n",
      "plt.savefig('ols_resid_dist.png',dpi=500)"
     ],
     "language": "python",
     "metadata": {},
     "outputs": [
      {
       "metadata": {},
       "output_type": "display_data",
       "png": "[encoded data removed]",
       "text": [
        "<matplotlib.figure.Figure at 0x7feab43ce8d0>"
       ]
      }
     ],
     "prompt_number": 103
    },
    {
     "cell_type": "markdown",
     "metadata": {},
     "source": [
      "What about influential observations?  Let's take a look."
     ]
    },
    {
     "cell_type": "code",
     "collapsed": false,
     "input": [
      "from statsmodels.graphics.regressionplots import *\n",
      "\n",
      "#Generate plot object\n",
      "fig,ax=plt.subplots(figsize=(15,10))\n",
      "\n",
      "#Plot leverage\n",
      "fig=plot_leverage_resid2(ols_res,ax=ax)"
     ],
     "language": "python",
     "metadata": {},
     "outputs": [
      {
       "metadata": {},
       "output_type": "display_data",
       "png": "[encoded data removed]",
       "text": [
        "<matplotlib.figure.Figure at 0x7feab39efe90>"
       ]
      }
     ],
     "prompt_number": 81
    },
    {
     "cell_type": "markdown",
     "metadata": {},
     "source": [
      "Hmmm, so we do have a slight chink in the armor here.  There are many outliers pushing the estimate around.  They do not, however, lead to a violation of assumptions."
     ]
    },
    {
     "cell_type": "code",
     "collapsed": false,
     "input": [
      "#Generate plot object\n",
      "fig,ax=plt.subplots(figsize=(15,10))\n",
      "\n",
      "#Plot leverage\n",
      "fig=plot_partregress('results','prob_exmpt',['intensity_stock','prop_ratio'],data=blt_sub,ax=ax,obs_labels=False,\n",
      "                     c='r',alpha=.6,lw=0)\n",
      "\n",
      "#Fix background\n",
      "ax.patch.set_facecolor('w')\n",
      "\n",
      "#Set labels\n",
      "ax.set_title('Partial Regression - Exemption Probability')\n",
      "\n",
      "plt.savefig('exmpt_partial_reg.png',dpi=500)"
     ],
     "language": "python",
     "metadata": {},
     "outputs": [
      {
       "metadata": {},
       "output_type": "display_data",
       "png": "[encoded data removed]",
       "text": [
        "<matplotlib.figure.Figure at 0x7feab16b7e50>"
       ]
      }
     ],
     "prompt_number": 104
    },
    {
     "cell_type": "heading",
     "level": 3,
     "metadata": {},
     "source": [
      "Principal Components Analysis"
     ]
    },
    {
     "cell_type": "markdown",
     "metadata": {},
     "source": [
      "Given the performance of this model, I am fairly intrigued by the idea of displaying separability across the passage threshold.  Let's perform PCA on the regressors, and see if we can feasibly display the design matrix in two dimensions."
     ]
    },
    {
     "cell_type": "code",
     "collapsed": false,
     "input": [
      "#Instantiate PCA object\n",
      "pca=decomposition.PCA()\n",
      "\n",
      "#Fit data to PCA object\n",
      "pca.fit(blt_sub[[var for var in blt_sub.columns if var not in ['results','pass']]].values)"
     ],
     "language": "python",
     "metadata": {},
     "outputs": [
      {
       "metadata": {},
       "output_type": "pyout",
       "prompt_number": 83,
       "text": [
        "PCA(copy=True, n_components=None, whiten=False)"
       ]
      }
     ],
     "prompt_number": 83
    },
    {
     "cell_type": "markdown",
     "metadata": {},
     "source": [
      "What does the distribution of explained variation look like?"
     ]
    },
    {
     "cell_type": "code",
     "collapsed": false,
     "input": [
      "#Generate plot object\n",
      "fig,ax=plt.subplots(1,2,figsize=(16,5))\n",
      "\n",
      "#Plot explained variance\n",
      "ax[0].plot(pca.explained_variance_)\n",
      "ax[1].plot(pca.explained_variance_ratio_)\n",
      "\n",
      "#Set range\n",
      "ax[0].set_xlim([0,20])\n",
      "ax[0].set_xticks(range(21))\n",
      "ax[1].set_xlim([0,20])\n",
      "ax[1].set_xticks(range(21))\n",
      "\n",
      "#Fix titles\n",
      "ax[0].set_title('Explained Variation vs. Number of Dimensions')\n",
      "ax[1].set_title('Explained Variance Ratio vs. Number of Dimensions')\n",
      "\n",
      "print 'Proportion of variation explained by first two components:',pca.explained_variance_ratio_[:2].sum()"
     ],
     "language": "python",
     "metadata": {},
     "outputs": [
      {
       "output_type": "stream",
       "stream": "stdout",
       "text": [
        "Proportion of variation explained by first two components: 0.999999999955\n"
       ]
      },
      {
       "metadata": {},
       "output_type": "display_data",
       "png": "[encoded data removed]",
       "text": [
        "<matplotlib.figure.Figure at 0x7feab2dae850>"
       ]
      }
     ],
     "prompt_number": 84
    },
    {
     "cell_type": "markdown",
     "metadata": {},
     "source": [
      "Hmmm.  Almost all of the variation is explained in one dimension."
     ]
    },
    {
     "cell_type": "code",
     "collapsed": false,
     "input": [
      "#Generate rotated design matrix\n",
      "pca_X_des=np.dot(blt_sub[[var for var in blt_sub.columns if var not in ['results','pass']]].values,pca.components_.T)\n",
      "\n",
      "#Instantiate object containing normalized values for results\n",
      "res_norm=plt.Normalize(vmin=blt_sub['results'].min(),vmax=blt_sub['results'].max())\n",
      "\n",
      "#Instantiate color map\n",
      "col_map = plt.get_cmap(\"RdBu\")\n",
      "\n",
      "#Generate plot object\n",
      "fig,ax=plt.subplots(figsize=(18,8))\n",
      "\n",
      "#Plot results\n",
      "ax.scatter(pca_X_des[:,1],blt_sub['results'].values,lw=0,alpha=.5,s=70,color=col_map(res_norm(y)))\n",
      "\n",
      "#Set titles\n",
      "ax.set_title('Results in PCA Basis')\n",
      "ax.set_xlim([0,scoreatpercentile(pca_X_des[:,1],87)])\n",
      "\n",
      "#Fix background\n",
      "ax.patch.set_facecolor('w')\n",
      "\n",
      "#Set labels\n",
      "ax.set_title('Separability of Vote Outcomes in Ballot Space')\n",
      "ax.set_xlabel('First Principal Component')\n",
      "ax.set_ylabel('Yes Vote %')\n",
      "\n",
      "#Add zero line\n",
      "ax.axhline(50,0,1,lw=2,c='k')"
     ],
     "language": "python",
     "metadata": {},
     "outputs": [
      {
       "metadata": {},
       "output_type": "pyout",
       "prompt_number": 85,
       "text": [
        "<matplotlib.lines.Line2D at 0x7feab1750690>"
       ]
      },
      {
       "metadata": {},
       "output_type": "display_data",
       "png": "[encoded data removed]",
       "text": [
        "<matplotlib.figure.Figure at 0x7feab18323d0>"
       ]
      }
     ],
     "prompt_number": 85
    },
    {
     "cell_type": "code",
     "collapsed": false,
     "input": [
      "scoreatpercentile(pca_X_des[:,1],87)"
     ],
     "language": "python",
     "metadata": {},
     "outputs": [
      {
       "metadata": {},
       "output_type": "pyout",
       "prompt_number": 86,
       "text": [
        "0.0013415453962070513"
       ]
      }
     ],
     "prompt_number": 86
    },
    {
     "cell_type": "code",
     "collapsed": false,
     "input": [
      "#Capture logit inputs\n",
      "y_logit=blt_sub['pass'].values\n",
      "X_logit=blt_sub[[var for var in blt_sub.columns if var not in ['results','pass']]].values\n",
      "\n",
      "#Instantiate model and fit data\n",
      "logit=linear_model.LogisticRegression()\n",
      "logit=logit.fit(X_logit,y_logit)\n",
      "\n",
      "#Check model score\n",
      "print logit.predict(X_logit)"
     ],
     "language": "python",
     "metadata": {},
     "outputs": [
      {
       "output_type": "stream",
       "stream": "stdout",
       "text": [
        "[1 1 1 1 1 1 1 1 1 1 1 1 1 1 1 1 1 1 1 1 1 1 1 1 1 1 1 1 1 1 1 1 1 1 1 0 1\n",
        " 1 1 1 1 1 1 1 1 1 1 1 1 1 1 1 1 1 1 1 1 1 1 1 1 1 1 1 1 1 1 1 1 1 1 1 1 1\n",
        " 1 1 1 1 1 1 1 1 1 1 1 1 1 1 1 1 1 1 1 1 1 1 1 1 1 1 1 1 1 1 0 1 1 0 0 1 1\n",
        " 1 1 1 1 1 0 1 1 1 1 1 1 1 1 1 1 1 1 1 1 1 1 1 1 1 1 1 1 1 1 1 1 1 1 1 1 1\n",
        " 1 1 1 1 1 1 1 1 1 1 1 1 1 1 1 1 1 1 1 1 1 1 1 1 1 1 1 1 0 1 1 1 1 1 1 1 1\n",
        " 1 0 0 1 1 1 1 1 1 1 1 0 1 1 1 1 1 1 1 1 1 1 1 0 1 1 1 1 1 1 1 1 1 1 1 1 1\n",
        " 1 1 1 1 1 1 1 1 1 1 1 1 1 1 1 1 1 1 1 1 1 1 1 1 1 1 1 1 0 0 1 1 1 1 1 1 0\n",
        " 1 0 1 1 1 1 1 1 1 1 1 1 1 1 1 1 1 1 1 1 1 1 0 1 1 1 1 1 1 1 1 1 0 1 1 1 1\n",
        " 1 1 1 1 1 1 1 1 1 1 1 1 1 1 1 1 1 1 1 1 1 1 1 0 0 0 0 1 1 1 1 1 1 1 1 1 1\n",
        " 1 1 1 1 1 1 1 1 1 1 1 1 1 1 0 1 1 1 1 1 1 1 1 1 1 0 0 1 1 1 1 1 1 1 1 1 1\n",
        " 1 1 1 1 1 1 1 1 1 1 1 1 1 1 1 1 1 1 1 1 1 1 1 1 1 1 1 1 1 1 1 1 1 1 1 1 1\n",
        " 1 1 1 1 1 1 1 1 1 1 1 1 1 0 1 1 1 1 1 1 1 1 1 1 1 1 1 1 1 0 0 1 1 1 1 1 1\n",
        " 1 1 1 1 1 1 1 1 1 1 1 1 1 1 1 1 1 1 1 0 0 1 1 1 1 1 1 1 1 1 1 1 1 0 1 1 1\n",
        " 1 1 1 1 0 1 1 1 1 1 1 1 1 1 1 1 1 1 1 1 1 1 1 1 1 1 1 1 1 1 1 1 1 0 1 1 1\n",
        " 1 1 1 1 1 0 1 1]\n"
       ]
      }
     ],
     "prompt_number": 87
    },
    {
     "cell_type": "code",
     "collapsed": false,
     "input": [
      "#Split into training and test sets\n",
      "Xl_train,Xl_test,yl_train,yl_test=train_test_split(X_logit,y_logit)\n",
      "\n",
      "#Fit a new model\n",
      "logit2=linear_model.LogisticRegression()\n",
      "logit2=logit2.fit(Xl_train,yl_train)\n",
      "\n",
      "#Capture predicted values from the test set\n",
      "log_pred=logit2.predict(Xl_test)\n",
      "\n",
      "#Capture probabilities\n",
      "log_prob=logit2.predict_proba(Xl_test)\n",
      "\n",
      "#Observe accuracy\n",
      "metrics.accuracy_score(yl_test,log_pred)"
     ],
     "language": "python",
     "metadata": {},
     "outputs": [
      {
       "metadata": {},
       "output_type": "pyout",
       "prompt_number": 88,
       "text": [
        "0.55303030303030298"
       ]
      }
     ],
     "prompt_number": 88
    },
    {
     "cell_type": "code",
     "collapsed": false,
     "input": [
      "log_scores=cross_val_score(linear_model.LogisticRegression(),X_logit,y_logit,scoring='accuracy',cv=5)\n",
      "\n",
      "print log_scores\n",
      "print log_scores.mean()"
     ],
     "language": "python",
     "metadata": {},
     "outputs": [
      {
       "output_type": "stream",
       "stream": "stdout",
       "text": [
        "[ 0.58490566  0.62857143  0.60952381  0.59047619  0.59047619]\n",
        "0.600790655885\n"
       ]
      }
     ],
     "prompt_number": 89
    },
    {
     "cell_type": "code",
     "collapsed": false,
     "input": [
      "exmpt_in=blt_sub[[var for var in blt_sub.columns if var not in ['results']]].reset_index()\n",
      "exmpt_in.pop('stcou')\n",
      "exmpt_in.pop('year')\n",
      "\n",
      "exmpt_in.to_csv('exempt_logit_input.csv')"
     ],
     "language": "python",
     "metadata": {},
     "outputs": [],
     "prompt_number": 90
    },
    {
     "cell_type": "markdown",
     "metadata": {},
     "source": [
      "For some reason the logistic regression would not run in StatsModels (there are no missing values and the design matrix turned over in all other models, in both R and Python).  In any case, we ran it in R.  It had a mean predictive accuracy of 70.3%.  Here are the coefficients."
     ]
    },
    {
     "cell_type": "code",
     "collapsed": false,
     "input": [
      "rlog=pd.read_csv('rlogit_summ.csv',index_col=0)\n",
      "rlog.columns=['coef','se','z','pval']\n",
      "rlog"
     ],
     "language": "python",
     "metadata": {},
     "outputs": [
      {
       "html": [
        "<div style=\"max-height:1000px;max-width:1500px;overflow:auto;\">\n",
        "<table border=\"1\" class=\"dataframe\">\n",
        "  <thead>\n",
        "    <tr style=\"text-align: right;\">\n",
        "      <th></th>\n",
        "      <th>coef</th>\n",
        "      <th>se</th>\n",
        "      <th>z</th>\n",
        "      <th>pval</th>\n",
        "    </tr>\n",
        "  </thead>\n",
        "  <tbody>\n",
        "    <tr>\n",
        "      <th>(Intercept)</th>\n",
        "      <td> 2.234012e+00</td>\n",
        "      <td> 1.982648e+00</td>\n",
        "      <td> 1.126782</td>\n",
        "      <td> 0.259835</td>\n",
        "    </tr>\n",
        "    <tr>\n",
        "      <th>prob_exmpt</th>\n",
        "      <td> 4.140266e+00</td>\n",
        "      <td> 1.201757e+00</td>\n",
        "      <td> 3.445178</td>\n",
        "      <td> 0.000571</td>\n",
        "    </tr>\n",
        "    <tr>\n",
        "      <th>s_time</th>\n",
        "      <td> 2.418014e-03</td>\n",
        "      <td> 5.476407e-03</td>\n",
        "      <td> 0.441533</td>\n",
        "      <td> 0.658827</td>\n",
        "    </tr>\n",
        "    <tr>\n",
        "      <th>sales_change</th>\n",
        "      <td>-4.409965e-01</td>\n",
        "      <td> 1.796655e-01</td>\n",
        "      <td>-2.454542</td>\n",
        "      <td> 0.014106</td>\n",
        "    </tr>\n",
        "    <tr>\n",
        "      <th>prop_change</th>\n",
        "      <td>-1.460024e-01</td>\n",
        "      <td> 7.986612e-02</td>\n",
        "      <td>-1.828090</td>\n",
        "      <td> 0.067536</td>\n",
        "    </tr>\n",
        "    <tr>\n",
        "      <th>prop_levy_change</th>\n",
        "      <td>-7.766403e-07</td>\n",
        "      <td> 5.816767e-07</td>\n",
        "      <td>-1.335175</td>\n",
        "      <td> 0.181819</td>\n",
        "    </tr>\n",
        "    <tr>\n",
        "      <th>debt_change</th>\n",
        "      <td>-5.534842e-09</td>\n",
        "      <td> 1.178454e-08</td>\n",
        "      <td>-0.469670</td>\n",
        "      <td> 0.638591</td>\n",
        "    </tr>\n",
        "    <tr>\n",
        "      <th>rev_time</th>\n",
        "      <td> 4.424544e-03</td>\n",
        "      <td> 2.875098e-03</td>\n",
        "      <td> 1.538919</td>\n",
        "      <td> 0.123824</td>\n",
        "    </tr>\n",
        "    <tr>\n",
        "      <th>ss_open</th>\n",
        "      <td>-2.782944e+00</td>\n",
        "      <td> 1.813991e+00</td>\n",
        "      <td>-1.534155</td>\n",
        "      <td> 0.124991</td>\n",
        "    </tr>\n",
        "    <tr>\n",
        "      <th>ss_sales</th>\n",
        "      <td>-8.809260e-01</td>\n",
        "      <td> 1.745863e+00</td>\n",
        "      <td>-0.504579</td>\n",
        "      <td> 0.613855</td>\n",
        "    </tr>\n",
        "    <tr>\n",
        "      <th>ss_property</th>\n",
        "      <td>-1.824766e+00</td>\n",
        "      <td> 1.753214e+00</td>\n",
        "      <td>-1.040812</td>\n",
        "      <td> 0.297963</td>\n",
        "    </tr>\n",
        "    <tr>\n",
        "      <th>ss_nontax</th>\n",
        "      <td>-3.318876e+00</td>\n",
        "      <td> 1.923276e+00</td>\n",
        "      <td>-1.725637</td>\n",
        "      <td> 0.084413</td>\n",
        "    </tr>\n",
        "    <tr>\n",
        "      <th>ss_value</th>\n",
        "      <td>-2.406341e+00</td>\n",
        "      <td> 1.749902e+00</td>\n",
        "      <td>-1.375129</td>\n",
        "      <td> 0.169091</td>\n",
        "    </tr>\n",
        "    <tr>\n",
        "      <th>ss_transfer</th>\n",
        "      <td>-2.687014e+00</td>\n",
        "      <td> 1.796891e+00</td>\n",
        "      <td>-1.495369</td>\n",
        "      <td> 0.134818</td>\n",
        "    </tr>\n",
        "    <tr>\n",
        "      <th>ss_nonproperty</th>\n",
        "      <td>-2.538285e+00</td>\n",
        "      <td> 1.281003e+00</td>\n",
        "      <td>-1.981482</td>\n",
        "      <td> 0.047537</td>\n",
        "    </tr>\n",
        "    <tr>\n",
        "      <th>ss_tourism</th>\n",
        "      <td> 1.372995e+01</td>\n",
        "      <td> 1.106085e+03</td>\n",
        "      <td> 0.012413</td>\n",
        "      <td> 0.990096</td>\n",
        "    </tr>\n",
        "    <tr>\n",
        "      <th>ss_unknown</th>\n",
        "      <td>-2.053842e+01</td>\n",
        "      <td> 2.399545e+03</td>\n",
        "      <td>-0.008559</td>\n",
        "      <td> 0.993171</td>\n",
        "    </tr>\n",
        "    <tr>\n",
        "      <th>ss_library</th>\n",
        "      <td> 1.253968e+01</td>\n",
        "      <td> 2.399545e+03</td>\n",
        "      <td> 0.005226</td>\n",
        "      <td> 0.995830</td>\n",
        "    </tr>\n",
        "    <tr>\n",
        "      <th>ss_gaming</th>\n",
        "      <td> 1.440827e+01</td>\n",
        "      <td> 1.551093e+03</td>\n",
        "      <td> 0.009289</td>\n",
        "      <td> 0.992588</td>\n",
        "    </tr>\n",
        "    <tr>\n",
        "      <th>infrastructure</th>\n",
        "      <td>-8.420018e-01</td>\n",
        "      <td> 3.022393e-01</td>\n",
        "      <td>-2.785878</td>\n",
        "      <td> 0.005338</td>\n",
        "    </tr>\n",
        "    <tr>\n",
        "      <th>open</th>\n",
        "      <td>-1.741329e+00</td>\n",
        "      <td> 6.154610e-01</td>\n",
        "      <td>-2.829307</td>\n",
        "      <td> 0.004665</td>\n",
        "    </tr>\n",
        "    <tr>\n",
        "      <th>public.safety</th>\n",
        "      <td>-6.944389e-01</td>\n",
        "      <td> 3.373805e-01</td>\n",
        "      <td>-2.058326</td>\n",
        "      <td> 0.039559</td>\n",
        "    </tr>\n",
        "    <tr>\n",
        "      <th>economic.development</th>\n",
        "      <td>-2.376163e+00</td>\n",
        "      <td> 1.431397e+00</td>\n",
        "      <td>-1.660030</td>\n",
        "      <td> 0.096908</td>\n",
        "    </tr>\n",
        "    <tr>\n",
        "      <th>unspecified</th>\n",
        "      <td>-7.033145e-01</td>\n",
        "      <td> 4.807789e-01</td>\n",
        "      <td>-1.462865</td>\n",
        "      <td> 0.143504</td>\n",
        "    </tr>\n",
        "    <tr>\n",
        "      <th>environment</th>\n",
        "      <td> 4.111366e-01</td>\n",
        "      <td> 3.943205e-01</td>\n",
        "      <td> 1.042646</td>\n",
        "      <td> 0.297112</td>\n",
        "    </tr>\n",
        "    <tr>\n",
        "      <th>hss</th>\n",
        "      <td>-4.100915e-01</td>\n",
        "      <td> 3.613055e-01</td>\n",
        "      <td>-1.135027</td>\n",
        "      <td> 0.256364</td>\n",
        "    </tr>\n",
        "    <tr>\n",
        "      <th>education</th>\n",
        "      <td>-4.785876e-01</td>\n",
        "      <td> 4.765975e-01</td>\n",
        "      <td>-1.004175</td>\n",
        "      <td> 0.315294</td>\n",
        "    </tr>\n",
        "    <tr>\n",
        "      <th>tourism</th>\n",
        "      <td> 1.215426e+00</td>\n",
        "      <td> 8.832353e-01</td>\n",
        "      <td> 1.376107</td>\n",
        "      <td> 0.168789</td>\n",
        "    </tr>\n",
        "    <tr>\n",
        "      <th>no.waiver</th>\n",
        "      <td>-4.098462e+00</td>\n",
        "      <td> 1.840461e+00</td>\n",
        "      <td>-2.226867</td>\n",
        "      <td> 0.025956</td>\n",
        "    </tr>\n",
        "    <tr>\n",
        "      <th>administrative</th>\n",
        "      <td>-2.831806e+00</td>\n",
        "      <td> 1.094273e+00</td>\n",
        "      <td>-2.587843</td>\n",
        "      <td> 0.009658</td>\n",
        "    </tr>\n",
        "    <tr>\n",
        "      <th>limited</th>\n",
        "      <td>-1.615478e+01</td>\n",
        "      <td> 2.399545e+03</td>\n",
        "      <td>-0.006732</td>\n",
        "      <td> 0.994628</td>\n",
        "    </tr>\n",
        "    <tr>\n",
        "      <th>agriculture</th>\n",
        "      <td>-1.519817e+00</td>\n",
        "      <td> 1.243501e+00</td>\n",
        "      <td>-1.222208</td>\n",
        "      <td> 0.221629</td>\n",
        "    </tr>\n",
        "    <tr>\n",
        "      <th>unknown</th>\n",
        "      <td>-1.634157e+01</td>\n",
        "      <td> 2.399545e+03</td>\n",
        "      <td>-0.006810</td>\n",
        "      <td> 0.994566</td>\n",
        "    </tr>\n",
        "    <tr>\n",
        "      <th>intensity_stock</th>\n",
        "      <td>-2.940716e-01</td>\n",
        "      <td> 3.293511e-01</td>\n",
        "      <td>-0.892882</td>\n",
        "      <td> 0.371920</td>\n",
        "    </tr>\n",
        "    <tr>\n",
        "      <th>prop_ratio</th>\n",
        "      <td> 3.977184e-01</td>\n",
        "      <td> 2.438098e-01</td>\n",
        "      <td> 1.631265</td>\n",
        "      <td> 0.102834</td>\n",
        "    </tr>\n",
        "  </tbody>\n",
        "</table>\n",
        "<p>35 rows \u00d7 4 columns</p>\n",
        "</div>"
       ],
       "metadata": {},
       "output_type": "pyout",
       "prompt_number": 91,
       "text": [
        "                              coef            se         z      pval\n",
        "(Intercept)           2.234012e+00  1.982648e+00  1.126782  0.259835\n",
        "prob_exmpt            4.140266e+00  1.201757e+00  3.445178  0.000571\n",
        "s_time                2.418014e-03  5.476407e-03  0.441533  0.658827\n",
        "sales_change         -4.409965e-01  1.796655e-01 -2.454542  0.014106\n",
        "prop_change          -1.460024e-01  7.986612e-02 -1.828090  0.067536\n",
        "prop_levy_change     -7.766403e-07  5.816767e-07 -1.335175  0.181819\n",
        "debt_change          -5.534842e-09  1.178454e-08 -0.469670  0.638591\n",
        "rev_time              4.424544e-03  2.875098e-03  1.538919  0.123824\n",
        "ss_open              -2.782944e+00  1.813991e+00 -1.534155  0.124991\n",
        "ss_sales             -8.809260e-01  1.745863e+00 -0.504579  0.613855\n",
        "ss_property          -1.824766e+00  1.753214e+00 -1.040812  0.297963\n",
        "ss_nontax            -3.318876e+00  1.923276e+00 -1.725637  0.084413\n",
        "ss_value             -2.406341e+00  1.749902e+00 -1.375129  0.169091\n",
        "ss_transfer          -2.687014e+00  1.796891e+00 -1.495369  0.134818\n",
        "ss_nonproperty       -2.538285e+00  1.281003e+00 -1.981482  0.047537\n",
        "ss_tourism            1.372995e+01  1.106085e+03  0.012413  0.990096\n",
        "ss_unknown           -2.053842e+01  2.399545e+03 -0.008559  0.993171\n",
        "ss_library            1.253968e+01  2.399545e+03  0.005226  0.995830\n",
        "ss_gaming             1.440827e+01  1.551093e+03  0.009289  0.992588\n",
        "infrastructure       -8.420018e-01  3.022393e-01 -2.785878  0.005338\n",
        "open                 -1.741329e+00  6.154610e-01 -2.829307  0.004665\n",
        "public.safety        -6.944389e-01  3.373805e-01 -2.058326  0.039559\n",
        "economic.development -2.376163e+00  1.431397e+00 -1.660030  0.096908\n",
        "unspecified          -7.033145e-01  4.807789e-01 -1.462865  0.143504\n",
        "environment           4.111366e-01  3.943205e-01  1.042646  0.297112\n",
        "hss                  -4.100915e-01  3.613055e-01 -1.135027  0.256364\n",
        "education            -4.785876e-01  4.765975e-01 -1.004175  0.315294\n",
        "tourism               1.215426e+00  8.832353e-01  1.376107  0.168789\n",
        "no.waiver            -4.098462e+00  1.840461e+00 -2.226867  0.025956\n",
        "administrative       -2.831806e+00  1.094273e+00 -2.587843  0.009658\n",
        "limited              -1.615478e+01  2.399545e+03 -0.006732  0.994628\n",
        "agriculture          -1.519817e+00  1.243501e+00 -1.222208  0.221629\n",
        "unknown              -1.634157e+01  2.399545e+03 -0.006810  0.994566\n",
        "intensity_stock      -2.940716e-01  3.293511e-01 -0.892882  0.371920\n",
        "prop_ratio            3.977184e-01  2.438098e-01  1.631265  0.102834\n",
        "\n",
        "[35 rows x 4 columns]"
       ]
      }
     ],
     "prompt_number": 91
    },
    {
     "cell_type": "code",
     "collapsed": false,
     "input": [
      "rprob=pd.read_csv('rprobit_summ.csv',index_col=0)\n",
      "rprob.columns=['coef','se','z','pval']\n",
      "rprob"
     ],
     "language": "python",
     "metadata": {},
     "outputs": [
      {
       "html": [
        "<div style=\"max-height:1000px;max-width:1500px;overflow:auto;\">\n",
        "<table border=\"1\" class=\"dataframe\">\n",
        "  <thead>\n",
        "    <tr style=\"text-align: right;\">\n",
        "      <th></th>\n",
        "      <th>coef</th>\n",
        "      <th>se</th>\n",
        "      <th>z</th>\n",
        "      <th>pval</th>\n",
        "    </tr>\n",
        "  </thead>\n",
        "  <tbody>\n",
        "    <tr>\n",
        "      <th>(Intercept)</th>\n",
        "      <td> 1.176526e+00</td>\n",
        "      <td> 1.171924e+00</td>\n",
        "      <td> 1.003926</td>\n",
        "      <td> 0.315414</td>\n",
        "    </tr>\n",
        "    <tr>\n",
        "      <th>prob_exmpt</th>\n",
        "      <td> 2.519174e+00</td>\n",
        "      <td> 7.060052e-01</td>\n",
        "      <td> 3.568209</td>\n",
        "      <td> 0.000359</td>\n",
        "    </tr>\n",
        "    <tr>\n",
        "      <th>s_time</th>\n",
        "      <td> 1.220491e-03</td>\n",
        "      <td> 3.257741e-03</td>\n",
        "      <td> 0.374643</td>\n",
        "      <td> 0.707926</td>\n",
        "    </tr>\n",
        "    <tr>\n",
        "      <th>sales_change</th>\n",
        "      <td>-2.613862e-01</td>\n",
        "      <td> 1.068376e-01</td>\n",
        "      <td>-2.446574</td>\n",
        "      <td> 0.014422</td>\n",
        "    </tr>\n",
        "    <tr>\n",
        "      <th>prop_change</th>\n",
        "      <td>-8.606698e-02</td>\n",
        "      <td> 4.791668e-02</td>\n",
        "      <td>-1.796180</td>\n",
        "      <td> 0.072466</td>\n",
        "    </tr>\n",
        "    <tr>\n",
        "      <th>prop_levy_change</th>\n",
        "      <td>-4.839337e-07</td>\n",
        "      <td> 3.256059e-07</td>\n",
        "      <td>-1.486256</td>\n",
        "      <td> 0.137211</td>\n",
        "    </tr>\n",
        "    <tr>\n",
        "      <th>debt_change</th>\n",
        "      <td>-3.109492e-09</td>\n",
        "      <td> 7.054902e-09</td>\n",
        "      <td>-0.440756</td>\n",
        "      <td> 0.659389</td>\n",
        "    </tr>\n",
        "    <tr>\n",
        "      <th>rev_time</th>\n",
        "      <td> 2.757359e-03</td>\n",
        "      <td> 1.744197e-03</td>\n",
        "      <td> 1.580876</td>\n",
        "      <td> 0.113906</td>\n",
        "    </tr>\n",
        "    <tr>\n",
        "      <th>ss_open</th>\n",
        "      <td>-1.555926e+00</td>\n",
        "      <td> 1.074078e+00</td>\n",
        "      <td>-1.448616</td>\n",
        "      <td> 0.147445</td>\n",
        "    </tr>\n",
        "    <tr>\n",
        "      <th>ss_sales</th>\n",
        "      <td>-6.007509e-01</td>\n",
        "      <td> 1.050904e+00</td>\n",
        "      <td>-0.571651</td>\n",
        "      <td> 0.567558</td>\n",
        "    </tr>\n",
        "    <tr>\n",
        "      <th>ss_property</th>\n",
        "      <td>-1.005762e+00</td>\n",
        "      <td> 1.046314e+00</td>\n",
        "      <td>-0.961243</td>\n",
        "      <td> 0.336430</td>\n",
        "    </tr>\n",
        "    <tr>\n",
        "      <th>ss_nontax</th>\n",
        "      <td>-1.870248e+00</td>\n",
        "      <td> 1.142659e+00</td>\n",
        "      <td>-1.636750</td>\n",
        "      <td> 0.101683</td>\n",
        "    </tr>\n",
        "    <tr>\n",
        "      <th>ss_value</th>\n",
        "      <td>-1.349484e+00</td>\n",
        "      <td> 1.044287e+00</td>\n",
        "      <td>-1.292255</td>\n",
        "      <td> 0.196269</td>\n",
        "    </tr>\n",
        "    <tr>\n",
        "      <th>ss_transfer</th>\n",
        "      <td>-1.477875e+00</td>\n",
        "      <td> 1.059687e+00</td>\n",
        "      <td>-1.394634</td>\n",
        "      <td> 0.163126</td>\n",
        "    </tr>\n",
        "    <tr>\n",
        "      <th>ss_nonproperty</th>\n",
        "      <td>-1.510658e+00</td>\n",
        "      <td> 7.508232e-01</td>\n",
        "      <td>-2.012003</td>\n",
        "      <td> 0.044220</td>\n",
        "    </tr>\n",
        "    <tr>\n",
        "      <th>ss_tourism</th>\n",
        "      <td> 3.840749e+00</td>\n",
        "      <td> 1.730516e+02</td>\n",
        "      <td> 0.022194</td>\n",
        "      <td> 0.982293</td>\n",
        "    </tr>\n",
        "    <tr>\n",
        "      <th>ss_unknown</th>\n",
        "      <td>-7.468492e+00</td>\n",
        "      <td> 3.767551e+02</td>\n",
        "      <td>-0.019823</td>\n",
        "      <td> 0.984184</td>\n",
        "    </tr>\n",
        "    <tr>\n",
        "      <th>ss_library</th>\n",
        "      <td> 2.919694e+00</td>\n",
        "      <td> 3.767551e+02</td>\n",
        "      <td> 0.007750</td>\n",
        "      <td> 0.993817</td>\n",
        "    </tr>\n",
        "    <tr>\n",
        "      <th>ss_gaming</th>\n",
        "      <td> 4.219855e+00</td>\n",
        "      <td> 2.378995e+02</td>\n",
        "      <td> 0.017738</td>\n",
        "      <td> 0.985848</td>\n",
        "    </tr>\n",
        "    <tr>\n",
        "      <th>infrastructure</th>\n",
        "      <td>-4.811494e-01</td>\n",
        "      <td> 1.820199e-01</td>\n",
        "      <td>-2.643389</td>\n",
        "      <td> 0.008208</td>\n",
        "    </tr>\n",
        "    <tr>\n",
        "      <th>open</th>\n",
        "      <td>-1.004446e+00</td>\n",
        "      <td> 3.511454e-01</td>\n",
        "      <td>-2.860485</td>\n",
        "      <td> 0.004230</td>\n",
        "    </tr>\n",
        "    <tr>\n",
        "      <th>public.safety</th>\n",
        "      <td>-3.853599e-01</td>\n",
        "      <td> 2.039604e-01</td>\n",
        "      <td>-1.889386</td>\n",
        "      <td> 0.058840</td>\n",
        "    </tr>\n",
        "    <tr>\n",
        "      <th>economic.development</th>\n",
        "      <td>-1.437225e+00</td>\n",
        "      <td> 8.102860e-01</td>\n",
        "      <td>-1.773726</td>\n",
        "      <td> 0.076109</td>\n",
        "    </tr>\n",
        "    <tr>\n",
        "      <th>unspecified</th>\n",
        "      <td>-4.173361e-01</td>\n",
        "      <td> 2.925318e-01</td>\n",
        "      <td>-1.426635</td>\n",
        "      <td> 0.153685</td>\n",
        "    </tr>\n",
        "    <tr>\n",
        "      <th>environment</th>\n",
        "      <td> 2.662286e-01</td>\n",
        "      <td> 2.339699e-01</td>\n",
        "      <td> 1.137876</td>\n",
        "      <td> 0.255172</td>\n",
        "    </tr>\n",
        "    <tr>\n",
        "      <th>hss</th>\n",
        "      <td>-2.398085e-01</td>\n",
        "      <td> 2.185853e-01</td>\n",
        "      <td>-1.097093</td>\n",
        "      <td> 0.272601</td>\n",
        "    </tr>\n",
        "    <tr>\n",
        "      <th>education</th>\n",
        "      <td>-2.776402e-01</td>\n",
        "      <td> 2.893317e-01</td>\n",
        "      <td>-0.959591</td>\n",
        "      <td> 0.337261</td>\n",
        "    </tr>\n",
        "    <tr>\n",
        "      <th>tourism</th>\n",
        "      <td> 7.558749e-01</td>\n",
        "      <td> 5.026044e-01</td>\n",
        "      <td> 1.503916</td>\n",
        "      <td> 0.132603</td>\n",
        "    </tr>\n",
        "    <tr>\n",
        "      <th>no.waiver</th>\n",
        "      <td>-2.336317e+00</td>\n",
        "      <td> 1.087545e+00</td>\n",
        "      <td>-2.148250</td>\n",
        "      <td> 0.031694</td>\n",
        "    </tr>\n",
        "    <tr>\n",
        "      <th>administrative</th>\n",
        "      <td>-1.441302e+00</td>\n",
        "      <td> 5.355881e-01</td>\n",
        "      <td>-2.691064</td>\n",
        "      <td> 0.007122</td>\n",
        "    </tr>\n",
        "    <tr>\n",
        "      <th>limited</th>\n",
        "      <td>-4.964169e+00</td>\n",
        "      <td> 3.767537e+02</td>\n",
        "      <td>-0.013176</td>\n",
        "      <td> 0.989487</td>\n",
        "    </tr>\n",
        "    <tr>\n",
        "      <th>agriculture</th>\n",
        "      <td>-9.218546e-01</td>\n",
        "      <td> 7.591585e-01</td>\n",
        "      <td>-1.214311</td>\n",
        "      <td> 0.224629</td>\n",
        "    </tr>\n",
        "    <tr>\n",
        "      <th>unknown</th>\n",
        "      <td>-5.076457e+00</td>\n",
        "      <td> 3.767538e+02</td>\n",
        "      <td>-0.013474</td>\n",
        "      <td> 0.989249</td>\n",
        "    </tr>\n",
        "    <tr>\n",
        "      <th>intensity_stock</th>\n",
        "      <td>-1.707450e-01</td>\n",
        "      <td> 1.982729e-01</td>\n",
        "      <td>-0.861161</td>\n",
        "      <td> 0.389149</td>\n",
        "    </tr>\n",
        "    <tr>\n",
        "      <th>prop_ratio</th>\n",
        "      <td> 2.310158e-01</td>\n",
        "      <td> 1.471006e-01</td>\n",
        "      <td> 1.570462</td>\n",
        "      <td> 0.116308</td>\n",
        "    </tr>\n",
        "  </tbody>\n",
        "</table>\n",
        "<p>35 rows \u00d7 4 columns</p>\n",
        "</div>"
       ],
       "metadata": {},
       "output_type": "pyout",
       "prompt_number": 92,
       "text": [
        "                              coef            se         z      pval\n",
        "(Intercept)           1.176526e+00  1.171924e+00  1.003926  0.315414\n",
        "prob_exmpt            2.519174e+00  7.060052e-01  3.568209  0.000359\n",
        "s_time                1.220491e-03  3.257741e-03  0.374643  0.707926\n",
        "sales_change         -2.613862e-01  1.068376e-01 -2.446574  0.014422\n",
        "prop_change          -8.606698e-02  4.791668e-02 -1.796180  0.072466\n",
        "prop_levy_change     -4.839337e-07  3.256059e-07 -1.486256  0.137211\n",
        "debt_change          -3.109492e-09  7.054902e-09 -0.440756  0.659389\n",
        "rev_time              2.757359e-03  1.744197e-03  1.580876  0.113906\n",
        "ss_open              -1.555926e+00  1.074078e+00 -1.448616  0.147445\n",
        "ss_sales             -6.007509e-01  1.050904e+00 -0.571651  0.567558\n",
        "ss_property          -1.005762e+00  1.046314e+00 -0.961243  0.336430\n",
        "ss_nontax            -1.870248e+00  1.142659e+00 -1.636750  0.101683\n",
        "ss_value             -1.349484e+00  1.044287e+00 -1.292255  0.196269\n",
        "ss_transfer          -1.477875e+00  1.059687e+00 -1.394634  0.163126\n",
        "ss_nonproperty       -1.510658e+00  7.508232e-01 -2.012003  0.044220\n",
        "ss_tourism            3.840749e+00  1.730516e+02  0.022194  0.982293\n",
        "ss_unknown           -7.468492e+00  3.767551e+02 -0.019823  0.984184\n",
        "ss_library            2.919694e+00  3.767551e+02  0.007750  0.993817\n",
        "ss_gaming             4.219855e+00  2.378995e+02  0.017738  0.985848\n",
        "infrastructure       -4.811494e-01  1.820199e-01 -2.643389  0.008208\n",
        "open                 -1.004446e+00  3.511454e-01 -2.860485  0.004230\n",
        "public.safety        -3.853599e-01  2.039604e-01 -1.889386  0.058840\n",
        "economic.development -1.437225e+00  8.102860e-01 -1.773726  0.076109\n",
        "unspecified          -4.173361e-01  2.925318e-01 -1.426635  0.153685\n",
        "environment           2.662286e-01  2.339699e-01  1.137876  0.255172\n",
        "hss                  -2.398085e-01  2.185853e-01 -1.097093  0.272601\n",
        "education            -2.776402e-01  2.893317e-01 -0.959591  0.337261\n",
        "tourism               7.558749e-01  5.026044e-01  1.503916  0.132603\n",
        "no.waiver            -2.336317e+00  1.087545e+00 -2.148250  0.031694\n",
        "administrative       -1.441302e+00  5.355881e-01 -2.691064  0.007122\n",
        "limited              -4.964169e+00  3.767537e+02 -0.013176  0.989487\n",
        "agriculture          -9.218546e-01  7.591585e-01 -1.214311  0.224629\n",
        "unknown              -5.076457e+00  3.767538e+02 -0.013474  0.989249\n",
        "intensity_stock      -1.707450e-01  1.982729e-01 -0.861161  0.389149\n",
        "prop_ratio            2.310158e-01  1.471006e-01  1.570462  0.116308\n",
        "\n",
        "[35 rows x 4 columns]"
       ]
      }
     ],
     "prompt_number": 92
    },
    {
     "cell_type": "code",
     "collapsed": false,
     "input": [
      "dir(ols_res.summary())"
     ],
     "language": "python",
     "metadata": {},
     "outputs": [
      {
       "metadata": {},
       "output_type": "pyout",
       "prompt_number": 93,
       "text": [
        "['__class__',\n",
        " '__delattr__',\n",
        " '__dict__',\n",
        " '__doc__',\n",
        " '__format__',\n",
        " '__getattribute__',\n",
        " '__hash__',\n",
        " '__init__',\n",
        " '__module__',\n",
        " '__new__',\n",
        " '__reduce__',\n",
        " '__reduce_ex__',\n",
        " '__repr__',\n",
        " '__setattr__',\n",
        " '__sizeof__',\n",
        " '__str__',\n",
        " '__subclasshook__',\n",
        " '__weakref__',\n",
        " '_repr_html_',\n",
        " 'add_extra_txt',\n",
        " 'add_table_2cols',\n",
        " 'add_table_params',\n",
        " 'as_csv',\n",
        " 'as_html',\n",
        " 'as_latex',\n",
        " 'as_text',\n",
        " 'extra_txt',\n",
        " 'tables']"
       ]
      }
     ],
     "prompt_number": 93
    },
    {
     "cell_type": "code",
     "collapsed": false,
     "input": [
      "pols=pd.read_csv('exmpt_ols_res.csv',index_col=0)\n",
      "pols.columns=['coef','se','t','pval','ci']\n",
      "pols"
     ],
     "language": "python",
     "metadata": {},
     "outputs": [
      {
       "ename": "CParserError",
       "evalue": "Passed header=0 but only 0 lines in file",
       "output_type": "pyerr",
       "traceback": [
        "\u001b[1;31m---------------------------------------------------------------------------\u001b[0m\n\u001b[1;31mCParserError\u001b[0m                              Traceback (most recent call last)",
        "\u001b[1;32m<ipython-input-94-4e01af4cdfb3>\u001b[0m in \u001b[0;36m<module>\u001b[1;34m()\u001b[0m\n\u001b[1;32m----> 1\u001b[1;33m \u001b[0mpols\u001b[0m\u001b[1;33m=\u001b[0m\u001b[0mpd\u001b[0m\u001b[1;33m.\u001b[0m\u001b[0mread_csv\u001b[0m\u001b[1;33m(\u001b[0m\u001b[1;34m'exmpt_ols_res.csv'\u001b[0m\u001b[1;33m,\u001b[0m\u001b[0mindex_col\u001b[0m\u001b[1;33m=\u001b[0m\u001b[1;36m0\u001b[0m\u001b[1;33m)\u001b[0m\u001b[1;33m\u001b[0m\u001b[0m\n\u001b[0m\u001b[0;32m      2\u001b[0m \u001b[0mpols\u001b[0m\u001b[1;33m.\u001b[0m\u001b[0mcolumns\u001b[0m\u001b[1;33m=\u001b[0m\u001b[1;33m[\u001b[0m\u001b[1;34m'coef'\u001b[0m\u001b[1;33m,\u001b[0m\u001b[1;34m'se'\u001b[0m\u001b[1;33m,\u001b[0m\u001b[1;34m't'\u001b[0m\u001b[1;33m,\u001b[0m\u001b[1;34m'pval'\u001b[0m\u001b[1;33m,\u001b[0m\u001b[1;34m'ci'\u001b[0m\u001b[1;33m]\u001b[0m\u001b[1;33m\u001b[0m\u001b[0m\n\u001b[0;32m      3\u001b[0m \u001b[0mpols\u001b[0m\u001b[1;33m\u001b[0m\u001b[0m\n",
        "\u001b[1;32m/home/choct155/analysis/Anaconda/lib/python2.7/site-packages/pandas/io/parsers.pyc\u001b[0m in \u001b[0;36mparser_f\u001b[1;34m(filepath_or_buffer, sep, dialect, compression, doublequote, escapechar, quotechar, quoting, skipinitialspace, lineterminator, header, index_col, names, prefix, skiprows, skipfooter, skip_footer, na_values, na_fvalues, true_values, false_values, delimiter, converters, dtype, usecols, engine, delim_whitespace, as_recarray, na_filter, compact_ints, use_unsigned, low_memory, buffer_lines, warn_bad_lines, error_bad_lines, keep_default_na, thousands, comment, decimal, parse_dates, keep_date_col, dayfirst, date_parser, memory_map, nrows, iterator, chunksize, verbose, encoding, squeeze, mangle_dupe_cols, tupleize_cols, infer_datetime_format)\u001b[0m\n\u001b[0;32m    418\u001b[0m                     infer_datetime_format=infer_datetime_format)\n\u001b[0;32m    419\u001b[0m \u001b[1;33m\u001b[0m\u001b[0m\n\u001b[1;32m--> 420\u001b[1;33m         \u001b[1;32mreturn\u001b[0m \u001b[0m_read\u001b[0m\u001b[1;33m(\u001b[0m\u001b[0mfilepath_or_buffer\u001b[0m\u001b[1;33m,\u001b[0m \u001b[0mkwds\u001b[0m\u001b[1;33m)\u001b[0m\u001b[1;33m\u001b[0m\u001b[0m\n\u001b[0m\u001b[0;32m    421\u001b[0m \u001b[1;33m\u001b[0m\u001b[0m\n\u001b[0;32m    422\u001b[0m     \u001b[0mparser_f\u001b[0m\u001b[1;33m.\u001b[0m\u001b[0m__name__\u001b[0m \u001b[1;33m=\u001b[0m \u001b[0mname\u001b[0m\u001b[1;33m\u001b[0m\u001b[0m\n",
        "\u001b[1;32m/home/choct155/analysis/Anaconda/lib/python2.7/site-packages/pandas/io/parsers.pyc\u001b[0m in \u001b[0;36m_read\u001b[1;34m(filepath_or_buffer, kwds)\u001b[0m\n\u001b[0;32m    216\u001b[0m \u001b[1;33m\u001b[0m\u001b[0m\n\u001b[0;32m    217\u001b[0m     \u001b[1;31m# Create the parser.\u001b[0m\u001b[1;33m\u001b[0m\u001b[1;33m\u001b[0m\u001b[0m\n\u001b[1;32m--> 218\u001b[1;33m     \u001b[0mparser\u001b[0m \u001b[1;33m=\u001b[0m \u001b[0mTextFileReader\u001b[0m\u001b[1;33m(\u001b[0m\u001b[0mfilepath_or_buffer\u001b[0m\u001b[1;33m,\u001b[0m \u001b[1;33m**\u001b[0m\u001b[0mkwds\u001b[0m\u001b[1;33m)\u001b[0m\u001b[1;33m\u001b[0m\u001b[0m\n\u001b[0m\u001b[0;32m    219\u001b[0m \u001b[1;33m\u001b[0m\u001b[0m\n\u001b[0;32m    220\u001b[0m     \u001b[1;32mif\u001b[0m \u001b[0mnrows\u001b[0m \u001b[1;32mis\u001b[0m \u001b[1;32mnot\u001b[0m \u001b[0mNone\u001b[0m\u001b[1;33m:\u001b[0m\u001b[1;33m\u001b[0m\u001b[0m\n",
        "\u001b[1;32m/home/choct155/analysis/Anaconda/lib/python2.7/site-packages/pandas/io/parsers.pyc\u001b[0m in \u001b[0;36m__init__\u001b[1;34m(self, f, engine, **kwds)\u001b[0m\n\u001b[0;32m    500\u001b[0m             \u001b[0mself\u001b[0m\u001b[1;33m.\u001b[0m\u001b[0moptions\u001b[0m\u001b[1;33m[\u001b[0m\u001b[1;34m'has_index_names'\u001b[0m\u001b[1;33m]\u001b[0m \u001b[1;33m=\u001b[0m \u001b[0mkwds\u001b[0m\u001b[1;33m[\u001b[0m\u001b[1;34m'has_index_names'\u001b[0m\u001b[1;33m]\u001b[0m\u001b[1;33m\u001b[0m\u001b[0m\n\u001b[0;32m    501\u001b[0m \u001b[1;33m\u001b[0m\u001b[0m\n\u001b[1;32m--> 502\u001b[1;33m         \u001b[0mself\u001b[0m\u001b[1;33m.\u001b[0m\u001b[0m_make_engine\u001b[0m\u001b[1;33m(\u001b[0m\u001b[0mself\u001b[0m\u001b[1;33m.\u001b[0m\u001b[0mengine\u001b[0m\u001b[1;33m)\u001b[0m\u001b[1;33m\u001b[0m\u001b[0m\n\u001b[0m\u001b[0;32m    503\u001b[0m \u001b[1;33m\u001b[0m\u001b[0m\n\u001b[0;32m    504\u001b[0m     \u001b[1;32mdef\u001b[0m \u001b[0m_get_options_with_defaults\u001b[0m\u001b[1;33m(\u001b[0m\u001b[0mself\u001b[0m\u001b[1;33m,\u001b[0m \u001b[0mengine\u001b[0m\u001b[1;33m)\u001b[0m\u001b[1;33m:\u001b[0m\u001b[1;33m\u001b[0m\u001b[0m\n",
        "\u001b[1;32m/home/choct155/analysis/Anaconda/lib/python2.7/site-packages/pandas/io/parsers.pyc\u001b[0m in \u001b[0;36m_make_engine\u001b[1;34m(self, engine)\u001b[0m\n\u001b[0;32m    608\u001b[0m     \u001b[1;32mdef\u001b[0m \u001b[0m_make_engine\u001b[0m\u001b[1;33m(\u001b[0m\u001b[0mself\u001b[0m\u001b[1;33m,\u001b[0m \u001b[0mengine\u001b[0m\u001b[1;33m=\u001b[0m\u001b[1;34m'c'\u001b[0m\u001b[1;33m)\u001b[0m\u001b[1;33m:\u001b[0m\u001b[1;33m\u001b[0m\u001b[0m\n\u001b[0;32m    609\u001b[0m         \u001b[1;32mif\u001b[0m \u001b[0mengine\u001b[0m \u001b[1;33m==\u001b[0m \u001b[1;34m'c'\u001b[0m\u001b[1;33m:\u001b[0m\u001b[1;33m\u001b[0m\u001b[0m\n\u001b[1;32m--> 610\u001b[1;33m             \u001b[0mself\u001b[0m\u001b[1;33m.\u001b[0m\u001b[0m_engine\u001b[0m \u001b[1;33m=\u001b[0m \u001b[0mCParserWrapper\u001b[0m\u001b[1;33m(\u001b[0m\u001b[0mself\u001b[0m\u001b[1;33m.\u001b[0m\u001b[0mf\u001b[0m\u001b[1;33m,\u001b[0m \u001b[1;33m**\u001b[0m\u001b[0mself\u001b[0m\u001b[1;33m.\u001b[0m\u001b[0moptions\u001b[0m\u001b[1;33m)\u001b[0m\u001b[1;33m\u001b[0m\u001b[0m\n\u001b[0m\u001b[0;32m    611\u001b[0m         \u001b[1;32melse\u001b[0m\u001b[1;33m:\u001b[0m\u001b[1;33m\u001b[0m\u001b[0m\n\u001b[0;32m    612\u001b[0m             \u001b[1;32mif\u001b[0m \u001b[0mengine\u001b[0m \u001b[1;33m==\u001b[0m \u001b[1;34m'python'\u001b[0m\u001b[1;33m:\u001b[0m\u001b[1;33m\u001b[0m\u001b[0m\n",
        "\u001b[1;32m/home/choct155/analysis/Anaconda/lib/python2.7/site-packages/pandas/io/parsers.pyc\u001b[0m in \u001b[0;36m__init__\u001b[1;34m(self, src, **kwds)\u001b[0m\n\u001b[0;32m    970\u001b[0m         \u001b[0mkwds\u001b[0m\u001b[1;33m[\u001b[0m\u001b[1;34m'allow_leading_cols'\u001b[0m\u001b[1;33m]\u001b[0m \u001b[1;33m=\u001b[0m \u001b[0mself\u001b[0m\u001b[1;33m.\u001b[0m\u001b[0mindex_col\u001b[0m \u001b[1;32mis\u001b[0m \u001b[1;32mnot\u001b[0m \u001b[0mFalse\u001b[0m\u001b[1;33m\u001b[0m\u001b[0m\n\u001b[0;32m    971\u001b[0m \u001b[1;33m\u001b[0m\u001b[0m\n\u001b[1;32m--> 972\u001b[1;33m         \u001b[0mself\u001b[0m\u001b[1;33m.\u001b[0m\u001b[0m_reader\u001b[0m \u001b[1;33m=\u001b[0m \u001b[0m_parser\u001b[0m\u001b[1;33m.\u001b[0m\u001b[0mTextReader\u001b[0m\u001b[1;33m(\u001b[0m\u001b[0msrc\u001b[0m\u001b[1;33m,\u001b[0m \u001b[1;33m**\u001b[0m\u001b[0mkwds\u001b[0m\u001b[1;33m)\u001b[0m\u001b[1;33m\u001b[0m\u001b[0m\n\u001b[0m\u001b[0;32m    973\u001b[0m \u001b[1;33m\u001b[0m\u001b[0m\n\u001b[0;32m    974\u001b[0m         \u001b[1;31m# XXX\u001b[0m\u001b[1;33m\u001b[0m\u001b[1;33m\u001b[0m\u001b[0m\n",
        "\u001b[1;32m/home/choct155/analysis/Anaconda/lib/python2.7/site-packages/pandas/parser.so\u001b[0m in \u001b[0;36mpandas.parser.TextReader.__cinit__ (pandas/parser.c:4616)\u001b[1;34m()\u001b[0m\n",
        "\u001b[1;32m/home/choct155/analysis/Anaconda/lib/python2.7/site-packages/pandas/parser.so\u001b[0m in \u001b[0;36mpandas.parser.TextReader._get_header (pandas/parser.c:6056)\u001b[1;34m()\u001b[0m\n",
        "\u001b[1;31mCParserError\u001b[0m: Passed header=0 but only 0 lines in file"
       ]
      }
     ],
     "prompt_number": 94
    },
    {
     "cell_type": "code",
     "collapsed": false,
     "input": [
      "rlog[['coef','pval']].sort(columns=['pval']).to_csv('exmpt_rlog_out.csv')\n",
      "rlog[['coef','pval']].sort(columns=['pval']).head()"
     ],
     "language": "python",
     "metadata": {},
     "outputs": []
    },
    {
     "cell_type": "code",
     "collapsed": false,
     "input": [
      "rprob[['coef','pval']].sort(columns=['pval']).to_csv('exmpt_rprob_out.csv')\n",
      "rprob[['coef','pval']].sort(columns=['pval']).head()"
     ],
     "language": "python",
     "metadata": {},
     "outputs": []
    },
    {
     "cell_type": "code",
     "collapsed": false,
     "input": [
      "pols[['coef','pval']].sort(columns=['pval']).to_csv('exmpt_pols_out.csv')\n",
      "pols[['coef','pval']].sort(columns=['pval']).head()"
     ],
     "language": "python",
     "metadata": {},
     "outputs": []
    },
    {
     "cell_type": "code",
     "collapsed": false,
     "input": [],
     "language": "python",
     "metadata": {},
     "outputs": []
    }
   ],
   "metadata": {}
  }
 ]
}