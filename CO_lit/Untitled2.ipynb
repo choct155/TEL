{
 "metadata": {
  "name": ""
 },
 "nbformat": 3,
 "nbformat_minor": 0,
 "worksheets": [
  {
   "cells": [
    {
     "cell_type": "code",
     "collapsed": false,
     "input": [
      "from sympy import *"
     ],
     "language": "python",
     "metadata": {},
     "outputs": [],
     "prompt_number": 3
    },
    {
     "cell_type": "code",
     "collapsed": false,
     "input": [
      "init_printing()"
     ],
     "language": "python",
     "metadata": {},
     "outputs": [],
     "prompt_number": 4
    },
    {
     "cell_type": "code",
     "collapsed": false,
     "input": [
      "A=MatrixSymbol('A',5,5)\n",
      "x=MatrixSymbol('x',5,1)\n",
      "y=MatrixSymbol('y',5,1)\n",
      "from sympy.abc import s"
     ],
     "language": "python",
     "metadata": {},
     "outputs": [],
     "prompt_number": 6
    },
    {
     "cell_type": "code",
     "collapsed": false,
     "input": [
      "Eq(MatMul(A.as_explicit(),x.as_explicit()),MatMul(y.as_explicit(),s))"
     ],
     "language": "python",
     "metadata": {},
     "outputs": [
      {
       "latex": [
        "$$\\left[\\begin{matrix}A_{0, 0} & A_{0, 1} & A_{0, 2} & A_{0, 3} & A_{0, 4}\\\\A_{1, 0} & A_{1, 1} & A_{1, 2} & A_{1, 3} & A_{1, 4}\\\\A_{2, 0} & A_{2, 1} & A_{2, 2} & A_{2, 3} & A_{2, 4}\\\\A_{3, 0} & A_{3, 1} & A_{3, 2} & A_{3, 3} & A_{3, 4}\\\\A_{4, 0} & A_{4, 1} & A_{4, 2} & A_{4, 3} & A_{4, 4}\\end{matrix}\\right] \\left[\\begin{matrix}x_{0, 0}\\\\x_{1, 0}\\\\x_{2, 0}\\\\x_{3, 0}\\\\x_{4, 0}\\end{matrix}\\right] = \\left[\\begin{matrix}y_{0, 0}\\\\y_{1, 0}\\\\y_{2, 0}\\\\y_{3, 0}\\\\y_{4, 0}\\end{matrix}\\right] s$$"
       ],
       "metadata": {},
       "output_type": "pyout",
       "prompt_number": 11,
       "text": [
        "\u23a1A\u2080\u2080  A\u2080\u2081  A\u2080\u2082  A\u2080\u2083  A\u2080\u2084\u23a4\u22c5\u23a1x\u2080\u2080\u23a4 = \u23a1y\u2080\u2080\u23a4\u22c5s\n",
        "\u23a2                       \u23a5 \u23a2   \u23a5   \u23a2   \u23a5  \n",
        "\u23a2A\u2081\u2080  A\u2081\u2081  A\u2081\u2082  A\u2081\u2083  A\u2081\u2084\u23a5 \u23a2x\u2081\u2080\u23a5   \u23a2y\u2081\u2080\u23a5  \n",
        "\u23a2                       \u23a5 \u23a2   \u23a5   \u23a2   \u23a5  \n",
        "\u23a2A\u2082\u2080  A\u2082\u2081  A\u2082\u2082  A\u2082\u2083  A\u2082\u2084\u23a5 \u23a2x\u2082\u2080\u23a5   \u23a2y\u2082\u2080\u23a5  \n",
        "\u23a2                       \u23a5 \u23a2   \u23a5   \u23a2   \u23a5  \n",
        "\u23a2A\u2083\u2080  A\u2083\u2081  A\u2083\u2082  A\u2083\u2083  A\u2083\u2084\u23a5 \u23a2x\u2083\u2080\u23a5   \u23a2y\u2083\u2080\u23a5  \n",
        "\u23a2                       \u23a5 \u23a2   \u23a5   \u23a2   \u23a5  \n",
        "\u23a3A\u2084\u2080  A\u2084\u2081  A\u2084\u2082  A\u2084\u2083  A\u2084\u2084\u23a6 \u23a3x\u2084\u2080\u23a6   \u23a3y\u2084\u2080\u23a6  "
       ]
      }
     ],
     "prompt_number": 11
    }
   ],
   "metadata": {}
  }
 ]
}