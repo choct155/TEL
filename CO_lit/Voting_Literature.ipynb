{
 "metadata": {
  "name": ""
 },
 "nbformat": 3,
 "nbformat_minor": 0,
 "worksheets": [
  {
   "cells": [
    {
     "cell_type": "heading",
     "level": 1,
     "metadata": {},
     "source": [
      "Voting and Direct Democracy"
     ]
    },
    {
     "cell_type": "markdown",
     "metadata": {},
     "source": [
      "Given the capacity of counties in Colorado to exempt themselves from the restrictions of [TABOR](http://en.wikipedia.org/wiki/Taxpayer_Bill_of_Rights) and the Statewide Limit on Property Tax Revenue (SLPTR), it is important to address the question of whether or not these tax and expenditure limitations obstruct the convergence of voter preferences and public policy outcomes.  Here are brief descriptions of these policies from [House Joint Resolution 03-1033 Study: TABOR, Amendment 23, the Gallagher Amendment and Other Fiscal Issues](http://www.colorado.gov/cs/Satellite?blobcol=urldata&blobheader=application%2Fpdf&blobkey=id&blobtable=MungoBlobs&blobwhere=1239165968612&ssbinary=true):\n",
      "\n",
      "####TABOR\n",
      ">TABOR has three major provisions: a requirement of voter approval for tax increases; a\n",
      "revenue growth limit; and a freeze on existing spending limits. \n",
      "\n",
      "####SLPTR\n",
      ">The first statutory limit on growth in taxes came in\n",
      "1913. The General Assembly limited increases in property taxes to 15 percent in 1913. (The state\n",
      "had its own property tax levy until 1964.) Subsequent limits were 5 percent until 1976, when the\n",
      "limit was changed to 7 percent. The current statutory limit of 5.5 percent was adopted for property\n",
      "tax years 1988 and later.\n",
      "\n",
      "This exemption capacity means that a whole new chapter to the literature review must be opened, and this Notebook is designed to keep track of what I have read.  (In fairness, I should have done this first.)"
     ]
    },
    {
     "cell_type": "heading",
     "level": 2,
     "metadata": {},
     "source": [
      "Ballot Initiatives as Effective Tools of Democracy"
     ]
    },
    {
     "cell_type": "heading",
     "level": 3,
     "metadata": {},
     "source": [
      "The Instrumental and Educative Effects of Ballot Measures:  Research on Direct Democracy in the American States\n",
      "</br>\n",
      "*Smith & Tolbert 2007*"
     ]
    },
    {
     "cell_type": "markdown",
     "metadata": {},
     "source": [
      "+ Outside of Switzerland, the US is probably the largest user of direct democracy\n",
      "+ Prop 13 renewed a latent interest in direct democracy\n",
      "+ Voter Competence and Preferences\n",
      "    + Critics argue misinformation and misrepresentation obstructs true expressions of voter preferences\n",
      "    + More recent studies argue that voters are able to vote reasonably competently, and vote no if they do not understand\n",
      "    + \"[O]pposition cues are more effective in drawing votes away from a proposition than supportive cues are in attracting them.\" (Lewkowicz 2006)\n",
      "    + Party affiliation tends to be the best predictor of voting behavior\n",
      "+ Policy Representation\n",
      "    + Critics argue that direct democracy gives monied interests too much power (there are no limits on contributions to ballot campaigns)\n",
      "    + Initiative campaigns are expensive\n",
      "        + In 2004 the presidential race cost \\$700M, while 163 statewide initiatives cost \\$400M\n",
      "    + Do ballot measures move policy towards median preference?\n",
      "        + Maybe not (Smith 2001, 2003; Craig, Keppel, & Kane 2001)\n",
      "        + You doubters are asking the question incorrectly (Matsusaka 2001, 2005)\n",
      "        + Ballot measures work (Matsusaka 1995; Matsusaka and McCarty 2001)\n",
      "        + Just the threat of an initiative is good enough (Gerber 1996, 1998, 1999; Gerber and Hug 2001; Gerber et al 2001)\n",
      "+ \"Prior to the 1994 midterm elections, Norquist (1993) correctly anticipated how ballot initiatives limiting legislative terms, cutting taxes and government spending, bolstering crime victims' rights, and increasing prenatal rights could attract social and fiscal conservatives to the polls, while simultaneously draining the resources of Democratic allies, most notably organized labor.\""
     ]
    },
    {
     "cell_type": "heading",
     "level": 3,
     "metadata": {},
     "source": [
      "Representative Voter of Bureaucratic Manipulation: An Examination of Public Finances in California Before and After Proposition 13\n",
      "</br>\n",
      "*Shapiro & Sonstelie 1982*"
     ]
    },
    {
     "cell_type": "markdown",
     "metadata": {},
     "source": [
      "+ There are two competing models of the determination of public expenditures:  median voter and Leviathan\n",
      "+ If the median voter model was in effect, there would be no need for an institutional shift; that being said, polling shows that there was not a strong sentiment to reduce expenditures\n",
      "+ One theory is that people liked services, but not how they were financed; the data did not bear this out\n",
      "+ The expenditures desired by the median voter can be modeled and extrapolated\n",
      "+ Regardless, the impact was mixed across counties due to different growth profiles\n",
      "+ \"The real effect of Proposition 13 may not be its reduction in the growth of government spending in California so much as its fundamental restructuring of the state's public finances\"\n",
      "+ The shift in composition can be tested\n",
      "+ It appears that bureaucratic manipulation is the more plausible theory (both were explicitly modeled with utility functions), but the entire result rests on separability (preferences are not driven by the size of the existing budget); *I have already shown this phenomenon in action in the evaluation of expenditure shifts*"
     ]
    },
    {
     "cell_type": "heading",
     "level": 2,
     "metadata": {},
     "source": [
      "Methodology of Measuring Institutional Change"
     ]
    },
    {
     "cell_type": "heading",
     "level": 3,
     "metadata": {},
     "source": [
      "Fiscal Effects of the Voter Initiative Reconsidered: Addressing Endogeneity\n",
      "</br>\n",
      "*Marschall & Ruhil 2005*"
     ]
    },
    {
     "cell_type": "markdown",
     "metadata": {},
     "source": [
      "+ \"[E]vodemce on the net policy impact of the initiative is rather mixed\"\n",
      "+ Discrepancies are likely due to endogeneity; factors that influence the adoption of ballot initiative institutions may also impact policy outputs\n",
      "+ Uses a full-information maximum likelihood estimator to jointly model whether a state has the initiative and the independent influence of this arrangement on state fiscal behavior\n",
      "    + [A Full Information Maximum Likelihood Approach to Estimating the Sample Selection Model with Endogenous Covariates](http://www3.wiwi.uni-hannover.de/Forschung/Diskussionspapiere/dp-483.pdf)\n",
      "    + [A Primer on Maximum Likelihood Algorithms Available for Use with Missing Data](http://www.unt.edu/rss/class/mike/6810/articles/endersMLprimer.pdf)\n",
      "    + [The Relative Performance of Full Information Maximum Likelihood Estimation for Missing Data in Structural Equation Models](http://digitalcommons.unl.edu/cgi/viewcontent.cgi?article=1065&context=edpsychpapers)\n",
      "    + [FIML for missing data in R](http://stats.stackexchange.com/questions/51006/full-information-maximum-likelihood-for-missing-data-in-r)\n",
      "+ Rather than reducing the size of the public sector, when the propensity to have an initiative is accounted for, inititiatives appear to expand the public sector\n",
      "+ Initiatives my have direct (agenda setting) and indirect (alteration of legislative behavior) effects on policy \n",
      "+ The typical approach to testing policy effect has been to assess whether policy outcomes are closer to the median voter's preferences \n",
      "+ To get around the endogeneity problem, scholars often use temporal ordering as the basis for treating institutions as exogenous (but the same preferences may underlay the initiative and subsequent policy outputs)\n",
      "+ They basically rework Matsusaka 2005, except they model the initiative as a dummy, the value of which is predicted in the first stage equation; the main equation:\n",
      "\n",
      "    $fiscal\\_variables = f(fiscal\\_drivers, initiative\\_dummy, initiative\\_signature\\_requirement)$\n",
      "</br></br>\n",
      "\n",
      "+ The first stage equation *uses a subset of the fiscal drivers* and three unique variables (ideological dissonance, size of the legislature, legislative professionalism) to predict existence of the initiative\n",
      "+ Use of the FIML estimator allows for direct testing of endogeneity via the parameter $\\rho$, a measure of the strength and direction of the correlation between the error terms of the two equations;  as it turns out $\\rho$ ended up being negative and statistically significant\n",
      "+ Accounting for endogeneity led to the residual effect of the initiative to be positive and significant, in contrast with Matsusaka's work"
     ]
    },
    {
     "cell_type": "heading",
     "level": 3,
     "metadata": {},
     "source": [
      "The Endogeneity of the Initiative: A Comment on Marschall and Ruhil\n",
      "</br>\n",
      "*Matsusaka 2005*"
     ]
    },
    {
     "cell_type": "markdown",
     "metadata": {},
     "source": [
      "+ The Marschall and Ruhil result conflicts with 'previous literature' because the model is misspecified\n",
      "+ Endogeneity must be accounted for, but due to the inclusion of the size of the legislature (which is likely to drive fiscal behavior), the instrument is correlated with the error term in the second stage; an instrument is needed that is correlated with the existence of an initiative process, but does not influence the policy under investigation\n",
      "+ Used existence of the initiative in 1920 as an instrument, and the sign of the effect became negative once again"
     ]
    },
    {
     "cell_type": "heading",
     "level": 3,
     "metadata": {},
     "source": [
      "Of Models and Methods: A Response to Matsusaka\n",
      "</br>\n",
      "*Marschall & Ruhil 2005*"
     ]
    },
    {
     "cell_type": "markdown",
     "metadata": {},
     "source": [
      "+ The literature on the conservative impact of initiatives is far from consistent (others have found positive or no effect as well)\n",
      "+ The positive result is robust under a number of alternatie specifications\n",
      "+ The existence of an initiative in 1920 is a poor instrument because it almost perfectly predicts the existence in the study period (basically eliminating the need for any other variables)\n",
      "+ Endogeneity is persistent regardless of the specifications considered"
     ]
    },
    {
     "cell_type": "heading",
     "level": 2,
     "metadata": {},
     "source": [
      "Institutional Impact on Fiscal Behavior"
     ]
    },
    {
     "cell_type": "heading",
     "level": 3,
     "metadata": {},
     "source": [
      "Spending Within Limits: Evidence from Municipal Fiscal Restraints\n",
      "</br>\n",
      "*Brooks, Halberstam, & Phillips 2012*"
     ]
    },
    {
     "cell_type": "markdown",
     "metadata": {},
     "source": [
      "+ Evaluates the efficacy of self-imposed fiscal limits at the local level; finds them to be effective at slowing expenditure growth\n",
      "+ Wealthier cities are less likely to adopt and there is no significant correlation between adoption and levels of taxation\n",
      "+ Limits bind legislators\n",
      "+ To mitigate endogeneity, the authors employ propensity score matching, graphical analysis, and statistical methods to identify revenue decline in advance of a limit\n",
      "+ They employ a hazard model to evaluate time to adoption\n",
      "+ Local limits act as a substitute for other moderating institutions (referenda, Dillon's Rule) and the presence of many jurisdictional alternatives\n",
      "+ Found three primary causes of limits\n",
      "    + Taxes are too high\n",
      "    + Politician limits tax X so tax Y can be raised\n",
      "    + Politician wants to build a reputation (Douglas Bruce spearheaded the limit in CO Springs, which led to his bid for state office and TABOR)\n",
      "+ Welfare gains from limits are not uniformly distributed\n",
      "\n",
      "*NOTE: They employed data on political structure from the Census of Government Organization*"
     ]
    },
    {
     "cell_type": "heading",
     "level": 3,
     "metadata": {},
     "source": [
      "Institutions and Fiscal Sustainability\n",
      "</br>\n",
      "*Rose 2010*"
     ]
    },
    {
     "cell_type": "markdown",
     "metadata": {},
     "source": [
      "+ Institutions sometimes have counter-intuitive impacts; the real lesson is \"an institution's effectiveness often depends critically on its specific legal provisions\"\n",
      "+ Theories of Divergence Between Voter Preference and Political Outcomes from Representative Democracy\n",
      "    + Public officials seek private gain from their position in addition to, or instead of, reflecting public will (Leviathan)\n",
      "    + Information asymmetry leads to principal-agent complications\n",
      "    + Fiscal illusion\n",
      "    + Interest group pressure\n",
      "+ Institutional rules may help to bridge the gap\n",
      "+ \"As Riker (1980) famously posited, institutions might be thought of as 'congealed preferences,' persisting only as long as voters and lawmakers wish.\"; this endogeneity is likely to lead to biased empirical estimates if not properly mitigated (see also Besley and Case 2003)\n",
      "+ Lack of consensus in the impact of direct democracy is likely due to both endogeneity and the lack of variation in institutional environments\n",
      "+ \"Kousser, McCubbins, and Moule (2008) use a 'quasi-experimental' approach in which they examine changes within a given state following the adoption of TELs instead of comparing TEL states to non-TEL states\"; they find little impact\n"
     ]
    },
    {
     "cell_type": "code",
     "collapsed": false,
     "input": [],
     "language": "python",
     "metadata": {},
     "outputs": []
    }
   ],
   "metadata": {}
  }
 ]
}