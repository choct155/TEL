{
 "metadata": {
  "name": ""
 },
 "nbformat": 3,
 "nbformat_minor": 0,
 "worksheets": [
  {
   "cells": [
    {
     "cell_type": "heading",
     "level": 1,
     "metadata": {},
     "source": [
      "TABOR Ballot Initiatives - Parsing Primary Data"
     ]
    },
    {
     "cell_type": "markdown",
     "metadata": {},
     "source": [
      "[Colorado Counties, Inc.](http://ccionline.org/) has followed TABOR ballot initiatives by county over the 1993-2011 time period.  This information is kept in a PDF which is available for download from their [research and publications page](http://ccionline.org/info-center-library/research-miscellaneous-publications/).  This is a wonderful service, but PDF is clearly an inconvenient choice for data storage.  To liberate these data, the information was converted to HTML utilizing the impressive [pdf2htmlEX](https://github.com/coolwanglu/pdf2htmlEX) tool.  I have chosen this tool because of its accuracy, and HTML is a parsable language.  This notebook is designed to parse the html output of this operation.  While [regular expressions](http://en.wikipedia.org/wiki/Regular_expression) have general applicability, I recently learned about the [pyparsing](http://pyparsing.wikispaces.com/) module during a [DC Data Wranglers](http://www.meetup.com/Data-Wranglers-DC/) meetup.  pyparsing offers a much cleaner method which is easier to interpret, reproduce, and maintain."
     ]
    },
    {
     "cell_type": "code",
     "collapsed": false,
     "input": [
      "from pyparsing import *"
     ],
     "language": "python",
     "metadata": {},
     "outputs": [],
     "prompt_number": 3
    },
    {
     "cell_type": "markdown",
     "metadata": {},
     "source": [
      "Let's take a peek at the raw HTML."
     ]
    },
    {
     "cell_type": "code",
     "collapsed": false,
     "input": [
      "with open('Tracking Tabor Table 93-11.html') as f:\n",
      "    ballots = f.readlines()\n",
      "\n",
      "ballots[:10]"
     ],
     "language": "python",
     "metadata": {},
     "outputs": [
      {
       "metadata": {},
       "output_type": "pyout",
       "prompt_number": 4,
       "text": [
        "['<!DOCTYPE html>\\n',\n",
        " '<!-- Created by pdf2htmlEX (https://github.com/coolwanglu/pdf2htmlex) -->\\n',\n",
        " '<html>\\n',\n",
        " '<head>\\n',\n",
        " '<meta charset=\"utf-8\">\\n',\n",
        " '<meta name=\"generator\" content=\"pdf2htmlEX\">\\n',\n",
        " '<meta http-equiv=\"X-UA-Compatible\" content=\"IE=edge,chrome=1\">\\n',\n",
        " '<style type=\"text/css\">\\n',\n",
        " '/*! \\n',\n",
        " ' * Base CSS for pdf2htmlEX\\n']"
       ]
      }
     ],
     "prompt_number": 4
    },
    {
     "cell_type": "markdown",
     "metadata": {},
     "source": [
      "What does a line holding actual data look like?  The beginning of the table holds the following string: \n",
      "\n",
      "    'COUNTY BALLOT ISSUES'\n",
      "    \n",
      "What does the line look like rendered as HTML?"
     ]
    },
    {
     "cell_type": "code",
     "collapsed": false,
     "input": [
      "for line in ballots:\n",
      "    if 'COUNTY BALLOT ISSUES' in line:\n",
      "        test=line\n",
      "        print test\n",
      "        "
     ],
     "language": "python",
     "metadata": {},
     "outputs": [
      {
       "output_type": "stream",
       "stream": "stdout",
       "text": [
        "<div id=\"pf1\" class=\"pf w0 h0\" data-page-no=\"1\"><div class=\"pc pc1 w0 h0\"><img class=\"bi x0 y0 w1 h1\" alt=\"\" src=\"data:image/png;base64,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\"/><div class=\"t m0 x1 h2 y1 ff1 fs0 fc0 sc0 ls0 ws0\">COUNTY BALLOT ISSUES ON TABOR 1993-2011 (adopted measures shown in bold)*</div><div class=\"t m0 x1 h3 y2 ff1 fs1 fc0 sc0 ls0 ws0\">*Information regarding the 5.5% limit or revenue changes was not collected for 1993 and 1994 elections.</div><div class=\"t m0 x2 h3 y3 ff1 fs1 fc0 sc0 ls0 ws0\">Spending Limit Waiver</div><div class=\"t m0 x3 h3 y4 ff1 fs1 fc0 sc0 ls0 ws0\">5.5% </div><div class=\"t m0 x3 h3 y5 ff1 fs1 fc0 sc0 ls0 ws0\">Limit</div><div class=\"t m0 x4 h3 y4 ff1 fs1 fc0 sc0 ls0 ws0\">Revenue </div><div class=\"t m0 x5 h3 y5 ff1 fs1 fc0 sc0 ls0 ws0\">Chan</div><div class=\"c x5 y6 w2 h4\"><div class=\"t m0 x6 h3 y7 ff1 fs1 fc0 sc0 ls0 ws0\">g</div></div><div class=\"t m0 x7 h3 y8 ff1 fs1 fc0 sc0 ls0 ws0\">e</div><div class=\"t m0 x8 h3 y9 ff1 fs1 fc0 sc0 ls0 ws0\">Sales &amp; Use Tax/Mill Levy Increase<span class=\"_ _0\"> </span>Debt Increase</div><div class=\"t m0 x9 h3 ya ff1 fs1 fc0 sc0 ls0 ws0\">Pass/Fail        </div><div class=\"c x9 y6 w3 h4\"><div class=\"t m0 xa h3 y7 ff1 fs1 fc0 sc0 ls0 ws0\"> (</div></div><div class=\"t m0 xb h3 y8 ff1 fs1 fc0 sc0 ls0 ws0\">% Yes Votes</div><div class=\"c x9 y6 w3 h4\"><div class=\"t m0 xc h3 y7 ff1 fs1 fc0 sc0 ls0 ws0\">)</div></div><div class=\"t m0 x1 h3 yb ff1 fs1 fc0 sc0 ls0 ws0\">Adams</div><div class=\"t m0 x1 h3 yc ff1 fs1 fc0 sc0 ls0 ws0\">1993 Sales Tax Increase<span class=\"_ _1\"> </span>0.5% for justice center<span class=\"_ _2\"> </span>Passed (60%)</div><div class=\"t m0 x1 h3 yd ff2 fs1 fc0 sc0 ls0 ws0\">1997 Mill Levy Increase/</div><div class=\"t m0 x1 h3 ye ff2 fs1 fc0 sc0 ls0 ws0\">        Spending Limit Waiver</div><div class=\"t m0 x2 h3 yd ff2 fs1 fc0 sc0 ls0 ws0\">Collect, retain and expend additional revenue</div><div class=\"t m0 xd h3 yf ff2 fs1 fc0 sc0 ls0 ws0\">X</div><div class=\"t m0 x8 h3 yd ff2 fs1 fc0 sc0 ls0 ws0\">1.7 mills for library district<span class=\"_ _3\"> </span>Failed (39%)</div><div class=\"t m0 x1 h3 y10 ff2 fs1 fc0 sc0 ls0 ws0\">1997 Sales Tax Increase</div><div class=\"t m0 xe h3 y11 ff1 fs1 fc0 sc0 ls0 ws0\">X</div><div class=\"t m0 x8 h3 y10 ff2 fs1 fc0 sc0 ls0 ws0\">0.2% for open space; 15 years<span class=\"_ _4\"> </span>Failed (27%)</div><div class=\"t m0 x1 h3 y12 ff2 fs1 fc0 sc0 ls0 ws0\">1997 County Debt Increase</div><div class=\"t m0 xe h3 y13 ff2 fs1 fc0 sc0 ls0 ws0\">X</div><div class=\"t m0 xf h3 y12 ff2 fs1 fc0 sc0 ls0 ws0\">$42,710,000 for open space revenue </div><div class=\"t m0 xf h3 y14 ff2 fs1 fc0 sc0 ls0 ws0\">bonds</div><div class=\"t m0 x9 h3 y12 ff2 fs1 fc0 sc0 ls0 ws0\">Failed (29%)</div><div class=\"t m0 x1 h3 y15 ff1 fs1 fc0 sc0 ls0 ws0\">1997 Sales Tax Extension<span class=\"_ _5\"> </span>X<span class=\"_ _6\"> </span>Extend 0.5% for jail until 2001<span class=\"_ _7\"> </span>Passed (64%)</div><div class=\"t m0 x1 h3 y16 ff1 fs1 fc0 sc0 ls0 ws0\">1999 Sales Tax Increase<span class=\"_ _1\"> </span>0.2% sales tax for open space<span class=\"_ _7\"> </span>Passed (60%)</div><div class=\"t m0 x1 h3 y17 ff1 fs1 fc0 sc0 ls0 ws0\">2000 Spending Limit Waiver<span class=\"_ _8\"> </span>Collect, retain and spend revenues. For county library.<span class=\"_ _9\"> </span>X<span class=\"_ _a\"> </span>Passed (62%)</div><div class=\"t m0 x1 h3 y18 ff1 fs1 fc0 sc0 ls0 ws0\">2001 Sales Tax Extension/</div><div class=\"t m0 x1 h3 y19 ff1 fs1 fc0 sc0 ls0 ws0\">S</div><div class=\"c x1 y1a w4 h4\"><div class=\"t m0 x10 h3 y7 ff1 fs1 fc0 sc0 ls0 ws0\">p</div></div><div class=\"t m0 x11 h3 y1b ff1 fs1 fc0 sc0 ls0 ws0\">endin</div><div class=\"c x1 y1a w4 h4\"><div class=\"t m0 x12 h3 y7 ff1 fs1 fc0 sc0 ls0 ws0\">g</div></div><div class=\"t m0 x13 h3 y1b ff1 fs1 fc0 sc0 ls0 ws0\"> Limit Waiver</div><div class=\"t m0 x8 h3 y1c ff1 fs1 fc0 sc0 ls0 ws0\">Extend through 12/31/08 exisiting 0.5% for road and bridge </div><div class=\"c x8 y1a w5 h4\"><div class=\"t m0 xa h3 y7 ff1 fs1 fc0 sc0 ls0 ws0\">p</div></div><div class=\"t m0 x14 h3 y1b ff1 fs1 fc0 sc0 ls0 ws0\">ro</div><div class=\"c x8 y1a w5 h4\"><div class=\"t m0 x15 h3 y7 ff1 fs1 fc0 sc0 ls0 ws0\">j</div></div><div class=\"t m0 x16 h3 y1b ff1 fs1 fc0 sc0 ls0 ws0\">ects</div><div class=\"t m0 x9 h3 y1c ff1 fs1 fc0 sc0 ls0 ws0\">Passed (70%)</div><div class=\"t m0 x1 h3 y1d ff1 fs1 fc0 sc0 ls0 ws0\">2002 Spending Limit Waiver<span class=\"_ _8\"> </span>Collect, retain, and spend all revenues<span class=\"_ _b\"> </span>X<span class=\"_ _c\"> </span>X<span class=\"_ _d\"> </span>Passed (50%)</div><div class=\"t m0 x1 h3 y1e ff2 fs1 fc0 sc0 ls0 ws0\">2002 Mil Levy Increase/Spending Limit </div><div class=\"t m0 x1 h3 y1f ff2 fs1 fc0 sc0 ls0 ws0\">Waiver</div><div class=\"t m0 x2 h3 y1e ff2 fs1 fc0 sc0 ls0 ws0\">Collect, retain, and spend all revenues</div><div class=\"t m0 xd h3 y20 ff2 fs1 fc0 sc0 ls1 ws0\">XX</div><div class=\"t m0 x8 h3 y1e ff2 fs1 fc0 sc0 ls0 ws0\">2.438 mils for library facilities; 2002-2027 <span class=\"_ _e\"> </span>Failed (48%)</div><div class=\"t m0 x1 h3 y21 ff1 fs1 fc0 sc0 ls0 ws0\">2004 Sales Tax Increase and </div><div class=\"t m0 x1 h3 y22 ff1 fs1 fc0 sc0 ls0 ws0\">Extension</div><div class=\"t m0 x2 h3 y21 ff1 fs1 fc0 sc0 ls0 ws0\">Collected, administered and enforced\u2026constitute a voter-</div><div class=\"t m0 x2 h3 y22 ff1 fs1 fc0 sc0 ls0 ws0\">a</div><div class=\"c x2 y23 w6 h4\"><div class=\"t m0 x10 h3 y7 ff1 fs1 fc0 sc0 ls0 ws0\">pp</div></div><div class=\"t m0 x17 h3 y22 ff1 fs1 fc0 sc0 ls0 ws0\">roved revenue chan</div><div class=\"c x2 y23 w6 h4\"><div class=\"t m0 x18 h3 y7 ff1 fs1 fc0 sc0 ls0 ws0\">g</div></div><div class=\"t m0 x19 h3 y22 ff1 fs1 fc0 sc0 ls0 ws0\">e </div><div class=\"t m0 xe h3 y21 ff1 fs1 fc0 sc0 ls0 ws0\">X<span class=\"_ _6\"> </span>Increase existing open space sales tax from 1/5 of 1% to 1/4 of </div><div class=\"t m0 x8 h3 y22 ff1 fs1 fc0 sc0 ls0 ws0\">1% and extend it from 12/2006 to 12/2026.</div><div class=\"t m0 x9 h3 y21 ff1 fs1 fc0 sc0 ls0 ws0\">Passed (54%)</div><div class=\"t m0 x1 h3 y24 ff1 fs1 fc0 sc0 ls0 ws0\">2006 Sales Tax Extension/ </div><div class=\"t m0 x1 h3 y25 ff1 fs1 fc0 sc0 ls0 ws0\">S</div><div class=\"c x1 y25 w4 h4\"><div class=\"t m0 x10 h3 y7 ff1 fs1 fc0 sc0 ls0 ws0\">p</div></div><div class=\"t m0 x11 h3 y25 ff1 fs1 fc0 sc0 ls0 ws0\">endin</div><div class=\"c x1 y25 w4 h4\"><div class=\"t m0 x12 h3 y7 ff1 fs1 fc0 sc0 ls0 ws0\">g</div></div><div class=\"t m0 x13 h3 y25 ff1 fs1 fc0 sc0 ls0 ws0\"> Limit Waiver</div><div class=\"t m0 x2 h3 y24 ff1 fs1 fc0 sc0 ls0 ws0\">Imposed, collected, administered and enforced<span class=\"_ _f\"> </span>X<span class=\"_ _6\"> </span>Twenty year sales tax  extension for road and bridge and </div><div class=\"t m0 x8 h3 y25 ff1 fs1 fc0 sc0 ls0 ws0\">count</div><div class=\"c x8 y25 w7 h4\"><div class=\"t m0 x1a h3 y7 ff1 fs1 fc0 sc0 ls0 ws0\">y</div></div><div class=\"t m0 x1b h3 y25 ff1 fs1 fc0 sc0 ls0 ws0\"> </div><div class=\"c x8 y25 w7 h4\"><div class=\"t m0 x1c h3 y7 ff1 fs1 fc0 sc0 ls0 ws0\">j</div></div><div class=\"t m0 x1d h3 y25 ff1 fs1 fc0 sc0 ls0 ws0\">ustice center.</div><div class=\"t m0 x9 h3 y24 ff1 fs1 fc0 sc0 ls0 ws0\">Pass (63%)</div><div class=\"t m0 x1 h3 y26 ff1 fs1 fc0 sc0 ls0 ws0\">Alamosa</div><div class=\"t m0 x1 h3 y27 ff1 fs1 fc0 sc0 ls0 ws0\">1997 Spending Limit Waiver<span class=\"_ _8\"> </span>Collect, retain and expend additional revenue<span class=\"_ _10\"> </span>X<span class=\"_ _a\"> </span>Passed (50%)</div><div class=\"t m0 x1 h3 y28 ff2 fs1 fc0 sc0 ls0 ws0\">1999 Mill Levy Reduction and Sales Tax </div><div class=\"t m0 x1 h3 y29 ff2 fs1 fc0 sc0 ls0 ws0\">Exemption</div><div class=\"t m0 x8 h3 y28 ff2 fs1 fc0 sc0 ls0 ws0\">Reduce mill levy from 25.238mills to 19.238mills and exempt farm equipment </div><div class=\"t m0 x8 h3 y29 ff2 fs1 fc0 sc0 ls0 ws0\">from existing sales tax and distribute all sales tax revenue to Alamosa</div><div class=\"t m0 x9 h3 y28 ff2 fs1 fc0 sc0 ls0 ws0\">Failed (43%)</div><div class=\"t m0 x1 h3 y2a ff1 fs1 fc0 sc0 ls0 ws0\">2003 Lodging Tax<span class=\"_ _11\"> </span>4% lodging tax for the Alamosa County Events and Facilities </div><div class=\"t m0 x8 h3 y2b ff1 fs1 fc0 sc0 ls0 ws0\">Local Marketing District for tourism promotion activites; 2004 </div><div class=\"t m0 x8 h3 y2c ff1 fs1 fc0 sc0 ls0 ws0\">and on</div><div class=\"t m0 x9 h3 y2a ff1 fs1 fc0 sc0 ls0 ws0\">Passed (57%)</div><div class=\"t m0 x1 h3 y2d ff1 fs1 fc0 sc0 ls0 ws0\">2003 Spending Limit Waiver<span class=\"_ _8\"> </span>Collect, retain and expend all revenues and funds collected by </div><div class=\"t m0 x2 h3 y2e ff1 fs1 fc0 sc0 ls0 ws0\">the Alamosa County Events and Facilities Local Marketing </div><div class=\"t m0 x2 h3 y2f ff1 fs1 fc0 sc0 ls0 ws0\">District </div><div class=\"c x2 y2f w8 h4\"><div class=\"t m0 x12 h3 y7 ff1 fs1 fc0 sc0 ls0 ws0\">(</div></div><div class=\"t m0 x1e h3 y30 ff1 fs1 fc0 sc0 ls0 ws0\">created in </div><div class=\"c x2 y2f w8 h4\"><div class=\"t m0 x1f h3 y7 ff1 fs1 fc0 sc0 ls0 ws0\">p</div></div><div class=\"t m0 x20 h3 y30 ff1 fs1 fc0 sc0 ls0 ws0\">recedin</div><div class=\"c x2 y2f w8 h4\"><div class=\"t m0 x21 h3 y7 ff1 fs1 fc0 sc0 ls0 ws0\">g</div></div><div class=\"t m0 x22 h3 y30 ff1 fs1 fc0 sc0 ls0 ws0\"> </div><div class=\"c x2 y2f w8 h4\"><div class=\"t m0 x23 h3 y7 ff1 fs1 fc0 sc0 ls0 ws0\">q</div></div><div class=\"t m0 x24 h3 y30 ff1 fs1 fc0 sc0 ls0 ws0\">uestion</div><div class=\"c x2 y2f w8 h4\"><div class=\"t m0 x25 h3 y7 ff1 fs1 fc0 sc0 ls0 ws0\">)</div></div><div class=\"t m0 xd h3 y31 ff1 fs1 fc0 sc0 ls2 ws0\">XX</div><div class=\"t m0 x9 h3 y32 ff1 fs1 fc0 sc0 ls0 ws0\">Passed (55%)</div><div class=\"t m0 x1 h3 y33 ff2 fs1 fc0 sc0 ls0 ws0\">2007 Sales Tax Increase/Spending Limit </div><div class=\"t m0 x1 h3 y34 ff2 fs1 fc0 sc0 ls0 ws0\">Waiver</div><div class=\"t m0 x2 h3 y33 ff2 fs1 fc0 sc0 ls0 ws0\">a voter approved revenue change an exemption to the revenue and spending </div><div class=\"t m0 x2 h3 y34 ff2 fs1 fc0 sc0 ls0 ws0\">limits </div><div class=\"t m0 xe h3 y35 ff2 fs1 fc0 sc0 ls0 ws0\">X</div><div class=\"t m0 x8 h3 y33 ff2 fs1 fc0 sc0 ls0 ws0\">1% sales tax increase beginning Jan 2008 until Jan 2021 (or upon the </div><div class=\"t m0 x8 h3 y34 ff2 fs1 fc0 sc0 ls0 ws0\">complete payment of construction costs\u2026whichever happens first.) Revenue </div><div class=\"t m0 x8 h3 y35 ff2 fs1 fc0 sc0 ls0 ws0\">to be used for public safety improvements including construction, remodeling </div><div class=\"t m0 x8 h3 y36 ff2 fs1 fc0 sc0 ls0 ws0\">and operation of the county jail and sheriff&apos;s office  </div><div class=\"t m0 x9 h3 y33 ff2 fs1 fc0 sc0 ls0 ws0\">Fail (37.9%)</div><div class=\"t m0 x1 h3 y37 ff1 fs1 fc0 sc0 ls0 ws0\">Arapahoe</div><div class=\"t m0 x1 h3 y38 ff2 fs1 fc0 sc0 ls0 ws0\">1993 Spending Limit Waiver<span class=\"_ _12\"> </span>To expend additional funds from CDHS<span class=\"_ _13\"> </span>Failed (49%)</div><div class=\"t m0 x1 h3 y39 ff1 fs1 fc0 sc0 ls0 ws0\">1993 Mill Levy Increase<span class=\"_ _14\"> </span>.90 mill for law enforcement<span class=\"_ _15\"> </span>Passed (54%)</div><div class=\"t m0 x1 h3 y3a ff2 fs1 fc0 sc0 ls0 ws0\">1993 Mill Levy Increase<span class=\"_ _16\"> </span>not to exceed 1.80 mills, for E-470 Tollway<span class=\"_ _17\"> </span>Failed (20%)</div><div class=\"t m0 x1 h3 y3b ff1 fs1 fc0 sc0 ls0 ws0\">1995 Spending Limit Waiver<span class=\"_ _8\"> </span>Collect, retain and expend additional revenues from all non-tax </div><div class=\"t m0 x2 h3 y3c ff1 fs1 fc0 sc0 ls0 ws0\">revenue sources (grant funds, construction permit fees, etc)</div><div class=\"t m0 x9 h3 y3b ff1 fs1 fc0 sc0 ls0 ws0\">Passed (73%)</div><div class=\"t m0 x1 h3 y3d ff2 fs1 fc0 sc0 ls0 ws0\">1995 Sales Tax Increase</div><div class=\"t m0 xe h3 y3d ff2 fs1 fc0 sc0 ls0 ws0\">X</div><div class=\"t m0 x8 h3 y3d ff2 fs1 fc0 sc0 ls0 ws0\">0.2% for justice center<span class=\"_ _18\"> </span>Failed (48%)</div><div class=\"t m0 x1 h3 y3e ff1 fs1 fc0 sc0 ls0 ws0\">1997 County Debt Increase<span class=\"_ _19\"> </span>$14 million for county jail<span class=\"_ _1a\"> </span>Passed (65%)</div><div class=\"t m0 x1 h3 y3f ff1 fs1 fc0 sc0 ls0 ws0\">2001 Mill Levy Increase<span class=\"_ _1b\"> </span>X<span class=\"_ _c\"> </span>X<span class=\"_ _6\"> </span>Additional 1 mill levied upon all taxable property to support <span class=\"_ _1c\"> </span>Passed (63%)</div><div class=\"t m0 x1 h3 y40 ff1 fs1 fc0 sc0 ls0 ws0\">2003 Sales and Use Tax<span class=\"_ _1d\"> </span>Collect, retain and expend all revenues</div><div class=\"t m0 xd h3 y41 ff1 fs1 fc0 sc0 ls2 ws0\">XX</div><div class=\"t m0 x8 h3 y40 ff1 fs1 fc0 sc0 ls0 ws0\">0.25% sales and use tax for water, wildlife, open space, trails </div><div class=\"t m0 x8 h3 y42 ff1 fs1 fc0 sc0 ls0 ws0\">and neighborhood parks; 10 years; revenue equally shared with </div><div class=\"t m0 x8 h3 y43 ff1 fs1 fc0 sc0 ls0 ws0\">all municipalities</div><div class=\"t m0 x9 h3 y40 ff1 fs1 fc0 sc0 ls0 ws0\">Passed (55%)</div><div class=\"t m0 x1 h5 y44 ff3 fs1 fc0 sc0 ls0 ws0\">2011<span class=\"ff4\">\ue003</span>Sales<span class=\"ff4\">\ue003</span>and<span class=\"ff4\">\ue003</span>Use<span class=\"ff4\">\ue003</span>Tax<span class=\"ff4\">\ue003</span>Extension</div><div class=\"t m0 x8 h3 y44 ff5 fs1 fc0 sc0 ls0 ws0\">Extend existing 0.25% county sales tax for water, wildlife, open space </div><div class=\"t m0 x8 h3 y45 ff5 fs1 fc0 sc0 ls0 ws0\">and trails and parks until December 31, 2023.</div><div class=\"t m0 x9 h3 y44 ff5 fs1 fc0 sc0 ls0 ws0\">Pass  (61.7%)</div><div class=\"t m0 x1 h3 y46 ff1 fs1 fc0 sc0 ls0 ws0\">Archuleta</div><div class=\"t m0 x1 h3 y47 ff2 fs1 fc0 sc0 ls0 ws0\">1993 Mill Levy Increase<span class=\"_ _16\"> </span>new levy; $.0394 per $1000, for charter comm. expenses<span class=\"_ _1e\"> </span>Failed (33%)</div><div class=\"t m0 x1 h3 y48 ff2 fs1 fc0 sc0 ls0 ws0\">1994 Sales Tax Increase<span class=\"_ _1f\"> </span>.03% for cultural center; 10 years<span class=\"_ _20\"> </span>Failed (31%)</div><div class=\"t m0 x26 h3 y49 ff2 fs1 fc0 sc0 ls0 ws0\">Colorado Counties Inc.</div><div class=\"t m0 x27 h3 y4a ff2 fs1 fc0 sc0 ls0 ws0\">1<span class=\"_ _21\"> </span>10/1/2012</div></div><div class=\"pi\" data-data='{\"ctm\":[0.000000,-1.300000,1.300000,0.000000,0.000000,795.600000]}'></div></div>\n",
        "\n"
       ]
      }
     ],
     "prompt_number": 5
    },
    {
     "cell_type": "markdown",
     "metadata": {},
     "source": [
      "Yuck.  Let's see if we can split this out by tag."
     ]
    },
    {
     "cell_type": "code",
     "collapsed": false,
     "input": [
      "anyTag,anyClose=makeHTMLTags(Word(alphas))\n",
      "anyTag.setParseAction(replaceWith(''))\n",
      "anyClose.setParseAction(replaceWith(''))\n",
      "\n",
      "word=Word(alphanums)\n",
      "words=OneOrMore(word)\n",
      "vote_result=words+'%'\n",
      "vote_result.setParseAction(replaceWith(vote_result+'\\n'))\n",
      "\n",
      "print (anyTag|anyClose|vote_result).transformString(test)"
     ],
     "language": "python",
     "metadata": {},
     "outputs": [
      {
       "output_type": "stream",
       "stream": "stdout",
       "text": [
        "COUNTY BALLOT ISSUES ON TABOR 1993-2011 (adopted measures shown in bold)**Information regarding the 5.{{{W:(abcd...)}... \"%\"} \"\n",
        "\"} limit or revenue changes was not collected for 1993 and 1994 elections.Spending Limit Waiver5.{{{W:(abcd...)}... \"%\"} \"\n",
        "\"} LimitRevenue ChangeSales &amp; Use Tax/Mill Levy Increase Debt IncreasePass/Fail         (% Yes Votes)Adams1993 Sales Tax Increase 0.{{{W:(abcd...)}... \"%\"} \"\n",
        "\"} for justice center Passed ({{{W:(abcd...)}... \"%\"} \"\n",
        "\"})1997 Mill Levy Increase/        Spending Limit WaiverCollect, retain and expend additional revenueX1.7 mills for library district Failed ({{{W:(abcd...)}... \"%\"} \"\n",
        "\"})1997 Sales Tax IncreaseX0.{{{W:(abcd...)}... \"%\"} \"\n",
        "\"} for open space; 15 years Failed ({{{W:(abcd...)}... \"%\"} \"\n",
        "\"})1997 County Debt IncreaseX$42,710,000 for open space revenue bondsFailed ({{{W:(abcd...)}... \"%\"} \"\n",
        "\"})1997 Sales Tax Extension X Extend 0.{{{W:(abcd...)}... \"%\"} \"\n",
        "\"} for jail until 2001 Passed ({{{W:(abcd...)}... \"%\"} \"\n",
        "\"})1999 Sales Tax Increase 0.{{{W:(abcd...)}... \"%\"} \"\n",
        "\"} sales tax for open space Passed ({{{W:(abcd...)}... \"%\"} \"\n",
        "\"})2000 Spending Limit Waiver Collect, retain and spend revenues. For county library. X Passed ({{{W:(abcd...)}... \"%\"} \"\n",
        "\"})2001 Sales Tax Extension/Spending Limit WaiverExtend through 12/31/08 exisiting 0.{{{W:(abcd...)}... \"%\"} \"\n",
        "\"} for road and bridge projectsPassed ({{{W:(abcd...)}... \"%\"} \"\n",
        "\"})2002 Spending Limit Waiver Collect, retain, and spend all revenues X X Passed ({{{W:(abcd...)}... \"%\"} \"\n",
        "\"})2002 Mil Levy Increase/Spending Limit WaiverCollect, retain, and spend all revenuesXX2.438 mils for library facilities; 2002-2027  Failed ({{{W:(abcd...)}... \"%\"} \"\n",
        "\"})2004 Sales Tax Increase and ExtensionCollected, administered and enforced\u2026constitute a voter-approved revenue change X Increase existing open space sales tax from 1/{{{W:(abcd...)}... \"%\"} \"\n",
        "\"} to 1/4 of {{{W:(abcd...)}... \"%\"} \"\n",
        "\"} and extend it from 12/2006 to 12/2026.Passed ({{{W:(abcd...)}... \"%\"} \"\n",
        "\"})2006 Sales Tax Extension/ Spending Limit WaiverImposed, collected, administered and enforced X Twenty year sales tax  extension for road and bridge and county justice center.Pass ({{{W:(abcd...)}... \"%\"} \"\n",
        "\"})Alamosa1997 Spending Limit Waiver Collect, retain and expend additional revenue X Passed ({{{W:(abcd...)}... \"%\"} \"\n",
        "\"})1999 Mill Levy Reduction and Sales Tax ExemptionReduce mill levy from 25.238mills to 19.238mills and exempt farm equipment from existing sales tax and distribute all sales tax revenue to AlamosaFailed ({{{W:(abcd...)}... \"%\"} \"\n",
        "\"})2003 Lodging Tax {{{W:(abcd...)}... \"%\"} \"\n",
        "\"} lodging tax for the Alamosa County Events and Facilities Local Marketing District for tourism promotion activites; 2004 and onPassed ({{{W:(abcd...)}... \"%\"} \"\n",
        "\"})2003 Spending Limit Waiver Collect, retain and expend all revenues and funds collected by the Alamosa County Events and Facilities Local Marketing District (created in preceding question)XXPassed ({{{W:(abcd...)}... \"%\"} \"\n",
        "\"})2007 Sales Tax Increase/Spending Limit Waivera voter approved revenue change an exemption to the revenue and spending limits X{{{W:(abcd...)}... \"%\"} \"\n",
        "\"} sales tax increase beginning Jan 2008 until Jan 2021 (or upon the complete payment of construction costs\u2026whichever happens first.) Revenue to be used for public safety improvements including construction, remodeling and operation of the county jail and sheriff&apos;s office  Fail (37.{{{W:(abcd...)}... \"%\"} \"\n",
        "\"})Arapahoe1993 Spending Limit Waiver To expend additional funds from CDHS Failed ({{{W:(abcd...)}... \"%\"} \"\n",
        "\"})1993 Mill Levy Increase .90 mill for law enforcement Passed ({{{W:(abcd...)}... \"%\"} \"\n",
        "\"})1993 Mill Levy Increase not to exceed 1.80 mills, for E-470 Tollway Failed ({{{W:(abcd...)}... \"%\"} \"\n",
        "\"})1995 Spending Limit Waiver Collect, retain and expend additional revenues from all non-tax revenue sources (grant funds, construction permit fees, etc)Passed ({{{W:(abcd...)}... \"%\"} \"\n",
        "\"})1995 Sales Tax IncreaseX0.{{{W:(abcd...)}... \"%\"} \"\n",
        "\"} for justice center Failed ({{{W:(abcd...)}... \"%\"} \"\n",
        "\"})1997 County Debt Increase $14 million for county jail Passed ({{{W:(abcd...)}... \"%\"} \"\n",
        "\"})2001 Mill Levy Increase X X Additional 1 mill levied upon all taxable property to support  Passed ({{{W:(abcd...)}... \"%\"} \"\n",
        "\"})2003 Sales and Use Tax Collect, retain and expend all revenuesXX0.{{{W:(abcd...)}... \"%\"} \"\n",
        "\"} sales and use tax for water, wildlife, open space, trails and neighborhood parks; 10 years; revenue equally shared with all municipalitiesPassed ({{{W:(abcd...)}... \"%\"} \"\n",
        "\"})2011\ue003Sales\ue003and\ue003Use\ue003Tax\ue003ExtensionExtend existing 0.{{{W:(abcd...)}... \"%\"} \"\n",
        "\"} county sales tax for water, wildlife, open space and trails and parks until December 31, 2023.Pass  (61.{{{W:(abcd...)}... \"%\"} \"\n",
        "\"})Archuleta1993 Mill Levy Increase new levy; $.0394 per $1000, for charter comm. expenses Failed ({{{W:(abcd...)}... \"%\"} \"\n",
        "\"})1994 Sales Tax Increase .{{{W:(abcd...)}... \"%\"} \"\n",
        "\"} for cultural center; 10 years Failed ({{{W:(abcd...)}... \"%\"} \"\n",
        "\"})Colorado Counties Inc.1 10/1/2012\n",
        "\n"
       ]
      }
     ],
     "prompt_number": 11
    },
    {
     "cell_type": "markdown",
     "metadata": {},
     "source": [
      "We know all lines end with either `Votes)` or `%)`."
     ]
    },
    {
     "cell_type": "code",
     "collapsed": false,
     "input": [
      "import pdf2text"
     ],
     "language": "python",
     "metadata": {},
     "outputs": [
      {
       "ename": "ImportError",
       "evalue": "No module named pdf2text",
       "output_type": "pyerr",
       "traceback": [
        "\u001b[1;31m---------------------------------------------------------------------------\u001b[0m\n\u001b[1;31mImportError\u001b[0m                               Traceback (most recent call last)",
        "\u001b[1;32m<ipython-input-7-d51c8cc11b54>\u001b[0m in \u001b[0;36m<module>\u001b[1;34m()\u001b[0m\n\u001b[1;32m----> 1\u001b[1;33m \u001b[1;32mimport\u001b[0m \u001b[0mpdf2text\u001b[0m\u001b[1;33m\u001b[0m\u001b[0m\n\u001b[0m",
        "\u001b[1;31mImportError\u001b[0m: No module named pdf2text"
       ]
      }
     ],
     "prompt_number": 7
    }
   ],
   "metadata": {}
  }
 ]
}