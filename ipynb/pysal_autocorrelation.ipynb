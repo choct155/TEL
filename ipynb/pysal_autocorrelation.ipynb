{
 "metadata": {
  "name": ""
 },
 "nbformat": 3,
 "nbformat_minor": 0,
 "worksheets": [
  {
   "cells": [
    {
     "cell_type": "heading",
     "level": 1,
     "metadata": {},
     "source": [
      "Autocorrelation with PySAL"
     ]
    },
    {
     "cell_type": "markdown",
     "metadata": {},
     "source": [
      "The basic mechanics of working with PySAL are covered in the intro script.  Now we turn our attention to analysis of data.  This script will involve analysis of spatial autocorrelation.  \n",
      "\n",
      "The [PySAL documentation](http://pysal.org/1.3/users/tutorials/autocorrelation.html) breaks this concept up into two large portions:  global and local.  In a broad sense, global asks if clustering occurs and local asks if particular clusters are driving the overall pattern."
     ]
    },
    {
     "cell_type": "heading",
     "level": 2,
     "metadata": {},
     "source": [
      "Global Autocorrelation"
     ]
    },
    {
     "cell_type": "markdown",
     "metadata": {},
     "source": [
      "PySAL currently has five different tests to evaluate global autocorrelation:\n",
      ">1. [Gamma Index of Spatial Autocorrelation](https://pysal.readthedocs.org/en/latest/library/esda/gamma.html)\n",
      "\n",
      ">2. Joint Count Statistics\n",
      "\n",
      ">3. [Moran's I](http://pysal.org/library/esda/moran.html)\n",
      "\n",
      ">4. [Geary's C](http://pysal.geodacenter.org/1.3/library/esda/geary.html)\n",
      "\n",
      ">5. Getis and Ord's G\n",
      "\n",
      "We will discuss each in turn."
     ]
    },
    {
     "cell_type": "heading",
     "level": 4,
     "metadata": {},
     "source": [
      "Gamma Index of Spatial Autocorrelation"
     ]
    },
    {
     "cell_type": "markdown",
     "metadata": {},
     "source": [
      "The Gamma Index uses a cross product to determine whether or not two 'similarity' matrices measure the same kind of similarity.  In at least an abstract fashion, the scoring becomes clear from the formula:  $\\Gamma=\\sum_i\\sum_ja_{ij}\\cdot w_{ij}$\n",
      "\n",
      "Each element $a_{ij}$ is multiplied by the respective element $w_{ij}$ and the sum of all these cross-products comprises the index value.\n",
      "\n",
      "Ok, but what the hell are these similarity matrices?  One of them, as can be guessed by the use of $w$, is the weight matrix.  It captures the *locational* similarity in the data set.  The first matrix, however, is wide open.  It can \"be any reasonable measure of attribute similarity or dissimilarity\".  Presumably this will be made more concrete in the example.\n",
      "\n",
      "In practice, this index value does not mean much on its own.  A reference case that represents spatial randomness of values must be established, so that the score of the naturally occurring data can be compared.  The significance of this comparison is measured by $p=\\frac{(m + 1)}{(n + 1)}$, where $m$ is the number of values from the reference distribution that are equal to or greater than the observed join count and $n$ is the number of permutations generated in the course of making the random reference case.\n",
      "\n",
      "The PySAL documentation notes that the Gamma Index is, in fact, an unstandardized and general case of many other spatial autocorrelation tests.  To demonstrate the concept, we will use a 4x4 lattice."
     ]
    },
    {
     "cell_type": "code",
     "collapsed": false,
     "input": [
      "import numpy as np\n",
      "import pandas as pd\n",
      "from pandas import Series, DataFrame\n",
      "import pysal\n",
      "\n",
      "#Set random seed for the generation of random permutations (so starting conditions are consistent)\n",
      "np.random.seed(12345)\n",
      "\n",
      "#Generate weight lattice\n",
      "w=pysal.lat2W(4,4)\n",
      "\n",
      "#Create array of one's (the attribute values)\n",
      "y=np.ones(16)\n",
      "\n",
      "#Fill top half of array with zeroes instead\n",
      "y[0:8]=0"
     ],
     "language": "python",
     "metadata": {},
     "outputs": [],
     "prompt_number": 1
    },
    {
     "cell_type": "markdown",
     "metadata": {},
     "source": [
      "The **Gamma** method is going to require that you feed it only the data and the weights as the first to arguments.  It does provide flexibility on how similarity is measured.  The default ('c') is the cross-product $a_{ij}=y_i\\cdot y_j$, but there are also options for the squared distance ('s') and the absolute distance ('a').  You may also pass a user defined function so long as it takes a vector of observations and indices $i$ and $j$ as arguments.\n",
      "\n",
      "Two additional options for standardization and the number of permutations are set to 'no' and 999 by default."
     ]
    },
    {
     "cell_type": "code",
     "collapsed": false,
     "input": [
      "#Calculate Gamma with defaults\n",
      "g=pysal.Gamma(y,w)\n",
      "\n",
      "#Inspect Gamma Index value\n",
      "print g.g\n",
      "\n",
      "#Inspect the standardized Gamma index (using mean and std from reference)\n",
      "print g.g_z\n",
      "\n",
      "#Inspect psuedo p-value\n",
      "print g.p_sim_g\n",
      "\n",
      "#Inspect min, mean, and max of the reference distribution\n",
      "print g.min_g,'|',g.mean_g,'|',g.max_g"
     ],
     "language": "python",
     "metadata": {},
     "outputs": [
      {
       "output_type": "stream",
       "stream": "stdout",
       "text": [
        "20.0\n",
        "3.18792803545\n",
        "0.003\n",
        "0.0 | 11.0930930931 | 20.0\n"
       ]
      }
     ],
     "prompt_number": 3
    },
    {
     "cell_type": "markdown",
     "metadata": {},
     "source": [
      "So what is this telling us?  Since we have used a cross-product measure of similarity, high values indicate positive spatial autocorrelation because the values are reinforcing each other.  If we used the squared distance measure of similarity, like values would cancel each other out.  We see that our index value sits high relative to the reference case, and is 'significant'.  Presumably this means we have spatial autocorrelation."
     ]
    },
    {
     "cell_type": "heading",
     "level": 4,
     "metadata": {},
     "source": [
      "Join Count Statistics"
     ]
    },
    {
     "cell_type": "markdown",
     "metadata": {},
     "source": [
      "Join counts look at spatial autocorrelation for binary data.  The three statistics are $BB$, $WW$, and $BW$.  $B$ corresponds to black and values of 1, while $W$ corresponds to white and value of 0.\n",
      "\n",
      "$$BB=(1/2)\\sum_i\\sum_jy_iy_jw_{ij}$$\n",
      "$$WW=(1/2)\\sum_i\\sum_j(1-y_i)(1-y_j)w_{ij}$$\n",
      "$$BW=(1/2)\\sum_i\\sum_j(y_i-y_j)^2w_{ij}$$"
     ]
    },
    {
     "cell_type": "markdown",
     "metadata": {},
     "source": [
      "To explain the mechanics a bit more, what we are really doing is counting how many times black touches black, white touches white, and black touches white.  So, with $BB$, we only add to the total if $y_iy_j = (1)(1)$.  For this to occur, both $y_i$ and $y_j$ must be $1$.  In contrast, to add to $WW$, both must be $0$.  Continuing the obvious theme, the neighboring features must carry opposite binary values to add to $BW$.  The weight matrix, $w_{ij}$, is simply defining the neighborhood for comparison.  All of these measures are divided in half to mitigate reciprocal counting (if $y_i$ is touching $y_j$, then $y_j$ is also touching $y_i$).\n",
      "\n",
      "Evidently, it is quite common to compute this statistic for a series of weight matrices rather than restricting it to just one.\n",
      "\n",
      "In any case, again the basis for computational inference on this statistic involves reshuffling the values of the $y$ vector of observed data to obtain a reference distribution under the null hypothesis of spatial randomness.  The observed join count is then compared with the reference, and we generate the same psuedo-significance value we saw with the Gamma Index:  $p=\\frac{(m + 1)}{(n + 1)}$\n",
      "\n",
      "A quick word on the mechanics of this reference building.  I think what's going on here is similar to bootstrapping.  We shuffle the data values, calculate the statistic, store the statistic, and repeat in a cycle of length 999 by default.  The permutation element is creating the environment for a spatial version of sampling with replacement.  These calculated statistics give rise to a distribution, and then we see where our actual test statistic sits against this simulated distribution.\n",
      "\n",
      "While a custom example would provide an opportunity to generate a perfect parallel (using at least the same number of cycles), a stolen image will suffice to set the concept."
     ]
    },
    {
     "cell_type": "code",
     "collapsed": false,
     "input": [
      "from IPython.display import Image\n",
      "Image(url='http://people.duke.edu/~ccc14/pcfb/_images/bootstrap.png')"
     ],
     "language": "python",
     "metadata": {},
     "outputs": [
      {
       "html": [
        "<img src=\"http://people.duke.edu/~ccc14/pcfb/_images/bootstrap.png\"/>"
       ],
       "metadata": {},
       "output_type": "pyout",
       "prompt_number": 4,
       "text": [
        "<IPython.core.display.Image at 0x327ed50>"
       ]
      }
     ],
     "prompt_number": 4
    },
    {
     "cell_type": "markdown",
     "metadata": {},
     "source": [
      "Thanks ... Duke.  In any case, our calculated statistic for each permutation of the data is like each of those blue dots.  We are just trying to establish where the actual data arrangement sits in that context.  This is why it's useful to be able to pull the min, mean, and max values from the reference distribution.\n",
      "\n",
      "Note that unlike the Gamma Index measure, join counts is a one-tailed strategy.  If the counts are low for BW, this does not necessarily indicate negative $BW$ autocorrelation.  It does, however, point to the presence of $BB$ and/or $WW$ autocorrelation.  We can use the same data and weight matrix generated above to observe this test."
     ]
    },
    {
     "cell_type": "code",
     "collapsed": false,
     "input": [
      "#Restablish seed to promote consistent starting points\n",
      "np.random.seed(12345)\n",
      "\n",
      "#Generate weight lattice\n",
      "w=pysal.lat2W(4,4)\n",
      "\n",
      "#Create array of one's (the attribute values)\n",
      "y=np.ones(16)\n",
      "\n",
      "#Fill top half of array with zeroes instead\n",
      "y[0:8]=0"
     ],
     "language": "python",
     "metadata": {},
     "outputs": [],
     "prompt_number": 5
    },
    {
     "cell_type": "markdown",
     "metadata": {},
     "source": [
      "With the same set up, let's look at join counts..."
     ]
    },
    {
     "cell_type": "code",
     "collapsed": false,
     "input": [
      "#Generate join count stat\n",
      "jc=pysal.Join_Counts(y,w)\n",
      "\n",
      "#Inspect BB, BW, and WW counts\n",
      "print jc.bb,'|',jc.bw,'|',jc.ww"
     ],
     "language": "python",
     "metadata": {},
     "outputs": [
      {
       "output_type": "stream",
       "stream": "stdout",
       "text": [
        "10.0 | 4.0 | 10.0\n"
       ]
      }
     ],
     "prompt_number": 6
    },
    {
     "cell_type": "markdown",
     "metadata": {},
     "source": [
      "Again, we must compare against the simulated reference distribution.  In this case, for some reason, the values that constitute the simulated distributions are held in arrays."
     ]
    },
    {
     "cell_type": "code",
     "collapsed": false,
     "input": [
      "#Examine type of data structure holding simulated values\n",
      "print type(jc.sim_bb)"
     ],
     "language": "python",
     "metadata": {},
     "outputs": [
      {
       "output_type": "stream",
       "stream": "stdout",
       "text": [
        "<type 'numpy.ndarray'>\n"
       ]
      }
     ],
     "prompt_number": 7
    },
    {
     "cell_type": "markdown",
     "metadata": {},
     "source": [
      "The plus side is that we can 1) see the whole array, and 2) subject them to numpy and/or pandas operations."
     ]
    },
    {
     "cell_type": "code",
     "collapsed": false,
     "input": [
      "#Examine psuedo p-value and summary stats of BW and BB reference distributions\n",
      "print 'BW >>',jc.p_sim_bw,'|',np.min(jc.sim_bw),'|',np.mean(jc.sim_bw),'|',np.max(jc.sim_bw)\n",
      "print 'BB >>',jc.p_sim_bb,'|',np.min(jc.sim_bb),'|',np.mean(jc.sim_bb),'|',np.max(jc.sim_bb)\n",
      "\n",
      "plt.rcParams['figure.figsize']=15,5\n",
      "\n",
      "fig,axes=plt.subplots(1)\n",
      "Series(jc.sim_bw).plot(kind='kde',title='Simulated BW/BB Count Distribution (Kernel Esitmate)',label='BW')\n",
      "Series(jc.sim_bb).plot(kind='kde',label='BB')\n",
      "plt.legend(loc='best')\n"
     ],
     "language": "python",
     "metadata": {},
     "outputs": [
      {
       "output_type": "stream",
       "stream": "stdout",
       "text": [
        "BW >> 1.0 | 7.0 | 12.8118118118 | 24.0\n",
        "BB >> 0.003 | 0.0 | 5.54654654655 | 10.0\n"
       ]
      },
      {
       "metadata": {},
       "output_type": "pyout",
       "prompt_number": 20,
       "text": [
        "<matplotlib.legend.Legend at 0x4d5ce90>"
       ]
      },
      {
       "metadata": {},
       "output_type": "display_data",
       "png": "[encoded data removed]",
       "text": [
        "<matplotlib.figure.Figure at 0x4d5ccd0>"
       ]
      }
     ],
     "prompt_number": 20
    },
    {
     "cell_type": "markdown",
     "metadata": {},
     "source": [
      "It is tempting to conclude that spatial autocorrelation exists minimally if at all when comparing only the relative magnitudes of the join counts for $BW$ and $BB$ (because the $BW$ count is higher).  However, this just highlights the importance of the reference distribution.  $BW$ counts are naturally higher at random.  In fact, a psuedo p-value of 1 for $BW$ indicates that all of the permutations of data values yielded higher $BW$ count figures than the actual data.  Couple this with the fact that the $BB$ count was statistically higher than the average in the distribution, and we can infer positive spatial autocorrelation."
     ]
    },
    {
     "cell_type": "heading",
     "level": 4,
     "metadata": {},
     "source": [
      "Moran's I"
     ]
    },
    {
     "cell_type": "markdown",
     "metadata": {},
     "source": [
      "Moran's I measures the global spatial autocorrelation in an attribute $y$ over a given neighborhood defined by $w_{ij}$.\n",
      "\n",
      "$$I=\\frac{n}{S_0}\\frac{(\\sum_i\\sum_jz_iw_{i,j}z_j)}{(\\sum_iz_i^2)}=\\frac{n}{(\\sum_i\\sum_jw_{i,j})}\\frac{\\sum_i\\sum_j(y_i-\\bar y)(y_j-\\bar y)}{(y_i-\\bar y)^2}$$  \n",
      "\n",
      "If this looks familiar, it should.  Behold, autocorrelation of a stationary process!\n",
      "\n",
      "$$\\frac{\\sum_i\\sum_j(y_i-\\bar y)(y_j-\\bar y)}{(y_i-\\bar y)^2}$$\n",
      "\n",
      "In time series analysis, the general formula for autocorrelation does not assume stationarity:\n",
      "\n",
      "$$\\frac{\\sum_i\\sum_j(y_i-\\bar y)(y_j-\\bar y)}{(y_i-\\bar y)(y_j-\\bar y)}$$\n",
      "\n",
      "As a reminder, stationarity indicates that mean and variance are time-independent, therefore autocorrelation depends only on the time lag.  In a spatial context, the parallel is the assumption that autocorrelation is solely dependent on the distance separating the observations.  This is obviously a dramatic assumption.  The prepended fraction appears to adjust for the defined neighborhood.\n",
      "\n",
      "The following example looks at homicide rates for counties surrounding St. Louis (1988-1993)."
     ]
    },
    {
     "cell_type": "code",
     "collapsed": false,
     "input": [
      "#Establish directory location\n",
      "ex_dir='/home/choct155/analysis/Anaconda/lib/python2.7/site-packages/pysal/examples/'\n",
      "\n",
      "#Read in data\n",
      "hom=pd.read_csv(ex_dir+'stl_hom.csv')\n",
      "\n",
      "#Read in rook weights matrix\n",
      "w=pysal.open(ex_dir+'stl.gal').read()\n",
      "print w.neighbors.keys()\n",
      "hom[hom.columns[:7]].head()"
     ],
     "language": "python",
     "metadata": {},
     "outputs": [
      {
       "output_type": "stream",
       "stream": "stdout",
       "text": [
        "['60', '61', '62', '63', '64', '65', '66', '67', '68', '69', '24', '25', '26', '27', '20', '21', '22', '23', '28', '29', '2', '4', '6', '8', '15', '14', '11', '10', '13', '12', '59', '58', '17', '16', '19', '54', '57', '56', '51', '50', '53', '52', '55', '18', '48', '49', '46', '47', '44', '45', '42', '43', '40', '41', '1', '3', '5', '7', '9', '77', '76', '75', '74', '73', '72', '71', '70', '78', '39', '38', '33', '32', '31', '30', '37', '36', '35', '34']\n"
       ]
      },
      {
       "html": [
        "<div style=\"max-height:1000px;max-width:1500px;overflow:auto;\">\n",
        "<table border=\"1\" class=\"dataframe\">\n",
        "  <thead>\n",
        "    <tr style=\"text-align: right;\">\n",
        "      <th></th>\n",
        "      <th>WKT</th>\n",
        "      <th>NAME</th>\n",
        "      <th>STATE_NAME</th>\n",
        "      <th>STATE_FIPS</th>\n",
        "      <th>CNTY_FIPS</th>\n",
        "      <th>FIPS</th>\n",
        "      <th>FIPSNO</th>\n",
        "    </tr>\n",
        "  </thead>\n",
        "  <tbody>\n",
        "    <tr>\n",
        "      <th>0</th>\n",
        "      <td> POLYGON ((-89.585220336914062 39.9787940979003...</td>\n",
        "      <td>  Logan</td>\n",
        "      <td> Illinois</td>\n",
        "      <td> 17</td>\n",
        "      <td> 107</td>\n",
        "      <td> 17107</td>\n",
        "      <td> 17107</td>\n",
        "    </tr>\n",
        "    <tr>\n",
        "      <th>1</th>\n",
        "      <td> POLYGON ((-90.921539306640625 39.8474617004394...</td>\n",
        "      <td>  Adams</td>\n",
        "      <td> Illinois</td>\n",
        "      <td> 17</td>\n",
        "      <td>   1</td>\n",
        "      <td> 17001</td>\n",
        "      <td> 17001</td>\n",
        "    </tr>\n",
        "    <tr>\n",
        "      <th>2</th>\n",
        "      <td> POLYGON ((-89.997596740722656 39.9062042236328...</td>\n",
        "      <td> Menard</td>\n",
        "      <td> Illinois</td>\n",
        "      <td> 17</td>\n",
        "      <td> 129</td>\n",
        "      <td> 17129</td>\n",
        "      <td> 17129</td>\n",
        "    </tr>\n",
        "    <tr>\n",
        "      <th>3</th>\n",
        "      <td> POLYGON ((-90.585357666015625 39.8807411193847...</td>\n",
        "      <td>   Cass</td>\n",
        "      <td> Illinois</td>\n",
        "      <td> 17</td>\n",
        "      <td>  17</td>\n",
        "      <td> 17017</td>\n",
        "      <td> 17017</td>\n",
        "    </tr>\n",
        "    <tr>\n",
        "      <th>4</th>\n",
        "      <td> POLYGON ((-90.577041625976562 39.8454475402832...</td>\n",
        "      <td>  Brown</td>\n",
        "      <td> Illinois</td>\n",
        "      <td> 17</td>\n",
        "      <td>   9</td>\n",
        "      <td> 17009</td>\n",
        "      <td> 17009</td>\n",
        "    </tr>\n",
        "  </tbody>\n",
        "</table>\n",
        "</div>"
       ],
       "metadata": {},
       "output_type": "pyout",
       "prompt_number": 6,
       "text": [
        "                                                 WKT    NAME STATE_NAME  \\\n",
        "0  POLYGON ((-89.585220336914062 39.9787940979003...   Logan   Illinois   \n",
        "1  POLYGON ((-90.921539306640625 39.8474617004394...   Adams   Illinois   \n",
        "2  POLYGON ((-89.997596740722656 39.9062042236328...  Menard   Illinois   \n",
        "3  POLYGON ((-90.585357666015625 39.8807411193847...    Cass   Illinois   \n",
        "4  POLYGON ((-90.577041625976562 39.8454475402832...   Brown   Illinois   \n",
        "\n",
        "   STATE_FIPS  CNTY_FIPS   FIPS  FIPSNO  \n",
        "0          17        107  17107   17107  \n",
        "1          17          1  17001   17001  \n",
        "2          17        129  17129   17129  \n",
        "3          17         17  17017   17017  \n",
        "4          17          9  17009   17009  "
       ]
      }
     ],
     "prompt_number": 6
    },
    {
     "cell_type": "markdown",
     "metadata": {},
     "source": [
      "As with the preceding statistics, the only required inputs are the data and the weight matrix.  Unlike the preceding statistics, the significance test is parametric by default.  The computed value is compared with its expected value under an assumption of normality (again, by default)."
     ]
    },
    {
     "cell_type": "code",
     "collapsed": false,
     "input": [
      "#Calculate Moran's I\n",
      "mi=pysal.Moran(hom['HR8893'].values,w)\n",
      "\n",
      "#Inspect statistic, its expected value, and the p_value\n",
      "print mi.I,'|',mi.EI,'|',mi.p_norm"
     ],
     "language": "python",
     "metadata": {},
     "outputs": [
      {
       "output_type": "stream",
       "stream": "stdout",
       "text": [
        "0.243655826218 | -0.012987012987 | 0.000271478627709\n"
       ]
      }
     ],
     "prompt_number": 10
    },
    {
     "cell_type": "markdown",
     "metadata": {},
     "source": [
      "We can, however, invoke a computational estimate by setting the permutations option."
     ]
    },
    {
     "cell_type": "code",
     "collapsed": false,
     "input": [
      "#Set seed\n",
      "np.random.seed(10)\n",
      "\n",
      "#Generate computational estimate\n",
      "mir = pysal.Moran(hom['HR8893'].values, w, permutations = 9999)\n",
      "\n",
      "#Inspect statistic\n",
      "print mir.I,'|',mir.p_sim"
     ],
     "language": "python",
     "metadata": {},
     "outputs": [
      {
       "output_type": "stream",
       "stream": "stdout",
       "text": [
        "0.243655826218 | 0.0022\n"
       ]
      }
     ],
     "prompt_number": 11
    },
    {
     "cell_type": "markdown",
     "metadata": {},
     "source": [
      "When the data we are observing are not levels but rates, we must adjust for differences in population scale.  In the following example, we need not only the rate at which infants die of SIDS, but also the population level."
     ]
    },
    {
     "cell_type": "code",
     "collapsed": false,
     "input": [
      "#Read in data\n",
      "f = pysal.open(pysal.examples.get_path(\"sids2.dbf\"))\n",
      "\n",
      "#Isolate newborn population\n",
      "b = np.array(f.by_col('BIR79'))\n",
      "\n",
      "#Isolate death by SIDS rate \n",
      "e = np.array(f.by_col('SID79'))\n",
      "\n",
      "#Read in weight matrix\n",
      "w = pysal.open(pysal.examples.get_path(\"sids2.gal\")).read()\n",
      "\n",
      "#Generate Moran_Rate statistic\n",
      "mi = pysal.esda.moran.Moran_Rate(e, b, w)\n",
      "\n",
      "#Inspect statistic, its expected value, and the p-value\n",
      "print \"%6.4f\" % mi.I,'|',\"%6.4f\" % mi.EI,'|',\"%6.4f\" % mi.p_norm"
     ],
     "language": "python",
     "metadata": {},
     "outputs": [
      {
       "output_type": "stream",
       "stream": "stdout",
       "text": [
        "0.1662 | -0.0101 | 0.0084\n"
       ]
      }
     ],
     "prompt_number": 12
    },
    {
     "cell_type": "markdown",
     "metadata": {},
     "source": [
      "In both examples, we see evidence of positive autocorrelation."
     ]
    },
    {
     "cell_type": "heading",
     "level": 4,
     "metadata": {},
     "source": [
      "Geary's C"
     ]
    },
    {
     "cell_type": "markdown",
     "metadata": {},
     "source": [
      "Geary's C is very similar to Moran's I, except that the similarity component is squared distance rather than covariance.\n",
      "\n",
      "$$C=\\frac{n-1}{2\\sum_i\\sum_jw_{i,j}}\\frac{\\sum_i\\sum_jw_{i,j}(y_i-y_j)^2}{\\sum_i(y_i-\\bar y)^2}$$"
     ]
    },
    {
     "cell_type": "code",
     "collapsed": false,
     "input": [
      "#Reset seed\n",
      "np.random.seed(12345)\n",
      "\n",
      "#Reread in rook weights matrix\n",
      "w=pysal.open(ex_dir+'stl.gal').read()\n",
      "\n",
      "#Calculate statistic\n",
      "gc=pysal.Geary(hom['HR8893'].values,w)\n",
      "\n",
      "#Inspect statistic, its expected value, and the z-score\n",
      "print gc.C,'|',gc.EC,'|',gc.z_norm"
     ],
     "language": "python",
     "metadata": {},
     "outputs": [
      {
       "output_type": "stream",
       "stream": "stdout",
       "text": [
        "0.597128215894 | 1.0 | -5.44929774185\n"
       ]
      }
     ],
     "prompt_number": 13
    },
    {
     "cell_type": "markdown",
     "metadata": {},
     "source": [
      "In this case, the estimate is significantly less than the expected value.  *This still indicates positive autocorrelation.*  Recall the earlier discussion (in the Gamma Index section) regarding the properties of similarity measures.  Covariance reinforces like values while squared distance cancels them out.\n",
      "\n",
      "As may be expected, computational estimates are possible here as well."
     ]
    },
    {
     "cell_type": "heading",
     "level": 4,
     "metadata": {},
     "source": [
      "Getis and Ord's G"
     ]
    },
    {
     "cell_type": "markdown",
     "metadata": {},
     "source": [
      "Getis and Ord's G is a bit different than the preceding measures.\n",
      "\n",
      "$$G(d)=\\frac{\\sum_i\\sum_jw_{i,j}(d)y_iy_j}{\\sum_i\\sum_jy_iy_j}$$\n",
      "\n",
      "where $d$ is a threshold distance use to define spatial weight.  So, let's unpack this a bit.  The first thing to realize is that this is a global measure, when in reality it's original purpose was local ([Getis and Ord 1992](http://onlinelibrary.wiley.com/doi/10.1111/j.1538-4632.1992.tb00261.x/full)).  The original $G_i(d)$ measure was calculated as follows:\n",
      "\n",
      "$$G_i(d)=\\frac{\\sum_{j=1}^n w_{ij}(d)x_j}{\\sum_{j=1}^n x_j}$$\n",
      "\n",
      "where $j \\neq i$  \n",
      "\n",
      "(*Note that I only use $x$ here instead of $y$ to mimic the original article exactly.*)\n",
      "\n",
      "That guy right there is just a proportion, the sum of the values of $x$ within the neighborhood of observation $i$ over the sum of all values of $x$.  The extra summation in the global statistic sums over all observations $i$, creating an aggregate proportion for the population.  Getis and Ord (1992) provide some interesting rationales for/issues with using both $G(d)$ and $I(d)$:\n",
      ">1. $I(d)$ cannot distinguish between high- and low-value dominance;\n",
      "\n",
      ">2. If data values change over time at the same rate everywhere, $I(d)$ changes while $G(d)$ does not;\n",
      "\n",
      ">3. In contrast, if all data values change by the same absolute amount, $G(d)$ changes while $I(d)$ does not;\n",
      "\n",
      ">4. $G(d)$ is based upon a variable in the positive $\\mathbb R$ domain, so it would be inappropriate to use it to understand autocorrelation in regression residuals; and,\n",
      "\n",
      ">5. Both $G(d)$ and $I(d)$ will change in response to a transformation of the data.\n",
      "\n",
      "In any event, let's move on to the example."
     ]
    },
    {
     "cell_type": "code",
     "collapsed": false,
     "input": [
      "#Read in weight matrix\n",
      "dist_w = pysal.threshold_binaryW_from_shapefile(ex_dir+'stl_hom.shp',0.6)\n",
      "\n",
      "#Un-row-standardize\n",
      "dist_w.transform = \"B\"\n",
      "\n",
      "#Generate statistic\n",
      "from pysal.esda.getisord import G\n",
      "g = G(hom['HR8893'].values, dist_w)\n",
      "\n",
      "#Inspect statistic, its expected value, and the p-value\n",
      "print g.G,'|',g.EG,'|',g.p_norm"
     ],
     "language": "python",
     "metadata": {},
     "outputs": [
      {
       "output_type": "stream",
       "stream": "stdout",
       "text": [
        "0.103483215873 | 0.0752580752581 | 0.000517375830488\n"
       ]
      }
     ],
     "prompt_number": 14
    },
    {
     "cell_type": "markdown",
     "metadata": {},
     "source": [
      "So, we actually switched from a contiguity neighbor definition to a distance one, and their is still evidence of positive autocorrelation."
     ]
    },
    {
     "cell_type": "heading",
     "level": 2,
     "metadata": {},
     "source": [
      "Local Autocorrelation"
     ]
    },
    {
     "cell_type": "heading",
     "level": 4,
     "metadata": {},
     "source": [
      "Local Moran's I"
     ]
    },
    {
     "cell_type": "markdown",
     "metadata": {},
     "source": [
      "So, here (again) is the global Moran's I:\n",
      "\n",
      "$$I=\\frac{n}{S_0}\\frac{(\\sum_i\\sum_jz_iw_{i,j}z_j)}{(\\sum_iz_i^2)}=\\frac{n}{(\\sum_i\\sum_jw_{i,j})}\\frac{\\sum_i\\sum_j(y_i-\\bar y)(y_j-\\bar y)}{(y_i-\\bar y)^2}$$\n",
      "\n",
      "The local version is implemented as follows:\n",
      "\n",
      "$$I_i=\\frac{\\sum_j z_i w_{i,j} z_j}{\\sum_i z_i^2}=\\frac{\\sum_j (y_i-\\bar y)w_{i,j}(y_j-\\bar y)}{\\sum_i(y_i-\\bar y)^2}$$\n",
      "\n",
      "which is then calculated for each of $i$ observations.\n",
      "\n",
      "Why do we care about local Moran's I?  It allows us to get a kind of topological view of autocorrelation.  Just as providing a single moment of a data set masks distributional content, providing a global parameter masks regional dynamics.  Again, we use the homicide data as an example."
     ]
    },
    {
     "cell_type": "code",
     "collapsed": false,
     "input": [
      "#Set random seed\n",
      "np.random.seed(12345)\n",
      "\n",
      "#Read in rook weights matrix\n",
      "w=pysal.open(ex_dir+'stl.gal').read()\n",
      "\n",
      "#Generate local Moran's I\n",
      "lm=pysal.Moran_Local(hom['HR8893'].values,w)\n",
      "\n",
      "#How many values did we generate?\n",
      "print len(lm.Is)"
     ],
     "language": "python",
     "metadata": {},
     "outputs": [
      {
       "output_type": "stream",
       "stream": "stdout",
       "text": [
        "78\n"
       ]
      }
     ],
     "prompt_number": 17
    },
    {
     "cell_type": "markdown",
     "metadata": {},
     "source": [
      "Now that we have many figures, we can actually look at the data."
     ]
    },
    {
     "cell_type": "code",
     "collapsed": false,
     "input": [
      "fig,axes=plt.subplots(1)\n",
      "Series(lm.Is).plot(kind='line',title='Local Moran - local I (line) and simulated p-value (bars)',linewidth=4,color='k')\n",
      "Series(lm.p_sim).plot(kind='bar',secondary_y=True,alpha=.5)"
     ],
     "language": "python",
     "metadata": {},
     "outputs": [
      {
       "metadata": {},
       "output_type": "pyout",
       "prompt_number": 27,
       "text": [
        "<matplotlib.axes.AxesSubplot at 0x843d8d0>"
       ]
      },
      {
       "metadata": {},
       "output_type": "display_data",
       "png": "[encoded data removed]",
       "text": [
        "<matplotlib.figure.Figure at 0x721e5d0>"
       ]
      }
     ],
     "prompt_number": 27
    },
    {
     "cell_type": "markdown",
     "metadata": {},
     "source": [
      "In fact, these outputs are just numpy arrays, so the manipulation/visualization capability is wide open.  We can also map these values, hopefully in an integrated fasion.\n",
      "\n",
      "As can be expected, dealing with rates also has its own method:  **pysal.edsa.moran.Moran_Local**"
     ]
    },
    {
     "cell_type": "heading",
     "level": 4,
     "metadata": {},
     "source": [
      "Local G and G*"
     ]
    },
    {
     "cell_type": "markdown",
     "metadata": {},
     "source": [
      "The local forms of Getis and Ord's $G(d)$ are a bit different than the specification originally provided by them:\n",
      "\n",
      "$$G_i(d)=\\frac{\\sum_{j=1}^n w_{ij}(d)x_j}{\\sum_{j=1}^n x_j}$$\n",
      "\n",
      "where $j \\neq i$ \n",
      "\n",
      "There are two specifications in PySAL, one for $j \\neq i$...\n",
      "\n",
      "$$G_i(d)=\\frac{\\sum_j w_{i,j} (d) y_j - W_i \\bar y(i)}{s(i)\\{[(n-1) S_{1i} - W_i^2]/(n-2)\\}^{(1/2)}},j \\neq i$$\n",
      "\n",
      "... and one for $\\forall j$\n",
      "\n",
      "$$G_i^*(d)=\\frac{\\sum_j w_{i,j} (d) y_j - W_i^* \\bar y}{s\\{[(n S_{1i}^* - (W_i^*)^2]/(n-1)\\}^{(1/2)}},j = i$$\n",
      "\n",
      "where:\n",
      "\n",
      "$W_i=\\sum_{j \\neq i} w_{i,j}(d)$ (the local neighborhood for each observation $i$)\n",
      "\n",
      "$\\bar y(i)=\\frac{\\sum_j y_j}{n-1}$ (the average data values for all observations except $i$)\n",
      "\n",
      "$s^2(i)=\\frac{\\sum_j y_j^2}{n-1} - [\\bar y(i)]^2$ (sample variance for all observations except $i$)\n",
      "\n",
      "$W_i^*=W_i + w_i$ (the local neighborhood for each observation $i$ with the weight of $i$ included)\n",
      "\n",
      "$S_{1i}=\\sum_j w_{i,j}^2, j \\neq i$ (squared sum of all weights in the neighborhood of $i$, excluding $i$)\n",
      "\n",
      "$S_{1i}^*=\\sum_j w_{i,j}^2, \\forall j$ (squared sum of all weights in the neighborhood of $i$, including $i$)\n",
      "\n",
      "In broad terms, the numerator is now calculating the distance of summed neighborhood data value from the mean value in the same neighborhood.  The denominator appears to be the product of the standard deviation of the data, and the standard deviation of the weights.\n",
      "\n",
      "We can access both of these methods in predictable fashion."
     ]
    },
    {
     "cell_type": "code",
     "collapsed": false,
     "input": [
      "from pysal.esda.getisord import G_Local\n",
      "\n",
      "#Generate local G\n",
      "lg=G_Local(hom['HR8893'].values, dist_w)\n",
      "\n",
      "#Generate local G*\n",
      "lgstar=G_Local(hom['HR8893'].values, dist_w,star=True)\n",
      "\n",
      "#Check lengths\n",
      "print len(lg.Gs),'|',len(lgstar.Gs)"
     ],
     "language": "python",
     "metadata": {},
     "outputs": [
      {
       "output_type": "stream",
       "stream": "stdout",
       "text": [
        "78 | 78\n"
       ]
      }
     ],
     "prompt_number": 28
    },
    {
     "cell_type": "code",
     "collapsed": false,
     "input": [],
     "language": "python",
     "metadata": {},
     "outputs": []
    }
   ],
   "metadata": {}
  }
 ]
}