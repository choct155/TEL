{
 "metadata": {
  "name": ""
 },
 "nbformat": 3,
 "nbformat_minor": 0,
 "worksheets": [
  {
   "cells": [
    {
     "cell_type": "heading",
     "level": 1,
     "metadata": {},
     "source": [
      "[Sympy](http://sympy.org/en/index.html?utm_source=%5Bdeliciuos%5D&utm_medium=twitter) Reference"
     ]
    },
    {
     "cell_type": "markdown",
     "metadata": {},
     "source": [
      "I have found that there are few better ways of understanding statistical routines than working with actual data.  What I have yet to do, however, is to couple this kind of work through with the formal representations we see in econometric textbooks.  **sympy** offers a symbolic computing environment complete with a printing interface that facilitates interweaving these elements.  This Notebook is just a script designed to provide reference to the features I am most likely to use.\n",
      "\n",
      "The test case for this exercise is basic linear regression."
     ]
    },
    {
     "cell_type": "code",
     "collapsed": false,
     "input": [
      "import numpy as np\n",
      "import pandas as pd\n",
      "from pandas import Series, DataFrame\n",
      "from sympy import *"
     ],
     "language": "python",
     "metadata": {},
     "outputs": [],
     "prompt_number": 2
    },
    {
     "cell_type": "heading",
     "level": 2,
     "metadata": {},
     "source": [
      "Sympy Environment"
     ]
    },
    {
     "cell_type": "markdown",
     "metadata": {},
     "source": [
      "A clear strength of **sympy** is the ability to work with abstract variable representations of information.  These must, however, be distinguished from typical Python variables.  Consequently they must be defined as **sympy** objects prior to their use."
     ]
    },
    {
     "cell_type": "code",
     "collapsed": false,
     "input": [
      "#Generate symbols\n",
      "x,y=symbols('x y')\n",
      "\n",
      "x*y"
     ],
     "language": "python",
     "metadata": {},
     "outputs": [
      {
       "metadata": {},
       "output_type": "pyout",
       "prompt_number": 4,
       "text": [
        "x*y"
       ]
      }
     ],
     "prompt_number": 4
    },
    {
     "cell_type": "markdown",
     "metadata": {},
     "source": [
      "Why must we look at this drab output?  Surely an advantage of the Notebook format is access to $L^AT_EX$ printing.  There is a simple command to enable this effect."
     ]
    },
    {
     "cell_type": "code",
     "collapsed": false,
     "input": [
      "init_printing()"
     ],
     "language": "python",
     "metadata": {},
     "outputs": [],
     "prompt_number": 5
    },
    {
     "cell_type": "code",
     "collapsed": false,
     "input": [
      "x*y"
     ],
     "language": "python",
     "metadata": {},
     "outputs": [
      {
       "latex": [
        "$$x y$$"
       ],
       "metadata": {},
       "output_type": "pyout",
       "prompt_number": 6,
       "text": [
        "x\u22c5y"
       ]
      }
     ],
     "prompt_number": 6
    },
    {
     "cell_type": "heading",
     "level": 2,
     "metadata": {},
     "source": [
      "Matrices"
     ]
    },
    {
     "cell_type": "markdown",
     "metadata": {},
     "source": [
      "Matrix manipulations are a critical aspect of statistics, so we need a simple method of construction that lends itself to intuitive display and manipulation.  Observe a simple matrix."
     ]
    },
    {
     "cell_type": "code",
     "collapsed": false,
     "input": [
      "Matrix([[1,2],[2,1]])"
     ],
     "language": "python",
     "metadata": {},
     "outputs": [
      {
       "latex": [
        "$$\\left[\\begin{smallmatrix}{}1 & 2\\\\2 & 1\\end{smallmatrix}\\right]$$"
       ],
       "metadata": {},
       "output_type": "pyout",
       "prompt_number": 7,
       "text": [
        "\u23a11  2\u23a4\n",
        "\u23a2    \u23a5\n",
        "\u23a32  1\u23a6"
       ]
      }
     ],
     "prompt_number": 7
    },
    {
     "cell_type": "markdown",
     "metadata": {},
     "source": [
      "Seems simple enough, but this object actually carries a daunting array of methods.  It is a robust object that can handle anything from reshaping and operations between matrices to decomposition and introspection.  This will be our workhorse, so we need to make sure we have easy integration with [pandas](http://pandas.pydata.org/) (which I use for everything).  Here is a simple pandas DataFrame (DF)."
     ]
    },
    {
     "cell_type": "code",
     "collapsed": false,
     "input": [
      "#Generate DF\n",
      "d=DataFrame(np.random.rand(16).reshape(4,4))\n",
      "\n",
      "d"
     ],
     "language": "python",
     "metadata": {},
     "outputs": [
      {
       "html": [
        "<div style=\"max-height:1000px;max-width:1500px;overflow:auto;\">\n",
        "<table border=\"1\" class=\"dataframe\">\n",
        "  <thead>\n",
        "    <tr style=\"text-align: right;\">\n",
        "      <th></th>\n",
        "      <th>0</th>\n",
        "      <th>1</th>\n",
        "      <th>2</th>\n",
        "      <th>3</th>\n",
        "    </tr>\n",
        "  </thead>\n",
        "  <tbody>\n",
        "    <tr>\n",
        "      <th>0</th>\n",
        "      <td> 0.272950</td>\n",
        "      <td> 0.670891</td>\n",
        "      <td> 0.736759</td>\n",
        "      <td> 0.013035</td>\n",
        "    </tr>\n",
        "    <tr>\n",
        "      <th>1</th>\n",
        "      <td> 0.483943</td>\n",
        "      <td> 0.218368</td>\n",
        "      <td> 0.034338</td>\n",
        "      <td> 0.838421</td>\n",
        "    </tr>\n",
        "    <tr>\n",
        "      <th>2</th>\n",
        "      <td> 0.932943</td>\n",
        "      <td> 0.662904</td>\n",
        "      <td> 0.514801</td>\n",
        "      <td> 0.289609</td>\n",
        "    </tr>\n",
        "    <tr>\n",
        "      <th>3</th>\n",
        "      <td> 0.053230</td>\n",
        "      <td> 0.233336</td>\n",
        "      <td> 0.741145</td>\n",
        "      <td> 0.143996</td>\n",
        "    </tr>\n",
        "  </tbody>\n",
        "</table>\n",
        "</div>"
       ],
       "metadata": {},
       "output_type": "pyout",
       "prompt_number": 11,
       "text": [
        "          0         1         2         3\n",
        "0  0.272950  0.670891  0.736759  0.013035\n",
        "1  0.483943  0.218368  0.034338  0.838421\n",
        "2  0.932943  0.662904  0.514801  0.289609\n",
        "3  0.053230  0.233336  0.741145  0.143996"
       ]
      }
     ],
     "prompt_number": 11
    },
    {
     "cell_type": "markdown",
     "metadata": {},
     "source": [
      "Will a *Matrix* object accept it as an input?"
     ]
    },
    {
     "cell_type": "code",
     "collapsed": false,
     "input": [
      "Matrix(d)"
     ],
     "language": "python",
     "metadata": {},
     "outputs": [
      {
       "latex": [
        "$$\\left[\\begin{smallmatrix}{}0.272950172451747 & 0.670890966798811 & 0.736758696546296 & 0.0130345515958264\\\\0.483943416340069 & 0.218367703225331 & 0.034337567276822 & 0.83842138887453\\\\0.932942657944223 & 0.662904377932196 & 0.514801313046875 & 0.289608568125525\\\\0.0532302540609684 & 0.233336198232313 & 0.741144835002329 & 0.143996001846283\\end{smallmatrix}\\right]$$"
       ],
       "metadata": {},
       "output_type": "pyout",
       "prompt_number": 13,
       "text": [
        "\u23a10.272950172451747   0.670890966798811  0.736758696546296  0.0130345515958264\u23a4\n",
        "\u23a2                                                                            \u23a5\n",
        "\u23a20.483943416340069   0.218367703225331  0.034337567276822   0.83842138887453 \u23a5\n",
        "\u23a2                                                                            \u23a5\n",
        "\u23a20.932942657944223   0.662904377932196  0.514801313046875  0.289608568125525 \u23a5\n",
        "\u23a2                                                                            \u23a5\n",
        "\u23a30.0532302540609684  0.233336198232313  0.741144835002329  0.143996001846283 \u23a6"
       ]
      }
     ],
     "prompt_number": 13
    },
    {
     "cell_type": "markdown",
     "metadata": {},
     "source": [
      "I'll be honest, I expected that I would have to bridge through [numpy](http://www.numpy.org/).  This is big time!\n",
      "\n",
      "There are also alternate methods for constructing special types of *Matrix* objects that are often needed.  In particular, there is often a need to generate identity and diagonal matrices, as well as matrices of ones and zeros."
     ]
    },
    {
     "cell_type": "code",
     "collapsed": false,
     "input": [
      "eye(3)"
     ],
     "language": "python",
     "metadata": {},
     "outputs": [
      {
       "latex": [
        "$$\\left[\\begin{smallmatrix}{}1 & 0 & 0\\\\0 & 1 & 0\\\\0 & 0 & 1\\end{smallmatrix}\\right]$$"
       ],
       "metadata": {},
       "output_type": "pyout",
       "prompt_number": 22,
       "text": [
        "\u23a11  0  0\u23a4\n",
        "\u23a2       \u23a5\n",
        "\u23a20  1  0\u23a5\n",
        "\u23a2       \u23a5\n",
        "\u23a30  0  1\u23a6"
       ]
      }
     ],
     "prompt_number": 22
    },
    {
     "cell_type": "code",
     "collapsed": false,
     "input": [
      "diag(1,2,3)"
     ],
     "language": "python",
     "metadata": {},
     "outputs": [
      {
       "latex": [
        "$$\\left[\\begin{smallmatrix}{}1 & 0 & 0\\\\0 & 2 & 0\\\\0 & 0 & 3\\end{smallmatrix}\\right]$$"
       ],
       "metadata": {},
       "output_type": "pyout",
       "prompt_number": 24,
       "text": [
        "\u23a11  0  0\u23a4\n",
        "\u23a2       \u23a5\n",
        "\u23a20  2  0\u23a5\n",
        "\u23a2       \u23a5\n",
        "\u23a30  0  3\u23a6"
       ]
      }
     ],
     "prompt_number": 24
    },
    {
     "cell_type": "code",
     "collapsed": false,
     "input": [
      "ones(3)"
     ],
     "language": "python",
     "metadata": {},
     "outputs": [
      {
       "latex": [
        "$$\\left[\\begin{smallmatrix}{}1 & 1 & 1\\\\1 & 1 & 1\\\\1 & 1 & 1\\end{smallmatrix}\\right]$$"
       ],
       "metadata": {},
       "output_type": "pyout",
       "prompt_number": 25,
       "text": [
        "\u23a11  1  1\u23a4\n",
        "\u23a2       \u23a5\n",
        "\u23a21  1  1\u23a5\n",
        "\u23a2       \u23a5\n",
        "\u23a31  1  1\u23a6"
       ]
      }
     ],
     "prompt_number": 25
    },
    {
     "cell_type": "code",
     "collapsed": false,
     "input": [
      "zeros(3)"
     ],
     "language": "python",
     "metadata": {},
     "outputs": [
      {
       "latex": [
        "$$\\left[\\begin{smallmatrix}{}0 & 0 & 0\\\\0 & 0 & 0\\\\0 & 0 & 0\\end{smallmatrix}\\right]$$"
       ],
       "metadata": {},
       "output_type": "pyout",
       "prompt_number": 26,
       "text": [
        "\u23a10  0  0\u23a4\n",
        "\u23a2       \u23a5\n",
        "\u23a20  0  0\u23a5\n",
        "\u23a2       \u23a5\n",
        "\u23a30  0  0\u23a6"
       ]
      }
     ],
     "prompt_number": 26
    },
    {
     "cell_type": "markdown",
     "metadata": {},
     "source": [
      "In any case, here are a couple quick methods for Matrix objects before moving on. What? You want to know what the determinant is?"
     ]
    },
    {
     "cell_type": "code",
     "collapsed": false,
     "input": [
      "Matrix(d).det()"
     ],
     "language": "python",
     "metadata": {},
     "outputs": [
      {
       "latex": [
        "$$-0.145900809259926$$"
       ],
       "metadata": {},
       "output_type": "pyout",
       "prompt_number": 16,
       "text": [
        "-0.145900809259926"
       ]
      }
     ],
     "prompt_number": 16
    },
    {
     "cell_type": "markdown",
     "metadata": {},
     "source": [
      "Oh, and knowing the rank could be helpful?"
     ]
    },
    {
     "cell_type": "code",
     "collapsed": false,
     "input": [
      "Matrix(d).rank()"
     ],
     "language": "python",
     "metadata": {},
     "outputs": [
      {
       "latex": [
        "$$4$$"
       ],
       "metadata": {},
       "output_type": "pyout",
       "prompt_number": 18,
       "text": [
        "4"
       ]
      }
     ],
     "prompt_number": 18
    },
    {
     "cell_type": "markdown",
     "metadata": {},
     "source": [
      "How you like me now?!?!"
     ]
    },
    {
     "cell_type": "heading",
     "level": 2,
     "metadata": {},
     "source": [
      "Data"
     ]
    },
    {
     "cell_type": "markdown",
     "metadata": {},
     "source": [
      "Since we are working with regression, we might as well have some real world data to use.  Some of the data from my dissertation will serve as well as an anything.  My dissertation concerns the impact of Tax and Expenditure Limitation (TEL) intensity on county-level fiscal and economic behavior.  One of the hypotheses tested is the impact of the cumulative effect of the imposition of a TEL on the revenue collected by counties that vary in economic capacity.  In this case the response is per capita revenue, TEL intensity is a measure of my own creation, and economic capacity is measured as per capita annual payroll."
     ]
    },
    {
     "cell_type": "code",
     "collapsed": false,
     "input": [
      "#Establish working directory\n",
      "workdir='/home/choct155/Google Drive/Dissertation/Data/'\n",
      "\n",
      "#Read in data\n",
      "tel_temp=pd.read_csv(workdir+'co_TEL_df.csv')\n",
      "\n",
      "tel_temp"
     ],
     "language": "python",
     "metadata": {},
     "outputs": [
      {
       "html": [
        "<pre>\n",
        "&lt;class 'pandas.core.frame.DataFrame'&gt;\n",
        "Int64Index: 1088 entries, 0 to 1087\n",
        "Data columns (total 39 columns):\n",
        "FNAME              1088  non-null values\n",
        "AUDIT_YEAR         1088  non-null values\n",
        "pcap               1079  non-null values\n",
        "pcrev              1088  non-null values\n",
        "w_db_b_g           1088  non-null values\n",
        "w_db_b_g_ap        1088  non-null values\n",
        "w_db_b_i           1088  non-null values\n",
        "w_db_b_i_ap        1088  non-null values\n",
        "w_db_c_g           1088  non-null values\n",
        "w_db_c_g_ap        1088  non-null values\n",
        "w_db_c_i           1088  non-null values\n",
        "w_db_c_i_ap        1088  non-null values\n",
        "w_kern_g           1088  non-null values\n",
        "w_kern_g_ap        1088  non-null values\n",
        "w_kern_i           1088  non-null values\n",
        "w_kern_i_ap        1088  non-null values\n",
        "w_queen_g          1088  non-null values\n",
        "w_queen_g_ap       1088  non-null values\n",
        "w_queen_i          1088  non-null values\n",
        "w_queen_i_ap       1088  non-null values\n",
        "w_rook_g           1088  non-null values\n",
        "w_rook_g_ap        1088  non-null values\n",
        "w_rook_i           1088  non-null values\n",
        "w_rook_i_ap        1088  non-null values\n",
        "gsp                1088  non-null values\n",
        "st_unempr          1088  non-null values\n",
        "permits            1088  non-null values\n",
        "hu_num             1088  non-null values\n",
        "vac_rate           1088  non-null values\n",
        "labforce           969  non-null values\n",
        "CTY_POP            1088  non-null values\n",
        "intensity_flow     1088  non-null values\n",
        "intensity_stock    1088  non-null values\n",
        "prop_ratio         1080  non-null values\n",
        "pcintgov           1088  non-null values\n",
        "permit_rate        1081  non-null values\n",
        "lfp_rat            969  non-null values\n",
        "pop_growth         1087  non-null values\n",
        "lpop_growth        1086  non-null values\n",
        "dtypes: float64(35), int64(3), object(1)\n",
        "</pre>"
       ],
       "metadata": {},
       "output_type": "pyout",
       "prompt_number": 31,
       "text": [
        "<class 'pandas.core.frame.DataFrame'>\n",
        "Int64Index: 1088 entries, 0 to 1087\n",
        "Data columns (total 39 columns):\n",
        "FNAME              1088  non-null values\n",
        "AUDIT_YEAR         1088  non-null values\n",
        "pcap               1079  non-null values\n",
        "pcrev              1088  non-null values\n",
        "w_db_b_g           1088  non-null values\n",
        "w_db_b_g_ap        1088  non-null values\n",
        "w_db_b_i           1088  non-null values\n",
        "w_db_b_i_ap        1088  non-null values\n",
        "w_db_c_g           1088  non-null values\n",
        "w_db_c_g_ap        1088  non-null values\n",
        "w_db_c_i           1088  non-null values\n",
        "w_db_c_i_ap        1088  non-null values\n",
        "w_kern_g           1088  non-null values\n",
        "w_kern_g_ap        1088  non-null values\n",
        "w_kern_i           1088  non-null values\n",
        "w_kern_i_ap        1088  non-null values\n",
        "w_queen_g          1088  non-null values\n",
        "w_queen_g_ap       1088  non-null values\n",
        "w_queen_i          1088  non-null values\n",
        "w_queen_i_ap       1088  non-null values\n",
        "w_rook_g           1088  non-null values\n",
        "w_rook_g_ap        1088  non-null values\n",
        "w_rook_i           1088  non-null values\n",
        "w_rook_i_ap        1088  non-null values\n",
        "gsp                1088  non-null values\n",
        "st_unempr          1088  non-null values\n",
        "permits            1088  non-null values\n",
        "hu_num             1088  non-null values\n",
        "vac_rate           1088  non-null values\n",
        "labforce           969  non-null values\n",
        "CTY_POP            1088  non-null values\n",
        "intensity_flow     1088  non-null values\n",
        "intensity_stock    1088  non-null values\n",
        "prop_ratio         1080  non-null values\n",
        "pcintgov           1088  non-null values\n",
        "permit_rate        1081  non-null values\n",
        "lfp_rat            969  non-null values\n",
        "pop_growth         1087  non-null values\n",
        "lpop_growth        1086  non-null values\n",
        "dtypes: float64(35), int64(3), object(1)"
       ]
      }
     ],
     "prompt_number": 31
    },
    {
     "cell_type": "markdown",
     "metadata": {},
     "source": [
      "This will be a very limited pedagogical case, so we are dropping all of the Local Indicators of Spatial Autocorrelation (LISAs) and a number of the other controls."
     ]
    },
    {
     "cell_type": "code",
     "collapsed": false,
     "input": [
      "#Subset data\n",
      "tel=tel_temp.reindex(columns=['FNAME','AUDIT_YEAR','pcrev','pcap','intensity_stock','CTY_POP'])\n",
      "\n",
      "#Rename columns\n",
      "tel.columns=['cty','yr','pcrev','pcap','tel','pop']\n",
      "\n",
      "print 'THERE ARE',len(set(tel['cty'])),'COUNTIES REPRESENTED OVER A PERIOD OF',len(set(tel['yr'])),'YEARS'\n",
      "\n",
      "tel.head()"
     ],
     "language": "python",
     "metadata": {},
     "outputs": [
      {
       "output_type": "stream",
       "stream": "stdout",
       "text": [
        "THERE ARE 64 COUNTIES REPRESENTED OVER A PERIOD OF 17 YEARS\n"
       ]
      },
      {
       "html": [
        "<div style=\"max-height:1000px;max-width:1500px;overflow:auto;\">\n",
        "<table border=\"1\" class=\"dataframe\">\n",
        "  <thead>\n",
        "    <tr style=\"text-align: right;\">\n",
        "      <th></th>\n",
        "      <th>cty</th>\n",
        "      <th>yr</th>\n",
        "      <th>pcrev</th>\n",
        "      <th>pcap</th>\n",
        "      <th>tel</th>\n",
        "      <th>pop</th>\n",
        "    </tr>\n",
        "  </thead>\n",
        "  <tbody>\n",
        "    <tr>\n",
        "      <th>0</th>\n",
        "      <td> Adams</td>\n",
        "      <td> 1993</td>\n",
        "      <td> 613.581370</td>\n",
        "      <td> 8363.248319</td>\n",
        "      <td> 0.000000</td>\n",
        "      <td> 281130</td>\n",
        "    </tr>\n",
        "    <tr>\n",
        "      <th>1</th>\n",
        "      <td> Adams</td>\n",
        "      <td> 1994</td>\n",
        "      <td> 619.581576</td>\n",
        "      <td> 8420.640636</td>\n",
        "      <td> 0.000000</td>\n",
        "      <td> 288838</td>\n",
        "    </tr>\n",
        "    <tr>\n",
        "      <th>2</th>\n",
        "      <td> Adams</td>\n",
        "      <td> 1995</td>\n",
        "      <td> 625.547804</td>\n",
        "      <td> 8659.319256</td>\n",
        "      <td> 0.022646</td>\n",
        "      <td> 297792</td>\n",
        "    </tr>\n",
        "    <tr>\n",
        "      <th>3</th>\n",
        "      <td> Adams</td>\n",
        "      <td> 1996</td>\n",
        "      <td> 631.738963</td>\n",
        "      <td> 9692.246662</td>\n",
        "      <td> 0.013808</td>\n",
        "      <td> 305017</td>\n",
        "    </tr>\n",
        "    <tr>\n",
        "      <th>4</th>\n",
        "      <td> Adams</td>\n",
        "      <td> 1997</td>\n",
        "      <td> 597.750806</td>\n",
        "      <td> 9903.654147</td>\n",
        "      <td> 0.068546</td>\n",
        "      <td> 314191</td>\n",
        "    </tr>\n",
        "  </tbody>\n",
        "</table>\n",
        "</div>"
       ],
       "metadata": {},
       "output_type": "pyout",
       "prompt_number": 34,
       "text": [
        "     cty    yr       pcrev         pcap       tel     pop\n",
        "0  Adams  1993  613.581370  8363.248319  0.000000  281130\n",
        "1  Adams  1994  619.581576  8420.640636  0.000000  288838\n",
        "2  Adams  1995  625.547804  8659.319256  0.022646  297792\n",
        "3  Adams  1996  631.738963  9692.246662  0.013808  305017\n",
        "4  Adams  1997  597.750806  9903.654147  0.068546  314191"
       ]
      }
     ],
     "prompt_number": 34
    },
    {
     "cell_type": "markdown",
     "metadata": {},
     "source": [
      "As the introspective print statement above indicates, we are dealing with panel data.  For the time being, we will just look at it as a pooled cross-section."
     ]
    },
    {
     "cell_type": "heading",
     "level": 2,
     "metadata": {},
     "source": [
      "Regression"
     ]
    },
    {
     "cell_type": "markdown",
     "metadata": {},
     "source": [
      "This and future tutorials will follow along with the excellent text, [Elements of Statistical Learning](http://statweb.stanford.edu/~tibs/ElemStatLearn/printings/ESLII_print10.pdf).  If you are unfamiliar, it may be the most intuitive statistical text I have come across to date.\n",
      "\n",
      "In any case, regression seeks to predict a real-valued output $Y$ based upon input (for our case) $X^T=(X_1,X_2)$.  The model has the following form:\n",
      "\n",
      "$$f(X) = \\beta_0 + \\sum_{j=1}^p X_j\\beta_j$$\n",
      "\n",
      "where $p$ is the number of covariates, which is 2 in our case.  $f(X)$ is the model estimate of $y_j$.  The matrix representation is $Y = X\\beta + \\epsilon$.  Unfortunately, there does not seem to be a method for expanding the elements of a matrix equation all inline at once, so we will proceed with each component individually to unpack the mechanics of each component.\n",
      "\n",
      "If we had only 5 observations, the $Y$ vector would appear like so:"
     ]
    },
    {
     "cell_type": "code",
     "collapsed": false,
     "input": [
      "y=MatrixSymbol('y',5,1)\n",
      "\n",
      "y.as_explicit()"
     ],
     "language": "python",
     "metadata": {},
     "outputs": [
      {
       "latex": [
        "$$\\left[\\begin{smallmatrix}{}y_{0, 0}\\\\y_{1, 0}\\\\y_{2, 0}\\\\y_{3, 0}\\\\y_{4, 0}\\end{smallmatrix}\\right]$$"
       ],
       "metadata": {},
       "output_type": "pyout",
       "prompt_number": 87,
       "text": [
        "\u23a1y\u2080\u2080\u23a4\n",
        "\u23a2   \u23a5\n",
        "\u23a2y\u2081\u2080\u23a5\n",
        "\u23a2   \u23a5\n",
        "\u23a2y\u2082\u2080\u23a5\n",
        "\u23a2   \u23a5\n",
        "\u23a2y\u2083\u2080\u23a5\n",
        "\u23a2   \u23a5\n",
        "\u23a3y\u2084\u2080\u23a6"
       ]
      }
     ],
     "prompt_number": 87
    },
    {
     "cell_type": "markdown",
     "metadata": {},
     "source": [
      "The second subscript is extraneous, I am just not sure how to get rid of it at the current time when using *MatrixSymbol* objects.  In general, the $Y$ vector is an $N \\times 1$ vector.  In the context of our data, $Y$ corresponds to `pcrev`.  Note that the combination of `cty` and `yr` serve to identify the observation in this context."
     ]
    },
    {
     "cell_type": "code",
     "collapsed": false,
     "input": [
      "tel.set_index(['cty','yr'],inplace=True)\n",
      "DataFrame(tel['pcrev']).head()"
     ],
     "language": "python",
     "metadata": {},
     "outputs": [
      {
       "html": [
        "<div style=\"max-height:1000px;max-width:1500px;overflow:auto;\">\n",
        "<table border=\"1\" class=\"dataframe\">\n",
        "  <thead>\n",
        "    <tr style=\"text-align: right;\">\n",
        "      <th></th>\n",
        "      <th></th>\n",
        "      <th>pcrev</th>\n",
        "    </tr>\n",
        "    <tr>\n",
        "      <th>cty</th>\n",
        "      <th>yr</th>\n",
        "      <th></th>\n",
        "    </tr>\n",
        "  </thead>\n",
        "  <tbody>\n",
        "    <tr>\n",
        "      <th rowspan=\"5\" valign=\"top\">Adams</th>\n",
        "      <th>1993</th>\n",
        "      <td> 613.581370</td>\n",
        "    </tr>\n",
        "    <tr>\n",
        "      <th>1994</th>\n",
        "      <td> 619.581576</td>\n",
        "    </tr>\n",
        "    <tr>\n",
        "      <th>1995</th>\n",
        "      <td> 625.547804</td>\n",
        "    </tr>\n",
        "    <tr>\n",
        "      <th>1996</th>\n",
        "      <td> 631.738963</td>\n",
        "    </tr>\n",
        "    <tr>\n",
        "      <th>1997</th>\n",
        "      <td> 597.750806</td>\n",
        "    </tr>\n",
        "  </tbody>\n",
        "</table>\n",
        "</div>"
       ],
       "metadata": {},
       "output_type": "pyout",
       "prompt_number": 101,
       "text": [
        "                 pcrev\n",
        "cty   yr              \n",
        "Adams 1993  613.581370\n",
        "      1994  619.581576\n",
        "      1995  625.547804\n",
        "      1996  631.738963\n",
        "      1997  597.750806"
       ]
      }
     ],
     "prompt_number": 101
    },
    {
     "cell_type": "markdown",
     "metadata": {},
     "source": [
      "The $X$ matrix and $\\beta$ vector are of dimensions $N \\times p$ and $p \\times 1$, respectively.  $p$ is the number of regressors included in the model."
     ]
    },
    {
     "cell_type": "code",
     "collapsed": false,
     "input": [
      "x=MatrixSymbol('x',5,2)\n",
      "b=MatrixSymbol('b',2,1)\n",
      "\n",
      "x.as_explicit()"
     ],
     "language": "python",
     "metadata": {},
     "outputs": [
      {
       "latex": [
        "$$\\left[\\begin{smallmatrix}{}x_{0, 0} & x_{0, 1}\\\\x_{1, 0} & x_{1, 1}\\\\x_{2, 0} & x_{2, 1}\\\\x_{3, 0} & x_{3, 1}\\\\x_{4, 0} & x_{4, 1}\\end{smallmatrix}\\right]$$"
       ],
       "metadata": {},
       "output_type": "pyout",
       "prompt_number": 102,
       "text": [
        "\u23a1x\u2080\u2080  x\u2080\u2081\u23a4\n",
        "\u23a2        \u23a5\n",
        "\u23a2x\u2081\u2080  x\u2081\u2081\u23a5\n",
        "\u23a2        \u23a5\n",
        "\u23a2x\u2082\u2080  x\u2082\u2081\u23a5\n",
        "\u23a2        \u23a5\n",
        "\u23a2x\u2083\u2080  x\u2083\u2081\u23a5\n",
        "\u23a2        \u23a5\n",
        "\u23a3x\u2084\u2080  x\u2084\u2081\u23a6"
       ]
      }
     ],
     "prompt_number": 102
    },
    {
     "cell_type": "code",
     "collapsed": false,
     "input": [
      "b.as_explicit()"
     ],
     "language": "python",
     "metadata": {},
     "outputs": [
      {
       "latex": [
        "$$\\left[\\begin{smallmatrix}{}b_{0, 0}\\\\b_{1, 0}\\end{smallmatrix}\\right]$$"
       ],
       "metadata": {},
       "output_type": "pyout",
       "prompt_number": 103,
       "text": [
        "\u23a1b\u2080\u2080\u23a4\n",
        "\u23a2   \u23a5\n",
        "\u23a3b\u2081\u2080\u23a6"
       ]
      }
     ],
     "prompt_number": 103
    },
    {
     "cell_type": "markdown",
     "metadata": {},
     "source": [
      "The matrix $X$ for our data corresponds to the DF formed by the three Series `tel`, `pop`, and `pcap`."
     ]
    },
    {
     "cell_type": "code",
     "collapsed": false,
     "input": [
      "tel[['tel','pop','pcap']].head()"
     ],
     "language": "python",
     "metadata": {},
     "outputs": [
      {
       "html": [
        "<div style=\"max-height:1000px;max-width:1500px;overflow:auto;\">\n",
        "<table border=\"1\" class=\"dataframe\">\n",
        "  <thead>\n",
        "    <tr style=\"text-align: right;\">\n",
        "      <th></th>\n",
        "      <th></th>\n",
        "      <th>tel</th>\n",
        "      <th>pop</th>\n",
        "      <th>pcap</th>\n",
        "    </tr>\n",
        "    <tr>\n",
        "      <th>cty</th>\n",
        "      <th>yr</th>\n",
        "      <th></th>\n",
        "      <th></th>\n",
        "      <th></th>\n",
        "    </tr>\n",
        "  </thead>\n",
        "  <tbody>\n",
        "    <tr>\n",
        "      <th rowspan=\"5\" valign=\"top\">Adams</th>\n",
        "      <th>1993</th>\n",
        "      <td> 0.000000</td>\n",
        "      <td> 281130</td>\n",
        "      <td> 8363.248319</td>\n",
        "    </tr>\n",
        "    <tr>\n",
        "      <th>1994</th>\n",
        "      <td> 0.000000</td>\n",
        "      <td> 288838</td>\n",
        "      <td> 8420.640636</td>\n",
        "    </tr>\n",
        "    <tr>\n",
        "      <th>1995</th>\n",
        "      <td> 0.022646</td>\n",
        "      <td> 297792</td>\n",
        "      <td> 8659.319256</td>\n",
        "    </tr>\n",
        "    <tr>\n",
        "      <th>1996</th>\n",
        "      <td> 0.013808</td>\n",
        "      <td> 305017</td>\n",
        "      <td> 9692.246662</td>\n",
        "    </tr>\n",
        "    <tr>\n",
        "      <th>1997</th>\n",
        "      <td> 0.068546</td>\n",
        "      <td> 314191</td>\n",
        "      <td> 9903.654147</td>\n",
        "    </tr>\n",
        "  </tbody>\n",
        "</table>\n",
        "</div>"
       ],
       "metadata": {},
       "output_type": "pyout",
       "prompt_number": 104,
       "text": [
        "                 tel     pop         pcap\n",
        "cty   yr                                 \n",
        "Adams 1993  0.000000  281130  8363.248319\n",
        "      1994  0.000000  288838  8420.640636\n",
        "      1995  0.022646  297792  8659.319256\n",
        "      1996  0.013808  305017  9692.246662\n",
        "      1997  0.068546  314191  9903.654147"
       ]
      }
     ],
     "prompt_number": 104
    },
    {
     "cell_type": "markdown",
     "metadata": {},
     "source": [
      "$\\beta$ is the vector that provides the weighted impact of each variable included in $X$.  Since we are estimating these values, it cannot be displayed a priori.\n",
      "\n",
      "The estimated value $f(X)$ is calculated as the product of $X$ and $\\beta$:"
     ]
    },
    {
     "cell_type": "code",
     "collapsed": false,
     "input": [
      "(x*b).as_explicit()"
     ],
     "language": "python",
     "metadata": {},
     "outputs": [
      {
       "latex": [
        "$$\\left[\\begin{smallmatrix}{}x_{0, 0} b_{0, 0} + x_{0, 1} b_{1, 0}\\\\x_{1, 0} b_{0, 0} + x_{1, 1} b_{1, 0}\\\\x_{2, 0} b_{0, 0} + x_{2, 1} b_{1, 0}\\\\x_{3, 0} b_{0, 0} + x_{3, 1} b_{1, 0}\\\\x_{4, 0} b_{0, 0} + x_{4, 1} b_{1, 0}\\end{smallmatrix}\\right]$$"
       ],
       "metadata": {},
       "output_type": "pyout",
       "prompt_number": 105,
       "text": [
        "\u23a1x\u2080\u2080\u22c5b\u2080\u2080 + x\u2080\u2081\u22c5b\u2081\u2080\u23a4\n",
        "\u23a2                 \u23a5\n",
        "\u23a2x\u2081\u2080\u22c5b\u2080\u2080 + x\u2081\u2081\u22c5b\u2081\u2080\u23a5\n",
        "\u23a2                 \u23a5\n",
        "\u23a2x\u2082\u2080\u22c5b\u2080\u2080 + x\u2082\u2081\u22c5b\u2081\u2080\u23a5\n",
        "\u23a2                 \u23a5\n",
        "\u23a2x\u2083\u2080\u22c5b\u2080\u2080 + x\u2083\u2081\u22c5b\u2081\u2080\u23a5\n",
        "\u23a2                 \u23a5\n",
        "\u23a3x\u2084\u2080\u22c5b\u2080\u2080 + x\u2084\u2081\u22c5b\u2081\u2080\u23a6"
       ]
      }
     ],
     "prompt_number": 105
    },
    {
     "cell_type": "markdown",
     "metadata": {},
     "source": [
      "The $N \\times 1$ error vector $\\epsilon$ is the difference between the observed output vector and the estimated value $Y-X\\beta$."
     ]
    },
    {
     "cell_type": "code",
     "collapsed": false,
     "input": [
      "print y-(x*b)\n",
      "(y-(x*b)).as_explicit()"
     ],
     "language": "python",
     "metadata": {},
     "outputs": [
      {
       "output_type": "stream",
       "stream": "stdout",
       "text": [
        "(-1)*x*b + y\n"
       ]
      },
      {
       "latex": [
        "$$\\left[\\begin{smallmatrix}{}- x_{0, 0} b_{0, 0} - x_{0, 1} b_{1, 0} + y_{0, 0}\\\\- x_{1, 0} b_{0, 0} - x_{1, 1} b_{1, 0} + y_{1, 0}\\\\- x_{2, 0} b_{0, 0} - x_{2, 1} b_{1, 0} + y_{2, 0}\\\\- x_{3, 0} b_{0, 0} - x_{3, 1} b_{1, 0} + y_{3, 0}\\\\- x_{4, 0} b_{0, 0} - x_{4, 1} b_{1, 0} + y_{4, 0}\\end{smallmatrix}\\right]$$"
       ],
       "metadata": {},
       "output_type": "pyout",
       "prompt_number": 94,
       "text": [
        "\u23a1-x\u2080\u2080\u22c5b\u2080\u2080 - x\u2080\u2081\u22c5b\u2081\u2080 + y\u2080\u2080\u23a4\n",
        "\u23a2                        \u23a5\n",
        "\u23a2-x\u2081\u2080\u22c5b\u2080\u2080 - x\u2081\u2081\u22c5b\u2081\u2080 + y\u2081\u2080\u23a5\n",
        "\u23a2                        \u23a5\n",
        "\u23a2-x\u2082\u2080\u22c5b\u2080\u2080 - x\u2082\u2081\u22c5b\u2081\u2080 + y\u2082\u2080\u23a5\n",
        "\u23a2                        \u23a5\n",
        "\u23a2-x\u2083\u2080\u22c5b\u2080\u2080 - x\u2083\u2081\u22c5b\u2081\u2080 + y\u2083\u2080\u23a5\n",
        "\u23a2                        \u23a5\n",
        "\u23a3-x\u2084\u2080\u22c5b\u2080\u2080 - x\u2084\u2081\u22c5b\u2081\u2080 + y\u2084\u2080\u23a6"
       ]
      }
     ],
     "prompt_number": 94
    },
    {
     "cell_type": "markdown",
     "metadata": {},
     "source": [
      "At this point, we have made no assumptions about how to fit the model.  It makes intuitive sense to pick parameters for $\\beta$ that minimize the error term $\\epsilon$.  The rule that we use to minimize this error matters, because different rules can yield different estimates.  Even if similar estimates are provided, different rules can lead to estimates with differing statistical properties (like [bias](http://en.wikipedia.org/wiki/Systematic_bias), [variance](http://en.wikipedia.org/wiki/Variance), and [consistency](http://en.wikipedia.org/wiki/Consistency_(statistics))).  \n",
      "\n",
      "These rules about minimizing error are generally known as loss functions.  The method known as [least squares](http://en.wikipedia.org/wiki/Least_squares) estimation is simply an allusion to a particular loss function that is fairly robust across a variety of situations.  In particular, it has the favorable quality of being an unbiased estimator for linear models.  While we will not explore this further here, being unbiased is not everything.  Sometimes its reasonable to [trade a little bias for substantial reductions in variance](http://en.wikipedia.org/wiki/Bias-variance_dilemma).\n",
      "\n",
      "In any event, the least squares rule seeks to minimize the sum of squared residuals ($RSS$).  This would literally just be the sum of the square of each of the five components in the vector directly above.  "
     ]
    },
    {
     "cell_type": "code",
     "collapsed": false,
     "input": [
      "(y-(x*b)).as_explicit().T*(y-(x*b)).as_explicit()"
     ],
     "language": "python",
     "metadata": {},
     "outputs": [
      {
       "latex": [
        "$$\\left[\\begin{smallmatrix}{}\\left(- x_{0, 0} b_{0, 0} - x_{0, 1} b_{1, 0} + y_{0, 0}\\right)^{2} + \\left(- x_{1, 0} b_{0, 0} - x_{1, 1} b_{1, 0} + y_{1, 0}\\right)^{2} + \\left(- x_{2, 0} b_{0, 0} - x_{2, 1} b_{1, 0} + y_{2, 0}\\right)^{2} + \\left(- x_{3, 0} b_{0, 0} - x_{3, 1} b_{1, 0} + y_{3, 0}\\right)^{2} + \\left(- x_{4, 0} b_{0, 0} - x_{4, 1} b_{1, 0} + y_{4, 0}\\right)^{2}\\end{smallmatrix}\\right]$$"
       ],
       "metadata": {},
       "output_type": "pyout",
       "prompt_number": 114,
       "text": [
        "\u23a1                          2                             2                    \n",
        "\u23a3(-x\u2080\u2080\u22c5b\u2080\u2080 - x\u2080\u2081\u22c5b\u2081\u2080 + y\u2080\u2080)  + (-x\u2081\u2080\u22c5b\u2080\u2080 - x\u2081\u2081\u22c5b\u2081\u2080 + y\u2081\u2080)  + (-x\u2082\u2080\u22c5b\u2080\u2080 - x\u2082\u2081\u22c5b\n",
        "\n",
        "         2                             2                             2\u23a4\n",
        "\u2081\u2080 + y\u2082\u2080)  + (-x\u2083\u2080\u22c5b\u2080\u2080 - x\u2083\u2081\u22c5b\u2081\u2080 + y\u2083\u2080)  + (-x\u2084\u2080\u22c5b\u2080\u2080 - x\u2084\u2081\u22c5b\u2081\u2080 + y\u2084\u2080) \u23a6"
       ]
      }
     ],
     "prompt_number": 114
    },
    {
     "cell_type": "markdown",
     "metadata": {},
     "source": [
      "The loss function explicitly stated is as follows:\n",
      "\n",
      "$$RSS(\\beta) = \\sum_{i=1}^N(y_i-f(x_i))^2 = \\sum_{i=1}^N(y_i-\\beta_0-\\sum_{j=1}^p x_{ij}\\beta{j})^2$$\n",
      "\n",
      "It remains a reasonably reliable estimator so long as the observed responses $y_i$ are conditionally independent of one another given the inputs $x_i$.\n",
      "\n",
      "In matrix format, the least squares rule is calculated as follows:\n",
      "\n",
      "$$RSS(\\beta) = (y - X\\beta)^T(y-X\\beta)$$\n",
      "\n",
      "This is just the product of..."
     ]
    },
    {
     "cell_type": "code",
     "collapsed": false,
     "input": [
      "(y-(x*b)).as_explicit().T"
     ],
     "language": "python",
     "metadata": {},
     "outputs": [
      {
       "latex": [
        "$$\\left[\\begin{smallmatrix}{}- x_{0, 0} b_{0, 0} - x_{0, 1} b_{1, 0} + y_{0, 0} & - x_{1, 0} b_{0, 0} - x_{1, 1} b_{1, 0} + y_{1, 0} & - x_{2, 0} b_{0, 0} - x_{2, 1} b_{1, 0} + y_{2, 0} & - x_{3, 0} b_{0, 0} - x_{3, 1} b_{1, 0} + y_{3, 0} & - x_{4, 0} b_{0, 0} - x_{4, 1} b_{1, 0} + y_{4, 0}\\end{smallmatrix}\\right]$$"
       ],
       "metadata": {},
       "output_type": "pyout",
       "prompt_number": 118,
       "text": [
        "[-x\u2080\u2080\u22c5b\u2080\u2080 - x\u2080\u2081\u22c5b\u2081\u2080 + y\u2080\u2080  -x\u2081\u2080\u22c5b\u2080\u2080 - x\u2081\u2081\u22c5b\u2081\u2080 + y\u2081\u2080  -x\u2082\u2080\u22c5b\u2080\u2080 - x\u2082\u2081\u22c5b\u2081\u2080 + y\u2082\u2080 \n",
        " -x\u2083\u2080\u22c5b\u2080\u2080 - x\u2083\u2081\u22c5b\u2081\u2080 + y\u2083\u2080  -x\u2084\u2080\u22c5b\u2080\u2080 - x\u2084\u2081\u22c5b\u2081\u2080 + y\u2084\u2080]"
       ]
      }
     ],
     "prompt_number": 118
    },
    {
     "cell_type": "markdown",
     "metadata": {},
     "source": [
      "...and..."
     ]
    },
    {
     "cell_type": "code",
     "collapsed": false,
     "input": [
      "(y-(x*b)).as_explicit()"
     ],
     "language": "python",
     "metadata": {},
     "outputs": [
      {
       "latex": [
        "$$\\left[\\begin{smallmatrix}{}- x_{0, 0} b_{0, 0} - x_{0, 1} b_{1, 0} + y_{0, 0}\\\\- x_{1, 0} b_{0, 0} - x_{1, 1} b_{1, 0} + y_{1, 0}\\\\- x_{2, 0} b_{0, 0} - x_{2, 1} b_{1, 0} + y_{2, 0}\\\\- x_{3, 0} b_{0, 0} - x_{3, 1} b_{1, 0} + y_{3, 0}\\\\- x_{4, 0} b_{0, 0} - x_{4, 1} b_{1, 0} + y_{4, 0}\\end{smallmatrix}\\right]$$"
       ],
       "metadata": {},
       "output_type": "pyout",
       "prompt_number": 119,
       "text": [
        "\u23a1-x\u2080\u2080\u22c5b\u2080\u2080 - x\u2080\u2081\u22c5b\u2081\u2080 + y\u2080\u2080\u23a4\n",
        "\u23a2                        \u23a5\n",
        "\u23a2-x\u2081\u2080\u22c5b\u2080\u2080 - x\u2081\u2081\u22c5b\u2081\u2080 + y\u2081\u2080\u23a5\n",
        "\u23a2                        \u23a5\n",
        "\u23a2-x\u2082\u2080\u22c5b\u2080\u2080 - x\u2082\u2081\u22c5b\u2081\u2080 + y\u2082\u2080\u23a5\n",
        "\u23a2                        \u23a5\n",
        "\u23a2-x\u2083\u2080\u22c5b\u2080\u2080 - x\u2083\u2081\u22c5b\u2081\u2080 + y\u2083\u2080\u23a5\n",
        "\u23a2                        \u23a5\n",
        "\u23a3-x\u2084\u2080\u22c5b\u2080\u2080 - x\u2084\u2081\u22c5b\u2081\u2080 + y\u2084\u2080\u23a6"
       ]
      }
     ],
     "prompt_number": 119
    },
    {
     "cell_type": "markdown",
     "metadata": {},
     "source": [
      "To estimate $\\beta$, the whole business devolves into an optimization exercise.  We need to find extrema, and these values occur at inflection points.  The matrix form of $RSS(\\beta)$ is just a simple quadratic function, so there is only one extreme value to be located.  \n",
      "\n",
      "To take a hypothetical situation, imagine that we are plotting $RSS$ as a quadratic function of $\\beta$.  For simplicity, we will assume that the variable in question has no effect, and therefore $\\beta$=0.  "
     ]
    },
    {
     "cell_type": "code",
     "collapsed": false,
     "input": [
      "#Generate beta range\n",
      "beta=np.arange(-7,8)\n",
      "\n",
      "#Generate loss function value\n",
      "rss=beta**2\n",
      "\n",
      "#Generate plot object\n",
      "fig,axes=plt.subplots(2,sharex=True,figsize=(12,8))\n",
      "\n",
      "#Plot loss function value\n",
      "axes[0].plot(beta,rss)\n",
      "axes[0].set_title('Loss Function as f(Beta)')\n",
      "\n",
      "#Plot value of loss function slope\n",
      "axes[1].plot(beta,2*beta)\n",
      "axes[1].plot(beta,[0]*len(beta),c='k')\n",
      "axes[1].set_title('Derivative of Loss Function as f(Beta)')\n",
      "\n",
      "plt.xlim([beta.min(),beta.max()]);"
     ],
     "language": "python",
     "metadata": {},
     "outputs": [
      {
       "metadata": {},
       "output_type": "display_data",
       "png": "[encoded data removed]",
       "text": [
        "<matplotlib.figure.Figure at 0x59ae210>"
       ]
      }
     ],
     "prompt_number": 156
    },
    {
     "cell_type": "markdown",
     "metadata": {},
     "source": [
      "As can be seen above, the function is minimized when the derivative equals zero, which corresponds to $\\beta$=0.  In the $RSS$ function, there are three parameters of interest: $Y$, $X$ and $\\beta$.  Both $Y$ and $X$ are known from the data, so $RSS$ is really only a function of $\\beta$.  Consequently, the optimization of $RSS$ is quite analagous to the panel plots above.\n",
      "\n",
      "The procedure thus reveals itself for estimating $\\beta$.  Set the derivative of the loss function with respect to $\\beta$ equal to zero...\n",
      "\n",
      "$$\\frac{\\partial RSS}{\\partial \\beta}=-2X^T(Y-X\\beta)=0$$\n",
      "\n",
      "...and isolate $\\beta$.\n",
      "\n",
      "$$\\beta = (X^TX)^{-1}X^TY$$\n",
      "\n"
     ]
    },
    {
     "cell_type": "code",
     "collapsed": false,
     "input": [
      "print type(x.T*x)\n",
      "(x.T*x).as_explicit()"
     ],
     "language": "python",
     "metadata": {},
     "outputs": [
      {
       "output_type": "stream",
       "stream": "stdout",
       "text": [
        "<class 'sympy.matrices.expressions.matmul.MatMul'>\n"
       ]
      },
      {
       "latex": [
        "$$\\left[\\begin{smallmatrix}{}\\left(x_{0, 0}\\right)^{2} + \\left(x_{1, 0}\\right)^{2} + \\left(x_{2, 0}\\right)^{2} + \\left(x_{3, 0}\\right)^{2} + \\left(x_{4, 0}\\right)^{2} & x_{0, 0} x_{0, 1} + x_{1, 0} x_{1, 1} + x_{2, 0} x_{2, 1} + x_{3, 0} x_{3, 1} + x_{4, 0} x_{4, 1}\\\\x_{0, 1} x_{0, 0} + x_{1, 1} x_{1, 0} + x_{2, 1} x_{2, 0} + x_{3, 1} x_{3, 0} + x_{4, 1} x_{4, 0} & \\left(x_{0, 1}\\right)^{2} + \\left(x_{1, 1}\\right)^{2} + \\left(x_{2, 1}\\right)^{2} + \\left(x_{3, 1}\\right)^{2} + \\left(x_{4, 1}\\right)^{2}\\end{smallmatrix}\\right]$$"
       ],
       "metadata": {},
       "output_type": "pyout",
       "prompt_number": 171,
       "text": [
        "\u23a1          2      2      2      2      2                                      \n",
        "\u23a2       x\u2080\u2080  + x\u2081\u2080  + x\u2082\u2080  + x\u2083\u2080  + x\u2084\u2080           x\u2080\u2080\u22c5x\u2080\u2081 + x\u2081\u2080\u22c5x\u2081\u2081 + x\u2082\u2080\u22c5x\u2082\u2081 \n",
        "\u23a2                                                                             \n",
        "\u23a2                                                           2      2      2   \n",
        "\u23a3x\u2080\u2081\u22c5x\u2080\u2080 + x\u2081\u2081\u22c5x\u2081\u2080 + x\u2082\u2081\u22c5x\u2082\u2080 + x\u2083\u2081\u22c5x\u2083\u2080 + x\u2084\u2081\u22c5x\u2084\u2080         x\u2080\u2081  + x\u2081\u2081  + x\u2082\u2081  + \n",
        "\n",
        "                   \u23a4\n",
        "+ x\u2083\u2080\u22c5x\u2083\u2081 + x\u2084\u2080\u22c5x\u2084\u2081\u23a5\n",
        "                   \u23a5\n",
        "   2      2        \u23a5\n",
        "x\u2083\u2081  + x\u2084\u2081         \u23a6"
       ]
      }
     ],
     "prompt_number": 171
    },
    {
     "cell_type": "code",
     "collapsed": false,
     "input": [
      "(x.T*y).as_explicit()"
     ],
     "language": "python",
     "metadata": {},
     "outputs": [
      {
       "latex": [
        "$$\\left[\\begin{smallmatrix}{}x_{0, 0} y_{0, 0} + x_{1, 0} y_{1, 0} + x_{2, 0} y_{2, 0} + x_{3, 0} y_{3, 0} + x_{4, 0} y_{4, 0}\\\\x_{0, 1} y_{0, 0} + x_{1, 1} y_{1, 0} + x_{2, 1} y_{2, 0} + x_{3, 1} y_{3, 0} + x_{4, 1} y_{4, 0}\\end{smallmatrix}\\right]$$"
       ],
       "metadata": {},
       "output_type": "pyout",
       "prompt_number": 175,
       "text": [
        "\u23a1x\u2080\u2080\u22c5y\u2080\u2080 + x\u2081\u2080\u22c5y\u2081\u2080 + x\u2082\u2080\u22c5y\u2082\u2080 + x\u2083\u2080\u22c5y\u2083\u2080 + x\u2084\u2080\u22c5y\u2084\u2080\u23a4\n",
        "\u23a2                                               \u23a5\n",
        "\u23a3x\u2080\u2081\u22c5y\u2080\u2080 + x\u2081\u2081\u22c5y\u2081\u2080 + x\u2082\u2081\u22c5y\u2082\u2080 + x\u2083\u2081\u22c5y\u2083\u2080 + x\u2084\u2081\u22c5y\u2084\u2080\u23a6"
       ]
      }
     ],
     "prompt_number": 175
    },
    {
     "cell_type": "code",
     "collapsed": false,
     "input": [
      "(x.T*x).I"
     ],
     "language": "python",
     "metadata": {},
     "outputs": [
      {
       "latex": [
        "$$\\left(x^T x\\right)^{-1}$$"
       ],
       "metadata": {},
       "output_type": "pyout",
       "prompt_number": 187,
       "text": [
        "      -1\n",
        "\u239b T  \u239e  \n",
        "\u239dx \u22c5x\u23a0  "
       ]
      }
     ],
     "prompt_number": 187
    },
    {
     "cell_type": "code",
     "collapsed": false,
     "input": [
      "(x.T*x).I.as_explicit()"
     ],
     "language": "python",
     "metadata": {},
     "outputs": [
      {
       "ename": "IndexError",
       "evalue": "list index out of range",
       "output_type": "pyerr",
       "traceback": [
        "\u001b[1;31m---------------------------------------------------------------------------\u001b[0m\n\u001b[1;31mIndexError\u001b[0m                                Traceback (most recent call last)",
        "\u001b[1;32m<ipython-input-182-93739c34be6e>\u001b[0m in \u001b[0;36m<module>\u001b[1;34m()\u001b[0m\n\u001b[1;32m----> 1\u001b[1;33m \u001b[1;33m(\u001b[0m\u001b[0mx\u001b[0m\u001b[1;33m.\u001b[0m\u001b[0mT\u001b[0m\u001b[1;33m*\u001b[0m\u001b[0mx\u001b[0m\u001b[1;33m)\u001b[0m\u001b[1;33m.\u001b[0m\u001b[0mI\u001b[0m\u001b[1;33m.\u001b[0m\u001b[0mas_explicit\u001b[0m\u001b[1;33m(\u001b[0m\u001b[1;33m)\u001b[0m\u001b[1;33m\u001b[0m\u001b[0m\n\u001b[0m",
        "\u001b[1;32m/home/choct155/analysis/Anaconda/lib/python2.7/site-packages/sympy/matrices/expressions/matexpr.pyc\u001b[0m in \u001b[0;36mas_explicit\u001b[1;34m(self)\u001b[0m\n\u001b[0;32m    230\u001b[0m         return ImmutableMatrix([[    self[i, j]\n\u001b[0;32m    231\u001b[0m                             for j in range(self.cols)]\n\u001b[1;32m--> 232\u001b[1;33m                             for i in range(self.rows)])\n\u001b[0m\u001b[0;32m    233\u001b[0m \u001b[1;33m\u001b[0m\u001b[0m\n\u001b[0;32m    234\u001b[0m     \u001b[1;32mdef\u001b[0m \u001b[0mas_mutable\u001b[0m\u001b[1;33m(\u001b[0m\u001b[0mself\u001b[0m\u001b[1;33m)\u001b[0m\u001b[1;33m:\u001b[0m\u001b[1;33m\u001b[0m\u001b[0m\n",
        "\u001b[1;32m/home/choct155/analysis/Anaconda/lib/python2.7/site-packages/sympy/matrices/expressions/matexpr.pyc\u001b[0m in \u001b[0;36m__getitem__\u001b[1;34m(self, key)\u001b[0m\n\u001b[0;32m    198\u001b[0m             \u001b[0mi\u001b[0m\u001b[1;33m,\u001b[0m \u001b[0mj\u001b[0m \u001b[1;33m=\u001b[0m \u001b[0msympify\u001b[0m\u001b[1;33m(\u001b[0m\u001b[0mi\u001b[0m\u001b[1;33m)\u001b[0m\u001b[1;33m,\u001b[0m \u001b[0msympify\u001b[0m\u001b[1;33m(\u001b[0m\u001b[0mj\u001b[0m\u001b[1;33m)\u001b[0m\u001b[1;33m\u001b[0m\u001b[0m\n\u001b[0;32m    199\u001b[0m             \u001b[1;32mif\u001b[0m \u001b[0mself\u001b[0m\u001b[1;33m.\u001b[0m\u001b[0mvalid_index\u001b[0m\u001b[1;33m(\u001b[0m\u001b[0mi\u001b[0m\u001b[1;33m,\u001b[0m \u001b[0mj\u001b[0m\u001b[1;33m)\u001b[0m \u001b[1;32mis\u001b[0m \u001b[1;32mnot\u001b[0m \u001b[0mFalse\u001b[0m\u001b[1;33m:\u001b[0m\u001b[1;33m\u001b[0m\u001b[0m\n\u001b[1;32m--> 200\u001b[1;33m                 \u001b[1;32mreturn\u001b[0m \u001b[0mself\u001b[0m\u001b[1;33m.\u001b[0m\u001b[0m_entry\u001b[0m\u001b[1;33m(\u001b[0m\u001b[0mi\u001b[0m\u001b[1;33m,\u001b[0m \u001b[0mj\u001b[0m\u001b[1;33m)\u001b[0m\u001b[1;33m\u001b[0m\u001b[0m\n\u001b[0m\u001b[0;32m    201\u001b[0m             \u001b[1;32melse\u001b[0m\u001b[1;33m:\u001b[0m\u001b[1;33m\u001b[0m\u001b[0m\n\u001b[0;32m    202\u001b[0m                 \u001b[1;32mraise\u001b[0m \u001b[0mIndexError\u001b[0m\u001b[1;33m(\u001b[0m\u001b[1;34m\"Invalid indices (%s, %s)\"\u001b[0m \u001b[1;33m%\u001b[0m \u001b[1;33m(\u001b[0m\u001b[0mi\u001b[0m\u001b[1;33m,\u001b[0m \u001b[0mj\u001b[0m\u001b[1;33m)\u001b[0m\u001b[1;33m)\u001b[0m\u001b[1;33m\u001b[0m\u001b[0m\n",
        "\u001b[1;32m/home/choct155/analysis/Anaconda/lib/python2.7/site-packages/sympy/matrices/expressions/matpow.pyc\u001b[0m in \u001b[0;36m_entry\u001b[1;34m(self, i, j)\u001b[0m\n\u001b[0;32m     27\u001b[0m         \u001b[1;32mif\u001b[0m \u001b[0mself\u001b[0m\u001b[1;33m.\u001b[0m\u001b[0mexp\u001b[0m\u001b[1;33m.\u001b[0m\u001b[0mis_Integer\u001b[0m\u001b[1;33m:\u001b[0m\u001b[1;33m\u001b[0m\u001b[0m\n\u001b[0;32m     28\u001b[0m             \u001b[1;31m# Make an explicity MatMul out of the MatPow\u001b[0m\u001b[1;33m\u001b[0m\u001b[1;33m\u001b[0m\u001b[0m\n\u001b[1;32m---> 29\u001b[1;33m             \u001b[1;32mreturn\u001b[0m \u001b[0mMatMul\u001b[0m\u001b[1;33m(\u001b[0m\u001b[1;33m*\u001b[0m\u001b[1;33m[\u001b[0m\u001b[0mself\u001b[0m\u001b[1;33m.\u001b[0m\u001b[0mbase\u001b[0m \u001b[1;32mfor\u001b[0m \u001b[0mk\u001b[0m \u001b[1;32min\u001b[0m \u001b[0mrange\u001b[0m\u001b[1;33m(\u001b[0m\u001b[0mself\u001b[0m\u001b[1;33m.\u001b[0m\u001b[0mexp\u001b[0m\u001b[1;33m)\u001b[0m\u001b[1;33m]\u001b[0m\u001b[1;33m)\u001b[0m\u001b[1;33m.\u001b[0m\u001b[0m_entry\u001b[0m\u001b[1;33m(\u001b[0m\u001b[0mi\u001b[0m\u001b[1;33m,\u001b[0m \u001b[0mj\u001b[0m\u001b[1;33m)\u001b[0m\u001b[1;33m\u001b[0m\u001b[0m\n\u001b[0m\u001b[0;32m     30\u001b[0m \u001b[1;33m\u001b[0m\u001b[0m\n\u001b[0;32m     31\u001b[0m \u001b[1;32mfrom\u001b[0m \u001b[0mmatmul\u001b[0m \u001b[1;32mimport\u001b[0m \u001b[0mMatMul\u001b[0m\u001b[1;33m\u001b[0m\u001b[0m\n",
        "\u001b[1;32m/home/choct155/analysis/Anaconda/lib/python2.7/site-packages/sympy/matrices/expressions/matmul.pyc\u001b[0m in \u001b[0;36m_entry\u001b[1;34m(self, i, j, expand)\u001b[0m\n\u001b[0;32m     45\u001b[0m             \u001b[1;32mreturn\u001b[0m \u001b[0mcoeff\u001b[0m \u001b[1;33m*\u001b[0m \u001b[0mmatrices\u001b[0m\u001b[1;33m[\u001b[0m\u001b[1;36m0\u001b[0m\u001b[1;33m]\u001b[0m\u001b[1;33m[\u001b[0m\u001b[0mi\u001b[0m\u001b[1;33m,\u001b[0m \u001b[0mj\u001b[0m\u001b[1;33m]\u001b[0m\u001b[1;33m\u001b[0m\u001b[0m\n\u001b[0;32m     46\u001b[0m \u001b[1;33m\u001b[0m\u001b[0m\n\u001b[1;32m---> 47\u001b[1;33m         \u001b[0mhead\u001b[0m\u001b[1;33m,\u001b[0m \u001b[0mtail\u001b[0m \u001b[1;33m=\u001b[0m \u001b[0mmatrices\u001b[0m\u001b[1;33m[\u001b[0m\u001b[1;36m0\u001b[0m\u001b[1;33m]\u001b[0m\u001b[1;33m,\u001b[0m \u001b[0mmatrices\u001b[0m\u001b[1;33m[\u001b[0m\u001b[1;36m1\u001b[0m\u001b[1;33m:\u001b[0m\u001b[1;33m]\u001b[0m\u001b[1;33m\u001b[0m\u001b[0m\n\u001b[0m\u001b[0;32m     48\u001b[0m         \u001b[1;32massert\u001b[0m \u001b[0mlen\u001b[0m\u001b[1;33m(\u001b[0m\u001b[0mtail\u001b[0m\u001b[1;33m)\u001b[0m \u001b[1;33m!=\u001b[0m \u001b[1;36m0\u001b[0m\u001b[1;33m\u001b[0m\u001b[0m\n\u001b[0;32m     49\u001b[0m \u001b[1;33m\u001b[0m\u001b[0m\n",
        "\u001b[1;31mIndexError\u001b[0m: list index out of range"
       ]
      }
     ],
     "prompt_number": 182
    },
    {
     "cell_type": "code",
     "collapsed": false,
     "input": [
      "from sympy.abc import epsilon\n",
      "e=MatrixSymbol('epsilon',5,1)\n",
      "e.as_explicit()"
     ],
     "language": "python",
     "metadata": {},
     "outputs": [
      {
       "latex": [
        "$$\\left[\\begin{smallmatrix}{}\\epsilon_{0, 0}\\\\\\epsilon_{1, 0}\\\\\\epsilon_{2, 0}\\\\\\epsilon_{3, 0}\\\\\\epsilon_{4, 0}\\end{smallmatrix}\\right]$$"
       ],
       "metadata": {},
       "output_type": "pyout",
       "prompt_number": 199,
       "text": [
        "\u23a1\u03b5\u2080\u2080\u23a4\n",
        "\u23a2   \u23a5\n",
        "\u23a2\u03b5\u2081\u2080\u23a5\n",
        "\u23a2   \u23a5\n",
        "\u23a2\u03b5\u2082\u2080\u23a5\n",
        "\u23a2   \u23a5\n",
        "\u23a2\u03b5\u2083\u2080\u23a5\n",
        "\u23a2   \u23a5\n",
        "\u23a3\u03b5\u2084\u2080\u23a6"
       ]
      }
     ],
     "prompt_number": 199
    },
    {
     "cell_type": "code",
     "collapsed": false,
     "input": [
      "y.as_explict()\n"
     ],
     "language": "python",
     "metadata": {},
     "outputs": [
      {
       "ename": "AttributeError",
       "evalue": "'MatAdd' object has no attribute 'as_explict'",
       "output_type": "pyerr",
       "traceback": [
        "\u001b[1;31m---------------------------------------------------------------------------\u001b[0m\n\u001b[1;31mAttributeError\u001b[0m                            Traceback (most recent call last)",
        "\u001b[1;32m<ipython-input-202-633de1b12ec9>\u001b[0m in \u001b[0;36m<module>\u001b[1;34m()\u001b[0m\n\u001b[1;32m----> 1\u001b[1;33m \u001b[0my\u001b[0m\u001b[1;33m.\u001b[0m\u001b[0mas_explict\u001b[0m\u001b[1;33m(\u001b[0m\u001b[1;33m)\u001b[0m\u001b[1;33m\u001b[0m\u001b[0m\n\u001b[0m",
        "\u001b[1;31mAttributeError\u001b[0m: 'MatAdd' object has no attribute 'as_explict'"
       ]
      }
     ],
     "prompt_number": 202
    }
   ],
   "metadata": {}
  }
 ]
}