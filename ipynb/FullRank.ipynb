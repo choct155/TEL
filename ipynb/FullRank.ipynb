{
 "metadata": {
  "name": ""
 },
 "nbformat": 3,
 "nbformat_minor": 0,
 "worksheets": [
  {
   "cells": [
    {
     "cell_type": "heading",
     "level": 1,
     "metadata": {},
     "source": [
      "Full Rank Assumption"
     ]
    },
    {
     "cell_type": "markdown",
     "metadata": {},
     "source": [
      "This Notebook is just a quick exploration of the importance of full rank.  We are just going to create two DataFrames and explore the dynamics of their squares.  The first DF is just random data, while the second will include the same data and an additional linear scaling of one of the columns.  The only reason I am using pandas at all here is because I am familiar with new column construction in the pandas world.  The actual matrix computations, however, will be in numpy."
     ]
    },
    {
     "cell_type": "code",
     "collapsed": false,
     "input": [
      "import numpy as np\n",
      "import pandas as pd\n",
      "from pandas import Series, DataFrame\n",
      "\n",
      "#Generate full rank DF\n",
      "d1=DataFrame(np.random.rand(16).reshape(4,4))\n",
      "\n",
      "#Generate DF with linear dependence\n",
      "d2=d1.copy()\n",
      "d2[4]=d2[3]*2\n",
      "\n",
      "print d1\n",
      "print d2"
     ],
     "language": "python",
     "metadata": {},
     "outputs": [
      {
       "output_type": "stream",
       "stream": "stdout",
       "text": [
        "          0         1         2         3\n",
        "0  0.906624  0.704318  0.034003  0.784928\n",
        "1  0.174237  0.478334  0.044925  0.628508\n",
        "2  0.226519  0.889015  0.693921  0.343910\n",
        "3  0.581494  0.141591  0.166063  0.186021\n",
        "          0         1         2         3         4\n",
        "0  0.906624  0.704318  0.034003  0.784928  1.569856\n",
        "1  0.174237  0.478334  0.044925  0.628508  1.257016\n",
        "2  0.226519  0.889015  0.693921  0.343910  0.687820\n",
        "3  0.581494  0.141591  0.166063  0.186021  0.372043\n"
       ]
      },
      {
       "output_type": "stream",
       "stream": "stderr",
       "text": [
        "/home/choct155/analysis/Anaconda/lib/python2.7/site-packages/pandas/core/config.py:570: DeprecationWarning: height has been deprecated.\n",
        "\n",
        "  warnings.warn(d.msg, DeprecationWarning)\n",
        "/home/choct155/analysis/Anaconda/lib/python2.7/site-packages/pandas/core/config.py:570: DeprecationWarning: height has been deprecated.\n",
        "\n",
        "  warnings.warn(d.msg, DeprecationWarning)\n"
       ]
      }
     ],
     "prompt_number": 30
    },
    {
     "cell_type": "markdown",
     "metadata": {},
     "source": [
      "What are the squares ($X^TX$) of these two matrices?"
     ]
    },
    {
     "cell_type": "code",
     "collapsed": false,
     "input": [
      "#Define matrices as numpy arrays\n",
      "m1=d1.values\n",
      "m2=d2.values\n",
      "\n",
      "#Compute squares\n",
      "ms1=m1.T.dot(m1)\n",
      "ms2=m2.T.dot(m2)\n",
      "\n",
      "ms1,ms2"
     ],
     "language": "python",
     "metadata": {},
     "outputs": [
      {
       "metadata": {},
       "output_type": "pyout",
       "prompt_number": 21,
       "text": [
        "(array([[ 1.18498379,  1.11665746,  0.91766483,  0.60660351],\n",
        "       [ 1.11665746,  1.61240497,  1.30916767,  0.77867674],\n",
        "       [ 0.91766483,  1.30916767,  1.189011  ,  0.51823404],\n",
        "       [ 0.60660351,  0.77867674,  0.51823404,  0.51145021]]),\n",
        " array([[ 1.18498379,  1.11665746,  0.91766483,  0.60660351,  1.21320701],\n",
        "       [ 1.11665746,  1.61240497,  1.30916767,  0.77867674,  1.55735347],\n",
        "       [ 0.91766483,  1.30916767,  1.189011  ,  0.51823404,  1.03646808],\n",
        "       [ 0.60660351,  0.77867674,  0.51823404,  0.51145021,  1.02290041],\n",
        "       [ 1.21320701,  1.55735347,  1.03646808,  1.02290041,  2.04580082]]))"
       ]
      }
     ],
     "prompt_number": 21
    },
    {
     "cell_type": "markdown",
     "metadata": {},
     "source": [
      "Now, can we invert these guys?"
     ]
    },
    {
     "cell_type": "code",
     "collapsed": false,
     "input": [
      "from numpy.linalg import inv\n",
      "\n",
      "print '***INVERSE OF FULL RANK MATRIX***'\n",
      "print inv(ms1)\n",
      "print '\\n***INVERSE OF LINEARLY DEPENDENT MATRIX***'\n",
      "print inv(ms2)"
     ],
     "language": "python",
     "metadata": {},
     "outputs": [
      {
       "ename": "LinAlgError",
       "evalue": "Singular matrix",
       "output_type": "pyerr",
       "traceback": [
        "\u001b[1;31m---------------------------------------------------------------------------\u001b[0m\n\u001b[1;31mLinAlgError\u001b[0m                               Traceback (most recent call last)",
        "\u001b[1;32m<ipython-input-25-2810a141c6d3>\u001b[0m in \u001b[0;36m<module>\u001b[1;34m()\u001b[0m\n\u001b[0;32m      4\u001b[0m \u001b[1;32mprint\u001b[0m \u001b[0minv\u001b[0m\u001b[1;33m(\u001b[0m\u001b[0mms1\u001b[0m\u001b[1;33m)\u001b[0m\u001b[1;33m\u001b[0m\u001b[0m\n\u001b[0;32m      5\u001b[0m \u001b[1;32mprint\u001b[0m \u001b[1;34m'\\n***INVERSE OF LINEARLY DEPENDENT MATRIX***'\u001b[0m\u001b[1;33m\u001b[0m\u001b[0m\n\u001b[1;32m----> 6\u001b[1;33m \u001b[1;32mprint\u001b[0m \u001b[0minv\u001b[0m\u001b[1;33m(\u001b[0m\u001b[0mms2\u001b[0m\u001b[1;33m)\u001b[0m\u001b[1;33m\u001b[0m\u001b[0m\n\u001b[0m",
        "\u001b[1;32m/home/choct155/analysis/Anaconda/lib/python2.7/site-packages/numpy/linalg/linalg.pyc\u001b[0m in \u001b[0;36minv\u001b[1;34m(a)\u001b[0m\n\u001b[0;32m    443\u001b[0m     \"\"\"\n\u001b[0;32m    444\u001b[0m     \u001b[0ma\u001b[0m\u001b[1;33m,\u001b[0m \u001b[0mwrap\u001b[0m \u001b[1;33m=\u001b[0m \u001b[0m_makearray\u001b[0m\u001b[1;33m(\u001b[0m\u001b[0ma\u001b[0m\u001b[1;33m)\u001b[0m\u001b[1;33m\u001b[0m\u001b[0m\n\u001b[1;32m--> 445\u001b[1;33m     \u001b[1;32mreturn\u001b[0m \u001b[0mwrap\u001b[0m\u001b[1;33m(\u001b[0m\u001b[0msolve\u001b[0m\u001b[1;33m(\u001b[0m\u001b[0ma\u001b[0m\u001b[1;33m,\u001b[0m \u001b[0midentity\u001b[0m\u001b[1;33m(\u001b[0m\u001b[0ma\u001b[0m\u001b[1;33m.\u001b[0m\u001b[0mshape\u001b[0m\u001b[1;33m[\u001b[0m\u001b[1;36m0\u001b[0m\u001b[1;33m]\u001b[0m\u001b[1;33m,\u001b[0m \u001b[0mdtype\u001b[0m\u001b[1;33m=\u001b[0m\u001b[0ma\u001b[0m\u001b[1;33m.\u001b[0m\u001b[0mdtype\u001b[0m\u001b[1;33m)\u001b[0m\u001b[1;33m)\u001b[0m\u001b[1;33m)\u001b[0m\u001b[1;33m\u001b[0m\u001b[0m\n\u001b[0m\u001b[0;32m    446\u001b[0m \u001b[1;33m\u001b[0m\u001b[0m\n\u001b[0;32m    447\u001b[0m \u001b[1;33m\u001b[0m\u001b[0m\n",
        "\u001b[1;32m/home/choct155/analysis/Anaconda/lib/python2.7/site-packages/numpy/linalg/linalg.pyc\u001b[0m in \u001b[0;36msolve\u001b[1;34m(a, b)\u001b[0m\n\u001b[0;32m    326\u001b[0m     \u001b[0mresults\u001b[0m \u001b[1;33m=\u001b[0m \u001b[0mlapack_routine\u001b[0m\u001b[1;33m(\u001b[0m\u001b[0mn_eq\u001b[0m\u001b[1;33m,\u001b[0m \u001b[0mn_rhs\u001b[0m\u001b[1;33m,\u001b[0m \u001b[0ma\u001b[0m\u001b[1;33m,\u001b[0m \u001b[0mn_eq\u001b[0m\u001b[1;33m,\u001b[0m \u001b[0mpivots\u001b[0m\u001b[1;33m,\u001b[0m \u001b[0mb\u001b[0m\u001b[1;33m,\u001b[0m \u001b[0mn_eq\u001b[0m\u001b[1;33m,\u001b[0m \u001b[1;36m0\u001b[0m\u001b[1;33m)\u001b[0m\u001b[1;33m\u001b[0m\u001b[0m\n\u001b[0;32m    327\u001b[0m     \u001b[1;32mif\u001b[0m \u001b[0mresults\u001b[0m\u001b[1;33m[\u001b[0m\u001b[1;34m'info'\u001b[0m\u001b[1;33m]\u001b[0m \u001b[1;33m>\u001b[0m \u001b[1;36m0\u001b[0m\u001b[1;33m:\u001b[0m\u001b[1;33m\u001b[0m\u001b[0m\n\u001b[1;32m--> 328\u001b[1;33m         \u001b[1;32mraise\u001b[0m \u001b[0mLinAlgError\u001b[0m\u001b[1;33m(\u001b[0m\u001b[1;34m'Singular matrix'\u001b[0m\u001b[1;33m)\u001b[0m\u001b[1;33m\u001b[0m\u001b[0m\n\u001b[0m\u001b[0;32m    329\u001b[0m     \u001b[1;32mif\u001b[0m \u001b[0mone_eq\u001b[0m\u001b[1;33m:\u001b[0m\u001b[1;33m\u001b[0m\u001b[0m\n\u001b[0;32m    330\u001b[0m         \u001b[1;32mreturn\u001b[0m \u001b[0mwrap\u001b[0m\u001b[1;33m(\u001b[0m\u001b[0mb\u001b[0m\u001b[1;33m.\u001b[0m\u001b[0mravel\u001b[0m\u001b[1;33m(\u001b[0m\u001b[1;33m)\u001b[0m\u001b[1;33m.\u001b[0m\u001b[0mastype\u001b[0m\u001b[1;33m(\u001b[0m\u001b[0mresult_t\u001b[0m\u001b[1;33m)\u001b[0m\u001b[1;33m)\u001b[0m\u001b[1;33m\u001b[0m\u001b[0m\n",
        "\u001b[1;31mLinAlgError\u001b[0m: Singular matrix"
       ]
      },
      {
       "output_type": "stream",
       "stream": "stdout",
       "text": [
        "***INVERSE OF FULL RANK MATRIX***\n",
        "[[  4.43000871  10.14924233  -9.9737702  -10.60023131]\n",
        " [ 10.14924233  74.96924885 -63.37005428 -61.96665172]\n",
        " [ -9.9737702  -63.37005428  55.70833682  51.86224245]\n",
        " [-10.60023131 -61.96665172  51.86224245  56.32092402]]\n",
        "\n",
        "***INVERSE OF LINEARLY DEPENDENT MATRIX***\n"
       ]
      }
     ],
     "prompt_number": 25
    },
    {
     "cell_type": "markdown",
     "metadata": {},
     "source": [
      "As expected, the linearly dependent matrix would not invert because it is singular.  The real question is, what is the nature of singular matrices?"
     ]
    },
    {
     "cell_type": "code",
     "collapsed": false,
     "input": [
      "dir(np.random)"
     ],
     "language": "python",
     "metadata": {},
     "outputs": [
      {
       "metadata": {},
       "output_type": "pyout",
       "prompt_number": 26,
       "text": [
        "['RandomState',\n",
        " 'Tester',\n",
        " 'WarningManager',\n",
        " '__RandomState_ctor',\n",
        " '__all__',\n",
        " '__builtins__',\n",
        " '__doc__',\n",
        " '__file__',\n",
        " '__name__',\n",
        " '__package__',\n",
        " '__path__',\n",
        " '__warningregistry__',\n",
        " 'bench',\n",
        " 'beta',\n",
        " 'binomial',\n",
        " 'bytes',\n",
        " 'chisquare',\n",
        " 'choice',\n",
        " 'dirichlet',\n",
        " 'exponential',\n",
        " 'f',\n",
        " 'gamma',\n",
        " 'geometric',\n",
        " 'get_state',\n",
        " 'gumbel',\n",
        " 'hypergeometric',\n",
        " 'info',\n",
        " 'laplace',\n",
        " 'logistic',\n",
        " 'lognormal',\n",
        " 'logseries',\n",
        " 'mtrand',\n",
        " 'multinomial',\n",
        " 'multivariate_normal',\n",
        " 'negative_binomial',\n",
        " 'noncentral_chisquare',\n",
        " 'noncentral_f',\n",
        " 'normal',\n",
        " 'np',\n",
        " 'operator',\n",
        " 'pareto',\n",
        " 'permutation',\n",
        " 'poisson',\n",
        " 'power',\n",
        " 'rand',\n",
        " 'randint',\n",
        " 'randn',\n",
        " 'random',\n",
        " 'random_integers',\n",
        " 'random_sample',\n",
        " 'ranf',\n",
        " 'rayleigh',\n",
        " 'sample',\n",
        " 'seed',\n",
        " 'set_state',\n",
        " 'shuffle',\n",
        " 'standard_cauchy',\n",
        " 'standard_exponential',\n",
        " 'standard_gamma',\n",
        " 'standard_normal',\n",
        " 'standard_t',\n",
        " 'test',\n",
        " 'triangular',\n",
        " 'uniform',\n",
        " 'vonmises',\n",
        " 'wald',\n",
        " 'warn_ctx',\n",
        " 'warnings',\n",
        " 'weibull',\n",
        " 'zipf']"
       ]
      }
     ],
     "prompt_number": 26
    }
   ],
   "metadata": {}
  }
 ]
}