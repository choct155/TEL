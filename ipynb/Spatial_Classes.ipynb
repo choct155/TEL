{
 "metadata": {
  "name": "Spatial_Classes"
 },
 "nbformat": 3,
 "nbformat_minor": 0,
 "worksheets": [
  {
   "cells": [
    {
     "cell_type": "heading",
     "level": 1,
     "metadata": {},
     "source": [
      "Spatial Classes"
     ]
    },
    {
     "cell_type": "heading",
     "level": 3,
     "metadata": {},
     "source": [
      "Spatial Objects"
     ]
    },
    {
     "cell_type": "markdown",
     "metadata": {},
     "source": [
      "In sp, spatial classes are hierarchical in nature.  The more specific classes extend those that precede them.  In this script we will consider only vector data classes (points, lines, and polygons) because it is not clear that raster data is yet needed for my research.\n",
      "\n",
      "The foundation class is called 'Spatial'.  First we must enable R usage within the IPython environment..."
     ]
    },
    {
     "cell_type": "code",
     "collapsed": false,
     "input": [
      "import numpy as np\n",
      "import pandas as pd\n",
      "from pandas import Series, DataFrame\n",
      "\n",
      "#Set print width\n",
      "pd.set_option('line_width',140)\n",
      "\n",
      "#Enable R capability\n",
      "%load_ext rmagic \n",
      "\n",
      "#Set working directory (cloned from Github)\n",
      "workdir='/home/choct155/analysis/asdar/asdar/'\n",
      "\n"
     ],
     "language": "python",
     "metadata": {},
     "outputs": [],
     "prompt_number": 56
    },
    {
     "cell_type": "markdown",
     "metadata": {},
     "source": [
      "And now we can use R on a cell by cell basis..."
     ]
    },
    {
     "cell_type": "code",
     "collapsed": false,
     "input": [
      "%%R\n",
      "library(sp)\n",
      "\n",
      "#Set working directory (cloned from Github)\n",
      "workdir<-'/home/choct155/analysis/asdar/asdar/'\n",
      "\n",
      "#Examine Spatial class\n",
      "print(getClass(\"Spatial\"))"
     ],
     "language": "python",
     "metadata": {},
     "outputs": [
      {
       "output_type": "display_data",
       "text": [
        "Class \"Spatial\" [package \"sp\"]\n",
        "\n",
        "Slots:\n",
        "                              \n",
        "Name:         bbox proj4string\n",
        "Class:      matrix         CRS\n",
        "\n",
        "Known Subclasses: \n",
        "Class \"SpatialPoints\", directly\n",
        "Class \"SpatialGrid\", directly\n",
        "Class \"SpatialLines\", directly\n",
        "Class \"SpatialPolygons\", directly\n",
        "Class \"SpatialPointsDataFrame\", by class \"SpatialPoints\", distance 2\n",
        "Class \"SpatialPixels\", by class \"SpatialPoints\", distance 2\n",
        "Class \"SpatialGridDataFrame\", by class \"SpatialGrid\", distance 2\n",
        "Class \"SpatialLinesDataFrame\", by class \"SpatialLines\", distance 2\n",
        "Class \"SpatialPixelsDataFrame\", by class \"SpatialPoints\", distance 3\n",
        "Class \"SpatialPolygonsDataFrame\", by class \"SpatialPolygons\", distance 2\n"
       ]
      }
     ],
     "prompt_number": 57
    },
    {
     "cell_type": "markdown",
     "metadata": {},
     "source": [
      "The basic Spatial class carries only two slots (or class attributes).  The first slot is bbox, which is short for bounding box.  It is a matrix object that has two columns (['min','max']) and at least two rows (['x-axis','y-axis'])."
     ]
    },
    {
     "cell_type": "code",
     "collapsed": false,
     "input": [
      "from pandas import DataFrame\n",
      "import numpy as np\n",
      "\n",
      "#Imaginary value creation\n",
      "a=np.empty((2,2,))\n",
      "a[:]=np.NAN\n",
      "\n",
      "#Bounding Box example creation\n",
      "bbox=DataFrame(a,index=['x_axis','y_axis'], columns=['min','max'])\n",
      "bbox"
     ],
     "language": "python",
     "metadata": {},
     "outputs": [
      {
       "html": [
        "<div style=\"max-height:1000px;max-width:1500px;overflow:auto;\">\n",
        "<table border=\"1\" class=\"dataframe\">\n",
        "  <thead>\n",
        "    <tr style=\"text-align: right;\">\n",
        "      <th></th>\n",
        "      <th>min</th>\n",
        "      <th>max</th>\n",
        "    </tr>\n",
        "  </thead>\n",
        "  <tbody>\n",
        "    <tr>\n",
        "      <th>x_axis</th>\n",
        "      <td>NaN</td>\n",
        "      <td>NaN</td>\n",
        "    </tr>\n",
        "    <tr>\n",
        "      <th>y_axis</th>\n",
        "      <td>NaN</td>\n",
        "      <td>NaN</td>\n",
        "    </tr>\n",
        "  </tbody>\n",
        "</table>\n",
        "</div>"
       ],
       "output_type": "pyout",
       "prompt_number": 58,
       "text": [
        "        min  max\n",
        "x_axis  NaN  NaN\n",
        "y_axis  NaN  NaN"
       ]
      }
     ],
     "prompt_number": 58
    },
    {
     "cell_type": "markdown",
     "metadata": {},
     "source": [
      "The bounding box provides the dimensions of the spatial plotting area.  The second slot, proj4string, refers to the coordinate reference system.  bbox is itself of class matrix, a primary data structure.  proj4string of class CRS, on the other hand, can be explored further..."
     ]
    },
    {
     "cell_type": "code",
     "collapsed": false,
     "input": [
      "%%R\n",
      "\n",
      "print(getClass(\"CRS\"))"
     ],
     "language": "python",
     "metadata": {},
     "outputs": [
      {
       "output_type": "display_data",
       "text": [
        "Class \"CRS\" [package \"sp\"]\n",
        "\n",
        "Slots:\n",
        "                \n",
        "Name:   projargs\n",
        "Class: character\n"
       ]
      }
     ],
     "prompt_number": 59
    },
    {
     "cell_type": "markdown",
     "metadata": {},
     "source": [
      "The CRS slot takes a string as its input (hence the character class).  This string identifies the projection to be used in mapping features.  The input string should in PROJ.4-format.  In the simplest case for geographical coordinates, the input string would be \"+proj=longlat\".  Eastings (longitude) always come before northings (latitude) in sp classes.\n",
      "\n",
      "Equipped with this knowledge, we can build a basic Spatial object.  This need not be done solely in the R environment since we can pass objects between the IPython and R namespaces.  Nevertheless..."
     ]
    },
    {
     "cell_type": "code",
     "collapsed": false,
     "input": [
      "%%R\n",
      "print('***Define Bounding Box***')\n",
      "#Create matrix for bbox\n",
      "m<-matrix(c(0,0,1,1),\n",
      "          ncol=2,\n",
      "          dimnames=list(NULL,c('min','max')))\n",
      "#The null value occupies the space for row values, so min and max can describe columns\n",
      "print(m)\n",
      "\n",
      "cat('\\n')\n",
      "print('***Define CRS Class***')\n",
      "#Define CRS class instance with prescribed input\n",
      "crs<-CRS(projargs=as.character(NA))\n",
      "print(crs)\n",
      "\n",
      "cat('\\n')\n",
      "print('***Define Alternate CRS Class***')\n",
      "#If we wanted to use our projection from above\n",
      "crs2<-CRS(projargs='+proj=longlat')\n",
      "print(crs2)\n",
      "\n",
      "cat('\\n')\n",
      "print('***Capture Slot Definitions in New Spatial Object***')\n",
      "S<-Spatial(bbox=m,proj4string=crs)\n",
      "print(S)"
     ],
     "language": "python",
     "metadata": {},
     "outputs": [
      {
       "output_type": "display_data",
       "text": [
        "[1] \"***Define Bounding Box***\"\n",
        "     min max\n",
        "[1,]   0   1\n",
        "[2,]   0   1\n",
        "\n",
        "[1] \"***Define CRS Class***\"\n",
        "CRS arguments: NA \n",
        "\n",
        "[1] \"***Define Alternate CRS Class***\"\n",
        "CRS arguments: +proj=longlat \n",
        "\n",
        "[1] \"***Capture Slot Definitions in New Spatial Object***\"\n",
        "An object of class \"Spatial\"\n",
        "Slot \"bbox\":\n",
        "     min max\n",
        "[1,]   0   1\n",
        "[2,]   0   1\n",
        "\n",
        "Slot \"proj4string\":\n",
        "CRS arguments: NA \n",
        "\n"
       ]
      }
     ],
     "prompt_number": 60
    },
    {
     "cell_type": "heading",
     "level": 3,
     "metadata": {},
     "source": [
      "SpatialPoints"
     ]
    },
    {
     "cell_type": "markdown",
     "metadata": {},
     "source": [
      "As a consequence of the elliptical nature of the earth, coordinates alone cannot define a location on a sphere exactly.  We must also know which elliptoid model has been used to model the earth (they are not all the same).  Even if we did have a perfect sphere, longitudinal position could not be known without establishing a prime meridian.  Thus, point location requires all three of these elements.\n",
      "\n",
      "To play around with this, we will use the CRAN mirrors data housed on Github..."
     ]
    },
    {
     "cell_type": "code",
     "collapsed": false,
     "input": [
      "%%R -w 850 -h 480 \n",
      "\n",
      "#Set print width\n",
      "options(width = 160)\n",
      "\n",
      "#Read data\n",
      "CRAN_df<-read.table(paste(workdir,'CRAN051001a.txt',sep=\"\"),header=TRUE)\n",
      "print(CRAN_df)"
     ],
     "language": "python",
     "metadata": {},
     "outputs": [
      {
       "output_type": "display_data",
       "text": [
        "             place   north     east                    loc         long       lat\n",
        "1         Brisbane 27d28'S 153d02'E              Australia  153.0333333 -27.46667\n",
        "2        Melbourne 37d49'S 144d58'E              Australia  144.9666667 -37.81667\n",
        "3             Wien 48d13'N  16d20'E                Austria   16.3333333  48.21667\n",
        "4         Curitiba 25d25'S  49d16'W                 Brazil  -49.2666667 -25.41667\n",
        "5        Vi\\xe7oza 20d45'S  42d52'W                 Brazil  -42.8666667 -20.75000\n",
        "6   Rio de Janeiro 22d54'S  43d12'W                 Brazil  -43.2000000 -22.90000\n",
        "7       Piracicaba 22d43'S  47d38'W                 Brazil  -47.6333333 -22.71667\n",
        "8     Sa\\xf5 Paulo 23d32'S  46d38'W                 Brazil  -46.6333333 -23.53333\n",
        "9          Burnaby 49d15'N 122d57'W British Columbia (CAN) -122.9500000  49.25000\n",
        "10         Toronto 43d39'N  79d23'W          Ontario (CAN)  -79.3833333  43.65000\n",
        "11         Nanjing 32d03'N 118d47'E                  China  118.7833333  32.05000\n",
        "12         Aalborg 57d03'N   9d56'E                Denmark    9.9333333  57.05000\n",
        "13        Toulouse 43d36'N   1d26'E                 France    1.4333333  43.60000\n",
        "14            Lyon 45d45'N   4d51'E                 France    4.8500000  45.75000\n",
        "15           Paris 48d52'N   2d20'E                 France    2.3333333  48.86667\n",
        "16          Berlin 52d30'N  13d22'E                Germany   13.3666667  52.50000\n",
        "17         Hamburg 53d33'N   9d59'E                Germany    9.9833333  53.55000\n",
        "18         K\\xf6ln 50d56'N   6d59'E                Germany    6.9833333  50.93333\n",
        "19           Mainz 50d01'N   8d16'E                Germany    8.2666667  50.01667\n",
        "20      M\\xfcnchen 48d08'N  11d34'E                Germany   11.5666667  48.13333\n",
        "21        Budapest 47d30'N  19d05'E                Hungary   19.0833333  47.50000\n",
        "22          Arezzo 43d25'N  11d53'E                  Italy   11.8833333  43.41667\n",
        "23         Ferrara 44d50'N  11d35'E                  Italy   11.5833333  44.83333\n",
        "24          Milano 45d28'N   9d12'E                  Italy    9.2000000  45.46667\n",
        "25         Palermo 38d07'N  13d22'E                  Italy   13.3666667  38.11667\n",
        "26            Aizu 37d30'N 139d56'E                  Japan  139.9333333  37.50000\n",
        "27         Tsukuba 36d13'N 140d06'E                  Japan  140.1000000  36.21667\n",
        "28           Seoul 37d33'N 126d58'E                  Korea  126.9666667  37.55000\n",
        "29          Lublin 51d15'N  22d35'E                 Poland   22.5833333  51.25000\n",
        "30         Wroclaw 51d06'N   17d0'E                 Poland   17.0000000  51.10000\n",
        "31           Porto 41d11'N   8d36'W               Portugal   -8.6000000  41.18333\n",
        "32         Besnica 46d02'N  14d49'E               Slovenia   14.8166667  46.03333\n",
        "33       Ljubljana 46d03'N  14d31'E               Slovenia   14.5166667  46.05000\n",
        "34       Cape Town 33d55'S  18d22'E           South Africa   18.3666667 -33.91667\n",
        "35     Grahamstown 33d19'S  26d31'E           South Africa   26.5166667 -33.31667\n",
        "36          Madrid 40d24'N   3d41'W                  Spain   -3.6833333  40.40000\n",
        "37       Z\\xfcrich 47d23'N   8d32'E            Switzerland    8.5333333  47.38333\n",
        "38            Bern 46d57'N   7d26'E            Switzerland    7.4333333  46.95000\n",
        "39            Bern 46d57'N   7d26'E            Switzerland    7.4333333  46.95000\n",
        "40        Istanbul 41d01'N  28d58'E                 Turkey   28.9666667  41.01667\n",
        "41        Taichung 24d09'N 120d41'E                 Taiwan  120.6833333  24.15000\n",
        "42          Taipei 25d03'N 121d31'E                 Taiwan  121.5166667  25.05000\n",
        "43         Bristol 51d27'N   2d35'W                England   -2.5833333  51.45000\n",
        "44          London 51d30'N   0d10'W                England   -0.1666667  51.50000\n",
        "45    Berkeley, CA 37d52'N 122d16'W             California -122.2666667  37.86667\n",
        "46 Los Angeles, CA 34d03'N 118d15'W             California -118.2500000  34.05000\n",
        "47        Ames, IA 42d02'N  93d37'W                   Iowa  -93.6166667  42.03333\n",
        "48    Houghton, MI 47d07'N  88d34'W               Michigan  -88.5666667  47.11667\n",
        "49   St. Louis, MO 38d38'N  90d12'W               Missouri  -90.2000000  38.63333\n",
        "50 Chapel Hill, NC 35d55'N  79d03'W         North Carolina  -79.0500000  35.91667\n",
        "51  Pittsburgh, PA 40d26'N   80d0'W           Pennsylvania  -80.0000000  40.43333\n",
        "52  Pittsburgh, PA 40d26'N   80d0'W           Pennsylvania  -80.0000000  40.43333\n",
        "53      Dallas, TX 32d47'N  96d48'W                  Texas  -96.8000000  32.78333\n",
        "54     Seattle, WA 47d36'N 122d20'W             Washington -122.3333333  47.60000\n"
       ]
      }
     ],
     "prompt_number": 70
    },
    {
     "cell_type": "markdown",
     "metadata": {},
     "source": [
      "We can construct the coordinate matrix from the lat and long variables."
     ]
    },
    {
     "cell_type": "code",
     "collapsed": false,
     "input": [
      "%%R\n",
      "\n",
      "#Subset to long and lat colums\n",
      "CRAN_mat<-cbind(CRAN_df$long,CRAN_df$lat)\n",
      "\n",
      "#Create index for row names\n",
      "row.names(CRAN_df)<-1:nrow(CRAN_mat)\n",
      "\n",
      "#Examine structure of new coord matrix\n",
      "str(CRAN_mat)"
     ],
     "language": "python",
     "metadata": {},
     "outputs": [
      {
       "output_type": "display_data",
       "text": [
        " num [1:54, 1:2] 153 145 16.3 -49.3 -42.9 ...\n"
       ]
      }
     ],
     "prompt_number": 73
    },
    {
     "cell_type": "markdown",
     "metadata": {},
     "source": [
      "We will also need, as may be guessed, a projection.  Note that we are also specifying an elliptoid model."
     ]
    },
    {
     "cell_type": "code",
     "collapsed": false,
     "input": [
      "%%R\n",
      "\n",
      "#Establish coordinate reference system\n",
      "llCRS<-CRS('+proj=longlat +ellps=WGS84')"
     ],
     "language": "python",
     "metadata": {},
     "outputs": [],
     "prompt_number": 74
    },
    {
     "cell_type": "markdown",
     "metadata": {},
     "source": [
      "Now with the appropriate components, let's look at the requirements for SpatialPoints..."
     ]
    },
    {
     "cell_type": "code",
     "collapsed": false,
     "input": [
      "%%R\n",
      "\n",
      "print(getClass('SpatialPoints'))"
     ],
     "language": "python",
     "metadata": {},
     "outputs": [
      {
       "output_type": "display_data",
       "text": [
        "Class \"SpatialPoints\" [package \"sp\"]\n",
        "\n",
        "Slots:\n",
        "                                          \n",
        "Name:       coords        bbox proj4string\n",
        "Class:      matrix      matrix         CRS\n",
        "\n",
        "Extends: \"Spatial\"\n",
        "\n",
        "Known Subclasses: \n",
        "Class \"SpatialPointsDataFrame\", directly\n",
        "Class \"SpatialPixels\", directly\n",
        "Class \"SpatialPixelsDataFrame\", by class \"SpatialPixels\", distance 2\n"
       ]
      }
     ],
     "prompt_number": 78
    },
    {
     "cell_type": "markdown",
     "metadata": {},
     "source": [
      "We can see that there are now three slots.  **bbox** and **proj4string** remain from the foundational Spatial object.  SpatialPoints, however, also includes a **coords** slot.  Applying the above coordinates and projection to a new SpatialPoints object gives us something to explore."
     ]
    },
    {
     "cell_type": "code",
     "collapsed": false,
     "input": [
      "%%R\n",
      "\n",
      "#Create new Points object\n",
      "CRAN_sp<-SpatialPoints(CRAN_mat,proj4string=llCRS)\n",
      "\n",
      "#Examine object\n",
      "print(summary(CRAN_sp))"
     ],
     "language": "python",
     "metadata": {},
     "outputs": [
      {
       "output_type": "display_data",
       "text": [
        "Object of class SpatialPoints\n",
        "Coordinates:\n",
        "                 min      max\n",
        "coords.x1 -122.95000 153.0333\n",
        "coords.x2  -37.81667  57.0500\n",
        "Is projected: FALSE \n",
        "proj4string : [+proj=longlat +ellps=WGS84]\n",
        "Number of points: 54\n"
       ]
      }
     ],
     "prompt_number": 81
    },
    {
     "cell_type": "markdown",
     "metadata": {},
     "source": [
      "Note that we did not have to explicitly enter a **bbox** argument.  The object determined its own plot boundaries from the coordinate matrix.  The summary also tells us whether it is projected (it is not because we are using 'longlat'), the argument provided in the **proj4string** slot, and the number of points.  Note that there is no SpatialPoint class, SpatialPoints can handle one point at a time.\n",
      "\n",
      "If we want to examine the slots of an object one at a time, we can call the slot names as methods.  (Note **coords** is called by *coordinates*.)  This also works on subsets, and we can also use methods to change the value of slots..."
     ]
    },
    {
     "cell_type": "code",
     "collapsed": false,
     "input": [
      "%%R\n",
      "\n",
      "#Examine bbox\n",
      "print(bbox(CRAN_sp))\n",
      "cat('\\n')\n",
      "\n",
      "#Examine coordinate\n",
      "print(coordinates(CRAN_sp))\n",
      "cat('\\n')\n",
      "\n",
      "#Alter coordinate reference system\n",
      "proj4string(CRAN_sp)<-CRS(as.character(NA))\n",
      "print('The new, but temporary, CRS is:')\n",
      "print(proj4string(CRAN_sp))\n",
      "cat('\\n')\n",
      "\n",
      "#Fix coordinate reference system\n",
      "proj4string(CRAN_sp)<-llCRS"
     ],
     "language": "python",
     "metadata": {},
     "outputs": [
      {
       "output_type": "display_data",
       "text": [
        "                 min      max\n",
        "coords.x1 -122.95000 153.0333\n",
        "coords.x2  -37.81667  57.0500\n",
        "\n",
        "         coords.x1 coords.x2\n",
        " [1,]  153.0333333 -27.46667\n",
        " [2,]  144.9666667 -37.81667\n",
        " [3,]   16.3333333  48.21667\n",
        " [4,]  -49.2666667 -25.41667\n",
        " [5,]  -42.8666667 -20.75000\n",
        " [6,]  -43.2000000 -22.90000\n",
        " [7,]  -47.6333333 -22.71667\n",
        " [8,]  -46.6333333 -23.53333\n",
        " [9,] -122.9500000  49.25000\n",
        "[10,]  -79.3833333  43.65000\n",
        "[11,]  118.7833333  32.05000\n",
        "[12,]    9.9333333  57.05000\n",
        "[13,]    1.4333333  43.60000\n",
        "[14,]    4.8500000  45.75000\n",
        "[15,]    2.3333333  48.86667\n",
        "[16,]   13.3666667  52.50000\n",
        "[17,]    9.9833333  53.55000\n",
        "[18,]    6.9833333  50.93333\n",
        "[19,]    8.2666667  50.01667\n",
        "[20,]   11.5666667  48.13333\n",
        "[21,]   19.0833333  47.50000\n",
        "[22,]   11.8833333  43.41667\n",
        "[23,]   11.5833333  44.83333\n",
        "[24,]    9.2000000  45.46667\n",
        "[25,]   13.3666667  38.11667\n",
        "[26,]  139.9333333  37.50000\n",
        "[27,]  140.1000000  36.21667\n",
        "[28,]  126.9666667  37.55000\n",
        "[29,]   22.5833333  51.25000\n",
        "[30,]   17.0000000  51.10000\n",
        "[31,]   -8.6000000  41.18333\n",
        "[32,]   14.8166667  46.03333\n",
        "[33,]   14.5166667  46.05000\n",
        "[34,]   18.3666667 -33.91667\n",
        "[35,]   26.5166667 -33.31667\n",
        "[36,]   -3.6833333  40.40000\n",
        "[37,]    8.5333333  47.38333\n",
        "[38,]    7.4333333  46.95000\n",
        "[39,]    7.4333333  46.95000\n",
        "[40,]   28.9666667  41.01667\n",
        "[41,]  120.6833333  24.15000\n",
        "[42,]  121.5166667  25.05000\n",
        "[43,]   -2.5833333  51.45000\n",
        "[44,]   -0.1666667  51.50000\n",
        "[45,] -122.2666667  37.86667\n",
        "[46,] -118.2500000  34.05000\n",
        "[47,]  -93.6166667  42.03333\n",
        "[48,]  -88.5666667  47.11667\n",
        "[49,]  -90.2000000  38.63333\n",
        "[50,]  -79.0500000  35.91667\n",
        "[51,]  -80.0000000  40.43333\n",
        "[52,]  -80.0000000  40.43333\n",
        "[53,]  -96.8000000  32.78333\n",
        "[54,] -122.3333333  47.60000\n",
        "\n",
        "[1] \"The new, but temporary, CRS is:\"\n",
        "[1] NA\n",
        "\n"
       ]
      }
     ],
     "prompt_number": 92
    },
    {
     "cell_type": "markdown",
     "metadata": {},
     "source": [
      "If we want to work with the data more easily, or integrate information from different sources, we need to get to a general data.frame format.  The class that captures this behavior is the remarkably original SpatialPointsDataFrame.  To build an SPDF, we need to ensure that the rows coordinate matrix are appropriately coupled with the rows of the data.frame.  One way to get there is to make sure that the *match.ID* argument is toggled to TRUE, and the row names in the matrix correspond to row names in the data.frame."
     ]
    },
    {
     "cell_type": "code",
     "collapsed": false,
     "input": [
      "%%R\n",
      "\n",
      "#Peek at components to be combined\n",
      "print(head(CRAN_mat))\n",
      "print(head(CRAN_df))\n",
      "\n",
      "#Construct SpatialPointsDataFrame\n",
      "CRAN_spdf1<-SpatialPointsDataFrame(CRAN_mat,CRAN_df,proj4string=llCRS,match.ID=TRUE)\n",
      "print(CRAN_spdf1)"
     ],
     "language": "python",
     "metadata": {},
     "outputs": [
      {
       "output_type": "display_data",
       "text": [
        "          [,1]      [,2]\n",
        "[1,] 153.03333 -27.46667\n",
        "[2,] 144.96667 -37.81667\n",
        "[3,]  16.33333  48.21667\n",
        "[4,] -49.26667 -25.41667\n",
        "[5,] -42.86667 -20.75000\n",
        "[6,] -43.20000 -22.90000\n",
        "           place   north     east       loc      long       lat\n",
        "1       Brisbane 27d28'S 153d02'E Australia 153.03333 -27.46667\n",
        "2      Melbourne 37d49'S 144d58'E Australia 144.96667 -37.81667\n",
        "3           Wien 48d13'N  16d20'E   Austria  16.33333  48.21667\n",
        "4       Curitiba 25d25'S  49d16'W    Brazil -49.26667 -25.41667\n",
        "5      Vi\\xe7oza 20d45'S  42d52'W    Brazil -42.86667 -20.75000\n",
        "6 Rio de Janeiro 22d54'S  43d12'W    Brazil -43.20000 -22.90000\n",
        "            coordinates           place   north     east                    loc         long       lat\n",
        "1   (153.033, -27.4667)        Brisbane 27d28'S 153d02'E              Australia  153.0333333 -27.46667\n",
        "2   (144.967, -37.8167)       Melbourne 37d49'S 144d58'E              Australia  144.9666667 -37.81667\n",
        "3    (16.3333, 48.2167)            Wien 48d13'N  16d20'E                Austria   16.3333333  48.21667\n",
        "4  (-49.2667, -25.4167)        Curitiba 25d25'S  49d16'W                 Brazil  -49.2666667 -25.41667\n",
        "5    (-42.8667, -20.75)       Vi\\xe7oza 20d45'S  42d52'W                 Brazil  -42.8666667 -20.75000\n",
        "6        (-43.2, -22.9)  Rio de Janeiro 22d54'S  43d12'W                 Brazil  -43.2000000 -22.90000\n",
        "7  (-47.6333, -22.7167)      Piracicaba 22d43'S  47d38'W                 Brazil  -47.6333333 -22.71667\n",
        "8  (-46.6333, -23.5333)    Sa\\xf5 Paulo 23d32'S  46d38'W                 Brazil  -46.6333333 -23.53333\n",
        "9      (-122.95, 49.25)         Burnaby 49d15'N 122d57'W British Columbia (CAN) -122.9500000  49.25000\n",
        "10    (-79.3833, 43.65)         Toronto 43d39'N  79d23'W          Ontario (CAN)  -79.3833333  43.65000\n",
        "11     (118.783, 32.05)         Nanjing 32d03'N 118d47'E                  China  118.7833333  32.05000\n",
        "12     (9.93333, 57.05)         Aalborg 57d03'N   9d56'E                Denmark    9.9333333  57.05000\n",
        "13      (1.43333, 43.6)        Toulouse 43d36'N   1d26'E                 France    1.4333333  43.60000\n",
        "14        (4.85, 45.75)            Lyon 45d45'N   4d51'E                 France    4.8500000  45.75000\n",
        "15   (2.33333, 48.8667)           Paris 48d52'N   2d20'E                 France    2.3333333  48.86667\n",
        "16      (13.3667, 52.5)          Berlin 52d30'N  13d22'E                Germany   13.3666667  52.50000\n",
        "17     (9.98333, 53.55)         Hamburg 53d33'N   9d59'E                Germany    9.9833333  53.55000\n",
        "18   (6.98333, 50.9333)         K\\xf6ln 50d56'N   6d59'E                Germany    6.9833333  50.93333\n",
        "19   (8.26667, 50.0167)           Mainz 50d01'N   8d16'E                Germany    8.2666667  50.01667\n",
        "20   (11.5667, 48.1333)      M\\xfcnchen 48d08'N  11d34'E                Germany   11.5666667  48.13333\n",
        "21      (19.0833, 47.5)        Budapest 47d30'N  19d05'E                Hungary   19.0833333  47.50000\n",
        "22   (11.8833, 43.4167)          Arezzo 43d25'N  11d53'E                  Italy   11.8833333  43.41667\n",
        "23   (11.5833, 44.8333)         Ferrara 44d50'N  11d35'E                  Italy   11.5833333  44.83333\n",
        "24       (9.2, 45.4667)          Milano 45d28'N   9d12'E                  Italy    9.2000000  45.46667\n",
        "25   (13.3667, 38.1167)         Palermo 38d07'N  13d22'E                  Italy   13.3666667  38.11667\n",
        "26      (139.933, 37.5)            Aizu 37d30'N 139d56'E                  Japan  139.9333333  37.50000\n",
        "27     (140.1, 36.2167)         Tsukuba 36d13'N 140d06'E                  Japan  140.1000000  36.21667\n",
        "28     (126.967, 37.55)           Seoul 37d33'N 126d58'E                  Korea  126.9666667  37.55000\n",
        "29     (22.5833, 51.25)          Lublin 51d15'N  22d35'E                 Poland   22.5833333  51.25000\n",
        "30           (17, 51.1)         Wroclaw 51d06'N   17d0'E                 Poland   17.0000000  51.10000\n",
        "31      (-8.6, 41.1833)           Porto 41d11'N   8d36'W               Portugal   -8.6000000  41.18333\n",
        "32   (14.8167, 46.0333)         Besnica 46d02'N  14d49'E               Slovenia   14.8166667  46.03333\n",
        "33     (14.5167, 46.05)       Ljubljana 46d03'N  14d31'E               Slovenia   14.5166667  46.05000\n",
        "34  (18.3667, -33.9167)       Cape Town 33d55'S  18d22'E           South Africa   18.3666667 -33.91667\n",
        "35  (26.5167, -33.3167)     Grahamstown 33d19'S  26d31'E           South Africa   26.5166667 -33.31667\n",
        "36     (-3.68333, 40.4)          Madrid 40d24'N   3d41'W                  Spain   -3.6833333  40.40000\n",
        "37   (8.53333, 47.3833)       Z\\xfcrich 47d23'N   8d32'E            Switzerland    8.5333333  47.38333\n",
        "38     (7.43333, 46.95)            Bern 46d57'N   7d26'E            Switzerland    7.4333333  46.95000\n",
        "39     (7.43333, 46.95)            Bern 46d57'N   7d26'E            Switzerland    7.4333333  46.95000\n",
        "40   (28.9667, 41.0167)        Istanbul 41d01'N  28d58'E                 Turkey   28.9666667  41.01667\n",
        "41     (120.683, 24.15)        Taichung 24d09'N 120d41'E                 Taiwan  120.6833333  24.15000\n",
        "42     (121.517, 25.05)          Taipei 25d03'N 121d31'E                 Taiwan  121.5166667  25.05000\n",
        "43    (-2.58333, 51.45)         Bristol 51d27'N   2d35'W                England   -2.5833333  51.45000\n",
        "44    (-0.166667, 51.5)          London 51d30'N   0d10'W                England   -0.1666667  51.50000\n",
        "45  (-122.267, 37.8667)    Berkeley, CA 37d52'N 122d16'W             California -122.2666667  37.86667\n",
        "46     (-118.25, 34.05) Los Angeles, CA 34d03'N 118d15'W             California -118.2500000  34.05000\n",
        "47  (-93.6167, 42.0333)        Ames, IA 42d02'N  93d37'W                   Iowa  -93.6166667  42.03333\n",
        "48  (-88.5667, 47.1167)    Houghton, MI 47d07'N  88d34'W               Michigan  -88.5666667  47.11667\n",
        "49     (-90.2, 38.6333)   St. Louis, MO 38d38'N  90d12'W               Missouri  -90.2000000  38.63333\n",
        "50    (-79.05, 35.9167) Chapel Hill, NC 35d55'N  79d03'W         North Carolina  -79.0500000  35.91667\n",
        "51       (-80, 40.4333)  Pittsburgh, PA 40d26'N   80d0'W           Pennsylvania  -80.0000000  40.43333\n",
        "52       (-80, 40.4333)  Pittsburgh, PA 40d26'N   80d0'W           Pennsylvania  -80.0000000  40.43333\n",
        "53     (-96.8, 32.7833)      Dallas, TX 32d47'N  96d48'W                  Texas  -96.8000000  32.78333\n",
        "54     (-122.333, 47.6)     Seattle, WA 47d36'N 122d20'W             Washington -122.3333333  47.60000\n"
       ]
      }
     ],
     "prompt_number": 99
    },
    {
     "cell_type": "markdown",
     "metadata": {},
     "source": [
      "We can also pass a SpatialPoints object as the first argument, or assign directly to a data.frame, to get there."
     ]
    },
    {
     "cell_type": "code",
     "collapsed": false,
     "input": [
      "%%R\n",
      "\n",
      "#Generate equivalent SPDFs\n",
      "CRAN_spdf2<-SpatialPointsDataFrame(CRAN_sp,CRAN_df)\n",
      "\n",
      "CRAN_df0<-CRAN_df\n",
      "coordinates(CRAN_df0)<-CRAN_mat\n",
      "proj4string(CRAN_df0)<-llCRS\n",
      "\n",
      "#Check equivalency\n",
      "print(all.equal(CRAN_spdf1,CRAN_spdf2))\n",
      "print(all.equal(CRAN_spdf1,CRAN_df0))"
     ],
     "language": "python",
     "metadata": {},
     "outputs": [
      {
       "output_type": "display_data",
       "text": [
        "[1] TRUE\n",
        "[1] TRUE\n"
       ]
      }
     ],
     "prompt_number": 105
    },
    {
     "cell_type": "markdown",
     "metadata": {},
     "source": [
      "Just for consistency..."
     ]
    },
    {
     "cell_type": "code",
     "collapsed": false,
     "input": [
      "%%R\n",
      "\n",
      "print(getClass(\"SpatialPointsDataFrame\"))"
     ],
     "language": "python",
     "metadata": {},
     "outputs": [
      {
       "output_type": "display_data",
       "text": [
        "Class \"SpatialPointsDataFrame\" [package \"sp\"]\n",
        "\n",
        "Slots:\n",
        "                                                                  \n",
        "Name:         data  coords.nrs      coords        bbox proj4string\n",
        "Class:  data.frame     numeric      matrix      matrix         CRS\n",
        "\n",
        "Extends: \n",
        "Class \"SpatialPoints\", directly\n",
        "Class \"Spatial\", by class \"SpatialPoints\", distance 2\n",
        "\n",
        "Known Subclasses: \n",
        "Class \"SpatialPixelsDataFrame\", directly, with explicit coerce\n"
       ]
      }
     ],
     "prompt_number": 106
    },
    {
     "cell_type": "heading",
     "level": 3,
     "metadata": {},
     "source": [
      "SpatialLines"
     ]
    },
    {
     "cell_type": "markdown",
     "metadata": {},
     "source": [
      "Construction of lines in sp is a multi-stage process.  The basic object, **line**, is represented as a series of coordinates."
     ]
    },
    {
     "cell_type": "code",
     "collapsed": false,
     "input": [
      "%%R\n",
      "\n",
      "print(getClass(\"Line\"))"
     ],
     "language": "python",
     "metadata": {},
     "outputs": [
      {
       "output_type": "display_data",
       "text": [
        "Class \"Line\" [package \"sp\"]\n",
        "\n",
        "Slots:\n",
        "             \n",
        "Name:  coords\n",
        "Class: matrix\n",
        "\n",
        "Known Subclasses: \"Polygon\"\n"
       ]
      }
     ],
     "prompt_number": 108
    },
    {
     "cell_type": "markdown",
     "metadata": {},
     "source": [
      "These lines are then aggregated into lists of line objects called **Lines**."
     ]
    },
    {
     "cell_type": "code",
     "collapsed": false,
     "input": [
      "%%R\n",
      "\n",
      "print(getClass(\"Lines\"))"
     ],
     "language": "python",
     "metadata": {},
     "outputs": [
      {
       "output_type": "display_data",
       "text": [
        "Class \"Lines\" [package \"sp\"]\n",
        "\n",
        "Slots:\n",
        "                          \n",
        "Name:      Lines        ID\n",
        "Class:      list character\n"
       ]
      }
     ],
     "prompt_number": 109
    },
    {
     "cell_type": "markdown",
     "metadata": {},
     "source": [
      "And it is this list of **Line** objects, or single **Lines** object, that fits into the **lines** slot in a SpatialLines object."
     ]
    },
    {
     "cell_type": "code",
     "collapsed": false,
     "input": [
      "%%R\n",
      "\n",
      "print(getClass(\"SpatialLines\"))"
     ],
     "language": "python",
     "metadata": {},
     "outputs": [
      {
       "output_type": "display_data",
       "text": [
        "Class \"SpatialLines\" [package \"sp\"]\n",
        "\n",
        "Slots:\n",
        "                                          \n",
        "Name:        lines        bbox proj4string\n",
        "Class:        list      matrix         CRS\n",
        "\n",
        "Extends: \"Spatial\"\n",
        "\n",
        "Known Subclasses: \"SpatialLinesDataFrame\"\n"
       ]
      }
     ],
     "prompt_number": 111
    },
    {
     "cell_type": "markdown",
     "metadata": {},
     "source": [
      "Note that neither **Line** nor **Lines** objects inherit from Spatial objects.  They are solely inputs into SpatialLines objects, which *do*, in fact, inherit both **bbox** and **proj4string** slots from Spatial objects.\n",
      "\n",
      "We can examine this object in action by leveraging the map2SpatialLines function in the maptools library."
     ]
    },
    {
     "cell_type": "code",
     "collapsed": false,
     "input": [
      "%%R\n",
      "library(maps)\n",
      "library(maptools)\n",
      "\n",
      "japan<-map('world','japan')"
     ],
     "language": "python",
     "metadata": {},
     "outputs": [
      {
       "output_type": "display_data",
       "png": "[encoded data removed]"
      }
     ],
     "prompt_number": 118
    },
    {
     "cell_type": "markdown",
     "metadata": {},
     "source": [
      "We are literally going to grab the boundaries as Lines objects and park them in a SpatialLines objects."
     ]
    },
    {
     "cell_type": "code",
     "collapsed": false,
     "input": [
      "%%R\n",
      "\n",
      "#Set coordinate reference system\n",
      "p4s<-CRS('+proj=longlat +ellps=WGS84')\n",
      "\n",
      "#Migrate map boundaries into SpatialLines object\n",
      "SLjapan<-map2SpatialLines(japan,proj4string=p4s)\n",
      "\n",
      "#Examine contents of new object (lengthy output, but it grabbed 51 lines)\n",
      "#print(str(SLjapan))"
     ],
     "language": "python",
     "metadata": {},
     "outputs": [],
     "prompt_number": 125
    },
    {
     "cell_type": "markdown",
     "metadata": {},
     "source": [
      "The output shows hierarchically nested **Line** and **Lines** objects.  If we want to get at particular pieces of information (like counts), we can use sapply to find the lengths of given objects.  The following code goes to each **Lines** object in the **lines** slot of SLjapan (a SpatialLines object), and asks how many **Line** objects it contains.  (Enough lines for you...?)"
     ]
    },
    {
     "cell_type": "code",
     "collapsed": false,
     "input": [
      "%%R \n",
      "\n",
      "#Extract lengths of each Lines object in the lines slot\n",
      "Lines_len<-sapply(slot(SLjapan,\"lines\"),\n",
      "                  function(x) length(slot(x,\"Lines\")))\n",
      "\n",
      "#Output to a table\n",
      "print(table(Lines_len))"
     ],
     "language": "python",
     "metadata": {},
     "outputs": [
      {
       "output_type": "display_data",
       "text": [
        "Lines_len\n",
        " 1 \n",
        "51 \n"
       ]
      }
     ],
     "prompt_number": 127
    },
    {
     "cell_type": "markdown",
     "metadata": {},
     "source": [
      "This tells us that each of the 51 **Lines** objects contains one **Line** object.  In any event, we can also read Mapgen format into SpatialLines objects."
     ]
    },
    {
     "cell_type": "heading",
     "level": 3,
     "metadata": {},
     "source": [
      "SpatialPolgons"
     ]
    },
    {
     "cell_type": "markdown",
     "metadata": {},
     "source": [
      "SpatialPolygon objects are much like lines with respect to construction.  The base object is of class **Polygon**."
     ]
    },
    {
     "cell_type": "code",
     "collapsed": false,
     "input": [
      "%%R\n",
      "\n",
      "print(getClass(\"Polygon\"))"
     ],
     "language": "python",
     "metadata": {},
     "outputs": [
      {
       "output_type": "display_data",
       "text": [
        "Class \"Polygon\" [package \"sp\"]\n",
        "\n",
        "Slots:\n",
        "                                              \n",
        "Name:    labpt    area    hole ringDir  coords\n",
        "Class: numeric numeric logical integer  matrix\n",
        "\n",
        "Extends: \"Line\"\n"
       ]
      }
     ],
     "prompt_number": 130
    },
    {
     "cell_type": "markdown",
     "metadata": {},
     "source": [
      "The **Polygon** class actually extends the **Line** class, as evidence by its possession of a **coords** slot that takes matrix inputs.  The difference is the addition of four more classes:\n",
      ">1. **labpt** - label point, taken as the centroid of the polygon\n",
      "\n",
      ">2. **area** - the are of the polygon measured in the same metric as the coordinates\n",
      "\n",
      ">3. **hole** - declaration of the presence of holes (defaults to NA)\n",
      "\n",
      ">4. **ringDir** - a path related characteristic indicating the order in which coordinate points should be connected\n",
      "\n",
      "It should be noted that there is no check for crossing lines or other polygon errors.\n",
      "\n",
      "The **Polygons** class contains a list of valid **Polygon** objects."
     ]
    },
    {
     "cell_type": "code",
     "collapsed": false,
     "input": [
      "%%R \n",
      "\n",
      "print(getClass(\"Polygons\"))"
     ],
     "language": "python",
     "metadata": {},
     "outputs": [
      {
       "output_type": "display_data",
       "text": [
        "Class \"Polygons\" [package \"sp\"]\n",
        "\n",
        "Slots:\n",
        "                                                        \n",
        "Name:   Polygons plotOrder     labpt        ID      area\n",
        "Class:      list   integer   numeric character   numeric\n"
       ]
      }
     ],
     "prompt_number": 131
    },
    {
     "cell_type": "markdown",
     "metadata": {},
     "source": [
      "Just as **Lines** is a list container for **Line** objects, **Polygons** is a list container for **Polygon** objects.  **Polygons** also contain the following slots:\n",
      ">1. **ID** - just as with **Lines**, this is a vector of strings identifying individual **Polygon** objects\n",
      "\n",
      ">2. **labpt** - in this case identifies the label point of constituent **Polygon** with the largest area\n",
      "\n",
      ">3. **plotOrder** - a helper slot to facilitate plotting with R graphics\n",
      "\n",
      ">4. **area** - the cumulative sum of all **Polygon** areas\n",
      "\n",
      "The **SpatialPolygon** class couples a list of **Polygons** objects with the basic **Spatial** object slots of **bbox** and **proj4string** (and a helper slot for plotting order)."
     ]
    },
    {
     "cell_type": "code",
     "collapsed": false,
     "input": [
      "%%R\n",
      "\n",
      "print(getClass(\"SpatialPolygons\"))"
     ],
     "language": "python",
     "metadata": {},
     "outputs": [
      {
       "output_type": "display_data",
       "text": [
        "Class \"SpatialPolygons\" [package \"sp\"]\n",
        "\n",
        "Slots:\n",
        "                                                      \n",
        "Name:     polygons   plotOrder        bbox proj4string\n",
        "Class:        list     integer      matrix         CRS\n",
        "\n",
        "Extends: \"Spatial\"\n",
        "\n",
        "Known Subclasses: \"SpatialPolygonsDataFrame\"\n"
       ]
      }
     ],
     "prompt_number": 132
    },
    {
     "cell_type": "markdown",
     "metadata": {},
     "source": [
      "As with **SpatialLines**, **SpatialPolygons** are typically imported rather than built from scratch.  Another similarity is a data.frame construct, **SpatialPolygonsDataFrame**.  Again, the identifying tags of the **Polygons** objects must correspond with the row names of the data.frame to build a valid SPDF object.\n",
      "\n",
      "To explore these, we can again cannabalize an existing map to gather our desired objects."
     ]
    },
    {
     "cell_type": "code",
     "collapsed": false,
     "input": [
      "%%R \n",
      "\n",
      "state.map.plot<-map('state')\n",
      "state.map<-map(\"state\",plot=FALSE,fill=TRUE)\n",
      "print(length(state.map$names))"
     ],
     "language": "python",
     "metadata": {},
     "outputs": [
      {
       "output_type": "display_data",
       "text": [
        "[1] 63\n"
       ]
      },
      {
       "output_type": "display_data",
       "png": "[encoded data removed]"
      }
     ],
     "prompt_number": 153
    },
    {
     "cell_type": "markdown",
     "metadata": {},
     "source": [
      "As can be seen from a partial print out of the names corresponding to the states, some of them carry additional information after a colon.  Normally, we would clean this up in Python before passing it to R, but for now...\n",
      "\n",
      "*Note that setting the fill argument to true not only colors in the polygons, but also changes the length of the constructed object.*"
     ]
    },
    {
     "cell_type": "code",
     "collapsed": false,
     "input": [
      "%%R\n",
      "\n",
      "#Extract only state names\n",
      "IDs<-sapply(strsplit(state.map$names,':'),function(x) x[1])\n",
      "\n",
      "#Capture polygons from the map, applying the newly stripped down IDs\n",
      "state.sp<-map2SpatialPolygons(state.map,\n",
      "                              IDs=IDs,\n",
      "                              proj4string=CRS('+proj=longlat +ellps=WGS84'))"
     ],
     "language": "python",
     "metadata": {},
     "outputs": [],
     "prompt_number": 154
    },
    {
     "cell_type": "markdown",
     "metadata": {},
     "source": [
      "With **SpatialPolygons** object in hand, we can pull in the data and build and SPDF."
     ]
    },
    {
     "cell_type": "code",
     "collapsed": false,
     "input": [
      "%%R\n",
      "\n",
      "#Read in data\n",
      "sat<-read.table(paste(workdir,'state.sat.data_mod.txt',sep=\"\"),\n",
      "                row.names=5,\n",
      "                header=TRUE)\n",
      "\n",
      "#Sync row names of data (sat) with the IDs of the polygons in the *polygons* slot of SpatialPolygons object\n",
      "id<-match(row.names(sat),\n",
      "          sapply(slot(state.sp,'polygons'),\n",
      "          function(x) slot(x,'ID')))\n",
      "\n",
      "#Those that could not be matched to polygons have been converted to NA\n",
      "print(row.names(sat)[is.na(id)])\n",
      "\n",
      "#Subset to only those rows that are non-null after the matching process\n",
      "sat_sub<-sat[row.names(sat)[!is.na(id)],]\n",
      "\n",
      "#Generate SPDF\n",
      "state.spdf<-SpatialPolygonsDataFrame(state.sp,sat_sub)\n",
      "print(summary(state.spdf))"
     ],
     "language": "python",
     "metadata": {},
     "outputs": [
      {
       "output_type": "display_data",
       "text": [
        "[1] \"alaska\" \"hawaii\" \"usa\"   \n",
        "Object of class SpatialPolygonsDataFrame\n",
        "Coordinates:\n",
        "         min       max\n",
        "x -124.68134 -67.00742\n",
        "y   25.12993  49.38323\n",
        "Is projected: FALSE \n",
        "proj4string : [+proj=longlat +ellps=WGS84]\n",
        "Data attributes:\n",
        "     oname        vscore          mscore            pc       \n",
        " ala    : 1   Min.   :479.0   Min.   :475.0   Min.   : 4.00  \n",
        " ariz   : 1   1st Qu.:504.0   1st Qu.:503.0   1st Qu.: 9.00  \n",
        " ark    : 1   Median :527.0   Median :526.0   Median :32.00  \n",
        " calif  : 1   Mean   :533.8   Mean   :533.7   Mean   :36.43  \n",
        " colo   : 1   3rd Qu.:563.0   3rd Qu.:558.0   3rd Qu.:65.00  \n",
        " conn   : 1   Max.   :594.0   Max.   :605.0   Max.   :80.00  \n",
        " (Other):43                                                  \n"
       ]
      }
     ],
     "prompt_number": 185
    }
   ],
   "metadata": {}
  }
 ]
}