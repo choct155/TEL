{
 "metadata": {
  "name": "",
  "signature": "sha256:144b94ee3a6b91d306cf5cca8b59183ffb75dc73511b95e4464db22fd842139a"
 },
 "nbformat": 3,
 "nbformat_minor": 0,
 "worksheets": []
}