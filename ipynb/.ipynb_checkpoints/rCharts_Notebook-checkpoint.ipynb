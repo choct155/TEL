{
 "metadata": {
  "name": ""
 },
 "nbformat": 3,
 "nbformat_minor": 0,
 "worksheets": [
  {
   "cells": [
    {
     "cell_type": "heading",
     "level": 1,
     "metadata": {},
     "source": [
      "Embedding rCharts in Markdown"
     ]
    },
    {
     "cell_type": "markdown",
     "metadata": {},
     "source": [
      "I'd like to be able to create HTML versions of Notebooks that can also support dynamic charts courtesy of [rCharts](http://rcharts.io/).  This script is a test/how-to on the subject, taken directly from Ramnath Vaidyanathan's [tutorial](http://bl.ocks.org/ramnathv/raw/8084330/).\n",
      "\n",
      "What is our underlying [rpy2](http://rpy.sourceforge.net/rpy2.html) version?  Note that this is important because earlier versions did throw exceptions upon the loading of rmagic."
     ]
    },
    {
     "cell_type": "code",
     "collapsed": false,
     "input": [
      "rpy2.__version__"
     ],
     "language": "python",
     "metadata": {},
     "outputs": [
      {
       "metadata": {},
       "output_type": "pyout",
       "prompt_number": 16,
       "text": [
        "'2.3.8'"
       ]
      }
     ],
     "prompt_number": 16
    },
    {
     "cell_type": "markdown",
     "metadata": {},
     "source": [
      "This is the latest version as of 12/22/13.  We can move on with loading rmagic."
     ]
    },
    {
     "cell_type": "code",
     "collapsed": false,
     "input": [
      "%load_ext rmagic"
     ],
     "language": "python",
     "metadata": {},
     "outputs": [
      {
       "output_type": "stream",
       "stream": "stdout",
       "text": [
        "The rmagic extension is already loaded. To reload it, use:\n",
        "  %reload_ext rmagic\n"
       ]
      }
     ],
     "prompt_number": 13
    },
    {
     "cell_type": "heading",
     "level": 2,
     "metadata": {},
     "source": [
      "Generate Bar Chart and Embed in HTML"
     ]
    },
    {
     "cell_type": "markdown",
     "metadata": {},
     "source": [
      "Create a simple bar chart."
     ]
    },
    {
     "cell_type": "code",
     "collapsed": false,
     "input": [
      "%%R\n",
      "\n",
      "library(rCharts)\n",
      "hair_eye_male = subset(as.data.frame(HairEyeColor), Sex == \"Male\")\n",
      "n1 <- nPlot(Freq ~ Hair, group = 'Eye',\n",
      "data = hair_eye_male, type = 'multiBarChart'\n",
      ")\n",
      "n1$set(width = 600)"
     ],
     "language": "python",
     "metadata": {},
     "outputs": [],
     "prompt_number": 17
    },
    {
     "cell_type": "markdown",
     "metadata": {},
     "source": [
      "First we want to see if we can save it as a standalone HTML file that can be shared with others.  "
     ]
    },
    {
     "cell_type": "code",
     "collapsed": false,
     "input": [
      "%%R\n",
      "\n",
      "library(knitr)\n",
      "opts_chunk$set(comment = NA, results = \"asis\", comment = NA, tidy = F)"
     ],
     "language": "python",
     "metadata": {},
     "outputs": [],
     "prompt_number": 18
    },
    {
     "cell_type": "code",
     "collapsed": false,
     "input": [
      "%%R\n",
      "\n",
      "n1$save('rChart_bar.html',cdn=TRUE)"
     ],
     "language": "python",
     "metadata": {},
     "outputs": [],
     "prompt_number": 25
    },
    {
     "cell_type": "markdown",
     "metadata": {},
     "source": [
      "The file generated above is viewable as a fully dynamic rChart in my [github repo](https://github.com/choct155/TEL)."
     ]
    },
    {
     "cell_type": "heading",
     "level": 3,
     "metadata": {},
     "source": [
      "Embed via iframe"
     ]
    },
    {
     "cell_type": "markdown",
     "metadata": {},
     "source": [
      "To display an rChart within the Notebook, we need to embed an iframe directly into the HTML of the document."
     ]
    },
    {
     "cell_type": "code",
     "collapsed": false,
     "input": [
      "def display_rchart(filename):\n",
      "  from IPython.display import display, HTML, Javascript\n",
      "  display(HTML(\"<iframe src=/files/\" + filename + \" width=850 height=430 seamless></iframe>\"))\n",
      "    \n",
      "display_rchart('rChart_bar.html')"
     ],
     "language": "python",
     "metadata": {},
     "outputs": [
      {
       "html": [
        "<iframe src=/files/rChart_bar.html width=850 height=430 seamless></iframe>"
       ],
       "metadata": {},
       "output_type": "display_data",
       "text": [
        "<IPython.core.display.HTML at 0x3a40050>"
       ]
      }
     ],
     "prompt_number": 36
    }
   ],
   "metadata": {}
  }
 ]
}