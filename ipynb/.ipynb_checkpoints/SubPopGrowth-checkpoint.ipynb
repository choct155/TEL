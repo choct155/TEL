{
 "metadata": {
  "name": ""
 },
 "nbformat": 3,
 "nbformat_minor": 0,
 "worksheets": [
  {
   "cells": [
    {
     "cell_type": "heading",
     "level": 1,
     "metadata": {},
     "source": [
      "Measures of Geographically Uneven Subpopulation Group Change and Local Group Transitions"
     ]
    },
    {
     "cell_type": "markdown",
     "metadata": {},
     "source": [
      "For both professional and academic reasons, I have encountered a need to compare compositions.  This need has arisen for single geographies over time as well as cross-sectional comparison of multiple geographies within a given time period.  As it turns out, there has been some thought on this issue in demography and ecology circles that can be quite useful in public finance applications.  This Notebook seeks to flesh out a method proposed in [Reibel(2003)](http://www.csupomona.edu/~mreibel/ReibelGA.pdf).\n",
      "\n",
      "In particular, this Notebook will explore a use case that may be of some value to ORA in understanding distributional changes in Adjusted Gross Income (AGI) or assessment value (AV) data by sub-District geographies over time.  Our typical method of comparing the tax base in a given neighborhood involves the use of a single measure of central tendency.  While this approach has the benefits of parsimony and common use, it is devoid of distributional content.  To the extent that specific constellations (or classes of constellations) of indicators of economic capacity impact the productive capacity of a given jurisdicution, this is a real problem.  For example, if we are examining a population of 100 with incomes between 0 and 100, we can envision to hypothetical distributions:\n",
      "\n",
      "1. All members of the population below the median position have an income of zero, while all above have an income of 100.  The median value is actually 50.\n",
      "2. Incomes are linearly scaled, increasing one dollar for the marginal member.\n",
      "\n",
      "The continuity of the second distribution is likely to have commercial implications relative to the strictly segmented distribution in scenario one.  For example, these income distributions are likely to attract different kinds of businesses.  Furthermore, these businesses are likely to have different patterns of agglomeration externalities (that is, commercial density influences economic behavior in different ways for different businesses).\n",
      "\n",
      "In any case, to gain some facility with the measures, we will simulate income profiles for 5 neighborhoods over 10 years.  These parameters are quite arbitrary, and can be changed if the need arises."
     ]
    },
    {
     "cell_type": "code",
     "collapsed": false,
     "input": [
      "import numpy as np\n",
      "import pandas as pd\n",
      "from pandas import Series, DataFrame\n",
      "from IPython.display import HTML\n",
      "from ggplot import *\n",
      "\n",
      "#Set print width\n",
      "pd.set_option('line_width',100)"
     ],
     "language": "python",
     "metadata": {},
     "outputs": [],
     "prompt_number": 2
    },
    {
     "cell_type": "markdown",
     "metadata": {},
     "source": [
      "Generating these income profiles is actually, in and of itself, an interesting exercise from a distributional standpoint.  However, for right now we just need some random data that we can bin.  "
     ]
    },
    {
     "cell_type": "code",
     "collapsed": false,
     "input": [
      "#Create container for years\n",
      "yr_list=[]\n",
      "\n",
      "#Create container for data\n",
      "data_list=[]\n",
      "\n",
      "#For each year in the range 2001-2010...\n",
      "for yr in range(2001,2011):\n",
      "    #...generate a DF...\n",
      "    df=DataFrame(np.random.rand(100,5)*100000,columns=['A','B','C','D','E'])\n",
      "    #...incorporate the year...\n",
      "    df['year']=yr\n",
      "    #...and throw it in the list\n",
      "    data_list.append(df)\n",
      "\n",
      "#Concatenate DFs\n",
      "data=pd.concat(data_list)\n",
      "\n",
      "data.head()"
     ],
     "language": "python",
     "metadata": {},
     "outputs": [
      {
       "html": [
        "<div style=\"max-height:1000px;max-width:1500px;overflow:auto;\">\n",
        "<table border=\"1\" class=\"dataframe\">\n",
        "  <thead>\n",
        "    <tr style=\"text-align: right;\">\n",
        "      <th></th>\n",
        "      <th>A</th>\n",
        "      <th>B</th>\n",
        "      <th>C</th>\n",
        "      <th>D</th>\n",
        "      <th>E</th>\n",
        "      <th>year</th>\n",
        "    </tr>\n",
        "  </thead>\n",
        "  <tbody>\n",
        "    <tr>\n",
        "      <th>0</th>\n",
        "      <td> 77537.038019</td>\n",
        "      <td> 70732.024312</td>\n",
        "      <td> 31003.879553</td>\n",
        "      <td> 14995.607505</td>\n",
        "      <td> 94687.637529</td>\n",
        "      <td> 2001</td>\n",
        "    </tr>\n",
        "    <tr>\n",
        "      <th>1</th>\n",
        "      <td> 48402.622391</td>\n",
        "      <td> 70327.065361</td>\n",
        "      <td> 57803.769495</td>\n",
        "      <td>   681.716346</td>\n",
        "      <td> 11151.282093</td>\n",
        "      <td> 2001</td>\n",
        "    </tr>\n",
        "    <tr>\n",
        "      <th>2</th>\n",
        "      <td> 46754.202877</td>\n",
        "      <td> 75454.897948</td>\n",
        "      <td>  1357.720333</td>\n",
        "      <td> 65456.119172</td>\n",
        "      <td> 35568.132827</td>\n",
        "      <td> 2001</td>\n",
        "    </tr>\n",
        "    <tr>\n",
        "      <th>3</th>\n",
        "      <td> 60417.731063</td>\n",
        "      <td> 21089.720743</td>\n",
        "      <td> 98789.627108</td>\n",
        "      <td> 63268.062138</td>\n",
        "      <td> 35251.927941</td>\n",
        "      <td> 2001</td>\n",
        "    </tr>\n",
        "    <tr>\n",
        "      <th>4</th>\n",
        "      <td> 16546.878798</td>\n",
        "      <td>  4182.459830</td>\n",
        "      <td> 71664.364377</td>\n",
        "      <td> 99652.919047</td>\n",
        "      <td> 88292.047404</td>\n",
        "      <td> 2001</td>\n",
        "    </tr>\n",
        "  </tbody>\n",
        "</table>\n",
        "</div>"
       ],
       "metadata": {},
       "output_type": "pyout",
       "prompt_number": 9,
       "text": [
        "              A             B             C             D             E  year\n",
        "0  77537.038019  70732.024312  31003.879553  14995.607505  94687.637529  2001\n",
        "1  48402.622391  70327.065361  57803.769495    681.716346  11151.282093  2001\n",
        "2  46754.202877  75454.897948   1357.720333  65456.119172  35568.132827  2001\n",
        "3  60417.731063  21089.720743  98789.627108  63268.062138  35251.927941  2001\n",
        "4  16546.878798   4182.459830  71664.364377  99652.919047  88292.047404  2001"
       ]
      }
     ],
     "prompt_number": 9
    },
    {
     "cell_type": "markdown",
     "metadata": {},
     "source": [
      "While it's a bit unrealistic that all populations for geographies are equivalent (and time invariant), our first concern is simply working with bin indicators anyway.  Consequently, these realism elements are not required for the time being.  \n",
      "\n",
      "Let's split each of these populations into bins by geography and year.  The natural tendency here is to capture quantiles, but we really want static markers that allow us to see shifts across time and space against a common benchmark.  We are looking for the number of taxpayers in each group, so we want a count by year.  Further, we will need this information expressed as a proportion of the total.  This could be trivially included by including a Series that is valued at 100 for all groups and years.  However, since we will need to account for different size populations, we will add this as a column derived from the count data we have extracted.\n",
      "\n",
      "Note that, to join the group count in, we will be joining on one level of a MultiIndex.  To do this, we extract the values from the MultiIndex we would like to join on, and use them to 'slice' the Series and extract the array values we need.\n",
      "\n",
      "We can create a function that proccesses each column, capture the outputs in a list, and join Series these by year and bin into on DF."
     ]
    },
    {
     "cell_type": "code",
     "collapsed": false,
     "input": [
      "#Create cut thresholds\n",
      "cuts=range(0,100001,20000)\n",
      "\n",
      "def bin_yr(ser,cut_list):\n",
      "    #Split data into threshold defined bins\n",
      "    bins=pd.cut(ser,cuts)\n",
      "    \n",
      "    #Count 'taxpayers' by year and bin\n",
      "    count=DataFrame(ser.groupby([data['year'],bins]).count())\n",
      "    \n",
      "    #Count 'taxpayers' by year\n",
      "    group_counts=DataFrame(count.groupby(level='year').sum()).rename(columns={0:'g_ct'})\n",
      "    \n",
      "    #Grab year values to facilitate join\n",
      "    yrs=DataFrame(count).index.get_level_values('year')\n",
      "    \n",
      "    #Implicit join\n",
      "    count['g_ct']=group_counts.ix[yrs].values\n",
      "    \n",
      "    #Calculate proportions by year and bin\n",
      "    prop=DataFrame(count[0]/count['g_ct'].astype(float))\n",
      "\n",
      "    return prop\n",
      "\n",
      "#Create container for binned Series\n",
      "bin_series=[]\n",
      "\n",
      "#For each column in data...\n",
      "for col in data.columns[:-1]:\n",
      "    #...capture processed series in a list\n",
      "    bin_series.append(bin_yr(data[col],cuts).rename(columns={0:col}))\n",
      "    \n",
      "#Join all binned Series together\n",
      "bdata=DataFrame(bin_series[0]).join(bin_series[1:]).rename(index={'A':'bin'},copy=True)\n",
      "\n",
      "#Change column names\n",
      "bdata.columns=['a','b','c','d','e']\n",
      "\n",
      "bdata.head()"
     ],
     "language": "python",
     "metadata": {},
     "outputs": [
      {
       "html": [
        "<div style=\"max-height:1000px;max-width:1500px;overflow:auto;\">\n",
        "<table border=\"1\" class=\"dataframe\">\n",
        "  <thead>\n",
        "    <tr style=\"text-align: right;\">\n",
        "      <th></th>\n",
        "      <th></th>\n",
        "      <th>a</th>\n",
        "      <th>b</th>\n",
        "      <th>c</th>\n",
        "      <th>d</th>\n",
        "      <th>e</th>\n",
        "    </tr>\n",
        "    <tr>\n",
        "      <th>year</th>\n",
        "      <th>A</th>\n",
        "      <th></th>\n",
        "      <th></th>\n",
        "      <th></th>\n",
        "      <th></th>\n",
        "      <th></th>\n",
        "    </tr>\n",
        "  </thead>\n",
        "  <tbody>\n",
        "    <tr>\n",
        "      <th rowspan=\"5\" valign=\"top\">2001</th>\n",
        "      <th>(0, 20000]</th>\n",
        "      <td> 0.25</td>\n",
        "      <td> 0.20</td>\n",
        "      <td> 0.24</td>\n",
        "      <td> 0.21</td>\n",
        "      <td> 0.22</td>\n",
        "    </tr>\n",
        "    <tr>\n",
        "      <th>(20000, 40000]</th>\n",
        "      <td> 0.15</td>\n",
        "      <td> 0.18</td>\n",
        "      <td> 0.14</td>\n",
        "      <td> 0.19</td>\n",
        "      <td> 0.17</td>\n",
        "    </tr>\n",
        "    <tr>\n",
        "      <th>(40000, 60000]</th>\n",
        "      <td> 0.22</td>\n",
        "      <td> 0.17</td>\n",
        "      <td> 0.19</td>\n",
        "      <td> 0.20</td>\n",
        "      <td> 0.26</td>\n",
        "    </tr>\n",
        "    <tr>\n",
        "      <th>(60000, 80000]</th>\n",
        "      <td> 0.19</td>\n",
        "      <td> 0.22</td>\n",
        "      <td> 0.21</td>\n",
        "      <td> 0.18</td>\n",
        "      <td> 0.14</td>\n",
        "    </tr>\n",
        "    <tr>\n",
        "      <th>(80000, 100000]</th>\n",
        "      <td> 0.19</td>\n",
        "      <td> 0.23</td>\n",
        "      <td> 0.22</td>\n",
        "      <td> 0.22</td>\n",
        "      <td> 0.21</td>\n",
        "    </tr>\n",
        "  </tbody>\n",
        "</table>\n",
        "</div>"
       ],
       "metadata": {},
       "output_type": "pyout",
       "prompt_number": 149,
       "text": [
        "                         a     b     c     d     e\n",
        "year A                                            \n",
        "2001 (0, 20000]       0.25  0.20  0.24  0.21  0.22\n",
        "     (20000, 40000]   0.15  0.18  0.14  0.19  0.17\n",
        "     (40000, 60000]   0.22  0.17  0.19  0.20  0.26\n",
        "     (60000, 80000]   0.19  0.22  0.21  0.18  0.14\n",
        "     (80000, 100000]  0.19  0.23  0.22  0.22  0.21"
       ]
      }
     ],
     "prompt_number": 149
    },
    {
     "cell_type": "markdown",
     "metadata": {},
     "source": [
      "We are almost there, but we need an idea of the total population change in composition.  For this is example, a benefit of choosing equivalent sized populations for each group is the wherewithal to generate total shifts in composition by averaging the shifts in individual compositions."
     ]
    },
    {
     "cell_type": "code",
     "collapsed": false,
     "input": [
      "bdata['total']=bdata.mean(axis=1)\n",
      "\n",
      "bdata.head()"
     ],
     "language": "python",
     "metadata": {},
     "outputs": [
      {
       "html": [
        "<div style=\"max-height:1000px;max-width:1500px;overflow:auto;\">\n",
        "<table border=\"1\" class=\"dataframe\">\n",
        "  <thead>\n",
        "    <tr style=\"text-align: right;\">\n",
        "      <th></th>\n",
        "      <th></th>\n",
        "      <th>a</th>\n",
        "      <th>b</th>\n",
        "      <th>c</th>\n",
        "      <th>d</th>\n",
        "      <th>e</th>\n",
        "      <th>total</th>\n",
        "    </tr>\n",
        "    <tr>\n",
        "      <th>year</th>\n",
        "      <th>A</th>\n",
        "      <th></th>\n",
        "      <th></th>\n",
        "      <th></th>\n",
        "      <th></th>\n",
        "      <th></th>\n",
        "      <th></th>\n",
        "    </tr>\n",
        "  </thead>\n",
        "  <tbody>\n",
        "    <tr>\n",
        "      <th rowspan=\"5\" valign=\"top\">2001</th>\n",
        "      <th>(0, 20000]</th>\n",
        "      <td> 0.25</td>\n",
        "      <td> 0.20</td>\n",
        "      <td> 0.24</td>\n",
        "      <td> 0.21</td>\n",
        "      <td> 0.22</td>\n",
        "      <td> 0.224</td>\n",
        "    </tr>\n",
        "    <tr>\n",
        "      <th>(20000, 40000]</th>\n",
        "      <td> 0.15</td>\n",
        "      <td> 0.18</td>\n",
        "      <td> 0.14</td>\n",
        "      <td> 0.19</td>\n",
        "      <td> 0.17</td>\n",
        "      <td> 0.166</td>\n",
        "    </tr>\n",
        "    <tr>\n",
        "      <th>(40000, 60000]</th>\n",
        "      <td> 0.22</td>\n",
        "      <td> 0.17</td>\n",
        "      <td> 0.19</td>\n",
        "      <td> 0.20</td>\n",
        "      <td> 0.26</td>\n",
        "      <td> 0.208</td>\n",
        "    </tr>\n",
        "    <tr>\n",
        "      <th>(60000, 80000]</th>\n",
        "      <td> 0.19</td>\n",
        "      <td> 0.22</td>\n",
        "      <td> 0.21</td>\n",
        "      <td> 0.18</td>\n",
        "      <td> 0.14</td>\n",
        "      <td> 0.188</td>\n",
        "    </tr>\n",
        "    <tr>\n",
        "      <th>(80000, 100000]</th>\n",
        "      <td> 0.19</td>\n",
        "      <td> 0.23</td>\n",
        "      <td> 0.22</td>\n",
        "      <td> 0.22</td>\n",
        "      <td> 0.21</td>\n",
        "      <td> 0.214</td>\n",
        "    </tr>\n",
        "  </tbody>\n",
        "</table>\n",
        "</div>"
       ],
       "metadata": {},
       "output_type": "pyout",
       "prompt_number": 150,
       "text": [
        "                         a     b     c     d     e  total\n",
        "year A                                                   \n",
        "2001 (0, 20000]       0.25  0.20  0.24  0.21  0.22  0.224\n",
        "     (20000, 40000]   0.15  0.18  0.14  0.19  0.17  0.166\n",
        "     (40000, 60000]   0.22  0.17  0.19  0.20  0.26  0.208\n",
        "     (60000, 80000]   0.19  0.22  0.21  0.18  0.14  0.188\n",
        "     (80000, 100000]  0.19  0.23  0.22  0.22  0.21  0.214"
       ]
      }
     ],
     "prompt_number": 150
    },
    {
     "cell_type": "heading",
     "level": 1,
     "metadata": {},
     "source": [
      "Capturing Proportional Change"
     ]
    },
    {
     "cell_type": "markdown",
     "metadata": {},
     "source": [
      "In this section we will use our fake data to explore methods of capturing proportional shifts within and across groups.  "
     ]
    },
    {
     "cell_type": "heading",
     "level": 3,
     "metadata": {},
     "source": [
      "Single Group Proportional Change"
     ]
    },
    {
     "cell_type": "markdown",
     "metadata": {},
     "source": [
      "Single group proportional change captures the movement in a particular bin's proportional contribution over time.  \n",
      "\n",
      "$$\\Delta A = A_{t1} - A_{t0}$$\n",
      "\n",
      "For example, what happens for each group's population under \\$20,000 over the 2001-2010 time period?"
     ]
    },
    {
     "cell_type": "code",
     "collapsed": false,
     "input": [
      "q1_01_10=bdata.ix[2010].ix[bdata.ix[2010].index[0]]-bdata.ix[2001].ix[bdata.ix[2001].index[0]]\n",
      "q1_01_10"
     ],
     "language": "python",
     "metadata": {},
     "outputs": [
      {
       "metadata": {},
       "output_type": "pyout",
       "prompt_number": 151,
       "text": [
        "a       -0.060\n",
        "b        0.010\n",
        "c       -0.030\n",
        "d        0.060\n",
        "e       -0.140\n",
        "total   -0.032\n",
        "Name: (0, 20000], dtype: float64"
       ]
      }
     ],
     "prompt_number": 151
    },
    {
     "cell_type": "markdown",
     "metadata": {},
     "source": [
      "That particular bin declined in proportional contribution in [A,C,E,total], but increased in [B,D].\n",
      "\n",
      "If we want to compare within groups, or between two groups, things don't get much more complicated.  If, however, we have several groups and we want a general view of their movement that does not involve an ungainly matrix of pairwise comparison matrices, we can use a reference point or baseline.  In this case, the baseline is the total proportional change for all groups.  Use of this baseline allows us to reduce the dimensionality of comparisons across groups.  Instead of saying A moved some amount relative to each of the groups, B-E (and repeating all said comparisons for each group), we can say A moved some other amount relative to the baseline (performing this calculation once for each group).\n",
      "\n",
      "When comparing to a baseline, we call this a *Standardized Proportional Change* measure.\n",
      "\n",
      "$$SPC_{A_i} = (\\Delta A_i - \\Delta A_m)$$\n",
      "\n",
      "Standardizing our earlier view of the shift in the bottom quantile over the 2001-2010 period reveals a more comparable view."
     ]
    },
    {
     "cell_type": "code",
     "collapsed": false,
     "input": [
      "q1_01_10[['a','b','c','d','e']]-q1_01_10['total']"
     ],
     "language": "python",
     "metadata": {},
     "outputs": [
      {
       "metadata": {},
       "output_type": "pyout",
       "prompt_number": 154,
       "text": [
        "a   -0.028\n",
        "b    0.042\n",
        "c    0.002\n",
        "d    0.092\n",
        "e   -0.108\n",
        "Name: (0, 20000], dtype: float64"
       ]
      }
     ],
     "prompt_number": 154
    },
    {
     "cell_type": "markdown",
     "metadata": {},
     "source": [
      "This provides us with better information.  Instead of saying did a group change it's contribution, we can say did a group change it's contribution in a manner unlike the general trend in the overall population.  To provide a concrete example, we were examining the number of taxpayers by income range and neighborhood, $\\Delta A$ permits us to understand if the lowest income range has a higher proportion of taxpayers relative to the total.  $SPC_{A_i}$ permits us to understand if the shift is due to the general trend in the population as a whole, or due to some other neighborhood specific factor.\n",
      "\n",
      "In the example above, we can see that the lowest income range in areas [B,C,D] is becoming more concentrated in the population over time, while the same type of population is becoming less concentrated in [A,E].  \n",
      "\n",
      "The question remains, even if we se that a local area is experiencing compositional shifts that differ from the region, how much of a shift is meaningful?  When is such a shift considered large?  We basically need a standard deviation analogue to allow the data to internally generate a measure of distance from the baseline.  In this context, the standard deviation itself breaks down when population sizes differ (a more general case than the data used here).  Consequently, we evaluate the distance from the population-wide shift:  the *Deviation in Change Index*.\n",
      "\n",
      "$$DCI_{\\Delta A_m} = \\frac{\\sum(\\Delta A_i - \\Delta A_m)}{k}$$\n",
      "\n",
      "Note that we do not need to employ the square root of the square (as we do in standard deviation) because there is no convergence to the regional trend like the convergence to the mean in standard deviation calculations).  This measure gives us a summary value for each group.  The more positive, the greater evidence of extreme positive outliers in group concentration relative to the total population (and vice versa)."
     ]
    },
    {
     "cell_type": "code",
     "collapsed": false,
     "input": [
      "#Calculate change over 2001-2010\n",
      "q01_10=bdata.ix[2010]-bdata.ix[2001]\n",
      "\n",
      "#Standardize with the total population composition shift\n",
      "qspc=q01_10[['a','b','c','d','e']].sub(q01_10['total'],axis=0)\n",
      "\n",
      "#Calculate the average shift across all areas for each group\n",
      "qspc['dci']=qspc.mean(axis=1)\n",
      "\n",
      "#Plot DCI\n",
      "qspc['dci'].plot(kind='bar',title='Deviation in Change Index')\n",
      "qspc[['a','b','c','d','e']].plot(kind='bar',title='Standardized Proportional Shifts')\n",
      "\n",
      "qspc"
     ],
     "language": "python",
     "metadata": {},
     "outputs": [
      {
       "html": [
        "<div style=\"max-height:1000px;max-width:1500px;overflow:auto;\">\n",
        "<table border=\"1\" class=\"dataframe\">\n",
        "  <thead>\n",
        "    <tr style=\"text-align: right;\">\n",
        "      <th></th>\n",
        "      <th>a</th>\n",
        "      <th>b</th>\n",
        "      <th>c</th>\n",
        "      <th>d</th>\n",
        "      <th>e</th>\n",
        "      <th>dci</th>\n",
        "    </tr>\n",
        "    <tr>\n",
        "      <th>A</th>\n",
        "      <th></th>\n",
        "      <th></th>\n",
        "      <th></th>\n",
        "      <th></th>\n",
        "      <th></th>\n",
        "      <th></th>\n",
        "    </tr>\n",
        "  </thead>\n",
        "  <tbody>\n",
        "    <tr>\n",
        "      <th>(0, 20000]</th>\n",
        "      <td>-0.028</td>\n",
        "      <td> 0.042</td>\n",
        "      <td> 0.002</td>\n",
        "      <td> 0.092</td>\n",
        "      <td>-0.108</td>\n",
        "      <td>-2.775558e-17</td>\n",
        "    </tr>\n",
        "    <tr>\n",
        "      <th>(20000, 40000]</th>\n",
        "      <td>-0.016</td>\n",
        "      <td>-0.086</td>\n",
        "      <td> 0.114</td>\n",
        "      <td>-0.046</td>\n",
        "      <td> 0.034</td>\n",
        "      <td>-4.440892e-17</td>\n",
        "    </tr>\n",
        "    <tr>\n",
        "      <th>(40000, 60000]</th>\n",
        "      <td>-0.010</td>\n",
        "      <td> 0.070</td>\n",
        "      <td>-0.030</td>\n",
        "      <td> 0.000</td>\n",
        "      <td>-0.030</td>\n",
        "      <td> 5.551115e-18</td>\n",
        "    </tr>\n",
        "    <tr>\n",
        "      <th>(60000, 80000]</th>\n",
        "      <td> 0.020</td>\n",
        "      <td>-0.010</td>\n",
        "      <td>-0.070</td>\n",
        "      <td> 0.000</td>\n",
        "      <td> 0.060</td>\n",
        "      <td>-1.110223e-17</td>\n",
        "    </tr>\n",
        "    <tr>\n",
        "      <th>(80000, 100000]</th>\n",
        "      <td> 0.034</td>\n",
        "      <td>-0.016</td>\n",
        "      <td>-0.016</td>\n",
        "      <td>-0.046</td>\n",
        "      <td> 0.044</td>\n",
        "      <td>-5.551115e-18</td>\n",
        "    </tr>\n",
        "  </tbody>\n",
        "</table>\n",
        "</div>"
       ],
       "metadata": {},
       "output_type": "pyout",
       "prompt_number": 161,
       "text": [
        "                     a      b      c      d      e           dci\n",
        "A                                                               \n",
        "(0, 20000]      -0.028  0.042  0.002  0.092 -0.108 -2.775558e-17\n",
        "(20000, 40000]  -0.016 -0.086  0.114 -0.046  0.034 -4.440892e-17\n",
        "(40000, 60000]  -0.010  0.070 -0.030  0.000 -0.030  5.551115e-18\n",
        "(60000, 80000]   0.020 -0.010 -0.070  0.000  0.060 -1.110223e-17\n",
        "(80000, 100000]  0.034 -0.016 -0.016 -0.046  0.044 -5.551115e-18"
       ]
      },
      {
       "metadata": {},
       "output_type": "display_data",
       "png": "[encoded data removed]",
       "text": [
        "<matplotlib.figure.Figure at 0x490f550>"
       ]
      },
      {
       "metadata": {},
       "output_type": "display_data",
       "png": "[encoded data removed]",
       "text": [
        "<matplotlib.figure.Figure at 0x4733990>"
       ]
      }
     ],
     "prompt_number": 161
    },
    {
     "cell_type": "markdown",
     "metadata": {},
     "source": [
      "If we want to see what's happening within group and across local areas, we use the $DCI$ above.  If we want to know what is happening within local area and across groups, we use a measure called the *Total Standardized Transition* $(TST_i)$.  \n",
      "\n",
      "$$TST_i = \\frac{\\sum_{X=A}^J|\\Delta X_i-\\Delta X_m|}{2j}$$"
     ]
    },
    {
     "cell_type": "code",
     "collapsed": false,
     "input": [
      "tst=qspc[['a','b','c','d','e']].abs().apply(lambda x: x.mean()/2)\n",
      "tst"
     ],
     "language": "python",
     "metadata": {},
     "outputs": [
      {
       "metadata": {},
       "output_type": "pyout",
       "prompt_number": 173,
       "text": [
        "a    0.0108\n",
        "b    0.0224\n",
        "c    0.0232\n",
        "d    0.0184\n",
        "e    0.0276\n",
        "dtype: float64"
       ]
      }
     ],
     "prompt_number": 173
    },
    {
     "cell_type": "markdown",
     "metadata": {},
     "source": [
      "The $TST_i$ figure is a direct comparison of the compositional behavior within a local neighborhood and the analogous behavior prevailing region-wide.  This figure has a straightforward interpretation.  A score of zero indicates no distance from the baseline compositional behavior of the region.  The higher the score (which is always positive), the greater the differences in compositional behavior between the region and the local area in question.\n",
      "\n",
      "If we want to get an overall sense of variability in the system, we can again aggregate this data across all areas ($k$) to calculate the *Total Transition Index* ($TST$).\n",
      "\n",
      "$$TTI_m = \\sum \\frac{TST_i}{k}$$"
     ]
    },
    {
     "cell_type": "code",
     "collapsed": false,
     "input": [
      "tti=tst.mean()\n",
      "tti"
     ],
     "language": "python",
     "metadata": {},
     "outputs": [
      {
       "metadata": {},
       "output_type": "pyout",
       "prompt_number": 174,
       "text": [
        "0.020480000000000002"
       ]
      }
     ],
     "prompt_number": 174
    },
    {
     "cell_type": "markdown",
     "metadata": {},
     "source": [
      "Again, zero indicates homogeneity and positive numbers indicate variation in compositional changes across local areas.\n",
      "\n",
      "In general, this is a useful set of indicators to the extent that it provides a measure of compositional variation across units and groups.  It is less helpful if we need to able to typify composition states.  For example, in the context of public finance, it would be useful to be able to identify shifts towards heavier use of fees and charges.  This can, of course, be modeled directly, but not without the cost of losing distribution wide comparison.  Modeling directly would not let me, for example, generally sub-classify fee and charge heavy jurisdictions based upon a values of other revenue components.\n",
      "\n",
      "These indicators are, however, much more useful when considering binning within a single indicator.  If we were considering adjusted gross income by quintile or the discrete-type bins used above, higher values of $TST_i$ and $TTI_m$ indicate a greater number of treshold crossing events."
     ]
    },
    {
     "cell_type": "code",
     "collapsed": false,
     "input": [
      "%load_ext rmagic"
     ],
     "language": "python",
     "metadata": {},
     "outputs": [
      {
       "output_type": "stream",
       "stream": "stdout",
       "text": [
        "Error: 'rho' must be an environment not NULL: detected in C-level eval\n"
       ]
      }
     ],
     "prompt_number": "*"
    }
   ],
   "metadata": {}
  }
 ]
}