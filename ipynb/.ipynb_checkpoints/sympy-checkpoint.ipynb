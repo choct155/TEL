{
 "metadata": {
  "name": ""
 },
 "nbformat": 3,
 "nbformat_minor": 0,
 "worksheets": [
  {
   "cells": [
    {
     "cell_type": "heading",
     "level": 1,
     "metadata": {},
     "source": [
      "[Sympy](http://sympy.org/en/index.html?utm_source=%5Bdeliciuos%5D&utm_medium=twitter) Reference"
     ]
    },
    {
     "cell_type": "markdown",
     "metadata": {},
     "source": [
      "I have found that there are few better ways of understanding statistical routines than working with actual data.  What I have yet to do, however, is to couple this kind of work through with the formal representations we see in econometric textbooks.  **sympy** offers a symbolic computing environment complete with a printing interface that facilitates interweaving these elements.  This Notebook is just a script designed to provide reference to the features I am most likely to use.\n",
      "\n",
      "The test case for this exercise is basic linear regression."
     ]
    },
    {
     "cell_type": "code",
     "collapsed": false,
     "input": [
      "import numpy as np\n",
      "import pandas as pd\n",
      "from pandas import Series, DataFrame\n",
      "from sympy import *"
     ],
     "language": "python",
     "metadata": {},
     "outputs": [],
     "prompt_number": 2
    },
    {
     "cell_type": "heading",
     "level": 2,
     "metadata": {},
     "source": [
      "Sympy Environment"
     ]
    },
    {
     "cell_type": "markdown",
     "metadata": {},
     "source": [
      "A clear strength of **sympy** is the ability to work with abstract variable representations of information.  These must, however, be distinguished from typical Python variables.  Consequently they must be defined as **sympy** objects prior to their use."
     ]
    },
    {
     "cell_type": "code",
     "collapsed": false,
     "input": [
      "#Generate symbols\n",
      "x,y=symbols('x y')\n",
      "\n",
      "x*y"
     ],
     "language": "python",
     "metadata": {},
     "outputs": [
      {
       "metadata": {},
       "output_type": "pyout",
       "prompt_number": 4,
       "text": [
        "x*y"
       ]
      }
     ],
     "prompt_number": 4
    },
    {
     "cell_type": "markdown",
     "metadata": {},
     "source": [
      "Why must we look at this drab output?  Surely an advantage of the Notebook format is access to $L^AT_EX$ printing.  There is a simple command to enable this effect."
     ]
    },
    {
     "cell_type": "code",
     "collapsed": false,
     "input": [
      "init_printing()"
     ],
     "language": "python",
     "metadata": {},
     "outputs": [],
     "prompt_number": 5
    },
    {
     "cell_type": "code",
     "collapsed": false,
     "input": [
      "x*y"
     ],
     "language": "python",
     "metadata": {},
     "outputs": [
      {
       "latex": [
        "$$x y$$"
       ],
       "metadata": {},
       "output_type": "pyout",
       "prompt_number": 6,
       "text": [
        "x\u22c5y"
       ]
      }
     ],
     "prompt_number": 6
    },
    {
     "cell_type": "heading",
     "level": 2,
     "metadata": {},
     "source": [
      "Matrices"
     ]
    },
    {
     "cell_type": "markdown",
     "metadata": {},
     "source": [
      "Matrix manipulations are a critical aspect of statistics, so we need a simple method of construction that lends itself to intuitive display and manipulation.  Observe a simple matrix."
     ]
    },
    {
     "cell_type": "code",
     "collapsed": false,
     "input": [
      "Matrix([[1,2],[2,1]])"
     ],
     "language": "python",
     "metadata": {},
     "outputs": [
      {
       "latex": [
        "$$\\left[\\begin{smallmatrix}{}1 & 2\\\\2 & 1\\end{smallmatrix}\\right]$$"
       ],
       "metadata": {},
       "output_type": "pyout",
       "prompt_number": 7,
       "text": [
        "\u23a11  2\u23a4\n",
        "\u23a2    \u23a5\n",
        "\u23a32  1\u23a6"
       ]
      }
     ],
     "prompt_number": 7
    },
    {
     "cell_type": "markdown",
     "metadata": {},
     "source": [
      "Seems simple enough, but this object actually carries a daunting array of methods.  It is a robust object that can handle anything from reshaping and operations between matrices to decomposition and introspection.  This will be our workhorse, so we need to make sure we have easy integration with [pandas](http://pandas.pydata.org/) (which I use for everything).  Here is a simple pandas DataFrame (DF)."
     ]
    },
    {
     "cell_type": "code",
     "collapsed": false,
     "input": [
      "#Generate DF\n",
      "d=DataFrame(np.random.rand(16).reshape(4,4))\n",
      "\n",
      "d"
     ],
     "language": "python",
     "metadata": {},
     "outputs": [
      {
       "html": [
        "<div style=\"max-height:1000px;max-width:1500px;overflow:auto;\">\n",
        "<table border=\"1\" class=\"dataframe\">\n",
        "  <thead>\n",
        "    <tr style=\"text-align: right;\">\n",
        "      <th></th>\n",
        "      <th>0</th>\n",
        "      <th>1</th>\n",
        "      <th>2</th>\n",
        "      <th>3</th>\n",
        "    </tr>\n",
        "  </thead>\n",
        "  <tbody>\n",
        "    <tr>\n",
        "      <th>0</th>\n",
        "      <td> 0.272950</td>\n",
        "      <td> 0.670891</td>\n",
        "      <td> 0.736759</td>\n",
        "      <td> 0.013035</td>\n",
        "    </tr>\n",
        "    <tr>\n",
        "      <th>1</th>\n",
        "      <td> 0.483943</td>\n",
        "      <td> 0.218368</td>\n",
        "      <td> 0.034338</td>\n",
        "      <td> 0.838421</td>\n",
        "    </tr>\n",
        "    <tr>\n",
        "      <th>2</th>\n",
        "      <td> 0.932943</td>\n",
        "      <td> 0.662904</td>\n",
        "      <td> 0.514801</td>\n",
        "      <td> 0.289609</td>\n",
        "    </tr>\n",
        "    <tr>\n",
        "      <th>3</th>\n",
        "      <td> 0.053230</td>\n",
        "      <td> 0.233336</td>\n",
        "      <td> 0.741145</td>\n",
        "      <td> 0.143996</td>\n",
        "    </tr>\n",
        "  </tbody>\n",
        "</table>\n",
        "</div>"
       ],
       "metadata": {},
       "output_type": "pyout",
       "prompt_number": 11,
       "text": [
        "          0         1         2         3\n",
        "0  0.272950  0.670891  0.736759  0.013035\n",
        "1  0.483943  0.218368  0.034338  0.838421\n",
        "2  0.932943  0.662904  0.514801  0.289609\n",
        "3  0.053230  0.233336  0.741145  0.143996"
       ]
      }
     ],
     "prompt_number": 11
    },
    {
     "cell_type": "markdown",
     "metadata": {},
     "source": [
      "Will a *Matrix* object accept it as an input?"
     ]
    },
    {
     "cell_type": "code",
     "collapsed": false,
     "input": [
      "Matrix(d)"
     ],
     "language": "python",
     "metadata": {},
     "outputs": [
      {
       "latex": [
        "$$\\left[\\begin{smallmatrix}{}0.272950172451747 & 0.670890966798811 & 0.736758696546296 & 0.0130345515958264\\\\0.483943416340069 & 0.218367703225331 & 0.034337567276822 & 0.83842138887453\\\\0.932942657944223 & 0.662904377932196 & 0.514801313046875 & 0.289608568125525\\\\0.0532302540609684 & 0.233336198232313 & 0.741144835002329 & 0.143996001846283\\end{smallmatrix}\\right]$$"
       ],
       "metadata": {},
       "output_type": "pyout",
       "prompt_number": 13,
       "text": [
        "\u23a10.272950172451747   0.670890966798811  0.736758696546296  0.0130345515958264\u23a4\n",
        "\u23a2                                                                            \u23a5\n",
        "\u23a20.483943416340069   0.218367703225331  0.034337567276822   0.83842138887453 \u23a5\n",
        "\u23a2                                                                            \u23a5\n",
        "\u23a20.932942657944223   0.662904377932196  0.514801313046875  0.289608568125525 \u23a5\n",
        "\u23a2                                                                            \u23a5\n",
        "\u23a30.0532302540609684  0.233336198232313  0.741144835002329  0.143996001846283 \u23a6"
       ]
      }
     ],
     "prompt_number": 13
    },
    {
     "cell_type": "markdown",
     "metadata": {},
     "source": [
      "I'll be honest, I expected that I would have to bridge through [numpy](http://www.numpy.org/).  This is big time!\n",
      "\n",
      "There are also alternate methods for constructing special types of *Matrix* objects that are often needed.  In particular, there is often a need to generate identity and diagonal matrices, as well as matrices of ones and zeros."
     ]
    },
    {
     "cell_type": "code",
     "collapsed": false,
     "input": [
      "eye(3)"
     ],
     "language": "python",
     "metadata": {},
     "outputs": [
      {
       "latex": [
        "$$\\left[\\begin{smallmatrix}{}1 & 0 & 0\\\\0 & 1 & 0\\\\0 & 0 & 1\\end{smallmatrix}\\right]$$"
       ],
       "metadata": {},
       "output_type": "pyout",
       "prompt_number": 22,
       "text": [
        "\u23a11  0  0\u23a4\n",
        "\u23a2       \u23a5\n",
        "\u23a20  1  0\u23a5\n",
        "\u23a2       \u23a5\n",
        "\u23a30  0  1\u23a6"
       ]
      }
     ],
     "prompt_number": 22
    },
    {
     "cell_type": "code",
     "collapsed": false,
     "input": [
      "diag(1,2,3)"
     ],
     "language": "python",
     "metadata": {},
     "outputs": [
      {
       "latex": [
        "$$\\left[\\begin{smallmatrix}{}1 & 0 & 0\\\\0 & 2 & 0\\\\0 & 0 & 3\\end{smallmatrix}\\right]$$"
       ],
       "metadata": {},
       "output_type": "pyout",
       "prompt_number": 24,
       "text": [
        "\u23a11  0  0\u23a4\n",
        "\u23a2       \u23a5\n",
        "\u23a20  2  0\u23a5\n",
        "\u23a2       \u23a5\n",
        "\u23a30  0  3\u23a6"
       ]
      }
     ],
     "prompt_number": 24
    },
    {
     "cell_type": "code",
     "collapsed": false,
     "input": [
      "ones(3)"
     ],
     "language": "python",
     "metadata": {},
     "outputs": [
      {
       "latex": [
        "$$\\left[\\begin{smallmatrix}{}1 & 1 & 1\\\\1 & 1 & 1\\\\1 & 1 & 1\\end{smallmatrix}\\right]$$"
       ],
       "metadata": {},
       "output_type": "pyout",
       "prompt_number": 25,
       "text": [
        "\u23a11  1  1\u23a4\n",
        "\u23a2       \u23a5\n",
        "\u23a21  1  1\u23a5\n",
        "\u23a2       \u23a5\n",
        "\u23a31  1  1\u23a6"
       ]
      }
     ],
     "prompt_number": 25
    },
    {
     "cell_type": "code",
     "collapsed": false,
     "input": [
      "zeros(3)"
     ],
     "language": "python",
     "metadata": {},
     "outputs": [
      {
       "latex": [
        "$$\\left[\\begin{smallmatrix}{}0 & 0 & 0\\\\0 & 0 & 0\\\\0 & 0 & 0\\end{smallmatrix}\\right]$$"
       ],
       "metadata": {},
       "output_type": "pyout",
       "prompt_number": 26,
       "text": [
        "\u23a10  0  0\u23a4\n",
        "\u23a2       \u23a5\n",
        "\u23a20  0  0\u23a5\n",
        "\u23a2       \u23a5\n",
        "\u23a30  0  0\u23a6"
       ]
      }
     ],
     "prompt_number": 26
    },
    {
     "cell_type": "markdown",
     "metadata": {},
     "source": [
      "In any case, here are a couple quick methods for Matrix objects before moving on. What? You want to know what the determinant is?"
     ]
    },
    {
     "cell_type": "code",
     "collapsed": false,
     "input": [
      "Matrix(d).det()"
     ],
     "language": "python",
     "metadata": {},
     "outputs": [
      {
       "latex": [
        "$$-0.145900809259926$$"
       ],
       "metadata": {},
       "output_type": "pyout",
       "prompt_number": 16,
       "text": [
        "-0.145900809259926"
       ]
      }
     ],
     "prompt_number": 16
    },
    {
     "cell_type": "markdown",
     "metadata": {},
     "source": [
      "Oh, and knowing the rank could be helpful?"
     ]
    },
    {
     "cell_type": "code",
     "collapsed": false,
     "input": [
      "Matrix(d).rank()"
     ],
     "language": "python",
     "metadata": {},
     "outputs": [
      {
       "latex": [
        "$$4$$"
       ],
       "metadata": {},
       "output_type": "pyout",
       "prompt_number": 18,
       "text": [
        "4"
       ]
      }
     ],
     "prompt_number": 18
    },
    {
     "cell_type": "markdown",
     "metadata": {},
     "source": [
      "How you like me now?!?!"
     ]
    },
    {
     "cell_type": "heading",
     "level": 2,
     "metadata": {},
     "source": [
      "Data"
     ]
    },
    {
     "cell_type": "markdown",
     "metadata": {},
     "source": [
      "Since we are working with regression, we might as well have some real world data to use.  Some of the data from my dissertation will serve as well as an anything.  My dissertation concerns the impact of Tax and Expenditure Limitation (TEL) intensity on county-level fiscal and economic behavior.  One of the hypotheses tested is the impact of the cumulative effect of the imposition of a TEL on the revenue collected by counties that vary in economic capacity.  In this case the response is per capita revenue, TEL intensity is a measure of my own creation, and economic capacity is measured as per capita annual payroll."
     ]
    },
    {
     "cell_type": "code",
     "collapsed": false,
     "input": [
      "#Establish working directory\n",
      "workdir='/home/choct155/Google Drive/Dissertation/Data/'\n",
      "\n",
      "#Read in data\n",
      "tel_temp=pd.read_csv(workdir+'co_TEL_df.csv')\n",
      "\n",
      "tel_temp"
     ],
     "language": "python",
     "metadata": {},
     "outputs": [
      {
       "html": [
        "<pre>\n",
        "&lt;class 'pandas.core.frame.DataFrame'&gt;\n",
        "Int64Index: 1088 entries, 0 to 1087\n",
        "Data columns (total 39 columns):\n",
        "FNAME              1088  non-null values\n",
        "AUDIT_YEAR         1088  non-null values\n",
        "pcap               1079  non-null values\n",
        "pcrev              1088  non-null values\n",
        "w_db_b_g           1088  non-null values\n",
        "w_db_b_g_ap        1088  non-null values\n",
        "w_db_b_i           1088  non-null values\n",
        "w_db_b_i_ap        1088  non-null values\n",
        "w_db_c_g           1088  non-null values\n",
        "w_db_c_g_ap        1088  non-null values\n",
        "w_db_c_i           1088  non-null values\n",
        "w_db_c_i_ap        1088  non-null values\n",
        "w_kern_g           1088  non-null values\n",
        "w_kern_g_ap        1088  non-null values\n",
        "w_kern_i           1088  non-null values\n",
        "w_kern_i_ap        1088  non-null values\n",
        "w_queen_g          1088  non-null values\n",
        "w_queen_g_ap       1088  non-null values\n",
        "w_queen_i          1088  non-null values\n",
        "w_queen_i_ap       1088  non-null values\n",
        "w_rook_g           1088  non-null values\n",
        "w_rook_g_ap        1088  non-null values\n",
        "w_rook_i           1088  non-null values\n",
        "w_rook_i_ap        1088  non-null values\n",
        "gsp                1088  non-null values\n",
        "st_unempr          1088  non-null values\n",
        "permits            1088  non-null values\n",
        "hu_num             1088  non-null values\n",
        "vac_rate           1088  non-null values\n",
        "labforce           969  non-null values\n",
        "CTY_POP            1088  non-null values\n",
        "intensity_flow     1088  non-null values\n",
        "intensity_stock    1088  non-null values\n",
        "prop_ratio         1080  non-null values\n",
        "pcintgov           1088  non-null values\n",
        "permit_rate        1081  non-null values\n",
        "lfp_rat            969  non-null values\n",
        "pop_growth         1087  non-null values\n",
        "lpop_growth        1086  non-null values\n",
        "dtypes: float64(35), int64(3), object(1)\n",
        "</pre>"
       ],
       "metadata": {},
       "output_type": "pyout",
       "prompt_number": 31,
       "text": [
        "<class 'pandas.core.frame.DataFrame'>\n",
        "Int64Index: 1088 entries, 0 to 1087\n",
        "Data columns (total 39 columns):\n",
        "FNAME              1088  non-null values\n",
        "AUDIT_YEAR         1088  non-null values\n",
        "pcap               1079  non-null values\n",
        "pcrev              1088  non-null values\n",
        "w_db_b_g           1088  non-null values\n",
        "w_db_b_g_ap        1088  non-null values\n",
        "w_db_b_i           1088  non-null values\n",
        "w_db_b_i_ap        1088  non-null values\n",
        "w_db_c_g           1088  non-null values\n",
        "w_db_c_g_ap        1088  non-null values\n",
        "w_db_c_i           1088  non-null values\n",
        "w_db_c_i_ap        1088  non-null values\n",
        "w_kern_g           1088  non-null values\n",
        "w_kern_g_ap        1088  non-null values\n",
        "w_kern_i           1088  non-null values\n",
        "w_kern_i_ap        1088  non-null values\n",
        "w_queen_g          1088  non-null values\n",
        "w_queen_g_ap       1088  non-null values\n",
        "w_queen_i          1088  non-null values\n",
        "w_queen_i_ap       1088  non-null values\n",
        "w_rook_g           1088  non-null values\n",
        "w_rook_g_ap        1088  non-null values\n",
        "w_rook_i           1088  non-null values\n",
        "w_rook_i_ap        1088  non-null values\n",
        "gsp                1088  non-null values\n",
        "st_unempr          1088  non-null values\n",
        "permits            1088  non-null values\n",
        "hu_num             1088  non-null values\n",
        "vac_rate           1088  non-null values\n",
        "labforce           969  non-null values\n",
        "CTY_POP            1088  non-null values\n",
        "intensity_flow     1088  non-null values\n",
        "intensity_stock    1088  non-null values\n",
        "prop_ratio         1080  non-null values\n",
        "pcintgov           1088  non-null values\n",
        "permit_rate        1081  non-null values\n",
        "lfp_rat            969  non-null values\n",
        "pop_growth         1087  non-null values\n",
        "lpop_growth        1086  non-null values\n",
        "dtypes: float64(35), int64(3), object(1)"
       ]
      }
     ],
     "prompt_number": 31
    },
    {
     "cell_type": "markdown",
     "metadata": {},
     "source": [
      "This will be a very limited pedagogical case, so we are dropping all of the Local Indicators of Spatial Autocorrelation (LISAs) and a number of the other controls."
     ]
    },
    {
     "cell_type": "code",
     "collapsed": false,
     "input": [
      "#Subset data\n",
      "tel=tel_temp.reindex(columns=['FNAME','AUDIT_YEAR','pcrev','pcap','intensity_stock','CTY_POP'])\n",
      "\n",
      "#Rename columns\n",
      "tel.columns=['cty','yr','pcrev','pcap','tel','pop']\n",
      "\n",
      "print 'THERE ARE',len(set(tel['cty'])),'COUNTIES REPRESENTED OVER A PERIOD OF',len(set(tel['yr'])),'YEARS'\n",
      "\n",
      "tel.head()"
     ],
     "language": "python",
     "metadata": {},
     "outputs": [
      {
       "output_type": "stream",
       "stream": "stdout",
       "text": [
        "THERE ARE 64 COUNTIES REPRESENTED OVER A PERIOD OF 17 YEARS\n"
       ]
      },
      {
       "html": [
        "<div style=\"max-height:1000px;max-width:1500px;overflow:auto;\">\n",
        "<table border=\"1\" class=\"dataframe\">\n",
        "  <thead>\n",
        "    <tr style=\"text-align: right;\">\n",
        "      <th></th>\n",
        "      <th>cty</th>\n",
        "      <th>yr</th>\n",
        "      <th>pcrev</th>\n",
        "      <th>pcap</th>\n",
        "      <th>tel</th>\n",
        "      <th>pop</th>\n",
        "    </tr>\n",
        "  </thead>\n",
        "  <tbody>\n",
        "    <tr>\n",
        "      <th>0</th>\n",
        "      <td> Adams</td>\n",
        "      <td> 1993</td>\n",
        "      <td> 613.581370</td>\n",
        "      <td> 8363.248319</td>\n",
        "      <td> 0.000000</td>\n",
        "      <td> 281130</td>\n",
        "    </tr>\n",
        "    <tr>\n",
        "      <th>1</th>\n",
        "      <td> Adams</td>\n",
        "      <td> 1994</td>\n",
        "      <td> 619.581576</td>\n",
        "      <td> 8420.640636</td>\n",
        "      <td> 0.000000</td>\n",
        "      <td> 288838</td>\n",
        "    </tr>\n",
        "    <tr>\n",
        "      <th>2</th>\n",
        "      <td> Adams</td>\n",
        "      <td> 1995</td>\n",
        "      <td> 625.547804</td>\n",
        "      <td> 8659.319256</td>\n",
        "      <td> 0.022646</td>\n",
        "      <td> 297792</td>\n",
        "    </tr>\n",
        "    <tr>\n",
        "      <th>3</th>\n",
        "      <td> Adams</td>\n",
        "      <td> 1996</td>\n",
        "      <td> 631.738963</td>\n",
        "      <td> 9692.246662</td>\n",
        "      <td> 0.013808</td>\n",
        "      <td> 305017</td>\n",
        "    </tr>\n",
        "    <tr>\n",
        "      <th>4</th>\n",
        "      <td> Adams</td>\n",
        "      <td> 1997</td>\n",
        "      <td> 597.750806</td>\n",
        "      <td> 9903.654147</td>\n",
        "      <td> 0.068546</td>\n",
        "      <td> 314191</td>\n",
        "    </tr>\n",
        "  </tbody>\n",
        "</table>\n",
        "</div>"
       ],
       "metadata": {},
       "output_type": "pyout",
       "prompt_number": 34,
       "text": [
        "     cty    yr       pcrev         pcap       tel     pop\n",
        "0  Adams  1993  613.581370  8363.248319  0.000000  281130\n",
        "1  Adams  1994  619.581576  8420.640636  0.000000  288838\n",
        "2  Adams  1995  625.547804  8659.319256  0.022646  297792\n",
        "3  Adams  1996  631.738963  9692.246662  0.013808  305017\n",
        "4  Adams  1997  597.750806  9903.654147  0.068546  314191"
       ]
      }
     ],
     "prompt_number": 34
    },
    {
     "cell_type": "markdown",
     "metadata": {},
     "source": [
      "As the introspective print statement above indicates, we are dealing with panel data.  For the time being, we will just look at it as a pooled cross-section."
     ]
    }
   ],
   "metadata": {}
  }
 ]
}