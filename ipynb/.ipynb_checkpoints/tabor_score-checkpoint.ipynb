{
 "metadata": {
  "name": ""
 },
 "nbformat": 3,
 "nbformat_minor": 0,
 "worksheets": [
  {
   "cells": [
    {
     "cell_type": "heading",
     "level": 1,
     "metadata": {},
     "source": [
      "Developing an Intensity Score for TABOR"
     ]
    },
    {
     "cell_type": "markdown",
     "metadata": {},
     "source": [
      "The key innovation in my research strategy is to explore the impact of tax and expenditure limitations on the spatial linkages between local governments.  This requires variation in the impact of tax and expenditure limitations to separate this work from the TEL studies that have come before it.  While there have been some preliminary attempts at an index (see XX) for TELs, I have yet to see one that attempts to capture county level variation in impact.\n",
      "\n",
      "[TABOR](http://en.wikipedia.org/wiki/Taxpayer_Bill_of_Rights) provides an opportunity to model such variation because of the capacity for 'deBrucing'.  deBrucing is the process by which a local government votes on whether or not it's tax base should be subject to the constraints of TABOR.  This provides cross-sectional variation that we can exploit.  Temporal variation arises when individual counties address portions of the tax base over time, or when state-level changes are enacted.  The combination of these two sources of variation provides a ready basis for panel estimation.\n",
      "\n",
      "This script will be used to flesh out the scoring mechanism that attempts to capture the variation of TABOR 'intensity' felt by each county over time.  The manner in which counties address these issues is varied and complicated, so some simplification will be required to develop a standard score.  We will do our best to capture as much variation as possible.\n",
      "\n",
      "My inital thought was to build the dataset in Excel, but then this struck me as silly.  Why give up the annotation capacity of a Notebook when entering data into ndarrays is just as easy as entering data into cells (in theory)?  Consequently, the entire build will take place in this script, enabling explicit documentation of the judgement call made."
     ]
    },
    {
     "cell_type": "heading",
     "level": 2,
     "metadata": {},
     "source": [
      "Sources of Information"
     ]
    },
    {
     "cell_type": "markdown",
     "metadata": {},
     "source": [
      "One of the nice things about studying TABOR is we can benefit from the wealth of information collected by public entities like the [Colorado Legislative Council](http://www.colorado.gov/lcs) and non-profits like [Colorado Counties, Inc.](http://ccionline.org/).  This section will serve as kind of a living bibliography for the information used to develop the score."
     ]
    },
    {
     "cell_type": "heading",
     "level": 3,
     "metadata": {},
     "source": [
      "*General Background on TABOR, Amendment 23, and the Gallagher Amendment*"
     ]
    },
    {
     "cell_type": "markdown",
     "metadata": {},
     "source": [
      "Though there are many interesting reports issued by the Colorado Legislative Council (CLC), I found [House Joint Resolution 03-1033 Study](https://www.google.com/url?sa=t&rct=j&q=&esrc=s&source=web&cd=1&ved=0CC4QFjAA&url=http%3A%2F%2Fwww.colorado.gov%2Fcs%2FSatellite%3Fblobcol%3Durldata%26blobheader%3Dapplication%252Fpdf%26blobkey%3Did%26blobtable%3DMungoBlobs%26blobwhere%3D1251606115794%26ssbinary%3Dtrue&ei=eHA4Uv3UJviz4AP2hYGAAg&usg=AFQjCNFDv24oVyhvK86mpw-2HgcuJVWwsQ&sig2=p3m38fa4X8Wj94Sv6IUZhw&bvm=bv.52164340,d.dmg) to be the most comprehensive for the current task.  It provides both a discussion of TABOR mechanics, and some historical context for the decisions made."
     ]
    },
    {
     "cell_type": "heading",
     "level": 3,
     "metadata": {},
     "source": [
      "*County-Level Legislative History*"
     ]
    },
    {
     "cell_type": "markdown",
     "metadata": {},
     "source": [
      "I really thought I was going to have to compile this information myself, but the good people of Colorado Counties, Inc. (CCI) have taken it upon themselves to compile all of the [county ballot issues on TABOR](http://ccionline.org/download/Tracking%20Tabor%20Table%2093-11.pdf) over the 1993-2011 period (even those ballot initiatives that did not succeed).  This is a real gem."
     ]
    },
    {
     "cell_type": "heading",
     "level": 3,
     "metadata": {},
     "source": [
      "*deBrucing by County*"
     ]
    },
    {
     "cell_type": "markdown",
     "metadata": {},
     "source": [
      "CCI came up big again, this time providing a [comprehensive list of the 48 counties that have deBruced](http://ccionline.org/download/Debruced%20Counties.pdf), *and* the years in which these measures have been enacted."
     ]
    },
    {
     "cell_type": "heading",
     "level": 2,
     "metadata": {},
     "source": [
      "Legislative Mechanics"
     ]
    },
    {
     "cell_type": "markdown",
     "metadata": {},
     "source": [
      "The information in this section draws heavily on (and in many cases, quotes directly from) the work of the CLC."
     ]
    },
    {
     "cell_type": "heading",
     "level": 3,
     "metadata": {},
     "source": [
      "*Taxpayer's Bill of Rights (TABOR)*"
     ]
    },
    {
     "cell_type": "markdown",
     "metadata": {},
     "source": [
      "TABOR has three primary functions:\n",
      "\n",
      "1. It limits state-level revenue;\n",
      "2. It requires voter approval for tax increases; and,\n",
      "3. It limits growth in property taxes.\n",
      "\n",
      "It is interesting to note that when TABOR was passed, per capita state and local taxes in Colorado were ranked in the middle of the distribution for all states.  Furthermore, state and local taxes as a percentage of personal income were the 16th lowest in the country.  Despite taxes being relatively low in Colorado, TABOR was actually only the first successful attempt after a sequence of ballot initiatives seeking to limit tax growth in some way.\n",
      "_______________________\n",
      "*Limits on Tax District Revenue*\n",
      "\n",
      "TABOR limits the growth in most state revenue to inflation plus the change in the state's population.  If revenue does not grow enough in a given year to come into contact with the TABOR limit, the base used to determine the following year's limit is reduced (a.k.a. ratched down).  **This practice, coupled with the absense of cost structure consideration, has the dynamic effect of instituting a lower revenue baseline quite independent of expenditure need.**  This is particularly problematic during recessions.\n",
      "\n",
      "At the local level, inflation is included in the formula, but different criteria are used for the growth factor.\n",
      "\n",
      "Colorado is one of 10 states that require refunds of revenues collected over the limit (a.k.a TABOR surplus).\n",
      "_______________________________\n",
      "*Limits on State Appropriations*\n",
      "\n",
      "Senator Jim Kadlecek was the first to successfully push through a statutory limit on state General Fund:\n",
      "\n",
      "+ **1977-1984:** Kadlecek amendment limits appropriations growth to 7% annually and provides for a 4% reserve that may only be used for tax relief.  A portion of the appropriation for school finance was exempted.\n",
      "+ **1984-1985:** Limit augmented to equal 7% over the previous year plus costs of property tax reappraisals.\n",
      "+ **1985-1991:** Limit remains the same, but school finance is no longer exempt.\n",
      "+ **1991-Present:** Arveschoug-Bird limit holds appropriations levels to the lesser of 5% of statewide personal income or a 6% increase over the general fund appropriations form the previous year.  Only voter approval may dislodge this limit.\n",
      "\n",
      "In general, the appropriations limit is more flexible than the revenue limit, in that there are more opportunities to circumvent said limit.  These exceptions are as follows:\n",
      "\n",
      "+ Appropriations for new programs or increased service levels required by federal law and/or final state or federal court order;\n",
      "+ Medicaid overexpenditures;\n",
      "+ Appropriations for property tax reappriasals;\n",
      "+ Utilization of revenue from voter-approved tax or fee increases; and,\n",
      "+ State fiscal emergencies.\n",
      "\n",
      "Furthermore, the appropriations limit statutory whereas the revenue limit is constitutional.  Both revenue and appropriations limits require voter approval to be weakened (this was not the case before TABOR).\n",
      "__________________________\n",
      "\n",
      "*Voter Approval*\n",
      "\n",
      "While no voter approval is needed to decrease taxes, any of the following actions require a vote:\n",
      "\n",
      "+ New tax;\n",
      "+ Tax rate increase;\n",
      "+ Mill levy increase;\n",
      "+ Increase the property assessment valuation ratio;\n",
      "+ Extension of an expiring tax; and,\n",
      "+ Any tax policy that would cause a net revenue gain.\n",
      "\n",
      "TABOR also prohibits the following outright:\n",
      "\n",
      "+ New or increased real estate transfer taxes;\n",
      "+ Local income taxes;\n",
      "+ State property taxes; and,\n",
      "+ Surcharges on state income taxes.\n",
      "________________________________\n",
      "*Limits on Property Revenue*\n",
      "\n",
      "To retard growth in the property tax revenues, TABOR imposes limits on the increase in overall property tax revenue and the mill levy amount.  State limits on property tax revenue did not begin with TABOR:\n",
      "\n",
      "+ **1913-1964?:** Limits on the state property tax levey of 15% (until the state levy was abandoned);\n",
      "+ **1964?-1976:** Property tax revenue limited to 5% growth;\n",
      "+ **1976-1988:** Property tax revenue limited to 7% growth; and,\n",
      "+ **1988-Present:** Property tax revenue limited to 5.5% growth.\n",
      "_______________________________\n",
      "*Emergency Funds*\n",
      "\n",
      "Colorado has two emergency reserve funds.  The first is statutory and equal to 4% of general fund appropriations for the state.  It can be used for most financing needs.  The second is constitutional and equal to 3% of TABOR revenue.  Unlike the statutory reserve, the constitutional reserve has a very restricted set of uses."
     ]
    },
    {
     "cell_type": "heading",
     "level": 6,
     "metadata": {},
     "source": [
      "The TABOR Base"
     ]
    },
    {
     "cell_type": "markdown",
     "metadata": {},
     "source": [
      "While the TABOR revenue base includes the majority of state revenue, it does not include all of it.  In particular, it excludes the following:\n",
      "\n",
      "+ Enterprise Revenue\n",
      "+ Federal Funds\n",
      "+ Gifts\n",
      "+ Collections from Other Governments\n",
      "+ Employee Pension Contributions\n",
      "+ Pensions Fund Earnings\n",
      "+ Damage Awards\n",
      "+ Property Sales\n",
      "\n",
      "In FY2002-03, TABOR revenue amounted to $7.7 B, or 58.5% of the total state budget.  The General Fund accounted for 70.9% of this TABOR base.\n",
      "\n",
      "**Note:** The method of accounting for TABOR surplus changed in 2003.  Whereas, prior to 2003, the state incurred the liability stemming from the surplus in the year after the surplus was collect, with the repeal of House Bill 98-1414 the liability was incurred in the same year."
     ]
    },
    {
     "cell_type": "heading",
     "level": 3,
     "metadata": {},
     "source": [
      "*Amendment 23*"
     ]
    },
    {
     "cell_type": "markdown",
     "metadata": {},
     "source": [
      "Amendment 23 (A23), enacted in 2000, was the first successful effort to moderate some of the impact of the TABOR restrictions.  It has three primary functions:\n",
      "\n",
      "1. It requires minimum increases in elementary and secondary edcation spending;\n",
      "2. It diverts $\\frac{1}{3}$ of 1% of taxable income on state tax returns to the State Education Fund; and,\n",
      "3. It establishes minimum levels of appropriation increases for the school finance act.\n",
      "_________________________________\n",
      "*Education Spending*\n",
      "\n",
      "A23 guarantees a minimum increase in per pupil funding in the school finance act and for categorical programs.  \n",
      "________________________________\n",
      "*State Education Fund*\n",
      "\n",
      "A23 provides for a specialized fund that can be used to help finance the minimum increases in per pupil funding or other educational capacity related expenses.  **This allocation to the State Education Fund is exempt from TABOR's revenue limit.**  If the TABOR limit is reached in a given year, this provides the state with more flexibility to finance critical expenditure needs.  **However, if the TABOR limit is not breached, the A23 disbursement to the State Education Fund reduces the TABOR base for the following year.** \n",
      "\n",
      "The downside risk is partially moderated because such funding is strongly at risk during a recession, the environment in which a breach of the TABOR limit is less likely.  For example, income taxes declined by 19% during the recession in FY2001-02.\n",
      "_______________________________\n",
      "*State Appropriations* \n",
      "\n",
      "A23 also requires the General Fund appropriation for state aid to grow by at least 5% annually (unless personal income increases by less than 4.5%).  Note that funding for education driven by property taxes and state aid.  State funding has contributed the larger share since 1991.  The portion of funding from state aid has grown due to four primary reasons:\n",
      "\n",
      "1. Gallagher in 1982; \n",
      "2. TABOR in 1992;\n",
      "3. School Finance Act in 1998 (increased state's share to 50%); and,\n",
      "4. A23 in 2000 (due to guaranteed funding increases).\n",
      "\n",
      "In FY2002-03, the state share was 60% and growing."
     ]
    },
    {
     "cell_type": "heading",
     "level": 3,
     "metadata": {},
     "source": [
      "*Gallagher Amendment*"
     ]
    },
    {
     "cell_type": "markdown",
     "metadata": {},
     "source": [
      "The Gallagher Amendment (GA) limits increases in the assessment base of local governments (including school districts).  It was included in a broader measure called House Concurrent Resolution 82-1005.  In addition to the Gallagher Amendment, the Resolution included the following:\n",
      "\n",
      "+ Provisions to ensure uniform and fair assessment practices;\n",
      "+ A fixed assessment rate of 29% for most non-residential property;\n",
      "+ An exemption for business inventories;\n",
      "+ An exemption for many agriculture related property types;\n",
      "+ Constitutional codification for existing statutory systems of valuing agricultural and oil/gas roperties; and,\n",
      "+ A newly-constituted State Board of Equalization (regarding property tax valuation practices).\n",
      "\n",
      "The Resolution crafted both short-term and long-term mechanisms for residential property tax relief.  In the short-term, residential assessment rates were dropped from 30% to 21%.  GA constituted the ongoing measure...\n",
      "________________________________________\n",
      "*Mechanics of the Gallagher Amendment*\n",
      "\n",
      "GA requires the residential assessment rate to be adjusted annually to ensure that the percentage of assessed value attributable to residential property remains the same as the preceding year."
     ]
    },
    {
     "cell_type": "code",
     "collapsed": false,
     "input": [],
     "language": "python",
     "metadata": {},
     "outputs": []
    }
   ],
   "metadata": {}
  }
 ]
}