{
 "metadata": {
  "name": ""
 },
 "nbformat": 3,
 "nbformat_minor": 0,
 "worksheets": [
  {
   "cells": [
    {
     "cell_type": "heading",
     "level": 1,
     "metadata": {},
     "source": [
      "Introduction to PySAL"
     ]
    },
    {
     "cell_type": "markdown",
     "metadata": {},
     "source": [
      "After watching [Luc Anselin](http://geoplan.asu.edu/anselin) give a talk about [adapting geospatial analysis to accommodate modern scientific workflows](http://www.youtube.com/watch?v=ZZeL8yDmfq4), I watched a [follow up video](http://www.youtube.com/watch?v=FN1nH4Fkd_Y) in which [Sergio Rey](http://geoplan.asu.edu/rey) discussed PySAL, the cornerstone of the analytical stack that Anselin and Rey (among others) are developing at ASU.  One of the things that was immediately clear from the video was the impressive gulf in computational speed between the Python based spatial package and R's [spdep](http://cran.r-project.org/web/packages/spdep/index.html).  \n",
      "\n",
      "R will no doubt remain essential for both visualization and some routines that may not be available in the younger PySAL, but the advantage of integrating [pandas](http://pandas.pydata.org/) more seamlessly into the manipulation of spatial data is just to great to ignore.  Moreover, again, it's faster.  Thus, this script is meant to introduce the functionality as I have done with the R packages. Surprise! PySAL was already included in the Anaconda suite, I just didn't know what it was.\n",
      "\n",
      "To start, let's look at the broad overview."
     ]
    },
    {
     "cell_type": "code",
     "collapsed": false,
     "input": [
      "import numpy as np\n",
      "import pandas as pd\n",
      "from pandas import Series,DataFrame\n",
      "import pysal\n",
      "help(pysal)"
     ],
     "language": "python",
     "metadata": {},
     "outputs": [
      {
       "output_type": "stream",
       "stream": "stdout",
       "text": [
        "Help on package pysal:\n",
        "\n",
        "NAME\n",
        "    pysal\n",
        "\n",
        "FILE\n",
        "    /home/choct155/analysis/Anaconda/lib/python2.7/site-packages/pysal/__init__.py\n",
        "\n",
        "DESCRIPTION\n",
        "    Python Spatial Analysis Library\n",
        "    ===============================\n",
        "    \n",
        "    \n",
        "    Documentation\n",
        "    -------------\n",
        "    PySAL documentation is available in two forms: python docstrings and an html         webpage at http://pysal.org/\n",
        "    \n",
        "    Available sub-packages\n",
        "    ----------------------\n",
        "    \n",
        "    cg\n",
        "        Basic data structures and tools for Computational Geometry\n",
        "    core\n",
        "        Basic functions used by several sub-packages\n",
        "    esda\n",
        "        Tools for Exploratory Spatial Data Analysis\n",
        "    examples\n",
        "        Example data sets used by several sub-packages for examples and testing\n",
        "    region\n",
        "        Regionalization algorithms and spatially constrained clustering\n",
        "    spatial_dynamics\n",
        "        Space-time exploratory methods and clustering\n",
        "    spreg\n",
        "        Spatial regression and econometrics\n",
        "    weights\n",
        "        Tools for creating and manipulating weights\n",
        "    contrib\n",
        "        Package for interfacing with third-party libraries\n",
        "    \n",
        "    Utilities\n",
        "    ---------\n",
        "    `fileio`_\n",
        "        Tool for file input and output, supports many well known file formats\n",
        "\n",
        "PACKAGE CONTENTS\n",
        "    cg (package)\n",
        "    common\n",
        "    contrib (package)\n",
        "    core (package)\n",
        "    esda (package)\n",
        "    examples (package)\n",
        "    inequality (package)\n",
        "    region (package)\n",
        "    spatial_dynamics (package)\n",
        "    spreg (package)\n",
        "    test_NameSpace\n",
        "    version\n",
        "    weights (package)\n",
        "\n",
        "SUBMODULES\n",
        "    IOHandlers\n",
        "    directional\n",
        "    ergodic\n",
        "\n",
        "DATA\n",
        "    MISSINGVALUE = None\n",
        "    version = '1.5.0'\n",
        "\n",
        "\n"
       ]
      }
     ],
     "prompt_number": 1
    },
    {
     "cell_type": "markdown",
     "metadata": {},
     "source": [
      "I see spatial econometrics, weights, and space-time capability.  Perhaps this also has the advantage of not requiring as many packages to ge the job done?  Supposedly there is example data available."
     ]
    },
    {
     "cell_type": "code",
     "collapsed": false,
     "input": [
      "!ls /home/choct155/analysis/Anaconda/lib/python2.7/site-packages/pysal/examples"
     ],
     "language": "python",
     "metadata": {},
     "outputs": [
      {
       "output_type": "stream",
       "stream": "stdout",
       "text": [
        "10740.dbf\t   geobugs_scot      Polygon.dbf\t      stata_full.txt\r\n",
        "10740_queen.gal    __init__.py\t     Polygon.prj\t      stata_sparse.txt\r\n",
        "10740_rook.gal\t   __init__.pyc      Polygon.shp\t      states48.gal\r\n",
        "10740.shp\t   juvenile.dbf      Polygon.shx\t      stl.gal\r\n",
        "10740.shx\t   juvenile.gwt      README.txt\t\t      stl_hom.csv\r\n",
        "arcgis_ohio.dbf    juvenile.html     rook31.dbf\t\t      stl_hom.dbf\r\n",
        "arcgis_txt.txt\t   juvenile.shp      rook31.gal\t\t      stl_hom.html\r\n",
        "book.gal\t   juvenile.shx      rook31.shp\t\t      stl_hom_rook.gal\r\n",
        "book.txt\t   lattice10x10.shp  rook31.shx\t\t      stl_hom.shp\r\n",
        "burkitt.dbf\t   lattice10x10.shx  sacramentot2.dbf\t      stl_hom.shx\r\n",
        "burkitt.shp\t   Line.dbf\t     sacramentot2.gal\t      stl_hom.txt\r\n",
        "burkitt.shx\t   Line.prj\t     sacramentot2.sbn\t      stl_hom.wkt\r\n",
        "calempdensity.csv  Line.shp\t     sacramentot2.sbx\t      us48.dbf\r\n",
        "Chicago77.dbf\t   Line.shx\t     sacramentot2.shp\t      us48.shp\r\n",
        "Chicago77.shp\t   mexico.csv\t     sacramentot2.shx\t      us48.shx\r\n",
        "Chicago77.shx\t   mexico.gal\t     sids2.dbf\t\t      usjoin.csv\r\n",
        "columbus.dbf\t   NAT.dbf\t     sids2.gal\t\t      virginia.dbf\r\n",
        "columbus.gal\t   NAT.shp\t     sids2.html\t\t      virginia.gal\r\n",
        "columbus.html\t   NAT.shx\t     sids2.shp\t\t      virginia.prj\r\n",
        "columbus.shp\t   ohio.swm\t     sids2.shx\t\t      virginia_rook.gal\r\n",
        "columbus.shx\t   Point.dbf\t     spat-sym-us.mat\t      virginia.shp\r\n",
        "desmith.gal\t   Point.prj\t     spat-sym-us.wk1\t      virginia.shx\r\n",
        "desmith.txt\t   Point.shp\t     spdep_listw2WB_columbus  wmat.dat\r\n",
        "examples.txt\t   Point.shx\t     spi_download.csv\t      wmat.mtx\r\n"
       ]
      }
     ],
     "prompt_number": 2
    },
    {
     "cell_type": "markdown",
     "metadata": {},
     "source": [
      "I guess they were telling the truth."
     ]
    },
    {
     "cell_type": "heading",
     "level": 2,
     "metadata": {},
     "source": [
      "I/O"
     ]
    },
    {
     "cell_type": "markdown",
     "metadata": {},
     "source": [
      "The array of input/output formats that can be handled by the abstract **pysal.open** method is remarkably lengthy.  I am only going to demonstrate shapefiles capability (because that's what I have been dealing with), but full list of handled formats appears below."
     ]
    },
    {
     "cell_type": "code",
     "collapsed": false,
     "input": [
      "pysal.open.check()"
     ],
     "language": "python",
     "metadata": {},
     "outputs": [
      {
       "output_type": "stream",
       "stream": "stdout",
       "text": [
        "PySAL File I/O understands the following file extensions:\n",
        "Ext: '.shp', Modes: ['r', 'wb', 'w', 'rb']\n",
        "Ext: '.mtx', Modes: ['r', 'w']\n",
        "Ext: '.swm', Modes: ['r', 'w']\n",
        "Ext: '.mat', Modes: ['r', 'w']\n",
        "Ext: '.shx', Modes: ['r', 'wb', 'w', 'rb']\n",
        "Ext: '.stata_text', Modes: ['r', 'w']\n",
        "Ext: '.geoda_txt', Modes: ['r']\n",
        "Ext: '.dbf', Modes: ['r', 'w']\n",
        "Ext: '.dat', Modes: ['r', 'w']\n",
        "Ext: '.gwt', Modes: ['r', 'w']\n",
        "Ext: '.gal', Modes: ['r', 'w']\n",
        "Ext: '.arcgis_text', Modes: ['r', 'w']\n",
        "Ext: '.kwt', Modes: ['r', 'w']\n",
        "Ext: '.arcgis_dbf', Modes: ['r', 'w']\n",
        "Ext: '.geobugs_text', Modes: ['r', 'w']\n",
        "Ext: '.wk1', Modes: ['r', 'w']\n",
        "Ext: '.csv', Modes: ['r']\n",
        "Ext: '.wkt', Modes: ['r']\n"
       ]
      }
     ],
     "prompt_number": 3
    },
    {
     "cell_type": "code",
     "collapsed": false,
     "input": [
      "#Establish directory location\n",
      "ex_dir='/home/choct155/analysis/Anaconda/lib/python2.7/site-packages/pysal/examples/'\n",
      "\n",
      "#Read in shapefile\n",
      "shp=pysal.open(ex_dir+'10740.shp')\n",
      "print type(shp)\n",
      "print shp\n",
      "print '\\n\\n'\n",
      "\n",
      "#Iterate through shapefile\n",
      "poly=shp.next()\n",
      "print type(poly)\n",
      "print poly"
     ],
     "language": "python",
     "metadata": {},
     "outputs": [
      {
       "output_type": "stream",
       "stream": "stdout",
       "text": [
        "<class 'pysal.core.IOHandlers.pyShpIO.PurePyShpWrapper'>\n",
        "<pysal.core.IOHandlers.pyShpIO.PurePyShpWrapper object at 0x4183ed0>\n",
        "\n",
        "\n",
        "\n",
        "<class 'pysal.cg.shapes.Polygon'>\n",
        "<pysal.cg.shapes.Polygon object at 0x4183f90>\n"
       ]
      }
     ],
     "prompt_number": 4
    },
    {
     "cell_type": "markdown",
     "metadata": {},
     "source": [
      "Note that the initial read in is housed in an iterator wrapper.  I could be wrong, but I think that, like generators, these constructs are only realized in real-time (unlike lists which exist to their full extent upon definition).  They are basically containers for the data types being held (in this case, polygons).  For this reason, a step through is needed to get to an actual polygon object.  I suspect that this is designed to limit memory loads.  Again, this is a guess from a limited knowledge base.\n",
      "\n",
      "Polygon objects (or any vector data type), in turn, hold their own information.  If I had to guess, I would say that the polygon objects hold coordinate vectors defining the enclosure.\n",
      "\n",
      "This is the reason for the disparity in lengths seen below."
     ]
    },
    {
     "cell_type": "code",
     "collapsed": false,
     "input": [
      "print len(shp)\n",
      "print len(poly)"
     ],
     "language": "python",
     "metadata": {},
     "outputs": [
      {
       "output_type": "stream",
       "stream": "stdout",
       "text": [
        "195\n",
        "63\n"
       ]
      }
     ],
     "prompt_number": 5
    },
    {
     "cell_type": "markdown",
     "metadata": {},
     "source": [
      "The length of the shapefile is defined by the number of polygons it contains.  "
     ]
    },
    {
     "cell_type": "code",
     "collapsed": false,
     "input": [
      "for i in range(5):\n",
      "    print list(shp)[i]"
     ],
     "language": "python",
     "metadata": {},
     "outputs": [
      {
       "output_type": "stream",
       "stream": "stdout",
       "text": [
        "<pysal.cg.shapes.Polygon object at 0x4183b10>\n",
        "<pysal.cg.shapes.Polygon object at 0x4183c50>"
       ]
      },
      {
       "output_type": "stream",
       "stream": "stdout",
       "text": [
        "\n",
        "<pysal.cg.shapes.Polygon object at 0x4183b50>\n",
        "<pysal.cg.shapes.Polygon object at 0x4183cd0>\n",
        "<pysal.cg.shapes.Polygon object at 0x4183d50>"
       ]
      },
      {
       "output_type": "stream",
       "stream": "stdout",
       "text": [
        "\n"
       ]
      }
     ],
     "prompt_number": 6
    },
    {
     "cell_type": "markdown",
     "metadata": {},
     "source": [
      "More on this later..."
     ]
    },
    {
     "cell_type": "heading",
     "level": 2,
     "metadata": {},
     "source": [
      "Spatial Weights"
     ]
    },
    {
     "cell_type": "markdown",
     "metadata": {},
     "source": [
      "PySAL supports three general types of weight matrices:\n",
      ">1. [Contiguity Based](http://pysal.org/library/weights/Contiguity.html)\n",
      "\n",
      ">2. [Distance Based](http://www.pysal.org/library/weights/Distance.html)\n",
      "\n",
      ">3. [Kernel Based](http://pysal.org/1.3/library/weights/user.html)\n",
      "\n",
      "PySAL weights are handled by objects of class *pysal.weights.W*.  Because weight matrices can be very large while also very sparse, instead of the tradition nxn matrix, weights are stored as two dictionaries.  One of these dictionaries stores all possible neighbors for each observation, and the other stores the weight values for each of these observation/neighbor constructs (in the same order)."
     ]
    },
    {
     "cell_type": "heading",
     "level": 4,
     "metadata": {},
     "source": [
      "Contiguity Based Weights"
     ]
    },
    {
     "cell_type": "markdown",
     "metadata": {},
     "source": [
      "A simple 5x5 contiguity matrix can be constructed with the **lat2W** method."
     ]
    },
    {
     "cell_type": "code",
     "collapsed": false,
     "input": [
      "#Create matrix\n",
      "w=pysal.lat2W(5,5)\n",
      "print w"
     ],
     "language": "python",
     "metadata": {},
     "outputs": [
      {
       "output_type": "stream",
       "stream": "stdout",
       "text": [
        "<pysal.weights.weights.W object at 0x4183910>\n"
       ]
      }
     ],
     "prompt_number": 7
    },
    {
     "cell_type": "markdown",
     "metadata": {},
     "source": [
      "We can inspect the number of observations and the degree of sparseness."
     ]
    },
    {
     "cell_type": "code",
     "collapsed": false,
     "input": [
      "print w.n\n",
      "print w.pct_nonzero"
     ],
     "language": "python",
     "metadata": {},
     "outputs": [
      {
       "output_type": "stream",
       "stream": "stdout",
       "text": [
        "25\n",
        "0.128\n"
       ]
      }
     ],
     "prompt_number": 8
    },
    {
     "cell_type": "markdown",
     "metadata": {},
     "source": [
      "We can also inspect those dictionaries we discussed above.  Neighbors are represented by integer values indicating the index position of the said neighbor.  Weights are represented by float values which, again, apply to the corresponding position in the neighbor dictionary."
     ]
    },
    {
     "cell_type": "code",
     "collapsed": false,
     "input": [
      "print w.neighbors\n",
      "print w.weights"
     ],
     "language": "python",
     "metadata": {},
     "outputs": [
      {
       "output_type": "stream",
       "stream": "stdout",
       "text": [
        "{0: [5, 1], 1: [0, 6, 2], 2: [1, 7, 3], 3: [2, 8, 4], 4: [3, 9], 5: [0, 10, 6], 6: [1, 5, 11, 7], 7: [2, 6, 12, 8], 8: [3, 7, 13, 9], 9: [4, 8, 14], 10: [5, 15, 11], 11: [6, 10, 16, 12], 12: [7, 11, 17, 13], 13: [8, 12, 18, 14], 14: [9, 13, 19], 15: [10, 20, 16], 16: [11, 15, 21, 17], 17: [12, 16, 22, 18], 18: [13, 17, 23, 19], 19: [14, 18, 24], 20: [15, 21], 21: [16, 20, 22], 22: [17, 21, 23], 23: [18, 22, 24], 24: [19, 23]}\n",
        "{0: [1.0, 1.0], 1: [1.0, 1.0, 1.0], 2: [1.0, 1.0, 1.0], 3: [1.0, 1.0, 1.0], 4: [1.0, 1.0], 5: [1.0, 1.0, 1.0], 6: [1.0, 1.0, 1.0, 1.0], 7: [1.0, 1.0, 1.0, 1.0], 8: [1.0, 1.0, 1.0, 1.0], 9: [1.0, 1.0, 1.0], 10: [1.0, 1.0, 1.0], 11: [1.0, 1.0, 1.0, 1.0], 12: [1.0, 1.0, 1.0, 1.0], 13: [1.0, 1.0, 1.0, 1.0], 14: [1.0, 1.0, 1.0], 15: [1.0, 1.0, 1.0], 16: [1.0, 1.0, 1.0, 1.0], 17: [1.0, 1.0, 1.0, 1.0], 18: [1.0, 1.0, 1.0, 1.0], 19: [1.0, 1.0, 1.0], 20: [1.0, 1.0], 21: [1.0, 1.0, 1.0], 22: [1.0, 1.0, 1.0], 23: [1.0, 1.0, 1.0], 24: [1.0, 1.0]}\n"
       ]
      }
     ],
     "prompt_number": 9
    },
    {
     "cell_type": "markdown",
     "metadata": {},
     "source": [
      "We can even inspect the cardinality of neighbor relations with the **histogram** method.  The method returns a list of tuples in which the first position indicates the number of neighbors that exist for a given observation, and the second position indicates how many observations fall into that category.  It being nothing more than a list of tuples, we can easily use list comprehensions to integrate pandas plotting capability."
     ]
    },
    {
     "cell_type": "code",
     "collapsed": false,
     "input": [
      "#Extract neighbor relation cardinality\n",
      "print w.histogram\n",
      "\n",
      "#Integrate pandas plot for visual display\n",
      "print Series([y for x,y in w.histogram],index=[x for x,y in w.histogram]).plot(kind='bar',\\\n",
      "                                                                               title='Cardinality of Contiguity Matrix *w*')"
     ],
     "language": "python",
     "metadata": {},
     "outputs": [
      {
       "output_type": "stream",
       "stream": "stdout",
       "text": [
        "[(2, 4), (3, 12), (4, 9)]\n",
        "Axes(0.125,0.125;0.775x0.775)\n"
       ]
      },
      {
       "metadata": {},
       "output_type": "display_data",
       "png": "[encoded data removed]",
       "text": [
        "<matplotlib.figure.Figure at 0x434e090>"
       ]
      }
     ],
     "prompt_number": 10
    },
    {
     "cell_type": "markdown",
     "metadata": {},
     "source": [
      "The default contiguity matrix behavior is the rook criterion.  Queen and bishop criteria are also available, although the latter is calculated as the difference between queen and rook.  Just as a reminder, rook contiguity requires a shared edge (two vertices).  Queen requires only one, but also accepts shared edges.  Bishop contiguity mandates only one shared vertex.\n",
      "\n",
      "Watch how the cardinality shifts with the queen behavior."
     ]
    },
    {
     "cell_type": "code",
     "collapsed": false,
     "input": [
      "#Create queen contiguity matrix\n",
      "wq=pysal.lat2W(5,5,rook=False)\n",
      "\n",
      "#Examine cardinality\n",
      "print wq.histogram\n",
      "\n",
      "#Integrate pandas plot for visual display\n",
      "print Series([y for x,y in wq.histogram],index=[x for x,y in wq.histogram]).plot(kind='bar',\\\n",
      "                                                                               title='Cardinality of Contiguity Matrix *wq*')"
     ],
     "language": "python",
     "metadata": {},
     "outputs": [
      {
       "output_type": "stream",
       "stream": "stdout",
       "text": [
        "[(3, 4), (4, 0), (5, 12), (6, 0), (7, 0), (8, 9)]\n",
        "Axes(0.125,0.125;0.775x0.775)\n"
       ]
      },
      {
       "metadata": {},
       "output_type": "display_data",
       "png": "[encoded data removed]",
       "text": [
        "<matplotlib.figure.Figure at 0x434e2d0>"
       ]
      }
     ],
     "prompt_number": 11
    },
    {
     "cell_type": "markdown",
     "metadata": {},
     "source": [
      "This is all well and good, but listen here guy, who the F uses regular grids in social science anyway?  It turns out contiguity weight matrices can be constructed directly from the observations in a shapefile. BOOM!"
     ]
    },
    {
     "cell_type": "code",
     "collapsed": false,
     "input": [
      "#Use shapefile to define neighbors\n",
      "w_shp=pysal.rook_from_shapefile(ex_dir+'columbus.shp')\n",
      "\n",
      "#Examine cardinality\n",
      "print w_shp.histogram\n",
      "\n",
      "#Integrate pandas plot for visual display\n",
      "print Series([y for x,y in w_shp.histogram],index=[x for x,y in w_shp.histogram]).plot(kind='bar',\\\n",
      "                                                                               title='Cardinality of Contiguity Matrix *wshp*')"
     ],
     "language": "python",
     "metadata": {},
     "outputs": [
      {
       "output_type": "stream",
       "stream": "stdout",
       "text": [
        "[(2, 7), (3, 10), (4, 17), (5, 8), (6, 3), (7, 3), (8, 0), (9, 1)]\n",
        "Axes(0.125,0.125;0.775x0.775)"
       ]
      },
      {
       "output_type": "stream",
       "stream": "stdout",
       "text": [
        "\n"
       ]
      },
      {
       "metadata": {},
       "output_type": "display_data",
       "png": "[encoded data removed]",
       "text": [
        "<matplotlib.figure.Figure at 0x4361450>"
       ]
      }
     ],
     "prompt_number": 12
    },
    {
     "cell_type": "markdown",
     "metadata": {},
     "source": [
      "Yes, **queen_from_shapefile** is also an acceptable method.  And yes, this is easier to do here than in R."
     ]
    },
    {
     "cell_type": "heading",
     "level": 4,
     "metadata": {},
     "source": [
      "k-Nearest Neighbor Weights"
     ]
    },
    {
     "cell_type": "markdown",
     "metadata": {},
     "source": [
      "k-nearest neighbor weights can be constructed from the centroids of our regular lattice.  We actually use numpy here to create the coordinate array."
     ]
    },
    {
     "cell_type": "code",
     "collapsed": false,
     "input": [
      "#Basically create two ndarrays, where y is the transpose of x\n",
      "x,y=np.indices((5,5))\n",
      "\n",
      "#Convert both from matrices to 1-d vectors\n",
      "x.shape=(25,1)\n",
      "y.shape=(25,1)\n",
      "\n",
      "#Concatenate along the length, and bundle as coordinate pairs\n",
      "data=np.hstack([x,y])\n",
      "print data"
     ],
     "language": "python",
     "metadata": {},
     "outputs": [
      {
       "output_type": "stream",
       "stream": "stdout",
       "text": [
        "[[0 0]\n",
        " [0 1]\n",
        " [0 2]\n",
        " [0 3]\n",
        " [0 4]\n",
        " [1 0]\n",
        " [1 1]\n",
        " [1 2]\n",
        " [1 3]\n",
        " [1 4]\n",
        " [2 0]\n",
        " [2 1]\n",
        " [2 2]\n",
        " [2 3]\n",
        " [2 4]\n",
        " [3 0]\n",
        " [3 1]\n",
        " [3 2]\n",
        " [3 3]\n",
        " [3 4]\n",
        " [4 0]\n",
        " [4 1]\n",
        " [4 2]\n",
        " [4 3]\n",
        " [4 4]]\n"
       ]
      }
     ],
     "prompt_number": 13
    },
    {
     "cell_type": "markdown",
     "metadata": {},
     "source": [
      "We then use the **knnW** method to define our neighbors."
     ]
    },
    {
     "cell_type": "code",
     "collapsed": false,
     "input": [
      "wknn3=pysal.knnW(data,k=3)\n",
      "print wknn3"
     ],
     "language": "python",
     "metadata": {},
     "outputs": [
      {
       "output_type": "stream",
       "stream": "stdout",
       "text": [
        "<pysal.weights.weights.W object at 0x4571090>\n"
       ]
      }
     ],
     "prompt_number": 14
    },
    {
     "cell_type": "markdown",
     "metadata": {},
     "source": [
      "Neighbors and weights can be viewed in the same way."
     ]
    },
    {
     "cell_type": "code",
     "collapsed": false,
     "input": [
      "print wknn3.neighbors\n",
      "print wknn3.weights"
     ],
     "language": "python",
     "metadata": {},
     "outputs": [
      {
       "output_type": "stream",
       "stream": "stdout",
       "text": [
        "{0: [1, 5, 6], 1: [0, 2, 6], 2: [1, 3, 7], 3: [2, 4, 8], 4: [3, 9, 8], 5: [0, 6, 10], 6: [1, 5, 7], 7: [2, 6, 12], 8: [3, 9, 13], 9: [4, 8, 14], 10: [5, 11, 15], 11: [6, 10, 12], 12: [7, 11, 13], 13: [8, 14, 18], 14: [9, 13, 19], 15: [10, 16, 20], 16: [15, 17, 21], 17: [16, 18, 22], 18: [17, 19, 23], 19: [14, 18, 24], 20: [15, 21, 16], 21: [16, 20, 22], 22: [17, 21, 23], 23: [18, 22, 24], 24: [19, 23, 18]}\n",
        "{0: [1, 1, 1], 1: [1, 1, 1], 2: [1, 1, 1], 3: [1, 1, 1], 4: [1, 1, 1], 5: [1, 1, 1], 6: [1, 1, 1], 7: [1, 1, 1], 8: [1, 1, 1], 9: [1, 1, 1], 10: [1, 1, 1], 11: [1, 1, 1], 12: [1, 1, 1], 13: [1, 1, 1], 14: [1, 1, 1], 15: [1, 1, 1], 16: [1, 1, 1], 17: [1, 1, 1], 18: [1, 1, 1], 19: [1, 1, 1], 20: [1, 1, 1], 21: [1, 1, 1], 22: [1, 1, 1], 23: [1, 1, 1], 24: [1, 1, 1]}\n"
       ]
      }
     ],
     "prompt_number": 15
    },
    {
     "cell_type": "markdown",
     "metadata": {},
     "source": [
      "Note that observation 0 ([0 0]) is neighbored by observations 1 ([0 1]), 5 ([1 0]), and 6 ([1 1]).  Note also that k-nearest assigns the same weight value to all applicable neighbors.\n",
      "\n",
      "Note that we can also build k-nearest from a shapefile."
     ]
    },
    {
     "cell_type": "code",
     "collapsed": false,
     "input": [
      "#Use shapefile to define neighbors\n",
      "w_knn=pysal.knnW_from_shapefile(ex_dir+'columbus.shp',k=4)\n",
      "\n",
      "#Examine neighbors\n",
      "print w_knn.neighbors"
     ],
     "language": "python",
     "metadata": {},
     "outputs": [
      {
       "output_type": "stream",
       "stream": "stdout",
       "text": [
        "{0: [2, 1, 3, 7], 1: [3, 0, 7, 2], 2: [4, 3, 0, 7], 3: [7, 1, 6, 2], 4: [10, 7, 2, 14], 5: [8, 4, 9, 2], 6: [12, 7, 13, 3], 7: [3, 6, 12, 11], 8: [21, 5, 25, 14], 9: [16, 8, 19, 22], 10: [11, 12, 15, 14], 11: [10, 12, 13, 15], 12: [13, 11, 10, 18], 13: [12, 18, 11, 17], 14: [15, 24, 10, 25], 15: [17, 14, 11, 18], 16: [22, 9, 19, 31], 17: [15, 18, 23, 13], 18: [13, 17, 12, 15], 19: [26, 22, 16, 32], 20: [23, 33, 18, 17], 21: [26, 25, 8, 32], 22: [16, 31, 19, 9], 23: [17, 18, 15, 29], 24: [25, 14, 15, 28], 25: [24, 21, 14, 27], 26: [32, 21, 34, 19], 27: [28, 37, 25, 34], 28: [29, 27, 36, 24], 29: [28, 36, 23, 24], 30: [35, 33, 41, 45], 31: [40, 39, 22, 19], 32: [26, 34, 27, 19], 33: [41, 30, 35, 20], 34: [32, 43, 37, 26], 35: [30, 41, 45, 38], 36: [37, 42, 28, 29], 37: [42, 36, 27, 28], 38: [45, 35, 30, 41], 39: [31, 40, 46, 22], 40: [31, 39, 46, 22], 41: [33, 35, 30, 45], 42: [37, 47, 36, 44], 43: [34, 48, 42, 47], 44: [47, 42, 36, 37], 45: [38, 35, 41, 30], 46: [40, 39, 31, 22], 47: [42, 48, 44, 43], 48: [47, 43, 42, 44]}\n"
       ]
      }
     ],
     "prompt_number": 16
    },
    {
     "cell_type": "heading",
     "level": 4,
     "metadata": {},
     "source": [
      "Distance Band Weights"
     ]
    },
    {
     "cell_type": "markdown",
     "metadata": {},
     "source": [
      "If we don't think that the number of neighbors is as important as distance, we can work with distance thresholds.  The process is quite similar, though this time we use the **threshold_binaryW_from_array** to work on our previously constructed data.  A cardinality plot would be more interesting in this case..."
     ]
    },
    {
     "cell_type": "code",
     "collapsed": false,
     "input": [
      "#Create distance weights using 'data'\n",
      "wthresh=pysal.threshold_binaryW_from_array(data,2)\n",
      "\n",
      "#Integrate pandas plot for visual display\n",
      "print Series([y for x,y in wthresh.histogram],index=[x for x,y in wthresh.histogram]).plot(kind='bar',\\\n",
      "                                                                               title='Cardinality of Contiguity Matrix *wthresh*')"
     ],
     "language": "python",
     "metadata": {},
     "outputs": [
      {
       "output_type": "stream",
       "stream": "stdout",
       "text": [
        "Axes(0.125,0.125;0.775x0.775)\n"
       ]
      },
      {
       "metadata": {},
       "output_type": "display_data",
       "png": "[encoded data removed]",
       "text": [
        "<matplotlib.figure.Figure at 0x4571d10>"
       ]
      }
     ],
     "prompt_number": 17
    },
    {
     "cell_type": "markdown",
     "metadata": {},
     "source": [
      "If we are generating the matrix from a shapefile, we must first determine the minimum nearest neighbor distance so that each unit has at least one neighbor.  Then, we proceed in the same fashion..."
     ]
    },
    {
     "cell_type": "code",
     "collapsed": false,
     "input": [
      "#Find minimum threshold\n",
      "thresh=pysal.min_threshold_dist_from_shapefile(ex_dir+'columbus.shp')\n",
      "\n",
      "#Generate weights\n",
      "wts=pysal.threshold_binaryW_from_shapefile(ex_dir+'columbus.shp',thresh)\n",
      "\n",
      "#Integrate pandas plot for visual display\n",
      "print Series([y for x,y in wts.histogram],index=[x for x,y in wts.histogram]).plot(kind='bar',\\\n",
      "                                                                               title='Cardinality of Contiguity Matrix *wts*')"
     ],
     "language": "python",
     "metadata": {},
     "outputs": [
      {
       "output_type": "stream",
       "stream": "stdout",
       "text": [
        "Axes(0.125,0.125;0.775x0.775)\n"
       ]
      },
      {
       "metadata": {},
       "output_type": "display_data",
       "png": "[encoded data removed]",
       "text": [
        "<matplotlib.figure.Figure at 0x4562810>"
       ]
      }
     ],
     "prompt_number": 18
    },
    {
     "cell_type": "markdown",
     "metadata": {},
     "source": [
      "**threshold_continuousW_from_array** permits float weights and even provides an *alpha* option for decay rates."
     ]
    },
    {
     "cell_type": "heading",
     "level": 4,
     "metadata": {},
     "source": [
      "Kernel Weights"
     ]
    },
    {
     "cell_type": "markdown",
     "metadata": {},
     "source": [
      "Kernel weights combine distance band considerations with pre-defined decay functions.  Rather than using a linear decay with *alpha*, kernel weights enable options like 'gaussian' or 'quadratic' via the *function* argument.  *Bandwidth* handles the distance element in this method.  Setting *fixed* to False enables adaptive bandwidths to be set endogenously."
     ]
    },
    {
     "cell_type": "code",
     "collapsed": false,
     "input": [
      "#Generate point features\n",
      "points = [(10, 10), (20, 10), (40, 10), (15, 20), (30, 20), (30, 30)]\n",
      "\n",
      "#Generate weights\n",
      "kweag = pysal.Kernel(points,fixed = False,function = 'gaussian')\n",
      "\n",
      "print kweag.neighbors\n",
      "print kweag.weights"
     ],
     "language": "python",
     "metadata": {},
     "outputs": [
      {
       "output_type": "stream",
       "stream": "stdout",
       "text": [
        "{0: [0, 1, 3], 1: [1, 0, 3], 2: [2, 4, 1], 3: [3, 0, 1], 4: [4, 5, 2], 5: [5, 4, 3]}\n",
        "{0: [0.3989422804014327, 0.2674190291577696, 0.2419707487162134], 1: [0.3989422804014327, 0.2674190291577696, 0.2419707487162134], 2: [0.3989422804014327, 0.31069657591175387, 0.2419707487162134], 3: [0.3989422804014327, 0.2419707487162134, 0.2419707487162134], 4: [0.3989422804014327, 0.31069657591175387, 0.2419707487162134], 5: [0.3989422804014327, 0.3420546852597499, 0.2419707487162134]}\n"
       ]
      }
     ],
     "prompt_number": 19
    },
    {
     "cell_type": "heading",
     "level": 4,
     "metadata": {},
     "source": [
      "More with Weights"
     ]
    },
    {
     "cell_type": "markdown",
     "metadata": {},
     "source": [
      "We won't get into too much more detail, but suffice it to say that there are a number of useful methods for dealing with weight matrices.  We can view weight sums with **pysal.W.s0**, and view the full on sparse matrix with **pysal.W.full**.  There are also useful methods for transformations and extracting commonly needed information from weight matrices in the [docs](http://pysal.org/1.3/users/tutorials/weights.html#pysal-spatial-weight-types)."
     ]
    },
    {
     "cell_type": "heading",
     "level": 2,
     "metadata": {},
     "source": [
      "Spatial Lags"
     ]
    },
    {
     "cell_type": "markdown",
     "metadata": {},
     "source": [
      "Spatial lags are a critical piece of infrastructure for spatial econometrics, so I will take some space here to examine their construction.  We will be using a regular lattice, but the concepts are applicable to shapefiles as well."
     ]
    },
    {
     "cell_type": "code",
     "collapsed": false,
     "input": [
      "#Generate lattice\n",
      "w=pysal.lat2W(3,3)\n",
      "\n",
      "#Create phony 'attributes'\n",
      "y=np.arange(w.n)\n",
      "\n",
      "y"
     ],
     "language": "python",
     "metadata": {},
     "outputs": [
      {
       "metadata": {},
       "output_type": "pyout",
       "prompt_number": 20,
       "text": [
        "array([0, 1, 2, 3, 4, 5, 6, 7, 8])"
       ]
      }
     ],
     "prompt_number": 20
    },
    {
     "cell_type": "markdown",
     "metadata": {},
     "source": [
      "The spatial lag is the weighted sum of neighboring attribute values:   $yl_i=\\sum_jw_{i,j}y_j$"
     ]
    },
    {
     "cell_type": "markdown",
     "metadata": {},
     "source": [
      "In our example below, the attributes are given by y, and the weights are binary weights according to rook criteria."
     ]
    },
    {
     "cell_type": "code",
     "collapsed": false,
     "input": [
      "#Row standardize our weight matrix\n",
      "w.transform='r'\n",
      "\n",
      "#Generate spatial lags\n",
      "yl=pysal.lag_spatial(w,y)\n",
      "\n",
      "yl"
     ],
     "language": "python",
     "metadata": {},
     "outputs": [
      {
       "metadata": {},
       "output_type": "pyout",
       "prompt_number": 21,
       "text": [
        "array([ 2.        ,  2.        ,  3.        ,  3.33333333,  4.        ,\n",
        "        4.66666667,  5.        ,  6.        ,  6.        ])"
       ]
      }
     ],
     "prompt_number": 21
    },
    {
     "cell_type": "markdown",
     "metadata": {},
     "source": [
      "It is crucial that the attribute values correspond appropriately with the features in the shapefile.  Usually, however, these items come from the same data source."
     ]
    },
    {
     "cell_type": "code",
     "collapsed": false,
     "input": [
      "#Create weight matrix from shapefile\n",
      "w=pysal.rook_from_shapefile(ex_dir+'columbus.shp')\n",
      "\n",
      "#Grab associated data table\n",
      "f=pysal.open(ex_dir+'columbus.dbf')\n",
      "type(f)"
     ],
     "language": "python",
     "metadata": {},
     "outputs": [
      {
       "metadata": {},
       "output_type": "pyout",
       "prompt_number": 22,
       "text": [
        "pysal.core.IOHandlers.pyDbfIO.DBF"
       ]
      }
     ],
     "prompt_number": 22
    },
    {
     "cell_type": "markdown",
     "metadata": {},
     "source": [
      "Since relations between variables the adding or removal of variables will be common, this is a place at which it would be convenient to integrate pandas.  Fortunately, there are many ways to build DataFrames, so this actually isn't very labor intensive even though there is no direct conversion method.  In fact, we can create our own function. The reason is that PySAL enables base Python and numpy representations of .dbf datasets."
     ]
    },
    {
     "cell_type": "code",
     "collapsed": false,
     "input": [
      "def dbf2DF(dbf):\n",
      "    \"\"\"Converts .dbf data into pandas DataFrame.\n",
      "    Requires: pandas, PySAL\"\"\"\n",
      "    #Grab list of column names\n",
      "    dbf_cols=dbf.header\n",
      "\n",
      "    #Grab list of data arrays associated with said column names\n",
      "    dbf_data=[]\n",
      "    for col in dbf_cols:\n",
      "        dbf_data.append(dbf.by_col[col])\n",
      "        \n",
      "    #Create data dictionary\n",
      "    dbf_dict=dict(zip(dbf_cols,dbf_data))\n",
      "    \n",
      "    #Generate DataFrame\n",
      "    dbf_df=DataFrame(dbf_dict)\n",
      "    return dbf_df\n",
      "\n",
      "col_data=dbf2DF(f)\n",
      "col_data.head()"
     ],
     "language": "python",
     "metadata": {},
     "outputs": [
      {
       "html": [
        "<div style=\"max-height:1000px;max-width:1500px;overflow:auto;\">\n",
        "<table border=\"1\" class=\"dataframe\">\n",
        "  <thead>\n",
        "    <tr style=\"text-align: right;\">\n",
        "      <th></th>\n",
        "      <th>AREA</th>\n",
        "      <th>COLUMBUS_</th>\n",
        "      <th>COLUMBUS_I</th>\n",
        "      <th>CP</th>\n",
        "      <th>CRIME</th>\n",
        "      <th>DISCBD</th>\n",
        "      <th>EW</th>\n",
        "      <th>HOVAL</th>\n",
        "      <th>INC</th>\n",
        "      <th>NEIG</th>\n",
        "      <th>NEIGNO</th>\n",
        "      <th>NSA</th>\n",
        "      <th>NSB</th>\n",
        "      <th>OPEN</th>\n",
        "      <th>PERIMETER</th>\n",
        "      <th>PLUMB</th>\n",
        "      <th>POLYID</th>\n",
        "      <th>THOUS</th>\n",
        "      <th>X</th>\n",
        "      <th>Y</th>\n",
        "    </tr>\n",
        "  </thead>\n",
        "  <tbody>\n",
        "    <tr>\n",
        "      <th>0</th>\n",
        "      <td> 0.309441</td>\n",
        "      <td> 2</td>\n",
        "      <td> 5</td>\n",
        "      <td> 0</td>\n",
        "      <td> 15.725980</td>\n",
        "      <td> 5.03</td>\n",
        "      <td> 1</td>\n",
        "      <td> 80.467003</td>\n",
        "      <td> 19.531</td>\n",
        "      <td> 5</td>\n",
        "      <td> 1005</td>\n",
        "      <td> 1</td>\n",
        "      <td> 1</td>\n",
        "      <td> 2.850747</td>\n",
        "      <td> 2.440629</td>\n",
        "      <td> 0.217155</td>\n",
        "      <td> 1</td>\n",
        "      <td> 1000</td>\n",
        "      <td> 38.799999</td>\n",
        "      <td> 44.070000</td>\n",
        "    </tr>\n",
        "    <tr>\n",
        "      <th>1</th>\n",
        "      <td> 0.259329</td>\n",
        "      <td> 3</td>\n",
        "      <td> 1</td>\n",
        "      <td> 0</td>\n",
        "      <td> 18.801754</td>\n",
        "      <td> 4.27</td>\n",
        "      <td> 0</td>\n",
        "      <td> 44.567001</td>\n",
        "      <td> 21.232</td>\n",
        "      <td> 1</td>\n",
        "      <td> 1001</td>\n",
        "      <td> 1</td>\n",
        "      <td> 1</td>\n",
        "      <td> 5.296720</td>\n",
        "      <td> 2.236939</td>\n",
        "      <td> 0.320581</td>\n",
        "      <td> 2</td>\n",
        "      <td> 1000</td>\n",
        "      <td> 35.619999</td>\n",
        "      <td> 42.380001</td>\n",
        "    </tr>\n",
        "    <tr>\n",
        "      <th>2</th>\n",
        "      <td> 0.192468</td>\n",
        "      <td> 4</td>\n",
        "      <td> 6</td>\n",
        "      <td> 0</td>\n",
        "      <td> 30.626781</td>\n",
        "      <td> 3.89</td>\n",
        "      <td> 1</td>\n",
        "      <td> 26.350000</td>\n",
        "      <td> 15.956</td>\n",
        "      <td> 6</td>\n",
        "      <td> 1006</td>\n",
        "      <td> 1</td>\n",
        "      <td> 1</td>\n",
        "      <td> 4.534649</td>\n",
        "      <td> 2.187547</td>\n",
        "      <td> 0.374404</td>\n",
        "      <td> 3</td>\n",
        "      <td> 1000</td>\n",
        "      <td> 39.820000</td>\n",
        "      <td> 41.180000</td>\n",
        "    </tr>\n",
        "    <tr>\n",
        "      <th>3</th>\n",
        "      <td> 0.083841</td>\n",
        "      <td> 5</td>\n",
        "      <td> 2</td>\n",
        "      <td> 0</td>\n",
        "      <td> 32.387760</td>\n",
        "      <td> 3.70</td>\n",
        "      <td> 0</td>\n",
        "      <td> 33.200001</td>\n",
        "      <td>  4.477</td>\n",
        "      <td> 2</td>\n",
        "      <td> 1002</td>\n",
        "      <td> 1</td>\n",
        "      <td> 1</td>\n",
        "      <td> 0.394427</td>\n",
        "      <td> 1.427635</td>\n",
        "      <td> 1.186944</td>\n",
        "      <td> 4</td>\n",
        "      <td> 1000</td>\n",
        "      <td> 36.500000</td>\n",
        "      <td> 40.520000</td>\n",
        "    </tr>\n",
        "    <tr>\n",
        "      <th>4</th>\n",
        "      <td> 0.488888</td>\n",
        "      <td> 6</td>\n",
        "      <td> 7</td>\n",
        "      <td> 0</td>\n",
        "      <td> 50.731510</td>\n",
        "      <td> 2.83</td>\n",
        "      <td> 1</td>\n",
        "      <td> 23.225000</td>\n",
        "      <td> 11.252</td>\n",
        "      <td> 7</td>\n",
        "      <td> 1007</td>\n",
        "      <td> 1</td>\n",
        "      <td> 1</td>\n",
        "      <td> 0.405664</td>\n",
        "      <td> 2.997133</td>\n",
        "      <td> 0.624596</td>\n",
        "      <td> 5</td>\n",
        "      <td> 1000</td>\n",
        "      <td> 40.009998</td>\n",
        "      <td> 38.000000</td>\n",
        "    </tr>\n",
        "  </tbody>\n",
        "</table>\n",
        "</div>"
       ],
       "metadata": {},
       "output_type": "pyout",
       "prompt_number": 23,
       "text": [
        "       AREA  COLUMBUS_  COLUMBUS_I  CP      CRIME  DISCBD  EW      HOVAL  \\\n",
        "0  0.309441          2           5   0  15.725980    5.03   1  80.467003   \n",
        "1  0.259329          3           1   0  18.801754    4.27   0  44.567001   \n",
        "2  0.192468          4           6   0  30.626781    3.89   1  26.350000   \n",
        "3  0.083841          5           2   0  32.387760    3.70   0  33.200001   \n",
        "4  0.488888          6           7   0  50.731510    2.83   1  23.225000   \n",
        "\n",
        "      INC  NEIG  NEIGNO  NSA  NSB      OPEN  PERIMETER     PLUMB  POLYID  \\\n",
        "0  19.531     5    1005    1    1  2.850747   2.440629  0.217155       1   \n",
        "1  21.232     1    1001    1    1  5.296720   2.236939  0.320581       2   \n",
        "2  15.956     6    1006    1    1  4.534649   2.187547  0.374404       3   \n",
        "3   4.477     2    1002    1    1  0.394427   1.427635  1.186944       4   \n",
        "4  11.252     7    1007    1    1  0.405664   2.997133  0.624596       5   \n",
        "\n",
        "   THOUS          X          Y  \n",
        "0   1000  38.799999  44.070000  \n",
        "1   1000  35.619999  42.380001  \n",
        "2   1000  39.820000  41.180000  \n",
        "3   1000  36.500000  40.520000  \n",
        "4   1000  40.009998  38.000000  "
       ]
      }
     ],
     "prompt_number": 23
    },
    {
     "cell_type": "markdown",
     "metadata": {},
     "source": [
      "Recall that the **DataFrame.values** method returns a numpy array, which is needed in the construction of spatial lags."
     ]
    },
    {
     "cell_type": "code",
     "collapsed": false,
     "input": [
      "col_data['INC'].values"
     ],
     "language": "python",
     "metadata": {},
     "outputs": [
      {
       "metadata": {},
       "output_type": "pyout",
       "prompt_number": 24,
       "text": [
        "array([ 19.531   ,  21.232   ,  15.956   ,   4.477   ,  11.252   ,\n",
        "        16.028999,   8.438   ,  11.337   ,  17.586   ,  13.598   ,\n",
        "         7.467   ,  10.048   ,   9.549   ,   9.963   ,   9.873   ,\n",
        "         7.625   ,   9.798   ,  13.185   ,  11.618   ,  31.07    ,\n",
        "        10.655   ,  11.709   ,  21.155001,  14.236   ,   8.461   ,\n",
        "         8.085   ,  10.822   ,   7.856   ,   8.681   ,  13.906   ,\n",
        "        16.940001,  18.941999,   9.918   ,  14.948   ,  12.814   ,\n",
        "        18.739   ,  17.017   ,  11.107   ,  18.476999,  29.833   ,\n",
        "        22.207001,  25.872999,  13.38    ,  16.961   ,  14.135   ,\n",
        "        18.323999,  18.950001,  11.813   ,  18.796   ])"
       ]
      }
     ],
     "prompt_number": 24
    },
    {
     "cell_type": "markdown",
     "metadata": {},
     "source": [
      "In any event, proceeding with the spatial lag construction."
     ]
    },
    {
     "cell_type": "code",
     "collapsed": false,
     "input": [
      "#Row standardize weights\n",
      "w.transform='r'\n",
      "\n",
      "#Generate lags\n",
      "yl=pysal.lag_spatial(w,col_data['INC'].values)\n",
      "yl"
     ],
     "language": "python",
     "metadata": {},
     "outputs": [
      {
       "metadata": {},
       "output_type": "pyout",
       "prompt_number": 25,
       "text": [
        "array([ 18.594     ,  13.32133333,  14.123     ,  14.94425   ,\n",
        "        11.817857  ,  14.419     ,  10.283     ,   8.3364    ,\n",
        "        11.7576665 ,  19.48466667,  10.0655    ,   9.1882    ,\n",
        "         9.483     ,  10.07716667,  11.231     ,  10.46185714,\n",
        "        21.94100033,  10.8605    ,  12.46133333,  15.39877778,\n",
        "        14.36333333,  15.0838    ,  19.93666633,  10.90833333,\n",
        "         9.7       ,  11.403     ,  15.13825   ,  10.448     ,\n",
        "        11.81      ,  12.64725   ,  16.8435    ,  26.0662505 ,\n",
        "        15.6405    ,  18.05175   ,  15.3824    ,  18.9123996 ,\n",
        "        12.2418    ,  12.76675   ,  18.5314995 ,  22.79225025,\n",
        "        22.575     ,  16.8435    ,  14.2066    ,  14.20075   ,\n",
        "        15.2515    ,  18.6079995 ,  26.0200005 ,  15.818     ,  14.303     ])"
       ]
      }
     ],
     "prompt_number": 25
    },
    {
     "cell_type": "heading",
     "level": 2,
     "metadata": {},
     "source": [
      "Shapefile Visualization"
     ]
    },
    {
     "cell_type": "markdown",
     "metadata": {},
     "source": [
      "It appears that visualization with PySAL has a long way to go before coming close to touching [ggplot2](http://ggplot2.org/) in R.  However, apparently there is some functionality, which may serve to provide enough to identify where greater resources are required.\n",
      "\n",
      "There are two tiers of the visualization API.  One provides quick and dirty plots, while another provides a low-level interface with [matplotlib](http://matplotlib.org/).  Let's start with the first one..."
     ]
    },
    {
     "cell_type": "code",
     "collapsed": false,
     "input": [
      "from pysal.contrib.viz import mapping as map"
     ],
     "language": "python",
     "metadata": {},
     "outputs": [
      {
       "ename": "ImportError",
       "evalue": "No module named ogr",
       "output_type": "pyerr",
       "traceback": [
        "\u001b[1;31m---------------------------------------------------------------------------\u001b[0m\n\u001b[1;31mImportError\u001b[0m                               Traceback (most recent call last)",
        "\u001b[1;32m<ipython-input-26-8631b711b9ff>\u001b[0m in \u001b[0;36m<module>\u001b[1;34m()\u001b[0m\n\u001b[1;32m----> 1\u001b[1;33m \u001b[1;32mfrom\u001b[0m \u001b[0mpysal\u001b[0m\u001b[1;33m.\u001b[0m\u001b[0mcontrib\u001b[0m\u001b[1;33m.\u001b[0m\u001b[0mviz\u001b[0m \u001b[1;32mimport\u001b[0m \u001b[0mmapping\u001b[0m \u001b[1;32mas\u001b[0m \u001b[0mmap\u001b[0m\u001b[1;33m\u001b[0m\u001b[0m\n\u001b[0m",
        "\u001b[1;32m/home/choct155/analysis/Anaconda/lib/python2.7/site-packages/pysal/contrib/viz/mapping.py\u001b[0m in \u001b[0;36m<module>\u001b[1;34m()\u001b[0m\n\u001b[0;32m     17\u001b[0m \u001b[1;32mfrom\u001b[0m \u001b[0mmatplotlib\u001b[0m\u001b[1;33m.\u001b[0m\u001b[0mcollections\u001b[0m \u001b[1;32mimport\u001b[0m \u001b[0mPolyCollection\u001b[0m\u001b[1;33m,\u001b[0m \u001b[0mPathCollection\u001b[0m\u001b[1;33m,\u001b[0m \u001b[0mPatchCollection\u001b[0m\u001b[1;33m\u001b[0m\u001b[0m\n\u001b[0;32m     18\u001b[0m \u001b[1;32mfrom\u001b[0m \u001b[0mmpl_toolkits\u001b[0m\u001b[1;33m.\u001b[0m\u001b[0mbasemap\u001b[0m \u001b[1;32mimport\u001b[0m \u001b[0mBasemap\u001b[0m\u001b[1;33m\u001b[0m\u001b[0m\n\u001b[1;32m---> 19\u001b[1;33m \u001b[1;32mfrom\u001b[0m \u001b[0mogr\u001b[0m \u001b[1;32mimport\u001b[0m \u001b[0mosr\u001b[0m\u001b[1;33m\u001b[0m\u001b[0m\n\u001b[0m\u001b[0;32m     20\u001b[0m \u001b[1;33m\u001b[0m\u001b[0m\n\u001b[0;32m     21\u001b[0m \u001b[1;32mdef\u001b[0m \u001b[0mtransCRS\u001b[0m\u001b[1;33m(\u001b[0m\u001b[0mxy\u001b[0m\u001b[1;33m,\u001b[0m \u001b[0msrc_prj\u001b[0m\u001b[1;33m,\u001b[0m \u001b[0mtrt_prj\u001b[0m\u001b[1;33m)\u001b[0m\u001b[1;33m:\u001b[0m\u001b[1;33m\u001b[0m\u001b[0m\n",
        "\u001b[1;31mImportError\u001b[0m: No module named ogr"
       ]
      }
     ],
     "prompt_number": 26
    },
    {
     "cell_type": "code",
     "collapsed": false,
     "input": [
      "import gdal\n",
      "import ogr"
     ],
     "language": "python",
     "metadata": {},
     "outputs": [
      {
       "ename": "ImportError",
       "evalue": "No module named gdal",
       "output_type": "pyerr",
       "traceback": [
        "\u001b[1;31m---------------------------------------------------------------------------\u001b[0m\n\u001b[1;31mImportError\u001b[0m                               Traceback (most recent call last)",
        "\u001b[1;32m<ipython-input-29-ef9eb3418665>\u001b[0m in \u001b[0;36m<module>\u001b[1;34m()\u001b[0m\n\u001b[1;32m----> 1\u001b[1;33m \u001b[1;32mimport\u001b[0m \u001b[0mgdal\u001b[0m\u001b[1;33m\u001b[0m\u001b[0m\n\u001b[0m\u001b[0;32m      2\u001b[0m \u001b[1;32mimport\u001b[0m \u001b[0mogr\u001b[0m\u001b[1;33m\u001b[0m\u001b[0m\n",
        "\u001b[1;31mImportError\u001b[0m: No module named gdal"
       ]
      }
     ],
     "prompt_number": 29
    },
    {
     "cell_type": "code",
     "collapsed": false,
     "input": [
      "from osgeo import ogr"
     ],
     "language": "python",
     "metadata": {},
     "outputs": [
      {
       "ename": "ImportError",
       "evalue": "No module named osgeo",
       "output_type": "pyerr",
       "traceback": [
        "\u001b[1;31m---------------------------------------------------------------------------\u001b[0m\n\u001b[1;31mImportError\u001b[0m                               Traceback (most recent call last)",
        "\u001b[1;32m<ipython-input-28-77fe31f17681>\u001b[0m in \u001b[0;36m<module>\u001b[1;34m()\u001b[0m\n\u001b[1;32m----> 1\u001b[1;33m \u001b[1;32mfrom\u001b[0m \u001b[0mosgeo\u001b[0m \u001b[1;32mimport\u001b[0m \u001b[0mogr\u001b[0m\u001b[1;33m\u001b[0m\u001b[0m\n\u001b[0m",
        "\u001b[1;31mImportError\u001b[0m: No module named osgeo"
       ]
      }
     ],
     "prompt_number": 28
    }
   ],
   "metadata": {}
  }
 ]
}