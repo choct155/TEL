{
 "metadata": {
  "name": ""
 },
 "nbformat": 3,
 "nbformat_minor": 0,
 "worksheets": [
  {
   "cells": [
    {
     "cell_type": "heading",
     "level": 1,
     "metadata": {},
     "source": [
      "Dynamic Clustering Behavior"
     ]
    },
    {
     "cell_type": "markdown",
     "metadata": {},
     "source": [
      "A key assumption in my research is that we can reasonably draw inferences based upon a county's movement relative to the group of which it is a member.  In order to avoid any a priori assumptions about which counties belong to which group, we are attempting to key on particular attributes, thereby allowing membership to be an emergent property of the process.  In other words, instead of picking counties, we choose the attribute (e.g. economic output) and group counties together with similar values of said attribute.  \n",
      "\n",
      "Such classification is often done by binning groups based upon quantile or fixed boundaries.  While this is a useful technique, it has at least one substantial drawback:\n",
      "\n",
      "*Whether it's based upon membership size (quantile) or threshold identification (fixed boundaries), the approach introduces somewhat rigid constraints that can have the effect of grouping dissimilar things.*\n",
      "\n",
      "Clustering algorithms (e.g. [k-means](http://en.wikipedia.org/wiki/K-means_clustering)) partially offset this difficulty because they are optimization routines that seek to maximize similarity within group while maximizing dissimilarity across groups.  Even still, the selection of the number of groups is an input parameter and may thus still introduce a level of arbitrariness.  Nevertheless, when viewed in this way, binning is basically a special case of clustering characterized by a rigid input structure.  Clustering has one structural input, the number of groups.  Binning has two structural inputs, the number of groups *and* the spacing of boundaries (quantile)/the location of boundaries (fixed boundary).  The practical effect is the potential for group-specific outliers to mischaracterize the true dynamics of the group.\n",
      "\n",
      "The purpose of this script is to observe the behavior of county clusters in Colorado over time.  The clusters will be assessed based upon the following county attributes:\n",
      "\n",
      "1. Employment Levels\n",
      "2. Employment Growth\n",
      "3. Population Levels\n",
      "4. Population Growth\n",
      "5. Per Capita Income\n",
      "6. Public Expenditure Composition"
     ]
    },
    {
     "cell_type": "code",
     "collapsed": false,
     "input": [
      "#Basic data manipulation\n",
      "import numpy as np\n",
      "import pandas as pd\n",
      "from pandas import Series, DataFrame\n",
      "\n",
      "#Visualization\n",
      "import seaborn as sb\n",
      "\n",
      "#API tools\n",
      "import requests"
     ],
     "language": "python",
     "metadata": {},
     "outputs": [],
     "prompt_number": 2
    },
    {
     "cell_type": "markdown",
     "metadata": {},
     "source": [
      "We can grab the county income and population data from the [Bureau of Economic Affairs API](http://www.bea.gov/API/signup/index.cfm).  First, we need to see which variables are available and their associated codes."
     ]
    },
    {
     "cell_type": "code",
     "collapsed": false,
     "input": [
      "#Capture the API key\n",
      "key='027446AC-F203-4834-BF78-6E41378DAF42'\n",
      "\n",
      "#Request indicator list via BEA API\n",
      "var_list=requests.get('http://www.bea.gov/api/data?&UserID='+key+'=&method=GetParameterValues&'+\\\n",
      "                  'datasetname=RegionalData&ParameterName=keycode&GeoFIPS=COUNTY')\n",
      "\n",
      "#For each variable in the request...\n",
      "for var in var_list.json()['BEAAPI']['Results']['ParamValue']:\n",
      "    #...if the indicators are available at the county level...\n",
      "    if 'county' in var['Description']:\n",
      "        #...tell me what they are\n",
      "        print var"
     ],
     "language": "python",
     "metadata": {},
     "outputs": [
      {
       "output_type": "stream",
       "stream": "stdout",
       "text": [
        "{u'KeyCode': u'TPI_CI', u'Description': u'Total Personal Income (county annual income)'}\n",
        "{u'KeyCode': u'POP_CI', u'Description': u'Population (county annual income)'}\n",
        "{u'KeyCode': u'PCPI_CI', u'Description': u'Per Capita personal income (county annual income)'}\n",
        "{u'KeyCode': u'NFPI_CI', u'Description': u'Nonfarm personal income (county annual income)'}\n",
        "{u'KeyCode': u'FPI_CI', u'Description': u'Farm income (county annual income)'}\n",
        "{u'KeyCode': u'EARN_CI', u'Description': u'Earnings by place of work (county annual income)'}\n",
        "{u'KeyCode': u'CGSI_CI', u'Description': u'Contributions for government social insurance (county annual income)'}\n",
        "{u'KeyCode': u'AR_CI', u'Description': u'Adjustment for residence (county annual income)'}\n",
        "{u'KeyCode': u'NE_CI', u'Description': u'Net Earnings by place of residence (county annual income)'}\n",
        "{u'KeyCode': u'DIR_CI', u'Description': u'Dividends, interest, and rent (county annual income)'}\n",
        "{u'KeyCode': u'PCTR_CI', u'Description': u'Personal current transfer receipts (county annual income)'}\n",
        "{u'KeyCode': u'WS_CI', u'Description': u'Wages and salaries (county annual income)'}\n",
        "{u'KeyCode': u'SUPP_CI', u'Description': u'Supplements to wages and salaries (county annual income)'}\n",
        "{u'KeyCode': u'PROP_CI', u'Description': u\"Proprietors' Income (county annual income)\"}\n"
       ]
      }
     ],
     "prompt_number": 12
    },
    {
     "cell_type": "markdown",
     "metadata": {},
     "source": [
      "We need the following variables:\n",
      "\n",
      "+ Population (`POP_CI`)\n",
      "+ Per Capita Personal Income (`PCPI_CI`)"
     ]
    },
    {
     "cell_type": "code",
     "collapsed": false,
     "input": [
      "bls_vars=request.get('http://api.bls.gov/publicAPI/v1/timeseries/data/')"
     ],
     "language": "python",
     "metadata": {},
     "outputs": [
      {
       "ename": "NameError",
       "evalue": "name 'request' is not defined",
       "output_type": "pyerr",
       "traceback": [
        "\u001b[1;31m---------------------------------------------------------------------------\u001b[0m\n\u001b[1;31mNameError\u001b[0m                                 Traceback (most recent call last)",
        "\u001b[1;32m<ipython-input-14-3fab6ac39fb7>\u001b[0m in \u001b[0;36m<module>\u001b[1;34m()\u001b[0m\n\u001b[1;32m----> 1\u001b[1;33m \u001b[0mbls_vars\u001b[0m\u001b[1;33m=\u001b[0m\u001b[0mrequest\u001b[0m\u001b[1;33m.\u001b[0m\u001b[0mget\u001b[0m\u001b[1;33m(\u001b[0m\u001b[1;34m'http://api.bls.gov/publicAPI/v1/timeseries/data/'\u001b[0m\u001b[1;33m)\u001b[0m\u001b[1;33m\u001b[0m\u001b[0m\n\u001b[0m",
        "\u001b[1;31mNameError\u001b[0m: name 'request' is not defined"
       ]
      }
     ],
     "prompt_number": 14
    }
   ],
   "metadata": {}
  }
 ]
}