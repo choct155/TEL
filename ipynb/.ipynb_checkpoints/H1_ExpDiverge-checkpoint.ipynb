{
 "metadata": {
  "name": ""
 },
 "nbformat": 3,
 "nbformat_minor": 0,
 "worksheets": [
  {
   "cells": [
    {
     "cell_type": "heading",
     "level": 1,
     "metadata": {},
     "source": [
      "H1: TELs Create Divergence Between Preferred and Actual Expenditures"
     ]
    },
    {
     "cell_type": "markdown",
     "metadata": {},
     "source": [
      "With *CO_TEL_convergence* and *TEL_converge_recession*, we have demonstrated that fiscal and economic clustering occurs and (more importantly) this clustering is impacted by TEL intensity.  In other words, TELs are not benign with respect to fiscal behavior.  Mullins (2004) addresses this by assessing the level of variation in expenditures across local governments within counties.  He finds TELs increase this variation, but this finding did not explicitly allow for the impact of behavior in adjoining counties.  Thus, it did not capture all sources of variation. That being said, it did capture within county variation.  Consequently, the spatial view complements the previous finding.  It in no way replaces it.\n",
      "\n",
      "The next hypothesis to be tested is whether or not TELs cause local governments to alter their expenditure profiles.  Mullins and Joyce (1991,1996) affirm that TELs induce greater reliance on non-tax revenues and a general shifting of expenditure functions to state governments (generally through increased aid if states were not also limited).  This Notebook seeks to explore this issue further.  We are seeking to understand how the differing circumstances of individual counties impacts the degree to which such shifts occur.\n",
      "\n",
      "The major difficulty we face is how to evaluate some notion of compositional distance.  *We want to know how far apart the actual and preferred expenditure portfolios are as a function TEL intensity.*\n",
      "\n",
      "In the past, this has been done by looking at broad classification (e.g. tax vs non-tax for revenues) or picking one function at a time to evaluate (e.g. changes in aid levels).  With respect to the former, it is a useful approach, but there is a threat that dissimilar cases are lumped together.  With respect to the latter, one can get a decent picture of fiscal changes in the latter fashion, but it amounts to a multitude of comparisons for each jurisdiction.  Comparing jurisdictions to one another becomes quite cumbersome in this vein, so a reasonable choice that is often made is a comparison with the same jurisdiction's previous position.  This approach is well facilitated by a regression approach, which can house the decomposed expenditure portfolio as proportional values.\n",
      "\n",
      "What if we wanted to know, however, if the jurisdiction's with similar expenditure preferences at the outset, still had similar preferences after being exposed to a TEL for a given period of time?  The proportional decomposition approach above can provide a lot of information about the average shifts due to the imposition of a TEL, but it is more difficult to extract information about actual preference profiles in the dataset.  Asking this question throws us right back into the space in which we need to relate jurisdictions to one another.\n",
      "\n",
      "One way to pose this question is to ask, do TELs cause shifts in jurisdictional preference type?  Why do we even care about this question?  In the abstract, type shifts throw wedges between the motivation to site in a given jurisdiction and the realized utility after the shift has occurred.  In practice, this may or may not lead to a reshuffling for those that can afford to move (mobility is the subject of a future test).  For those that cannot, it makes the jurisdiction generally less appealing.  Either way, this is an upstream piece of empirical knowledge that will be required for a comprehensive understanding of TEL impact.\n",
      "\n",
      "The challenge that arises when comparing jurisdictions to one another is a need for cleaner comparisons than that which is offered by individual comparisons across the expenditure function vector.  We need dimensionality reduction, and a method of understanding which jurisdictions are similar and which ones are not."
     ]
    },
    {
     "cell_type": "code",
     "collapsed": false,
     "input": [],
     "language": "python",
     "metadata": {},
     "outputs": []
    }
   ],
   "metadata": {}
  }
 ]
}