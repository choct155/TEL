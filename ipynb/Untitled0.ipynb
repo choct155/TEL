{
 "metadata": {
  "name": ""
 },
 "nbformat": 3,
 "nbformat_minor": 0,
 "worksheets": [
  {
   "cells": [
    {
     "cell_type": "code",
     "collapsed": false,
     "input": [
      "import pandas as pd\n",
      "from pandas import Series,DataFrame\n",
      "\n",
      "df = DataFrame({'A' : ['foo', 'bar', 'foo', 'bar','foo', 'bar', 'foo', 'foo'],\\\n",
      "                'B' : ['one', 'one', 'two', 'three','two', 'two', 'one', 'three'],\\\n",
      "                'C' : randn(8), 'D' : randn(8)})\n",
      "df\n"
     ],
     "language": "python",
     "metadata": {},
     "outputs": [
      {
       "html": [
        "<div style=\"max-height:1000px;max-width:1500px;overflow:auto;\">\n",
        "<table border=\"1\" class=\"dataframe\">\n",
        "  <thead>\n",
        "    <tr style=\"text-align: right;\">\n",
        "      <th></th>\n",
        "      <th>A</th>\n",
        "      <th>B</th>\n",
        "      <th>C</th>\n",
        "      <th>D</th>\n",
        "    </tr>\n",
        "  </thead>\n",
        "  <tbody>\n",
        "    <tr>\n",
        "      <th>0</th>\n",
        "      <td> foo</td>\n",
        "      <td>   one</td>\n",
        "      <td> 0.778532</td>\n",
        "      <td> 0.031626</td>\n",
        "    </tr>\n",
        "    <tr>\n",
        "      <th>1</th>\n",
        "      <td> bar</td>\n",
        "      <td>   one</td>\n",
        "      <td>-0.140239</td>\n",
        "      <td>-0.023777</td>\n",
        "    </tr>\n",
        "    <tr>\n",
        "      <th>2</th>\n",
        "      <td> foo</td>\n",
        "      <td>   two</td>\n",
        "      <td>-1.087503</td>\n",
        "      <td>-0.810524</td>\n",
        "    </tr>\n",
        "    <tr>\n",
        "      <th>3</th>\n",
        "      <td> bar</td>\n",
        "      <td> three</td>\n",
        "      <td> 0.776990</td>\n",
        "      <td>-0.775580</td>\n",
        "    </tr>\n",
        "    <tr>\n",
        "      <th>4</th>\n",
        "      <td> foo</td>\n",
        "      <td>   two</td>\n",
        "      <td>-1.105130</td>\n",
        "      <td> 2.041184</td>\n",
        "    </tr>\n",
        "    <tr>\n",
        "      <th>5</th>\n",
        "      <td> bar</td>\n",
        "      <td>   two</td>\n",
        "      <td> 0.835884</td>\n",
        "      <td>-0.040644</td>\n",
        "    </tr>\n",
        "    <tr>\n",
        "      <th>6</th>\n",
        "      <td> foo</td>\n",
        "      <td>   one</td>\n",
        "      <td>-1.600582</td>\n",
        "      <td>-0.624271</td>\n",
        "    </tr>\n",
        "    <tr>\n",
        "      <th>7</th>\n",
        "      <td> foo</td>\n",
        "      <td> three</td>\n",
        "      <td>-0.586640</td>\n",
        "      <td> 0.615066</td>\n",
        "    </tr>\n",
        "  </tbody>\n",
        "</table>\n",
        "</div>"
       ],
       "metadata": {},
       "output_type": "pyout",
       "prompt_number": 2,
       "text": [
        "     A      B         C         D\n",
        "0  foo    one  0.778532  0.031626\n",
        "1  bar    one -0.140239 -0.023777\n",
        "2  foo    two -1.087503 -0.810524\n",
        "3  bar  three  0.776990 -0.775580\n",
        "4  foo    two -1.105130  2.041184\n",
        "5  bar    two  0.835884 -0.040644\n",
        "6  foo    one -1.600582 -0.624271\n",
        "7  foo  three -0.586640  0.615066"
       ]
      }
     ],
     "prompt_number": 2
    },
    {
     "cell_type": "code",
     "collapsed": false,
     "input": [
      "print df.groupby('A').mean()"
     ],
     "language": "python",
     "metadata": {},
     "outputs": [
      {
       "output_type": "stream",
       "stream": "stdout",
       "text": [
        "            C         D\n",
        "A                      \n",
        "bar  0.490878 -0.280000\n",
        "foo -0.720265  0.250616\n"
       ]
      }
     ],
     "prompt_number": 5
    }
   ],
   "metadata": {}
  }
 ]
}