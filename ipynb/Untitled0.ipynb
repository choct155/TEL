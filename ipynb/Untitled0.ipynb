{
 "metadata": {
  "name": ""
 },
 "nbformat": 3,
 "nbformat_minor": 0,
 "worksheets": [
  {
   "cells": [
    {
     "cell_type": "heading",
     "level": 1,
     "metadata": {},
     "source": [
      "Embedding rCharts in Markdown"
     ]
    },
    {
     "cell_type": "markdown",
     "metadata": {},
     "source": [
      "I'd like to be able to create HTML versions of Notebooks that can also support dynamic charts courtesy of [rCharts](http://rcharts.io/).  This script is a test/how-to on the subject, taken directly from Ramnath Vaidyanathan's [tutorial](http://bl.ocks.org/ramnathv/raw/8084330/).\n",
      "\n",
      "What is our underlying [rpy2](http://rpy.sourceforge.net/rpy2.html) version?  Note that this is important because earlier versions did throw exceptions upon the loading of rmagic."
     ]
    },
    {
     "cell_type": "code",
     "collapsed": false,
     "input": [
      "rpy2.__version__"
     ],
     "language": "python",
     "metadata": {},
     "outputs": [
      {
       "metadata": {},
       "output_type": "pyout",
       "prompt_number": 16,
       "text": [
        "'2.3.8'"
       ]
      }
     ],
     "prompt_number": 16
    },
    {
     "cell_type": "markdown",
     "metadata": {},
     "source": [
      "This is the latest version as of 12/22/13.  We can move on with loading rmagic."
     ]
    },
    {
     "cell_type": "code",
     "collapsed": false,
     "input": [
      "%load_ext rmagic"
     ],
     "language": "python",
     "metadata": {},
     "outputs": [
      {
       "output_type": "stream",
       "stream": "stdout",
       "text": [
        "The rmagic extension is already loaded. To reload it, use:\n",
        "  %reload_ext rmagic\n"
       ]
      }
     ],
     "prompt_number": 13
    },
    {
     "cell_type": "heading",
     "level": 2,
     "metadata": {},
     "source": [
      "Generate Bar Chart and Embed in HTML"
     ]
    },
    {
     "cell_type": "markdown",
     "metadata": {},
     "source": [
      "Create a simple bar chart."
     ]
    },
    {
     "cell_type": "code",
     "collapsed": false,
     "input": [
      "%%R\n",
      "\n",
      "library(rCharts)\n",
      "hair_eye_male = subset(as.data.frame(HairEyeColor), Sex == \"Male\")\n",
      "n1 <- nPlot(Freq ~ Hair, group = 'Eye',\n",
      "data = hair_eye_male, type = 'multiBarChart'\n",
      ")\n",
      "n1$set(width = 600)"
     ],
     "language": "python",
     "metadata": {},
     "outputs": [],
     "prompt_number": 17
    },
    {
     "cell_type": "markdown",
     "metadata": {},
     "source": [
      "We need to set the chunk options comment = NA and results = \"asis\" so that the resulting html is rendered asis and not marked up (which is the default in knitr). Make sure to set cache = F for this chunk so that it is always run."
     ]
    },
    {
     "cell_type": "code",
     "collapsed": false,
     "input": [
      "%%R\n",
      "\n",
      "library(knitr)\n",
      "opts_chunk$set(comment = NA, results = \"asis\", comment = NA, tidy = F)"
     ],
     "language": "python",
     "metadata": {},
     "outputs": [],
     "prompt_number": 18
    },
    {
     "cell_type": "heading",
     "level": 3,
     "metadata": {},
     "source": [
      "Embed via iframe"
     ]
    },
    {
     "cell_type": "markdown",
     "metadata": {},
     "source": [
      "The first option is to embed the chart as an inline iframe. It has the advantage of keeping the html standalone, but isolating the chart from the html on the page, thereby avoiding css and js conflicts. However, this feature is not supported by IE and Opera."
     ]
    },
    {
     "cell_type": "code",
     "collapsed": false,
     "input": [
      "%%R\n",
      "\n",
      "n1$save('rChart_bar.html',cdn=TRUE)"
     ],
     "language": "python",
     "metadata": {},
     "outputs": [],
     "prompt_number": 25
    },
    {
     "cell_type": "code",
     "collapsed": false,
     "input": [
      "!ls"
     ],
     "language": "python",
     "metadata": {},
     "outputs": [
      {
       "output_type": "stream",
       "stream": "stdout",
       "text": [
        "ABFM_deck\t\t\t     ggmapTemp.png\r\n",
        "ABFM_TEL_Impact\t\t\t     go_g_compare_ap.png\r\n",
        "ABFM_TEL_Impact.html\t\t     go_g_compare.png\r\n",
        "ABFM_TEL_Script.html\t\t     goGPlot.png\r\n",
        "Areal_Basics.html\t\t     GO_plot_ap.png\r\n",
        "Areal_Basics.ipynb\t\t     GRASS.html\r\n",
        "Areal_Basics.slides.html\t     GRASS.ipynb\r\n",
        "AsmtNeighExplore.html\t\t     iit2011_by_census_block_map.png\r\n",
        "AsmtNeighExplore.ipynb\t\t     iit2011_by_census_block_map_scaled.png\r\n",
        "Basemap.ipynb\t\t\t     Mi_plot_ap.png\r\n",
        "bokeh.ipynb\t\t\t     moran_i_compare_ap.png\r\n",
        "cbp1986_2011_CO.csv\t\t     moran_i_compare.png\r\n",
        "CBP_prelim-checkpoint.html\t     moran_i_comp.png\r\n",
        "CBP_prelim-checkpoint.ipynb\t     moranIPlot.png\r\n",
        "CBP_prelim.html\t\t\t     ols_cap_est.png\r\n",
        "CBP_prelim.ipynb\t\t     Panel_Ex.html\r\n",
        "CBP_summary-checkpoint.html\t     Panel_Ex.ipynb\r\n",
        "CBP_summary-checkpoint.ipynb\t     pysal_autocorrelation.html\r\n",
        "CBP_summary.html\t\t     pysal_autocorrelation.ipynb\r\n",
        "CBP_summary.ipynb\t\t     pysal_intro.html\r\n",
        "circle.html\t\t\t     pysal_intro.ipynb\r\n",
        "cluster_var_by_w_kern_g.png\t     rChart_bar.html\r\n",
        "cluster_var_by_w_kern_g.xcf\t     Rplot01.png\r\n",
        "cluster_var_by_w.png\t\t     Rplot.png\r\n",
        "CO_county_fin-checkpoint.html\t     SIC_vs_sSIC_map.png\r\n",
        "CO_county_fin-checkpoint.ipynb\t     Simulation_basic.html\r\n",
        "CO_county_fin.html\t\t     Simulation_basic.ipynb\r\n",
        "CO_county_fin.ipynb\t\t     SKLtutorial.ipynb\r\n",
        "co_county_plot.png\t\t     slm_gallagher_bus.png\r\n",
        "CO_fiscal_maps.md\t\t     slm_gallagher_est.png\r\n",
        "CO_fiscal_maps.Rmd\t\t     slm_intensity_bus.png\r\n",
        "co_gsp.csv\t\t\t     slm_intensity_est.png\r\n",
        "co_gsp.ods\t\t\t     Spatial_Classes.html\r\n",
        "CO_muni_county.html\t\t     Spatial_Classes.ipynb\r\n",
        "CO_muni_county.ipynb\t\t     Spatial_Viz_Basic.html\r\n",
        "CO_prop_base.ipynb\t\t     Spatial_Viz_Basic.ipynb\r\n",
        "CO_spatial_explore-checkpoint.html   spatio_temporal.ipynb\r\n",
        "CO_spatial_explore-checkpoint.ipynb  SubPopGrowth.ipynb\r\n",
        "CO_spatial_explore.html\t\t     tabor_score.html\r\n",
        "CO_spatial_explore.ipynb\t     tabor_score.ipynb\r\n",
        "CO_TEL_convergence.html\t\t     TEL_converge_recession.ipynb\r\n",
        "CO_TEL_convergence.ipynb\t     TEL_intensity_2009.png\r\n",
        "co_tract_pop_2010_hist.png\t     TEL_pcrev_impact.png\r\n",
        "co_tract_pop_2010_map.png\t     TEL_pcrev_impact_scaled.png\r\n",
        "co_tract_pop_2010.png\t\t     TEL_pcrev_impact_scaled.xcf\r\n",
        "DC_Maps.html\t\t\t     TrafficCam.ipynb\r\n",
        "DC_Maps.ipynb\t\t\t     TransferFunction.ipynb\r\n",
        "DC_rec_centers.html\t\t     Untitled0.ipynb\r\n",
        "DC_rec_centers.ipynb\t\t     Untitled3.ipynb\r\n",
        "E97B_CSV.zip\t\t\t     usa_counties.html\r\n",
        "figure\t\t\t\t     usa_counties.ipynb\r\n",
        "FullRank.ipynb\t\t\t     Weighted_Avg.ipynb\r\n",
        "Generator.ipynb\t\t\t     w_matrix_cardinality.png\r\n",
        "GeoPandas.ipynb\t\t\t     zillow_data.ipynb\r\n"
       ]
      }
     ],
     "prompt_number": 27
    },
    {
     "cell_type": "code",
     "collapsed": false,
     "input": [
      "from IPython.display import HTML\n",
      "HTML('<iframe width=800 height=400 src=http://127.0.0.1:8888/rChart_bar.html></iframe.')"
     ],
     "language": "python",
     "metadata": {},
     "outputs": [
      {
       "html": [
        "<iframe width=800 height=400 src=http://127.0.0.1:8888/rChart_bar.html></iframe."
       ],
       "metadata": {},
       "output_type": "pyout",
       "prompt_number": 30,
       "text": [
        "<IPython.core.display.HTML at 0x4b01390>"
       ]
      }
     ],
     "prompt_number": 30
    },
    {
     "cell_type": "code",
     "collapsed": false,
     "input": [
      "%%R\n",
      "\n",
      "n1$show('iframesrc', cdn = TRUE)"
     ],
     "language": "python",
     "metadata": {},
     "outputs": [],
     "prompt_number": 22
    },
    {
     "cell_type": "code",
     "collapsed": false,
     "input": [],
     "language": "python",
     "metadata": {},
     "outputs": []
    }
   ],
   "metadata": {}
  }
 ]
}