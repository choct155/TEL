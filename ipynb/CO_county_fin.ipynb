{
 "metadata": {
  "name": ""
 },
 "nbformat": 3,
 "nbformat_minor": 0,
 "worksheets": [
  {
   "cells": [
    {
     "cell_type": "heading",
     "level": 1,
     "metadata": {},
     "source": [
      "Colorado - Exploration of County Fisc (1979-2009)"
     ]
    },
    {
     "cell_type": "markdown",
     "metadata": {},
     "source": [
      "We have explored the county data in a non-spatial manner (see CO_muni_county), and analyzed single year (2010 Census [Summary File 1](http://www.census.gov/2010census/news/press-kits/summary-file-1.html)) data by Census tract.  We are now going to evaluate the fiscal data provided by the Colorado [Division of Local Government](http://www.colorado.gov/cs/Satellite/DOLA-Main/CBON/1251590375285) from a spatial standpoint.  This script will both examine the panel dynamics of this data set, and also dive into spatial econometric analysis of the data.  For the latter, we will start with spatial lag and error models."
     ]
    },
    {
     "cell_type": "heading",
     "level": 2,
     "metadata": {},
     "source": [
      "Read-in and Munging"
     ]
    },
    {
     "cell_type": "code",
     "collapsed": false,
     "input": [
      "import numpy as np\n",
      "import pandas as pd\n",
      "from pandas import Series, DataFrame\n",
      "import pandas.io.data as web\n",
      "from IPython.display import HTML\n",
      "\n",
      "#Enable R capability\n",
      "%load_ext rmagic\n",
      "\n",
      "\n",
      "#Set print widith\n",
      "pd.set_option('line_width',140)\n",
      "\n",
      "#Set plot style\n",
      "pd.options.display.mpl_style='default'\n",
      "\n",
      "#Establish working directory\n",
      "workdir='/home/choct155/Google Drive/Dissertation/Data/'\n",
      "\n",
      "#Read in data\n",
      "#county_ent=pd.read_csv(workdir+'COUNTY_ENT_1975_TO_2009.csv')\n",
      "county_gg=pd.read_csv(workdir+'COUNTY_GG_1975_TO_2009.csv')\n",
      "#muni_ent=pd.read_csv(workdir+'MUNY_ENT_1975_to_2009.csv')\n",
      "#muni_gg=pd.read_csv(workdir+'MUNY_GG_1975_to_2009.csv')\n",
      "print county_gg"
     ],
     "language": "python",
     "metadata": {},
     "outputs": [
      {
       "output_type": "stream",
       "stream": "stdout",
       "text": [
        "    LG_ID            NAME  LGTYPE_ID  AUDIT_YEAR  REV_TOTAL  REV_TOTAL_TAX  REV_PROPERTY_TAX  REV_SO_TAX  REV_SALES_USE_TAX  \\\n",
        "0    1001    Adams County          1        1975   27622900        9229100           8248100      898700                  0   \n",
        "1    1001    Adams County          1        1976   32777100       12619700          11283900     1256200                  0   \n",
        "2    1001    Adams County          1        1977   35305800       13598500          12402300     1164600                  0   \n",
        "3    1001    Adams County          1        1978   43821800       15485500          13881200     1558300                  0   \n",
        "4    1001    Adams County          1        1979   44203200       16403900          14584300     1780800                  0   \n",
        "5    1001    Adams County          1        1980   49933900       18201100          16255200     1842500                  0   \n",
        "6    1001    Adams County          1        1981   53401400       20568500          18694600     1835000                  0   \n",
        "7    1001    Adams County          1        1982   55332700       23224500          21246000     1978500                  0   \n",
        "8    1001    Adams County          1        1983   64438900       28767400          22803800     2219000            3726500   \n",
        "9    1001    Adams County          1        1984   86225300       48511100          30073500     2636200           15801400   \n",
        "10   1001    Adams County          1        1985   81394757       40152169          29100202     2675399            8376568   \n",
        "11   1001    Adams County          1        1986   77833556       36588892          33522317     2865001             201574   \n",
        "12   1001    Adams County          1        1987   84687655       41311815          38244404     2961791             105620   \n",
        "13   1001    Adams County          1        1988   96589305       45558291          42144493     3110372             303426   \n",
        "14   1001    Adams County          1        1989  103956212       46743341          43079667     3314769             348905   \n",
        "15   1001    Adams County          1        1990  110135516       48743314          45179708     3264280             299326   \n",
        "16   1001    Adams County          1        1991  115954094       49387968          45457905     3622213             307850   \n",
        "17   1001    Adams County          1        1992  108883536       47585255          43581864     3652016             351375   \n",
        "18   1001    Adams County          1        1993  116203687       47715350          43389496     3909832             416022   \n",
        "19   1001    Adams County          1        1994  123644195       54899657          42402492     4429233            8067932   \n",
        "20   1001    Adams County          1        1995  132352211       60271723          44368913     5042996           10859814   \n",
        "21   1001    Adams County          1        1996  140947493       64549227          47830284     5691580           11027363   \n",
        "22   1001    Adams County          1        1997  140527607       67916980          49930363     6036510           11950107   \n",
        "23   1001    Adams County          1        1998  138953976       74506399          54461045     6914230           13131124   \n",
        "24   1001    Adams County          1        1999  160409514       78787838          56272916     7912451           14602471   \n",
        "25   1001    Adams County          1        2000  208899293       92915453          61196091     9097587           22621775   \n",
        "26   1001    Adams County          1        2001  226776417      102267160          67462295    10003958           24800907   \n",
        "27   1001    Adams County          1        2002  249078467      104647905          72472609     9449033           22726263   \n",
        "28   1001    Adams County          1        2003  284601008      118959681          85455781     9958433           23115450   \n",
        "29   1001    Adams County          1        2004  275977161      128437706          93774947    10348128           23930140   \n",
        "30   1001    Adams County          1        2005  265792234      135075144          98285280    10287744           26118233   \n",
        "31   1001    Adams County          1        2006  285140467      144027630         105568720    10816360           27235502   \n",
        "32   1001    Adams County          1        2007  293491831      151598163         110413882    10591852           30165614   \n",
        "33   1001    Adams County          1        2008  336791091      160490605         119346967    10193583           30494273   \n",
        "34   1001    Adams County          1        2009  425467844      159076792         121842329     9064549           27672357   \n",
        "35   2001  Alamosa County          1        1975    1688900         552300            466800       79600                  0   \n",
        "36   2001  Alamosa County          1        1976    1864300         654000            579800       68300                  0   \n",
        "37   2001  Alamosa County          1        1977    2354400         761800            677600       78900                  0   \n",
        "38   2001  Alamosa County          1        1978    2444600         848700            746500       98000                  0   \n",
        "39   2001  Alamosa County          1        1979    2828500        1094300            642100       83200             361600   \n",
        "40   2001  Alamosa County          1        1980    3395900        1239600            651200       87500             490300   \n",
        "41   2001  Alamosa County          1        1981    3930600        1313000            693800       88700             527200   \n",
        "42   2001  Alamosa County          1        1982    4523700        1468400            798800       96900             560700   \n",
        "43   2001  Alamosa County          1        1983    4623600        1524700            843700       87700             579800   \n",
        "44   2001  Alamosa County          1        1984    6155500        2389300            911000       94700            1366900   \n",
        "45   2001  Alamosa County          1        1985    6238234        2499125            918778       90245            1468129   \n",
        "46   2001  Alamosa County          1        1986    6667133        2764270           1108175      110073            1509458   \n",
        "47   2001  Alamosa County          1        1987    7190173        2960452           1144751      148709            1653733   \n",
        "48   2001  Alamosa County          1        1988    6450110        2219706           1229652      145795             819650   \n",
        "49   2001  Alamosa County          1        1989    6877964        2290940           1330332      153311             726411   \n",
        "50   2001  Alamosa County          1        1990    7335234        2553940           1411070      177748             879744   \n",
        "51   2001  Alamosa County          1        1991    7682405        2847750           1671040      182827             826024   \n",
        "52   2001  Alamosa County          1        1992    8118348        2833706           1555711      210045             944106   \n",
        "53   2001  Alamosa County          1        1993    8448926        2858699           1564929      206956             976046   \n",
        "54   2001  Alamosa County          1        1994    9308565        2909313           1571708      221518            1024405   \n",
        "55   2001  Alamosa County          1        1995    9985773        3098628           1647901      243296            1118216   \n",
        "56   2001  Alamosa County          1        1996   10510321        3171477           1651323      217001            1202791   \n",
        "57   2001  Alamosa County          1        1997   10214612        3302055           1752673      242520            1215962   \n",
        "58   2001  Alamosa County          1        1998    9990642        3485088           1846076      266476            1271446   \n",
        "59   2001  Alamosa County          1        1999   10766828        3697384           1988217      296711            1311626   \n",
        "      ...             ...        ...         ...        ...            ...               ...         ...                ...   \n",
        "\n",
        "    REV_OCCUPATION_TAX  REV_FRANCHISE_TAX  REV_OTHER_TAX  REV_LODGING_TAX  REV_REAL_ESTATE_TRANSFER_TAX  REV_UNCLASS_TAX  REV_LICENSES  \\\n",
        "0                    0                  0          82300                0                             0                0        163900   \n",
        "1                    0                  0          79600                0                             0                0        200000   \n",
        "2                    0                  0          31600                0                             0                0        206600   \n",
        "3                    0                  0          46000                0                             0                0        204900   \n",
        "4                    0                  0          38800                0                             0                0        258000   \n",
        "5                    0                  0         103400                0                             0                0        229700   \n",
        "6                    0                  0          38900                0                             0                0        134700   \n",
        "7                    0                  0              0                0                             0                0        346100   \n",
        "8                    0                  0          18100                0                             0                0        299100   \n",
        "9                    0                  0              0                0                             0                0        350300   \n",
        "10                   0                  0              0                0                             0                0        355873   \n",
        "11                   0                  0              0                0                             0                0        406154   \n",
        "12                   0                  0              0                0                             0                0        351276   \n",
        "13                   0                  0              0                0                             0                0        281890   \n",
        "14                   0                  0              0                0                             0                0        267462   \n",
        "15                   0                  0              0                0                             0                0        228418   \n",
        "16                   0                  0              0                0                             0                0        388940   \n",
        "17                   0                  0              0                0                             0                0        466608   \n",
        "18                   0                  0              0                0                             0                0        657704   \n",
        "19                   0                  0              0                0                             0                0        624450   \n",
        "20                   0                  0              0                0                             0                0        597224   \n",
        "21                   0                  0              0                0                             0                0        693054   \n",
        "22                   0                  0              0                0                             0                0        885272   \n",
        "23                   0                  0              0                0                             0                0       1104621   \n",
        "24                   0                  0              0                0                             0                0       2044980   \n",
        "25                   0                  0              0                0                             0                0       1748432   \n",
        "26                   0                  0              0                0                             0                0       1651509   \n",
        "27                   0                  0              0                0                             0                0       1606372   \n",
        "28                   0             430017              0                0                             0                0       2497720   \n",
        "29                   0             384491              0                0                             0                0       2608970   \n",
        "30                   0             383887              0                0                             0                0       2196186   \n",
        "31                   0             407048              0                0                             0                0       2165434   \n",
        "32                   0             426815              0                0                             0                0       1540953   \n",
        "33                   0             455782              0                0                             0                0        825173   \n",
        "34                   0             497557              0                0                             0                0        847268   \n",
        "35                   0                  0           5900                0                             0                0          2600   \n",
        "36                   0                  0           5900                0                             0                0          2700   \n",
        "37                   0                  0           5300                0                             0                0          2800   \n",
        "38                   0                  0           4200                0                             0                0          9400   \n",
        "39                   0                  0           7400                0                             0                0          2400   \n",
        "40                   0                  0          10600                0                             0                0          3000   \n",
        "41                   0                  0           3300                0                             0                0          3400   \n",
        "42                   0                  0          12000                0                             0                0          3900   \n",
        "43                   0                  0          13500                0                             0                0          4300   \n",
        "44                   0                  0          16700                0                             0                0          6000   \n",
        "45                   0                  0          21973                0                             0                0          4966   \n",
        "46                   0                  0          36564                0                             0                0          5812   \n",
        "47                   0                  0          13259                0                             0                0          5823   \n",
        "48                   0                  0          24609                0                             0                0          6134   \n",
        "49                   0                  0          80886                0                             0                0          8400   \n",
        "50                   0                  0          85378                0                             0                0         16114   \n",
        "51                   0                  0         167859                0                             0                0         14799   \n",
        "52                   0                  0         123844                0                             0                0         13997   \n",
        "53                   0                  0         110768                0                             0                0         19973   \n",
        "54                   0                  0          91682                0                             0                0         26977   \n",
        "55                   0                  0          89215                0                             0                0         37126   \n",
        "56                   0                  0         100362           100362                             0                0         55624   \n",
        "57                   0                  0          90900            90900                             0                0         46899   \n",
        "58                   0                  0         101090           101090                             0                0         47734   \n",
        "59                   0                  0         100830           100830                             0                0         61525   \n",
        "                   ...                ...            ...              ...                           ...              ...           ...   \n",
        "\n",
        "    REV_CHARGES  REV_FINES  REV_TRANSFER_IN  REV_INTGOVT      \n",
        "0       1361100          0                0     16008800 ...  \n",
        "1       1557300          0                0     17276500 ...  \n",
        "2       1977000          0                0     18554200 ...  \n",
        "3       2240600          0                0     24679000 ...  \n",
        "4       2317100          0                0     22927600 ...  \n",
        "5       2326700          0                0     26673500 ...  \n",
        "6       2881100          0                0     25093300 ...  \n",
        "7       2965500          0                0     25214300 ...  \n",
        "8       2453900          0                0     30120500 ...  \n",
        "9       3955000          0            94400     28047600 ...  \n",
        "10      4740962          0                0     31045331 ...  \n",
        "11      7240907          0                0     28998387 ...  \n",
        "12      6156254          0                0     30705494 ...  \n",
        "13      6538561          0                0     37482961 ...  \n",
        "14      7340069          0                0     40703053 ...  \n",
        "15      8260626          0                0     42607684 ...  \n",
        "16     11729636          0                0     45737582 ...  \n",
        "17      8279067          0                0     48370876 ...  \n",
        "18      9996920          0                0     53469926 ...  \n",
        "19     10666746          0                0     53058666 ...  \n",
        "20     10997826          0                0     53193398 ...  \n",
        "21     11419786          0                0     54263707 ...  \n",
        "22     12299047          0                0     49510665 ...  \n",
        "23     14258467          0                0     39897569 ...  \n",
        "24     14180022          0                0     46182754 ...  \n",
        "25     14916222          0                0     85136439 ...  \n",
        "26     16839532          0                0     94023855 ...  \n",
        "27     26345619          0                0    108402262 ...  \n",
        "28     20899912    6298026                0    116515186 ...  \n",
        "29     20505315     294836                0    117218980 ...  \n",
        "30     21616922    2116006                0     94589219 ...  \n",
        "31     22017680    2339863                0     99698037 ...  \n",
        "32     22043995    2878046                0     99319188 ...  \n",
        "33     23406132     735530                0    101766107 ...  \n",
        "34     23468252     903812                0    125558874 ...  \n",
        "35       121900          0                0       963300 ...  \n",
        "36        97200          0                0      1042700 ...  \n",
        "37       274600          0                0      1233600 ...  \n",
        "38       179000          0                0      1305400 ...  \n",
        "39       282800          0                0      1351600 ...  \n",
        "40       241800          0                0      1792800 ...  \n",
        "41       383200          0                0      2045800 ...  \n",
        "42       324600          0                0      2333700 ...  \n",
        "43       394200       2900                0      2517700 ...  \n",
        "44       351000       2400                0      3018500 ...  \n",
        "45       426306          0                0      2849773 ...  \n",
        "46       256685          0                0      3408277 ...  \n",
        "47       683608          0                0      3174085 ...  \n",
        "48       653776          0                0      3233644 ...  \n",
        "49       760527          0                0      3660904 ...  \n",
        "50       556250          0                0      4019099 ...  \n",
        "51       812607          0                0      3737733 ...  \n",
        "52       912835          0                0      4068021 ...  \n",
        "53      1125052          0                0      4219448 ...  \n",
        "54       533331          0                0      5601656 ...  \n",
        "55       436185          0                0      6121193 ...  \n",
        "56       506472          0                0      6455645 ...  \n",
        "57       534689          0                0      5931236 ...  \n",
        "58       448736          0                0      5654191 ...  \n",
        "59       523131          0                0      5953757 ...  \n",
        "            ...        ...              ...          ...      \n",
        "\n",
        "[2240 rows x 58 columns]\n"
       ]
      },
      {
       "output_type": "stream",
       "stream": "stderr",
       "text": [
        "/home/choct155/analysis/Anaconda/lib/python2.7/site-packages/pytz/__init__.py:29: UserWarning: Module argparse was already imported from /home/choct155/analysis/Anaconda/lib/python2.7/argparse.pyc, but /home/choct155/analysis/Anaconda/lib/python2.7/site-packages is being added to sys.path\n",
        "  from pkg_resources import resource_stream\n"
       ]
      }
     ],
     "prompt_number": 1
    },
    {
     "cell_type": "markdown",
     "metadata": {},
     "source": [
      "I have previously explored the data structure of this file (CO_muni_county), so I can skip the exploration and just take what I need.  For starters, I need to hierarchically structure the data."
     ]
    },
    {
     "cell_type": "code",
     "collapsed": false,
     "input": [
      "#Construct hierarchical dictionaries    \n",
      "c_rev_dict={'REV_TOTAL':['REV_TOTAL_TAX','REV_LICENSES','REV_INTGOVT','REV_CHARGES','REV_FINES','REV_MISC','REV_TRANSFER_IN'],\n",
      "          'REV_TOTAL_TAX':['REV_PROPERTY_TAX','REV_SO_TAX','REV_SALES_USE_TAX','REV_FRANCHISE_TAX','REV_OCCUPATION_TAX','REV_OTHER_TAX','REV_UNCLASS_TAX'],\n",
      "          'REV_INTGOVT':['REV_HUT','REV_CIGARETTE_TAX','REV_MOTOR_VEH_FEE','REV_CTF','REV_SOCIAL_SERVICE','ALL_OTHER_INTGOVT']}\n",
      "c_exp_dict={'EXP_TOTAL':['EXP_TOTAL_OPERATING','EXP_TRANSFER_OUT','EXP_CAPITAL_OUTLAY','EXP_DEBT_SERVICE_GEN'],\n",
      "          'EXP_TOTAL_OPERATING':['EXP_GEN_GOVT','EXP_JUDICIAL','EXP_TOTAL_PUBLIC_SAFETY','EXP_TOTAL_PUBLIC_WORKS','EXP_HEALTH','EXP_RECREATION','EXP_SOCIAL_SERVICE','EXP_MISC'],\n",
      "          'EXP_TOTAL_PUBLIC_SAFETY':['EXP_POLICE','EXP_FIRE','EXP_OTHER_PUBLIC_SAFETY'],\n",
      "          'EXP_TOTAL_PUBLIC_WORKS':['EXP_STREET','EXP_TRASH','EXP_OTHER_PUBLIC_WORKS'],\n",
      "          'EXP_DEBT_SERVICE_GEN':['EXP_PRINCIPAL_GEN','EXP_INTEREST_GEN']}\n",
      "c_debt_dict={'TOTAL_DEBT':['GO_DEBT_GEN','REVENUE_DEBT_GEN','OTHER_DEBT_GEN']}"
     ],
     "language": "python",
     "metadata": {},
     "outputs": [],
     "prompt_number": 2
    },
    {
     "cell_type": "markdown",
     "metadata": {},
     "source": [
      "We also need to deflate our data.  The deflator information comes from the [FRED database](http://research.stlouisfed.org/fred2/)."
     ]
    },
    {
     "cell_type": "code",
     "collapsed": false,
     "input": [
      "#Open feed to CPI info\n",
      "cpi=web.get_data_fred('USACPIBLS','1/1/1975','1/1/2009')\n",
      "\n",
      "#Create copy in case offline work is occurring\n",
      "cpi.to_csv(workdir+'us_cpi_1975_2009.csv')\n",
      "\n",
      "#Create common index for later join with data\n",
      "cpi['AUDIT_YEAR']=range(1975,2010)\n",
      "cpi2=cpi.reset_index().set_index('AUDIT_YEAR')\n",
      "\n",
      "#Rename columns\n",
      "cpi2.columns=['DATE','CPI']\n",
      "\n",
      "#Drop DATE\n",
      "cpi2.pop('DATE')\n",
      "\n",
      "#Calculate deflator ratios\n",
      "dfl=cpi2.div(cpi2.ix[2009])\n",
      "\n",
      "dfl.head()"
     ],
     "language": "python",
     "metadata": {},
     "outputs": [
      {
       "html": [
        "<div style=\"max-height:1000px;max-width:1500px;overflow:auto;\">\n",
        "<table border=\"1\" class=\"dataframe\">\n",
        "  <thead>\n",
        "    <tr style=\"text-align: right;\">\n",
        "      <th></th>\n",
        "      <th>CPI</th>\n",
        "    </tr>\n",
        "    <tr>\n",
        "      <th>AUDIT_YEAR</th>\n",
        "      <th></th>\n",
        "    </tr>\n",
        "  </thead>\n",
        "  <tbody>\n",
        "    <tr>\n",
        "      <th>1975</th>\n",
        "      <td> 0.250816</td>\n",
        "    </tr>\n",
        "    <tr>\n",
        "      <th>1976</th>\n",
        "      <td> 0.265268</td>\n",
        "    </tr>\n",
        "    <tr>\n",
        "      <th>1977</th>\n",
        "      <td> 0.282517</td>\n",
        "    </tr>\n",
        "    <tr>\n",
        "      <th>1978</th>\n",
        "      <td> 0.303963</td>\n",
        "    </tr>\n",
        "    <tr>\n",
        "      <th>1979</th>\n",
        "      <td> 0.338462</td>\n",
        "    </tr>\n",
        "  </tbody>\n",
        "</table>\n",
        "<p>5 rows \u00d7 1 columns</p>\n",
        "</div>"
       ],
       "metadata": {},
       "output_type": "pyout",
       "prompt_number": 3,
       "text": [
        "                 CPI\n",
        "AUDIT_YEAR          \n",
        "1975        0.250816\n",
        "1976        0.265268\n",
        "1977        0.282517\n",
        "1978        0.303963\n",
        "1979        0.338462\n",
        "\n",
        "[5 rows x 1 columns]"
       ]
      }
     ],
     "prompt_number": 3
    },
    {
     "cell_type": "markdown",
     "metadata": {},
     "source": [
      "Now we need to set the index and actually deflate the data."
     ]
    },
    {
     "cell_type": "code",
     "collapsed": false,
     "input": [
      "#Set index\n",
      "c_gg=county_gg.set_index(['NAME','AUDIT_YEAR','LGTYPE_ID'])\n",
      "\n",
      "#Implicit merge\n",
      "c_gg['DFL']=dfl.ix[c_gg.index.get_level_values(level='AUDIT_YEAR')].values\n",
      "\n",
      "#Divide each column by deflator ratio\n",
      "cgg_real=c_gg.div(c_gg['DFL'],axis=0)\n",
      "\n",
      "#Replace population and ID variables\n",
      "cgg_real['CTY_POP']=c_gg['POPULATION']\n",
      "cgg_real['LGID']=c_gg['LG_ID']\n",
      "\n",
      "cgg_real[['LG_ID','REV_TOTAL','POPULATION','CTY_POP','LGID']].head()\n",
      "\n",
      "cgg_real.to_csv(workdir+'CO_cty_fin.csv')"
     ],
     "language": "python",
     "metadata": {},
     "outputs": [],
     "prompt_number": 4
    },
    {
     "cell_type": "code",
     "collapsed": false,
     "input": [
      "cgg_real[['LG_ID','REV_TOTAL','POPULATION','CTY_POP','LGID']].head()"
     ],
     "language": "python",
     "metadata": {},
     "outputs": [
      {
       "html": [
        "<div style=\"max-height:1000px;max-width:1500px;overflow:auto;\">\n",
        "<table border=\"1\" class=\"dataframe\">\n",
        "  <thead>\n",
        "    <tr style=\"text-align: right;\">\n",
        "      <th></th>\n",
        "      <th></th>\n",
        "      <th></th>\n",
        "      <th>LG_ID</th>\n",
        "      <th>REV_TOTAL</th>\n",
        "      <th>POPULATION</th>\n",
        "      <th>CTY_POP</th>\n",
        "      <th>LGID</th>\n",
        "    </tr>\n",
        "    <tr>\n",
        "      <th>NAME</th>\n",
        "      <th>AUDIT_YEAR</th>\n",
        "      <th>LGTYPE_ID</th>\n",
        "      <th></th>\n",
        "      <th></th>\n",
        "      <th></th>\n",
        "      <th></th>\n",
        "      <th></th>\n",
        "    </tr>\n",
        "  </thead>\n",
        "  <tbody>\n",
        "    <tr>\n",
        "      <th rowspan=\"5\" valign=\"top\">Adams County</th>\n",
        "      <th>1975</th>\n",
        "      <th>1</th>\n",
        "      <td> 3990.975836</td>\n",
        "      <td> 1.101322e+08</td>\n",
        "      <td> 864698.141264</td>\n",
        "      <td> 216880</td>\n",
        "      <td> 1001</td>\n",
        "    </tr>\n",
        "    <tr>\n",
        "      <th>1976</th>\n",
        "      <th>1</th>\n",
        "      <td> 3773.541301</td>\n",
        "      <td> 1.235622e+08</td>\n",
        "      <td> 839675.140598</td>\n",
        "      <td> 222739</td>\n",
        "      <td> 1001</td>\n",
        "    </tr>\n",
        "    <tr>\n",
        "      <th>1977</th>\n",
        "      <th>1</th>\n",
        "      <td> 3543.143564</td>\n",
        "      <td> 1.249685e+08</td>\n",
        "      <td> 800428.341584</td>\n",
        "      <td> 226135</td>\n",
        "      <td> 1001</td>\n",
        "    </tr>\n",
        "    <tr>\n",
        "      <th>1978</th>\n",
        "      <th>1</th>\n",
        "      <td> 3293.167178</td>\n",
        "      <td> 1.441683e+08</td>\n",
        "      <td> 788366.457055</td>\n",
        "      <td> 239634</td>\n",
        "      <td> 1001</td>\n",
        "    </tr>\n",
        "    <tr>\n",
        "      <th>1979</th>\n",
        "      <th>1</th>\n",
        "      <td> 2957.500000</td>\n",
        "      <td> 1.306004e+08</td>\n",
        "      <td> 727004.318182</td>\n",
        "      <td> 246063</td>\n",
        "      <td> 1001</td>\n",
        "    </tr>\n",
        "  </tbody>\n",
        "</table>\n",
        "<p>5 rows \u00d7 5 columns</p>\n",
        "</div>"
       ],
       "metadata": {},
       "output_type": "pyout",
       "prompt_number": 26,
       "text": [
        "                                         LG_ID     REV_TOTAL     POPULATION  CTY_POP  LGID\n",
        "NAME         AUDIT_YEAR LGTYPE_ID                                                         \n",
        "Adams County 1975       1          3990.975836  1.101322e+08  864698.141264   216880  1001\n",
        "             1976       1          3773.541301  1.235622e+08  839675.140598   222739  1001\n",
        "             1977       1          3543.143564  1.249685e+08  800428.341584   226135  1001\n",
        "             1978       1          3293.167178  1.441683e+08  788366.457055   239634  1001\n",
        "             1979       1          2957.500000  1.306004e+08  727004.318182   246063  1001\n",
        "\n",
        "[5 rows x 5 columns]"
       ]
      }
     ],
     "prompt_number": 26
    },
    {
     "cell_type": "heading",
     "level": 2,
     "metadata": {},
     "source": [
      "Integrate Spatial Information"
     ]
    },
    {
     "cell_type": "markdown",
     "metadata": {},
     "source": [
      "To map the data and perform spatial analyses, we need to couple these fiscal data with locational information from a shapefile provided by the [Census FTP site](ftp://ftp2.census.gov/geo/tiger/TIGER2012/).  County-level polygons are sufficiently large that they, unlike Census tracts, are provided in one nationwide file."
     ]
    },
    {
     "cell_type": "code",
     "collapsed": false,
     "input": [
      "%%R\n",
      "#install.packages(\"rgdal\")\n",
      "library(maptools)\n",
      "library(gpclib)\n",
      "library(sp)\n",
      "library(ggmap)\n",
      "#library(rgdal)\n",
      "library(raster)\n",
      "library(ggplot2)\n",
      "library(plyr)\n",
      "\n",
      "#Read in Ward shapefile\n",
      "us<-readShapeSpatial('/home/choct155/Google Drive/Dissertation/Data/spatial/US/tl_2012_us_county.shp')\n",
      "projection(us) <- '+proj=longlat +datum=NAD83'\n",
      "print(summary(us))\n",
      "cat('\\n')\n",
      "print(head(us))\n",
      "cat('\\n')"
     ],
     "language": "python",
     "metadata": {},
     "outputs": [
      {
       "metadata": {},
       "output_type": "display_data",
       "text": [
        "Object of class SpatialPolygonsDataFrame\n",
        "Coordinates:\n",
        "         min       max\n",
        "x -179.23109 179.85968\n",
        "y  -14.60181  71.44106\n",
        "Is projected: FALSE \n",
        "proj4string : [+proj=longlat +datum=NAD83]\n",
        "Data attributes:\n",
        "    STATEFP        COUNTYFP        COUNTYNS        GEOID              NAME     \n",
        " 48     : 254   001    :  50   00023901:   1   01001  :   1   Washington:  31  \n",
        " 13     : 159   003    :  50   00025441:   1   01003  :   1   Franklin  :  26  \n",
        " 51     : 134   005    :  50   00025442:   1   01005  :   1   Jefferson :  26  \n",
        " 21     : 120   009    :  49   00025443:   1   01007  :   1   Jackson   :  24  \n",
        " 29     : 115   007    :  48   00025444:   1   01009  :   1   Lincoln   :  24  \n",
        " 20     : 105   013    :  48   00025445:   1   01011  :   1   Madison   :  20  \n",
        " (Other):2347   (Other):2939   (Other) :3228   (Other):3228   (Other)   :3083  \n",
        "              NAMELSAD         LSAD      CLASSFP     MTFCC          CSAFP     \n",
        " Washington County:  30   06     :3007   C7:  42   G4020:3234   490    :  45  \n",
        " Jefferson County :  25   13     :  78   H1:3116                548    :  34  \n",
        " Franklin County  :  24   15     :  64   H4:  29                122    :  33  \n",
        " Jackson County   :  23   25     :  41   H5:  11                408    :  30  \n",
        " Lincoln County   :  23   04     :  12   H6:  36                206    :  19  \n",
        " Madison County   :  19   05     :  11                          (Other): 743  \n",
        " (Other)          :3090   (Other):  21                          NA's   :2330  \n",
        "     CBSAFP        METDIVFP    FUNCSTAT     ALAND               AWATER         \n",
        " 41980  :  41   47894  :  20   A:3117   Min.   :8.209e+04   Min.   :0.000e+00  \n",
        " 12060  :  28   35644  :  11   B:   3   1st Qu.:1.078e+09   1st Qu.:7.066e+06  \n",
        " 35620  :  23   16974  :   8   C:  31   Median :1.562e+09   Median :1.954e+07  \n",
        " 47900  :  22   19124  :   8   F:  44   Mean   :2.832e+09   Mean   :2.160e+08  \n",
        " 40060  :  20   35084  :   6   G:   1   3rd Qu.:2.367e+09   3rd Qu.:6.238e+07  \n",
        " (Other):1728   (Other):  55   N:  27   Max.   :3.769e+11   Max.   :2.519e+10  \n",
        " NA's   :1372   NA's   :3126   S:  11                                          \n",
        "        INTPTLAT            INTPTLON   \n",
        " -11.0545243:   1   -064.7352610:   1  \n",
        " +13.4383000:   1   -064.7466655:   1  \n",
        " +14.1523588:   1   -064.9712501:   1  \n",
        " -14.2181010:   1   -065.3067405:   1  \n",
        " -14.2662796:   1   -065.4324740:   1  \n",
        " -14.3358534:   1   -065.5308947:   1  \n",
        " (Other)    :3228   (Other)     :3228  \n",
        "\n",
        "  STATEFP COUNTYFP COUNTYNS GEOID     NAME        NAMELSAD LSAD CLASSFP MTFCC\n",
        "0      15      001 00365280 15001   Hawaii   Hawaii County   06      H1 G4020\n",
        "1      05      027 00063761 05027 Columbia Columbia County   06      H1 G4020\n",
        "2      38      011 01035619 38011   Bowman   Bowman County   06      H1 G4020\n",
        "3      36      031 00974114 36031    Essex    Essex County   06      H1 G4020\n",
        "4      35      007 00929117 35007   Colfax   Colfax County   06      H1 G4020\n",
        "5      30      089 01719578 30089  Sanders  Sanders County   06      H1 G4020\n",
        "  CSAFP CBSAFP METDIVFP FUNCSTAT       ALAND     AWATER    INTPTLAT\n",
        "0  <NA>  25900     <NA>        A 10433603617 2739477738 +19.5977643\n",
        "1  <NA>  31620     <NA>        A  1984070931    1809509 +33.2230377\n",
        "2  <NA>   <NA>     <NA>        A  3009063806   13587978 +46.1101438\n",
        "3  <NA>   <NA>     <NA>        A  4647119053  315962259 +44.1089711\n",
        "4  <NA>   <NA>     <NA>        A  9733550626   26310378 +36.6129625\n",
        "5  <NA>   <NA>     <NA>        A  7149756422   76370640 +47.7564686\n",
        "      INTPTLON\n",
        "0 -155.5024434\n",
        "1 -093.2328433\n",
        "2 -103.5059433\n",
        "3 -073.7775726\n",
        "4 -104.6401256\n",
        "5 -115.1802247\n",
        "\n"
       ]
      }
     ],
     "prompt_number": 6
    },
    {
     "cell_type": "markdown",
     "metadata": {},
     "source": [
      "The shapefile data must be trimmed down to contain only Colorado counties before merging with the fiscal data.  In order to always be able to return to the well, and to avoid writing over objects to ease debugging if need be, we will make a new object to work on.\n",
      "\n",
      "We also need to prepare for merging the data we will be manipulating back in with the spatial information.  To make this happen we must ensure that we have a variable that keeps track of which polygon the data correspond to.  The polygon IDs are housed in the **ID** slot of the **polygon** objects, which in turn sit in the **polygons** slot of the **SpatialPolygonsDataFrame** object (see Spatial_Classes for a breakdown of how this all fits together).  In any event, we will actively use the polygon IDs to create our sorting variable."
     ]
    },
    {
     "cell_type": "code",
     "collapsed": false,
     "input": [
      "%%R\n",
      "\n",
      "#Create new subset object\n",
      "co<-us[us$STATEFP=='08',]\n",
      "\n",
      "#Verify IDs\n",
      "IDs<-sapply(slot(co,'polygons'),\n",
      "             function(x) slot(x,'ID'))\n",
      "print(IDs)\n",
      "cat('\\n')\n",
      "                 \n",
      "#Create sorting variable by assigning the list populated by polygon IDs\n",
      "co@data$sorting_id<-sapply(slot(co,'polygons'),\n",
      "                          function(x) slot(x,'ID'))\n",
      "\n",
      "#Pull data out of SPDF into standalone object\n",
      "co_df<-as(co,'data.frame')\n",
      "print(str(co_df))"
     ],
     "language": "python",
     "metadata": {},
     "outputs": [
      {
       "metadata": {},
       "output_type": "display_data",
       "text": [
        " [1] \"2169\" \"2170\" \"2171\" \"2174\" \"2176\" \"2177\" \"2179\" \"2205\" \"2206\" \"2209\"\n",
        "[11] \"2210\" \"2211\" \"2213\" \"2214\" \"2215\" \"2216\" \"2218\" \"2219\" \"2220\" \"2221\"\n",
        "[21] \"2222\" \"2224\" \"2226\" \"2227\" \"2228\" \"2229\" \"2231\" \"2233\" \"2234\" \"2235\"\n",
        "[31] \"2236\" \"2237\" \"2238\" \"2239\" \"2240\" \"2241\" \"2242\" \"2243\" \"2245\" \"2246\"\n",
        "[41] \"2247\" \"2248\" \"2249\" \"2250\" \"2251\" \"2252\" \"2253\" \"2254\" \"2255\" \"2256\"\n",
        "[51] \"2257\" \"2258\" \"2259\" \"2261\" \"2262\" \"2263\" \"2265\" \"2266\" \"2267\" \"2268\"\n",
        "[61] \"2269\" \"2906\" \"2932\" \"3137\"\n",
        "\n",
        "'data.frame':\t64 obs. of  18 variables:\n",
        " $ STATEFP   : Factor w/ 56 levels \"01\",\"02\",\"04\",..: 6 6 6 6 6 6 6 6 6 6 ...\n",
        " $ COUNTYFP  : Factor w/ 329 levels \"001\",\"003\",\"005\",..: 38 22 34 18 41 12 29 80 68 78 ...\n",
        " $ COUNTYNS  : Factor w/ 3234 levels \"00023901\",\"00025441\",..: 184 172 181 169 186 165 178 217 207 215 ...\n",
        " $ GEOID     : Factor w/ 3234 levels \"01001\",\"01003\",..: 272 260 269 257 274 253 265 305 295 303 ...\n",
        " $ NAME      : Factor w/ 1921 levels \"A\\xf1asco\",\"Abbeville\",..: 794 487 663 424 860 308 559 1693 1405 1557 ...\n",
        " $ NAMELSAD  : Factor w/ 1968 levels \"A\\xf1asco Municipio\",..: 809 497 676 433 875 316 569 1734 1435 1594 ...\n",
        " $ LSAD      : Factor w/ 11 levels \"00\",\"03\",\"04\",..: 5 5 5 5 5 5 5 5 5 5 ...\n",
        " $ CLASSFP   : Factor w/ 5 levels \"C7\",\"H1\",\"H4\",..: 2 2 2 2 2 2 2 2 2 2 ...\n",
        " $ MTFCC     : Factor w/ 1 level \"G4020\": 1 1 1 1 1 1 1 1 1 1 ...\n",
        " $ CSAFP     : Factor w/ 128 levels \"102\",\"104\",\"112\",..: NA NA 32 NA NA NA 32 NA NA NA ...\n",
        " $ CBSAFP    : Factor w/ 955 levels \"10020\",\"10100\",..: NA NA 233 NA NA NA 233 187 NA NA ...\n",
        " $ METDIVFP  : Factor w/ 29 levels \"13644\",\"14484\",..: NA NA NA NA NA NA NA NA NA NA ...\n",
        " $ FUNCSTAT  : Factor w/ 7 levels \"A\",\"B\",\"C\",\"F\",..: 1 1 1 1 1 1 1 1 1 1 ...\n",
        " $ ALAND     : num  2.89e+09 2.96e+09 3.88e+08 3.18e+09 4.18e+09 ...\n",
        " $ AWATER    : num  15324680 16953424 941898 8828904 18750018 ...\n",
        " $ INTPTLAT  : Factor w/ 3234 levels \"-11.0545243\",..: 1530 1782 2023 1394 2199 1748 1891 1785 1563 2254 ...\n",
        " $ INTPTLON  : Factor w/ 3234 levels \"-064.7352610\",..: 2883 2890 2839 2834 2859 2858 2794 2827 2726 2723 ...\n",
        " $ sorting_id: chr  \"2169\" \"2170\" \"2171\" \"2174\" ...\n",
        "NULL\n"
       ]
      }
     ],
     "prompt_number": 7
    },
    {
     "cell_type": "markdown",
     "metadata": {},
     "source": [
      "So, there is no exact matching variable that can be used to merge the spatial and fiscal data.  Since the data management required is a bit more involved, I am going to pull the spatial data from R into the Python namespace.  Before that happens, however, I need to convert the data types.  Factor types in R will come across in Python as a numeric ordinal value corresponding to the level position that R has assigned (for our purposes, in rather arbitrary fashion).  \n",
      "\n",
      "Variables in the index interval [1:13] must be converted from factor to character, while variables on the index interval [16:17] must be converted from factor to numeric."
     ]
    },
    {
     "cell_type": "code",
     "collapsed": false,
     "input": [
      "%%R\n",
      "\n",
      "#Convert first 13 variables to character \n",
      "co_df[,1:13] <- sapply(co_df[,1:13], as.character)\n",
      "\n",
      "#Convert INTPTLAT and INTPTLON to numeric\n",
      "co_df[,16:17]<-sapply(co_df[,16:17], function(x) as.numeric(as.character(x)))\n",
      "    \n",
      "print(str(co_df))"
     ],
     "language": "python",
     "metadata": {},
     "outputs": [
      {
       "metadata": {},
       "output_type": "display_data",
       "text": [
        "'data.frame':\t64 obs. of  18 variables:\n",
        " $ STATEFP   : chr  \"08\" \"08\" \"08\" \"08\" ...\n",
        " $ COUNTYFP  : chr  \"053\" \"029\" \"047\" \"023\" ...\n",
        " $ COUNTYNS  : chr  \"00198142\" \"00198130\" \"00198139\" \"00198127\" ...\n",
        " $ GEOID     : chr  \"08053\" \"08029\" \"08047\" \"08023\" ...\n",
        " $ NAME      : chr  \"Hinsdale\" \"Delta\" \"Gilpin\" \"Costilla\" ...\n",
        " $ NAMELSAD  : chr  \"Hinsdale County\" \"Delta County\" \"Gilpin County\" \"Costilla County\" ...\n",
        " $ LSAD      : chr  \"06\" \"06\" \"06\" \"06\" ...\n",
        " $ CLASSFP   : chr  \"H1\" \"H1\" \"H1\" \"H1\" ...\n",
        " $ MTFCC     : chr  \"G4020\" \"G4020\" \"G4020\" \"G4020\" ...\n",
        " $ CSAFP     : chr  NA NA \"216\" NA ...\n",
        " $ CBSAFP    : chr  NA NA \"19740\" NA ...\n",
        " $ METDIVFP  : chr  NA NA NA NA ...\n",
        " $ FUNCSTAT  : chr  \"A\" \"A\" \"A\" \"A\" ...\n",
        " $ ALAND     : num  2.89e+09 2.96e+09 3.88e+08 3.18e+09 4.18e+09 ...\n",
        " $ AWATER    : num  15324680 16953424 941898 8828904 18750018 ...\n",
        " $ INTPTLAT  : num  37.8 38.9 39.9 37.3 40.7 ...\n",
        " $ INTPTLON  : num  -107 -108 -106 -105 -106 ...\n",
        " $ sorting_id: chr  \"2169\" \"2170\" \"2171\" \"2174\" ...\n",
        "NULL\n"
       ]
      }
     ],
     "prompt_number": 8
    },
    {
     "cell_type": "markdown",
     "metadata": {},
     "source": [
      "The data will come across as a numpy ndarray, without columns labels.  Thus, labels will have to be pulled in a second object."
     ]
    },
    {
     "cell_type": "code",
     "collapsed": false,
     "input": [
      "%%R\n",
      "cols<-colnames(co_df)\n",
      "print(cols)"
     ],
     "language": "python",
     "metadata": {},
     "outputs": [
      {
       "metadata": {},
       "output_type": "display_data",
       "text": [
        " [1] \"STATEFP\"    \"COUNTYFP\"   \"COUNTYNS\"   \"GEOID\"      \"NAME\"      \n",
        " [6] \"NAMELSAD\"   \"LSAD\"       \"CLASSFP\"    \"MTFCC\"      \"CSAFP\"     \n",
        "[11] \"CBSAFP\"     \"METDIVFP\"   \"FUNCSTAT\"   \"ALAND\"      \"AWATER\"    \n",
        "[16] \"INTPTLAT\"   \"INTPTLON\"   \"sorting_id\"\n"
       ]
      }
     ],
     "prompt_number": 9
    },
    {
     "cell_type": "markdown",
     "metadata": {},
     "source": [
      "Pulling the data into Python..."
     ]
    },
    {
     "cell_type": "code",
     "collapsed": false,
     "input": [
      "%Rpull co_df cols"
     ],
     "language": "python",
     "metadata": {},
     "outputs": [],
     "prompt_number": 10
    },
    {
     "cell_type": "markdown",
     "metadata": {},
     "source": [
      "Building a usable DataFrame is actually quite easy.  The labels can be zipped to the corresponding arrays, providing the tuple list content that can be converted into a dictionary.  Dictionaries can, of course, be turned into DataFrames."
     ]
    },
    {
     "cell_type": "code",
     "collapsed": false,
     "input": [
      "#Generate dictionary containing the spatial data from R\n",
      "co_dict=dict(zip(cols,co_df))\n",
      "\n",
      "#Convert to DataFrame\n",
      "co_DF=DataFrame(co_dict)\n",
      "\n",
      "print co_DF[co_DF.columns[:9]].head().to_string()\n",
      "print co_DF[co_DF.columns[9:]].head().to_string()"
     ],
     "language": "python",
     "metadata": {},
     "outputs": [
      {
       "output_type": "stream",
       "stream": "stdout",
       "text": [
        "          ALAND      AWATER CBSAFP CLASSFP COUNTYFP  COUNTYNS CSAFP FUNCSTAT  GEOID\n",
        "0  2893573835.0  15324680.0     NA      H1      053  00198142    NA        A  08053\n",
        "1  2957922894.0  16953424.0     NA      H1      029  00198130    NA        A  08029\n",
        "2   388229141.0    941898.0  19740      H1      047  00198139   216        A  08047\n",
        "3  3177803460.0   8828904.0     NA      H1      023  00198127    NA        A  08023\n",
        "4  4179563675.0  18750018.0     NA      H1      057  00198144    NA        A  08057\n",
        "     INTPTLAT      INTPTLON LSAD METDIVFP  MTFCC      NAME         NAMELSAD STATEFP sorting_id\n",
        "0  37.8116669   -107.383335   06       NA  G4020  Hinsdale  Hinsdale County      08       2169\n",
        "1  38.8617559   -107.864757   06       NA  G4020     Delta     Delta County      08       2170\n",
        "2  39.8610823  -105.5289473   06       NA  G4020    Gilpin    Gilpin County      08       2171\n",
        "3  37.2775474  -105.4289399   06       NA  G4020  Costilla  Costilla County      08       2174\n",
        "4  40.6634319  -106.3292476   06       NA  G4020   Jackson   Jackson County      08       2176\n"
       ]
      }
     ],
     "prompt_number": 11
    },
    {
     "cell_type": "markdown",
     "metadata": {},
     "source": [
      "Now we can see about merging these data.  First, let's make sure that we have the same counties in there.  To do this, we will first quickly check that the length of unique sets of counties are the same.  Then we will construct a new variable in cgg_real that contains only the 'proper' name element of counties (e.g. 'Adams' for 'Adams County').  This corresponds to the NAME variable in co_DF, allowing us to check equality of sets directly."
     ]
    },
    {
     "cell_type": "code",
     "collapsed": false,
     "input": [
      "print 'THE NUMBER OF COUNTIES IN co_DF AND cgg_real IS EQUIVALENT:',\\\n",
      "len(set(cgg_real.index.get_level_values(level='NAME')))==len(set(co_DF['NAME']))\n",
      "\n",
      "#Create new variable in cgg_real that includes only the first name of the county\n",
      "cgg_real['FNAME']=''\n",
      "for i in range(len(cgg_real.index)):\n",
      "    cgg_real['FNAME'][i]=cgg_real.index.get_level_values(level='NAME')[i].split()[0].replace(',','')\n",
      "\n",
      "print 'THE SAME COUNTIES ARE REPRESENTED IN BOTH SETS:',set(cgg_real['FNAME'])==set(co_DF['NAME'])\n",
      "\n"
     ],
     "language": "python",
     "metadata": {},
     "outputs": [
      {
       "output_type": "stream",
       "stream": "stdout",
       "text": [
        "THE NUMBER OF COUNTIES IN co_DF AND cgg_real IS EQUIVALENT: True\n",
        "THE SAME COUNTIES ARE REPRESENTED IN BOTH SETS:"
       ]
      },
      {
       "output_type": "stream",
       "stream": "stdout",
       "text": [
        " False\n"
       ]
      }
     ],
     "prompt_number": 12
    },
    {
     "cell_type": "markdown",
     "metadata": {},
     "source": [
      "The sets are not identical, so where we have not achived overlap ([exclusive disjunction](http://en.wikipedia.org/wiki/Exclusive_or)).  We could use a loop to compare each element, but set operations are very fast.  If we don't care about order, we should leverage that fact."
     ]
    },
    {
     "cell_type": "code",
     "collapsed": false,
     "input": [
      "print set(cgg_real['FNAME']).difference(set(co_DF['NAME']))\n",
      "print set(co_DF['NAME']).difference(set(cgg_real['FNAME']))"
     ],
     "language": "python",
     "metadata": {},
     "outputs": [
      {
       "output_type": "stream",
       "stream": "stdout",
       "text": [
        "set(['El', 'San', 'La', 'Clear', 'Kit', 'Rio', 'Las'])\n",
        "set(['San Juan', 'San Miguel', 'La Plata', 'Clear Creek', 'Rio Grande', 'Kit Carson', 'El Paso', 'Las Animas', 'Rio Blanco'])\n"
       ]
      }
     ],
     "prompt_number": 13
    },
    {
     "cell_type": "markdown",
     "metadata": {},
     "source": [
      "Ah, it is clear that our naming convention for cgg_real['FNAME'] was ill conceived.  After some experimentation, I am not sure we can get there with a clean rule.  However, a nested loop testing the presence of a substring as a condition could get the job done.  \n",
      "\n",
      "This is a much slower method.  If we were to simply loop through cgg_real.index, testing each element to see if one member of co_DF['NAME'] was a substring, it would require 2240 X 64 = 143,360 string comparisons.  It's not untenable, but it takes longer than is necessary.  We can cut this down by using the set of the index, and then assigning the correct FNAME value to blocks at a time."
     ]
    },
    {
     "cell_type": "code",
     "collapsed": false,
     "input": [
      "#Create list of cgg_real counties over which to iterate\n",
      "cgg_cty=list(set(cgg_real.index.get_level_values(level='NAME')))\n",
      "\n",
      "#Loop through cgg_real counties\n",
      "for i in range(len(cgg_cty)):\n",
      "    #For each cgg_real county, loop through co_DF counties\n",
      "    for j in range(len(co_DF['NAME'])):\n",
      "        #Test if co_DF county name is contained within cgg_real county name\n",
      "        if co_DF['NAME'][j] in cgg_cty[i]:\n",
      "            #print co_DF['NAME'][j],'is in',cgg_cty[i]\n",
      "            #If True, assign co_DF county name to all records that contain cgg_real county name\n",
      "            cgg_real['FNAME'][cgg_real.index.get_level_values(level='NAME')==cgg_cty[i]]=co_DF['NAME'][j]\n",
      "        else:\n",
      "            #If not true, do nothing.\n",
      "            pass\n",
      "\n",
      "print cgg_real['FNAME']"
     ],
     "language": "python",
     "metadata": {},
     "outputs": [
      {
       "output_type": "stream",
       "stream": "stdout",
       "text": [
        "NAME          AUDIT_YEAR  LGTYPE_ID\n",
        "Adams County  1975        1            Adams\n",
        "              1976        1            Adams\n",
        "              1977        1            Adams\n",
        "              1978        1            Adams\n",
        "              1979        1            Adams\n",
        "              1980        1            Adams\n",
        "              1981        1            Adams\n",
        "              1982        1            Adams\n",
        "              1983        1            Adams\n",
        "              1984        1            Adams\n",
        "              1985        1            Adams\n",
        "              1986        1            Adams\n",
        "              1987        1            Adams\n",
        "              1988        1            Adams\n",
        "              1989        1            Adams\n",
        "...\n",
        "Broomfield, City and County of  1995        70           Broomfield\n",
        "                                1996        70           Broomfield\n",
        "                                1997        70           Broomfield\n",
        "                                1998        70           Broomfield\n",
        "                                1999        70           Broomfield\n",
        "                                2000        70           Broomfield\n",
        "                                2001        70           Broomfield\n",
        "                                2002        70           Broomfield\n",
        "                                2003        70           Broomfield\n",
        "                                2004        70           Broomfield\n",
        "                                2005        70           Broomfield\n",
        "                                2006        70           Broomfield\n",
        "                                2007        70           Broomfield\n",
        "                                2008        70           Broomfield\n",
        "                                2009        70           Broomfield\n",
        "Name: FNAME, Length: 2240, dtype: object\n"
       ]
      }
     ],
     "prompt_number": 14
    },
    {
     "cell_type": "markdown",
     "metadata": {},
     "source": [
      "Looks ok at first glance, let's test again."
     ]
    },
    {
     "cell_type": "code",
     "collapsed": false,
     "input": [
      "print 'THE SAME COUNTIES ARE REPRESENTED IN BOTH SETS:',set(cgg_real['FNAME'])==set(co_DF['NAME'])\n",
      "print set(cgg_real['FNAME']).difference(set(co_DF['NAME']))\n",
      "print set(co_DF['NAME']).difference(set(cgg_real['FNAME']))"
     ],
     "language": "python",
     "metadata": {},
     "outputs": [
      {
       "output_type": "stream",
       "stream": "stdout",
       "text": [
        "THE SAME COUNTIES ARE REPRESENTED IN BOTH SETS: False\n",
        "set([])\n",
        "set(['Rio Grande'])\n"
       ]
      }
     ],
     "prompt_number": 15
    },
    {
     "cell_type": "markdown",
     "metadata": {},
     "source": [
      "Crap.  Let's look at what's happening here."
     ]
    },
    {
     "cell_type": "code",
     "collapsed": false,
     "input": [
      "#Identify FNAME for Rio Grande\n",
      "print cgg_real['FNAME'][cgg_real.index.get_level_values(level='NAME')=='Rio Grande County'].head()\n",
      "\n",
      "#Determine coverage of this FNAME\n",
      "print cgg_real['FNAME'][cgg_real['FNAME']=='Grand']"
     ],
     "language": "python",
     "metadata": {},
     "outputs": [
      {
       "output_type": "stream",
       "stream": "stdout",
       "text": [
        "NAME               AUDIT_YEAR  LGTYPE_ID\n",
        "Rio Grande County  1975        1            Grand\n",
        "                   1976        1            Grand\n",
        "                   1977        1            Grand\n",
        "                   1978        1            Grand\n",
        "                   1979        1            Grand\n",
        "Name: FNAME, dtype: object\n",
        "NAME          AUDIT_YEAR  LGTYPE_ID\n",
        "Grand County  1975        1            Grand\n",
        "              1976        1            Grand\n",
        "              1977        1            Grand\n",
        "              1978        1            Grand\n",
        "              1979        1            Grand\n",
        "              1980        1            Grand\n",
        "              1981        1            Grand\n",
        "              1982        1            Grand\n",
        "              1983        1            Grand\n",
        "              1984        1            Grand\n",
        "              1985        1            Grand\n",
        "              1986        1            Grand\n",
        "              1987        1            Grand\n",
        "              1988        1            Grand\n",
        "              1989        1            Grand\n",
        "...\n",
        "Rio Grande County  1995        1            Grand\n",
        "                   1996        1            Grand\n",
        "                   1997        1            Grand\n",
        "                   1998        1            Grand\n",
        "                   1999        1            Grand\n",
        "                   2000        1            Grand\n",
        "                   2001        1            Grand\n",
        "                   2002        1            Grand\n",
        "                   2003        1            Grand\n",
        "                   2004        1            Grand\n",
        "                   2005        1            Grand\n",
        "                   2006        1            Grand\n",
        "                   2007        1            Grand\n",
        "                   2008        1            Grand\n",
        "                   2009        1            Grand\n",
        "Name: FNAME, Length: 70, dtype: object\n"
       ]
      }
     ],
     "prompt_number": 16
    },
    {
     "cell_type": "markdown",
     "metadata": {},
     "source": [
      "Ah, our rule isn't perfect.  Since substring 'Grand' is contained in both 'Grand County' and 'Rio Grande County', we have over-assigned it to an additional county.  Fixing one county is easy enough."
     ]
    },
    {
     "cell_type": "code",
     "collapsed": false,
     "input": [
      "#Patch Rio Grande County\n",
      "cgg_real['FNAME'][cgg_real.index.get_level_values(level='NAME')=='Rio Grande County']='Rio Grande'\n",
      "\n",
      "#Retest equality of sets\n",
      "print 'THE SAME COUNTIES ARE REPRESENTED IN BOTH SETS:',set(cgg_real['FNAME'])==set(co_DF['NAME'])\n"
     ],
     "language": "python",
     "metadata": {},
     "outputs": [
      {
       "output_type": "stream",
       "stream": "stdout",
       "text": [
        "THE SAME COUNTIES ARE REPRESENTED IN BOTH SETS: True\n"
       ]
      }
     ],
     "prompt_number": 17
    },
    {
     "cell_type": "markdown",
     "metadata": {},
     "source": [
      "Now we can merge these data."
     ]
    },
    {
     "cell_type": "code",
     "collapsed": false,
     "input": [
      "print len(cgg_real),len(co_DF),len(cgg_real)/len(co_DF)\n",
      "co_county_sp=pd.merge(cgg_real.reset_index(),co_DF,left_on='FNAME',right_on='NAME')\n",
      "co_county_sp.to_csv(workdir+'CO_county_ggfin.csv')\n",
      "\n",
      "print len(set(co_county_sp['sorting_id']))"
     ],
     "language": "python",
     "metadata": {},
     "outputs": [
      {
       "output_type": "stream",
       "stream": "stdout",
       "text": [
        "2240 64 35\n",
        "64"
       ]
      },
      {
       "output_type": "stream",
       "stream": "stdout",
       "text": [
        "\n"
       ]
      }
     ],
     "prompt_number": 18
    },
    {
     "cell_type": "markdown",
     "metadata": {},
     "source": [
      "Now we can push back to R to reintegrate the data into the shapefile."
     ]
    },
    {
     "cell_type": "code",
     "collapsed": false,
     "input": [
      "import pandas.rpy.common as com\n",
      "\n",
      "#Convert pandas DataFrames to R data.frames\n",
      "cgg_sp_r=com.convert_to_r_dataframe(co_county_sp.reset_index())\n",
      "\n",
      "#Push new data.frame into the R namespace\n",
      "%Rpush cgg_sp_r"
     ],
     "language": "python",
     "metadata": {},
     "outputs": [],
     "prompt_number": 19
    },
    {
     "cell_type": "markdown",
     "metadata": {},
     "source": [
      "Having merged in the Python namespace, we need only to order the data by sorting_id and check to make sure the row names correspond."
     ]
    },
    {
     "cell_type": "code",
     "collapsed": false,
     "input": [
      "%%R\n",
      "\n",
      "#Reorder by sorting_id\n",
      "cgg.o<-cgg_sp_r[order(as.numeric(cgg_sp_r$sorting_id)),]\n",
      "\n",
      "#Check equality of objects\n",
      "print(paste('Equality of Row Names (ordered vs. original):',identical(row.names(cgg.o),row.names(co_df))))\n",
      "\n",
      "#Check equality of object lengths\n",
      "print(paste('Equality of Row Name Length (ordered vs. original):',identical(length(row.names(cgg.o)),\n",
      "                                                                            length(row.names(co_df)))))"
     ],
     "language": "python",
     "metadata": {},
     "outputs": [
      {
       "metadata": {},
       "output_type": "display_data",
       "text": [
        "[1] \"Equality of Row Names (ordered vs. original): FALSE\"\n",
        "[1] \"Equality of Row Name Length (ordered vs. original): FALSE\"\n"
       ]
      }
     ],
     "prompt_number": 20
    },
    {
     "cell_type": "markdown",
     "metadata": {},
     "source": [
      "Ah, of course they don't.  The county finance data include all years, while the original *data* slot in the SPDF included only a single cross-section.  The unique sorting_id values should match, but the row names will not."
     ]
    },
    {
     "cell_type": "code",
     "collapsed": false,
     "input": [
      "%%R\n",
      "#Check equality of objects\n",
      "print(paste('Equality of Row Names (ordered vs. original):',identical(unique(cgg.o$sorting_id),row.names(co_df))))\n",
      "\n",
      "#Check equality of object lengths\n",
      "print(paste('Equality of Row Name Length (ordered vs. original):',identical(length(unique(cgg.o$sorting_id)),\n",
      "                                                                            length(row.names(co_df)))))"
     ],
     "language": "python",
     "metadata": {},
     "outputs": [
      {
       "metadata": {},
       "output_type": "display_data",
       "text": [
        "[1] \"Equality of Row Names (ordered vs. original): TRUE\"\n",
        "[1] \"Equality of Row Name Length (ordered vs. original): TRUE\"\n"
       ]
      }
     ],
     "prompt_number": 21
    },
    {
     "cell_type": "markdown",
     "metadata": {},
     "source": [
      "And this is confirmed.  The question is where to go from here... Do I have to create a new shapefile for every year?"
     ]
    },
    {
     "cell_type": "code",
     "collapsed": false,
     "input": [
      "%%R\n",
      "library(rgdal)\n",
      "print(summary(co))\n",
      "\n",
      "#Convert to WGS84\n",
      "co_ll<-spTransform(co,CRS('+proj=longlat +datum=WGS84'))\n",
      "\n",
      "print(summary(co_ll))"
     ],
     "language": "python",
     "metadata": {},
     "outputs": [
      {
       "metadata": {},
       "output_type": "display_data",
       "text": [
        "rgdal: version: 0.8-11, (SVN revision 479M)\n",
        "Geospatial Data Abstraction Library extensions to R successfully loaded\n",
        "Loaded GDAL runtime: GDAL 1.10.1, released 2013/08/26\n",
        "Path to GDAL shared files: \n",
        "Loaded PROJ.4 runtime: Rel. 4.8.0, 6 March 2012, [PJ_VERSION: 480]\n",
        "Path to PROJ.4 shared files: (autodetected)\n",
        "Object of class SpatialPolygonsDataFrame\n",
        "Coordinates:\n",
        "         min        max\n",
        "x -109.06026 -102.04152\n",
        "y   36.99242   41.00344\n",
        "Is projected: FALSE \n",
        "proj4string : [+proj=longlat +datum=NAD83]\n",
        "Data attributes:\n",
        "    STATEFP      COUNTYFP      COUNTYNS      GEOID           NAME   \n",
        " 08     :64   001    : 1   00198116: 1   08001  : 1   Adams    : 1  \n",
        " 01     : 0   003    : 1   00198117: 1   08003  : 1   Alamosa  : 1  \n",
        " 02     : 0   005    : 1   00198118: 1   08005  : 1   Arapahoe : 1  \n",
        " 04     : 0   007    : 1   00198119: 1   08007  : 1   Archuleta: 1  \n",
        " 05     : 0   009    : 1   00198120: 1   08009  : 1   Baca     : 1  \n",
        " 06     : 0   011    : 1   00198121: 1   08011  : 1   Bent     : 1  \n",
        " (Other): 0   (Other):58   (Other) :58   (Other):58   (Other)  :58  \n",
        "             NAMELSAD       LSAD    CLASSFP   MTFCC        CSAFP   \n",
        " Adams County    : 1   06     :64   C7: 0   G4020:64   216    :12  \n",
        " Alamosa County  : 1   00     : 0   H1:62              102    : 0  \n",
        " Arapahoe County : 1   03     : 0   H4: 0              104    : 0  \n",
        " Archuleta County: 1   04     : 0   H5: 0              112    : 0  \n",
        " Baca County     : 1   05     : 0   H6: 2              118    : 0  \n",
        " Bent County     : 1   07     : 0                      (Other): 0  \n",
        " (Other)         :58   (Other): 0                      NA's   :52  \n",
        "     CBSAFP      METDIVFP  FUNCSTAT     ALAND               AWATER        \n",
        " 19740  :10   13644  : 0   A:62     Min.   :8.542e+07   Min.   :  301808  \n",
        " 17820  : 2   14484  : 0   B: 0     1st Qu.:2.060e+09   1st Qu.: 4396657  \n",
        " 20780  : 2   15764  : 0   C: 2     Median :3.708e+09   Median :12481115  \n",
        " 14500  : 1   15804  : 0   F: 0     Mean   :4.194e+09   Mean   :18289476  \n",
        " 15860  : 1   16974  : 0   G: 0     3rd Qu.:5.712e+09   3rd Qu.:23456646  \n",
        " (Other): 9   (Other): 0   N: 0     Max.   :1.236e+10   Max.   :98113981  \n",
        " NA's   :39   NA's   :64   S: 0                                           \n",
        "        INTPTLAT          INTPTLON   sorting_id       \n",
        " +37.2023952: 1   -102.3451047: 1   Length:64         \n",
        " +37.2134065: 1   -102.3553579: 1   Class :character  \n",
        " +37.2775474: 1   -102.3921613: 1   Mode  :character  \n",
        " +37.2873673: 1   -102.4226489: 1                     \n",
        " +37.3066778: 1   -102.5377653: 1                     \n",
        " +37.3188308: 1   -102.6030226: 1                     \n",
        " (Other)    :58   (Other)     :58                     \n",
        "Object of class SpatialPolygonsDataFrame\n",
        "Coordinates:\n",
        "         min        max\n",
        "x -109.06026 -102.04152\n",
        "y   36.99242   41.00344\n",
        "Is projected: FALSE \n",
        "proj4string :\n",
        "[+proj=longlat +datum=WGS84 +ellps=WGS84 +towgs84=0,0,0]\n",
        "Data attributes:\n",
        "    STATEFP      COUNTYFP      COUNTYNS      GEOID           NAME   \n",
        " 08     :64   001    : 1   00198116: 1   08001  : 1   Adams    : 1  \n",
        " 01     : 0   003    : 1   00198117: 1   08003  : 1   Alamosa  : 1  \n",
        " 02     : 0   005    : 1   00198118: 1   08005  : 1   Arapahoe : 1  \n",
        " 04     : 0   007    : 1   00198119: 1   08007  : 1   Archuleta: 1  \n",
        " 05     : 0   009    : 1   00198120: 1   08009  : 1   Baca     : 1  \n",
        " 06     : 0   011    : 1   00198121: 1   08011  : 1   Bent     : 1  \n",
        " (Other): 0   (Other):58   (Other) :58   (Other):58   (Other)  :58  \n",
        "             NAMELSAD       LSAD    CLASSFP   MTFCC        CSAFP   \n",
        " Adams County    : 1   06     :64   C7: 0   G4020:64   216    :12  \n",
        " Alamosa County  : 1   00     : 0   H1:62              102    : 0  \n",
        " Arapahoe County : 1   03     : 0   H4: 0              104    : 0  \n",
        " Archuleta County: 1   04     : 0   H5: 0              112    : 0  \n",
        " Baca County     : 1   05     : 0   H6: 2              118    : 0  \n",
        " Bent County     : 1   07     : 0                      (Other): 0  \n",
        " (Other)         :58   (Other): 0                      NA's   :52  \n",
        "     CBSAFP      METDIVFP  FUNCSTAT     ALAND               AWATER        \n",
        " 19740  :10   13644  : 0   A:62     Min.   :8.542e+07   Min.   :  301808  \n",
        " 17820  : 2   14484  : 0   B: 0     1st Qu.:2.060e+09   1st Qu.: 4396657  \n",
        " 20780  : 2   15764  : 0   C: 2     Median :3.708e+09   Median :12481115  \n",
        " 14500  : 1   15804  : 0   F: 0     Mean   :4.194e+09   Mean   :18289476  \n",
        " 15860  : 1   16974  : 0   G: 0     3rd Qu.:5.712e+09   3rd Qu.:23456646  \n",
        " (Other): 9   (Other): 0   N: 0     Max.   :1.236e+10   Max.   :98113981  \n",
        " NA's   :39   NA's   :64   S: 0                                           \n",
        "        INTPTLAT          INTPTLON   sorting_id       \n",
        " +37.2023952: 1   -102.3451047: 1   Length:64         \n",
        " +37.2134065: 1   -102.3553579: 1   Class :character  \n",
        " +37.2775474: 1   -102.3921613: 1   Mode  :character  \n",
        " +37.2873673: 1   -102.4226489: 1                     \n",
        " +37.3066778: 1   -102.5377653: 1                     \n",
        " +37.3188308: 1   -102.6030226: 1                     \n",
        " (Other)    :58   (Other)     :58                     \n"
       ]
      }
     ],
     "prompt_number": 22
    },
    {
     "cell_type": "code",
     "collapsed": false,
     "input": [
      "print co_county_sp.columns\n",
      "print co_DF.head()\n",
      "co_county_sp.to_csv(workdir+'CO_cty_finsp.csv')"
     ],
     "language": "python",
     "metadata": {},
     "outputs": [
      {
       "output_type": "stream",
       "stream": "stdout",
       "text": [
        "Index([u'NAME_x', u'AUDIT_YEAR', u'LGTYPE_ID', u'LG_ID', u'REV_TOTAL', u'REV_TOTAL_TAX', u'REV_PROPERTY_TAX', u'REV_SO_TAX', u'REV_SALES_USE_TAX', u'REV_OCCUPATION_TAX', u'REV_FRANCHISE_TAX', u'REV_OTHER_TAX', u'REV_LODGING_TAX', u'REV_REAL_ESTATE_TRANSFER_TAX', u'REV_UNCLASS_TAX', u'REV_LICENSES', u'REV_CHARGES', u'REV_FINES', u'REV_TRANSFER_IN', u'REV_INTGOVT', u'REV_HUT', u'REV_CIGARETTE_TAX', u'REV_MOTOR_VEH_FEE', u'REV_CTF', u'REV_SOCIAL_SERVICE', u'ALL_OTHER_INTGOVT', u'REV_MISC', u'REV_INTEREST', u'EXP_TOTAL', u'EXP_TOTAL_OPERATING', u'EXP_GEN_GOVT', u'EXP_JUDICIAL', u'EXP_TOTAL_PUBLIC_SAFETY', u'EXP_POLICE', u'EXP_FIRE', u'EXP_OTHER_PUBLIC_SAFETY', u'EXP_TOTAL_PUBLIC_WORKS', u'EXP_STREET', u'EXP_TRASH', u'EXP_OTHER_PUBLIC_WORKS', u'EXP_HEALTH', u'EXP_RECREATION', u'EXP_SOCIAL_SERVICE', u'EXP_MISC', u'EXP_TRANSFER_OUT', u'EXP_CAPITAL_OUTLAY', u'EXP_DEBT_SERVICE_GEN', u'EXP_PRINCIPAL_GEN', u'EXP_INTEREST_GEN', u'GO_DEBT_GEN', u'REVENUE_DEBT_GEN', u'OTHER_DEBT_GEN', u'ASSETS', u'LIABILITIES', u'POPULATION', u'RETAIL_SALES', u'ST_SALES_TAX_PAID', u'SALES_TAX_RATE', u'DFL', u'CTY_POP', u'LGID', u'FNAME', u'ALAND', u'AWATER', u'CBSAFP', u'CLASSFP', u'COUNTYFP', u'COUNTYNS', u'CSAFP', u'FUNCSTAT', u'GEOID', u'INTPTLAT', u'INTPTLON', u'LSAD', u'METDIVFP', u'MTFCC', u'NAME_y', u'NAMELSAD', u'STATEFP', u'sorting_id'], dtype='object')\n",
        "          ALAND      AWATER CBSAFP CLASSFP COUNTYFP  COUNTYNS CSAFP FUNCSTAT  GEOID    INTPTLAT      INTPTLON LSAD METDIVFP  MTFCC  \\\n",
        "0  2893573835.0  15324680.0     NA      H1      053  00198142    NA        A  08053  37.8116669   -107.383335   06       NA  G4020   \n",
        "1  2957922894.0  16953424.0     NA      H1      029  00198130    NA        A  08029  38.8617559   -107.864757   06       NA  G4020   \n",
        "2   388229141.0    941898.0  19740      H1      047  00198139   216        A  08047  39.8610823  -105.5289473   06       NA  G4020   \n",
        "3  3177803460.0   8828904.0     NA      H1      023  00198127    NA        A  08023  37.2775474  -105.4289399   06       NA  G4020   \n",
        "4  4179563675.0  18750018.0     NA      H1      057  00198144    NA        A  08057  40.6634319  -106.3292476   06       NA  G4020   \n",
        "\n",
        "       NAME         NAMELSAD STATEFP sorting_id  \n",
        "0  Hinsdale  Hinsdale County      08       2169  \n",
        "1     Delta     Delta County      08       2170  \n",
        "2    Gilpin    Gilpin County      08       2171  \n",
        "3  Costilla  Costilla County      08       2174  \n",
        "4   Jackson   Jackson County      08       2176  \n",
        "\n",
        "[5 rows x 18 columns]\n"
       ]
      }
     ],
     "prompt_number": 23
    }
   ],
   "metadata": {}
  }
 ]
}