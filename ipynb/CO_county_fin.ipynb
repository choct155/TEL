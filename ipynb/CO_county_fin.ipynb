{
 "metadata": {
  "name": ""
 },
 "nbformat": 3,
 "nbformat_minor": 0,
 "worksheets": [
  {
   "cells": [
    {
     "cell_type": "heading",
     "level": 1,
     "metadata": {},
     "source": [
      "Colorado - Exploration of County Fisc (1979-2009)"
     ]
    },
    {
     "cell_type": "markdown",
     "metadata": {},
     "source": [
      "We have explored the county data in a non-spatial manner (see CO_muni_county), and analyzed single year (2010 Census [Summary File 1](http://www.census.gov/2010census/news/press-kits/summary-file-1.html)) data by Census tract.  We are now going to evaluate the fiscal data provided by the Colorado [Division of Local Government](http://www.colorado.gov/cs/Satellite/DOLA-Main/CBON/1251590375285) from a spatial standpoint.  This script will both examine the panel dynamics of this data set, and also dive into spatial econometric analysis of the data.  For the latter, we will start with spatial lag and error models."
     ]
    },
    {
     "cell_type": "heading",
     "level": 2,
     "metadata": {},
     "source": [
      "Read-in and Munging"
     ]
    },
    {
     "cell_type": "code",
     "collapsed": false,
     "input": [
      "import numpy as np\n",
      "import pandas as pd\n",
      "from pandas import Series, DataFrame\n",
      "import pandas.io.data as web\n",
      "from IPython.display import HTML\n",
      "\n",
      "#Enable R capability\n",
      "%load_ext rmagic\n",
      "\n",
      "\n",
      "#Set print widith\n",
      "pd.set_option('line_width',140)\n",
      "\n",
      "#Set plot style\n",
      "pd.options.display.mpl_style='default'\n",
      "\n",
      "#Establish working directory\n",
      "workdir='/home/choct155/Google Drive/Dissertation/Data/'\n",
      "\n",
      "#Read in data\n",
      "#county_ent=pd.read_csv(workdir+'COUNTY_ENT_1975_TO_2009.csv')\n",
      "county_gg=pd.read_csv(workdir+'COUNTY_GG_1975_TO_2009.csv')\n",
      "#muni_ent=pd.read_csv(workdir+'MUNY_ENT_1975_to_2009.csv')\n",
      "#muni_gg=pd.read_csv(workdir+'MUNY_GG_1975_to_2009.csv')\n",
      "print county_gg"
     ],
     "language": "python",
     "metadata": {},
     "outputs": [
      {
       "output_type": "stream",
       "stream": "stdout",
       "text": [
        "<class 'pandas.core.frame.DataFrame'>\n",
        "Int64Index: 2240 entries, 0 to 2239\n",
        "Data columns (total 58 columns):\n",
        "LG_ID                           2240  non-null values\n",
        "NAME                            2240  non-null values\n",
        "LGTYPE_ID                       2240  non-null values\n",
        "AUDIT_YEAR                      2240  non-null values\n",
        "REV_TOTAL                       2240  non-null values\n",
        "REV_TOTAL_TAX                   2240  non-null values\n",
        "REV_PROPERTY_TAX                2240  non-null values\n",
        "REV_SO_TAX                      2240  non-null values\n",
        "REV_SALES_USE_TAX               2240  non-null values\n",
        "REV_OCCUPATION_TAX              2240  non-null values\n",
        "REV_FRANCHISE_TAX               2240  non-null values\n",
        "REV_OTHER_TAX                   2240  non-null values\n",
        "REV_LODGING_TAX                 2240  non-null values\n",
        "REV_REAL_ESTATE_TRANSFER_TAX    2240  non-null values\n",
        "REV_UNCLASS_TAX                 2240  non-null values\n",
        "REV_LICENSES                    2240  non-null values\n",
        "REV_CHARGES                     2240  non-null values\n",
        "REV_FINES                       2240  non-null values\n",
        "REV_TRANSFER_IN                 2240  non-null values\n",
        "REV_INTGOVT                     2240  non-null values\n",
        "REV_HUT                         2240  non-null values\n",
        "REV_CIGARETTE_TAX               2240  non-null values\n",
        "REV_MOTOR_VEH_FEE               2240  non-null values\n",
        "REV_CTF                         2240  non-null values\n",
        "REV_SOCIAL_SERVICE              2240  non-null values\n",
        "ALL_OTHER_INTGOVT               2240  non-null values\n",
        "REV_MISC                        2240  non-null values\n",
        "REV_INTEREST                    2240  non-null values\n",
        "EXP_TOTAL                       2240  non-null values\n",
        "EXP_TOTAL_OPERATING             2240  non-null values\n",
        "EXP_GEN_GOVT                    2240  non-null values\n",
        "EXP_JUDICIAL                    2240  non-null values\n",
        "EXP_TOTAL_PUBLIC_SAFETY         2240  non-null values\n",
        "EXP_POLICE                      2240  non-null values\n",
        "EXP_FIRE                        2240  non-null values\n",
        "EXP_OTHER_PUBLIC_SAFETY         2240  non-null values\n",
        "EXP_TOTAL_PUBLIC_WORKS          2240  non-null values\n",
        "EXP_STREET                      2240  non-null values\n",
        "EXP_TRASH                       2240  non-null values\n",
        "EXP_OTHER_PUBLIC_WORKS          2240  non-null values\n",
        "EXP_HEALTH                      2240  non-null values\n",
        "EXP_RECREATION                  2240  non-null values\n",
        "EXP_SOCIAL_SERVICE              2240  non-null values\n",
        "EXP_MISC                        2240  non-null values\n",
        "EXP_TRANSFER_OUT                2240  non-null values\n",
        "EXP_CAPITAL_OUTLAY              2240  non-null values\n",
        "EXP_DEBT_SERVICE_GEN            2240  non-null values\n",
        "EXP_PRINCIPAL_GEN               2240  non-null values\n",
        "EXP_INTEREST_GEN                2240  non-null values\n",
        "GO_DEBT_GEN                     2240  non-null values\n",
        "REVENUE_DEBT_GEN                2240  non-null values\n",
        "OTHER_DEBT_GEN                  2240  non-null values\n",
        "ASSETS                          2240  non-null values\n",
        "LIABILITIES                     2240  non-null values\n",
        "POPULATION                      2240  non-null values\n",
        "RETAIL_SALES                    2240  non-null values\n",
        "ST_SALES_TAX_PAID               2240  non-null values\n",
        "SALES_TAX_RATE                  2240  non-null values\n",
        "dtypes: float64(1), int64(56), object(1)\n"
       ]
      }
     ],
     "prompt_number": 1
    },
    {
     "cell_type": "markdown",
     "metadata": {},
     "source": [
      "I have previously explored the data structure of this file (CO_muni_county), so I can skip the exploration and just take what I need.  For starters, I need to hierarchically structure the data."
     ]
    },
    {
     "cell_type": "code",
     "collapsed": false,
     "input": [
      "#Construct hierarchical dictionaries    \n",
      "c_rev_dict={'REV_TOTAL':['REV_TOTAL_TAX','REV_LICENSES','REV_INTGOVT','REV_CHARGES','REV_FINES','REV_MISC','REV_TRANSFER_IN'],\n",
      "          'REV_TOTAL_TAX':['REV_PROPERTY_TAX','REV_SO_TAX','REV_SALES_USE_TAX','REV_FRANCHISE_TAX','REV_OCCUPATION_TAX','REV_OTHER_TAX','REV_UNCLASS_TAX'],\n",
      "          'REV_INTGOVT':['REV_HUT','REV_CIGARETTE_TAX','REV_MOTOR_VEH_FEE','REV_CTF','REV_SOCIAL_SERVICE','ALL_OTHER_INTGOVT']}\n",
      "c_exp_dict={'EXP_TOTAL':['EXP_TOTAL_OPERATING','EXP_TRANSFER_OUT','EXP_CAPITAL_OUTLAY','EXP_DEBT_SERVICE_GEN'],\n",
      "          'EXP_TOTAL_OPERATING':['EXP_GEN_GOVT','EXP_JUDICIAL','EXP_TOTAL_PUBLIC_SAFETY','EXP_TOTAL_PUBLIC_WORKS','EXP_HEALTH','EXP_RECREATION','EXP_SOCIAL_SERVICE','EXP_MISC'],\n",
      "          'EXP_TOTAL_PUBLIC_SAFETY':['EXP_POLICE','EXP_FIRE','EXP_OTHER_PUBLIC_SAFETY'],\n",
      "          'EXP_TOTAL_PUBLIC_WORKS':['EXP_STREET','EXP_TRASH','EXP_OTHER_PUBLIC_WORKS'],\n",
      "          'EXP_DEBT_SERVICE_GEN':['EXP_PRINCIPAL_GEN','EXP_INTEREST_GEN']}\n",
      "c_debt_dict={'TOTAL_DEBT':['GO_DEBT_GEN','REVENUE_DEBT_GEN','OTHER_DEBT_GEN']}"
     ],
     "language": "python",
     "metadata": {},
     "outputs": [],
     "prompt_number": 2
    },
    {
     "cell_type": "markdown",
     "metadata": {},
     "source": [
      "We also need to deflate our data.  The deflator information comes from the [FRED database](http://research.stlouisfed.org/fred2/)."
     ]
    },
    {
     "cell_type": "code",
     "collapsed": false,
     "input": [
      "#Open feed to CPI info\n",
      "cpi=web.get_data_fred('USACPIBLS','1/1/1975','1/1/2009')\n",
      "\n",
      "#Create copy in case offline work is occurring\n",
      "cpi.to_csv(workdir+'us_cpi_1975_2009.csv')\n",
      "\n",
      "#Create common index for later join with data\n",
      "cpi['AUDIT_YEAR']=range(1975,2010)\n",
      "cpi2=cpi.reset_index().set_index('AUDIT_YEAR')\n",
      "\n",
      "#Rename columns\n",
      "cpi2.columns=['DATE','CPI']\n",
      "\n",
      "#Drop DATE\n",
      "cpi2.pop('DATE')\n",
      "\n",
      "#Calculate deflator ratios\n",
      "dfl=cpi2.div(cpi2.ix[2009])\n",
      "\n",
      "dfl.head()"
     ],
     "language": "python",
     "metadata": {},
     "outputs": [
      {
       "html": [
        "<div style=\"max-height:1000px;max-width:1500px;overflow:auto;\">\n",
        "<table border=\"1\" class=\"dataframe\">\n",
        "  <thead>\n",
        "    <tr style=\"text-align: right;\">\n",
        "      <th></th>\n",
        "      <th>CPI</th>\n",
        "    </tr>\n",
        "    <tr>\n",
        "      <th>AUDIT_YEAR</th>\n",
        "      <th></th>\n",
        "    </tr>\n",
        "  </thead>\n",
        "  <tbody>\n",
        "    <tr>\n",
        "      <th>1975</th>\n",
        "      <td> 0.250816</td>\n",
        "    </tr>\n",
        "    <tr>\n",
        "      <th>1976</th>\n",
        "      <td> 0.265268</td>\n",
        "    </tr>\n",
        "    <tr>\n",
        "      <th>1977</th>\n",
        "      <td> 0.282517</td>\n",
        "    </tr>\n",
        "    <tr>\n",
        "      <th>1978</th>\n",
        "      <td> 0.303963</td>\n",
        "    </tr>\n",
        "    <tr>\n",
        "      <th>1979</th>\n",
        "      <td> 0.338462</td>\n",
        "    </tr>\n",
        "  </tbody>\n",
        "</table>\n",
        "</div>"
       ],
       "metadata": {},
       "output_type": "pyout",
       "prompt_number": 3,
       "text": [
        "                 CPI\n",
        "AUDIT_YEAR          \n",
        "1975        0.250816\n",
        "1976        0.265268\n",
        "1977        0.282517\n",
        "1978        0.303963\n",
        "1979        0.338462"
       ]
      }
     ],
     "prompt_number": 3
    },
    {
     "cell_type": "markdown",
     "metadata": {},
     "source": [
      "Now we need to set the index and actually deflate the data."
     ]
    },
    {
     "cell_type": "code",
     "collapsed": false,
     "input": [
      "#Set index\n",
      "c_gg=county_gg.set_index(['NAME','AUDIT_YEAR','LGTYPE_ID'])\n",
      "\n",
      "#Implicit merge\n",
      "c_gg['DFL']=dfl.ix[c_gg.index.get_level_values(level='AUDIT_YEAR')].values\n",
      "\n",
      "#Divide each column by deflator ratio\n",
      "cgg_real=c_gg.div(c_gg['DFL'],axis=0)\n",
      "\n",
      "cgg_real[cgg_real.columns[:6]].head()"
     ],
     "language": "python",
     "metadata": {},
     "outputs": [
      {
       "html": [
        "<div style=\"max-height:1000px;max-width:1500px;overflow:auto;\">\n",
        "<table border=\"1\" class=\"dataframe\">\n",
        "  <thead>\n",
        "    <tr style=\"text-align: right;\">\n",
        "      <th></th>\n",
        "      <th></th>\n",
        "      <th></th>\n",
        "      <th>LG_ID</th>\n",
        "      <th>REV_TOTAL</th>\n",
        "      <th>REV_TOTAL_TAX</th>\n",
        "      <th>REV_PROPERTY_TAX</th>\n",
        "      <th>REV_SO_TAX</th>\n",
        "      <th>REV_SALES_USE_TAX</th>\n",
        "    </tr>\n",
        "    <tr>\n",
        "      <th>NAME</th>\n",
        "      <th>AUDIT_YEAR</th>\n",
        "      <th>LGTYPE_ID</th>\n",
        "      <th></th>\n",
        "      <th></th>\n",
        "      <th></th>\n",
        "      <th></th>\n",
        "      <th></th>\n",
        "      <th></th>\n",
        "    </tr>\n",
        "  </thead>\n",
        "  <tbody>\n",
        "    <tr>\n",
        "      <th rowspan=\"5\" valign=\"top\">Adams County</th>\n",
        "      <th>1975</th>\n",
        "      <th>1</th>\n",
        "      <td> 3990.975836</td>\n",
        "      <td> 1.101322e+08</td>\n",
        "      <td> 36796318.773234</td>\n",
        "      <td> 32885082.713755</td>\n",
        "      <td> 3583106.877323</td>\n",
        "      <td> 0</td>\n",
        "    </tr>\n",
        "    <tr>\n",
        "      <th>1976</th>\n",
        "      <th>1</th>\n",
        "      <td> 3773.541301</td>\n",
        "      <td> 1.235622e+08</td>\n",
        "      <td> 47573385.764499</td>\n",
        "      <td> 42537724.956063</td>\n",
        "      <td> 4735586.994728</td>\n",
        "      <td> 0</td>\n",
        "    </tr>\n",
        "    <tr>\n",
        "      <th>1977</th>\n",
        "      <th>1</th>\n",
        "      <td> 3543.143564</td>\n",
        "      <td> 1.249685e+08</td>\n",
        "      <td> 48133304.455446</td>\n",
        "      <td> 43899230.198020</td>\n",
        "      <td> 4122222.772277</td>\n",
        "      <td> 0</td>\n",
        "    </tr>\n",
        "    <tr>\n",
        "      <th>1978</th>\n",
        "      <th>1</th>\n",
        "      <td> 3293.167178</td>\n",
        "      <td> 1.441683e+08</td>\n",
        "      <td> 50945394.938650</td>\n",
        "      <td> 45667444.785276</td>\n",
        "      <td> 5126615.797546</td>\n",
        "      <td> 0</td>\n",
        "    </tr>\n",
        "    <tr>\n",
        "      <th>1979</th>\n",
        "      <th>1</th>\n",
        "      <td> 2957.500000</td>\n",
        "      <td> 1.306004e+08</td>\n",
        "      <td> 48466068.181818</td>\n",
        "      <td> 43089977.272727</td>\n",
        "      <td> 5261454.545455</td>\n",
        "      <td> 0</td>\n",
        "    </tr>\n",
        "  </tbody>\n",
        "</table>\n",
        "</div>"
       ],
       "metadata": {},
       "output_type": "pyout",
       "prompt_number": 4,
       "text": [
        "                                         LG_ID     REV_TOTAL    REV_TOTAL_TAX  REV_PROPERTY_TAX      REV_SO_TAX  REV_SALES_USE_TAX\n",
        "NAME         AUDIT_YEAR LGTYPE_ID                                                                                                 \n",
        "Adams County 1975       1          3990.975836  1.101322e+08  36796318.773234   32885082.713755  3583106.877323                  0\n",
        "             1976       1          3773.541301  1.235622e+08  47573385.764499   42537724.956063  4735586.994728                  0\n",
        "             1977       1          3543.143564  1.249685e+08  48133304.455446   43899230.198020  4122222.772277                  0\n",
        "             1978       1          3293.167178  1.441683e+08  50945394.938650   45667444.785276  5126615.797546                  0\n",
        "             1979       1          2957.500000  1.306004e+08  48466068.181818   43089977.272727  5261454.545455                  0"
       ]
      }
     ],
     "prompt_number": 4
    },
    {
     "cell_type": "heading",
     "level": 2,
     "metadata": {},
     "source": [
      "Integrate Spatial Information"
     ]
    },
    {
     "cell_type": "markdown",
     "metadata": {},
     "source": [
      "To map the data and perform spatial analyses, we need to couple these fiscal data with locational information from a shapefile provided by the [Census FTP site](ftp://ftp2.census.gov/geo/tiger/TIGER2012/).  County-level polygons are sufficiently large that they, unlike Census tracts, are provided in one nationwide file."
     ]
    },
    {
     "cell_type": "code",
     "collapsed": false,
     "input": [
      "%%R\n",
      "\n",
      "library(maptools)\n",
      "library(gpclib)\n",
      "library(sp)\n",
      "library(ggmap)\n",
      "library(rgdal)\n",
      "library(raster)\n",
      "library(ggplot2)\n",
      "library(plyr)\n",
      "\n",
      "#Read in Ward shapefile\n",
      "us<-readShapeSpatial('/home/choct155/Google Drive/Dissertation/Data/spatial/US/tl_2012_us_county.shp')\n",
      "projection(us) <- '+proj=longlat +datum=NAD83'\n",
      "print(summary(us))\n",
      "cat('\\n')\n",
      "print(head(us))\n",
      "cat('\\n')"
     ],
     "language": "python",
     "metadata": {},
     "outputs": [
      {
       "metadata": {},
       "output_type": "display_data",
       "text": [
        "Loading required package: foreign\n",
        "Loading required package: sp\n",
        "Loading required package: grid\n",
        "Loading required package: lattice\n",
        "Checking rgeos availability: TRUE\n",
        "General Polygon Clipper Library for R (version 1.5-5)\n",
        "\tType 'class ? gpc.poly' for help\n",
        "Loading required package: ggplot2\n",
        "rgdal: version: 0.8-10, (SVN revision 478)\n",
        "Geospatial Data Abstraction Library extensions to R successfully loaded\n",
        "Loaded GDAL runtime: GDAL 1.9.0, released 2011/12/29\n",
        "Path to GDAL shared files: /usr/share/gdal/1.9\n",
        "Loaded PROJ.4 runtime: Rel. 4.7.1, 23 September 2009, [PJ_VERSION: 470]\n",
        "Path to PROJ.4 shared files: (autodetected)\n",
        "Object of class SpatialPolygonsDataFrame\n",
        "Coordinates:\n",
        "         min       max\n",
        "x -179.23109 179.85968\n",
        "y  -14.60181  71.44106\n",
        "Is projected: FALSE \n",
        "proj4string :\n",
        "[+proj=longlat +datum=NAD83 +ellps=GRS80 +towgs84=0,0,0]\n",
        "Data attributes:\n",
        "    STATEFP        COUNTYFP        COUNTYNS        GEOID              NAME     \n",
        " 48     : 254   001    :  50   00023901:   1   01001  :   1   Washington:  31  \n",
        " 13     : 159   003    :  50   00025441:   1   01003  :   1   Franklin  :  26  \n",
        " 51     : 134   005    :  50   00025442:   1   01005  :   1   Jefferson :  26  \n",
        " 21     : 120   009    :  49   00025443:   1   01007  :   1   Jackson   :  24  \n",
        " 29     : 115   007    :  48   00025444:   1   01009  :   1   Lincoln   :  24  \n",
        " 20     : 105   013    :  48   00025445:   1   01011  :   1   Madison   :  20  \n",
        " (Other):2347   (Other):2939   (Other) :3228   (Other):3228   (Other)   :3083  \n",
        "              NAMELSAD         LSAD      CLASSFP     MTFCC          CSAFP     \n",
        " Washington County:  30   06     :3007   C7:  42   G4020:3234   490    :  45  \n",
        " Jefferson County :  25   13     :  78   H1:3116                548    :  34  \n",
        " Franklin County  :  24   15     :  64   H4:  29                122    :  33  \n",
        " Jackson County   :  23   25     :  41   H5:  11                408    :  30  \n",
        " Lincoln County   :  23   04     :  12   H6:  36                206    :  19  \n",
        " Madison County   :  19   05     :  11                          (Other): 743  \n",
        " (Other)          :3090   (Other):  21                          NA's   :2330  \n",
        "     CBSAFP        METDIVFP    FUNCSTAT     ALAND               AWATER         \n",
        " 41980  :  41   47894  :  20   A:3117   Min.   :8.209e+04   Min.   :0.000e+00  \n",
        " 12060  :  28   35644  :  11   B:   3   1st Qu.:1.078e+09   1st Qu.:7.066e+06  \n",
        " 35620  :  23   16974  :   8   C:  31   Median :1.562e+09   Median :1.954e+07  \n",
        " 47900  :  22   19124  :   8   F:  44   Mean   :2.832e+09   Mean   :2.160e+08  \n",
        " 40060  :  20   35084  :   6   G:   1   3rd Qu.:2.367e+09   3rd Qu.:6.238e+07  \n",
        " (Other):1728   (Other):  55   N:  27   Max.   :3.769e+11   Max.   :2.519e+10  \n",
        " NA's   :1372   NA's   :3126   S:  11                                          \n",
        "        INTPTLAT            INTPTLON   \n",
        " -11.0545243:   1   -064.7352610:   1  \n",
        " +13.4383000:   1   -064.7466655:   1  \n",
        " +14.1523588:   1   -064.9712501:   1  \n",
        " -14.2181010:   1   -065.3067405:   1  \n",
        " -14.2662796:   1   -065.4324740:   1  \n",
        " -14.3358534:   1   -065.5308947:   1  \n",
        " (Other)    :3228   (Other)     :3228  \n",
        "\n",
        "  STATEFP COUNTYFP COUNTYNS GEOID     NAME        NAMELSAD LSAD CLASSFP MTFCC\n",
        "0      15      001 00365280 15001   Hawaii   Hawaii County   06      H1 G4020\n",
        "1      05      027 00063761 05027 Columbia Columbia County   06      H1 G4020\n",
        "2      38      011 01035619 38011   Bowman   Bowman County   06      H1 G4020\n",
        "3      36      031 00974114 36031    Essex    Essex County   06      H1 G4020\n",
        "4      35      007 00929117 35007   Colfax   Colfax County   06      H1 G4020\n",
        "5      30      089 01719578 30089  Sanders  Sanders County   06      H1 G4020\n",
        "  CSAFP CBSAFP METDIVFP FUNCSTAT       ALAND     AWATER    INTPTLAT\n",
        "0  <NA>  25900     <NA>        A 10433603617 2739477738 +19.5977643\n",
        "1  <NA>  31620     <NA>        A  1984070931    1809509 +33.2230377\n",
        "2  <NA>   <NA>     <NA>        A  3009063806   13587978 +46.1101438\n",
        "3  <NA>   <NA>     <NA>        A  4647119053  315962259 +44.1089711\n",
        "4  <NA>   <NA>     <NA>        A  9733550626   26310378 +36.6129625\n",
        "5  <NA>   <NA>     <NA>        A  7149756422   76370640 +47.7564686\n",
        "      INTPTLON\n",
        "0 -155.5024434\n",
        "1 -093.2328433\n",
        "2 -103.5059433\n",
        "3 -073.7775726\n",
        "4 -104.6401256\n",
        "5 -115.1802247\n",
        "\n"
       ]
      }
     ],
     "prompt_number": 5
    },
    {
     "cell_type": "markdown",
     "metadata": {},
     "source": [
      "The shapefile data must be trimmed down to contain only Colorado counties before merging with the fiscal data.  In order to always be able to return to the well, and to avoid writing over objects to ease debugging if need be, we will make a new object to work on.\n",
      "\n",
      "We also need to prepare for merging the data we will be manipulating back in with the spatial information.  To make this happen we must ensure that we have a variable that keeps track of which polygon the data correspond to.  The polygon IDs are housed in the **ID** slot of the **polygon** objects, which in turn sit in the **polygons** slot of the **SpatialPolygonsDataFrame** object (see Spatial_Classes for a breakdown of how this all fits together).  In any event, we will actively use the polygon IDs to create our sorting variable."
     ]
    },
    {
     "cell_type": "code",
     "collapsed": false,
     "input": [
      "%%R\n",
      "\n",
      "#Create new subset object\n",
      "co<-us[us$STATEFP=='08',]\n",
      "\n",
      "#Verify IDs\n",
      "IDs<-sapply(slot(co,'polygons'),\n",
      "             function(x) slot(x,'ID'))\n",
      "print(IDs)\n",
      "cat('\\n')\n",
      "                 \n",
      "#Create sorting variable by assigning the list populated by polygon IDs\n",
      "co@data$sorting_id<-sapply(slot(co,'polygons'),\n",
      "                          function(x) slot(x,'ID'))\n",
      "\n",
      "#Pull data out of SPDF into standalone object\n",
      "co_df<-as(co,'data.frame')\n",
      "print(str(co_df))"
     ],
     "language": "python",
     "metadata": {},
     "outputs": [
      {
       "metadata": {},
       "output_type": "display_data",
       "text": [
        " [1] \"2169\" \"2170\" \"2171\" \"2174\" \"2176\" \"2177\" \"2179\" \"2205\" \"2206\" \"2209\"\n",
        "[11] \"2210\" \"2211\" \"2213\" \"2214\" \"2215\" \"2216\" \"2218\" \"2219\" \"2220\" \"2221\"\n",
        "[21] \"2222\" \"2224\" \"2226\" \"2227\" \"2228\" \"2229\" \"2231\" \"2233\" \"2234\" \"2235\"\n",
        "[31] \"2236\" \"2237\" \"2238\" \"2239\" \"2240\" \"2241\" \"2242\" \"2243\" \"2245\" \"2246\"\n",
        "[41] \"2247\" \"2248\" \"2249\" \"2250\" \"2251\" \"2252\" \"2253\" \"2254\" \"2255\" \"2256\"\n",
        "[51] \"2257\" \"2258\" \"2259\" \"2261\" \"2262\" \"2263\" \"2265\" \"2266\" \"2267\" \"2268\"\n",
        "[61] \"2269\" \"2906\" \"2932\" \"3137\"\n",
        "\n",
        "'data.frame':\t64 obs. of  18 variables:\n",
        " $ STATEFP   : Factor w/ 56 levels \"01\",\"02\",\"04\",..: 6 6 6 6 6 6 6 6 6 6 ...\n",
        " $ COUNTYFP  : Factor w/ 329 levels \"001\",\"003\",\"005\",..: 38 22 34 18 41 12 29 80 68 78 ...\n",
        " $ COUNTYNS  : Factor w/ 3234 levels \"00023901\",\"00025441\",..: 184 172 181 169 186 165 178 217 207 215 ...\n",
        " $ GEOID     : Factor w/ 3234 levels \"01001\",\"01003\",..: 272 260 269 257 274 253 265 305 295 303 ...\n",
        " $ NAME      : Factor w/ 1921 levels \"A\\xf1asco\",\"Abbeville\",..: 794 487 663 424 860 308 559 1693 1405 1557 ...\n",
        " $ NAMELSAD  : Factor w/ 1968 levels \"A\\xf1asco Municipio\",..: 809 497 676 433 875 316 569 1734 1435 1594 ...\n",
        " $ LSAD      : Factor w/ 11 levels \"00\",\"03\",\"04\",..: 5 5 5 5 5 5 5 5 5 5 ...\n",
        " $ CLASSFP   : Factor w/ 5 levels \"C7\",\"H1\",\"H4\",..: 2 2 2 2 2 2 2 2 2 2 ...\n",
        " $ MTFCC     : Factor w/ 1 level \"G4020\": 1 1 1 1 1 1 1 1 1 1 ...\n",
        " $ CSAFP     : Factor w/ 128 levels \"102\",\"104\",\"112\",..: NA NA 32 NA NA NA 32 NA NA NA ...\n",
        " $ CBSAFP    : Factor w/ 955 levels \"10020\",\"10100\",..: NA NA 233 NA NA NA 233 187 NA NA ...\n",
        " $ METDIVFP  : Factor w/ 29 levels \"13644\",\"14484\",..: NA NA NA NA NA NA NA NA NA NA ...\n",
        " $ FUNCSTAT  : Factor w/ 7 levels \"A\",\"B\",\"C\",\"F\",..: 1 1 1 1 1 1 1 1 1 1 ...\n",
        " $ ALAND     : num  2.89e+09 2.96e+09 3.88e+08 3.18e+09 4.18e+09 ...\n",
        " $ AWATER    : num  15324680 16953424 941898 8828904 18750018 ...\n",
        " $ INTPTLAT  : Factor w/ 3234 levels \"-11.0545243\",..: 1530 1782 2023 1394 2199 1748 1891 1785 1563 2254 ...\n",
        " $ INTPTLON  : Factor w/ 3234 levels \"-064.7352610\",..: 2883 2890 2839 2834 2859 2858 2794 2827 2726 2723 ...\n",
        " $ sorting_id: chr  \"2169\" \"2170\" \"2171\" \"2174\" ...\n",
        "NULL\n"
       ]
      }
     ],
     "prompt_number": 6
    },
    {
     "cell_type": "markdown",
     "metadata": {},
     "source": [
      "So, there is no exact matching variable that can be used to merge the spatial and fiscal data.  Since the data management required is a bit more involved, I am going to pull the spatial data from R into the Python namespace.  Before that happens, however, I need to convert the data types.  Factor types in R will come across in Python as a numeric ordinal value corresponding to the level position that R has assigned (for our purposes, in rather arbitrary fashion).  \n",
      "\n",
      "Variables in the index interval [1:13] must be converted from factor to character, while variables on the index interval [16:17] must be converted from factor to numeric."
     ]
    },
    {
     "cell_type": "code",
     "collapsed": false,
     "input": [
      "%%R\n",
      "\n",
      "#Convert first 13 variables to character \n",
      "co_df[,1:13] <- sapply(co_df[,1:13], as.character)\n",
      "\n",
      "#Convert INTPTLAT and INTPTLON to numeric\n",
      "co_df[,16:17]<-sapply(co_df[,16:17], function(x) as.numeric(as.character(x)))\n",
      "    \n",
      "print(str(co_df))"
     ],
     "language": "python",
     "metadata": {},
     "outputs": [
      {
       "metadata": {},
       "output_type": "display_data",
       "text": [
        "'data.frame':\t64 obs. of  18 variables:\n",
        " $ STATEFP   : chr  \"08\" \"08\" \"08\" \"08\" ...\n",
        " $ COUNTYFP  : chr  \"053\" \"029\" \"047\" \"023\" ...\n",
        " $ COUNTYNS  : chr  \"00198142\" \"00198130\" \"00198139\" \"00198127\" ...\n",
        " $ GEOID     : chr  \"08053\" \"08029\" \"08047\" \"08023\" ...\n",
        " $ NAME      : chr  \"Hinsdale\" \"Delta\" \"Gilpin\" \"Costilla\" ...\n",
        " $ NAMELSAD  : chr  \"Hinsdale County\" \"Delta County\" \"Gilpin County\" \"Costilla County\" ...\n",
        " $ LSAD      : chr  \"06\" \"06\" \"06\" \"06\" ...\n",
        " $ CLASSFP   : chr  \"H1\" \"H1\" \"H1\" \"H1\" ...\n",
        " $ MTFCC     : chr  \"G4020\" \"G4020\" \"G4020\" \"G4020\" ...\n",
        " $ CSAFP     : chr  NA NA \"216\" NA ...\n",
        " $ CBSAFP    : chr  NA NA \"19740\" NA ...\n",
        " $ METDIVFP  : chr  NA NA NA NA ...\n",
        " $ FUNCSTAT  : chr  \"A\" \"A\" \"A\" \"A\" ...\n",
        " $ ALAND     : num  2.89e+09 2.96e+09 3.88e+08 3.18e+09 4.18e+09 ...\n",
        " $ AWATER    : num  15324680 16953424 941898 8828904 18750018 ...\n",
        " $ INTPTLAT  : num  37.8 38.9 39.9 37.3 40.7 ...\n",
        " $ INTPTLON  : num  -107 -108 -106 -105 -106 ...\n",
        " $ sorting_id: chr  \"2169\" \"2170\" \"2171\" \"2174\" ...\n",
        "NULL\n"
       ]
      }
     ],
     "prompt_number": 7
    },
    {
     "cell_type": "markdown",
     "metadata": {},
     "source": [
      "The data will come across as a numpy ndarray, without columns labels.  Thus, labels will have to be pulled in a second object."
     ]
    },
    {
     "cell_type": "code",
     "collapsed": false,
     "input": [
      "%%R\n",
      "cols<-colnames(co_df)\n",
      "print(cols)"
     ],
     "language": "python",
     "metadata": {},
     "outputs": [
      {
       "metadata": {},
       "output_type": "display_data",
       "text": [
        " [1] \"STATEFP\"    \"COUNTYFP\"   \"COUNTYNS\"   \"GEOID\"      \"NAME\"      \n",
        " [6] \"NAMELSAD\"   \"LSAD\"       \"CLASSFP\"    \"MTFCC\"      \"CSAFP\"     \n",
        "[11] \"CBSAFP\"     \"METDIVFP\"   \"FUNCSTAT\"   \"ALAND\"      \"AWATER\"    \n",
        "[16] \"INTPTLAT\"   \"INTPTLON\"   \"sorting_id\"\n"
       ]
      }
     ],
     "prompt_number": 8
    },
    {
     "cell_type": "markdown",
     "metadata": {},
     "source": [
      "Pulling the data into Python..."
     ]
    },
    {
     "cell_type": "code",
     "collapsed": false,
     "input": [
      "%Rpull co_df cols"
     ],
     "language": "python",
     "metadata": {},
     "outputs": [],
     "prompt_number": 9
    },
    {
     "cell_type": "markdown",
     "metadata": {},
     "source": [
      "Building a usable DataFrame is actually quite easy.  The labels can be zipped to the corresponding arrays, providing the tuple list content that can be converted into a dictionary.  Dictionaries can, of course, be turned into DataFrames."
     ]
    },
    {
     "cell_type": "code",
     "collapsed": false,
     "input": [
      "#Generate dictionary containing the spatial data from R\n",
      "co_dict=dict(zip(cols,co_df))\n",
      "\n",
      "#Convert to DataFrame\n",
      "co_DF=DataFrame(co_dict)\n",
      "\n",
      "print co_DF[co_DF.columns[:9]].head().to_string()\n",
      "print co_DF[co_DF.columns[9:]].head().to_string()"
     ],
     "language": "python",
     "metadata": {},
     "outputs": [
      {
       "output_type": "stream",
       "stream": "stdout",
       "text": [
        "          ALAND      AWATER CBSAFP CLASSFP COUNTYFP  COUNTYNS CSAFP FUNCSTAT  GEOID\n",
        "0  2893573835.0  15324680.0     NA      H1      053  00198142    NA        A  08053\n",
        "1  2957922894.0  16953424.0     NA      H1      029  00198130    NA        A  08029\n",
        "2   388229141.0    941898.0  19740      H1      047  00198139   216        A  08047\n",
        "3  3177803460.0   8828904.0     NA      H1      023  00198127    NA        A  08023\n",
        "4  4179563675.0  18750018.0     NA      H1      057  00198144    NA        A  08057\n",
        "     INTPTLAT      INTPTLON LSAD METDIVFP  MTFCC      NAME         NAMELSAD STATEFP sorting_id\n",
        "0  37.8116669   -107.383335   06       NA  G4020  Hinsdale  Hinsdale County      08       2169\n",
        "1  38.8617559   -107.864757   06       NA  G4020     Delta     Delta County      08       2170\n",
        "2  39.8610823  -105.5289473   06       NA  G4020    Gilpin    Gilpin County      08       2171\n",
        "3  37.2775474  -105.4289399   06       NA  G4020  Costilla  Costilla County      08       2174\n",
        "4  40.6634319  -106.3292476   06       NA  G4020   Jackson   Jackson County      08       2176\n"
       ]
      }
     ],
     "prompt_number": 10
    },
    {
     "cell_type": "markdown",
     "metadata": {},
     "source": [
      "Now we can see about merging these data.  First, let's make sure that we have the same counties in there.  To do this, we will first quickly check that the length of unique sets of counties are the same.  Then we will construct a new variable in cgg_real that contains only the 'proper' name element of counties (e.g. 'Adams' for 'Adams County').  This corresponds to the NAME variable in co_DF, allowing us to check equality of sets directly."
     ]
    },
    {
     "cell_type": "code",
     "collapsed": false,
     "input": [
      "print 'THE NUMBER OF COUNTIES IN co_DF AND cgg_real IS EQUIVALENT:',\\\n",
      "len(set(cgg_real.index.get_level_values(level='NAME')))==len(set(co_DF['NAME']))\n",
      "\n",
      "#Create new variable in cgg_real that includes only the first name of the county\n",
      "cgg_real['FNAME']=''\n",
      "for i in range(len(cgg_real.index)):\n",
      "    cgg_real['FNAME'][i]=cgg_real.index.get_level_values(level='NAME')[i].split()[0].replace(',','')\n",
      "\n",
      "print 'THE SAME COUNTIES ARE REPRESENTED IN BOTH SETS:',set(cgg_real['FNAME'])==set(co_DF['NAME'])\n",
      "\n"
     ],
     "language": "python",
     "metadata": {},
     "outputs": [
      {
       "output_type": "stream",
       "stream": "stdout",
       "text": [
        "THE NUMBER OF COUNTIES IN co_DF AND cgg_real IS EQUIVALENT: True\n",
        "THE SAME COUNTIES ARE REPRESENTED IN BOTH SETS:"
       ]
      },
      {
       "output_type": "stream",
       "stream": "stdout",
       "text": [
        " False\n"
       ]
      }
     ],
     "prompt_number": 53
    },
    {
     "cell_type": "markdown",
     "metadata": {},
     "source": [
      "The sets are not identical, so where we have not achived overlap ([exclusive disjunction](http://en.wikipedia.org/wiki/Exclusive_or)).  We could use a loop to compare each element, but set operations are very fast.  If we don't care about order, we should leverage that fact."
     ]
    },
    {
     "cell_type": "code",
     "collapsed": false,
     "input": [
      "print set(cgg_real['FNAME']).difference(set(co_DF['NAME']))\n",
      "print set(co_DF['NAME']).difference(set(cgg_real['FNAME']))"
     ],
     "language": "python",
     "metadata": {},
     "outputs": [
      {
       "output_type": "stream",
       "stream": "stdout",
       "text": [
        "set(['El', 'San', 'La', 'Clear', 'Kit', 'Rio', 'Las'])\n",
        "set(['San Juan', 'San Miguel', 'La Plata', 'Clear Creek', 'Rio Grande', 'Kit Carson', 'El Paso', 'Las Animas', 'Rio Blanco'])\n"
       ]
      }
     ],
     "prompt_number": 64
    },
    {
     "cell_type": "markdown",
     "metadata": {},
     "source": [
      "Ah, it is clear that our naming convention for cgg_real['FNAME'] was ill conceived.  After some experimentation, I am not sure we can get there with a clean rule.  However, a nested loop testing the presence of a substring as a condition could get the job done.  \n",
      "\n",
      "This is a much slower method.  If we were to simply loop through cgg_real.index, testing each element to see if one member of co_DF['NAME'] was a substring, it would require 2240 X 64 = 143,360 string comparisons.  It's not untenable, but it takes longer than is necessary.  We can cut this down by using the set of the index, and then assigning the correct FNAME value to blocks at a time."
     ]
    },
    {
     "cell_type": "code",
     "collapsed": false,
     "input": [
      "#Create list of cgg_real counties over which to iterate\n",
      "cgg_cty=list(set(cgg_real.index.get_level_values(level='NAME')))\n",
      "\n",
      "#Loop through cgg_real counties\n",
      "for i in range(len(cgg_cty)):\n",
      "    #For each cgg_real county, loop through co_DF counties\n",
      "    for j in range(len(co_DF['NAME'])):\n",
      "        #Test if co_DF county name is contained within cgg_real county name\n",
      "        if co_DF['NAME'][j] in cgg_cty[i]:\n",
      "            #print co_DF['NAME'][j],'is in',cgg_cty[i]\n",
      "            #If True, assign co_DF county name to all records that contain cgg_real county name\n",
      "            cgg_real['FNAME'][cgg_real.index.get_level_values(level='NAME')==cgg_cty[i]]=co_DF['NAME'][j]\n",
      "        else:\n",
      "            #If not true, do nothing.\n",
      "            pass\n",
      "\n",
      "print cgg_real['FNAME']"
     ],
     "language": "python",
     "metadata": {},
     "outputs": [
      {
       "output_type": "stream",
       "stream": "stdout",
       "text": [
        "NAME          AUDIT_YEAR  LGTYPE_ID\n",
        "Adams County  1975        1            Adams\n",
        "              1976        1            Adams\n",
        "              1977        1            Adams\n",
        "              1978        1            Adams\n",
        "              1979        1            Adams\n",
        "              1980        1            Adams\n",
        "              1981        1            Adams\n",
        "              1982        1            Adams\n",
        "              1983        1            Adams\n",
        "              1984        1            Adams\n",
        "              1985        1            Adams\n",
        "              1986        1            Adams\n",
        "              1987        1            Adams\n",
        "              1988        1            Adams\n",
        "              1989        1            Adams\n",
        "...\n",
        "Broomfield, City and County of  1995        70           Broomfield\n",
        "                                1996        70           Broomfield\n",
        "                                1997        70           Broomfield\n",
        "                                1998        70           Broomfield\n",
        "                                1999        70           Broomfield\n",
        "                                2000        70           Broomfield\n",
        "                                2001        70           Broomfield\n",
        "                                2002        70           Broomfield\n",
        "                                2003        70           Broomfield\n",
        "                                2004        70           Broomfield\n",
        "                                2005        70           Broomfield\n",
        "                                2006        70           Broomfield\n",
        "                                2007        70           Broomfield\n",
        "                                2008        70           Broomfield\n",
        "                                2009        70           Broomfield\n",
        "Name: FNAME, Length: 2240, dtype: object\n"
       ]
      }
     ],
     "prompt_number": 81
    },
    {
     "cell_type": "markdown",
     "metadata": {},
     "source": [
      "Looks ok at first glance, let's test again."
     ]
    },
    {
     "cell_type": "code",
     "collapsed": false,
     "input": [
      "print 'THE SAME COUNTIES ARE REPRESENTED IN BOTH SETS:',set(cgg_real['FNAME'])==set(co_DF['NAME'])\n",
      "print set(cgg_real['FNAME']).difference(set(co_DF['NAME']))\n",
      "print set(co_DF['NAME']).difference(set(cgg_real['FNAME']))"
     ],
     "language": "python",
     "metadata": {},
     "outputs": [
      {
       "output_type": "stream",
       "stream": "stdout",
       "text": [
        "THE SAME COUNTIES ARE REPRESENTED IN BOTH SETS: False\n",
        "set([])\n",
        "set(['Rio Grande'])\n"
       ]
      }
     ],
     "prompt_number": 82
    },
    {
     "cell_type": "markdown",
     "metadata": {},
     "source": [
      "Crap.  Let's look at what's happening here."
     ]
    },
    {
     "cell_type": "code",
     "collapsed": false,
     "input": [
      "#Identify FNAME for Rio Grande\n",
      "print cgg_real['FNAME'][cgg_real.index.get_level_values(level='NAME')=='Rio Grande County'].head()\n",
      "\n",
      "#Determine coverage of this FNAME\n",
      "print cgg_real['FNAME'][cgg_real['FNAME']=='Grand']"
     ],
     "language": "python",
     "metadata": {},
     "outputs": [
      {
       "output_type": "stream",
       "stream": "stdout",
       "text": [
        "NAME               AUDIT_YEAR  LGTYPE_ID\n",
        "Rio Grande County  1975        1            Grand\n",
        "                   1976        1            Grand\n",
        "                   1977        1            Grand\n",
        "                   1978        1            Grand\n",
        "                   1979        1            Grand\n",
        "Name: FNAME, dtype: object\n",
        "NAME          AUDIT_YEAR  LGTYPE_ID\n",
        "Grand County  1975        1            Grand\n",
        "              1976        1            Grand\n",
        "              1977        1            Grand\n",
        "              1978        1            Grand\n",
        "              1979        1            Grand\n",
        "              1980        1            Grand\n",
        "              1981        1            Grand\n",
        "              1982        1            Grand\n",
        "              1983        1            Grand\n",
        "              1984        1            Grand\n",
        "              1985        1            Grand\n",
        "              1986        1            Grand\n",
        "              1987        1            Grand\n",
        "              1988        1            Grand\n",
        "              1989        1            Grand\n",
        "...\n",
        "Rio Grande County  1995        1            Grand\n",
        "                   1996        1            Grand\n",
        "                   1997        1            Grand\n",
        "                   1998        1            Grand\n",
        "                   1999        1            Grand\n",
        "                   2000        1            Grand\n",
        "                   2001        1            Grand\n",
        "                   2002        1            Grand\n",
        "                   2003        1            Grand\n",
        "                   2004        1            Grand\n",
        "                   2005        1            Grand\n",
        "                   2006        1            Grand\n",
        "                   2007        1            Grand\n",
        "                   2008        1            Grand\n",
        "                   2009        1            Grand\n",
        "Name: FNAME, Length: 70, dtype: object\n"
       ]
      }
     ],
     "prompt_number": 84
    },
    {
     "cell_type": "markdown",
     "metadata": {},
     "source": [
      "Ah, our rule isn't perfect.  Since substring 'Grand' is contained in both 'Grand County' and 'Rio Grande County', we have over-assigned it to an additional county.  Fixing one county is easy enough."
     ]
    },
    {
     "cell_type": "code",
     "collapsed": false,
     "input": [
      "#Patch Rio Grande County\n",
      "cgg_real['FNAME'][cgg_real.index.get_level_values(level='NAME')=='Rio Grande County']='Rio Grande'\n",
      "\n",
      "#Retest equality of sets\n",
      "print 'THE SAME COUNTIES ARE REPRESENTED IN BOTH SETS:',set(cgg_real['FNAME'])==set(co_DF['NAME'])"
     ],
     "language": "python",
     "metadata": {},
     "outputs": [
      {
       "output_type": "stream",
       "stream": "stdout",
       "text": [
        "THE SAME COUNTIES ARE REPRESENTED IN BOTH SETS: True\n"
       ]
      }
     ],
     "prompt_number": 85
    },
    {
     "cell_type": "markdown",
     "metadata": {},
     "source": [
      "Now we can merge these data."
     ]
    },
    {
     "cell_type": "code",
     "collapsed": false,
     "input": [],
     "language": "python",
     "metadata": {},
     "outputs": []
    }
   ],
   "metadata": {}
  }
 ]
}