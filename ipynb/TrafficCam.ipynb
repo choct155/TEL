{
 "metadata": {
  "name": ""
 },
 "nbformat": 3,
 "nbformat_minor": 0,
 "worksheets": [
  {
   "cells": [
    {
     "cell_type": "heading",
     "level": 1,
     "metadata": {},
     "source": [
      "Mapping the Locations of Traffice Cameras"
     ]
    },
    {
     "cell_type": "markdown",
     "metadata": {},
     "source": [
      "This script is really a test of [folium](https://github.com/wrobstory/folium), and the capacity to plot features with GeoJSON overlays (via [geopandas](http://geopandas.org/)).  The whole camera bit is just a convenient item that Angela and I were curious about.  Presumably this can be updated seamlessly as updates to the shapefile are generated."
     ]
    },
    {
     "cell_type": "code",
     "collapsed": false,
     "input": [
      "import geopandas as gp\n",
      "import folium\n",
      "from shapely.geometry import Point\n",
      "from geopy.geocoders import GoogleV3\n",
      "from IPython.display import HTML"
     ],
     "language": "python",
     "metadata": {},
     "outputs": [],
     "prompt_number": 1
    },
    {
     "cell_type": "heading",
     "level": 2,
     "metadata": {},
     "source": [
      "Tile Plots"
     ]
    },
    {
     "cell_type": "markdown",
     "metadata": {},
     "source": [
      "The first step is generating a base layer upon which we intend to overlay features."
     ]
    },
    {
     "cell_type": "code",
     "collapsed": false,
     "input": [
      "# help(folium.Map)"
     ],
     "language": "python",
     "metadata": {},
     "outputs": [],
     "prompt_number": 2
    },
    {
     "cell_type": "markdown",
     "metadata": {},
     "source": [
      "It appears that Map objects only take coordinate inputs to center the maps (unlike [ggmap](https://sites.google.com/site/davidkahle/ggmap) which also takes string inputs).  Our first challenge, then, is to establish coordinates for Washington DC.  Fortunately, there is a geocoding utility for this purpose called [geopy](http://code.google.com/p/geopy/w/list)."
     ]
    },
    {
     "cell_type": "code",
     "collapsed": false,
     "input": [
      "geolocator=GoogleV3()\n",
      "place,(latitude,longitude)=geolocator.geocode('Washington DC')\n",
      "print place, latitude, longitude"
     ],
     "language": "python",
     "metadata": {},
     "outputs": [
      {
       "output_type": "stream",
       "stream": "stdout",
       "text": [
        "Washington, DC, USA 38.9072309 -77.0364641\n"
       ]
      }
     ],
     "prompt_number": 3
    },
    {
     "cell_type": "markdown",
     "metadata": {},
     "source": [
      "Word up, easy as pie.  The next step is enabling the rendering of interactive maps within the Notebook.  This is a really cool feature that ggmap cannot match.  It does, however, involve initiating a local server.  This is a trivial exercise, just type the following in the shell:\n",
      "\n",
      "    python -m SimpleHTTPServer 8015\n",
      "    \n",
      "The number is important here, because it is searched for directly (as seen in the *iframe* tag string below.  Once this is going, we can define a couple convenience functions."
     ]
    },
    {
     "cell_type": "code",
     "collapsed": false,
     "input": [
      "#Function that shows the map\n",
      "def showmap(map_in,pth):\n",
      "    map_in.create_map(path=pth)\n",
      "    return HTML('<iframe src=http://localhost:8015/'+pth+' width=1000 height=500></iframe>')\n",
      "\n",
      "#Function that resets the map\n",
      "def resetmap():\n",
      "    return folium.Map(location=[40, -99], zoom_start=4)"
     ],
     "language": "python",
     "metadata": {},
     "outputs": [],
     "prompt_number": 4
    },
    {
     "cell_type": "markdown",
     "metadata": {},
     "source": [
      "And now we are ready to plot our interactive tile.  (It should be noted that static HTML renderings of this Notebook are ... well, static.  If interactivity is desired, it must be done within an IPython Notebook.)"
     ]
    },
    {
     "cell_type": "code",
     "collapsed": false,
     "input": [
      "dcmap=folium.Map(location=[latitude,longitude],tiles='Stamen Toner')\n",
      "dcmap.create_map(path='dcmap.html')\n",
      "showmap(dcmap,'dcmap.html')"
     ],
     "language": "python",
     "metadata": {},
     "outputs": [
      {
       "html": [
        "<iframe src=http://localhost:8015/dcmap.html width=1000 height=500></iframe>"
       ],
       "metadata": {},
       "output_type": "pyout",
       "prompt_number": 5,
       "text": [
        "<IPython.core.display.HTML at 0x3649490>"
       ]
      }
     ],
     "prompt_number": 5
    },
    {
     "cell_type": "heading",
     "level": 2,
     "metadata": {},
     "source": [
      "Overlaying Features"
     ]
    },
    {
     "cell_type": "markdown",
     "metadata": {},
     "source": [
      "Now that we have a handle on the base layer, let's see how we can include some features of interest.  It is possible to build in individual markers, but who wants to input coordinates when many markers must be added?  Given that there are many cameras, the tedium would be overwhelming (and make for incredibly boring code).  \n",
      "\n",
      "It turns out that folium supports [GeoJSON](http://geojson.org/) overlays.  "
     ]
    },
    {
     "cell_type": "code",
     "collapsed": false,
     "input": [
      "#Establish working directory\n",
      "workdir='/home/choct155/ORA/misc/'\n",
      "\n",
      "#Read in camera shp\n",
      "camera=gp.GeoDataFrame.from_file(workdir+'TrafficCamera.shp')\n",
      "\n",
      "print camera\n",
      "camera.head()"
     ],
     "language": "python",
     "metadata": {},
     "outputs": [
      {
       "output_type": "stream",
       "stream": "stdout",
       "text": [
        "<class 'geopandas.geodataframe.GeoDataFrame'>\n",
        "Int64Index: 339 entries, 0 to 338\n",
        "Data columns (total 8 columns):\n",
        "CAMERAID      339  non-null values\n",
        "CAMERATYPE    339  non-null values\n",
        "FACILITYID    339  non-null values\n",
        "OWNER         339  non-null values\n",
        "POLEID        339  non-null values\n",
        "STREETJUNC    339  non-null values\n",
        "STREETSEGI    339  non-null values\n",
        "geometry      339  non-null values\n",
        "dtypes: int64(6), object(2)\n"
       ]
      },
      {
       "html": [
        "<div style=\"max-height:1000px;max-width:1500px;overflow:auto;\">\n",
        "<table border=\"1\" class=\"dataframe\">\n",
        "  <thead>\n",
        "    <tr style=\"text-align: right;\">\n",
        "      <th></th>\n",
        "      <th>CAMERAID</th>\n",
        "      <th>CAMERATYPE</th>\n",
        "      <th>FACILITYID</th>\n",
        "      <th>OWNER</th>\n",
        "      <th>POLEID</th>\n",
        "      <th>STREETJUNC</th>\n",
        "      <th>STREETSEGI</th>\n",
        "      <th>geometry</th>\n",
        "    </tr>\n",
        "  </thead>\n",
        "  <tbody>\n",
        "    <tr>\n",
        "      <th>0</th>\n",
        "      <td> 329</td>\n",
        "      <td> 1</td>\n",
        "      <td> 329</td>\n",
        "      <td> 1</td>\n",
        "      <td> 25657</td>\n",
        "      <td> 7507</td>\n",
        "      <td>  2760</td>\n",
        "      <td> POINT (400785.3803125023841858 129044.05624999...</td>\n",
        "    </tr>\n",
        "    <tr>\n",
        "      <th>1</th>\n",
        "      <td> 330</td>\n",
        "      <td> 1</td>\n",
        "      <td> 330</td>\n",
        "      <td> 3</td>\n",
        "      <td> 25673</td>\n",
        "      <td> 2970</td>\n",
        "      <td> 13183</td>\n",
        "      <td> POINT (401033.8136250004172325 129436.28687499...</td>\n",
        "    </tr>\n",
        "    <tr>\n",
        "      <th>2</th>\n",
        "      <td> 332</td>\n",
        "      <td> 1</td>\n",
        "      <td> 332</td>\n",
        "      <td> 3</td>\n",
        "      <td> 26542</td>\n",
        "      <td> 7467</td>\n",
        "      <td> 13152</td>\n",
        "      <td> POINT (402458.9065624997019768 132123.35637500...</td>\n",
        "    </tr>\n",
        "    <tr>\n",
        "      <th>3</th>\n",
        "      <td> 331</td>\n",
        "      <td> 2</td>\n",
        "      <td> 331</td>\n",
        "      <td> 3</td>\n",
        "      <td> 26425</td>\n",
        "      <td> 4075</td>\n",
        "      <td>  2895</td>\n",
        "      <td> POINT (401478.2784375026822090 131751.35325000...</td>\n",
        "    </tr>\n",
        "    <tr>\n",
        "      <th>4</th>\n",
        "      <td> 333</td>\n",
        "      <td> 2</td>\n",
        "      <td> 333</td>\n",
        "      <td> 3</td>\n",
        "      <td> 27369</td>\n",
        "      <td> 2813</td>\n",
        "      <td>  2214</td>\n",
        "      <td> POINT (402577.9644374996423721 133946.26999999...</td>\n",
        "    </tr>\n",
        "  </tbody>\n",
        "</table>\n",
        "</div>"
       ],
       "metadata": {},
       "output_type": "pyout",
       "prompt_number": 6,
       "text": [
        "   CAMERAID  CAMERATYPE FACILITYID  OWNER  POLEID  STREETJUNC  STREETSEGI  \\\n",
        "0       329           1        329      1   25657        7507        2760   \n",
        "1       330           1        330      3   25673        2970       13183   \n",
        "2       332           1        332      3   26542        7467       13152   \n",
        "3       331           2        331      3   26425        4075        2895   \n",
        "4       333           2        333      3   27369        2813        2214   \n",
        "\n",
        "                                            geometry  \n",
        "0  POINT (400785.3803125023841858 129044.05624999...  \n",
        "1  POINT (401033.8136250004172325 129436.28687499...  \n",
        "2  POINT (402458.9065624997019768 132123.35637500...  \n",
        "3  POINT (401478.2784375026822090 131751.35325000...  \n",
        "4  POINT (402577.9644374996423721 133946.26999999...  "
       ]
      }
     ],
     "prompt_number": 6
    },
    {
     "cell_type": "markdown",
     "metadata": {},
     "source": [
      "Sweet Jesus!  There are 339 camera, which definitely means we need to leverage this overlay business.  In any event, the coordinate reference system (CRS) for the camera data is currently in eastings/northings.  If we actually want the cameras to appear anywhere in the vicinity of the District, it's probably in our interest to harmonize the CRSs."
     ]
    },
    {
     "cell_type": "code",
     "collapsed": false,
     "input": [
      "camera_ll=camera.to_crs(crs={'proj':'longlat',\n",
      "                             'datum':'WGS84'}).rename(columns={'geometry':'geo_temp'})\n",
      "camera_ll.head()"
     ],
     "language": "python",
     "metadata": {},
     "outputs": [
      {
       "html": [
        "<div style=\"max-height:1000px;max-width:1500px;overflow:auto;\">\n",
        "<table border=\"1\" class=\"dataframe\">\n",
        "  <thead>\n",
        "    <tr style=\"text-align: right;\">\n",
        "      <th></th>\n",
        "      <th>CAMERAID</th>\n",
        "      <th>CAMERATYPE</th>\n",
        "      <th>FACILITYID</th>\n",
        "      <th>OWNER</th>\n",
        "      <th>POLEID</th>\n",
        "      <th>STREETJUNC</th>\n",
        "      <th>STREETSEGI</th>\n",
        "      <th>geo_temp</th>\n",
        "    </tr>\n",
        "  </thead>\n",
        "  <tbody>\n",
        "    <tr>\n",
        "      <th>0</th>\n",
        "      <td> 329</td>\n",
        "      <td> 1</td>\n",
        "      <td> 329</td>\n",
        "      <td> 1</td>\n",
        "      <td> 25657</td>\n",
        "      <td> 7507</td>\n",
        "      <td>  2760</td>\n",
        "      <td> POINT (-76.9909549637256276 38.8291823043240072)</td>\n",
        "    </tr>\n",
        "    <tr>\n",
        "      <th>1</th>\n",
        "      <td> 330</td>\n",
        "      <td> 1</td>\n",
        "      <td> 330</td>\n",
        "      <td> 3</td>\n",
        "      <td> 25673</td>\n",
        "      <td> 2970</td>\n",
        "      <td> 13183</td>\n",
        "      <td> POINT (-76.9880932278285570 38.8327154426776175)</td>\n",
        "    </tr>\n",
        "    <tr>\n",
        "      <th>2</th>\n",
        "      <td> 332</td>\n",
        "      <td> 1</td>\n",
        "      <td> 332</td>\n",
        "      <td> 3</td>\n",
        "      <td> 26542</td>\n",
        "      <td> 7467</td>\n",
        "      <td> 13152</td>\n",
        "      <td> POINT (-76.9716703595549774 38.8569189260698664)</td>\n",
        "    </tr>\n",
        "    <tr>\n",
        "      <th>3</th>\n",
        "      <td> 331</td>\n",
        "      <td> 2</td>\n",
        "      <td> 331</td>\n",
        "      <td> 3</td>\n",
        "      <td> 26425</td>\n",
        "      <td> 4075</td>\n",
        "      <td>  2895</td>\n",
        "      <td> POINT (-76.9829692059042543 38.8535699575756723)</td>\n",
        "    </tr>\n",
        "    <tr>\n",
        "      <th>4</th>\n",
        "      <td> 333</td>\n",
        "      <td> 2</td>\n",
        "      <td> 333</td>\n",
        "      <td> 3</td>\n",
        "      <td> 27369</td>\n",
        "      <td> 2813</td>\n",
        "      <td>  2214</td>\n",
        "      <td> POINT (-76.9702918311025286 38.8733401431466348)</td>\n",
        "    </tr>\n",
        "  </tbody>\n",
        "</table>\n",
        "</div>"
       ],
       "metadata": {},
       "output_type": "pyout",
       "prompt_number": 7,
       "text": [
        "   CAMERAID  CAMERATYPE FACILITYID  OWNER  POLEID  STREETJUNC  STREETSEGI  \\\n",
        "0       329           1        329      1   25657        7507        2760   \n",
        "1       330           1        330      3   25673        2970       13183   \n",
        "2       332           1        332      3   26542        7467       13152   \n",
        "3       331           2        331      3   26425        4075        2895   \n",
        "4       333           2        333      3   27369        2813        2214   \n",
        "\n",
        "                                           geo_temp  \n",
        "0  POINT (-76.9909549637256276 38.8291823043240072)  \n",
        "1  POINT (-76.9880932278285570 38.8327154426776175)  \n",
        "2  POINT (-76.9716703595549774 38.8569189260698664)  \n",
        "3  POINT (-76.9829692059042543 38.8535699575756723)  \n",
        "4  POINT (-76.9702918311025286 38.8733401431466348)  "
       ]
      }
     ],
     "prompt_number": 7
    },
    {
     "cell_type": "markdown",
     "metadata": {},
     "source": [
      "ESRI has created an extra hurdle for us.  For whatever reason, they like to kick out coordinates in reverse order.  It's challenging to plot features with reversed coordinates in the right place, so let's see what can be done about it.  (This was the reason for renaming the 'geometry' variable above.)\n",
      "\n",
      "Swapping these coordinates teaches us just a little about the geopandas machinery.  The spatial information is actually captured with [Shapely](http://toblerity.org/shapely/index.html) objects.  For our camera point layer, the objects in the 'geometry' column are ... *Point* objects.  A *Point* object has an interior set of one point, no points in the boundary set, and an exterior set of all other points.  Just a little trivia...\n",
      "\n",
      "In any case, it's important to know that Shapely's geometric objects are immutable, so we must make a copy that switches the (basically) tuple position of the coordinates from long-lat to lat-long.  This is a tidy job for a list comprehension."
     ]
    },
    {
     "cell_type": "code",
     "collapsed": false,
     "input": [
      "#Swap lat-long coords in Point objects\n",
      "camera_ll['geometry']=[Point(x.y,x.x) for x in camera_ll['geo_temp'].values]\n",
      "\n",
      "#Keep relevant columns\n",
      "camera_ll2=camera_ll[['CAMERAID','CAMERATYPE','FACILITYID','OWNER','POLEID','STREETJUNC','STREETSEGI','geometry']]\n",
      "\n",
      "camera_ll2.head()"
     ],
     "language": "python",
     "metadata": {},
     "outputs": [
      {
       "html": [
        "<div style=\"max-height:1000px;max-width:1500px;overflow:auto;\">\n",
        "<table border=\"1\" class=\"dataframe\">\n",
        "  <thead>\n",
        "    <tr style=\"text-align: right;\">\n",
        "      <th></th>\n",
        "      <th>CAMERAID</th>\n",
        "      <th>CAMERATYPE</th>\n",
        "      <th>FACILITYID</th>\n",
        "      <th>OWNER</th>\n",
        "      <th>POLEID</th>\n",
        "      <th>STREETJUNC</th>\n",
        "      <th>STREETSEGI</th>\n",
        "      <th>geometry</th>\n",
        "    </tr>\n",
        "  </thead>\n",
        "  <tbody>\n",
        "    <tr>\n",
        "      <th>0</th>\n",
        "      <td> 329</td>\n",
        "      <td> 1</td>\n",
        "      <td> 329</td>\n",
        "      <td> 1</td>\n",
        "      <td> 25657</td>\n",
        "      <td> 7507</td>\n",
        "      <td>  2760</td>\n",
        "      <td> POINT (38.8291823043240072 -76.9909549637256276)</td>\n",
        "    </tr>\n",
        "    <tr>\n",
        "      <th>1</th>\n",
        "      <td> 330</td>\n",
        "      <td> 1</td>\n",
        "      <td> 330</td>\n",
        "      <td> 3</td>\n",
        "      <td> 25673</td>\n",
        "      <td> 2970</td>\n",
        "      <td> 13183</td>\n",
        "      <td> POINT (38.8327154426776175 -76.9880932278285570)</td>\n",
        "    </tr>\n",
        "    <tr>\n",
        "      <th>2</th>\n",
        "      <td> 332</td>\n",
        "      <td> 1</td>\n",
        "      <td> 332</td>\n",
        "      <td> 3</td>\n",
        "      <td> 26542</td>\n",
        "      <td> 7467</td>\n",
        "      <td> 13152</td>\n",
        "      <td> POINT (38.8569189260698664 -76.9716703595549774)</td>\n",
        "    </tr>\n",
        "    <tr>\n",
        "      <th>3</th>\n",
        "      <td> 331</td>\n",
        "      <td> 2</td>\n",
        "      <td> 331</td>\n",
        "      <td> 3</td>\n",
        "      <td> 26425</td>\n",
        "      <td> 4075</td>\n",
        "      <td>  2895</td>\n",
        "      <td> POINT (38.8535699575756723 -76.9829692059042543)</td>\n",
        "    </tr>\n",
        "    <tr>\n",
        "      <th>4</th>\n",
        "      <td> 333</td>\n",
        "      <td> 2</td>\n",
        "      <td> 333</td>\n",
        "      <td> 3</td>\n",
        "      <td> 27369</td>\n",
        "      <td> 2813</td>\n",
        "      <td>  2214</td>\n",
        "      <td> POINT (38.8733401431466348 -76.9702918311025286)</td>\n",
        "    </tr>\n",
        "  </tbody>\n",
        "</table>\n",
        "</div>"
       ],
       "metadata": {},
       "output_type": "pyout",
       "prompt_number": 8,
       "text": [
        "   CAMERAID  CAMERATYPE FACILITYID  OWNER  POLEID  STREETJUNC  STREETSEGI  \\\n",
        "0       329           1        329      1   25657        7507        2760   \n",
        "1       330           1        330      3   25673        2970       13183   \n",
        "2       332           1        332      3   26542        7467       13152   \n",
        "3       331           2        331      3   26425        4075        2895   \n",
        "4       333           2        333      3   27369        2813        2214   \n",
        "\n",
        "                                           geometry  \n",
        "0  POINT (38.8291823043240072 -76.9909549637256276)  \n",
        "1  POINT (38.8327154426776175 -76.9880932278285570)  \n",
        "2  POINT (38.8569189260698664 -76.9716703595549774)  \n",
        "3  POINT (38.8535699575756723 -76.9829692059042543)  \n",
        "4  POINT (38.8733401431466348 -76.9702918311025286)  "
       ]
      }
     ],
     "prompt_number": 8
    },
    {
     "cell_type": "code",
     "collapsed": false,
     "input": [
      "#Open file for writing\n",
      "f=open(workdir+'camera_ll2.json','w')\n",
      "\n",
      "#Write the GeoJSON info to disk\n",
      "f.write(camera_ll2.to_json())\n",
      "\n",
      "#Close file\n",
      "f.close()"
     ],
     "language": "python",
     "metadata": {},
     "outputs": [],
     "prompt_number": 9
    },
    {
     "cell_type": "code",
     "collapsed": false,
     "input": [
      "dcmap.geo_json(geo_path=workdir+'camera_ll2.json')\n",
      "showmap(dcmap,'dcmap.html')"
     ],
     "language": "python",
     "metadata": {},
     "outputs": [
      {
       "html": [
        "<iframe src=http://localhost:8015/dcmap.html width=1000 height=500></iframe>"
       ],
       "metadata": {},
       "output_type": "pyout",
       "prompt_number": 10,
       "text": [
        "<IPython.core.display.HTML at 0x372cad0>"
       ]
      }
     ],
     "prompt_number": 10
    },
    {
     "cell_type": "markdown",
     "metadata": {},
     "source": [
      "Hmmm, definitely having some trouble here.  My conversion from NAD83 to WGS84 seems to have been appropriate.  I am thinking the real issue is that we are dealing with an object that has a topological dimension of zero.  To test this theory, I am going to manually add a marker."
     ]
    },
    {
     "cell_type": "code",
     "collapsed": false,
     "input": [
      "# dcmap.simple_marker(location=[38.8733401431466348,-76.9702918311025286],popup='Aesthetic Test - Camera 333')\n",
      "# showmap(dcmap,'dcmap.html')"
     ],
     "language": "python",
     "metadata": {},
     "outputs": [],
     "prompt_number": 11
    },
    {
     "cell_type": "markdown",
     "metadata": {},
     "source": [
      "My suspicions are confirmed here.  I need to somehow add markers for all of the points.  In truth, I probably overstated how tedious this would be.  We can cycle through the GeoDataFrame and extract the relevant information.  First, however, we need to identify a less obtrusive marker than this [Trulia](http://www.trulia.com/)-type nonsense."
     ]
    },
    {
     "cell_type": "code",
     "collapsed": false,
     "input": [
      "dcmap.polygon_marker(location=[38.8733401431466348,-76.9702918311025286],popup='Test - Camera #333',\n",
      "                    fill_color='#B80000',num_sides=4,radius=6)\n",
      "showmap(dcmap,'dcmap.html')"
     ],
     "language": "python",
     "metadata": {},
     "outputs": [
      {
       "html": [
        "<iframe src=http://localhost:8015/dcmap.html width=1000 height=500></iframe>"
       ],
       "metadata": {},
       "output_type": "pyout",
       "prompt_number": 12,
       "text": [
        "<IPython.core.display.HTML at 0x3737bd0>"
       ]
      }
     ],
     "prompt_number": 12
    },
    {
     "cell_type": "markdown",
     "metadata": {},
     "source": [
      "Now we are in good shape.  We can roll though each of these points and populate the map with all cameras in the District.  We need to extract three pieces of information:\n",
      "\n",
      "1. Latitude;\n",
      "2. Longitude; and,\n",
      "3. Camera ID Number\n",
      "\n",
      "This is clearly a loop job that pulls from two locations (columns) in the GDF.  For pedagogical reasons, it's useful to highlight how I extract these values from the GDF.  The first two (latitude and longitude) are extracted from the objects captured in the 'geometry' column.  The last one (camera ID #) is captured from the column of the same name."
     ]
    },
    {
     "cell_type": "code",
     "collapsed": false,
     "input": [
      "print camera_ll2['geometry'].values[0].x\n",
      "print camera_ll2['geometry'].values[0].y\n",
      "print camera_ll2['CAMERAID'].values[0]"
     ],
     "language": "python",
     "metadata": {},
     "outputs": [
      {
       "output_type": "stream",
       "stream": "stdout",
       "text": [
        "38.8291823043\n",
        "-76.9909549637\n",
        "329\n"
       ]
      }
     ],
     "prompt_number": 13
    },
    {
     "cell_type": "markdown",
     "metadata": {},
     "source": [
      "Now, let us evaluate all locations in the GDF."
     ]
    },
    {
     "cell_type": "code",
     "collapsed": false,
     "input": [
      "#For every camera in the GDF...\n",
      "for i in range(len(camera_ll2['geometry'])):\n",
      "    #...extract the coordinates...\n",
      "    lat=camera_ll2['geometry'].values[i].x\n",
      "    lon=camera_ll2['geometry'].values[i].y\n",
      "    #...and the pop up text...\n",
      "    text=str(camera_ll2['CAMERAID'].values[i])\n",
      "    #...and create a marker\n",
      "    dcmap.polygon_marker(location=[lat,lon],popup=text,\n",
      "                    fill_color='#B80000',num_sides=4,radius=6)"
     ],
     "language": "python",
     "metadata": {},
     "outputs": [],
     "prompt_number": 14
    },
    {
     "cell_type": "markdown",
     "metadata": {},
     "source": [
      "Presumably we just made markers en masse.  Let's see if we did what we thought we did."
     ]
    },
    {
     "cell_type": "code",
     "collapsed": false,
     "input": [
      "showmap(dcmap,'dcmap.html')"
     ],
     "language": "python",
     "metadata": {},
     "outputs": [
      {
       "html": [
        "<iframe src=http://localhost:8015/dcmap.html width=1000 height=500></iframe>"
       ],
       "metadata": {},
       "output_type": "pyout",
       "prompt_number": 15,
       "text": [
        "<IPython.core.display.HTML at 0x365cb90>"
       ]
      }
     ],
     "prompt_number": 15
    },
    {
     "cell_type": "code",
     "collapsed": false,
     "input": [],
     "language": "python",
     "metadata": {},
     "outputs": [],
     "prompt_number": 15
    }
   ],
   "metadata": {}
  }
 ]
}