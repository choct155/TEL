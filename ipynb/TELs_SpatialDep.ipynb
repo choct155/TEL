{
 "metadata": {
  "name": "",
  "signature": "sha256:236eb3832ddfdc3af3456cec438b2f7bc06418514f84397a17c3ea36b7c398f6"
 },
 "nbformat": 3,
 "nbformat_minor": 0,
 "worksheets": [
  {
   "cells": [
    {
     "cell_type": "heading",
     "level": 1,
     "metadata": {},
     "source": [
      "TELs and Spatial Dependency"
     ]
    },
    {
     "cell_type": "markdown",
     "metadata": {},
     "source": [
      "This script is really just a rehashing of what has occurred in CO_TEL_converge and TEL_converge_recession.  Both of those scripts involved so much in the way of data management that they became somewhat unmanageable.  The data management function has been consolidated in CO_CTY_DATA, and now modeling scripts will draw from that set.  There were a couple issues with the first passes at these models:\n",
      "\n",
      "1. In CO_TEL_converge, the old ordinal measure of TEL intensity was used as opposed to the new dynamic measure defined in TEL_converge_recession; and,\n",
      "2. TEL_converge_recession did not carry spatial error or spatial panel models.  \n",
      "\n",
      "This script will contain only modeling, and will cover all of these bases."
     ]
    },
    {
     "cell_type": "code",
     "collapsed": false,
     "input": [
      "#Basic data manipulation\n",
      "import numpy as np\n",
      "import pandas as pd\n",
      "from pandas import Series, DataFrame\n",
      "\n",
      "#Display/visualization\n",
      "from IPython.display import HTML\n",
      "import seaborn as sb\n",
      "from statsmodels.graphics.gofplots import *\n",
      "\n",
      "#Econometric analysis\n",
      "import statsmodels.formula.api as smf\n",
      "import pysal as ps\n",
      "import patsy as py\n",
      "import geopandas as gp\n",
      "\n",
      "#Establish working directory\n",
      "# workdir='/home/choct155/Google Drive/Dissertation/Data/'\n",
      "workdir='/home/choct155/projects/gdrive_data/Google Drive/Google Drive/Dissertation/Data/'\n",
      "\n",
      "#Set print width\n",
      "pd.set_option('line_width', 140)\n",
      "\n",
      "#Set inf as null\n",
      "pd.set_option('use_inf_as_null',True)"
     ],
     "language": "python",
     "metadata": {},
     "outputs": [
      {
       "output_type": "stream",
       "stream": "stdout",
       "text": [
        "line_width has been deprecated, use display.width instead (currently both are\n",
        "identical)\n",
        "\n"
       ]
      }
     ],
     "prompt_number": 1
    },
    {
     "cell_type": "heading",
     "level": 2,
     "metadata": {},
     "source": [
      "Data Input"
     ]
    },
    {
     "cell_type": "markdown",
     "metadata": {},
     "source": [
      "We will be using the previously constructed inflation-adjusted data from CO_CTY_DATA."
     ]
    },
    {
     "cell_type": "code",
     "collapsed": false,
     "input": [
      "data=pd.read_csv(workdir+'CO_CTY_REAL.csv')\n",
      "\n",
      "data.info()"
     ],
     "language": "python",
     "metadata": {},
     "outputs": [
      {
       "output_type": "stream",
       "stream": "stdout",
       "text": [
        "<class 'pandas.core.frame.DataFrame'>\n",
        "Int64Index: 2444 entries, 0 to 2443\n",
        "Columns: 158 entries, year to cty_exp_prop.1\n",
        "dtypes: float64(156), int64(1), object(1)"
       ]
      }
     ],
     "prompt_number": 2
    },
    {
     "cell_type": "heading",
     "level": 2,
     "metadata": {},
     "source": [
      "Model Specification"
     ]
    },
    {
     "cell_type": "markdown",
     "metadata": {},
     "source": [
      "The model used in the initial stab (*CO_TEL_convergence*) at explaining variance in revenue yield was very limited, both in terms of the regressors included and the explanatory power of the model.  Rehashing this analysis provides an opportunity to think more deeply about the relationships we may exploit.  \n",
      "\n",
      "In general, there are three phenomenon we wish to explain as a function of TEL intensity: \n",
      "\n",
      "1. **Economic Capacity (`pcap`)** - *Regardless of the explicit fiscal choices made, what is the economic carrying capacity within a given jurisdiction?*\n",
      "\n",
      "    + The relationship between tax and expenditure limitations and economic growth is indirect at best.  This model is basically an explanatory exercise.\n",
      "    + Additional Regressors:\n",
      "        + Previous year's capacity (`pcap`$_{t-1}$)\n",
      "        + Weighted average of local neighborhood's capacities ($\\sum_j w_j$ `pcap`$_j$ where $j \\ne i$)\n",
      "        + Gross state product (`gsp`)\n",
      "        + Business cycle \n",
      "            + County unemployment rate (`unemp_rate`)\n",
      "        + Demand for housing in jurisdiction\n",
      "            + Housing permits/Housing units (`permit_rate = permits/h_units`)\n",
      "            + Vacancy rate (`vac_rate`)\n",
      "        + Population (`pop`)\n",
      "\n",
      "2. **Revenue Yield (`pcrev`)** - *How much revenue is generated per capita in a given jurisdiction?*\n",
      "\n",
      "    + There are actually two ways to think about this.  The most direct method would be as an autonomous model, that may then be compared to the economic capacity model.  The second method seeks to integrate both economic capacity and revenue yield via a hierarchical model.  Given the \"carrying capacity\" of a given jurisdiction, the yield per capita may be represented as tax effort.  For the time being, we will use a flat specification with `pcap` entering as a independent variable.\n",
      "    + Additional Regressors:\n",
      "        + Previous year's revenue (`pcrev`$_{t-1}$)\n",
      "        + Weighted average of local neighborhood's yields ($\\sum_j w_j$ `pcrev`$_j$ where $j \\ne i$)\n",
      "        + Gross state product(`gsp`)\n",
      "        + Demand for services\n",
      "            + Lagged population growth (`d(pop)/dt`$_{t-1}$)\n",
      "        + Business cycle \n",
      "            + County unemployment rate (`unemp_rate`)\n",
      "        + Demand for housing in jurisdiction\n",
      "            + Housing permits/Housing units (`permit_rate = permits/h_units`)\n",
      "            + Vacancy rate (`vac_rate`)\n",
      "        + Economic capacity\n",
      "            + Annual payroll per capita (`pcap`)\n",
      "        + Population (`pop`)\n",
      "            \n",
      "3. **Spatial Clustering (`w_*`)** - *How much does a given jurisdiction look like its local neighborhood?*\n",
      "\n",
      "    + From an operational standpoint, we want to know 1) if TELs cause a jurisdiction to look more or less like it's local neighborhood, and 2) if TELs are more likely to cause clustering among low capacity jurisdictions or high capacity jurisdictions.  Local Moran's I and Getis & Ord's G* estimates provide the means to evaluate these statements, respectively.  This would, of course, need to be run for both contiguity and distance based weight matrices.\n",
      "    + Additional Regressors:\n",
      "        + Previous year's clustering value (`w_*`$_{t-1}$))\n",
      "        + Gross state product(`gsp`)\n",
      "        + Demand for services\n",
      "            + Lagged population growth (`d(pop)/dt`$_{t-1}$)\n",
      "        + Business cycle \n",
      "            + County unemployment rate (`unemp_rate`)\n",
      "        + Demand for housing in jurisdiction\n",
      "            + Housing permits/Housing units (`permit_rate = permits/h_units`)\n",
      "            + Vacancy rate (`vac_rate`)\n",
      "        + Economic capacity\n",
      "            + Annual payroll per capita (`pcap`)\n",
      "        + Population (`pop`)\n",
      "            \n",
      "Furthermore, we must explore whether or not these behaviors change with different economic starting conditions.  Consequently, after the initial runs on the full set, we will run the same analyses on subsets of the data split by per capita annual payroll quintiles in year 0.\n",
      "\n",
      "Given this information, there are a few variables we need to generate:\n",
      "\n",
      "1. `pcrev = r_REV_TOTAL/pop`\n",
      "2. `pcap = r_wage_total/pop`\n",
      "3. `permit_rate = permits/h_units`\n",
      "4. `pop_change` we can create by differencing across years within county"
     ]
    },
    {
     "cell_type": "code",
     "collapsed": false,
     "input": [
      "#Generate new variables\n",
      "data['pcrev']=data['r_REV_TOTAL']/data['pop']\n",
      "data['pcap']=data['r_wage_total']/data['pop']\n",
      "data['permit_rate']=data['permits']/data['h_units']\n",
      "\n",
      "#Generate population change variable\n",
      "data['pop_change']=data.groupby('cty')['pop'].pct_change()\n",
      "data['lpop_change']=data.groupby('cty')['pop_change'].shift()\n",
      "\n",
      "data[data['year']==2009][['year','cty','r_REV_TOTAL','r_wage_total','permits','h_units','pop','pcrev',\\\n",
      "                          'pcap','permit_rate','pop_change','lpop_change']].tail()"
     ],
     "language": "python",
     "metadata": {},
     "outputs": [
      {
       "html": [
        "<div style=\"max-height:1000px;max-width:1500px;overflow:auto;\">\n",
        "<table border=\"1\" class=\"dataframe\">\n",
        "  <thead>\n",
        "    <tr style=\"text-align: right;\">\n",
        "      <th></th>\n",
        "      <th>year</th>\n",
        "      <th>cty</th>\n",
        "      <th>r_REV_TOTAL</th>\n",
        "      <th>r_wage_total</th>\n",
        "      <th>permits</th>\n",
        "      <th>h_units</th>\n",
        "      <th>pop</th>\n",
        "      <th>pcrev</th>\n",
        "      <th>pcap</th>\n",
        "      <th>permit_rate</th>\n",
        "      <th>pop_change</th>\n",
        "      <th>lpop_change</th>\n",
        "    </tr>\n",
        "  </thead>\n",
        "  <tbody>\n",
        "    <tr>\n",
        "      <th>2244</th>\n",
        "      <td> 2009</td>\n",
        "      <td>                         Teller</td>\n",
        "      <td>  22308293</td>\n",
        "      <td>  183813637</td>\n",
        "      <td>  88</td>\n",
        "      <td> 12619</td>\n",
        "      <td>  21685</td>\n",
        "      <td> 1028.743048</td>\n",
        "      <td>  8476.533871</td>\n",
        "      <td> 0.006974</td>\n",
        "      <td> 0.003192</td>\n",
        "      <td>-0.006115</td>\n",
        "    </tr>\n",
        "    <tr>\n",
        "      <th>2245</th>\n",
        "      <td> 2009</td>\n",
        "      <td> Unknown Or Undefined, Colorado</td>\n",
        "      <td>       NaN</td>\n",
        "      <td> 1443167864</td>\n",
        "      <td> NaN</td>\n",
        "      <td>   NaN</td>\n",
        "      <td>    NaN</td>\n",
        "      <td>         NaN</td>\n",
        "      <td>          NaN</td>\n",
        "      <td>      NaN</td>\n",
        "      <td>      NaN</td>\n",
        "      <td>      NaN</td>\n",
        "    </tr>\n",
        "    <tr>\n",
        "      <th>2246</th>\n",
        "      <td> 2009</td>\n",
        "      <td>                     Washington</td>\n",
        "      <td>   9795163</td>\n",
        "      <td>   25027754</td>\n",
        "      <td>   1</td>\n",
        "      <td>  2427</td>\n",
        "      <td>   4420</td>\n",
        "      <td> 2216.100226</td>\n",
        "      <td>  5662.387783</td>\n",
        "      <td> 0.000412</td>\n",
        "      <td>-0.011628</td>\n",
        "      <td>-0.027192</td>\n",
        "    </tr>\n",
        "    <tr>\n",
        "      <th>2247</th>\n",
        "      <td> 2009</td>\n",
        "      <td>                           Weld</td>\n",
        "      <td> 176656678</td>\n",
        "      <td> 2887707221</td>\n",
        "      <td> 837</td>\n",
        "      <td> 96177</td>\n",
        "      <td> 254759</td>\n",
        "      <td>  693.426642</td>\n",
        "      <td> 11335.054781</td>\n",
        "      <td> 0.008703</td>\n",
        "      <td> 0.023737</td>\n",
        "      <td> 0.027253</td>\n",
        "    </tr>\n",
        "    <tr>\n",
        "      <th>2248</th>\n",
        "      <td> 2009</td>\n",
        "      <td>                           Yuma</td>\n",
        "      <td>  14858295</td>\n",
        "      <td>  125668126</td>\n",
        "      <td>   4</td>\n",
        "      <td>  4457</td>\n",
        "      <td>   9734</td>\n",
        "      <td> 1526.432607</td>\n",
        "      <td> 12910.224574</td>\n",
        "      <td> 0.000897</td>\n",
        "      <td> 0.011850</td>\n",
        "      <td> 0.004175</td>\n",
        "    </tr>\n",
        "  </tbody>\n",
        "</table>\n",
        "</div>"
       ],
       "metadata": {},
       "output_type": "pyout",
       "prompt_number": 3,
       "text": [
        "      year                             cty  r_REV_TOTAL  r_wage_total  permits  h_units     pop        pcrev          pcap  permit_rate  \\\n",
        "2244  2009                          Teller     22308293     183813637       88    12619   21685  1028.743048   8476.533871     0.006974   \n",
        "2245  2009  Unknown Or Undefined, Colorado          NaN    1443167864      NaN      NaN     NaN          NaN           NaN          NaN   \n",
        "2246  2009                      Washington      9795163      25027754        1     2427    4420  2216.100226   5662.387783     0.000412   \n",
        "2247  2009                            Weld    176656678    2887707221      837    96177  254759   693.426642  11335.054781     0.008703   \n",
        "2248  2009                            Yuma     14858295     125668126        4     4457    9734  1526.432607  12910.224574     0.000897   \n",
        "\n",
        "      pop_change  lpop_change  \n",
        "2244    0.003192    -0.006115  \n",
        "2245         NaN          NaN  \n",
        "2246   -0.011628    -0.027192  \n",
        "2247    0.023737     0.027253  \n",
        "2248    0.011850     0.004175  "
       ]
      }
     ],
     "prompt_number": 3
    },
    {
     "cell_type": "markdown",
     "metadata": {},
     "source": [
      "Now we can subset to our desired variables.\n",
      "\n",
      "**NOTE:** There are seven counties that lack unemployment rate information.  \n",
      "\n",
      "`['Arapahoe','Denver','El Paso','Larimer','Mesa','Pueblo','Weld']`\n",
      "\n",
      "Rather than lose these observations in the analysis, I am replacing those values with an average of some sort.  There are three choices that come to mind:\n",
      "\n",
      "1. Sample average over all years\n",
      "2. Sample average within year\n",
      "3. Average of the local neighborhood within year\n",
      "\n",
      "The first would not push around a pooled estimate, but it would have an effect in single year models like the SLM and SEM.  Obviously year-specific averages avoid the latter issue, and have the benefit of capturing prevailing business cycle trends.  The last option amounts to a fairly low-level interpolation.  We are implicitly assuming spatial dependence, which is reasonable.  I am wary of this option, however, due to corner cases in which sharp industrial divides exist.  Consequently, I think year-specific averages are the safest option.\n",
      "\n",
      "The strategy to fix this is illustrated below with a simple example.  It leverages the [transformation feature of the GroupBy operation suite](http://pandas.pydata.org/pandas-docs/stable/groupby.html), which allows us to make group-wise computations."
     ]
    },
    {
     "cell_type": "code",
     "collapsed": false,
     "input": [
      "#Generate DF\n",
      "d=DataFrame({'cat':['a','a','a','b','b','b'],\n",
      "             'val':[1,np.NaN,3,4,np.NaN,6],\n",
      "             'val2':[1,np.NaN,1,2,np.inf,2]})\n",
      "print d\n",
      "\n",
      "#Groupby category\n",
      "dg=d.groupby('cat')\n",
      "\n",
      "#Define replace function\n",
      "def replace(group):\n",
      "    #Convert infinite values to missing\n",
      "    group[group==np.inf]=np.NaN\n",
      "    #Replace missing values with the average of non-missing values\n",
      "    group[group.isnull()]=group[group.notnull()].mean()\n",
      "    return group\n",
      "\n",
      "#Transform data\n",
      "dg.transform(replace)"
     ],
     "language": "python",
     "metadata": {},
     "outputs": [
      {
       "output_type": "stream",
       "stream": "stdout",
       "text": [
        "  cat  val  val2\n",
        "0   a    1     1\n",
        "1   a  NaN   NaN\n",
        "2   a    3     1\n",
        "3   b    4     2\n",
        "4   b  NaN   NaN\n",
        "5   b    6     2\n"
       ]
      },
      {
       "html": [
        "<div style=\"max-height:1000px;max-width:1500px;overflow:auto;\">\n",
        "<table border=\"1\" class=\"dataframe\">\n",
        "  <thead>\n",
        "    <tr style=\"text-align: right;\">\n",
        "      <th></th>\n",
        "      <th>val</th>\n",
        "      <th>val2</th>\n",
        "    </tr>\n",
        "  </thead>\n",
        "  <tbody>\n",
        "    <tr>\n",
        "      <th>0</th>\n",
        "      <td> 1</td>\n",
        "      <td> 1</td>\n",
        "    </tr>\n",
        "    <tr>\n",
        "      <th>1</th>\n",
        "      <td> 2</td>\n",
        "      <td> 1</td>\n",
        "    </tr>\n",
        "    <tr>\n",
        "      <th>2</th>\n",
        "      <td> 3</td>\n",
        "      <td> 1</td>\n",
        "    </tr>\n",
        "    <tr>\n",
        "      <th>3</th>\n",
        "      <td> 4</td>\n",
        "      <td> 2</td>\n",
        "    </tr>\n",
        "    <tr>\n",
        "      <th>4</th>\n",
        "      <td> 5</td>\n",
        "      <td> 2</td>\n",
        "    </tr>\n",
        "    <tr>\n",
        "      <th>5</th>\n",
        "      <td> 6</td>\n",
        "      <td> 2</td>\n",
        "    </tr>\n",
        "  </tbody>\n",
        "</table>\n",
        "</div>"
       ],
       "metadata": {},
       "output_type": "pyout",
       "prompt_number": 4,
       "text": [
        "   val  val2\n",
        "0    1     1\n",
        "1    2     1\n",
        "2    3     1\n",
        "3    4     2\n",
        "4    5     2\n",
        "5    6     2"
       ]
      }
     ],
     "prompt_number": 4
    },
    {
     "cell_type": "markdown",
     "metadata": {},
     "source": [
      "Now we can subset as planned to desired columns and years, as well as deal with our missing data problem.\n",
      "\n",
      "**NOTE:** Broomfield's late arrival has been a real pain in the butt.  In addition to assigning year means to values that do not exist, I did not realize for a lengthy (and somewhat embarassing) amount of time that Broomfield did come equipped with some values.  Specifically, the following variables were zeroed out:  `['intensity_stock','pop','vac_rate']`\n",
      "\n",
      "The conesequence was the rather untenable value of $-\\infty$ when the $log()$ of both intensity stock and population were taken in the formula spec.  Perhaps this goes without saying, but much consternation ensued.  In any event, these values must be replaced by year-specific means, so before the transformation they will be converted to missing."
     ]
    },
    {
     "cell_type": "code",
     "collapsed": false,
     "input": [
      "#Define subset of variables for modeling\n",
      "mod_vars=['year','cty','intensity_stock','prop_ratio','pcrev','pcap','gsp','pop','unemp_rate','permit_rate','vac_rate',\\\n",
      "          'pop_change','lpop_change']+\\\n",
      "            [x for x in data.columns if (x.startswith('w_')) & (not x.endswith('_ap'))]\n",
      "    \n",
      "#Subset data to the desired variables\n",
      "d_sub=data[((data['pcap'].notnull()) | (data['cty']=='Broomfield')) & (data['year']>1992) & (data['year']<2010)][mod_vars]\n",
      "    \n",
      "#Set offending zeroes to missing\n",
      "d_sub.loc[(d_sub['cty']=='Broomfield') & (d_sub['year']<2000), ['pop','vac_rate']] = np.NaN\n",
      "\n",
      "#Groupby year\n",
      "d_sub_g=d_sub.groupby('year')\n",
      "\n",
      "#Identify columns with values to be replaced\n",
      "rep_cols=[x for x in d_sub.columns if x not in ['year','cty']]\n",
      "\n",
      "#Transform data\n",
      "d_sub_rc=d_sub_g.transform(replace)[rep_cols].astype(float)\n",
      "\n",
      "#Replace original values\n",
      "d_sub[rep_cols]=d_sub_rc\n",
      "# d_sub=d_sub_rc\n",
      "\n",
      "# print d_sub.head()\n",
      "d_sub.tail()"
     ],
     "language": "python",
     "metadata": {},
     "outputs": [
      {
       "html": [
        "<div style=\"max-height:1000px;max-width:1500px;overflow:auto;\">\n",
        "<table border=\"1\" class=\"dataframe\">\n",
        "  <thead>\n",
        "    <tr style=\"text-align: right;\">\n",
        "      <th></th>\n",
        "      <th>year</th>\n",
        "      <th>cty</th>\n",
        "      <th>intensity_stock</th>\n",
        "      <th>prop_ratio</th>\n",
        "      <th>pcrev</th>\n",
        "      <th>pcap</th>\n",
        "      <th>gsp</th>\n",
        "      <th>pop</th>\n",
        "      <th>unemp_rate</th>\n",
        "      <th>permit_rate</th>\n",
        "      <th>...</th>\n",
        "      <th>w_db_b_g</th>\n",
        "      <th>w_db_b_i</th>\n",
        "      <th>w_db_c_g</th>\n",
        "      <th>w_db_c_i</th>\n",
        "      <th>w_kern_g</th>\n",
        "      <th>w_kern_i</th>\n",
        "      <th>w_queen_g</th>\n",
        "      <th>w_queen_i</th>\n",
        "      <th>w_rook_g</th>\n",
        "      <th>w_rook_i</th>\n",
        "    </tr>\n",
        "  </thead>\n",
        "  <tbody>\n",
        "    <tr>\n",
        "      <th>2243</th>\n",
        "      <td> 2009</td>\n",
        "      <td>     Summit</td>\n",
        "      <td> 0.696106</td>\n",
        "      <td> 1.791102</td>\n",
        "      <td> 2049.594662</td>\n",
        "      <td> 19932.112963</td>\n",
        "      <td> 245362</td>\n",
        "      <td>  27239</td>\n",
        "      <td> 6.800000</td>\n",
        "      <td> 0.011388</td>\n",
        "      <td>...</td>\n",
        "      <td> 0.678789</td>\n",
        "      <td> 0.219759</td>\n",
        "      <td> 0.745513</td>\n",
        "      <td> 0.233058</td>\n",
        "      <td> 0.655090</td>\n",
        "      <td> 0.211917</td>\n",
        "      <td> 0.615186</td>\n",
        "      <td> 0.190035</td>\n",
        "      <td> 0.604336</td>\n",
        "      <td> 0.187571</td>\n",
        "    </tr>\n",
        "    <tr>\n",
        "      <th>2244</th>\n",
        "      <td> 2009</td>\n",
        "      <td>     Teller</td>\n",
        "      <td> 0.045459</td>\n",
        "      <td> 0.650063</td>\n",
        "      <td> 1028.743048</td>\n",
        "      <td>  8476.533871</td>\n",
        "      <td> 245362</td>\n",
        "      <td>  21685</td>\n",
        "      <td> 8.400000</td>\n",
        "      <td> 0.006974</td>\n",
        "      <td>...</td>\n",
        "      <td>-1.535105</td>\n",
        "      <td> 1.307108</td>\n",
        "      <td>-1.545120</td>\n",
        "      <td> 1.283001</td>\n",
        "      <td>-1.181319</td>\n",
        "      <td> 0.917768</td>\n",
        "      <td>-2.123406</td>\n",
        "      <td> 1.611065</td>\n",
        "      <td>-2.083971</td>\n",
        "      <td> 1.590359</td>\n",
        "    </tr>\n",
        "    <tr>\n",
        "      <th>2246</th>\n",
        "      <td> 2009</td>\n",
        "      <td> Washington</td>\n",
        "      <td> 0.000000</td>\n",
        "      <td> 0.090044</td>\n",
        "      <td> 2216.100226</td>\n",
        "      <td>  5662.387783</td>\n",
        "      <td> 245362</td>\n",
        "      <td>   4420</td>\n",
        "      <td> 4.500000</td>\n",
        "      <td> 0.000412</td>\n",
        "      <td>...</td>\n",
        "      <td>-1.157504</td>\n",
        "      <td>-0.357519</td>\n",
        "      <td>-1.168244</td>\n",
        "      <td>-0.351693</td>\n",
        "      <td>-0.785481</td>\n",
        "      <td>-0.190434</td>\n",
        "      <td>-1.225576</td>\n",
        "      <td>-0.328404</td>\n",
        "      <td>-1.202627</td>\n",
        "      <td>-0.324213</td>\n",
        "    </tr>\n",
        "    <tr>\n",
        "      <th>2247</th>\n",
        "      <td> 2009</td>\n",
        "      <td>       Weld</td>\n",
        "      <td> 0.989717</td>\n",
        "      <td> 0.247710</td>\n",
        "      <td>  693.426642</td>\n",
        "      <td> 11335.054781</td>\n",
        "      <td> 245362</td>\n",
        "      <td> 254759</td>\n",
        "      <td> 7.049123</td>\n",
        "      <td> 0.008703</td>\n",
        "      <td>...</td>\n",
        "      <td>-1.251962</td>\n",
        "      <td> 1.400789</td>\n",
        "      <td>-1.255299</td>\n",
        "      <td> 1.369834</td>\n",
        "      <td>-1.626676</td>\n",
        "      <td> 1.637920</td>\n",
        "      <td>-1.447594</td>\n",
        "      <td> 1.442938</td>\n",
        "      <td>-1.420569</td>\n",
        "      <td> 1.424391</td>\n",
        "    </tr>\n",
        "    <tr>\n",
        "      <th>2248</th>\n",
        "      <td> 2009</td>\n",
        "      <td>       Yuma</td>\n",
        "      <td> 0.284650</td>\n",
        "      <td> 0.071079</td>\n",
        "      <td> 1526.432607</td>\n",
        "      <td> 12910.224574</td>\n",
        "      <td> 245362</td>\n",
        "      <td>   9734</td>\n",
        "      <td> 3.700000</td>\n",
        "      <td> 0.000897</td>\n",
        "      <td>...</td>\n",
        "      <td>-0.581061</td>\n",
        "      <td> 0.189122</td>\n",
        "      <td>-0.575163</td>\n",
        "      <td> 0.183245</td>\n",
        "      <td>-0.473350</td>\n",
        "      <td> 0.163847</td>\n",
        "      <td>-0.594901</td>\n",
        "      <td> 0.181520</td>\n",
        "      <td>-0.583533</td>\n",
        "      <td> 0.179165</td>\n",
        "    </tr>\n",
        "  </tbody>\n",
        "</table>\n",
        "<p>5 rows \u00d7 23 columns</p>\n",
        "</div>"
       ],
       "metadata": {},
       "output_type": "pyout",
       "prompt_number": 5,
       "text": [
        "      year         cty  intensity_stock  prop_ratio        pcrev          pcap     gsp     pop  unemp_rate  permit_rate     ...       \\\n",
        "2243  2009      Summit         0.696106    1.791102  2049.594662  19932.112963  245362   27239    6.800000     0.011388     ...        \n",
        "2244  2009      Teller         0.045459    0.650063  1028.743048   8476.533871  245362   21685    8.400000     0.006974     ...        \n",
        "2246  2009  Washington         0.000000    0.090044  2216.100226   5662.387783  245362    4420    4.500000     0.000412     ...        \n",
        "2247  2009        Weld         0.989717    0.247710   693.426642  11335.054781  245362  254759    7.049123     0.008703     ...        \n",
        "2248  2009        Yuma         0.284650    0.071079  1526.432607  12910.224574  245362    9734    3.700000     0.000897     ...        \n",
        "\n",
        "      w_db_b_g  w_db_b_i  w_db_c_g  w_db_c_i  w_kern_g  w_kern_i  w_queen_g  w_queen_i  w_rook_g  w_rook_i  \n",
        "2243  0.678789  0.219759  0.745513  0.233058  0.655090  0.211917   0.615186   0.190035  0.604336  0.187571  \n",
        "2244 -1.535105  1.307108 -1.545120  1.283001 -1.181319  0.917768  -2.123406   1.611065 -2.083971  1.590359  \n",
        "2246 -1.157504 -0.357519 -1.168244 -0.351693 -0.785481 -0.190434  -1.225576  -0.328404 -1.202627 -0.324213  \n",
        "2247 -1.251962  1.400789 -1.255299  1.369834 -1.626676  1.637920  -1.447594   1.442938 -1.420569  1.424391  \n",
        "2248 -0.581061  0.189122 -0.575163  0.183245 -0.473350  0.163847  -0.594901   0.181520 -0.583533  0.179165  \n",
        "\n",
        "[5 rows x 23 columns]"
       ]
      }
     ],
     "prompt_number": 5
    },
    {
     "cell_type": "code",
     "collapsed": false,
     "input": [
      "# #Validation\n",
      "# print d_sub.info()\n",
      "# print d_sub[pd.isnull(d_sub).any(axis=1)]\n",
      "# print d_sub[rep_cols][np.isinf(d_sub[rep_cols])].stack()\n",
      "# for var in ['intensity_stock','prop_ratio','pcrev','pcap','gsp','pop']:\n",
      "#     print d_sub[d_sub[var]<0]"
     ],
     "language": "python",
     "metadata": {},
     "outputs": [],
     "prompt_number": 6
    },
    {
     "cell_type": "heading",
     "level": 2,
     "metadata": {},
     "source": [
      "Model Estimation"
     ]
    },
    {
     "cell_type": "markdown",
     "metadata": {},
     "source": [
      "This section will implement the actual models of concern.  Following the example set by *CO_TEL_convergence*, we will start by implementing the same models with different specifications.  In this case, we will be using the models described at the beginning of the **Model Specification** section above.\n",
      "\n",
      "+ **Ordinary Least Squares**  - OLS will serve as a non-spatial pooled estimate\n",
      "\n",
      "   $$y=X\\beta+\\epsilon$$\n",
      "\n",
      "\n",
      "+ **Spatial Error Model** - The error term in this model seeks to mitigate spatial dependency across counties\n",
      "\n",
      "   $y=X\\beta+\\epsilon$  and  \n",
      "   \n",
      "   $\\epsilon=\\gamma W \\epsilon + u$  \n",
      "   \n",
      "   becomes  $y=\\gamma Wy + X\\beta-\\gamma WX\\beta + \\epsilon$\n",
      "\n",
      "\n",
      "+ **Spatial Lag Model** - This model explicitly incorporates the weighted average of neighborhood values\n",
      "\n",
      "   $y = \\rho Wy + X\\beta + \\epsilon$\n",
      "   \n",
      "   becomes $y=(I - \\rho W)^{-1} X\\beta + (I - \\rho W)^{-1} \\epsilon$\n",
      "   \n",
      "\n",
      "+ **Fixed Effect Spatial Lag Model** - This model both incorporates the weighted average of neighborhood values and the value of the observation in the preceding time period\n",
      "\n",
      "   $$y=\\lambda (I_T \\otimes W_N)y + (\\iota_T \\otimes I_N)\\mu + X\\beta + \\epsilon$$ "
     ]
    },
    {
     "cell_type": "heading",
     "level": 3,
     "metadata": {},
     "source": [
      "Pooled OLS"
     ]
    },
    {
     "cell_type": "markdown",
     "metadata": {},
     "source": [
      "The first step is always running the panel via pooled OLS estimation.  I expect the results to be biased, but it does provide context for future results."
     ]
    },
    {
     "cell_type": "code",
     "collapsed": false,
     "input": [
      "#Run pcap and pcrev models\n",
      "econ_ols=smf.ols('np.log(pcap) ~ intensity_stock + prop_ratio + np.log(gsp) + unemp_rate + permit_rate + vac_rate +\\\n",
      "                np.log(pop)',data=d_sub).fit()\n",
      "rev_ols=smf.ols('np.log(pcrev) ~ intensity_stock + prop_ratio + pcap + np.log(gsp) + lpop_change + unemp_rate +\\\n",
      "                permit_rate + vac_rate + np.log(pop)',\\\n",
      "                data=d_sub).fit()\n",
      "\n",
      "print econ_ols.summary()\n",
      "print rev_ols.summary()"
     ],
     "language": "python",
     "metadata": {},
     "outputs": [
      {
       "output_type": "stream",
       "stream": "stdout",
       "text": [
        "                            OLS Regression Results                            \n",
        "==============================================================================\n",
        "Dep. Variable:           np.log(pcap)   R-squared:                       0.471\n",
        "Model:                            OLS   Adj. R-squared:                  0.467\n",
        "Method:                 Least Squares   F-statistic:                     137.3\n",
        "Date:                Sat, 18 Apr 2015   Prob (F-statistic):          1.67e-144\n",
        "Time:                        11:38:28   Log-Likelihood:                -841.55\n",
        "No. Observations:                1088   AIC:                             1699.\n",
        "Df Residuals:                    1080   BIC:                             1739.\n",
        "Df Model:                           7                                         \n",
        "===================================================================================\n",
        "                      coef    std err          t      P>|t|      [95.0% Conf. Int.]\n",
        "-----------------------------------------------------------------------------------\n",
        "Intercept           2.7277      0.708      3.850      0.000         1.337     4.118\n",
        "intensity_stock    -0.0448      0.062     -0.724      0.469        -0.166     0.077\n",
        "prop_ratio         -0.2010      0.050     -3.983      0.000        -0.300    -0.102\n",
        "np.log(gsp)         0.2650      0.058      4.584      0.000         0.152     0.378\n",
        "unemp_rate         -0.0917      0.008    -11.723      0.000        -0.107    -0.076\n",
        "permit_rate        -0.6646      1.044     -0.636      0.525        -2.714     1.385\n",
        "vac_rate            0.0146      0.001     11.049      0.000         0.012     0.017\n",
        "np.log(pop)         0.3586      0.017     21.680      0.000         0.326     0.391\n",
        "==============================================================================\n",
        "Omnibus:                       50.136   Durbin-Watson:                   1.665\n",
        "Prob(Omnibus):                  0.000   Jarque-Bera (JB):              137.156\n",
        "Skew:                           0.171   Prob(JB):                     1.65e-30\n",
        "Kurtosis:                       4.705   Cond. No.                     2.16e+03\n",
        "==============================================================================\n",
        "\n",
        "Warnings:\n",
        "[1] The condition number is large, 2.16e+03. This might indicate that there are\n",
        "strong multicollinearity or other numerical problems.\n",
        "                            OLS Regression Results                            \n",
        "==============================================================================\n",
        "Dep. Variable:          np.log(pcrev)   R-squared:                       0.784\n",
        "Model:                            OLS   Adj. R-squared:                  0.782\n",
        "Method:                 Least Squares   F-statistic:                     434.9\n",
        "Date:                Sat, 18 Apr 2015   Prob (F-statistic):               0.00\n",
        "Time:                        11:38:28   Log-Likelihood:                -53.269\n",
        "No. Observations:                1088   AIC:                             126.5\n",
        "Df Residuals:                    1078   BIC:                             176.5\n",
        "Df Model:                           9                                         \n",
        "===================================================================================\n",
        "                      coef    std err          t      P>|t|      [95.0% Conf. Int.]\n",
        "-----------------------------------------------------------------------------------\n",
        "Intercept           6.4287      0.353     18.233      0.000         5.737     7.121\n",
        "intensity_stock    -0.0881      0.030     -2.909      0.004        -0.148    -0.029\n",
        "prop_ratio         -0.1891      0.025     -7.703      0.000        -0.237    -0.141\n",
        "pcap             3.146e-05   1.08e-06     29.173      0.000      2.93e-05  3.36e-05\n",
        "np.log(gsp)         0.2021      0.029      7.060      0.000         0.146     0.258\n",
        "lpop_change        -0.3634      0.258     -1.408      0.160        -0.870     0.143\n",
        "unemp_rate          0.0037      0.004      0.935      0.350        -0.004     0.011\n",
        "permit_rate        -0.0959      0.542     -0.177      0.860        -1.159     0.967\n",
        "vac_rate            0.0084      0.001     12.484      0.000         0.007     0.010\n",
        "np.log(pop)        -0.2248      0.009    -24.878      0.000        -0.243    -0.207\n",
        "==============================================================================\n",
        "Omnibus:                       34.425   Durbin-Watson:                   2.110\n",
        "Prob(Omnibus):                  0.000   Jarque-Bera (JB):               36.901\n",
        "Skew:                           0.436   Prob(JB):                     9.70e-09\n",
        "Kurtosis:                       3.232   Cond. No.                     1.07e+06\n",
        "==============================================================================\n",
        "\n",
        "Warnings:\n",
        "[1] The condition number is large, 1.07e+06. This might indicate that there are\n",
        "strong multicollinearity or other numerical problems.\n"
       ]
      }
     ],
     "prompt_number": 7
    },
    {
     "cell_type": "markdown",
     "metadata": {},
     "source": [
      "As can be seen, the TEL variables (`intensity_stock` & `prop_ratio`) have the expected negative impact.  We can also see that the pooled model is terribly misspecified.  `JB` is just too high in both formulations.  Note that this is not at all surprising.  The whole point of this analysis is to show that temporal and spatial dependency matter.\n",
      "\n",
      "Let's look at a correlation plot to gain insight into the condition number as well."
     ]
    },
    {
     "cell_type": "code",
     "collapsed": false,
     "input": [
      "sb.corrplot(d_sub[['pcap','pcrev','intensity_stock','prop_ratio','gsp','lpop_change','unemp_rate',\\\n",
      "                  'permit_rate','vac_rate','pop']])"
     ],
     "language": "python",
     "metadata": {},
     "outputs": [
      {
       "metadata": {},
       "output_type": "pyout",
       "prompt_number": 8,
       "text": [
        "<matplotlib.axes._subplots.AxesSubplot at 0x7f6cd5feca90>"
       ]
      },
      {
       "metadata": {},
       "output_type": "display_data",
       "png": "[encoded data removed]",
       "text": [
        "<matplotlib.figure.Figure at 0x7f6cd6586290>"
       ]
      }
     ],
     "prompt_number": 8
    },
    {
     "cell_type": "markdown",
     "metadata": {},
     "source": [
      "Looks like `permit_rate` is the biggest offender from a collinearity perspective.  It is significantly correlated with a number of regressors, most notably the lagged change in population (`dpop_change`).  This makes sense to the extent that changes in population drive changes in the demand for housing.  What does dropping `permit_rate` do for us?  We can also standardize the population variable."
     ]
    },
    {
     "cell_type": "code",
     "collapsed": false,
     "input": [
      "#Run pcap and pcrev models\n",
      "econ_ols2=smf.ols('np.log(pcap) ~ intensity_stock + prop_ratio + np.log(gsp) + unemp_rate +  vac_rate +\\\n",
      "                standardize(pop)',data=d_sub).fit()\n",
      "rev_ols2=smf.ols('np.log(pcrev) ~ intensity_stock + prop_ratio + pcap + np.log(gsp) + unemp_rate +\\\n",
      "                vac_rate + standardize(pop) + lpop_change',\\\n",
      "                data=d_sub).fit()\n",
      "\n",
      "print econ_ols2.summary()\n",
      "print rev_ols2.summary()"
     ],
     "language": "python",
     "metadata": {},
     "outputs": [
      {
       "output_type": "stream",
       "stream": "stdout",
       "text": [
        "                            OLS Regression Results                            \n",
        "==============================================================================\n",
        "Dep. Variable:           np.log(pcap)   R-squared:                       0.323\n",
        "Model:                            OLS   Adj. R-squared:                  0.319\n",
        "Method:                 Least Squares   F-statistic:                     86.06\n",
        "Date:                Sat, 18 Apr 2015   Prob (F-statistic):           3.43e-88\n",
        "Time:                        11:38:30   Log-Likelihood:                -975.41\n",
        "No. Observations:                1088   AIC:                             1965.\n",
        "Df Residuals:                    1081   BIC:                             2000.\n",
        "Df Model:                           6                                         \n",
        "====================================================================================\n",
        "                       coef    std err          t      P>|t|      [95.0% Conf. Int.]\n",
        "------------------------------------------------------------------------------------\n",
        "Intercept            6.5386      0.764      8.562      0.000         5.040     8.037\n",
        "intensity_stock      0.1992      0.069      2.891      0.004         0.064     0.334\n",
        "prop_ratio           0.2458      0.047      5.226      0.000         0.153     0.338\n",
        "np.log(gsp)          0.2371      0.063      3.734      0.000         0.113     0.362\n",
        "unemp_rate          -0.0918      0.009    -10.446      0.000        -0.109    -0.075\n",
        "vac_rate            -0.0001      0.001     -0.100      0.921        -0.002     0.002\n",
        "standardize(pop)     0.2615      0.022     11.789      0.000         0.218     0.305\n",
        "==============================================================================\n",
        "Omnibus:                       20.358   Durbin-Watson:                   1.563\n",
        "Prob(Omnibus):                  0.000   Jarque-Bera (JB):               32.472\n",
        "Skew:                          -0.148   Prob(JB):                     8.89e-08\n",
        "Kurtosis:                       3.793   Cond. No.                     1.34e+03\n",
        "==============================================================================\n",
        "\n",
        "Warnings:\n",
        "[1] The condition number is large, 1.34e+03. This might indicate that there are\n",
        "strong multicollinearity or other numerical problems.\n",
        "                            OLS Regression Results                            \n",
        "==============================================================================\n",
        "Dep. Variable:          np.log(pcrev)   R-squared:                       0.678\n",
        "Model:                            OLS   Adj. R-squared:                  0.676\n",
        "Method:                 Least Squares   F-statistic:                     283.9\n",
        "Date:                Sat, 18 Apr 2015   Prob (F-statistic):          2.75e-259\n",
        "Time:                        11:38:30   Log-Likelihood:                -270.71\n",
        "No. Observations:                1088   AIC:                             559.4\n",
        "Df Residuals:                    1079   BIC:                             604.3\n",
        "Df Model:                           8                                         \n",
        "====================================================================================\n",
        "                       coef    std err          t      P>|t|      [95.0% Conf. Int.]\n",
        "------------------------------------------------------------------------------------\n",
        "Intercept            4.2540      0.416     10.227      0.000         3.438     5.070\n",
        "intensity_stock     -0.1998      0.037     -5.444      0.000        -0.272    -0.128\n",
        "prop_ratio          -0.4617      0.026    -17.897      0.000        -0.512    -0.411\n",
        "pcap               2.27e-05   1.25e-06     18.124      0.000      2.02e-05  2.52e-05\n",
        "np.log(gsp)          0.2111      0.035      6.111      0.000         0.143     0.279\n",
        "unemp_rate          -0.0054      0.005     -1.141      0.254        -0.015     0.004\n",
        "vac_rate             0.0189      0.001     31.451      0.000         0.018     0.020\n",
        "standardize(pop)    -0.1033      0.012     -8.283      0.000        -0.128    -0.079\n",
        "lpop_change         -1.1386      0.293     -3.889      0.000        -1.713    -0.564\n",
        "==============================================================================\n",
        "Omnibus:                       37.846   Durbin-Watson:                   2.099\n",
        "Prob(Omnibus):                  0.000   Jarque-Bera (JB):               36.375\n",
        "Skew:                           0.404   Prob(JB):                     1.26e-08\n",
        "Kurtosis:                       2.613   Cond. No.                     6.81e+05\n",
        "==============================================================================\n",
        "\n",
        "Warnings:\n",
        "[1] The condition number is large, 6.81e+05. This might indicate that there are\n",
        "strong multicollinearity or other numerical problems.\n"
       ]
      }
     ],
     "prompt_number": 9
    },
    {
     "cell_type": "markdown",
     "metadata": {},
     "source": [
      "It certainly helps, but not by enough.  We need to think a bit more about functional form to deal with this multicollinearity problem.  \n",
      "\n",
      "+ `pcap` is significantly correlated with a number of variables.  This is fine when we use it as the dependent, but perhaps we can use binning when using it as a regressor.\n",
      "\n",
      "    `d_sub['pcap_q'] ~= pd.qcut(d_sub['pcap'],5)`\n",
      "    \n",
      "\n",
      "+ Our variables of interest `intensity_stock` and `prop_ratio` are correlated.  One thought is to alter `prop_ratio` by converting it to a score.  The score could signify the number of standard deviations away from the mean value, or we could measure distance from the statewide property ratio.\n",
      "\n",
      "    `d_sub['rel_prop_rat']=d_sub['prop_ratio']-statewide ratio`\n",
      "\n",
      "\n",
      "+ `gsp` is meant to provide some sense of the prevailing economic trends in Colorado.  We can probably get away with differencing that guy to mitigate high correlation with `intensity_stock` and `permit_rate`.\n",
      "\n",
      "    `d_sub['dgsp']=d_sub.groupby('year')['gsp'].diff()`"
     ]
    },
    {
     "cell_type": "code",
     "collapsed": false,
     "input": [
      "#Generate pcap quintiles\n",
      "d_sub['pcap_q_lab']=pd.qcut(d_sub['pcap'],5)\n",
      "d_sub['pcap_q']=pd.qcut(d_sub['pcap'],5).labels\n",
      "\n",
      "#Calculate total residential and non-residential assessment volumes by year\n",
      "resid=data.groupby('year')[['r_resid','r_non_resid']].sum().rename(columns={'r_resid':'r_resid_yr',\n",
      "                                                                             'r_non_resid':'r_non_resid_yr'}).\\\n",
      "                                                                                reset_index()\n",
      "#Create mapping dictionaries\n",
      "resid_map=dict(zip(resid['year'],resid['r_resid_yr']))\n",
      "non_resid_map=dict(zip(resid['year'],resid['r_non_resid_yr']))\n",
      "\n",
      "#Map new variables to d_sub\n",
      "d_sub['r_resid_yr']=d_sub['year'].map(resid_map)\n",
      "d_sub['r_non_resid_yr']=d_sub['year'].map(non_resid_map)\n",
      "\n",
      "#Create statewide property ratio\n",
      "d_sub['st_prop_rat']=d_sub['r_resid_yr']/d_sub['r_non_resid_yr']\n",
      "\n",
      "#Calculate relative property ratio\n",
      "d_sub['rel_prop_rat']=d_sub['prop_ratio']-d_sub['st_prop_rat']\n",
      "\n",
      "#Create first difference of gsp\n",
      "d_sub['dgsp']=d_sub.groupby('cty')['gsp'].diff()\n",
      "\n",
      "d_sub[['year','cty','gsp']+list(d_sub.columns[-7:])][d_sub['year']==2000].head()"
     ],
     "language": "python",
     "metadata": {},
     "outputs": [
      {
       "html": [
        "<div style=\"max-height:1000px;max-width:1500px;overflow:auto;\">\n",
        "<table border=\"1\" class=\"dataframe\">\n",
        "  <thead>\n",
        "    <tr style=\"text-align: right;\">\n",
        "      <th></th>\n",
        "      <th>year</th>\n",
        "      <th>cty</th>\n",
        "      <th>gsp</th>\n",
        "      <th>pcap_q_lab</th>\n",
        "      <th>pcap_q</th>\n",
        "      <th>r_resid_yr</th>\n",
        "      <th>r_non_resid_yr</th>\n",
        "      <th>st_prop_rat</th>\n",
        "      <th>rel_prop_rat</th>\n",
        "      <th>dgsp</th>\n",
        "    </tr>\n",
        "  </thead>\n",
        "  <tbody>\n",
        "    <tr>\n",
        "      <th>1600</th>\n",
        "      <td> 2000</td>\n",
        "      <td>     Adams</td>\n",
        "      <td> 172037</td>\n",
        "      <td> (16705.638, 52728.728]</td>\n",
        "      <td> 4</td>\n",
        "      <td> 2.875533e+10</td>\n",
        "      <td> 3.292802e+10</td>\n",
        "      <td> 0.873278</td>\n",
        "      <td>-0.005312</td>\n",
        "      <td> 16660</td>\n",
        "    </tr>\n",
        "    <tr>\n",
        "      <th>1601</th>\n",
        "      <td> 2000</td>\n",
        "      <td>   Alamosa</td>\n",
        "      <td> 172037</td>\n",
        "      <td>  (8081.125, 11022.275]</td>\n",
        "      <td> 2</td>\n",
        "      <td> 2.875533e+10</td>\n",
        "      <td> 3.292802e+10</td>\n",
        "      <td> 0.873278</td>\n",
        "      <td>-0.374178</td>\n",
        "      <td> 16660</td>\n",
        "    </tr>\n",
        "    <tr>\n",
        "      <th>1602</th>\n",
        "      <td> 2000</td>\n",
        "      <td>  Arapahoe</td>\n",
        "      <td> 172037</td>\n",
        "      <td> (16705.638, 52728.728]</td>\n",
        "      <td> 4</td>\n",
        "      <td> 2.875533e+10</td>\n",
        "      <td> 3.292802e+10</td>\n",
        "      <td> 0.873278</td>\n",
        "      <td>-0.000492</td>\n",
        "      <td> 16660</td>\n",
        "    </tr>\n",
        "    <tr>\n",
        "      <th>1603</th>\n",
        "      <td> 2000</td>\n",
        "      <td> Archuleta</td>\n",
        "      <td> 172037</td>\n",
        "      <td>   (5161.688, 8081.125]</td>\n",
        "      <td> 1</td>\n",
        "      <td> 2.875533e+10</td>\n",
        "      <td> 3.292802e+10</td>\n",
        "      <td> 0.873278</td>\n",
        "      <td>-0.076453</td>\n",
        "      <td> 16660</td>\n",
        "    </tr>\n",
        "    <tr>\n",
        "      <th>1604</th>\n",
        "      <td> 2000</td>\n",
        "      <td>      Baca</td>\n",
        "      <td> 172037</td>\n",
        "      <td>   (5161.688, 8081.125]</td>\n",
        "      <td> 1</td>\n",
        "      <td> 2.875533e+10</td>\n",
        "      <td> 3.292802e+10</td>\n",
        "      <td> 0.873278</td>\n",
        "      <td>-0.759732</td>\n",
        "      <td> 16660</td>\n",
        "    </tr>\n",
        "  </tbody>\n",
        "</table>\n",
        "</div>"
       ],
       "metadata": {},
       "output_type": "pyout",
       "prompt_number": 10,
       "text": [
        "      year        cty     gsp              pcap_q_lab  pcap_q    r_resid_yr  r_non_resid_yr  st_prop_rat  rel_prop_rat   dgsp\n",
        "1600  2000      Adams  172037  (16705.638, 52728.728]       4  2.875533e+10    3.292802e+10     0.873278     -0.005312  16660\n",
        "1601  2000    Alamosa  172037   (8081.125, 11022.275]       2  2.875533e+10    3.292802e+10     0.873278     -0.374178  16660\n",
        "1602  2000   Arapahoe  172037  (16705.638, 52728.728]       4  2.875533e+10    3.292802e+10     0.873278     -0.000492  16660\n",
        "1603  2000  Archuleta  172037    (5161.688, 8081.125]       1  2.875533e+10    3.292802e+10     0.873278     -0.076453  16660\n",
        "1604  2000       Baca  172037    (5161.688, 8081.125]       1  2.875533e+10    3.292802e+10     0.873278     -0.759732  16660"
       ]
      }
     ],
     "prompt_number": 10
    },
    {
     "cell_type": "markdown",
     "metadata": {},
     "source": [
      "Ok, let's look at a new correlation plot."
     ]
    },
    {
     "cell_type": "code",
     "collapsed": false,
     "input": [
      "sb.corrplot(d_sub[['pcap_q','pcrev','intensity_stock','rel_prop_rat','dgsp','lpop_change','unemp_rate',\\\n",
      "                   'vac_rate','pop']])"
     ],
     "language": "python",
     "metadata": {},
     "outputs": [
      {
       "output_type": "stream",
       "stream": "stderr",
       "text": [
        "/home/choct155/analysis_tools/anaconda/lib/python2.7/site-packages/numpy/core/_methods.py:59: RuntimeWarning: Mean of empty slice.\n",
        "  warnings.warn(\"Mean of empty slice.\", RuntimeWarning)\n"
       ]
      },
      {
       "metadata": {},
       "output_type": "pyout",
       "prompt_number": 11,
       "text": [
        "<matplotlib.axes._subplots.AxesSubplot at 0x7f6cd599a5d0>"
       ]
      },
      {
       "metadata": {},
       "output_type": "display_data",
       "png": "[encoded data removed]",
       "text": [
        "<matplotlib.figure.Figure at 0x7f6cd598ae50>"
       ]
      }
     ],
     "prompt_number": 11
    },
    {
     "cell_type": "markdown",
     "metadata": {},
     "source": [
      "Hmmm, `dgsp` still looks a little sketch.  Let's run our models again with the new variables."
     ]
    },
    {
     "cell_type": "code",
     "collapsed": false,
     "input": [
      "#Run pcap and pcrev models\n",
      "econ_ols3=smf.ols('np.log(pcap) ~ intensity_stock + rel_prop_rat + unemp_rate +  vac_rate +\\\n",
      "                standardize(pop)',data=d_sub).fit()\n",
      "rev_ols3=smf.ols('np.log(pcrev) ~ intensity_stock + rel_prop_rat + pcap_q + unemp_rate +\\\n",
      "                vac_rate + standardize(pop) + lpop_change',\\\n",
      "                data=d_sub).fit()\n",
      "\n",
      "print econ_ols3.summary()\n",
      "print rev_ols3.summary()"
     ],
     "language": "python",
     "metadata": {},
     "outputs": [
      {
       "output_type": "stream",
       "stream": "stdout",
       "text": [
        "                            OLS Regression Results                            \n",
        "==============================================================================\n",
        "Dep. Variable:           np.log(pcap)   R-squared:                       0.315\n",
        "Model:                            OLS   Adj. R-squared:                  0.312\n",
        "Method:                 Least Squares   F-statistic:                     99.58\n",
        "Date:                Sat, 18 Apr 2015   Prob (F-statistic):           1.94e-86\n",
        "Time:                        11:38:31   Log-Likelihood:                -981.89\n",
        "No. Observations:                1088   AIC:                             1976.\n",
        "Df Residuals:                    1082   BIC:                             2006.\n",
        "Df Model:                           5                                         \n",
        "====================================================================================\n",
        "                       coef    std err          t      P>|t|      [95.0% Conf. Int.]\n",
        "------------------------------------------------------------------------------------\n",
        "Intercept            9.5955      0.055    175.874      0.000         9.488     9.703\n",
        "intensity_stock      0.2837      0.065      4.357      0.000         0.156     0.411\n",
        "rel_prop_rat         0.2436      0.047      5.163      0.000         0.151     0.336\n",
        "unemp_rate          -0.0941      0.009    -10.668      0.000        -0.111    -0.077\n",
        "vac_rate          4.073e-05      0.001      0.036      0.972        -0.002     0.002\n",
        "standardize(pop)     0.2649      0.022     11.890      0.000         0.221     0.309\n",
        "==============================================================================\n",
        "Omnibus:                       26.178   Durbin-Watson:                   1.547\n",
        "Prob(Omnibus):                  0.000   Jarque-Bera (JB):               42.225\n",
        "Skew:                          -0.200   Prob(JB):                     6.78e-10\n",
        "Kurtosis:                       3.878   Cond. No.                         117.\n",
        "==============================================================================\n",
        "                            OLS Regression Results                            \n",
        "==============================================================================\n",
        "Dep. Variable:          np.log(pcrev)   R-squared:                       0.574\n",
        "Model:                            OLS   Adj. R-squared:                  0.572\n",
        "Method:                 Least Squares   F-statistic:                     208.2\n",
        "Date:                Sat, 18 Apr 2015   Prob (F-statistic):          2.45e-195\n",
        "Time:                        11:38:31   Log-Likelihood:                -422.41\n",
        "No. Observations:                1088   AIC:                             860.8\n",
        "Df Residuals:                    1080   BIC:                             900.8\n",
        "Df Model:                           7                                         \n",
        "====================================================================================\n",
        "                       coef    std err          t      P>|t|      [95.0% Conf. Int.]\n",
        "------------------------------------------------------------------------------------\n",
        "Intercept            6.6006      0.043    153.498      0.000         6.516     6.685\n",
        "intensity_stock     -0.0586      0.039     -1.484      0.138        -0.136     0.019\n",
        "rel_prop_rat        -0.3885      0.029    -13.226      0.000        -0.446    -0.331\n",
        "pcap_q               0.0500      0.009      5.371      0.000         0.032     0.068\n",
        "unemp_rate          -0.0187      0.006     -3.377      0.001        -0.030    -0.008\n",
        "vac_rate             0.0204      0.001     29.787      0.000         0.019     0.022\n",
        "standardize(pop)    -0.0477      0.014     -3.330      0.001        -0.076    -0.020\n",
        "lpop_change         -2.0074      0.323     -6.214      0.000        -2.641    -1.374\n",
        "==============================================================================\n",
        "Omnibus:                      129.354   Durbin-Watson:                   2.113\n",
        "Prob(Omnibus):                  0.000   Jarque-Bera (JB):              180.653\n",
        "Skew:                           0.890   Prob(JB):                     5.91e-40\n",
        "Kurtosis:                       3.903   Cond. No.                         891.\n",
        "==============================================================================\n"
       ]
      }
     ],
     "prompt_number": 12
    },
    {
     "cell_type": "markdown",
     "metadata": {},
     "source": [
      "Ultimately, `dgsp` was just a little to squirrelly (which apparently means highly correlated with other variables).  Dropping it from the equation costs us a little on fit, but we are no longer being scolded about our condition number.  We will run with it.  Note that our quest for orthogonal relationships in the regressor matrix has had the curious effect of turning the sign of our TEL variables (`intensity_stock` & `rel_prop_rat`) positive in the economic capacity model."
     ]
    },
    {
     "cell_type": "heading",
     "level": 3,
     "metadata": {},
     "source": [
      "Spatial Models"
     ]
    },
    {
     "cell_type": "markdown",
     "metadata": {},
     "source": [
      "For the spatial models, we seem to be running into an issue with the current configuration of [PySAL](http://pythonhosted.org/PySAL/).  Even though my data is comprised of complete cases and my regressor matrix is of full rank, PySAL is throwing a `Singular Matrix` exception when I tried to recreate the pooled OLS results.  For starters, obviously [StatsModels](http://statsmodels.sourceforge.net/stable/) ran it without a hitch.  Secondly, I manually stepped through the OLS operation with [numpy](http://www.numpy.org/) matrix operations.  $X^TX$ was invertible, and the $\\beta$ estimates fell out without a hitch.  My assumption is that it has something to do with the `spdot()` method employed by PySAL estimators (in addition to numpy operators elsewhere for some reason).  In any case, the source loads `spdot()` with the following call:\n",
      "\n",
      "    from utils import spdot\n",
      "    \n",
      "I am unable to run this statement in an open cell, which leads me to suspect some compabitility issues have arisen since the first time I ran these models.  Curiously, randomly generated data was processed by PySAL's `ols()` method without incident.  This behavior occurred in `1.6.0` and `1.7.0`.\n",
      "\n",
      "This is all a very long way of saying that I will be using the R package [spdep](http://cran.r-project.org/web/packages/spdep/index.html) instead.  This is not too much of a distortion because ultimately R was going to enter the picture via [splm](http://cran.r-project.org/web/packages/splm/splm.pdf) once panel estimation was necessary anyway.  Now it just enters a bit further upstream."
     ]
    },
    {
     "cell_type": "code",
     "collapsed": false,
     "input": [
      "%load_ext rmagic"
     ],
     "language": "python",
     "metadata": {},
     "outputs": [],
     "prompt_number": 13
    },
    {
     "cell_type": "markdown",
     "metadata": {},
     "source": [
      "The first step is writing our set to disk so it may be read into the R namespace.  "
     ]
    },
    {
     "cell_type": "code",
     "collapsed": false,
     "input": [
      "d_sub.columns"
     ],
     "language": "python",
     "metadata": {},
     "outputs": [
      {
       "metadata": {},
       "output_type": "pyout",
       "prompt_number": 14,
       "text": [
        "Index([u'year', u'cty', u'intensity_stock', u'prop_ratio', u'pcrev', u'pcap', u'gsp', u'pop', u'unemp_rate', u'permit_rate', u'vac_rate', u'pop_change', u'lpop_change', u'w_db_b_g', u'w_db_b_i', u'w_db_c_g', u'w_db_c_i', u'w_kern_g', u'w_kern_i', u'w_queen_g', u'w_queen_i', u'w_rook_g', u'w_rook_i', u'pcap_q_lab', u'pcap_q', u'r_resid_yr', u'r_non_resid_yr', u'st_prop_rat', u'rel_prop_rat', u'dgsp'], dtype='object')"
       ]
      }
     ],
     "prompt_number": 14
    },
    {
     "cell_type": "code",
     "collapsed": false,
     "input": [
      "d_sub.reset_index().to_csv(workdir+'SpatDepModel.csv')"
     ],
     "language": "python",
     "metadata": {},
     "outputs": [],
     "prompt_number": 15
    },
    {
     "cell_type": "markdown",
     "metadata": {},
     "source": [
      "Now we can bring the appropriate materials into the R namespace:\n",
      "\n",
      "1. Read in our model data;\n",
      "2. Read in a shapefile; and,\n",
      "3. Construct a *`listw`* object from the shapefile."
     ]
    },
    {
     "cell_type": "code",
     "collapsed": false,
     "input": [
      "%%R\n",
      "\n",
      "library(spdep)\n",
      "library(plm)\n",
      "library(splm)\n",
      "library(maptools)\n",
      "library(raster)\n",
      "library(ggplot2)\n",
      "library(gridExtra)\n",
      "library(xtable)\n",
      "\n",
      "#Establish working directory\n",
      "workdir<-'/home/choct155/Google Drive/Dissertation/Data/'\n",
      "\n",
      "#Read in data\n",
      "d_sub<-read.csv(paste(workdir,'SpatDepModel.csv',sep=''))\n",
      "\n",
      "#Rename county variable\n",
      "names(d_sub)[4]<-'NAME'\n",
      "\n",
      "#Read in CO shapefile\n",
      "c<-readShapeSpatial('/home/choct155/Google Drive/Dissertation/Data/spatial/US/co_county.shp',IDvar='NAME')\n",
      "\n",
      "#Set projection (from docs)\n",
      "projection(c)<-'+proj=longlat +datum=NAD83'\n",
      "\n",
      "##Convert to nb object\n",
      "c_nb<-poly2nb(c)\n",
      "\n",
      "#Convert to listw object\n",
      "c_lw<-nb2listw(c_nb)\n",
      "\n",
      "print(summary(d_sub))\n",
      "print(summary(c))"
     ],
     "language": "python",
     "metadata": {},
     "outputs": [
      {
       "output_type": "stream",
       "stream": "stdout",
       "text": [
        "Loading required package: sp\n",
        "Loading required package: Matrix\n",
        "Loading required package: Formula\n",
        "Checking rgeos availability: FALSE\n",
        " \tNote: when rgeos is not available, polygon geometry \tcomputations in maptools depend on gpclib,\n",
        " \twhich has a restricted licence. It is disabled by default;\n",
        " \tto enable gpclib, type gpclibPermit()\n",
        "Error in library(gridExtra) : there is no package called \u2018gridExtra\u2019\n"
       ]
      }
     ],
     "prompt_number": 16
    },
    {
     "cell_type": "markdown",
     "metadata": {},
     "source": [
      "We should quickly confirm that our weight matrix has dimensions that are compatible with our data (from a year-wise cross-section perspective)."
     ]
    },
    {
     "cell_type": "code",
     "collapsed": false,
     "input": [
      "%%R\n",
      "print(summary(c_lw))\n",
      "print(dim(d_sub[which(d_sub$year==2000),]))"
     ],
     "language": "python",
     "metadata": {},
     "outputs": [
      {
       "output_type": "stream",
       "stream": "stdout",
       "text": [
        "Error in print(summary(c_lw)) : \n",
        "  error in evaluating the argument 'x' in selecting a method for function 'print': Error in summary(c_lw) : \n",
        "  error in evaluating the argument 'object' in selecting a method for function 'summary': Error: object 'c_lw' not found\n"
       ]
      }
     ],
     "prompt_number": 17
    },
    {
     "cell_type": "markdown",
     "metadata": {},
     "source": [
      "It looks like we are in decent shape.  Let's run a test plot to see what things look like."
     ]
    },
    {
     "cell_type": "code",
     "collapsed": false,
     "input": [
      "%%R -w 800 -h 300\n",
      "#Define model formula (economic capacity model)\n",
      "test_econ<-log(pcap) ~ intensity_stock + rel_prop_rat + unemp_rate + permit_rate + vac_rate + pop\n",
      "\n",
      "#Fit GMM model\n",
      "tecon<-GMerrorsar(formula=test_fm,data=d_sub[which(d_sub$year==2000),],listw=c_lw)\n",
      "print(summary(tecon))\n",
      "\n",
      "#Fit ML model\n",
      "#tecon_ml<-errorsarlm(formula=test_fm,data=d_sub[which(d_sub$year==2000),],listw=c_lw)\n",
      "#print(summary(tecon_ml))\n",
      "\n",
      "#Capture residual and fitted value information\n",
      "tecon_pred<-data.frame(cbind(tecon$residuals,tecon$fitted.values,d_sub[which(d_sub$year==2000),]$pcap))\n",
      "names(tecon_pred)<-c('resid','fit_val','resp')\n",
      "\n",
      "#Inspect visual plots\n",
      "par(mfrow=c(2,1))\n",
      "res_dens<-ggplot(tecon_pred,aes(x=resid)) + \n",
      "          geom_density(aes(fill='#B50724')) +\n",
      "          xlab('Residuals') +\n",
      "          ylab('Density') +\n",
      "          labs(title='Error Distribution') +\n",
      "          theme_bw() + \n",
      "          theme(legend.position='none')\n",
      "\n",
      "res_fit<-ggplot(tecon_pred,aes(y=resid,x=fit_val)) + \n",
      "         geom_point(aes(color='#B50724')) +\n",
      "         geom_smooth(method='lm') +\n",
      "         xlab('Fitted Values') +\n",
      "         ylab('Residuals') +\n",
      "         labs(title='Residuals vs. Fitted Values') +\n",
      "         theme_bw() + \n",
      "         theme(legend.position='none')\n",
      "\n",
      "print(grid.arrange(res_dens,res_fit,ncol=2))"
     ],
     "language": "python",
     "metadata": {},
     "outputs": [
      {
       "output_type": "stream",
       "stream": "stdout",
       "text": [
        "Error in GMerrorsar(formula = test_fm, data = d_sub[which(d_sub$year ==  : \n",
        "  object 'test_fm' not found\n"
       ]
      }
     ],
     "prompt_number": 18
    },
    {
     "cell_type": "markdown",
     "metadata": {},
     "source": [
      "I actually tried to fit an spatial error model (SEM) by maximum likelihood as well, but the routine failed.  In any event, the model is a bit noisy, likely due to a small number of observations, but the we have 1) dealt with our multicollinearity problem and 2) this model seems to have good error properties.  I want to run this model as a repeated cross-section, so let's wrap the process in a function."
     ]
    },
    {
     "cell_type": "code",
     "collapsed": false,
     "input": [
      "%%R -w 800 -h 300\n",
      "\n",
      "#Define SEM function\n",
      "\n",
      "sem_yr<-function(fmla,yr,df=d_sub,econ_dep=TRUE,w=c_lw){\n",
      "    #Fit GMM model\n",
      "    gmm<-GMerrorsar(formula=fmla,data=df[which(df$year==yr),],listw=w)\n",
      "    \n",
      "    #If desired, plot summary\n",
      "    #print(summary(gmm))\n",
      "    \n",
      "    #Capture residual and fitted value information\n",
      "    if(econ_dep){\n",
      "        gmm_pred<-data.frame(cbind(gmm$residuals,gmm$fitted.values,df[which(df$year==yr),]$pcap))\n",
      "        }\n",
      "    else{\n",
      "        gmm_pred<-data.frame(cbind(gmm$residuals,gmm$fitted.values,df[which(df$year==yr),]$pcrev))\n",
      "        }\n",
      "    names(gmm_pred)<-c('resid','fit_val','resp')\n",
      "    \n",
      "    #Inspect visual plots\n",
      "    par(mfrow=c(2,1))\n",
      "    res_dens<-ggplot(tecon_pred,aes(x=resid)) + \n",
      "              geom_density(aes(fill='#B50724')) +\n",
      "              xlab('Residuals') +\n",
      "              ylab('Density') +\n",
      "              labs(title='Error Distribution') +\n",
      "              theme_bw() + \n",
      "              theme(legend.position='none')\n",
      "    \n",
      "    res_fit<-ggplot(tecon_pred,aes(y=resid,x=fit_val)) + \n",
      "             geom_point(aes(color='#B50724')) +\n",
      "             geom_smooth(method='lm') +\n",
      "             xlab('Fitted Values') +\n",
      "             ylab('Residuals') +\n",
      "             labs(title='Residuals vs. Fitted Values') +\n",
      "             theme_bw() + \n",
      "             theme(legend.position='none')\n",
      "    #print(grid.arrange(res_dens,res_fit,ncol=2))\n",
      "        \n",
      "    \n",
      "    #Capture model results\n",
      "    mod_res<-data.frame(cbind(gmm$coefficients,gmm$rest.se,gmm$SSE,gmm$lambda,gmm$lambda.se[1]))\n",
      "    names(mod_res)<-c('coef','coef_se','SSE','lmbda','lmbda_se')\n",
      "    mod_res$year<-yr\n",
      "    \n",
      "    #Calculate test stats\n",
      "    mod_res$coef_t<-mod_res$coef/mod_res$coef_se\n",
      "    mod_res$lmbda_t<-mod_res$lmbda/mod_res$lmbda_se\n",
      "    return(mod_res)\n",
      "    }\n",
      "\n",
      "#Define model formula (economic capacity model)\n",
      "econ<-log(pcap) ~ intensity_stock + rel_prop_rat + unemp_rate + vac_rate + pop\n",
      "rev<-log(pcrev) ~ intensity_stock + rel_prop_rat + as.factor(pcap_q) + unemp_rate + vac_rate + pop\n",
      "\n",
      "#Create container for model results\n",
      "sem_econ<-c()\n",
      "\n",
      "#for(i in seq(1994,2009)){\n",
      "#    sem_econ<-c(sem_econ,sem_yr(econ,i),pr_summ=FALSE,plot=FALSE)\n",
      "#    }\n",
      "\n",
      "#Concatenate results tables\n",
      "#sem_econ_df<-do.call(rbind,sem_econ)\n",
      "#names(sem_econ_df)<-c('intensity_stock','rel_prop_rat','unemp_rate','vac_rate','pop')\n",
      "#print(sem_econ_df)"
     ],
     "language": "python",
     "metadata": {},
     "outputs": [],
     "prompt_number": 19
    },
    {
     "cell_type": "heading",
     "level": 3,
     "metadata": {},
     "source": [
      "Spatial Panel Analysis"
     ]
    },
    {
     "cell_type": "markdown",
     "metadata": {},
     "source": [
      "For our spatial panel analysis, we will be leveraging the [splm](http://cran.r-project.org/web/packages/splm/splm.pdf) package.  Specifically, we will be working with the following models:\n",
      "\n",
      "1. GMM Spatial Panel Estimator with Fixed/Random Effects (`spgm()`)\n",
      "2. ML Spatial Panel Estimator with Fixed/Random Effects (`spml()`)\n",
      "3. ML Spatial Panel Estimator with Random Effects *and* Serial Error Correlation (`spreml()`)\n",
      "\n",
      "The first two estimators will be run testing the same models, in an effort to learn about differences in outcome due to estimation strategy.  After a baseline *no effect* model is estimated by maximum likelihood (the more flexible model in the package), a Hausman test (`sphtest()`) will be employed to determine the appropriateness of random versus fixed effects estimation.  The proper effect will be implemented via GMM and ML.  If random effects is permissible, the third estimator will introduce temporally correlated errors.  (At the current time, fixed effect estimation effectively runs pooled OLS estimation on time-demeaned data.)"
     ]
    },
    {
     "cell_type": "heading",
     "level": 4,
     "metadata": {},
     "source": [
      "Baseline - No Effect Maximum Likelihood"
     ]
    },
    {
     "cell_type": "markdown",
     "metadata": {},
     "source": [
      "First the economic model."
     ]
    },
    {
     "cell_type": "code",
     "collapsed": false,
     "input": [
      "%%R -w 800 -h 300\n",
      "\n",
      "#Estimate pooled model by ML\n",
      "ml_pool<-spml(econ,d_sub,index=c('NAME','year'),c_lw,model='pooling')\n",
      "\n",
      "print(summary(ml_pool))\n",
      "print(xtable(summary(ml_pool)$CoefTable),type='html')\n",
      "#Check out errors\n",
      "resid_plots<-function(model){\n",
      "    #Capture residuals and fitted values\n",
      "    resid_info<-data.frame(cbind(model$residuals,model$fitted.values))\n",
      "    names(resid_info)<-c('resid','fit_val')\n",
      "    \n",
      "    #Plot residual distribution\n",
      "    res_dens<-ggplot(resid_info,aes(x=resid)) + \n",
      "              geom_density(aes(fill='#B50724')) +\n",
      "              xlab('Residuals') +\n",
      "              ylab('Density') +\n",
      "              labs(title='Error Distribution') +\n",
      "              theme_bw() + \n",
      "              theme(legend.position='none')\n",
      "    #Plot residuals v fitted values\n",
      "    res_fit<-ggplot(resid_info,aes(y=resid,x=fit_val)) + \n",
      "             geom_point(aes(color='#B50724')) +\n",
      "             geom_smooth(method='lm') +\n",
      "             xlab('Fitted Values') +\n",
      "             ylab('Residuals') +\n",
      "             labs(title='Residuals vs. Fitted Values') +\n",
      "             theme_bw() + \n",
      "             theme(legend.position='none')\n",
      "    print(grid.arrange(res_dens,res_fit,ncol=2))\n",
      "    }\n",
      "\n",
      "resid_plots(ml_pool)"
     ],
     "language": "python",
     "metadata": {},
     "outputs": [
      {
       "output_type": "stream",
       "stream": "stdout",
       "text": [
        "Error in match(x, table, nomatch = 0L) : object 'c_lw' not found\n"
       ]
      }
     ],
     "prompt_number": 20
    },
    {
     "cell_type": "markdown",
     "metadata": {},
     "source": [
      "<!-- html table generated in R 3.0.2 by xtable 1.7-3 package -->\n",
      "<!-- Thu Apr 24 20:24:38 2014 -->\n",
      "<TABLE border=1>\n",
      "<TR> <TH>  </TH> <TH> Estimate </TH> <TH> Std. Error </TH> <TH> t-value </TH> <TH> Pr(&gt;|t|) </TH>  </TR>\n",
      "  <TR> <TD align=\"right\"> (Intercept) </TD> <TD align=\"right\"> 9.58 </TD> <TD align=\"right\"> 0.06 </TD> <TD align=\"right\"> 150.21 </TD> <TD align=\"right\"> 0.00 </TD> </TR>\n",
      "  <TR> <TD align=\"right\"> intensity_stock </TD> <TD align=\"right\"> 0.18 </TD> <TD align=\"right\"> 0.06 </TD> <TD align=\"right\"> 2.73 </TD> <TD align=\"right\"> 0.01 </TD> </TR>\n",
      "  <TR> <TD align=\"right\"> rel_prop_rat </TD> <TD align=\"right\"> 0.22 </TD> <TD align=\"right\"> 0.05 </TD> <TD align=\"right\"> 4.62 </TD> <TD align=\"right\"> 0.00 </TD> </TR>\n",
      "  <TR> <TD align=\"right\"> unemp_rate </TD> <TD align=\"right\"> -0.11 </TD> <TD align=\"right\"> 0.01 </TD> <TD align=\"right\"> -11.36 </TD> <TD align=\"right\"> 0.00 </TD> </TR>\n",
      "  <TR> <TD align=\"right\"> vac_rate </TD> <TD align=\"right\"> -0.00 </TD> <TD align=\"right\"> 0.00 </TD> <TD align=\"right\"> -1.10 </TD> <TD align=\"right\"> 0.27 </TD> </TR>\n",
      "  <TR> <TD align=\"right\"> pop </TD> <TD align=\"right\"> 0.00 </TD> <TD align=\"right\"> 0.00 </TD> <TD align=\"right\"> 11.87 </TD> <TD align=\"right\"> 0.00 </TD> </TR>\n",
      "   </TABLE>"
     ]
    },
    {
     "cell_type": "markdown",
     "metadata": {},
     "source": [
      "Clearly heteroskedasticity is an issue, but the normality assumption certainly could fare worse.  Note that both Anselin/Batalgi style spatial errors (`b`; only spatial dependence with time varying processes) and Kapoor et al style errors (`kkp`; adds time invariant spatial spillovers) yield virtually identical results.\n",
      "\n",
      "Out of curiosity, how did this compare with our pooled OLS estimate?"
     ]
    },
    {
     "cell_type": "code",
     "collapsed": false,
     "input": [
      "print econ_ols3.summary()"
     ],
     "language": "python",
     "metadata": {},
     "outputs": [
      {
       "output_type": "stream",
       "stream": "stdout",
       "text": [
        "                            OLS Regression Results                            \n",
        "==============================================================================\n",
        "Dep. Variable:           np.log(pcap)   R-squared:                       0.315\n",
        "Model:                            OLS   Adj. R-squared:                  0.312\n",
        "Method:                 Least Squares   F-statistic:                     99.58\n",
        "Date:                Sat, 18 Apr 2015   Prob (F-statistic):           1.94e-86\n",
        "Time:                        11:38:38   Log-Likelihood:                -981.89\n",
        "No. Observations:                1088   AIC:                             1976.\n",
        "Df Residuals:                    1082   BIC:                             2006.\n",
        "Df Model:                           5                                         \n",
        "====================================================================================\n",
        "                       coef    std err          t      P>|t|      [95.0% Conf. Int.]\n",
        "------------------------------------------------------------------------------------\n",
        "Intercept            9.5955      0.055    175.874      0.000         9.488     9.703\n",
        "intensity_stock      0.2837      0.065      4.357      0.000         0.156     0.411\n",
        "rel_prop_rat         0.2436      0.047      5.163      0.000         0.151     0.336\n",
        "unemp_rate          -0.0941      0.009    -10.668      0.000        -0.111    -0.077\n",
        "vac_rate          4.073e-05      0.001      0.036      0.972        -0.002     0.002\n",
        "standardize(pop)     0.2649      0.022     11.890      0.000         0.221     0.309\n",
        "==============================================================================\n",
        "Omnibus:                       26.178   Durbin-Watson:                   1.547\n",
        "Prob(Omnibus):                  0.000   Jarque-Bera (JB):               42.225\n",
        "Skew:                          -0.200   Prob(JB):                     6.78e-10\n",
        "Kurtosis:                       3.878   Cond. No.                         117.\n",
        "==============================================================================\n"
       ]
      }
     ],
     "prompt_number": 21
    },
    {
     "cell_type": "markdown",
     "metadata": {},
     "source": [
      "It seems to tell a pretty similar story.  In terms of directional impact, only `vac_rate` switched from negative to positive once spatially correlated errors are introduced, but in both models `vac_rate` is quite a noisy estimate.\n",
      "\n",
      "Let us evaluate revenue yield."
     ]
    },
    {
     "cell_type": "code",
     "collapsed": false,
     "input": [
      "%%R -w 800 -h 300\n",
      "#Estimate pooled model by ML\n",
      "ml_pool_rev<-spml(rev,d_sub,index=c('NAME','year'),c_lw,model='pooling',spatial.error='b')\n",
      "\n",
      "print(summary(ml_pool_rev))\n",
      "print(xtable(summary(ml_pool_rev)$CoefTable),type='html')\n",
      "resid_plots(ml_pool_rev)"
     ],
     "language": "python",
     "metadata": {},
     "outputs": [
      {
       "output_type": "stream",
       "stream": "stdout",
       "text": [
        "Error in match(x, table, nomatch = 0L) : object 'c_lw' not found\n"
       ]
      }
     ],
     "prompt_number": 22
    },
    {
     "cell_type": "markdown",
     "metadata": {},
     "source": [
      "Interesting.  Our normality assumption is a bit more strained in this model, with most errors coming in negative.  We still have a fairly weak relationship between errors and fitted values, which presumably means our exogneity condition is holding up decently.\n",
      "\n",
      "We expected our TEL variables (`intensity_stock` & `rel_prop_rat`) to push down tax burdens.  What is surprising is the action in the covariates.  Perhaps a case could be made that larger counties (by population, `pop`) are able to leverage broader tax bases to reduce tax effort.  For a similar reason, the reduction in the tax base signified by increases in the vacancy rate (`vac_rate`) might increase tax effort on a per capita basis.  \n",
      "\n",
      "The interesting part has to do with the annual payroll quintiles (`pcap_q`).  There are five values, and R uses the first (a.k.a. lowest dollar value range) as as baseline by default.  Given that government is treated as a normal good, wouldn't we expect an increase in `pcrev` as the payroll increased?  It isn't until the highest quintile that we see this, and there is no smooth transition along the way.  This is odd."
     ]
    },
    {
     "cell_type": "heading",
     "level": 4,
     "metadata": {},
     "source": [
      "Hausman Test"
     ]
    },
    {
     "cell_type": "markdown",
     "metadata": {},
     "source": [
      "We need to incorporate fixed or random effects, so a Hausman test must be performed for both models."
     ]
    },
    {
     "cell_type": "code",
     "collapsed": false,
     "input": [
      "%%R\n",
      "\n",
      "#Run Hausman tests\n",
      "test_econ<-sphtest(econ,data=d_sub,index=c('NAME','year'),c_lw,spatial.model = 'error', method='GM')\n",
      "test_rev<-sphtest(rev,data=d_sub,index=c('NAME','year'),c_lw,spatial.model = 'error', method='GM')\n",
      "\n",
      "print(test_econ)\n",
      "print(test_rev)\n"
     ],
     "language": "python",
     "metadata": {},
     "outputs": [
      {
       "output_type": "stream",
       "stream": "stdout",
       "text": [
        "Error in spgm(x, data = data, index = index, listw = listw, lag = lag,  : \n",
        "  object 'c_lw' not found\n"
       ]
      }
     ],
     "prompt_number": 23
    },
    {
     "cell_type": "markdown",
     "metadata": {},
     "source": [
      "Dang.  Looks like the revenue and economic models will part ways here.  Both random and fixed effect specifications for the economic model are consistent, while only fixed effect models are consistent for the revenue model.  For efficiency reasons, random effect models are generally preferred.  Furthermore, there is no fixed effect option with serially correlated errors, but what can you do?"
     ]
    },
    {
     "cell_type": "heading",
     "level": 4,
     "metadata": {},
     "source": [
      "Panel Estimation"
     ]
    },
    {
     "cell_type": "markdown",
     "metadata": {},
     "source": [
      "To reiterate, we will first estimate the economic model with random effects by Generalized Method of Moments *and* Maximum Likelihood.  To be more precise, we are starting with a spatial error model.  Lags will be incorporated later."
     ]
    },
    {
     "cell_type": "code",
     "collapsed": false,
     "input": [
      "%%R \n",
      "\n",
      "#Estimate econ by GMM\n",
      "gm_econ_re<-spgm(econ,d_sub,index=c('NAME','year'),c_lw,model='random',moments='fullweights',spatial.error=TRUE)\n",
      "\n",
      "#Estimate econ by ML\n",
      "ml_econ_re<-spml(econ,d_sub,index=c('NAME','year'),c_lw,model='random',effect='individual',spatial.error='b')\n",
      "\n",
      "print(summary(gm_econ_re))\n",
      "print(summary(ml_econ_re))"
     ],
     "language": "python",
     "metadata": {},
     "outputs": [
      {
       "output_type": "stream",
       "stream": "stdout",
       "text": [
        "Error in spgm(econ, d_sub, index = c(\"NAME\", \"year\"), c_lw, model = \"random\",  : \n",
        "  object 'c_lw' not found\n"
       ]
      }
     ],
     "prompt_number": 24
    },
    {
     "cell_type": "markdown",
     "metadata": {},
     "source": [
      "It appears that incorporating random effects has made it much more difficult to detect the signal from our TEL variables.  With respect to `intensity_stock`, the magnitudes are quite similar across estimation techniques, but only GMM finds it to be significant.  That being said, in both models, the positive association with payroll is consistent with earlier models.  In contrast, `rel_prop_rat` has become very noisy, and goes in different directions depending on the technique used.  That being said, in the GMM spec, the standard error completely covers up the estimate.\n",
      "\n",
      "Unemployment rate emerges as the dominant predictor of payroll, which is perhaps unsurprising.  Vacancy rate plays a comparatively small role in both models.  The most surprising aspect is the complete irrelevance of population.\n",
      "\n",
      "Now for the revenue models."
     ]
    },
    {
     "cell_type": "code",
     "collapsed": false,
     "input": [
      "%%R \n",
      "\n",
      "#Estimate econ by GMM\n",
      "gm_rev_fe<-spgm(rev,d_sub,index=c('NAME','year'),c_lw,model='within',moments='fullweights',spatial.error=TRUE)\n",
      "\n",
      "#Estimate econ by ML\n",
      "ml_rev_fe<-spml(rev,d_sub,index=c('NAME','year'),c_lw,model='within',effect='individual',spatial.error='b')\n",
      "\n",
      "print(summary(gm_rev_fe))\n",
      "print(summary(ml_rev_fe))"
     ],
     "language": "python",
     "metadata": {},
     "outputs": [
      {
       "output_type": "stream",
       "stream": "stdout",
       "text": [
        "Error in spgm(rev, d_sub, index = c(\"NAME\", \"year\"), c_lw, model = \"within\",  : \n",
        "  object 'c_lw' not found\n"
       ]
      }
     ],
     "prompt_number": 25
    },
    {
     "cell_type": "markdown",
     "metadata": {},
     "source": [
      "Wow, in an unexpected turn of events, `intensity_stock` has gone rougue!  Inclusion of fixed effects has caused the sign to switch positive, albeit noisily in the ML case.  In contrast, `rel_prop_rat` is still associated with lower tax effort, which makes sense because it is residential assessment growth that is limited in Colorado.  If the ratio of residential to non-residential is higher, that will cause lower tax effort by construction.  `intensity_stock`, on the other hand, should signify the magnitude of the constraint (that is, the space between what the county could raise due to economic factors versus what they could raise as a consequence of the TELs).  The greater the constraint, the lower the tax effort in all previous models.  Accounting for county unobservables, however, has flipped the relationship."
     ]
    },
    {
     "cell_type": "heading",
     "level": 4,
     "metadata": {},
     "source": [
      "Spatial Lags"
     ]
    },
    {
     "cell_type": "markdown",
     "metadata": {},
     "source": [
      "We will now incorporate the impact of the local neighborhood explicitly.  All four of the previous models will be re-run with spatial lags.  First the economic models."
     ]
    },
    {
     "cell_type": "code",
     "collapsed": false,
     "input": [
      "%%R \n",
      "\n",
      "#Estimate econ by GMM\n",
      "gm_econ_reL<-spgm(econ,d_sub,index=c('NAME','year'),c_lw,model='random',moments='fullweights',\n",
      "                 spatial.error=TRUE,lag=TRUE)\n",
      "\n",
      "#Estimate econ by ML\n",
      "ml_econ_reL<-spml(econ,d_sub,index=c('NAME','year'),c_lw,model='random',effect='individual',\n",
      "                 spatial.error='b',lag=TRUE)\n",
      "\n",
      "print(summary(gm_econ_reL))\n",
      "print(summary(ml_econ_reL))\n",
      "print(xtable(summary(ml_econ_reL)$CoefTable),type='html')"
     ],
     "language": "python",
     "metadata": {},
     "outputs": [
      {
       "output_type": "stream",
       "stream": "stdout",
       "text": [
        "Error in spgm(econ, d_sub, index = c(\"NAME\", \"year\"), c_lw, model = \"random\",  : \n",
        "  object 'c_lw' not found\n"
       ]
      }
     ],
     "prompt_number": 26
    },
    {
     "cell_type": "markdown",
     "metadata": {},
     "source": [
      "While the impact of `rel_prop_rat` is insignificant (mirroring the SEMfe run above), it is now the ML (rather than GMM) model that shows `intensity_stock` to be significantly and positively associated with payroll.  The relative roles of the other variables remain fairly unchanged."
     ]
    },
    {
     "cell_type": "code",
     "collapsed": false,
     "input": [
      "%%R \n",
      "\n",
      "#Estimate econ by GMM\n",
      "gm_rev_feL<-spgm(rev,d_sub,index=c('NAME','year'),c_lw,model='within',moments='fullweights',\n",
      "                spatial.error=TRUE,lag=TRUE)\n",
      "\n",
      "#Estimate econ by ML\n",
      "ml_rev_feL<-spml(rev,d_sub,index=c('NAME','year'),c_lw,model='within',effect='individual',\n",
      "                spatial.error='b',lag=TRUE)\n",
      "\n",
      "print(summary(gm_rev_feL))\n",
      "print(summary(ml_rev_feL))\n",
      "print(xtable(summary(ml_rev_feL)$CoefTable),type='html')"
     ],
     "language": "python",
     "metadata": {},
     "outputs": [
      {
       "output_type": "stream",
       "stream": "stdout",
       "text": [
        "Error in spgm(rev, d_sub, index = c(\"NAME\", \"year\"), c_lw, model = \"within\",  : \n",
        "  object 'c_lw' not found\n"
       ]
      }
     ],
     "prompt_number": 27
    },
    {
     "cell_type": "markdown",
     "metadata": {},
     "source": [
      "As expected, the incorporation of the spatial lag did not materially change the impact of fixed effects.  `intensity_stock` is still positively associated with tax effort while `rel_prop_rate` is negatively associated.  Note that the impact of payroll quintile (`pcap_q`) makes more sense when fixed effects are incorporated.  The remaining covariates remain largely substantively and/or statistically insignificant."
     ]
    },
    {
     "cell_type": "heading",
     "level": 4,
     "metadata": {},
     "source": [
      "Temporal Dependence"
     ]
    },
    {
     "cell_type": "markdown",
     "metadata": {},
     "source": [
      "In this section, we account for the impact of temporal dependence.  The strategy for this, as mentioned above, will differ due to the Hausman test.  The economic model will be estimated via ML with random effects as well as spatially and temporally correlated errors.  The revenue model, by contrast cannot be consistently estimated with random effects.  We will thus drop the spatial dependency altogether and estimate a dynamic panel model by GMM.  \n",
      "\n",
      "First the economic model..."
     ]
    },
    {
     "cell_type": "code",
     "collapsed": false,
     "input": [
      "%%R\n",
      "\n",
      "ml_econ_sr<-spreml(econ,d_sub,index=c('NAME','year'),c_lw,errors='sr',lag=TRUE,method='BFGS')\n",
      "\n",
      "print(summary(ml_econ_sr))"
     ],
     "language": "python",
     "metadata": {},
     "outputs": [
      {
       "output_type": "stream",
       "stream": "stdout",
       "text": [
        "Error in plm.data(data, index) : object 'd_sub' not found\n"
       ]
      }
     ],
     "prompt_number": 28
    },
    {
     "cell_type": "markdown",
     "metadata": {},
     "source": [
      "Perhaps the most consistent finding in this whole inquiry is the positive association of `intensity_stock` with payroll.  `rel_prop_rat` is once again negative, but fairly noisy, and `unemp_rate` dominates the space.  It appears that while serial error correlation exists ($\\psi$ is significant), it has not changed the outcome of the model.\n",
      "\n",
      "In the revenue model, we will test one and two lags of tax effort."
     ]
    },
    {
     "cell_type": "code",
     "collapsed": false,
     "input": [
      "%%R\n",
      "\n",
      "#Define updated models\n",
      "revL1<-as.formula(log(pcrev) ~ lag(log(pcrev),1) + intensity_stock + rel_prop_rat + as.factor(pcap_q) + unemp_rate + vac_rate + pop)\n",
      "revL2<-as.formula(log(pcrev) ~ lag(log(pcrev),1:2) + intensity_stock + rel_prop_rat + as.factor(pcap_q) + unemp_rate + vac_rate + pop)\n",
      "\n",
      "#Estimate dynamic panel models\n",
      "gm_rev_L1<-pgmm(log(pcrev) ~ lag(log(pcrev),1) + intensity_stock + rel_prop_rat + as.factor(pcap_q) + unemp_rate + vac_rate + pop,\n",
      "                d_sub,index=c('NAME','year'),model='twosteps',effect='individual')\n",
      "#gm_rev_L2<-pgmm(revL2,d_sub,index=c('NAME','year'),model='twosteps',effect='individual')\n",
      "\n",
      "print(summary(gm_rev_L1))\n",
      "#print(summary(gm_rev_L2))"
     ],
     "language": "python",
     "metadata": {},
     "outputs": [
      {
       "output_type": "stream",
       "stream": "stdout",
       "text": [
        "Error in terms.default(formula) : no terms component nor attribute\n"
       ]
      }
     ],
     "prompt_number": 29
    },
    {
     "cell_type": "code",
     "collapsed": false,
     "input": [
      "%%R\n",
      "\n",
      "#Collect coefficient vectors from all econ models\n",
      "econ_ml_mods<-data.frame(cbind(ml_pool$coefficients,\n",
      "                               data.frame(summary(ml_pool)$CoefTable)$Pr...t..,\n",
      "                               ml_econ_re$coefficients,\n",
      "                               data.frame(summary(ml_econ_re)$CoefTable)$Pr...t..,\n",
      "                               ml_econ_reL$coefficients,\n",
      "                               data.frame(summary(ml_econ_reL)$CoefTable)$Pr...t..,\n",
      "                               ml_econ_sr$coefficients,\n",
      "                               data.frame(summary(ml_econ_sr)$CoefTable)$Pr...t..))\n",
      "names(econ_ml_mods)<-c('SEM','SEM_p','RE','RE_p','RESL','RESL_p','RESCE','RESCE_p')\n",
      "\n",
      "#Collect coefficient vectors from all rev models\n",
      "rev_ml_mods<-data.frame(cbind(ml_pool_rev$coefficients,\n",
      "                               data.frame(summary(ml_pool_rev)$CoefTable)$Pr...t..,\n",
      "                               ml_rev_fe$coefficients,\n",
      "                               data.frame(summary(ml_rev_fe)$CoefTable)$Pr...t..,\n",
      "                               ml_rev_feL$coefficients,\n",
      "                               data.frame(summary(ml_rev_feL)$CoefTable)$Pr...t..))\n",
      "names(rev_ml_mods)<-c('SEM','SEM_p','FE','FE_p','FESL','FESL_p')\n",
      "\n",
      "#Print summary DFs\n",
      "print(econ_ml_mods)\n",
      "print(rev_ml_mods)\n",
      "print(xtable(econ_ml_mods),type='html')\n",
      "print(xtable(rev_ml_mods),type='html')\n"
     ],
     "language": "python",
     "metadata": {},
     "outputs": [
      {
       "output_type": "stream",
       "stream": "stdout",
       "text": [
        "Error in cbind(ml_pool$coefficients, data.frame(summary(ml_pool)$CoefTable)$Pr...t..,  : \n",
        "  object 'ml_pool' not found\n"
       ]
      }
     ],
     "prompt_number": 30
    },
    {
     "cell_type": "markdown",
     "metadata": {},
     "source": [
      "$$\\bf{\\text{Misc Figures}}$$"
     ]
    },
    {
     "cell_type": "code",
     "collapsed": false,
     "input": [
      "fig,ax=plt.subplots(figsize=(15,5))\n",
      "sb.violinplot(d_sub['rel_prop_rat'],d_sub['year'],color='#B50724',alpha=.5,ax=ax)\n",
      "ax.patch.set_facecolor('white')\n",
      "ax.set_title('Distribution of Distance Between County and State Gallagher Ratios',fontsize=20)\n",
      "ax.set_xlabel('Year')\n",
      "ax.set_ylabel('Distance')\n",
      "plt.savefig('gallagher_dist.png',dpi=300)"
     ],
     "language": "python",
     "metadata": {},
     "outputs": [
      {
       "metadata": {},
       "output_type": "display_data",
       "png": "[encoded data removed]",
       "text": [
        "<matplotlib.figure.Figure at 0x7f6cb4bdf490>"
       ]
      }
     ],
     "prompt_number": 31
    },
    {
     "cell_type": "heading",
     "level": 2,
     "metadata": {},
     "source": [
      "Map"
     ]
    },
    {
     "cell_type": "markdown",
     "metadata": {},
     "source": [
      "A map would be useful for the presentation.  Let's look at per capita revenue by county in 2009."
     ]
    },
    {
     "cell_type": "code",
     "collapsed": false,
     "input": [
      "#Spatial I/O\n",
      "import fiona\n",
      "from toolbox import shp2df\n",
      "\n",
      "#Spatial manipulation\n",
      "from shapely.geometry import shape,Point,Polygon,MultiPolygon\n",
      "from shapely.ops import unary_union\n",
      "from descartes import PolygonPatch\n",
      "\n",
      "#Visualization\n",
      "from matplotlib.collections import PatchCollection\n",
      "import matplotlib.patheffects as PathEffects\n",
      "from mpltools import color\n",
      "\n",
      "#Isolate desired columns\n",
      "map_cols=['cty','pcrev']\n",
      "\n",
      "#Generate subset\n",
      "mapd=data[data['year']==2009][map_cols].rename(columns={'cty':'NAME'})\n",
      "\n",
      "mapd.head()"
     ],
     "language": "python",
     "metadata": {},
     "outputs": [
      {
       "html": [
        "<div style=\"max-height:1000px;max-width:1500px;overflow:auto;\">\n",
        "<table border=\"1\" class=\"dataframe\">\n",
        "  <thead>\n",
        "    <tr style=\"text-align: right;\">\n",
        "      <th></th>\n",
        "      <th>NAME</th>\n",
        "      <th>pcrev</th>\n",
        "    </tr>\n",
        "  </thead>\n",
        "  <tbody>\n",
        "    <tr>\n",
        "      <th>2184</th>\n",
        "      <td>     Adams</td>\n",
        "      <td>  964.792818</td>\n",
        "    </tr>\n",
        "    <tr>\n",
        "      <th>2185</th>\n",
        "      <td>   Alamosa</td>\n",
        "      <td> 1093.298301</td>\n",
        "    </tr>\n",
        "    <tr>\n",
        "      <th>2186</th>\n",
        "      <td>  Arapahoe</td>\n",
        "      <td>  484.565323</td>\n",
        "    </tr>\n",
        "    <tr>\n",
        "      <th>2187</th>\n",
        "      <td> Archuleta</td>\n",
        "      <td> 1562.110861</td>\n",
        "    </tr>\n",
        "    <tr>\n",
        "      <th>2188</th>\n",
        "      <td>      Baca</td>\n",
        "      <td> 1979.397529</td>\n",
        "    </tr>\n",
        "  </tbody>\n",
        "</table>\n",
        "</div>"
       ],
       "metadata": {},
       "output_type": "pyout",
       "prompt_number": 32,
       "text": [
        "           NAME        pcrev\n",
        "2184      Adams   964.792818\n",
        "2185    Alamosa  1093.298301\n",
        "2186   Arapahoe   484.565323\n",
        "2187  Archuleta  1562.110861\n",
        "2188       Baca  1979.397529"
       ]
      }
     ],
     "prompt_number": 32
    },
    {
     "cell_type": "markdown",
     "metadata": {},
     "source": [
      "Now we need the Colorado county shapefile.  Note that the **`toolbox`** module contains my own random collection of methods."
     ]
    },
    {
     "cell_type": "code",
     "collapsed": false,
     "input": [
      "#Capture shape DF\n",
      "shp_df=shp2df(workdir+'spatial/US/co_county.shp')[0]\n",
      "\n",
      "#Capture shape metadata\n",
      "shp_meta=shp2df(workdir+'spatial/US/co_county.shp')[1]\n",
      "\n",
      "#Sort polygons by name\n",
      "shp_df_sort=shp_df.sort(columns='NAME')\n",
      "\n",
      "print shp_df_sort.head()\n",
      "shp_meta"
     ],
     "language": "python",
     "metadata": {},
     "outputs": [
      {
       "output_type": "stream",
       "stream": "stdout",
       "text": [
        "   STATEFP COUNTYFP  COUNTYNS  GEOID       NAME          NAMELSAD LSAD CLASSFP  MTFCC CSAFP CBSAFP METDIVFP FUNCSTAT       ALAND  \\\n",
        "31      08      001  00198116  08001      Adams      Adams County   06      H1  G4020   216  19740     None        A  3024201147   \n",
        "45      08      003  00198117  08003    Alamosa    Alamosa County   06      H1  G4020  None   None     None        A  1871620246   \n",
        "61      08      005  00198118  08005   Arapahoe   Arapahoe County   06      H1  G4020   216  19740     None        A  2066605764   \n",
        "22      08      007  00198119  08007  Archuleta  Archuleta County   06      H1  G4020  None   None     None        A  3496904695   \n",
        "23      08      009  00198120  08009       Baca       Baca County   06      H1  G4020  None   None     None        A  6617316468   \n",
        "\n",
        "      AWATER     INTPTLAT      INTPTLON                                            geom_in  \n",
        "31  41944233  +39.8743252  -104.3318718  POLYGON ((-104.582488 39.739636, -104.583622 3...  \n",
        "45   1847609  +37.5684423  -105.7880414  POLYGON ((-106.039302 37.577067, -106.0393 37....  \n",
        "61  19528578  +39.6446318  -104.3317329  (POLYGON ((-104.791368 39.566087, -104.792843 ...  \n",
        "22  13827548  +37.2023952  -107.0508634  POLYGON ((-107.254974 37.000005, -107.255055 3...  \n",
        "23   6142193  +37.3066778  -102.5377653  POLYGON ((-102.270228 36.994325, -102.270345 3...  \n"
       ]
      },
      {
       "metadata": {},
       "output_type": "pyout",
       "prompt_number": 33,
       "text": [
        "{'crs': {},\n",
        " 'driver': u'ESRI Shapefile',\n",
        " 'schema': {'geometry': 'Polygon',\n",
        "  'properties': OrderedDict([(u'STATEFP', 'str:2'), (u'COUNTYFP', 'str:3'), (u'COUNTYNS', 'str:8'), (u'GEOID', 'str:5'), (u'NAME', 'str:100'), (u'NAMELSAD', 'str:100'), (u'LSAD', 'str:2'), (u'CLASSFP', 'str:2'), (u'MTFCC', 'str:5'), (u'CSAFP', 'str:3'), (u'CBSAFP', 'str:5'), (u'METDIVFP', 'str:5'), (u'FUNCSTAT', 'str:1'), (u'ALAND', 'float:14'), (u'AWATER', 'float:14'), (u'INTPTLAT', 'str:11'), (u'INTPTLON', 'str:12')])}}"
       ]
      }
     ],
     "prompt_number": 33
    },
    {
     "cell_type": "markdown",
     "metadata": {},
     "source": [
      "Let's quickly validate the name overlap and remove any disparity that may arise.  Once this is done, we can assign colors."
     ]
    },
    {
     "cell_type": "code",
     "collapsed": false,
     "input": [
      "#Identify non-overlap\n",
      "print set(shp_df_sort['NAME'])^set(mapd['NAME'])\n",
      "\n",
      "#Drop problematic row\n",
      "mapd2=mapd[-(mapd['NAME']=='Unknown Or Undefined, Colorado')]\n",
      "\n",
      "#Define color mapper\n",
      "cmapper=color.color_mapper((mapd2['pcrev'].min(),mapd2['pcrev'].max()),cmap='Blues',start=.2)\n",
      "\n",
      "#Assign colors to counties based upon pcrev\n",
      "mapd2['color']=mapd2['pcrev'].apply(lambda x: cmapper(x))\n",
      "\n",
      "mapd2.head()"
     ],
     "language": "python",
     "metadata": {},
     "outputs": [
      {
       "output_type": "stream",
       "stream": "stdout",
       "text": [
        "set(['Unknown Or Undefined, Colorado'])\n"
       ]
      },
      {
       "html": [
        "<div style=\"max-height:1000px;max-width:1500px;overflow:auto;\">\n",
        "<table border=\"1\" class=\"dataframe\">\n",
        "  <thead>\n",
        "    <tr style=\"text-align: right;\">\n",
        "      <th></th>\n",
        "      <th>NAME</th>\n",
        "      <th>pcrev</th>\n",
        "      <th>color</th>\n",
        "    </tr>\n",
        "  </thead>\n",
        "  <tbody>\n",
        "    <tr>\n",
        "      <th>2184</th>\n",
        "      <td>     Adams</td>\n",
        "      <td>  964.792818</td>\n",
        "      <td> (0.735870834659, 0.841568636894, 0.92304498728...</td>\n",
        "    </tr>\n",
        "    <tr>\n",
        "      <th>2185</th>\n",
        "      <td>   Alamosa</td>\n",
        "      <td> 1093.298301</td>\n",
        "      <td> (0.711264915326, 0.831111121178, 0.91443291551...</td>\n",
        "    </tr>\n",
        "    <tr>\n",
        "      <th>2186</th>\n",
        "      <td>  Arapahoe</td>\n",
        "      <td>  484.565323</td>\n",
        "      <td> (0.805259527178, 0.878016154906, 0.94685121424...</td>\n",
        "    </tr>\n",
        "    <tr>\n",
        "      <th>2187</th>\n",
        "      <td> Archuleta</td>\n",
        "      <td> 1562.110861</td>\n",
        "      <td> (0.622683605727, 0.793464064598, 0.88342945716...</td>\n",
        "    </tr>\n",
        "    <tr>\n",
        "      <th>2188</th>\n",
        "      <td>      Baca</td>\n",
        "      <td> 1979.397529</td>\n",
        "      <td> (0.52313726895, 0.739192633769, 0.861545567653...</td>\n",
        "    </tr>\n",
        "  </tbody>\n",
        "</table>\n",
        "</div>"
       ],
       "metadata": {},
       "output_type": "pyout",
       "prompt_number": 34,
       "text": [
        "           NAME        pcrev                                              color\n",
        "2184      Adams   964.792818  (0.735870834659, 0.841568636894, 0.92304498728...\n",
        "2185    Alamosa  1093.298301  (0.711264915326, 0.831111121178, 0.91443291551...\n",
        "2186   Arapahoe   484.565323  (0.805259527178, 0.878016154906, 0.94685121424...\n",
        "2187  Archuleta  1562.110861  (0.622683605727, 0.793464064598, 0.88342945716...\n",
        "2188       Baca  1979.397529  (0.52313726895, 0.739192633769, 0.861545567653..."
       ]
      }
     ],
     "prompt_number": 34
    },
    {
     "cell_type": "markdown",
     "metadata": {},
     "source": [
      "Let's define a little mapping function (stolen from a Notebook from a work assignment)."
     ]
    },
    {
     "cell_type": "code",
     "collapsed": false,
     "input": [
      "#Generate plot object\n",
      "fig,ax=plt.subplots(figsize=(16,14))\n",
      "\n",
      "#Define function to plot map\n",
      "def map_plot(title,color=None,one_color=None,ax=ax,labels=False,bf_size=16):\n",
      "    #Set scope of plot\n",
      "    minx,miny,maxx,maxy=unary_union(list(shp_df_sort['geom_in'])).bounds\n",
      "    w,h=maxx-minx,maxy-miny\n",
      "    ax.set_xlim(minx-.2*w,maxx+.2*w)\n",
      "    ax.set_ylim(miny-.2*h,maxy+.2*h)\n",
      "\n",
      "    #Create container for polygon patches\n",
      "    poly_patches=[]\n",
      "    \n",
      "    #For each polygon...\n",
      "    for i,poly in enumerate(list(shp_df_sort['geom_in'])):\n",
      "        #print list(shp_df_sort['NAME'])[i],list(mapd2['NAME'])[i]\n",
      "        #...generate a patch representing the neighborhood and throw it in the list\n",
      "        if poly.geom_type=='Polygon':\n",
      "#             print 'WE HAVE COLOR!!!'\n",
      "            poly_patches.append(PolygonPatch(poly,fc=color[i],ec='#FFFFFF',lw=1,alpha=1,zorder=1))\n",
      "        else:\n",
      "            for subpoly in poly:\n",
      "                poly_patches.append(PolygonPatch(subpoly,fc=color[i],ec='#FFFFFF',lw=1,alpha=1,zorder=1))\n",
      "            \n",
      "    #Add the patches to the plot object en masse\n",
      "    ax.add_collection(PatchCollection(poly_patches,match_original=True))\n",
      "    \n",
      "    #Set aspect ratio\n",
      "    ax.set_aspect(1)\n",
      "    \n",
      "    #Remove ticks\n",
      "    ax.set_xticks([])\n",
      "    ax.set_yticks([])\n",
      "    \n",
      "    #Set title\n",
      "    ax.set_title(title,fontsize=16)\n",
      "    \n",
      "    #Set background color\n",
      "    ax.patch.set_facecolor('white')\n",
      "    \n",
      "    #Maximize plot usage\n",
      "    plt.tight_layout()\n",
      "    \n",
      "map_plot('',color=list(mapd2['color']))\n",
      "plt.savefig('../out/figures/pcrev_map.svg')"
     ],
     "language": "python",
     "metadata": {},
     "outputs": [
      {
       "metadata": {},
       "output_type": "display_data",
       "png": "[encoded data removed]",
       "text": [
        "<matplotlib.figure.Figure at 0x7f6cacfe8850>"
       ]
      }
     ],
     "prompt_number": 35
    },
    {
     "cell_type": "code",
     "collapsed": false,
     "input": [],
     "language": "python",
     "metadata": {},
     "outputs": [],
     "prompt_number": 35
    },
    {
     "cell_type": "code",
     "collapsed": false,
     "input": [],
     "language": "python",
     "metadata": {},
     "outputs": [],
     "prompt_number": 35
    }
   ],
   "metadata": {}
  }
 ]
}